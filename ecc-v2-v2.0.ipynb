{
 "cells": [
  {
   "cell_type": "code",
   "execution_count": 1,
   "metadata": {},
   "outputs": [
    {
     "name": "stderr",
     "output_type": "stream",
     "text": [
      "/Users/michael-tu/anaconda/lib/python3.6/site-packages/h5py/__init__.py:34: FutureWarning: Conversion of the second argument of issubdtype from `float` to `np.floating` is deprecated. In future, it will be treated as `np.float64 == np.dtype(float).type`.\n",
      "  from ._conv import register_converters as _register_converters\n"
     ]
    }
   ],
   "source": [
    "import numpy as np\n",
    "import tensorflow as tf\n",
    "import os\n",
    "import matplotlib.pyplot as plt\n",
    "%matplotlib inline\n",
    "import pickle"
   ]
  },
  {
   "cell_type": "code",
   "execution_count": 3,
   "metadata": {},
   "outputs": [],
   "source": [
    "import keras\n",
    "from keras import regularizers\n",
    "from keras import backend as K\n",
    "from keras.optimizers import Adam\n",
    "from keras.models import Model, Sequential\n",
    "from keras.layers import Dense, Input, Activation, Dropout, BatchNormalization, Flatten, Reshape\n",
    "from keras.layers import Conv2D, MaxPooling2D, AveragePooling2D, UpSampling2D\n",
    "from keras.layers import Conv1D, MaxPooling1D, AveragePooling1D, UpSampling1D\n",
    "from keras.optimizers import Adam, SGD"
   ]
  },
  {
   "cell_type": "code",
   "execution_count": 4,
   "metadata": {
    "collapsed": true
   },
   "outputs": [],
   "source": [
    "def load_data(path):\n",
    "    return pickle.load(open(path, \"rb\"))"
   ]
  },
  {
   "cell_type": "code",
   "execution_count": 5,
   "metadata": {},
   "outputs": [
    {
     "data": {
      "text/plain": [
       "['data/viterbi_dump_k1_n100.pk',\n",
       " 'data/viterbi_dump_k2_n100.pk',\n",
       " 'data/viterbi_dump_k3_n100.pk',\n",
       " 'data/viterbi_dump_k4_n100.pk',\n",
       " 'data/viterbi_dump_k5_n100.pk',\n",
       " 'data/viterbi_dump_k6_n100.pk',\n",
       " 'data/viterbi_dump_k7_n100.pk',\n",
       " 'data/viterbi_dump_k8_n100.pk',\n",
       " 'data/viterbi_dump_k9_n100.pk',\n",
       " 'data/viterbi_dump_k10_n100.pk']"
      ]
     },
     "execution_count": 5,
     "metadata": {},
     "output_type": "execute_result"
    }
   ],
   "source": [
    "data_sources = [\"data/viterbi_dump_k{0}_n100.pk\".format(i) for i in range(1,11)]\n",
    "data_sources"
   ]
  },
  {
   "cell_type": "code",
   "execution_count": 6,
   "metadata": {},
   "outputs": [
    {
     "data": {
      "text/plain": [
       "dict_keys(['d1', 'd2', 'd3', 'd4', 'd5', 'd6', 'd7', 'd8', 'd9', 'd10'])"
      ]
     },
     "execution_count": 6,
     "metadata": {},
     "output_type": "execute_result"
    }
   ],
   "source": [
    "# load data\n",
    "data = {\"d{0}\".format(i+1): load_data(data_sources[i]) for i in range(0, 10)}\n",
    "data.keys()"
   ]
  },
  {
   "cell_type": "code",
   "execution_count": 7,
   "metadata": {
    "collapsed": true
   },
   "outputs": [],
   "source": [
    "probs = [0.1, 0.5, 0.81]\n",
    "\n",
    "err   = [0.05, 0.1, 0.15, 0.2, 0.3, 0.5, 0.8]\n",
    "\n",
    "Ls    = [3, 5]"
   ]
  },
  {
   "cell_type": "code",
   "execution_count": 8,
   "metadata": {
    "collapsed": true
   },
   "outputs": [],
   "source": [
    "def show_example(data, i):\n",
    "    print(\"Original Message:\\n\", data[0][i])\n",
    "    print(\"Encoded Noisy Message:\\n\", data[1][i])\n",
    "    print(\"Viterbi Decoded Message:\\n\", data[2][i])"
   ]
  },
  {
   "cell_type": "code",
   "execution_count": 14,
   "metadata": {},
   "outputs": [
    {
     "name": "stdout",
     "output_type": "stream",
     "text": [
      "idx:  26\n",
      "Original Message:\n",
      " [1. 1. 1. 0. 1.]\n",
      "Encoded Noisy Message:\n",
      " [1 1 1 0 0 1 1 0 0 0 0 1 1 1]\n",
      "Viterbi Decoded Message:\n",
      " [1 1 1 0 1 0 0]\n",
      "\n",
      "\n",
      "idx:  36\n",
      "Original Message:\n",
      " [1. 1. 1. 1. 1.]\n",
      "Encoded Noisy Message:\n",
      " [1 1 1 0 0 1 0 1 0 1 0 0 1 1]\n",
      "Viterbi Decoded Message:\n",
      " [1 1 1 1 1 0 0]\n",
      "\n",
      "\n",
      "idx:  25\n",
      "Original Message:\n",
      " [0. 1. 1. 0. 1.]\n",
      "Encoded Noisy Message:\n",
      " [0 0 1 1 1 0 1 1 0 0 1 1 1 1]\n",
      "Viterbi Decoded Message:\n",
      " [0 1 1 0 1 0 0]\n",
      "\n",
      "\n"
     ]
    }
   ],
   "source": [
    "for i in range(3):\n",
    "    idx = np.random.randint(low=0, high=len(data[\"d5\"]))\n",
    "    print(\"idx: \", idx)\n",
    "    show_example(data[\"d5\"][(0.81, 0.05, 3)], idx)\n",
    "    print(\"\\n\")"
   ]
  },
  {
   "cell_type": "code",
   "execution_count": 15,
   "metadata": {
    "collapsed": true
   },
   "outputs": [],
   "source": [
    "def prepare_data(data, length=3, source_channels=None):\n",
    "    msg, noisy_encode, viterbi_decode = list(), list(), list()\n",
    "    if source_channels:\n",
    "        for source in source_channels:\n",
    "            if source[2] == length:\n",
    "                for i in range(len(data[source][0])):\n",
    "                    msg.append(data[source][0][i].astype(\"float64\"))\n",
    "                    noisy_encode.append(data[source][1][i].astype(\"float64\"))\n",
    "                    viterbi_decode.append(data[source][2][i][:len(data[source][0][i])].astype(\"float64\"))\n",
    "    else:\n",
    "        for i in range(len(data[0])):\n",
    "            msg.append(data[0][i].astype(\"float64\"))\n",
    "            noisy_encode.append(data[1][i].astype(\"float64\"))\n",
    "            viterbi_decode.append(data[2][i][:len(data[0][i])].astype(\"float64\"))\n",
    "\n",
    "    return  np.array(msg),\\\n",
    "            np.array(noisy_encode),\\\n",
    "            np.array(viterbi_decode).astype(\"float64\")"
   ]
  },
  {
   "cell_type": "code",
   "execution_count": 16,
   "metadata": {
    "collapsed": true
   },
   "outputs": [],
   "source": [
    "msg, noisy_encode, viterbi_decode = prepare_data(data[\"d5\"][(0.81, 0.05, 3)])"
   ]
  },
  {
   "cell_type": "code",
   "execution_count": 17,
   "metadata": {},
   "outputs": [
    {
     "name": "stdout",
     "output_type": "stream",
     "text": [
      "[1. 1. 1. 1. 0.]\n",
      "[1. 1. 1. 1. 0.]\n"
     ]
    }
   ],
   "source": [
    "n = 20\n",
    "print(msg[n])\n",
    "print(viterbi_decode[n])"
   ]
  },
  {
   "cell_type": "code",
   "execution_count": 18,
   "metadata": {},
   "outputs": [
    {
     "name": "stdout",
     "output_type": "stream",
     "text": [
      "(100, 5)\n",
      "(100, 14)\n",
      "(100, 5)\n"
     ]
    }
   ],
   "source": [
    "print(msg.shape)\n",
    "print(noisy_encode.shape)\n",
    "print(viterbi_decode.shape)"
   ]
  },
  {
   "cell_type": "code",
   "execution_count": 19,
   "metadata": {
    "collapsed": true
   },
   "outputs": [],
   "source": [
    "def accuracy(msg, pred):\n",
    "    return np.sum(msg == pred) / np.product(pred.shape)"
   ]
  },
  {
   "cell_type": "code",
   "execution_count": 20,
   "metadata": {},
   "outputs": [
    {
     "data": {
      "text/plain": [
       "0.992"
      ]
     },
     "execution_count": 20,
     "metadata": {},
     "output_type": "execute_result"
    }
   ],
   "source": [
    "accuracy(msg, viterbi_decode)"
   ]
  },
  {
   "cell_type": "markdown",
   "metadata": {},
   "source": [
    "## Baseline viterbi_decoding accuracies:"
   ]
  },
  {
   "cell_type": "code",
   "execution_count": 21,
   "metadata": {
    "collapsed": true
   },
   "outputs": [],
   "source": [
    "accuracies = dict()\n",
    "for k in data:\n",
    "    accuracies[k] = dict()\n",
    "    for source_channel in data[k]:\n",
    "        msg, _, viterbi_decode = prepare_data(data[k][source_channel])\n",
    "        accuracies[k][source_channel] = accuracy(msg, viterbi_decode)"
   ]
  },
  {
   "cell_type": "code",
   "execution_count": 22,
   "metadata": {
    "collapsed": true
   },
   "outputs": [],
   "source": [
    "average_accuracies_per_k = dict()\n",
    "for k in accuracies:\n",
    "    average_accuracies_per_k[k] = 0\n",
    "    for source_channel in accuracies[k]:\n",
    "        average_accuracies_per_k[k] += accuracies[k][source_channel]\n",
    "    average_accuracies_per_k[k] /= len(accuracies[k].keys())"
   ]
  },
  {
   "cell_type": "code",
   "execution_count": 23,
   "metadata": {},
   "outputs": [
    {
     "data": {
      "text/plain": [
       "[<matplotlib.lines.Line2D at 0x1141cdfd0>]"
      ]
     },
     "execution_count": 23,
     "metadata": {},
     "output_type": "execute_result"
    },
    {
     "data": {
      "image/png": "[encoded data removed]",
      "text/plain": [
       "<matplotlib.figure.Figure at 0x1141b9048>"
      ]
     },
     "metadata": {},
     "output_type": "display_data"
    }
   ],
   "source": [
    "x = [int(x[1:]) for x in list(average_accuracies_per_k.keys())]\n",
    "y = list(average_accuracies_per_k.values())\n",
    "\n",
    "plt.title(\"average accuracy among all generation channels vs. k\")\n",
    "plt.xlabel(\"k\")\n",
    "plt.ylabel(\"accuracy\")\n",
    "plt.plot(x, y, \"g-o\")"
   ]
  },
  {
   "cell_type": "markdown",
   "metadata": {},
   "source": [
    "# Examine Encoding Lengths (Ls)"
   ]
  },
  {
   "cell_type": "code",
   "execution_count": 24,
   "metadata": {},
   "outputs": [
    {
     "name": "stdout",
     "output_type": "stream",
     "text": [
      "source (0.1, 0.05, 3) has encoding length:\t6\n",
      "source (0.1, 0.05, 5) has encoding length:\t10\n",
      "source (0.1, 0.1, 3) has encoding length:\t6\n",
      "source (0.1, 0.1, 5) has encoding length:\t10\n",
      "source (0.1, 0.15, 3) has encoding length:\t6\n",
      "source (0.1, 0.15, 5) has encoding length:\t10\n",
      "source (0.1, 0.2, 3) has encoding length:\t6\n",
      "source (0.1, 0.2, 5) has encoding length:\t10\n",
      "source (0.1, 0.3, 3) has encoding length:\t6\n",
      "source (0.1, 0.3, 5) has encoding length:\t10\n",
      "source (0.1, 0.5, 3) has encoding length:\t6\n",
      "source (0.1, 0.5, 5) has encoding length:\t10\n",
      "source (0.1, 0.8, 3) has encoding length:\t6\n",
      "source (0.1, 0.8, 5) has encoding length:\t10\n",
      "source (0.5, 0.05, 3) has encoding length:\t6\n",
      "source (0.5, 0.05, 5) has encoding length:\t10\n",
      "source (0.5, 0.1, 3) has encoding length:\t6\n",
      "source (0.5, 0.1, 5) has encoding length:\t10\n",
      "source (0.5, 0.15, 3) has encoding length:\t6\n",
      "source (0.5, 0.15, 5) has encoding length:\t10\n",
      "source (0.5, 0.2, 3) has encoding length:\t6\n",
      "source (0.5, 0.2, 5) has encoding length:\t10\n",
      "source (0.5, 0.3, 3) has encoding length:\t6\n",
      "source (0.5, 0.3, 5) has encoding length:\t10\n",
      "source (0.5, 0.5, 3) has encoding length:\t6\n",
      "source (0.5, 0.5, 5) has encoding length:\t10\n",
      "source (0.5, 0.8, 3) has encoding length:\t6\n",
      "source (0.5, 0.8, 5) has encoding length:\t10\n",
      "source (0.81, 0.05, 3) has encoding length:\t6\n",
      "source (0.81, 0.05, 5) has encoding length:\t10\n",
      "source (0.81, 0.1, 3) has encoding length:\t6\n",
      "source (0.81, 0.1, 5) has encoding length:\t10\n",
      "source (0.81, 0.15, 3) has encoding length:\t6\n",
      "source (0.81, 0.15, 5) has encoding length:\t10\n",
      "source (0.81, 0.2, 3) has encoding length:\t6\n",
      "source (0.81, 0.2, 5) has encoding length:\t10\n",
      "source (0.81, 0.3, 3) has encoding length:\t6\n",
      "source (0.81, 0.3, 5) has encoding length:\t10\n",
      "source (0.81, 0.5, 3) has encoding length:\t6\n",
      "source (0.81, 0.5, 5) has encoding length:\t10\n",
      "source (0.81, 0.8, 3) has encoding length:\t6\n",
      "source (0.81, 0.8, 5) has encoding length:\t10\n"
     ]
    }
   ],
   "source": [
    "# Encoding length given different source channels\n",
    "for source in data[\"d1\"].keys():\n",
    "    _, x, _ = prepare_data(data[\"d1\"][source])\n",
    "    print(\"source {0} has encoding length:\\t{1}\".format(source, x.shape[1]))"
   ]
  },
  {
   "cell_type": "markdown",
   "metadata": {},
   "source": [
    "# Model"
   ]
  },
  {
   "cell_type": "code",
   "execution_count": 25,
   "metadata": {
    "collapsed": true
   },
   "outputs": [],
   "source": [
    "def train_test_split(X, y, ratio=0.2):\n",
    "    indicies = np.arange(len(X), dtype=np.int32)\n",
    "    np.random.shuffle(indicies)\n",
    "    \n",
    "    split_inx = int(len(X) * (1-ratio))\n",
    "    X_train, X_test = X[indicies[:split_inx]], X[indicies[split_inx:]]\n",
    "    y_train, y_test = y[indicies[:split_inx]], y[indicies[split_inx:]]\n",
    "    return X_train, X_test, y_train, y_test"
   ]
  },
  {
   "cell_type": "code",
   "execution_count": 26,
   "metadata": {
    "collapsed": true
   },
   "outputs": [],
   "source": [
    "# PARAMETERS\n",
    "source_channels = [(0.1, 0.05, 3),(0.1, 0.05, 5),(0.1, 0.1, 3),\n",
    "                   (0.1, 0.1, 5),(0.1, 0.15, 3),(0.1, 0.15, 5),\n",
    "                   (0.1, 0.2, 3),(0.1, 0.2, 5),(0.1, 0.3, 3),\n",
    "                   (0.1, 0.3, 5),(0.1, 0.5, 3),(0.1, 0.5, 5),\n",
    "                   (0.1, 0.8, 3),(0.1, 0.8, 5),(0.5, 0.05, 3),\n",
    "                   (0.5, 0.05, 5),(0.5, 0.1, 3),(0.5, 0.1, 5),\n",
    "                   (0.5, 0.15, 3),(0.5, 0.15, 5),(0.5, 0.2, 3),\n",
    "                   (0.5, 0.2, 5),(0.5, 0.3, 3),(0.5, 0.3, 5),\n",
    "                   (0.5, 0.5, 3),(0.5, 0.5, 5),(0.5, 0.8, 3),(0.5, 0.8, 5)]\n",
    "data_source_num = 5\n",
    "encoding_length = 3\n",
    "BATCH_SIZE = 128\n",
    "EPOCHS = 50\n",
    "verbose = 0\n",
    "validation_split = 0.2\n",
    "ACTIVATION = \"relu\"\n",
    "l2_reg_strength = 0.001\n",
    "LR = 0.005\n",
    "optimizer = \"adam\" # \"sgd\""
   ]
  },
  {
   "cell_type": "code",
   "execution_count": 927,
   "metadata": {
    "collapsed": true
   },
   "outputs": [],
   "source": [
    "y, X, _ = prepare_data(data[\"d{0}\".format(data_source_num)], \n",
    "                       length=encoding_length, source_channels=source_channels)\n",
    "\n",
    "X_train, X_test, y_train, y_test = train_test_split(X, y)\n",
    "\n",
    "y_train_onehot, y_test_onehot = one_hot_dataset(y_train), one_hot_dataset(y_test)"
   ]
  },
  {
   "cell_type": "code",
   "execution_count": 935,
   "metadata": {
    "collapsed": true
   },
   "outputs": [],
   "source": [
    "architecture = [128,100,100]"
   ]
  },
  {
   "cell_type": "code",
   "execution_count": 929,
   "metadata": {
    "collapsed": true
   },
   "outputs": [],
   "source": [
    "model = Sequential()\n",
    "for i, hidden in enumerate(architecture):\n",
    "    if i == 0:\n",
    "        model.add(Dense(hidden,  activation=ACTIVATION, input_shape=X_train.shape[1:], \n",
    "                        kernel_regularizer=regularizers.l2(l2_reg_strength)))\n",
    "    else:\n",
    "        model.add(Dense(hidden,  activation=ACTIVATION, \n",
    "                        kernel_regularizer=regularizers.l2(l2_reg_strength)))\n",
    "        \n",
    "model.add(Dense(y_train_onehot.shape[1] * 2, activation=\"sigmoid\"))\n",
    "model.add(Reshape((y_train_onehot.shape[1], 2)))"
   ]
  },
  {
   "cell_type": "code",
   "execution_count": 930,
   "metadata": {},
   "outputs": [
    {
     "data": {
      "text/plain": [
       "<keras.callbacks.History at 0x132ccc6a0>"
      ]
     },
     "execution_count": 930,
     "metadata": {},
     "output_type": "execute_result"
    }
   ],
   "source": [
    "if optimizer == \"adam\":\n",
    "    opt = Adam(lr=LR, beta_1=0.9, beta_2=0.999, epsilon=None, decay=0.0, amsgrad=False)\n",
    "else:\n",
    "    opt = SGD(lr=LR, decay=1e-6, momentum=0.9, nesterov=True)\n",
    "                           \n",
    "model.compile(optimizer=opt, loss='binary_crossentropy', metrics=['accuracy'])\n",
    "model.fit(X_train, y_train_onehot, batch_size=BATCH_SIZE, epochs=EPOCHS, verbose=verbose, \n",
    "              validation_split=validation_split, shuffle=True)"
   ]
  },
  {
   "cell_type": "code",
   "execution_count": 931,
   "metadata": {},
   "outputs": [
    {
     "name": "stdout",
     "output_type": "stream",
     "text": [
      "280/280 [==============================] - 0s 86us/step\n",
      "test accuracy: 0.7646428550992693\n"
     ]
    }
   ],
   "source": [
    "print(\"test accuracy:\", model.evaluate(X_test, y_test_onehot)[1])"
   ]
  },
  {
   "cell_type": "code",
   "execution_count": 27,
   "metadata": {
    "collapsed": true
   },
   "outputs": [],
   "source": [
    "def one_hot(data):\n",
    "    res = []\n",
    "    for d in data:\n",
    "        res.append([0,0])\n",
    "        res[-1][int(d)] = 1\n",
    "    return np.array(res)\n",
    "\n",
    "def one_hot_dataset(dataset):\n",
    "    return np.array(list(map(lambda x: one_hot(x), dataset)))\n",
    "\n",
    "def pred_to_decode(pred, threshold=\"argmax\"):\n",
    "    if type(threshold) == float:\n",
    "        return np.vstack([1 if x >= threshold else 0 for x in pred])\n",
    "    elif type(threshold) == str:\n",
    "        if threshold == \"argmax\":\n",
    "            return np.vstack([np.argmax(x, axis=1) for x in pred])\n",
    "    else:\n",
    "        return np.vstack(pred)\n",
    "    \n",
    "def compare_result(model, threshold=0.5):\n",
    "    idx = np.random.randint(low=0, high=len(X_test)+1)\n",
    "    test_x, test_y = X_test[idx:idx+1], y_test_onehot[idx]\n",
    "    print(\"Expected: \", [np.argmax(x) for x in test_y])\n",
    "    pred = model.predict(test_x)\n",
    "    print(\"Deocde:   \", pred_to_decode(pred, threshold=threshold)[0])\n",
    "    \n",
    "def evaluate(X, y, model):\n",
    "    y_pred = pred_to_decode(model.predict(X), threshold=\"argmax\")\n",
    "    return accuracy(y, y_pred)"
   ]
  },
  {
   "cell_type": "code",
   "execution_count": 933,
   "metadata": {},
   "outputs": [
    {
     "name": "stdout",
     "output_type": "stream",
     "text": [
      "Expected:  [0, 1, 0, 1, 1]\n",
      "Deocde:    [0 0 0 1 0]\n",
      "\n",
      "Expected:  [1, 0, 0, 0, 1]\n",
      "Deocde:    [1 0 0 0 1]\n",
      "\n",
      "Expected:  [0, 0, 0, 0, 1]\n",
      "Deocde:    [0 0 0 0 0]\n",
      "\n",
      "Expected:  [0, 0, 0, 0, 0]\n",
      "Deocde:    [0 0 0 0 0]\n",
      "\n",
      "Expected:  [0, 0, 0, 0, 1]\n",
      "Deocde:    [0 0 0 0 0]\n",
      "\n",
      "Expected:  [1, 0, 1, 0, 1]\n",
      "Deocde:    [1 0 1 0 0]\n",
      "\n"
     ]
    }
   ],
   "source": [
    "for i in range(6):\n",
    "    compare_result(model, threshold=\"argmax\")\n",
    "    print()"
   ]
  },
  {
   "cell_type": "code",
   "execution_count": 934,
   "metadata": {
    "scrolled": true
   },
   "outputs": [
    {
     "data": {
      "text/plain": [
       "0.7642857142857142"
      ]
     },
     "execution_count": 934,
     "metadata": {},
     "output_type": "execute_result"
    }
   ],
   "source": [
    "evaluate(X_test, y_test, model)"
   ]
  },
  {
   "cell_type": "markdown",
   "metadata": {},
   "source": [
    "# Architecture Search"
   ]
  },
  {
   "cell_type": "code",
   "execution_count": 28,
   "metadata": {
    "collapsed": true
   },
   "outputs": [],
   "source": [
    "FNN_ARCHITECTURE = [\n",
    "    [32, 100],\n",
    "    [64, 100],\n",
    "    [128, 100],\n",
    "    [256, 100],\n",
    "    [32, 32, 100],\n",
    "    [32, 64, 100],\n",
    "    [64, 64, 100],\n",
    "    [64, 128, 100],\n",
    "    [128, 128, 100],\n",
    "    [128, 256, 100],\n",
    "    [256, 256, 100],\n",
    "    [32,128,128,100],\n",
    "    [32,128,256,100],\n",
    "    [32,256,256,100],\n",
    "    [32,128,256,128,100],\n",
    "    [32,128,128,128,100],\n",
    "    [1024,512,100],\n",
    "    [512,256,100],\n",
    "    [256,128,100],\n",
    "    [128,100,100]\n",
    "]"
   ]
  },
  {
   "cell_type": "code",
   "execution_count": 29,
   "metadata": {
    "collapsed": true
   },
   "outputs": [],
   "source": [
    "# PARAMETERS\n",
    "source_channels = [(0.1, 0.05, 3),(0.1, 0.05, 5),(0.1, 0.1, 3),\n",
    "                   (0.1, 0.1, 5),(0.1, 0.15, 3),(0.1, 0.15, 5),\n",
    "                   (0.1, 0.2, 3),(0.1, 0.2, 5),(0.1, 0.3, 3),\n",
    "                   (0.1, 0.3, 5),(0.1, 0.5, 3),(0.1, 0.5, 5),\n",
    "                   (0.1, 0.8, 3),(0.1, 0.8, 5),(0.5, 0.05, 3),\n",
    "                   (0.5, 0.05, 5),(0.5, 0.1, 3),(0.5, 0.1, 5),\n",
    "                   (0.5, 0.15, 3),(0.5, 0.15, 5),(0.5, 0.2, 3),\n",
    "                   (0.5, 0.2, 5),(0.5, 0.3, 3),(0.5, 0.3, 5),\n",
    "                   (0.5, 0.5, 3),(0.5, 0.5, 5),(0.5, 0.8, 3),(0.5, 0.8, 5)]\n",
    "data_source_num = 5\n",
    "encoding_length = 3\n",
    "BATCH_SIZE = 64\n",
    "EPOCHS = 50\n",
    "verbose = 0\n",
    "validation_split = 0.2\n",
    "ACTIVATION = \"relu\"\n",
    "l2_reg_strength = 0.001\n",
    "LR = 0.015\n",
    "optimizer = \"adam\" # \"sgd\""
   ]
  },
  {
   "cell_type": "code",
   "execution_count": 973,
   "metadata": {
    "collapsed": true
   },
   "outputs": [],
   "source": [
    "y, X, _ = prepare_data(data[\"d{0}\".format(data_source_num)], \n",
    "                       length=encoding_length, source_channels=source_channels)\n",
    "\n",
    "X_train, X_test, y_train, y_test = train_test_split(X, y)\n",
    "\n",
    "y_train_onehot, y_test_onehot = one_hot_dataset(y_train), one_hot_dataset(y_test)"
   ]
  },
  {
   "cell_type": "code",
   "execution_count": 30,
   "metadata": {
    "collapsed": true
   },
   "outputs": [],
   "source": [
    "def build_train_model(architecture):\n",
    "    model = Sequential()\n",
    "    for i, hidden in enumerate(architecture):\n",
    "        if i == 0:\n",
    "            model.add(Dense(hidden,  activation=ACTIVATION, input_shape=X_train.shape[1:], \n",
    "                            kernel_regularizer=regularizers.l2(l2_reg_strength)))\n",
    "        else:\n",
    "            model.add(Dense(hidden,  activation=ACTIVATION, \n",
    "                            kernel_regularizer=regularizers.l2(l2_reg_strength)))\n",
    "\n",
    "    model.add(Dense(y_train_onehot.shape[1] * 2, activation=\"sigmoid\"))\n",
    "    model.add(Reshape((y_train_onehot.shape[1], 2)))\n",
    "    if optimizer == \"adam\":\n",
    "        opt = Adam(lr=LR, beta_1=0.9, beta_2=0.999, epsilon=None, decay=0.0, amsgrad=False)\n",
    "    else:\n",
    "        opt = SGD(lr=LR, decay=1e-6, momentum=0.9, nesterov=True)\n",
    "\n",
    "    model.compile(optimizer=opt, loss='binary_crossentropy', metrics=['accuracy'])\n",
    "    model.fit(X_train, y_train_onehot, batch_size=BATCH_SIZE, epochs=EPOCHS, verbose=verbose, \n",
    "                  validation_split=validation_split, shuffle=True)\n",
    "    \n",
    "    return model, model.evaluate(X_test, y_test_onehot)[1]"
   ]
  },
  {
   "cell_type": "code",
   "execution_count": 976,
   "metadata": {},
   "outputs": [
    {
     "name": "stdout",
     "output_type": "stream",
     "text": [
      "280/280 [==============================] - 0s 102us/step\n",
      "280/280 [==============================] - 0s 76us/step\n",
      "280/280 [==============================] - 0s 111us/step\n",
      "280/280 [==============================] - 0s 88us/step\n",
      "280/280 [==============================] - 0s 73us/step\n",
      "280/280 [==============================] - 0s 91us/step\n",
      "280/280 [==============================] - 0s 77us/step\n",
      "280/280 [==============================] - 0s 71us/step\n",
      "280/280 [==============================] - 0s 73us/step\n",
      "280/280 [==============================] - 0s 95us/step\n",
      "280/280 [==============================] - 0s 100us/step\n",
      "280/280 [==============================] - 0s 74us/step\n",
      "280/280 [==============================] - 0s 115us/step\n",
      "280/280 [==============================] - 0s 84us/step\n",
      "280/280 [==============================] - 0s 168us/step\n",
      "280/280 [==============================] - 0s 105us/step\n",
      "280/280 [==============================] - 0s 142us/step\n",
      "280/280 [==============================] - 0s 112us/step\n",
      "280/280 [==============================] - 0s 85us/step\n",
      "280/280 [==============================] - 0s 132us/step\n",
      "done\n"
     ]
    }
   ],
   "source": [
    "models = {}\n",
    "losses = {}\n",
    "for architecture in FNN_ARCHITECTURE:\n",
    "    name = \"model-[{0}]\".format(\",\".join([str(x) for x in architecture]))\n",
    "    print(\"  evaluating {0}....\".format(name), end=\"\\r\")\n",
    "    m, l = build_train_model(architecture)\n",
    "    models[name] = m\n",
    "    losses[name] = l\n",
    "print(\"done\")"
   ]
  },
  {
   "cell_type": "code",
   "execution_count": 977,
   "metadata": {},
   "outputs": [
    {
     "name": "stdout",
     "output_type": "stream",
     "text": [
      "best model is model-[32,100] with loss 0.79464\n"
     ]
    }
   ],
   "source": [
    "best_model_name = list(losses.keys())[np.argmax(list(losses.values()))]\n",
    "best_model = models[best_model_name]\n",
    "print(\"best model is {0} with loss {1:.5}\".format(best_model_name, losses[best_model_name]))"
   ]
  },
  {
   "cell_type": "code",
   "execution_count": 979,
   "metadata": {},
   "outputs": [
    {
     "data": {
      "text/plain": [
       "{'model-[1024,512,100]': 0.7596428462437221,\n",
       " 'model-[128,100,100]': 0.7742857098579407,\n",
       " 'model-[128,100]': 0.7803571496691023,\n",
       " 'model-[128,128,100]': 0.7828571285520282,\n",
       " 'model-[128,256,100]': 0.775357130595616,\n",
       " 'model-[256,100]': 0.7882142867360796,\n",
       " 'model-[256,128,100]': 0.7721428598676409,\n",
       " 'model-[256,256,100]': 0.7700000013623919,\n",
       " 'model-[32,100]': 0.7946428639548165,\n",
       " 'model-[32,128,128,100]': 0.6896428499902998,\n",
       " 'model-[32,128,128,128,100]': 0.6914285830089024,\n",
       " 'model-[32,128,256,100]': 0.6914285830089024,\n",
       " 'model-[32,128,256,128,100]': 0.6803571530750819,\n",
       " 'model-[32,256,256,100]': 0.7321428520338876,\n",
       " 'model-[32,32,100]': 0.7789285796029227,\n",
       " 'model-[32,64,100]': 0.7824999894414629,\n",
       " 'model-[512,256,100]': 0.7796428595270429,\n",
       " 'model-[64,100]': 0.7882142867360796,\n",
       " 'model-[64,128,100]': 0.7628571340015956,\n",
       " 'model-[64,64,100]': 0.7807142853736877}"
      ]
     },
     "execution_count": 979,
     "metadata": {},
     "output_type": "execute_result"
    }
   ],
   "source": [
    "losses"
   ]
  },
  {
   "cell_type": "code",
   "execution_count": 981,
   "metadata": {},
   "outputs": [
    {
     "data": {
      "text/plain": [
       "0.7964285714285714"
      ]
     },
     "execution_count": 981,
     "metadata": {},
     "output_type": "execute_result"
    }
   ],
   "source": [
    "evaluate(X_test, y_test, best_model)"
   ]
  },
  {
   "cell_type": "code",
   "execution_count": 984,
   "metadata": {},
   "outputs": [
    {
     "name": "stdout",
     "output_type": "stream",
     "text": [
      "Expected:  [0, 0, 1, 1, 0]\n",
      "Deocde:    [0 0 1 1 0]\n",
      "\n",
      "Expected:  [0, 1, 1, 0, 0]\n",
      "Deocde:    [0 0 0 0 0]\n",
      "\n",
      "Expected:  [1, 0, 1, 1, 1]\n",
      "Deocde:    [0 0 0 1 1]\n",
      "\n",
      "Expected:  [0, 0, 0, 1, 0]\n",
      "Deocde:    [0 0 0 0 0]\n",
      "\n",
      "Expected:  [0, 0, 0, 0, 0]\n",
      "Deocde:    [0 0 1 1 0]\n",
      "\n",
      "Expected:  [1, 1, 0, 1, 1]\n",
      "Deocde:    [1 1 0 0 1]\n",
      "\n"
     ]
    }
   ],
   "source": [
    "for i in range(6):\n",
    "    compare_result(best_model, threshold=\"argmax\")\n",
    "    print()"
   ]
  },
  {
   "cell_type": "code",
   "execution_count": 985,
   "metadata": {
    "collapsed": true
   },
   "outputs": [],
   "source": [
    "# best_model.save(\"models/k5-l3-fnn-{0}.h5\".format(best_model_name))"
   ]
  },
  {
   "cell_type": "markdown",
   "metadata": {},
   "source": [
    "# Accuracy as a function of k"
   ]
  },
  {
   "cell_type": "code",
   "execution_count": 31,
   "metadata": {
    "collapsed": true
   },
   "outputs": [],
   "source": [
    "# encoding_length = 3\n",
    "encoding_length = 3\n",
    "architecture = [32,100]\n",
    "# PARAMETERS\n",
    "source_channels = [(0.1, 0.05, 3),(0.1, 0.05, 5),(0.1, 0.1, 3),\n",
    "                   (0.1, 0.1, 5),(0.1, 0.15, 3),(0.1, 0.15, 5),\n",
    "                   (0.1, 0.2, 3),(0.1, 0.2, 5),(0.1, 0.3, 3),\n",
    "                   (0.1, 0.3, 5),(0.1, 0.5, 3),(0.1, 0.5, 5),\n",
    "                   (0.1, 0.8, 3),(0.1, 0.8, 5),(0.5, 0.05, 3),\n",
    "                   (0.5, 0.05, 5),(0.5, 0.1, 3),(0.5, 0.1, 5),\n",
    "                   (0.5, 0.15, 3),(0.5, 0.15, 5),(0.5, 0.2, 3),\n",
    "                   (0.5, 0.2, 5),(0.5, 0.3, 3),(0.5, 0.3, 5),\n",
    "                   (0.5, 0.5, 3),(0.5, 0.5, 5),(0.5, 0.8, 3),(0.5, 0.8, 5)]\n",
    "BATCH_SIZE = 128\n",
    "EPOCHS = 50\n",
    "verbose = 0\n",
    "validation_split = 0.2\n",
    "ACTIVATION = \"relu\"\n",
    "l2_reg_strength = 0.001\n",
    "LR = 0.001\n",
    "optimizer = \"adam\" # \"sgd\""
   ]
  },
  {
   "cell_type": "code",
   "execution_count": 992,
   "metadata": {},
   "outputs": [
    {
     "name": "stdout",
     "output_type": "stream",
     "text": [
      "280/280 [==============================] - 0s 91us/step\n",
      "280/280 [==============================] - 0s 121us/step\n",
      "280/280 [==============================] - 0s 92us/step\n",
      "280/280 [==============================] - 0s 88us/step\n",
      "280/280 [==============================] - 0s 87us/step\n",
      "280/280 [==============================] - 0s 91us/step\n",
      "280/280 [==============================] - 0s 99us/step\n",
      "280/280 [==============================] - 0s 108us/step\n",
      "280/280 [==============================] - 0s 90us/step\n",
      "280/280 [==============================] - 0s 210us/step\n",
      "done\n"
     ]
    }
   ],
   "source": [
    "losses = dict()\n",
    "models = dict()\n",
    "for data_source_num in range(1,11):\n",
    "    y, X, _ = prepare_data(data[\"d{0}\".format(data_source_num)], \n",
    "                           length=encoding_length, source_channels=source_channels)\n",
    "\n",
    "    X_train, X_test, y_train, y_test = train_test_split(X, y)\n",
    "\n",
    "    y_train_onehot, y_test_onehot = one_hot_dataset(y_train), one_hot_dataset(y_test)\n",
    "\n",
    "    name = \"model-[{0}]-k{1}\".format(\",\".join([str(x) for x in architecture]), data_source_num)\n",
    "    print(\"  evaluating {0}....\".format(name), end=\"\\r\")\n",
    "    \n",
    "    model, loss = build_train_model(architecture)\n",
    "    models[name] = model\n",
    "    losses[data_source_num] = loss\n",
    "print(\"done\")"
   ]
  },
  {
   "cell_type": "code",
   "execution_count": 998,
   "metadata": {},
   "outputs": [
    {
     "data": {
      "text/plain": [
       "[<matplotlib.lines.Line2D at 0x15d515128>]"
      ]
     },
     "execution_count": 998,
     "metadata": {},
     "output_type": "execute_result"
    },
    {
     "data": {
      "image/png": "[encoded data removed]",
      "text/plain": [
       "<matplotlib.figure.Figure at 0x15ef35898>"
      ]
     },
     "metadata": {},
     "output_type": "display_data"
    }
   ],
   "source": [
    "plt_x_axis = np.arange(start=1, stop=11)\n",
    "plt_y_axis = [losses[k] for k in plt_x_axis]\n",
    "\n",
    "plt.title(\"accuracy with L=3 vs. message length k\")\n",
    "plt.xlabel(\"k\")\n",
    "plt.ylabel(\"accuracy\")\n",
    "plt.text(2, 0.74, \"[32,100] model\")\n",
    "plt.plot(plt_x_axis, plt_y_axis, \"g-o\")"
   ]
  },
  {
   "cell_type": "code",
   "execution_count": 999,
   "metadata": {},
   "outputs": [
    {
     "name": "stdout",
     "output_type": "stream",
     "text": [
      "280/280 [==============================] - 0s 90us/step\n",
      "280/280 [==============================] - 0s 114us/step\n",
      "280/280 [==============================] - 0s 90us/step\n",
      "280/280 [==============================] - 0s 100us/step\n",
      "280/280 [==============================] - 0s 95us/step\n",
      "280/280 [==============================] - 0s 96us/step\n",
      "280/280 [==============================] - 0s 99us/step\n",
      "280/280 [==============================] - 0s 141us/step\n",
      "280/280 [==============================] - 0s 132us/step\n",
      "280/280 [==============================] - 0s 103us/step\n",
      "done\n"
     ]
    }
   ],
   "source": [
    "architecture = [32,64,100]\n",
    "losses = dict()\n",
    "models = dict()\n",
    "for data_source_num in range(1,11):\n",
    "    y, X, _ = prepare_data(data[\"d{0}\".format(data_source_num)], \n",
    "                           length=encoding_length, source_channels=source_channels)\n",
    "\n",
    "    X_train, X_test, y_train, y_test = train_test_split(X, y)\n",
    "\n",
    "    y_train_onehot, y_test_onehot = one_hot_dataset(y_train), one_hot_dataset(y_test)\n",
    "\n",
    "    name = \"model-[{0}]-k{1}\".format(\",\".join([str(x) for x in architecture]), data_source_num)\n",
    "    print(\"  evaluating {0}....\".format(name), end=\"\\r\")\n",
    "    \n",
    "    model, loss = build_train_model(architecture)\n",
    "    models[name] = model\n",
    "    losses[data_source_num] = loss\n",
    "print(\"done\")"
   ]
  },
  {
   "cell_type": "code",
   "execution_count": 1000,
   "metadata": {},
   "outputs": [
    {
     "data": {
      "text/plain": [
       "[<matplotlib.lines.Line2D at 0x16299d2e8>]"
      ]
     },
     "execution_count": 1000,
     "metadata": {},
     "output_type": "execute_result"
    },
    {
     "data": {
      "image/png": "[encoded data removed]",
      "text/plain": [
       "<matplotlib.figure.Figure at 0x15d4cf828>"
      ]
     },
     "metadata": {},
     "output_type": "display_data"
    }
   ],
   "source": [
    "plt_x_axis = np.arange(start=1, stop=11)\n",
    "plt_y_axis = [losses[k] for k in plt_x_axis]\n",
    "\n",
    "plt.title(\"accuracy with L=3 vs. message length k\")\n",
    "plt.xlabel(\"k\")\n",
    "plt.ylabel(\"accuracy\")\n",
    "plt.text(2, 0.74, \"[32,64,100] model\")\n",
    "plt.plot(plt_x_axis, plt_y_axis, \"g-o\")"
   ]
  },
  {
   "cell_type": "code",
   "execution_count": 1001,
   "metadata": {},
   "outputs": [
    {
     "name": "stdout",
     "output_type": "stream",
     "text": [
      "280/280 [==============================] - 0s 102us/step\n",
      "280/280 [==============================] - 0s 113us/step\n",
      "280/280 [==============================] - 0s 105us/step\n",
      "280/280 [==============================] - 0s 121us/step\n",
      "280/280 [==============================] - 0s 122us/step\n",
      "280/280 [==============================] - 0s 102us/step\n",
      "280/280 [==============================] - 0s 126us/step\n",
      "280/280 [==============================] - 0s 113us/step\n",
      "280/280 [==============================] - 0s 108us/step\n",
      "280/280 [==============================] - 0s 103us/step\n",
      "done\n"
     ]
    },
    {
     "data": {
      "text/plain": [
       "[<matplotlib.lines.Line2D at 0x16545c4a8>]"
      ]
     },
     "execution_count": 1001,
     "metadata": {},
     "output_type": "execute_result"
    },
    {
     "data": {
      "image/png": "[encoded data removed]",
      "text/plain": [
       "<matplotlib.figure.Figure at 0x164c41550>"
      ]
     },
     "metadata": {},
     "output_type": "display_data"
    }
   ],
   "source": [
    "encoding_length = 5\n",
    "architecture = [32,100]\n",
    "losses = dict()\n",
    "models = dict()\n",
    "for data_source_num in range(1,11):\n",
    "    y, X, _ = prepare_data(data[\"d{0}\".format(data_source_num)], \n",
    "                           length=encoding_length, source_channels=source_channels)\n",
    "\n",
    "    X_train, X_test, y_train, y_test = train_test_split(X, y)\n",
    "\n",
    "    y_train_onehot, y_test_onehot = one_hot_dataset(y_train), one_hot_dataset(y_test)\n",
    "\n",
    "    name = \"model-[{0}]-k{1}\".format(\",\".join([str(x) for x in architecture]), data_source_num)\n",
    "    print(\"  evaluating {0}....\".format(name), end=\"\\r\")\n",
    "    \n",
    "    model, loss = build_train_model(architecture)\n",
    "    models[name] = model\n",
    "    losses[data_source_num] = loss\n",
    "print(\"done\")\n",
    "plt_x_axis = np.arange(start=1, stop=11)\n",
    "plt_y_axis = [losses[k] for k in plt_x_axis]\n",
    "\n",
    "plt.title(\"accuracy with L=5 vs. message length k\")\n",
    "plt.xlabel(\"k\")\n",
    "plt.ylabel(\"accuracy\")\n",
    "plt.text(2, 0.74, \"[32,100] model\")\n",
    "plt.plot(plt_x_axis, plt_y_axis, \"r-o\")"
   ]
  },
  {
   "cell_type": "code",
   "execution_count": 1002,
   "metadata": {},
   "outputs": [
    {
     "name": "stdout",
     "output_type": "stream",
     "text": [
      "280/280 [==============================] - 0s 96us/step\n",
      "280/280 [==============================] - 0s 128us/step\n",
      "280/280 [==============================] - 0s 111us/step\n",
      "280/280 [==============================] - 0s 112us/step\n",
      "280/280 [==============================] - 0s 136us/step\n",
      "280/280 [==============================] - 0s 123us/step\n",
      "280/280 [==============================] - 0s 95us/step\n",
      "280/280 [==============================] - 0s 139us/step\n",
      "280/280 [==============================] - 0s 116us/step\n",
      "280/280 [==============================] - 0s 122us/step\n",
      "done\n"
     ]
    },
    {
     "data": {
      "text/plain": [
       "[<matplotlib.lines.Line2D at 0x16a48bb70>]"
      ]
     },
     "execution_count": 1002,
     "metadata": {},
     "output_type": "execute_result"
    },
    {
     "data": {
      "image/png": "[encoded data removed]",
      "text/plain": [
       "<matplotlib.figure.Figure at 0x16a1b4898>"
      ]
     },
     "metadata": {},
     "output_type": "display_data"
    }
   ],
   "source": [
    "encoding_length = 5\n",
    "architecture = [32,64,100]\n",
    "losses = dict()\n",
    "models = dict()\n",
    "for data_source_num in range(1,11):\n",
    "    y, X, _ = prepare_data(data[\"d{0}\".format(data_source_num)], \n",
    "                           length=encoding_length, source_channels=source_channels)\n",
    "\n",
    "    X_train, X_test, y_train, y_test = train_test_split(X, y)\n",
    "\n",
    "    y_train_onehot, y_test_onehot = one_hot_dataset(y_train), one_hot_dataset(y_test)\n",
    "\n",
    "    name = \"model-[{0}]-k{1}\".format(\",\".join([str(x) for x in architecture]), data_source_num)\n",
    "    print(\"  evaluating {0}....\".format(name), end=\"\\r\")\n",
    "    \n",
    "    model, loss = build_train_model(architecture)\n",
    "    models[name] = model\n",
    "    losses[data_source_num] = loss\n",
    "print(\"done\")\n",
    "plt_x_axis = np.arange(start=1, stop=11)\n",
    "plt_y_axis = [losses[k] for k in plt_x_axis]\n",
    "\n",
    "plt.title(\"accuracy with L=3 vs. message length k\")\n",
    "plt.xlabel(\"k\")\n",
    "plt.ylabel(\"accuracy\")\n",
    "plt.text(2, 0.74, \"[32,64,100] model\")\n",
    "plt.plot(plt_x_axis, plt_y_axis, \"r-o\")"
   ]
  },
  {
   "cell_type": "markdown",
   "metadata": {
    "collapsed": true
   },
   "source": [
    "# CNN"
   ]
  },
  {
   "cell_type": "code",
   "execution_count": 234,
   "metadata": {
    "collapsed": true
   },
   "outputs": [],
   "source": [
    "# PARAMETERS\n",
    "source_channels = [(0.1, 0.05, 3),(0.1, 0.05, 5),(0.1, 0.1, 3),\n",
    "                   (0.1, 0.1, 5),(0.1, 0.15, 3),(0.1, 0.15, 5),\n",
    "                   (0.1, 0.2, 3),(0.1, 0.2, 5),(0.1, 0.3, 3),\n",
    "                   (0.1, 0.3, 5),(0.1, 0.5, 3),(0.1, 0.5, 5),\n",
    "                   (0.1, 0.8, 3),(0.1, 0.8, 5),(0.5, 0.05, 3),\n",
    "                   (0.5, 0.05, 5),(0.5, 0.1, 3),(0.5, 0.1, 5),\n",
    "                   (0.5, 0.15, 3),(0.5, 0.15, 5),(0.5, 0.2, 3),\n",
    "                   (0.5, 0.2, 5),(0.5, 0.3, 3),(0.5, 0.3, 5),\n",
    "                   (0.5, 0.5, 3),(0.5, 0.5, 5),(0.5, 0.8, 3),(0.5, 0.8, 5)]\n",
    "BATCH_SIZE = 64\n",
    "EPOCHS = 30\n",
    "verbose = 2\n",
    "validation_split = 0.2\n",
    "ACTIVATION = \"relu\"\n",
    "l2_reg_strength = 0.001\n",
    "LR = 0.01\n",
    "optimizer = \"adam\" # \"sgd\"\n",
    "PADDING = \"same\"\n",
    "keep_prob = 0.5"
   ]
  },
  {
   "cell_type": "code",
   "execution_count": 165,
   "metadata": {
    "collapsed": true
   },
   "outputs": [],
   "source": [
    "data_source_num = 5"
   ]
  },
  {
   "cell_type": "code",
   "execution_count": 166,
   "metadata": {},
   "outputs": [],
   "source": [
    "y, X, _ = prepare_data(data[\"d{0}\".format(data_source_num)], \n",
    "                           length=encoding_length, source_channels=source_channels)\n",
    "\n",
    "X_train, X_test, y_train, y_test = train_test_split(X, y)\n",
    "\n",
    "y_train_onehot, y_test_onehot = one_hot_dataset(y_train), one_hot_dataset(y_test)"
   ]
  },
  {
   "cell_type": "code",
   "execution_count": 167,
   "metadata": {},
   "outputs": [
    {
     "name": "stdout",
     "output_type": "stream",
     "text": [
      "(1120, 14)\n",
      "(1120, 5, 2)\n"
     ]
    }
   ],
   "source": [
    "print(X_train.shape)\n",
    "print(y_train_onehot.shape)"
   ]
  },
  {
   "cell_type": "code",
   "execution_count": 168,
   "metadata": {},
   "outputs": [
    {
     "name": "stdout",
     "output_type": "stream",
     "text": [
      "(1120, 2, 7)\n"
     ]
    }
   ],
   "source": [
    "X_train_reshaped = X_train.reshape((-1, 2, 7))\n",
    "X_test = X_test.reshape((-1, 2, 7))\n",
    "print(X_train_reshaped.shape)"
   ]
  },
  {
   "cell_type": "code",
   "execution_count": 266,
   "metadata": {},
   "outputs": [],
   "source": [
    "model = Sequential()\n",
    "\n",
    "model.add(Conv1D(filters=16, kernel_size=3, strides=1,padding=PADDING, \n",
    "                 activation=ACTIVATION, input_shape=X_train_reshaped.shape[1:]))\n",
    "model.add(Conv1D(filters=16, kernel_size=3, strides=1,padding=PADDING, activation=ACTIVATION))\n",
    "# model.add(MaxPooling1D(pool_size=2, padding=\"same\"))\n",
    "# model.add(AveragePooling1D(pool_size=2, padding=\"same\"))\n",
    "\n",
    "model.add(Conv1D(filters=16 , kernel_size=3, strides=1,padding=PADDING, activation=ACTIVATION))\n",
    "# model.add(MaxPooling1D(pool_size=2, padding=\"same\"))\n",
    "model.add(Conv1D(filters=16, kernel_size=3, strides=1,padding=PADDING, activation=ACTIVATION))\n",
    "model.add(Flatten())\n",
    "\n",
    "model.add(Dense(200, activation=ACTIVATION))\n",
    "model.add(Dropout(keep_prob))\n",
    "\n",
    "# model.add(Dense(128, activation=ACTIVATION))\n",
    "# model.add(Dropout(keep_prob))\n",
    "\n",
    "model.add(Dense(y_train_onehot.shape[1] * 2, activation=\"sigmoid\"))\n",
    "model.add(Reshape((y_train_onehot.shape[1], 2)))"
   ]
  },
  {
   "cell_type": "code",
   "execution_count": 267,
   "metadata": {},
   "outputs": [
    {
     "name": "stdout",
     "output_type": "stream",
     "text": [
      "Train on 896 samples, validate on 224 samples\n",
      "Epoch 1/30\n",
      " - 3s - loss: 0.6345 - acc: 0.6778 - val_loss: 0.5974 - val_acc: 0.7071\n",
      "Epoch 2/30\n",
      " - 0s - loss: 0.5803 - acc: 0.6991 - val_loss: 0.5530 - val_acc: 0.7071\n",
      "Epoch 3/30\n",
      " - 0s - loss: 0.5520 - acc: 0.6993 - val_loss: 0.5429 - val_acc: 0.7071\n",
      "Epoch 4/30\n",
      " - 0s - loss: 0.5389 - acc: 0.6975 - val_loss: 0.5401 - val_acc: 0.7071\n",
      "Epoch 5/30\n",
      " - 0s - loss: 0.5325 - acc: 0.6983 - val_loss: 0.5470 - val_acc: 0.7076\n",
      "Epoch 6/30\n",
      " - 0s - loss: 0.5271 - acc: 0.7029 - val_loss: 0.5306 - val_acc: 0.7134\n",
      "Epoch 7/30\n",
      " - 0s - loss: 0.5237 - acc: 0.7081 - val_loss: 0.5364 - val_acc: 0.7161\n",
      "Epoch 8/30\n",
      " - 0s - loss: 0.5197 - acc: 0.7138 - val_loss: 0.5299 - val_acc: 0.7174\n",
      "Epoch 9/30\n",
      " - 0s - loss: 0.5084 - acc: 0.7148 - val_loss: 0.5293 - val_acc: 0.7147\n",
      "Epoch 10/30\n",
      " - 0s - loss: 0.4961 - acc: 0.7228 - val_loss: 0.5192 - val_acc: 0.7241\n",
      "Epoch 11/30\n",
      " - 0s - loss: 0.4901 - acc: 0.7267 - val_loss: 0.5190 - val_acc: 0.7165\n",
      "Epoch 12/30\n",
      " - 0s - loss: 0.5022 - acc: 0.7205 - val_loss: 0.5188 - val_acc: 0.7254\n",
      "Epoch 13/30\n",
      " - 0s - loss: 0.4914 - acc: 0.7210 - val_loss: 0.5129 - val_acc: 0.7187\n",
      "Epoch 14/30\n",
      " - 0s - loss: 0.4845 - acc: 0.7208 - val_loss: 0.5280 - val_acc: 0.7134\n",
      "Epoch 15/30\n",
      " - 0s - loss: 0.4654 - acc: 0.7331 - val_loss: 0.5369 - val_acc: 0.7192\n",
      "Epoch 16/30\n",
      " - 0s - loss: 0.4565 - acc: 0.7410 - val_loss: 0.5250 - val_acc: 0.7406\n",
      "Epoch 17/30\n",
      " - 0s - loss: 0.4491 - acc: 0.7449 - val_loss: 0.4949 - val_acc: 0.7129\n",
      "Epoch 18/30\n",
      " - 0s - loss: 0.4492 - acc: 0.7473 - val_loss: 0.5119 - val_acc: 0.7237\n",
      "Epoch 19/30\n",
      " - 0s - loss: 0.4400 - acc: 0.7548 - val_loss: 0.5172 - val_acc: 0.7223\n",
      "Epoch 20/30\n",
      " - 0s - loss: 0.4537 - acc: 0.7501 - val_loss: 0.5080 - val_acc: 0.7143\n",
      "Epoch 21/30\n",
      " - 0s - loss: 0.4449 - acc: 0.7469 - val_loss: 0.5351 - val_acc: 0.7308\n",
      "Epoch 22/30\n",
      " - 0s - loss: 0.4358 - acc: 0.7608 - val_loss: 0.5873 - val_acc: 0.7339\n",
      "Epoch 23/30\n",
      " - 0s - loss: 0.4318 - acc: 0.7634 - val_loss: 0.5443 - val_acc: 0.7156\n",
      "Epoch 24/30\n",
      " - 0s - loss: 0.4282 - acc: 0.7714 - val_loss: 0.5289 - val_acc: 0.7246\n",
      "Epoch 25/30\n",
      " - 0s - loss: 0.4251 - acc: 0.7672 - val_loss: 0.5897 - val_acc: 0.7268\n",
      "Epoch 26/30\n",
      " - 0s - loss: 0.4112 - acc: 0.7795 - val_loss: 0.5665 - val_acc: 0.7201\n",
      "Epoch 27/30\n",
      " - 0s - loss: 0.4083 - acc: 0.7807 - val_loss: 0.6270 - val_acc: 0.7281\n",
      "Epoch 28/30\n",
      " - 0s - loss: 0.4027 - acc: 0.7826 - val_loss: 0.5666 - val_acc: 0.7415\n",
      "Epoch 29/30\n",
      " - 0s - loss: 0.4089 - acc: 0.7850 - val_loss: 0.6268 - val_acc: 0.7330\n",
      "Epoch 30/30\n",
      " - 0s - loss: 0.3930 - acc: 0.7970 - val_loss: 0.6042 - val_acc: 0.7192\n"
     ]
    },
    {
     "data": {
      "text/plain": [
       "<keras.callbacks.History at 0x13708fb00>"
      ]
     },
     "execution_count": 267,
     "metadata": {},
     "output_type": "execute_result"
    }
   ],
   "source": [
    "if optimizer == \"adam\":\n",
    "    opt = Adam(lr=LR, beta_1=0.9, beta_2=0.999, epsilon=None, decay=0.0, amsgrad=False)\n",
    "else:\n",
    "    opt = SGD(lr=LR, decay=1e-6, momentum=0.9, nesterov=True)\n",
    "    \n",
    "model.compile(optimizer=opt, loss='binary_crossentropy', metrics=['accuracy'])\n",
    "model.fit(X_train_reshaped, y_train_onehot, batch_size=BATCH_SIZE, epochs=EPOCHS, verbose=verbose, \n",
    "              validation_split=validation_split, shuffle=True)"
   ]
  },
  {
   "cell_type": "code",
   "execution_count": 268,
   "metadata": {
    "scrolled": true
   },
   "outputs": [
    {
     "name": "stdout",
     "output_type": "stream",
     "text": [
      "Expected:  [1, 0, 0, 1, 0]\n",
      "Deocde:    [0 0 0 0 0]\n",
      "\n",
      "Expected:  [0, 0, 0, 1, 0]\n",
      "Deocde:    [0 0 0 1 1]\n",
      "\n",
      "Expected:  [0, 0, 1, 0, 0]\n",
      "Deocde:    [0 0 0 0 0]\n",
      "\n",
      "Expected:  [1, 0, 0, 0, 0]\n",
      "Deocde:    [0 0 0 1 0]\n",
      "\n",
      "Expected:  [0, 0, 0, 0, 0]\n",
      "Deocde:    [0 0 0 0 0]\n",
      "\n",
      "Expected:  [0, 0, 0, 1, 1]\n",
      "Deocde:    [0 0 0 0 0]\n",
      "\n"
     ]
    }
   ],
   "source": [
    "for i in range(6):\n",
    "    compare_result(model, threshold=\"argmax\")\n",
    "    print()"
   ]
  },
  {
   "cell_type": "code",
   "execution_count": 269,
   "metadata": {},
   "outputs": [
    {
     "name": "stdout",
     "output_type": "stream",
     "text": [
      "average test accuracy: 0.72\n"
     ]
    }
   ],
   "source": [
    "print(\"average test accuracy:\", evaluate(X_test, y_test, model))"
   ]
  },
  {
   "cell_type": "code",
   "execution_count": 251,
   "metadata": {
    "collapsed": true
   },
   "outputs": [],
   "source": [
    "# model.save(\"models/k5-l3-cnn-v2.h5\")"
   ]
  },
  {
   "cell_type": "code",
   "execution_count": null,
   "metadata": {
    "collapsed": true
   },
   "outputs": [],
   "source": []
  }
 ],
 "metadata": {
  "kernelspec": {
   "display_name": "Python 3",
   "language": "python",
   "name": "python3"
  },
  "language_info": {
   "codemirror_mode": {
    "name": "ipython",
    "version": 3
   },
   "file_extension": ".py",
   "mimetype": "text/x-python",
   "name": "python",
   "nbconvert_exporter": "python",
   "pygments_lexer": "ipython3",
   "version": "3.6.4"
  }
 },
 "nbformat": 4,
 "nbformat_minor": 2
}
