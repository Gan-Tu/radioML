{
 "cells": [
  {
   "cell_type": "code",
   "execution_count": 1,
   "metadata": {},
   "outputs": [
    {
     "name": "stderr",
     "output_type": "stream",
     "text": [
      "/Users/michael-tu/anaconda/lib/python3.6/site-packages/h5py/__init__.py:34: FutureWarning: Conversion of the second argument of issubdtype from `float` to `np.floating` is deprecated. In future, it will be treated as `np.float64 == np.dtype(float).type`.\n",
      "  from ._conv import register_converters as _register_converters\n"
     ]
    }
   ],
   "source": [
    "import numpy as np\n",
    "import tensorflow as tf\n",
    "import os\n",
    "import matplotlib.pyplot as plt\n",
    "%matplotlib inline\n",
    "import pickle"
   ]
  },
  {
   "cell_type": "code",
   "execution_count": 2,
   "metadata": {},
   "outputs": [
    {
     "name": "stderr",
     "output_type": "stream",
     "text": [
      "Using TensorFlow backend.\n"
     ]
    }
   ],
   "source": [
    "import keras\n",
    "from keras import regularizers\n",
    "from keras import backend as K\n",
    "from keras.optimizers import Adam\n",
    "from keras.models import Model, Sequential\n",
    "from keras.layers import Dense, Input, Activation, Dropout, BatchNormalization, Flatten, Reshape\n",
    "from keras.layers import Conv2D, MaxPooling2D, AveragePooling2D, UpSampling2D\n",
    "from keras.layers import Conv1D, MaxPooling1D, AveragePooling1D, UpSampling1D\n",
    "from keras.optimizers import Adam, SGD"
   ]
  },
  {
   "cell_type": "code",
   "execution_count": 3,
   "metadata": {
    "collapsed": true
   },
   "outputs": [],
   "source": [
    "def load_data(path):\n",
    "    return pickle.load(open(path, \"rb\"))"
   ]
  },
  {
   "cell_type": "code",
   "execution_count": 4,
   "metadata": {},
   "outputs": [
    {
     "data": {
      "text/plain": [
       "['data/viterbi_dump_k1_n100.pk',\n",
       " 'data/viterbi_dump_k2_n100.pk',\n",
       " 'data/viterbi_dump_k3_n100.pk',\n",
       " 'data/viterbi_dump_k4_n100.pk',\n",
       " 'data/viterbi_dump_k5_n100.pk',\n",
       " 'data/viterbi_dump_k6_n100.pk',\n",
       " 'data/viterbi_dump_k7_n100.pk',\n",
       " 'data/viterbi_dump_k8_n100.pk',\n",
       " 'data/viterbi_dump_k9_n100.pk',\n",
       " 'data/viterbi_dump_k10_n100.pk']"
      ]
     },
     "execution_count": 4,
     "metadata": {},
     "output_type": "execute_result"
    }
   ],
   "source": [
    "data_sources = [\"data/viterbi_dump_k{0}_n100.pk\".format(i) for i in range(1,11)]\n",
    "data_sources"
   ]
  },
  {
   "cell_type": "code",
   "execution_count": 5,
   "metadata": {},
   "outputs": [
    {
     "data": {
      "text/plain": [
       "dict_keys(['d1', 'd2', 'd3', 'd4', 'd5', 'd6', 'd7', 'd8', 'd9', 'd10'])"
      ]
     },
     "execution_count": 5,
     "metadata": {},
     "output_type": "execute_result"
    }
   ],
   "source": [
    "# load data\n",
    "data = {\"d{0}\".format(i+1): load_data(data_sources[i]) for i in range(0, 10)}\n",
    "data.keys()"
   ]
  },
  {
   "cell_type": "code",
   "execution_count": 6,
   "metadata": {
    "collapsed": true
   },
   "outputs": [],
   "source": [
    "probs = [0.1, 0.5, 0.81]\n",
    "\n",
    "err   = [0.05, 0.1, 0.15, 0.2, 0.3, 0.5, 0.8]\n",
    "\n",
    "Ls    = [3, 5]"
   ]
  },
  {
   "cell_type": "code",
   "execution_count": 7,
   "metadata": {
    "collapsed": true
   },
   "outputs": [],
   "source": [
    "def show_example(data, i):\n",
    "    print(\"Original Message:\\n\", data[0][i])\n",
    "    print(\"Encoded Noisy Message:\\n\", data[1][i])\n",
    "    print(\"Viterbi Decoded Message:\\n\", data[2][i])"
   ]
  },
  {
   "cell_type": "code",
   "execution_count": 8,
   "metadata": {},
   "outputs": [
    {
     "name": "stdout",
     "output_type": "stream",
     "text": [
      "idx:  14\n",
      "Original Message:\n",
      " [1. 1. 1. 1. 1.]\n",
      "Encoded Noisy Message:\n",
      " [1 1 1 0 0 1 1 1 0 1 1 0 1 1]\n",
      "Viterbi Decoded Message:\n",
      " [1 1 1 1 1 0 0]\n",
      "\n",
      "\n",
      "idx:  21\n",
      "Original Message:\n",
      " [1. 1. 1. 1. 1.]\n",
      "Encoded Noisy Message:\n",
      " [1 0 1 0 0 1 0 1 1 1 1 0 1 1]\n",
      "Viterbi Decoded Message:\n",
      " [1 1 1 1 1 0 0]\n",
      "\n",
      "\n",
      "idx:  12\n",
      "Original Message:\n",
      " [1. 1. 1. 1. 1.]\n",
      "Encoded Noisy Message:\n",
      " [1 1 1 0 0 1 0 1 0 1 1 0 1 1]\n",
      "Viterbi Decoded Message:\n",
      " [1 1 1 1 1 0 0]\n",
      "\n",
      "\n"
     ]
    }
   ],
   "source": [
    "for i in range(3):\n",
    "    idx = np.random.randint(low=0, high=len(data[\"d5\"]))\n",
    "    print(\"idx: \", idx)\n",
    "    show_example(data[\"d5\"][(0.81, 0.05, 3)], idx)\n",
    "    print(\"\\n\")"
   ]
  },
  {
   "cell_type": "code",
   "execution_count": 9,
   "metadata": {
    "collapsed": true
   },
   "outputs": [],
   "source": [
    "def prepare_data(data, length=3, source_channels=None):\n",
    "    msg, noisy_encode, viterbi_decode = list(), list(), list()\n",
    "    if source_channels:\n",
    "        for source in source_channels:\n",
    "            if source[2] == length:\n",
    "                for i in range(len(data[source][0])):\n",
    "                    msg.append(data[source][0][i].astype(\"float64\"))\n",
    "                    noisy_encode.append(data[source][1][i].astype(\"float64\"))\n",
    "                    viterbi_decode.append(data[source][2][i][:len(data[source][0][i])].astype(\"float64\"))\n",
    "    else:\n",
    "        for i in range(len(data[0])):\n",
    "            msg.append(data[0][i].astype(\"float64\"))\n",
    "            noisy_encode.append(data[1][i].astype(\"float64\"))\n",
    "            viterbi_decode.append(data[2][i][:len(data[0][i])].astype(\"float64\"))\n",
    "\n",
    "    return  np.array(msg),\\\n",
    "            np.array(noisy_encode),\\\n",
    "            np.array(viterbi_decode).astype(\"float64\")"
   ]
  },
  {
   "cell_type": "code",
   "execution_count": 32,
   "metadata": {
    "collapsed": true
   },
   "outputs": [],
   "source": [
    "msg, noisy_encode, viterbi_decode = prepare_data(data[\"d5\"][(0.81, 0.05, 3)])"
   ]
  },
  {
   "cell_type": "code",
   "execution_count": 33,
   "metadata": {},
   "outputs": [
    {
     "name": "stdout",
     "output_type": "stream",
     "text": [
      "[1. 1. 1. 1. 0.]\n",
      "[1. 1. 1. 1. 0.]\n"
     ]
    }
   ],
   "source": [
    "n = 20\n",
    "print(msg[n])\n",
    "print(viterbi_decode[n])"
   ]
  },
  {
   "cell_type": "code",
   "execution_count": 34,
   "metadata": {},
   "outputs": [
    {
     "name": "stdout",
     "output_type": "stream",
     "text": [
      "(100, 5)\n",
      "(100, 14)\n",
      "(100, 5)\n"
     ]
    }
   ],
   "source": [
    "print(msg.shape)\n",
    "print(noisy_encode.shape)\n",
    "print(viterbi_decode.shape)"
   ]
  },
  {
   "cell_type": "code",
   "execution_count": 10,
   "metadata": {
    "collapsed": true
   },
   "outputs": [],
   "source": [
    "def accuracy(msg, pred):\n",
    "    return np.sum(msg == pred) / np.product(pred.shape)"
   ]
  },
  {
   "cell_type": "code",
   "execution_count": 36,
   "metadata": {},
   "outputs": [
    {
     "data": {
      "text/plain": [
       "0.992"
      ]
     },
     "execution_count": 36,
     "metadata": {},
     "output_type": "execute_result"
    }
   ],
   "source": [
    "accuracy(msg, viterbi_decode)"
   ]
  },
  {
   "cell_type": "markdown",
   "metadata": {},
   "source": [
    "## Baseline viterbi_decoding accuracies:"
   ]
  },
  {
   "cell_type": "code",
   "execution_count": 37,
   "metadata": {
    "collapsed": true
   },
   "outputs": [],
   "source": [
    "accuracies = dict()\n",
    "for k in data:\n",
    "    accuracies[k] = dict()\n",
    "    for source_channel in data[k]:\n",
    "        msg, _, viterbi_decode = prepare_data(data[k][source_channel])\n",
    "        accuracies[k][source_channel] = accuracy(msg, viterbi_decode)"
   ]
  },
  {
   "cell_type": "code",
   "execution_count": 38,
   "metadata": {
    "collapsed": true
   },
   "outputs": [],
   "source": [
    "average_accuracies_per_k = dict()\n",
    "for k in accuracies:\n",
    "    average_accuracies_per_k[k] = 0\n",
    "    for source_channel in accuracies[k]:\n",
    "        average_accuracies_per_k[k] += accuracies[k][source_channel]\n",
    "    average_accuracies_per_k[k] /= len(accuracies[k].keys())"
   ]
  },
  {
   "cell_type": "code",
   "execution_count": 39,
   "metadata": {},
   "outputs": [
    {
     "data": {
      "text/plain": [
       "[<matplotlib.lines.Line2D at 0x11eac7400>]"
      ]
     },
     "execution_count": 39,
     "metadata": {},
     "output_type": "execute_result"
    },
    {
     "data": {
      "image/png": "[encoded data removed]",
      "text/plain": [
       "<matplotlib.figure.Figure at 0x11eac7128>"
      ]
     },
     "metadata": {},
     "output_type": "display_data"
    }
   ],
   "source": [
    "x = [int(x[1:]) for x in list(average_accuracies_per_k.keys())]\n",
    "y = list(average_accuracies_per_k.values())\n",
    "\n",
    "plt.title(\"average accuracy among all generation channels vs. k\")\n",
    "plt.xlabel(\"k\")\n",
    "plt.ylabel(\"accuracy\")\n",
    "plt.plot(x, y, \"g-o\")"
   ]
  },
  {
   "cell_type": "markdown",
   "metadata": {},
   "source": [
    "# Examine Encoding Lengths (Ls)"
   ]
  },
  {
   "cell_type": "code",
   "execution_count": 40,
   "metadata": {},
   "outputs": [
    {
     "name": "stdout",
     "output_type": "stream",
     "text": [
      "source (0.1, 0.05, 3) has encoding length:\t6\n",
      "source (0.1, 0.05, 5) has encoding length:\t10\n",
      "source (0.1, 0.1, 3) has encoding length:\t6\n",
      "source (0.1, 0.1, 5) has encoding length:\t10\n",
      "source (0.1, 0.15, 3) has encoding length:\t6\n",
      "source (0.1, 0.15, 5) has encoding length:\t10\n",
      "source (0.1, 0.2, 3) has encoding length:\t6\n",
      "source (0.1, 0.2, 5) has encoding length:\t10\n",
      "source (0.1, 0.3, 3) has encoding length:\t6\n",
      "source (0.1, 0.3, 5) has encoding length:\t10\n",
      "source (0.1, 0.5, 3) has encoding length:\t6\n",
      "source (0.1, 0.5, 5) has encoding length:\t10\n",
      "source (0.1, 0.8, 3) has encoding length:\t6\n",
      "source (0.1, 0.8, 5) has encoding length:\t10\n",
      "source (0.5, 0.05, 3) has encoding length:\t6\n",
      "source (0.5, 0.05, 5) has encoding length:\t10\n",
      "source (0.5, 0.1, 3) has encoding length:\t6\n",
      "source (0.5, 0.1, 5) has encoding length:\t10\n",
      "source (0.5, 0.15, 3) has encoding length:\t6\n",
      "source (0.5, 0.15, 5) has encoding length:\t10\n",
      "source (0.5, 0.2, 3) has encoding length:\t6\n",
      "source (0.5, 0.2, 5) has encoding length:\t10\n",
      "source (0.5, 0.3, 3) has encoding length:\t6\n",
      "source (0.5, 0.3, 5) has encoding length:\t10\n",
      "source (0.5, 0.5, 3) has encoding length:\t6\n",
      "source (0.5, 0.5, 5) has encoding length:\t10\n",
      "source (0.5, 0.8, 3) has encoding length:\t6\n",
      "source (0.5, 0.8, 5) has encoding length:\t10\n",
      "source (0.81, 0.05, 3) has encoding length:\t6\n",
      "source (0.81, 0.05, 5) has encoding length:\t10\n",
      "source (0.81, 0.1, 3) has encoding length:\t6\n",
      "source (0.81, 0.1, 5) has encoding length:\t10\n",
      "source (0.81, 0.15, 3) has encoding length:\t6\n",
      "source (0.81, 0.15, 5) has encoding length:\t10\n",
      "source (0.81, 0.2, 3) has encoding length:\t6\n",
      "source (0.81, 0.2, 5) has encoding length:\t10\n",
      "source (0.81, 0.3, 3) has encoding length:\t6\n",
      "source (0.81, 0.3, 5) has encoding length:\t10\n",
      "source (0.81, 0.5, 3) has encoding length:\t6\n",
      "source (0.81, 0.5, 5) has encoding length:\t10\n",
      "source (0.81, 0.8, 3) has encoding length:\t6\n",
      "source (0.81, 0.8, 5) has encoding length:\t10\n"
     ]
    }
   ],
   "source": [
    "# Encoding length given different source channels\n",
    "for source in data[\"d1\"].keys():\n",
    "    _, x, _ = prepare_data(data[\"d1\"][source])\n",
    "    print(\"source {0} has encoding length:\\t{1}\".format(source, x.shape[1]))"
   ]
  },
  {
   "cell_type": "markdown",
   "metadata": {},
   "source": [
    "# Model"
   ]
  },
  {
   "cell_type": "code",
   "execution_count": 11,
   "metadata": {
    "collapsed": true
   },
   "outputs": [],
   "source": [
    "def train_test_split(X, y, ratio=0.2):\n",
    "    indicies = np.arange(len(X), dtype=np.int32)\n",
    "    np.random.shuffle(indicies)\n",
    "    \n",
    "    split_inx = int(len(X) * (1-ratio))\n",
    "    X_train, X_test = X[indicies[:split_inx]], X[indicies[split_inx:]]\n",
    "    y_train, y_test = y[indicies[:split_inx]], y[indicies[split_inx:]]\n",
    "    return X_train, X_test, y_train, y_test"
   ]
  },
  {
   "cell_type": "code",
   "execution_count": 12,
   "metadata": {
    "collapsed": true
   },
   "outputs": [],
   "source": [
    "# PARAMETERS\n",
    "source_channels = [(0.1, 0.05, 3),(0.1, 0.05, 5),(0.1, 0.1, 3),\n",
    "                   (0.1, 0.1, 5),(0.1, 0.15, 3),(0.1, 0.15, 5),\n",
    "                   (0.1, 0.2, 3),(0.1, 0.2, 5),(0.1, 0.3, 3),\n",
    "                   (0.1, 0.3, 5),(0.1, 0.5, 3),(0.1, 0.5, 5),\n",
    "                   (0.1, 0.8, 3),(0.1, 0.8, 5),(0.5, 0.05, 3),\n",
    "                   (0.5, 0.05, 5),(0.5, 0.1, 3),(0.5, 0.1, 5),\n",
    "                   (0.5, 0.15, 3),(0.5, 0.15, 5),(0.5, 0.2, 3),\n",
    "                   (0.5, 0.2, 5),(0.5, 0.3, 3),(0.5, 0.3, 5),\n",
    "                   (0.5, 0.5, 3),(0.5, 0.5, 5),(0.5, 0.8, 3),(0.5, 0.8, 5)]\n",
    "data_source_num = 5\n",
    "encoding_length = 3\n",
    "BATCH_SIZE = 128\n",
    "EPOCHS = 50\n",
    "verbose = 0\n",
    "validation_split = 0.2\n",
    "ACTIVATION = \"relu\"\n",
    "l2_reg_strength = 0.001\n",
    "LR = 0.005\n",
    "optimizer = \"adam\" # \"sgd\""
   ]
  },
  {
   "cell_type": "code",
   "execution_count": 24,
   "metadata": {
    "collapsed": true
   },
   "outputs": [],
   "source": [
    "y, X, _ = prepare_data(data[\"d{0}\".format(data_source_num)], \n",
    "                       length=encoding_length, source_channels=source_channels)\n",
    "\n",
    "X_train, X_test, y_train, y_test = train_test_split(X, y)\n",
    "\n",
    "y_train_onehot, y_test_onehot = one_hot_dataset(y_train), one_hot_dataset(y_test)"
   ]
  },
  {
   "cell_type": "code",
   "execution_count": 44,
   "metadata": {
    "collapsed": true
   },
   "outputs": [],
   "source": [
    "architecture = [128,100,100]"
   ]
  },
  {
   "cell_type": "code",
   "execution_count": 45,
   "metadata": {
    "collapsed": true
   },
   "outputs": [],
   "source": [
    "model = Sequential()\n",
    "for i, hidden in enumerate(architecture):\n",
    "    if i == 0:\n",
    "        model.add(Dense(hidden,  activation=ACTIVATION, input_shape=X_train.shape[1:], \n",
    "                        kernel_regularizer=regularizers.l2(l2_reg_strength)))\n",
    "    else:\n",
    "        model.add(Dense(hidden,  activation=ACTIVATION, \n",
    "                        kernel_regularizer=regularizers.l2(l2_reg_strength)))\n",
    "        \n",
    "model.add(Dense(y_train_onehot.shape[1] * 2, activation=\"sigmoid\"))\n",
    "model.add(Reshape((y_train_onehot.shape[1], 2)))"
   ]
  },
  {
   "cell_type": "code",
   "execution_count": 46,
   "metadata": {},
   "outputs": [
    {
     "data": {
      "text/plain": [
       "<keras.callbacks.History at 0x11eac77f0>"
      ]
     },
     "execution_count": 46,
     "metadata": {},
     "output_type": "execute_result"
    }
   ],
   "source": [
    "if optimizer == \"adam\":\n",
    "    opt = Adam(lr=LR, beta_1=0.9, beta_2=0.999, epsilon=None, decay=0.0, amsgrad=False)\n",
    "else:\n",
    "    opt = SGD(lr=LR, decay=1e-6, momentum=0.9, nesterov=True)\n",
    "                           \n",
    "model.compile(optimizer=opt, loss='binary_crossentropy', metrics=['accuracy'])\n",
    "model.fit(X_train, y_train_onehot, batch_size=BATCH_SIZE, epochs=EPOCHS, verbose=verbose, \n",
    "              validation_split=validation_split, shuffle=True)"
   ]
  },
  {
   "cell_type": "code",
   "execution_count": 47,
   "metadata": {},
   "outputs": [
    {
     "name": "stdout",
     "output_type": "stream",
     "text": [
      "280/280 [==============================] - 0s 39us/step\n",
      "test accuracy: 0.7817857078143529\n"
     ]
    }
   ],
   "source": [
    "print(\"test accuracy:\", model.evaluate(X_test, y_test_onehot)[1])"
   ]
  },
  {
   "cell_type": "code",
   "execution_count": 13,
   "metadata": {
    "collapsed": true
   },
   "outputs": [],
   "source": [
    "def one_hot(data):\n",
    "    res = []\n",
    "    for d in data:\n",
    "        res.append([0,0])\n",
    "        res[-1][int(d)] = 1\n",
    "    return np.array(res)\n",
    "\n",
    "def one_hot_dataset(dataset):\n",
    "    return np.array(list(map(lambda x: one_hot(x), dataset)))\n",
    "\n",
    "def pred_to_decode(pred, threshold=\"argmax\"):\n",
    "    if type(threshold) == float:\n",
    "        return np.vstack([1 if x >= threshold else 0 for x in pred])\n",
    "    elif type(threshold) == str:\n",
    "        if threshold == \"argmax\":\n",
    "            return np.vstack([np.argmax(x, axis=1) for x in pred])\n",
    "    else:\n",
    "        return np.vstack(pred)\n",
    "    \n",
    "def compare_result(model, threshold=0.5):\n",
    "    idx = np.random.randint(low=0, high=len(X_test)+1)\n",
    "    test_x, test_y = X_test[idx:idx+1], y_test_onehot[idx]\n",
    "    print(\"Expected: \", [np.argmax(x) for x in test_y])\n",
    "    pred = model.predict(test_x)\n",
    "    print(\"Deocde:   \", pred_to_decode(pred, threshold=threshold)[0])\n",
    "    \n",
    "def evaluate(X, y, model):\n",
    "    y_pred = pred_to_decode(model.predict(X), threshold=\"argmax\")\n",
    "    return accuracy(y, y_pred)"
   ]
  },
  {
   "cell_type": "code",
   "execution_count": 49,
   "metadata": {},
   "outputs": [
    {
     "name": "stdout",
     "output_type": "stream",
     "text": [
      "Expected:  [0, 0, 0, 0, 0]\n",
      "Deocde:    [0 0 0 0 0]\n",
      "\n",
      "Expected:  [1, 1, 1, 1, 1]\n",
      "Deocde:    [1 1 1 1 1]\n",
      "\n",
      "Expected:  [0, 0, 1, 1, 1]\n",
      "Deocde:    [0 0 1 1 1]\n",
      "\n",
      "Expected:  [0, 0, 0, 0, 0]\n",
      "Deocde:    [0 0 0 1 0]\n",
      "\n",
      "Expected:  [1, 1, 1, 1, 1]\n",
      "Deocde:    [1 1 1 1 0]\n",
      "\n",
      "Expected:  [1, 1, 1, 1, 0]\n",
      "Deocde:    [0 0 1 1 0]\n",
      "\n"
     ]
    }
   ],
   "source": [
    "for i in range(6):\n",
    "    compare_result(model, threshold=\"argmax\")\n",
    "    print()"
   ]
  },
  {
   "cell_type": "code",
   "execution_count": 50,
   "metadata": {
    "scrolled": true
   },
   "outputs": [
    {
     "data": {
      "text/plain": [
       "0.7821428571428571"
      ]
     },
     "execution_count": 50,
     "metadata": {},
     "output_type": "execute_result"
    }
   ],
   "source": [
    "evaluate(X_test, y_test, model)"
   ]
  },
  {
   "cell_type": "markdown",
   "metadata": {},
   "source": [
    "# Architecture Search"
   ]
  },
  {
   "cell_type": "code",
   "execution_count": 14,
   "metadata": {
    "collapsed": true
   },
   "outputs": [],
   "source": [
    "FNN_ARCHITECTURE = [\n",
    "    [32, 100],\n",
    "    [64, 100],\n",
    "    [128, 100],\n",
    "    [256, 100],\n",
    "    [32, 32, 100],\n",
    "    [32, 64, 100],\n",
    "    [64, 64, 100],\n",
    "    [64, 128, 100],\n",
    "    [128, 128, 100],\n",
    "    [128, 256, 100],\n",
    "    [256, 256, 100],\n",
    "    [32,128,128,100],\n",
    "    [32,128,256,100],\n",
    "    [32,256,256,100],\n",
    "    [32,128,256,128,100],\n",
    "    [32,128,128,128,100],\n",
    "    [1024,512,100],\n",
    "    [512,256,100],\n",
    "    [256,128,100],\n",
    "    [128,100,100]\n",
    "]"
   ]
  },
  {
   "cell_type": "code",
   "execution_count": 15,
   "metadata": {
    "collapsed": true
   },
   "outputs": [],
   "source": [
    "# PARAMETERS\n",
    "source_channels = [(0.1, 0.05, 3),(0.1, 0.05, 5),(0.1, 0.1, 3),\n",
    "                   (0.1, 0.1, 5),(0.1, 0.15, 3),(0.1, 0.15, 5),\n",
    "                   (0.1, 0.2, 3),(0.1, 0.2, 5),(0.1, 0.3, 3),\n",
    "                   (0.1, 0.3, 5),(0.1, 0.5, 3),(0.1, 0.5, 5),\n",
    "                   (0.1, 0.8, 3),(0.1, 0.8, 5),(0.5, 0.05, 3),\n",
    "                   (0.5, 0.05, 5),(0.5, 0.1, 3),(0.5, 0.1, 5),\n",
    "                   (0.5, 0.15, 3),(0.5, 0.15, 5),(0.5, 0.2, 3),\n",
    "                   (0.5, 0.2, 5),(0.5, 0.3, 3),(0.5, 0.3, 5),\n",
    "                   (0.5, 0.5, 3),(0.5, 0.5, 5),(0.5, 0.8, 3),(0.5, 0.8, 5)]\n",
    "data_source_num = 5\n",
    "encoding_length = 3\n",
    "BATCH_SIZE = 64\n",
    "EPOCHS = 50\n",
    "verbose = 0\n",
    "validation_split = 0.2\n",
    "ACTIVATION = \"relu\"\n",
    "l2_reg_strength = 0.001\n",
    "LR = 0.015\n",
    "optimizer = \"adam\" # \"sgd\""
   ]
  },
  {
   "cell_type": "code",
   "execution_count": 16,
   "metadata": {
    "collapsed": true
   },
   "outputs": [],
   "source": [
    "y, X, _ = prepare_data(data[\"d{0}\".format(data_source_num)], \n",
    "                       length=encoding_length, source_channels=source_channels)\n",
    "\n",
    "X_train, X_test, y_train, y_test = train_test_split(X, y)\n",
    "\n",
    "y_train_onehot, y_test_onehot = one_hot_dataset(y_train), one_hot_dataset(y_test)"
   ]
  },
  {
   "cell_type": "code",
   "execution_count": 24,
   "metadata": {
    "collapsed": true
   },
   "outputs": [],
   "source": [
    "def build_train_model(architecture):\n",
    "    model = Sequential()\n",
    "    for i, hidden in enumerate(architecture):\n",
    "        if i == 0:\n",
    "            model.add(Dense(hidden,  activation=ACTIVATION, input_shape=X_train.shape[1:], \n",
    "                            kernel_regularizer=regularizers.l2(l2_reg_strength)))\n",
    "        else:\n",
    "            model.add(Dense(hidden,  activation=ACTIVATION, \n",
    "                            kernel_regularizer=regularizers.l2(l2_reg_strength)))\n",
    "\n",
    "    model.add(Dense(y_train_onehot.shape[1] * 2, activation=\"sigmoid\"))\n",
    "    model.add(Reshape((y_train_onehot.shape[1], 2)))\n",
    "    if optimizer == \"adam\":\n",
    "        opt = Adam(lr=LR, beta_1=0.9, beta_2=0.999, epsilon=None, decay=0.0, amsgrad=False)\n",
    "    else:\n",
    "        opt = SGD(lr=LR, decay=1e-6, momentum=0.9, nesterov=True)\n",
    "\n",
    "    model.compile(optimizer=opt, loss='binary_crossentropy', metrics=['accuracy'])\n",
    "    model.fit(X_train, y_train_onehot, batch_size=BATCH_SIZE, epochs=EPOCHS, verbose=verbose, \n",
    "                  validation_split=validation_split, shuffle=True)\n",
    "    \n",
    "    return model, model.evaluate(X_test, y_test_onehot)[1]"
   ]
  },
  {
   "cell_type": "code",
   "execution_count": 55,
   "metadata": {},
   "outputs": [
    {
     "name": "stdout",
     "output_type": "stream",
     "text": [
      "280/280 [==============================] - 0s 25us/step\n",
      "280/280 [==============================] - 0s 26us/step\n",
      "280/280 [==============================] - 0s 28us/step\n",
      "280/280 [==============================] - 0s 33us/step\n",
      "280/280 [==============================] - 0s 33us/step\n",
      "280/280 [==============================] - 0s 36us/step\n",
      "280/280 [==============================] - 0s 27us/step\n",
      "280/280 [==============================] - 0s 29us/step\n",
      "280/280 [==============================] - 0s 28us/step\n",
      "280/280 [==============================] - 0s 31us/step\n",
      "280/280 [==============================] - 0s 37us/step\n",
      "280/280 [==============================] - 0s 31us/step\n",
      "280/280 [==============================] - 0s 33us/step\n",
      "280/280 [==============================] - 0s 37us/step\n",
      "280/280 [==============================] - 0s 36us/step\n",
      "280/280 [==============================] - 0s 43us/step\n",
      "280/280 [==============================] - 0s 91us/step\n",
      "280/280 [==============================] - 0s 44us/step\n",
      "280/280 [==============================] - 0s 34us/step\n",
      "280/280 [==============================] - 0s 38us/step\n",
      "done\n"
     ]
    }
   ],
   "source": [
    "models = {}\n",
    "losses = {}\n",
    "for architecture in FNN_ARCHITECTURE:\n",
    "    name = \"model-[{0}]\".format(\",\".join([str(x) for x in architecture]))\n",
    "    print(\"  evaluating {0}....\".format(name), end=\"\\r\")\n",
    "    m, l = build_train_model(architecture)\n",
    "    models[name] = m\n",
    "    losses[name] = l\n",
    "print(\"done\")"
   ]
  },
  {
   "cell_type": "code",
   "execution_count": 56,
   "metadata": {},
   "outputs": [
    {
     "name": "stdout",
     "output_type": "stream",
     "text": [
      "best model is model-[128,100] with loss 0.77929\n"
     ]
    }
   ],
   "source": [
    "best_model_name = list(losses.keys())[np.argmax(list(losses.values()))]\n",
    "best_model = models[best_model_name]\n",
    "print(\"best model is {0} with loss {1:.5}\".format(best_model_name, losses[best_model_name]))"
   ]
  },
  {
   "cell_type": "code",
   "execution_count": 57,
   "metadata": {},
   "outputs": [
    {
     "data": {
      "text/plain": [
       "{'model-[1024,512,100]': 0.7207142863954816,\n",
       " 'model-[128,100,100]': 0.7489285724503654,\n",
       " 'model-[128,100]': 0.7792857067925589,\n",
       " 'model-[128,128,100]': 0.769999989441463,\n",
       " 'model-[128,256,100]': 0.7564285806247166,\n",
       " 'model-[256,100]': 0.7535714285714286,\n",
       " 'model-[256,128,100]': 0.7657142877578735,\n",
       " 'model-[256,256,100]': 0.7667857119015284,\n",
       " 'model-[32,100]': 0.7603571449007307,\n",
       " 'model-[32,128,128,100]': 0.7289285693849836,\n",
       " 'model-[32,128,128,128,100]': 0.6978571449007307,\n",
       " 'model-[32,128,256,100]': 0.7110714316368103,\n",
       " 'model-[32,128,256,128,100]': 0.6982142976352147,\n",
       " 'model-[32,256,256,100]': 0.706428577218737,\n",
       " 'model-[32,32,100]': 0.7460714340209961,\n",
       " 'model-[32,64,100]': 0.7625000034059797,\n",
       " 'model-[512,256,100]': 0.7567857163293021,\n",
       " 'model-[64,100]': 0.7485714299338204,\n",
       " 'model-[64,128,100]': 0.766785717010498,\n",
       " 'model-[64,64,100]': 0.7403571452413287}"
      ]
     },
     "execution_count": 57,
     "metadata": {},
     "output_type": "execute_result"
    }
   ],
   "source": [
    "losses"
   ]
  },
  {
   "cell_type": "code",
   "execution_count": 58,
   "metadata": {},
   "outputs": [
    {
     "data": {
      "text/plain": [
       "0.7792857142857142"
      ]
     },
     "execution_count": 58,
     "metadata": {},
     "output_type": "execute_result"
    }
   ],
   "source": [
    "evaluate(X_test, y_test, best_model)"
   ]
  },
  {
   "cell_type": "code",
   "execution_count": 59,
   "metadata": {},
   "outputs": [
    {
     "name": "stdout",
     "output_type": "stream",
     "text": [
      "Expected:  [0, 0, 0, 1, 0]\n",
      "Deocde:    [0 0 0 1 0]\n",
      "\n",
      "Expected:  [1, 1, 0, 0, 1]\n",
      "Deocde:    [0 1 1 0 1]\n",
      "\n",
      "Expected:  [1, 0, 0, 0, 0]\n",
      "Deocde:    [0 0 0 0 0]\n",
      "\n",
      "Expected:  [1, 1, 1, 1, 0]\n",
      "Deocde:    [0 0 1 1 0]\n",
      "\n",
      "Expected:  [0, 0, 0, 0, 0]\n",
      "Deocde:    [0 0 0 0 0]\n",
      "\n",
      "Expected:  [0, 0, 1, 1, 0]\n",
      "Deocde:    [0 0 1 1 1]\n",
      "\n"
     ]
    }
   ],
   "source": [
    "for i in range(6):\n",
    "    compare_result(best_model, threshold=\"argmax\")\n",
    "    print()"
   ]
  },
  {
   "cell_type": "code",
   "execution_count": 60,
   "metadata": {
    "collapsed": true
   },
   "outputs": [],
   "source": [
    "# best_model.save(\"models/k5-l3-fnn-{0}.h5\".format(best_model_name))"
   ]
  },
  {
   "cell_type": "markdown",
   "metadata": {},
   "source": [
    "# Accuracy as a function of k"
   ]
  },
  {
   "cell_type": "code",
   "execution_count": 76,
   "metadata": {
    "collapsed": true
   },
   "outputs": [],
   "source": [
    "# encoding_length = 3\n",
    "encoding_length = 3\n",
    "architecture = [32,100]\n",
    "# PARAMETERS\n",
    "source_channels = [(0.1, 0.05, 3),(0.1, 0.05, 5),(0.1, 0.1, 3),\n",
    "                   (0.1, 0.1, 5),(0.1, 0.15, 3),(0.1, 0.15, 5),\n",
    "                   (0.1, 0.2, 3),(0.1, 0.2, 5),(0.1, 0.3, 3),\n",
    "                   (0.1, 0.3, 5),(0.1, 0.5, 3),(0.1, 0.5, 5),\n",
    "                   (0.1, 0.8, 3),(0.1, 0.8, 5),(0.5, 0.05, 3),\n",
    "                   (0.5, 0.05, 5),(0.5, 0.1, 3),(0.5, 0.1, 5),\n",
    "                   (0.5, 0.15, 3),(0.5, 0.15, 5),(0.5, 0.2, 3),\n",
    "                   (0.5, 0.2, 5),(0.5, 0.3, 3),(0.5, 0.3, 5),\n",
    "                   (0.5, 0.5, 3),(0.5, 0.5, 5),(0.5, 0.8, 3),(0.5, 0.8, 5)]\n",
    "BATCH_SIZE = 128\n",
    "EPOCHS = 50\n",
    "verbose = 0\n",
    "validation_split = 0.2\n",
    "ACTIVATION = \"relu\"\n",
    "l2_reg_strength = 0.001\n",
    "LR = 0.001\n",
    "optimizer = \"adam\" # \"sgd\""
   ]
  },
  {
   "cell_type": "code",
   "execution_count": 62,
   "metadata": {},
   "outputs": [
    {
     "name": "stdout",
     "output_type": "stream",
     "text": [
      "280/280 [==============================] - 0s 31us/step\n",
      "280/280 [==============================] - 0s 32us/step\n",
      "280/280 [==============================] - 0s 34us/step\n",
      "280/280 [==============================] - 0s 32us/step\n",
      "280/280 [==============================] - 0s 35us/step\n",
      "280/280 [==============================] - 0s 53us/step\n",
      "280/280 [==============================] - 0s 37us/step\n",
      "280/280 [==============================] - 0s 35us/step\n",
      "280/280 [==============================] - 0s 33us/step\n",
      "280/280 [==============================] - 0s 42us/step\n",
      "done\n"
     ]
    }
   ],
   "source": [
    "losses = dict()\n",
    "models = dict()\n",
    "for data_source_num in range(1,11):\n",
    "    y, X, _ = prepare_data(data[\"d{0}\".format(data_source_num)], \n",
    "                           length=encoding_length, source_channels=source_channels)\n",
    "\n",
    "    X_train, X_test, y_train, y_test = train_test_split(X, y)\n",
    "\n",
    "    y_train_onehot, y_test_onehot = one_hot_dataset(y_train), one_hot_dataset(y_test)\n",
    "\n",
    "    name = \"model-[{0}]-k{1}\".format(\",\".join([str(x) for x in architecture]), data_source_num)\n",
    "    print(\"  evaluating {0}....\".format(name), end=\"\\r\")\n",
    "    \n",
    "    model, loss = build_train_model(architecture)\n",
    "    models[name] = model\n",
    "    losses[data_source_num] = loss\n",
    "print(\"done\")"
   ]
  },
  {
   "cell_type": "code",
   "execution_count": 63,
   "metadata": {},
   "outputs": [
    {
     "data": {
      "text/plain": [
       "[<matplotlib.lines.Line2D at 0x12d62c198>]"
      ]
     },
     "execution_count": 63,
     "metadata": {},
     "output_type": "execute_result"
    },
    {
     "data": {
      "image/png": "[encoded data removed]",
      "text/plain": [
       "<matplotlib.figure.Figure at 0x11f04e128>"
      ]
     },
     "metadata": {},
     "output_type": "display_data"
    }
   ],
   "source": [
    "plt_x_axis = np.arange(start=1, stop=11)\n",
    "plt_y_axis = [losses[k] for k in plt_x_axis]\n",
    "\n",
    "plt.title(\"accuracy with L=3 vs. message length k\")\n",
    "plt.xlabel(\"k\")\n",
    "plt.ylabel(\"accuracy\")\n",
    "plt.text(2, 0.74, \"[32,100] model\")\n",
    "plt.plot(plt_x_axis, plt_y_axis, \"g-o\")"
   ]
  },
  {
   "cell_type": "code",
   "execution_count": 64,
   "metadata": {},
   "outputs": [
    {
     "name": "stdout",
     "output_type": "stream",
     "text": [
      "280/280 [==============================] - 0s 41us/step\n",
      "280/280 [==============================] - 0s 41us/step\n",
      "280/280 [==============================] - 0s 44us/step\n",
      "280/280 [==============================] - 0s 38us/step\n",
      "280/280 [==============================] - 0s 43us/step\n",
      "280/280 [==============================] - 0s 35us/step\n",
      "280/280 [==============================] - 0s 217us/step\n",
      "280/280 [==============================] - 0s 42us/step\n",
      "280/280 [==============================] - 0s 44us/step\n",
      "280/280 [==============================] - 0s 115us/step\n",
      "done\n"
     ]
    }
   ],
   "source": [
    "architecture = [32,64,100]\n",
    "losses = dict()\n",
    "models = dict()\n",
    "for data_source_num in range(1,11):\n",
    "    y, X, _ = prepare_data(data[\"d{0}\".format(data_source_num)], \n",
    "                           length=encoding_length, source_channels=source_channels)\n",
    "\n",
    "    X_train, X_test, y_train, y_test = train_test_split(X, y)\n",
    "\n",
    "    y_train_onehot, y_test_onehot = one_hot_dataset(y_train), one_hot_dataset(y_test)\n",
    "\n",
    "    name = \"model-[{0}]-k{1}\".format(\",\".join([str(x) for x in architecture]), data_source_num)\n",
    "    print(\"  evaluating {0}....\".format(name), end=\"\\r\")\n",
    "    \n",
    "    model, loss = build_train_model(architecture)\n",
    "    models[name] = model\n",
    "    losses[data_source_num] = loss\n",
    "print(\"done\")"
   ]
  },
  {
   "cell_type": "code",
   "execution_count": 65,
   "metadata": {},
   "outputs": [
    {
     "data": {
      "text/plain": [
       "[<matplotlib.lines.Line2D at 0x13262b978>]"
      ]
     },
     "execution_count": 65,
     "metadata": {},
     "output_type": "execute_result"
    },
    {
     "data": {
      "image/png": "[encoded data removed]",
      "text/plain": [
       "<matplotlib.figure.Figure at 0x12e1a9518>"
      ]
     },
     "metadata": {},
     "output_type": "display_data"
    }
   ],
   "source": [
    "plt_x_axis = np.arange(start=1, stop=11)\n",
    "plt_y_axis = [losses[k] for k in plt_x_axis]\n",
    "\n",
    "plt.title(\"accuracy with L=3 vs. message length k\")\n",
    "plt.xlabel(\"k\")\n",
    "plt.ylabel(\"accuracy\")\n",
    "plt.text(2, 0.74, \"[32,64,100] model\")\n",
    "plt.plot(plt_x_axis, plt_y_axis, \"g-o\")"
   ]
  },
  {
   "cell_type": "code",
   "execution_count": 66,
   "metadata": {},
   "outputs": [
    {
     "name": "stdout",
     "output_type": "stream",
     "text": [
      "280/280 [==============================] - 0s 42us/step\n",
      "280/280 [==============================] - 0s 38us/step\n",
      "280/280 [==============================] - 0s 61us/step\n",
      "280/280 [==============================] - 0s 45us/step\n",
      "280/280 [==============================] - 0s 64us/step\n",
      "280/280 [==============================] - 0s 61us/step\n",
      "280/280 [==============================] - 0s 45us/step\n",
      "280/280 [==============================] - 0s 46us/step\n",
      "280/280 [==============================] - 0s 49us/step\n",
      "280/280 [==============================] - 0s 59us/step\n",
      "done\n"
     ]
    },
    {
     "data": {
      "text/plain": [
       "[<matplotlib.lines.Line2D at 0x1348a77b8>]"
      ]
     },
     "execution_count": 66,
     "metadata": {},
     "output_type": "execute_result"
    },
    {
     "data": {
      "image/png": "[encoded data removed]",
      "text/plain": [
       "<matplotlib.figure.Figure at 0x133dfe9b0>"
      ]
     },
     "metadata": {},
     "output_type": "display_data"
    }
   ],
   "source": [
    "encoding_length = 5\n",
    "architecture = [32,100]\n",
    "losses = dict()\n",
    "models = dict()\n",
    "for data_source_num in range(1,11):\n",
    "    y, X, _ = prepare_data(data[\"d{0}\".format(data_source_num)], \n",
    "                           length=encoding_length, source_channels=source_channels)\n",
    "\n",
    "    X_train, X_test, y_train, y_test = train_test_split(X, y)\n",
    "\n",
    "    y_train_onehot, y_test_onehot = one_hot_dataset(y_train), one_hot_dataset(y_test)\n",
    "\n",
    "    name = \"model-[{0}]-k{1}\".format(\",\".join([str(x) for x in architecture]), data_source_num)\n",
    "    print(\"  evaluating {0}....\".format(name), end=\"\\r\")\n",
    "    \n",
    "    model, loss = build_train_model(architecture)\n",
    "    models[name] = model\n",
    "    losses[data_source_num] = loss\n",
    "print(\"done\")\n",
    "plt_x_axis = np.arange(start=1, stop=11)\n",
    "plt_y_axis = [losses[k] for k in plt_x_axis]\n",
    "\n",
    "plt.title(\"accuracy with L=5 vs. message length k\")\n",
    "plt.xlabel(\"k\")\n",
    "plt.ylabel(\"accuracy\")\n",
    "plt.text(2, 0.74, \"[32,100] model\")\n",
    "plt.plot(plt_x_axis, plt_y_axis, \"r-o\")"
   ]
  },
  {
   "cell_type": "code",
   "execution_count": 77,
   "metadata": {},
   "outputs": [
    {
     "name": "stdout",
     "output_type": "stream",
     "text": [
      "280/280 [==============================] - 0s 57us/step\n",
      "280/280 [==============================] - 0s 55us/step\n",
      "280/280 [==============================] - 0s 60us/step\n",
      "280/280 [==============================] - 0s 59us/step\n",
      "280/280 [==============================] - 0s 59us/step\n",
      "280/280 [==============================] - 0s 58us/step\n",
      "280/280 [==============================] - 0s 74us/step\n",
      "280/280 [==============================] - 0s 60us/step\n",
      "280/280 [==============================] - 0s 63us/step\n",
      "280/280 [==============================] - 0s 65us/step\n",
      "done\n"
     ]
    },
    {
     "data": {
      "text/plain": [
       "[<matplotlib.lines.Line2D at 0x140506fd0>]"
      ]
     },
     "execution_count": 77,
     "metadata": {},
     "output_type": "execute_result"
    },
    {
     "data": {
      "image/png": "[encoded data removed]",
      "text/plain": [
       "<matplotlib.figure.Figure at 0x13e271940>"
      ]
     },
     "metadata": {},
     "output_type": "display_data"
    }
   ],
   "source": [
    "encoding_length = 5\n",
    "architecture = [32,64,100]\n",
    "losses = dict()\n",
    "models = dict()\n",
    "for data_source_num in range(1,11):\n",
    "    y, X, _ = prepare_data(data[\"d{0}\".format(data_source_num)], \n",
    "                           length=encoding_length, source_channels=source_channels)\n",
    "\n",
    "    X_train, X_test, y_train, y_test = train_test_split(X, y)\n",
    "\n",
    "    y_train_onehot, y_test_onehot = one_hot_dataset(y_train), one_hot_dataset(y_test)\n",
    "\n",
    "    name = \"model-[{0}]-k{1}\".format(\",\".join([str(x) for x in architecture]), data_source_num)\n",
    "    print(\"  evaluating {0}....\".format(name), end=\"\\r\")\n",
    "    \n",
    "    model, loss = build_train_model(architecture)\n",
    "    models[name] = model\n",
    "    losses[data_source_num] = loss\n",
    "print(\"done\")\n",
    "plt_x_axis = np.arange(start=1, stop=11)\n",
    "plt_y_axis = [losses[k] for k in plt_x_axis]\n",
    "\n",
    "plt.title(\"accuracy with L=5 vs. message length k\")\n",
    "plt.xlabel(\"k\")\n",
    "plt.ylabel(\"accuracy\")\n",
    "plt.text(2, 0.74, \"[32,64,100] model\")\n",
    "plt.plot(plt_x_axis, plt_y_axis, \"r-o\")"
   ]
  },
  {
   "cell_type": "markdown",
   "metadata": {
    "collapsed": true
   },
   "source": [
    "# CNN"
   ]
  },
  {
   "cell_type": "code",
   "execution_count": 7,
   "metadata": {
    "collapsed": true
   },
   "outputs": [],
   "source": [
    "# PARAMETERS\n",
    "source_channels = [(0.1, 0.05, 3),(0.1, 0.05, 5),(0.1, 0.1, 3),\n",
    "                   (0.1, 0.1, 5),(0.1, 0.15, 3),(0.1, 0.15, 5),\n",
    "                   (0.1, 0.2, 3),(0.1, 0.2, 5),(0.1, 0.3, 3),\n",
    "                   (0.1, 0.3, 5),(0.1, 0.5, 3),(0.1, 0.5, 5),\n",
    "                   (0.1, 0.8, 3),(0.1, 0.8, 5),(0.5, 0.05, 3),\n",
    "                   (0.5, 0.05, 5),(0.5, 0.1, 3),(0.5, 0.1, 5),\n",
    "                   (0.5, 0.15, 3),(0.5, 0.15, 5),(0.5, 0.2, 3),\n",
    "                   (0.5, 0.2, 5),(0.5, 0.3, 3),(0.5, 0.3, 5),\n",
    "                   (0.5, 0.5, 3),(0.5, 0.5, 5),(0.5, 0.8, 3),(0.5, 0.8, 5)]\n",
    "BATCH_SIZE = 64\n",
    "EPOCHS = 30\n",
    "verbose = 2\n",
    "validation_split = 0.2\n",
    "ACTIVATION = \"relu\"\n",
    "l2_reg_strength = 0.001\n",
    "LR = 0.01\n",
    "optimizer = \"adam\" # \"sgd\"\n",
    "PADDING = \"same\"\n",
    "keep_prob = 0.5"
   ]
  },
  {
   "cell_type": "code",
   "execution_count": 8,
   "metadata": {
    "collapsed": true
   },
   "outputs": [],
   "source": [
    "data_source_num = 5"
   ]
  },
  {
   "cell_type": "code",
   "execution_count": 94,
   "metadata": {
    "collapsed": true
   },
   "outputs": [],
   "source": [
    "y, X, _ = prepare_data(data[\"d{0}\".format(data_source_num)], \n",
    "                           length=encoding_length, source_channels=source_channels)\n",
    "\n",
    "X_train, X_test, y_train, y_test = train_test_split(X, y)\n",
    "\n",
    "y_train_onehot, y_test_onehot = one_hot_dataset(y_train), one_hot_dataset(y_test)"
   ]
  },
  {
   "cell_type": "code",
   "execution_count": 95,
   "metadata": {},
   "outputs": [
    {
     "name": "stdout",
     "output_type": "stream",
     "text": [
      "(1120, 18)\n",
      "(1120, 5, 2)\n"
     ]
    }
   ],
   "source": [
    "print(X_train.shape)\n",
    "print(y_train_onehot.shape)"
   ]
  },
  {
   "cell_type": "code",
   "execution_count": 97,
   "metadata": {},
   "outputs": [
    {
     "name": "stdout",
     "output_type": "stream",
     "text": [
      "(1120, 2, 9)\n"
     ]
    }
   ],
   "source": [
    "X_train_reshaped = X_train.reshape((-1, 2, 9))\n",
    "X_test = X_test.reshape((-1, 2, 9))\n",
    "print(X_train_reshaped.shape)"
   ]
  },
  {
   "cell_type": "code",
   "execution_count": 98,
   "metadata": {
    "collapsed": true
   },
   "outputs": [],
   "source": [
    "model = Sequential()\n",
    "\n",
    "model.add(Conv1D(filters=16, kernel_size=3, strides=1,padding=PADDING, \n",
    "                 activation=ACTIVATION, input_shape=X_train_reshaped.shape[1:]))\n",
    "model.add(Conv1D(filters=16, kernel_size=3, strides=1,padding=PADDING, activation=ACTIVATION))\n",
    "# model.add(MaxPooling1D(pool_size=2, padding=\"same\"))\n",
    "# model.add(AveragePooling1D(pool_size=2, padding=\"same\"))\n",
    "\n",
    "model.add(Conv1D(filters=16 , kernel_size=3, strides=1,padding=PADDING, activation=ACTIVATION))\n",
    "# model.add(MaxPooling1D(pool_size=2, padding=\"same\"))\n",
    "model.add(Conv1D(filters=16, kernel_size=3, strides=1,padding=PADDING, activation=ACTIVATION))\n",
    "model.add(Flatten())\n",
    "\n",
    "model.add(Dense(200, activation=ACTIVATION))\n",
    "model.add(Dropout(keep_prob))\n",
    "\n",
    "# model.add(Dense(128, activation=ACTIVATION))\n",
    "# model.add(Dropout(keep_prob))\n",
    "\n",
    "model.add(Dense(y_train_onehot.shape[1] * 2, activation=\"sigmoid\"))\n",
    "model.add(Reshape((y_train_onehot.shape[1], 2)))"
   ]
  },
  {
   "cell_type": "code",
   "execution_count": 99,
   "metadata": {},
   "outputs": [
    {
     "name": "stdout",
     "output_type": "stream",
     "text": [
      "Train on 896 samples, validate on 224 samples\n",
      "Epoch 1/30\n",
      " - 3s - loss: 0.6302 - acc: 0.6831 - val_loss: 0.5932 - val_acc: 0.7089\n",
      "Epoch 2/30\n",
      " - 0s - loss: 0.5737 - acc: 0.6978 - val_loss: 0.5519 - val_acc: 0.7089\n",
      "Epoch 3/30\n",
      " - 0s - loss: 0.5461 - acc: 0.7011 - val_loss: 0.5459 - val_acc: 0.7188\n",
      "Epoch 4/30\n",
      " - 0s - loss: 0.5251 - acc: 0.7069 - val_loss: 0.5191 - val_acc: 0.7187\n",
      "Epoch 5/30\n",
      " - 0s - loss: 0.5054 - acc: 0.7132 - val_loss: 0.5205 - val_acc: 0.7250\n",
      "Epoch 6/30\n",
      " - 0s - loss: 0.4969 - acc: 0.7152 - val_loss: 0.5099 - val_acc: 0.7205\n",
      "Epoch 7/30\n",
      " - 0s - loss: 0.4868 - acc: 0.7196 - val_loss: 0.5184 - val_acc: 0.7317\n",
      "Epoch 8/30\n",
      " - 0s - loss: 0.4729 - acc: 0.7325 - val_loss: 0.5182 - val_acc: 0.7223\n",
      "Epoch 9/30\n",
      " - 0s - loss: 0.4715 - acc: 0.7324 - val_loss: 0.5014 - val_acc: 0.7397\n",
      "Epoch 10/30\n",
      " - 0s - loss: 0.4606 - acc: 0.7416 - val_loss: 0.4994 - val_acc: 0.7379\n",
      "Epoch 11/30\n",
      " - 0s - loss: 0.4500 - acc: 0.7503 - val_loss: 0.4922 - val_acc: 0.7344\n",
      "Epoch 12/30\n",
      " - 0s - loss: 0.4385 - acc: 0.7545 - val_loss: 0.5099 - val_acc: 0.7371\n",
      "Epoch 13/30\n",
      " - 0s - loss: 0.4327 - acc: 0.7618 - val_loss: 0.5319 - val_acc: 0.7371\n",
      "Epoch 14/30\n",
      " - 0s - loss: 0.4318 - acc: 0.7694 - val_loss: 0.5564 - val_acc: 0.7304\n",
      "Epoch 15/30\n",
      " - 0s - loss: 0.4182 - acc: 0.7711 - val_loss: 0.5511 - val_acc: 0.7429\n",
      "Epoch 16/30\n",
      " - 0s - loss: 0.4121 - acc: 0.7809 - val_loss: 0.5571 - val_acc: 0.7375\n",
      "Epoch 17/30\n",
      " - 0s - loss: 0.4055 - acc: 0.7816 - val_loss: 0.5694 - val_acc: 0.7308\n",
      "Epoch 18/30\n",
      " - 0s - loss: 0.4060 - acc: 0.7898 - val_loss: 0.5606 - val_acc: 0.7420\n",
      "Epoch 19/30\n",
      " - 0s - loss: 0.3982 - acc: 0.7867 - val_loss: 0.5619 - val_acc: 0.7674\n",
      "Epoch 20/30\n",
      " - 0s - loss: 0.3848 - acc: 0.7923 - val_loss: 0.5345 - val_acc: 0.7558\n",
      "Epoch 21/30\n",
      " - 0s - loss: 0.3796 - acc: 0.8015 - val_loss: 0.5334 - val_acc: 0.7366\n",
      "Epoch 22/30\n",
      " - 0s - loss: 0.3612 - acc: 0.8042 - val_loss: 0.5823 - val_acc: 0.7670\n",
      "Epoch 23/30\n",
      " - 0s - loss: 0.3529 - acc: 0.8194 - val_loss: 0.5890 - val_acc: 0.7710\n",
      "Epoch 24/30\n",
      " - 0s - loss: 0.3535 - acc: 0.8164 - val_loss: 0.5700 - val_acc: 0.7607\n",
      "Epoch 25/30\n",
      " - 0s - loss: 0.3477 - acc: 0.8196 - val_loss: 0.6210 - val_acc: 0.7612\n",
      "Epoch 26/30\n",
      " - 0s - loss: 0.3415 - acc: 0.8272 - val_loss: 0.5945 - val_acc: 0.7482\n",
      "Epoch 27/30\n",
      " - 0s - loss: 0.3423 - acc: 0.8194 - val_loss: 0.6256 - val_acc: 0.7589\n",
      "Epoch 28/30\n",
      " - 0s - loss: 0.3439 - acc: 0.8320 - val_loss: 0.5934 - val_acc: 0.7473\n",
      "Epoch 29/30\n",
      " - 0s - loss: 0.3367 - acc: 0.8227 - val_loss: 0.5992 - val_acc: 0.7491\n",
      "Epoch 30/30\n",
      " - 0s - loss: 0.3344 - acc: 0.8320 - val_loss: 0.6762 - val_acc: 0.7540\n"
     ]
    },
    {
     "data": {
      "text/plain": [
       "<keras.callbacks.History at 0x141571cc0>"
      ]
     },
     "execution_count": 99,
     "metadata": {},
     "output_type": "execute_result"
    }
   ],
   "source": [
    "if optimizer == \"adam\":\n",
    "    opt = Adam(lr=LR, beta_1=0.9, beta_2=0.999, epsilon=None, decay=0.0, amsgrad=False)\n",
    "else:\n",
    "    opt = SGD(lr=LR, decay=1e-6, momentum=0.9, nesterov=True)\n",
    "    \n",
    "model.compile(optimizer=opt, loss='binary_crossentropy', metrics=['accuracy'])\n",
    "model.fit(X_train_reshaped, y_train_onehot, batch_size=BATCH_SIZE, epochs=EPOCHS, verbose=verbose, \n",
    "              validation_split=validation_split, shuffle=True)"
   ]
  },
  {
   "cell_type": "code",
   "execution_count": 103,
   "metadata": {
    "scrolled": true
   },
   "outputs": [
    {
     "name": "stdout",
     "output_type": "stream",
     "text": [
      "Expected:  [0, 0, 1, 0, 0]\n",
      "Deocde:    [0 0 0 0 0]\n",
      "\n",
      "Expected:  [0, 0, 0, 0, 0]\n",
      "Deocde:    [1 1 0 0 0]\n",
      "\n",
      "Expected:  [0, 0, 0, 0, 1]\n",
      "Deocde:    [0 0 0 0 1]\n",
      "\n",
      "Expected:  [0, 0, 0, 0, 0]\n",
      "Deocde:    [0 0 0 0 0]\n",
      "\n",
      "Expected:  [1, 1, 1, 0, 1]\n",
      "Deocde:    [1 1 1 0 1]\n",
      "\n",
      "Expected:  [0, 0, 0, 0, 0]\n",
      "Deocde:    [0 0 0 0 0]\n",
      "\n"
     ]
    }
   ],
   "source": [
    "for i in range(6):\n",
    "    compare_result(model, threshold=\"argmax\")\n",
    "    print()"
   ]
  },
  {
   "cell_type": "code",
   "execution_count": 104,
   "metadata": {},
   "outputs": [
    {
     "name": "stdout",
     "output_type": "stream",
     "text": [
      "average test accuracy: 0.7635714285714286\n"
     ]
    }
   ],
   "source": [
    "print(\"average test accuracy:\", evaluate(X_test, y_test, model))"
   ]
  },
  {
   "cell_type": "code",
   "execution_count": null,
   "metadata": {
    "collapsed": true
   },
   "outputs": [],
   "source": [
    "# model.save(\"models/k5-l3-cnn-v2.h5\")"
   ]
  },
  {
   "cell_type": "markdown",
   "metadata": {
    "collapsed": true
   },
   "source": [
    "# CNN Architecture"
   ]
  },
  {
   "cell_type": "code",
   "execution_count": 105,
   "metadata": {},
   "outputs": [
    {
     "data": {
      "text/plain": [
       "(1120, 18)"
      ]
     },
     "execution_count": 105,
     "metadata": {},
     "output_type": "execute_result"
    }
   ],
   "source": [
    "X_train.shape"
   ]
  },
  {
   "cell_type": "code",
   "execution_count": 115,
   "metadata": {},
   "outputs": [
    {
     "name": "stdout",
     "output_type": "stream",
     "text": [
      "280/280 [==============================] - 0s 92us/step\n",
      "280/280 [==============================] - 0s 70us/step\n",
      "280/280 [==============================] - 0s 84us/step\n",
      "280/280 [==============================] - 0s 87us/step\n",
      "280/280 [==============================] - 0s 94us/step\n",
      "280/280 [==============================] - 0s 91us/step\n",
      "280/280 [==============================] - 0s 93us/step\n",
      "280/280 [==============================] - 0s 93us/step\n",
      "280/280 [==============================] - 0s 87us/step\n",
      "280/280 [==============================] - 0s 80us/step\n",
      "done\n"
     ]
    }
   ],
   "source": [
    "losses = dict()\n",
    "models = dict()\n",
    "encoding_length = 5\n",
    "for data_source_num in range(1,11):\n",
    "    y, X, _ = prepare_data(data[\"d{0}\".format(data_source_num)], \n",
    "                           length=encoding_length, source_channels=source_channels)\n",
    "\n",
    "    X_train, X_test, y_train, y_test = train_test_split(X, y)\n",
    "\n",
    "    y_train_onehot, y_test_onehot = one_hot_dataset(y_train), one_hot_dataset(y_test)\n",
    "    X_train_reshaped = X_train.reshape((-1, 2, int(X_train.shape[1]/2)))\n",
    "    X_test = X_test.reshape((-1, 2,  int(X_train.shape[1]/2)))\n",
    "    \n",
    "    name = \"cnn-model-k{0}\".format(data_source_num)\n",
    "    print(\"  evaluating {0}....\".format(name), end=\"\\r\")\n",
    "\n",
    "    model = Sequential()\n",
    "    model.add(Conv1D(filters=16, kernel_size=3, strides=1,padding=PADDING, \n",
    "                     activation=ACTIVATION, input_shape=X_train_reshaped.shape[1:]))\n",
    "    model.add(Conv1D(filters=16, kernel_size=3, strides=1,padding=PADDING, activation=ACTIVATION))\n",
    "    model.add(Conv1D(filters=16 , kernel_size=3, strides=1,padding=PADDING, activation=ACTIVATION))\n",
    "    model.add(Conv1D(filters=16, kernel_size=3, strides=1,padding=PADDING, activation=ACTIVATION))\n",
    "    model.add(Flatten())\n",
    "\n",
    "    model.add(Dense(200, activation=ACTIVATION))\n",
    "    model.add(Dropout(keep_prob))\n",
    "\n",
    "    model.add(Dense(y_train_onehot.shape[1] * 2, activation=\"sigmoid\"))\n",
    "    model.add(Reshape((y_train_onehot.shape[1], 2)))\n",
    "    if optimizer == \"adam\":\n",
    "        opt = Adam(lr=LR, beta_1=0.9, beta_2=0.999, epsilon=None, decay=0.0, amsgrad=False)\n",
    "    else:\n",
    "        opt = SGD(lr=LR, decay=1e-6, momentum=0.9, nesterov=True)\n",
    "\n",
    "    model.compile(optimizer=opt, loss='binary_crossentropy', metrics=['accuracy'])\n",
    "    model.fit(X_train_reshaped, y_train_onehot, batch_size=BATCH_SIZE, epochs=EPOCHS, \n",
    "              verbose=0, validation_split=validation_split, shuffle=True)\n",
    "\n",
    "    models[name] = model\n",
    "    losses[data_source_num] = model.evaluate(X_test, y_test_onehot)[1]\n",
    "print(\"done\")"
   ]
  },
  {
   "cell_type": "code",
   "execution_count": 117,
   "metadata": {},
   "outputs": [
    {
     "data": {
      "text/plain": [
       "[<matplotlib.lines.Line2D at 0x150d77390>]"
      ]
     },
     "execution_count": 117,
     "metadata": {},
     "output_type": "execute_result"
    },
    {
     "data": {
      "image/png": "[encoded data removed]",
      "text/plain": [
       "<matplotlib.figure.Figure at 0x14f9cbcc0>"
      ]
     },
     "metadata": {},
     "output_type": "display_data"
    }
   ],
   "source": [
    "plt_x_axis = np.arange(start=1, stop=11)\n",
    "plt_y_axis = [losses[k] for k in plt_x_axis]\n",
    "\n",
    "plt.title(\"accuracy with L=5 vs. message length k\")\n",
    "plt.xlabel(\"k\")\n",
    "plt.ylabel(\"accuracy\")\n",
    "plt.text(2, 0.74, \"cnn model\")\n",
    "plt.plot(plt_x_axis, plt_y_axis, \"c-o\")"
   ]
  },
  {
   "cell_type": "code",
   "execution_count": 125,
   "metadata": {},
   "outputs": [
    {
     "name": "stdout",
     "output_type": "stream",
     "text": [
      "280/280 [==============================] - 0s 119us/step\n",
      "280/280 [==============================] - 0s 101us/step\n",
      "280/280 [==============================] - 0s 100us/step\n",
      "280/280 [==============================] - 0s 105us/step\n",
      "280/280 [==============================] - 0s 132us/step\n",
      "280/280 [==============================] - 0s 94us/step\n",
      "280/280 [==============================] - 0s 101us/step\n",
      "280/280 [==============================] - 0s 201us/step\n",
      "280/280 [==============================] - 0s 110us/step\n",
      "280/280 [==============================] - 0s 142us/step\n",
      "done\n"
     ]
    }
   ],
   "source": [
    "losses = dict()\n",
    "models = dict()\n",
    "encoding_length = 3\n",
    "for data_source_num in range(1,11):\n",
    "    y, X, _ = prepare_data(data[\"d{0}\".format(data_source_num)], \n",
    "                           length=encoding_length, source_channels=source_channels)\n",
    "\n",
    "    X_train, X_test, y_train, y_test = train_test_split(X, y)\n",
    "\n",
    "    y_train_onehot, y_test_onehot = one_hot_dataset(y_train), one_hot_dataset(y_test)\n",
    "    X_train_reshaped = X_train.reshape((-1, 2, int(X_train.shape[1]/2)))\n",
    "    X_test = X_test.reshape((-1, 2,  int(X_train.shape[1]/2)))\n",
    "    \n",
    "    name = \"cnn-model-k{0}\".format(data_source_num)\n",
    "    print(\"  evaluating {0}....\".format(name), end=\"\\r\")\n",
    "\n",
    "    model = Sequential()\n",
    "    model.add(Conv1D(filters=16, kernel_size=3, strides=1,padding=PADDING, \n",
    "                     activation=ACTIVATION, input_shape=X_train_reshaped.shape[1:]))\n",
    "    model.add(Conv1D(filters=16, kernel_size=3, strides=1,padding=PADDING, activation=ACTIVATION))\n",
    "    model.add(Conv1D(filters=16 , kernel_size=3, strides=1,padding=PADDING, activation=ACTIVATION))\n",
    "    model.add(Conv1D(filters=16, kernel_size=3, strides=1,padding=PADDING, activation=ACTIVATION))\n",
    "    model.add(Flatten())\n",
    "\n",
    "    model.add(Dense(200, activation=ACTIVATION))\n",
    "    model.add(Dropout(keep_prob))\n",
    "\n",
    "    model.add(Dense(y_train_onehot.shape[1] * 2, activation=\"sigmoid\"))\n",
    "    model.add(Reshape((y_train_onehot.shape[1], 2)))\n",
    "    if optimizer == \"adam\":\n",
    "        opt = Adam(lr=LR, beta_1=0.9, beta_2=0.999, epsilon=None, decay=0.0, amsgrad=False)\n",
    "    else:\n",
    "        opt = SGD(lr=LR, decay=1e-6, momentum=0.9, nesterov=True)\n",
    "\n",
    "    model.compile(optimizer=opt, loss='binary_crossentropy', metrics=['accuracy'])\n",
    "    model.fit(X_train_reshaped, y_train_onehot, batch_size=BATCH_SIZE, epochs=EPOCHS, \n",
    "              verbose=0, validation_split=validation_split, shuffle=True)\n",
    "\n",
    "    models[name] = model\n",
    "    losses[data_source_num] = model.evaluate(X_test, y_test_onehot)[1]\n",
    "print(\"done\")"
   ]
  },
  {
   "cell_type": "code",
   "execution_count": 126,
   "metadata": {},
   "outputs": [
    {
     "data": {
      "text/plain": [
       "[<matplotlib.lines.Line2D at 0x168c97eb8>]"
      ]
     },
     "execution_count": 126,
     "metadata": {},
     "output_type": "execute_result"
    },
    {
     "data": {
      "image/png": "[encoded data removed]",
      "text/plain": [
       "<matplotlib.figure.Figure at 0x163d502b0>"
      ]
     },
     "metadata": {},
     "output_type": "display_data"
    }
   ],
   "source": [
    "plt_x_axis = np.arange(start=1, stop=11)\n",
    "plt_y_axis = [losses[k] for k in plt_x_axis]\n",
    "\n",
    "plt.title(\"accuracy with L=3 vs. message length k\")\n",
    "plt.xlabel(\"k\")\n",
    "plt.ylabel(\"accuracy\")\n",
    "plt.text(2, 0.74, \"cnn model\")\n",
    "plt.plot(plt_x_axis, plt_y_axis, \"c-o\")"
   ]
  },
  {
   "cell_type": "markdown",
   "metadata": {
    "collapsed": true
   },
   "source": [
    "# CNN on larger length k=100"
   ]
  },
  {
   "cell_type": "code",
   "execution_count": 18,
   "metadata": {
    "collapsed": true
   },
   "outputs": [],
   "source": [
    "data_k100 = load_data(\"data/viterbi_dump_k100_n300.pk\")"
   ]
  },
  {
   "cell_type": "code",
   "execution_count": 95,
   "metadata": {
    "collapsed": true
   },
   "outputs": [],
   "source": [
    "encoding_length = 5\n",
    "y, X, _ = prepare_data(data_k100, length=encoding_length, source_channels=source_channels)\n",
    "\n",
    "X_train, X_test, y_train, y_test = train_test_split(X, y)\n",
    "\n",
    "y_train_onehot, y_test_onehot = one_hot_dataset(y_train), one_hot_dataset(y_test)\n",
    "\n",
    "reshape_dim1 = 16\n",
    "X_train_reshaped = X_train.reshape((-1, reshape_dim1, int(X_train.shape[1]/reshape_dim1)))\n",
    "X_test = X_test.reshape((-1, reshape_dim1,  int(X_train.shape[1]/reshape_dim1)))"
   ]
  },
  {
   "cell_type": "code",
   "execution_count": 96,
   "metadata": {},
   "outputs": [
    {
     "name": "stdout",
     "output_type": "stream",
     "text": [
      "(3360, 208)\n",
      "(3360, 16, 13)\n",
      "(3360, 100)\n",
      "(3360, 100, 2)\n",
      "(840, 16, 13)\n",
      "(840, 100)\n",
      "(840, 100, 2)\n"
     ]
    }
   ],
   "source": [
    "print(X_train.shape)\n",
    "print(X_train_reshaped.shape)\n",
    "print(y_train.shape)\n",
    "print(y_train_onehot.shape)\n",
    "print(X_test.shape)\n",
    "print(y_test.shape)\n",
    "print(y_test_onehot.shape)"
   ]
  },
  {
   "cell_type": "code",
   "execution_count": 97,
   "metadata": {
    "collapsed": true
   },
   "outputs": [],
   "source": [
    "# PARAMETERS\n",
    "source_channels = [(0.1, 0.05, 3),(0.1, 0.05, 5),(0.1, 0.1, 3),\n",
    "                   (0.1, 0.1, 5),(0.1, 0.15, 3),(0.1, 0.15, 5),\n",
    "                   (0.1, 0.2, 3),(0.1, 0.2, 5),(0.1, 0.3, 3),\n",
    "                   (0.1, 0.3, 5),(0.1, 0.5, 3),(0.1, 0.5, 5),\n",
    "                   (0.1, 0.8, 3),(0.1, 0.8, 5),(0.5, 0.05, 3),\n",
    "                   (0.5, 0.05, 5),(0.5, 0.1, 3),(0.5, 0.1, 5),\n",
    "                   (0.5, 0.15, 3),(0.5, 0.15, 5),(0.5, 0.2, 3),\n",
    "                   (0.5, 0.2, 5),(0.5, 0.3, 3),(0.5, 0.3, 5),\n",
    "                   (0.5, 0.5, 3),(0.5, 0.5, 5),(0.5, 0.8, 3),(0.5, 0.8, 5)]\n",
    "BATCH_SIZE = 64\n",
    "EPOCHS = 10\n",
    "verbose = 2\n",
    "validation_split = 0.2\n",
    "ACTIVATION = \"relu\"\n",
    "l2_reg_strength = 0.001\n",
    "LR = 0.01\n",
    "optimizer = \"adam\" # \"sgd\"\n",
    "PADDING = \"same\"\n",
    "keep_prob = 0.5"
   ]
  },
  {
   "cell_type": "code",
   "execution_count": 98,
   "metadata": {
    "collapsed": true
   },
   "outputs": [],
   "source": [
    "model = Sequential()\n",
    "model.add(Conv1D(filters=16, kernel_size=3, strides=1,padding=PADDING, \n",
    "                 activation=ACTIVATION, input_shape=X_train_reshaped.shape[1:]))\n",
    "model.add(Conv1D(filters=16, kernel_size=3, strides=1,padding=PADDING, activation=ACTIVATION))\n",
    "model.add(MaxPooling1D(padding=\"same\"))\n",
    "\n",
    "model.add(Conv1D(filters=16 , kernel_size=3, strides=1,padding=PADDING, activation=ACTIVATION))\n",
    "model.add(Conv1D(filters=16, kernel_size=3, strides=1,padding=PADDING, activation=ACTIVATION))\n",
    "model.add(Flatten())\n",
    "\n",
    "model.add(Dense(128, activation=ACTIVATION))\n",
    "model.add(Dropout(keep_prob))\n",
    "\n",
    "model.add(Dense(y_train_onehot.shape[1] * 2, activation=\"sigmoid\"))\n",
    "model.add(Reshape((y_train_onehot.shape[1], 2)))\n",
    "if optimizer == \"adam\":\n",
    "    opt = Adam(lr=LR, beta_1=0.9, beta_2=0.999, epsilon=None, decay=0.0, amsgrad=False)\n",
    "else:\n",
    "    opt = SGD(lr=LR, decay=1e-6, momentum=0.9, nesterov=True)"
   ]
  },
  {
   "cell_type": "code",
   "execution_count": 99,
   "metadata": {},
   "outputs": [
    {
     "name": "stdout",
     "output_type": "stream",
     "text": [
      "Train on 2688 samples, validate on 672 samples\n",
      "Epoch 1/10\n",
      " - 2s - loss: 0.6269 - acc: 0.6912 - val_loss: 0.5831 - val_acc: 0.7042\n",
      "Epoch 2/10\n",
      " - 0s - loss: 0.5755 - acc: 0.7004 - val_loss: 0.5703 - val_acc: 0.7042\n",
      "Epoch 3/10\n",
      " - 0s - loss: 0.5691 - acc: 0.7004 - val_loss: 0.5702 - val_acc: 0.7042\n",
      "Epoch 4/10\n",
      " - 0s - loss: 0.5633 - acc: 0.7004 - val_loss: 0.5692 - val_acc: 0.7042\n",
      "Epoch 5/10\n",
      " - 0s - loss: 0.5590 - acc: 0.7003 - val_loss: 0.5705 - val_acc: 0.7042\n",
      "Epoch 6/10\n",
      " - 0s - loss: 0.5639 - acc: 0.7004 - val_loss: 0.5641 - val_acc: 0.7042\n",
      "Epoch 7/10\n",
      " - 0s - loss: 0.5544 - acc: 0.7003 - val_loss: 0.5626 - val_acc: 0.7042\n",
      "Epoch 8/10\n",
      " - 0s - loss: 0.5490 - acc: 0.7000 - val_loss: 0.5582 - val_acc: 0.7042\n",
      "Epoch 9/10\n",
      " - 0s - loss: 0.5474 - acc: 0.7005 - val_loss: 0.5623 - val_acc: 0.7042\n",
      "Epoch 10/10\n",
      " - 0s - loss: 0.5436 - acc: 0.7003 - val_loss: 0.5633 - val_acc: 0.7040\n"
     ]
    },
    {
     "data": {
      "text/plain": [
       "<keras.callbacks.History at 0x121698518>"
      ]
     },
     "execution_count": 99,
     "metadata": {},
     "output_type": "execute_result"
    }
   ],
   "source": [
    "model.compile(optimizer=opt, loss='binary_crossentropy', metrics=['accuracy'])\n",
    "model.fit(X_train_reshaped, y_train_onehot, batch_size=BATCH_SIZE, epochs=EPOCHS, \n",
    "          verbose=verbose, validation_split=validation_split, shuffle=True)"
   ]
  },
  {
   "cell_type": "code",
   "execution_count": 100,
   "metadata": {},
   "outputs": [
    {
     "name": "stdout",
     "output_type": "stream",
     "text": [
      "Expected:  [0, 1, 0, 1, 0, 1, 0, 1, 0, 0, 1, 0, 1, 1, 1, 1, 0, 0, 1, 0, 0, 1, 0, 0, 1, 0, 0, 1, 0, 0, 0, 0, 0, 1, 1, 1, 0, 1, 1, 1, 1, 1, 1, 1, 0, 0, 0, 0, 0, 0, 1, 0, 1, 1, 1, 1, 0, 0, 1, 1, 0, 0, 0, 0, 0, 0, 0, 1, 0, 0, 0, 1, 0, 1, 1, 0, 0, 1, 0, 1, 1, 1, 0, 0, 0, 0, 0, 0, 0, 0, 1, 0, 0, 1, 0, 1, 0, 1, 0, 1]\n",
      "Deocde:    [0 0 0 0 0 0 0 0 0 0 0 0 0 0 0 0 0 0 0 0 0 0 0 0 0 0 0 0 0 0 0 0 0 0 0 0 0\n",
      " 0 0 0 0 0 0 0 0 0 0 0 0 0 0 0 0 0 0 0 0 0 0 0 0 0 0 0 0 0 0 0 0 0 0 0 0 0\n",
      " 0 0 0 0 0 0 0 0 0 0 0 0 0 0 0 0 0 0 0 0 0 0 0 0 0 0]\n",
      "\n",
      "Expected:  [0, 0, 1, 1, 1, 0, 1, 0, 1, 1, 1, 0, 0, 1, 0, 1, 1, 1, 1, 1, 1, 0, 0, 0, 1, 1, 0, 0, 1, 0, 0, 1, 0, 0, 1, 0, 0, 0, 0, 1, 0, 0, 0, 1, 0, 0, 1, 1, 0, 0, 1, 1, 0, 0, 0, 0, 1, 0, 0, 1, 1, 0, 0, 1, 1, 1, 1, 0, 1, 0, 0, 0, 0, 0, 1, 0, 1, 1, 1, 0, 1, 0, 1, 1, 1, 0, 0, 0, 0, 1, 0, 0, 1, 0, 1, 1, 1, 1, 1, 0]\n",
      "Deocde:    [0 0 0 0 0 0 0 0 0 0 0 0 0 0 0 0 0 0 0 0 0 0 0 0 0 0 0 0 0 0 0 0 0 0 0 0 0\n",
      " 0 0 0 0 0 0 0 0 0 0 0 0 0 0 0 0 0 0 0 0 0 0 0 0 0 0 0 0 0 0 0 0 0 0 0 0 0\n",
      " 0 0 0 0 0 0 0 0 0 0 0 0 0 0 0 0 0 0 0 0 0 0 0 0 0 0]\n",
      "\n",
      "Expected:  [0, 0, 0, 0, 0, 0, 0, 0, 0, 0, 0, 0, 0, 0, 0, 0, 0, 0, 0, 0, 0, 0, 1, 0, 0, 0, 0, 0, 0, 0, 0, 0, 0, 1, 0, 0, 0, 0, 0, 0, 0, 0, 0, 0, 0, 1, 0, 0, 0, 0, 0, 0, 0, 0, 1, 0, 0, 0, 0, 0, 0, 0, 0, 0, 0, 0, 0, 0, 0, 0, 0, 0, 0, 0, 0, 0, 0, 0, 0, 0, 0, 0, 0, 0, 0, 1, 0, 0, 0, 0, 0, 0, 0, 0, 0, 1, 0, 0, 1, 0]\n",
      "Deocde:    [0 0 0 0 0 0 0 0 0 0 0 0 0 0 0 0 0 0 0 0 0 0 0 0 0 0 0 0 0 0 0 0 0 0 0 0 0\n",
      " 0 0 0 0 0 0 0 0 0 0 0 0 0 0 0 0 0 0 0 0 0 0 0 0 0 0 0 0 0 0 0 0 0 0 0 0 0\n",
      " 0 0 0 0 0 0 0 0 0 0 0 0 0 0 0 0 0 0 0 0 0 0 0 0 0 0]\n",
      "\n"
     ]
    }
   ],
   "source": [
    "for i in range(3):\n",
    "    compare_result(model, threshold=\"argmax\")\n",
    "    print()"
   ]
  },
  {
   "cell_type": "code",
   "execution_count": 127,
   "metadata": {
    "collapsed": true
   },
   "outputs": [],
   "source": [
    "# PARAMETERS\n",
    "source_channels = [(0.1, 0.05, 3),(0.1, 0.05, 5),(0.1, 0.1, 3),\n",
    "                   (0.1, 0.1, 5),(0.1, 0.15, 3),(0.1, 0.15, 5),\n",
    "                   (0.1, 0.2, 3),(0.1, 0.2, 5),(0.1, 0.3, 3),\n",
    "                   (0.1, 0.3, 5),(0.1, 0.5, 3),(0.1, 0.5, 5),\n",
    "                   (0.1, 0.8, 3),(0.1, 0.8, 5),(0.5, 0.05, 3),\n",
    "                   (0.5, 0.05, 5),(0.5, 0.1, 3),(0.5, 0.1, 5),\n",
    "                   (0.5, 0.15, 3),(0.5, 0.15, 5),(0.5, 0.2, 3),\n",
    "                   (0.5, 0.2, 5),(0.5, 0.3, 3),(0.5, 0.3, 5),\n",
    "                   (0.5, 0.5, 3),(0.5, 0.5, 5),(0.5, 0.8, 3),(0.5, 0.8, 5)]\n",
    "BATCH_SIZE = 128\n",
    "EPOCHS = 20\n",
    "verbose = 2\n",
    "validation_split = 0.2\n",
    "ACTIVATION = \"relu\"\n",
    "l2_reg_strength = 0.001\n",
    "LR = 0.001\n",
    "optimizer = \"adam\" # \"sgd\"\n",
    "PADDING = \"same\"\n",
    "keep_prob = 0.5"
   ]
  },
  {
   "cell_type": "code",
   "execution_count": 128,
   "metadata": {
    "collapsed": true
   },
   "outputs": [],
   "source": [
    "encoding_length = 5"
   ]
  },
  {
   "cell_type": "code",
   "execution_count": 129,
   "metadata": {
    "collapsed": true
   },
   "outputs": [],
   "source": [
    "model = Sequential()\n",
    "model.add(Conv1D(filters=32, kernel_size=3, strides=1,padding=PADDING, \n",
    "                 activation=None, input_shape=X_train_reshaped.shape[1:]))\n",
    "model.add(BatchNormalization())\n",
    "model.add(Activation(ACTIVATION))\n",
    "# model.add(Dropout(0.2))\n",
    "\n",
    "model.add(Conv1D(filters=32, kernel_size=3, strides=1,padding=PADDING, activation=None))\n",
    "model.add(BatchNormalization())\n",
    "model.add(Activation(ACTIVATION))\n",
    "# model.add(Dropout(0.2))\n",
    "\n",
    "model.add(MaxPooling1D(padding=\"same\"))\n",
    "\n",
    "\n",
    "model.add(Conv1D(filters=32 , kernel_size=3, strides=1,padding=PADDING, activation=None))\n",
    "model.add(BatchNormalization())\n",
    "model.add(Activation(ACTIVATION))\n",
    "# model.add(Dropout(0.2))\n",
    "\n",
    "model.add(Conv1D(filters=32, kernel_size=3, strides=1,padding=PADDING, activation=None))\n",
    "model.add(BatchNormalization())\n",
    "model.add(Activation(ACTIVATION))\n",
    "\n",
    "model.add(Flatten())\n",
    "\n",
    "model.add(Dense(300, activation=None))\n",
    "model.add(BatchNormalization())\n",
    "model.add(Activation(ACTIVATION))\n",
    "\n",
    "model.add(Dropout(keep_prob))\n",
    "\n",
    "model.add(Dense(y_train_onehot.shape[1] * 2, activation=\"sigmoid\"))\n",
    "model.add(Reshape((y_train_onehot.shape[1], 2)))\n",
    "if optimizer == \"adam\":\n",
    "    opt = Adam(lr=LR, beta_1=0.9, beta_2=0.999, epsilon=None, decay=0.0, amsgrad=False)\n",
    "else:\n",
    "    opt = SGD(lr=LR, decay=1e-6, momentum=0.9, nesterov=True)"
   ]
  },
  {
   "cell_type": "code",
   "execution_count": 130,
   "metadata": {},
   "outputs": [
    {
     "name": "stdout",
     "output_type": "stream",
     "text": [
      "Train on 2688 samples, validate on 672 samples\n",
      "Epoch 1/20\n",
      " - 4s - loss: 0.7130 - acc: 0.6032 - val_loss: 0.6035 - val_acc: 0.6862\n",
      "Epoch 2/20\n",
      " - 0s - loss: 0.6057 - acc: 0.6714 - val_loss: 0.6883 - val_acc: 0.7004\n",
      "Epoch 3/20\n",
      " - 1s - loss: 0.5776 - acc: 0.6867 - val_loss: 1.1695 - val_acc: 0.7029\n",
      "Epoch 4/20\n",
      " - 0s - loss: 0.5636 - acc: 0.6916 - val_loss: 1.0347 - val_acc: 0.7032\n",
      "Epoch 5/20\n",
      " - 0s - loss: 0.5570 - acc: 0.6933 - val_loss: 0.7481 - val_acc: 0.7032\n",
      "Epoch 6/20\n",
      " - 0s - loss: 0.5520 - acc: 0.6965 - val_loss: 0.6216 - val_acc: 0.7031\n",
      "Epoch 7/20\n",
      " - 1s - loss: 0.5484 - acc: 0.6978 - val_loss: 0.5584 - val_acc: 0.7011\n",
      "Epoch 8/20\n",
      " - 1s - loss: 0.5444 - acc: 0.6993 - val_loss: 0.5518 - val_acc: 0.7017\n",
      "Epoch 9/20\n",
      " - 1s - loss: 0.5404 - acc: 0.7007 - val_loss: 0.5497 - val_acc: 0.7001\n",
      "Epoch 10/20\n",
      " - 1s - loss: 0.5370 - acc: 0.7018 - val_loss: 0.5482 - val_acc: 0.7011\n",
      "Epoch 11/20\n",
      " - 0s - loss: 0.5333 - acc: 0.7035 - val_loss: 0.5545 - val_acc: 0.6989\n",
      "Epoch 12/20\n",
      " - 1s - loss: 0.5290 - acc: 0.7056 - val_loss: 0.5498 - val_acc: 0.7000\n",
      "Epoch 13/20\n",
      " - 0s - loss: 0.5246 - acc: 0.7078 - val_loss: 0.5488 - val_acc: 0.7003\n",
      "Epoch 14/20\n",
      " - 0s - loss: 0.5211 - acc: 0.7096 - val_loss: 0.5530 - val_acc: 0.6974\n",
      "Epoch 15/20\n",
      " - 1s - loss: 0.5178 - acc: 0.7111 - val_loss: 0.5495 - val_acc: 0.6979\n",
      "Epoch 16/20\n",
      " - 0s - loss: 0.5146 - acc: 0.7126 - val_loss: 0.5506 - val_acc: 0.6971\n",
      "Epoch 17/20\n",
      " - 1s - loss: 0.5100 - acc: 0.7162 - val_loss: 0.5548 - val_acc: 0.6953\n",
      "Epoch 18/20\n",
      " - 0s - loss: 0.5066 - acc: 0.7171 - val_loss: 0.5594 - val_acc: 0.6897\n",
      "Epoch 19/20\n",
      " - 0s - loss: 0.5045 - acc: 0.7194 - val_loss: 0.5547 - val_acc: 0.6939\n",
      "Epoch 20/20\n",
      " - 0s - loss: 0.5016 - acc: 0.7206 - val_loss: 0.5548 - val_acc: 0.6856\n"
     ]
    },
    {
     "data": {
      "text/plain": [
       "<keras.callbacks.History at 0x137bbe748>"
      ]
     },
     "execution_count": 130,
     "metadata": {},
     "output_type": "execute_result"
    }
   ],
   "source": [
    "model.compile(optimizer=opt, loss='binary_crossentropy', metrics=['accuracy'])\n",
    "model.fit(X_train_reshaped, y_train_onehot, batch_size=BATCH_SIZE, epochs=EPOCHS, \n",
    "          verbose=verbose, validation_split=validation_split, shuffle=True)"
   ]
  },
  {
   "cell_type": "code",
   "execution_count": 131,
   "metadata": {},
   "outputs": [
    {
     "name": "stdout",
     "output_type": "stream",
     "text": [
      "Expected:  [1, 0, 1, 1, 1, 0, 0, 0, 0, 0, 1, 0, 1, 0, 1, 1, 1, 0, 0, 0, 1, 0, 1, 1, 1, 1, 1, 1, 0, 1, 1, 1, 0, 1, 0, 0, 0, 1, 1, 0, 0, 0, 0, 0, 1, 1, 1, 0, 0, 0, 0, 1, 1, 1, 0, 1, 0, 1, 1, 1, 0, 1, 1, 0, 0, 0, 0, 1, 0, 0, 1, 1, 1, 0, 0, 1, 0, 1, 1, 0, 0, 0, 1, 1, 1, 1, 0, 1, 0, 0, 0, 1, 0, 0, 0, 1, 1, 1, 0, 1]\n",
      "Deocde:    [0 0 0 0 0 0 0 0 0 0 0 0 0 0 0 0 0 0 0 0 0 0 0 0 0 0 0 0 0 0 0 0 0 0 0 0 0\n",
      " 0 0 0 0 0 0 0 0 0 0 0 0 0 0 0 0 0 0 0 0 0 0 0 0 0 0 0 0 0 0 0 0 0 0 0 0 0\n",
      " 0 0 0 0 0 0 0 0 0 0 0 0 0 0 0 0 0 0 0 0 0 0 0 0 0 0]\n",
      "\n",
      "Expected:  [0, 1, 0, 1, 0, 1, 1, 1, 1, 0, 1, 1, 0, 1, 0, 1, 1, 0, 0, 1, 0, 0, 1, 1, 1, 0, 0, 1, 1, 0, 1, 0, 1, 0, 0, 1, 1, 0, 0, 1, 1, 1, 1, 1, 1, 1, 0, 1, 0, 0, 1, 0, 1, 0, 0, 1, 1, 1, 0, 1, 0, 1, 1, 1, 1, 1, 1, 0, 1, 1, 1, 1, 1, 0, 0, 0, 1, 1, 1, 0, 0, 0, 0, 1, 1, 1, 0, 1, 1, 0, 0, 1, 1, 1, 1, 0, 1, 1, 0, 0]\n",
      "Deocde:    [0 0 0 0 0 0 0 0 0 0 0 0 0 0 0 0 0 0 0 0 0 0 0 0 0 0 0 0 0 0 0 0 0 0 0 0 0\n",
      " 0 0 0 0 0 0 0 0 0 0 0 0 0 0 0 0 0 0 0 0 0 0 0 0 0 0 0 0 0 0 0 0 0 0 0 0 0\n",
      " 0 0 0 0 0 0 0 0 0 0 0 0 0 0 0 0 0 0 0 0 0 0 0 0 0 0]\n",
      "\n",
      "Expected:  [1, 0, 0, 1, 1, 1, 1, 1, 0, 1, 0, 0, 0, 1, 0, 0, 0, 0, 0, 1, 0, 0, 0, 0, 1, 1, 0, 0, 0, 1, 0, 0, 0, 0, 1, 1, 1, 0, 1, 0, 0, 0, 0, 0, 1, 0, 0, 1, 0, 1, 0, 1, 0, 0, 1, 1, 0, 1, 1, 0, 0, 1, 0, 1, 0, 1, 0, 1, 0, 1, 1, 1, 0, 1, 1, 1, 0, 1, 1, 0, 1, 1, 0, 1, 1, 0, 1, 0, 1, 0, 1, 0, 1, 0, 1, 0, 0, 1, 1, 1]\n",
      "Deocde:    [0 0 0 0 0 0 0 0 0 0 0 0 0 0 0 0 0 0 0 0 0 0 0 1 0 0 0 0 0 0 0 0 0 0 0 0 0\n",
      " 0 0 0 0 0 0 0 0 0 0 0 0 0 0 0 0 0 0 0 0 0 0 0 0 0 0 0 0 0 0 0 0 0 0 0 0 0\n",
      " 0 0 0 0 0 0 0 0 0 0 0 0 0 0 0 0 0 0 0 0 0 0 0 0 0 0]\n",
      "\n"
     ]
    }
   ],
   "source": [
    "for i in range(3):\n",
    "    compare_result(model, threshold=\"argmax\")\n",
    "    print()"
   ]
  },
  {
   "cell_type": "markdown",
   "metadata": {
    "collapsed": true
   },
   "source": [
    "# FNN on k =100 data"
   ]
  },
  {
   "cell_type": "code",
   "execution_count": 57,
   "metadata": {
    "collapsed": true
   },
   "outputs": [],
   "source": [
    "# encoding_length = 3\n",
    "encoding_length = 5\n",
    "architecture = [32,128,100]\n",
    "# PARAMETERS\n",
    "source_channels = [(0.1, 0.05, 3),(0.1, 0.05, 5),(0.1, 0.1, 3),\n",
    "                   (0.1, 0.1, 5),(0.1, 0.15, 3),(0.1, 0.15, 5),\n",
    "                   (0.1, 0.2, 3),(0.1, 0.2, 5),(0.1, 0.3, 3),\n",
    "                   (0.1, 0.3, 5),(0.1, 0.5, 3),(0.1, 0.5, 5),\n",
    "                   (0.1, 0.8, 3),(0.1, 0.8, 5),(0.5, 0.05, 3),\n",
    "                   (0.5, 0.05, 5),(0.5, 0.1, 3),(0.5, 0.1, 5),\n",
    "                   (0.5, 0.15, 3),(0.5, 0.15, 5),(0.5, 0.2, 3),\n",
    "                   (0.5, 0.2, 5),(0.5, 0.3, 3),(0.5, 0.3, 5),\n",
    "                   (0.5, 0.5, 3),(0.5, 0.5, 5),(0.5, 0.8, 3),(0.5, 0.8, 5)]\n",
    "BATCH_SIZE = 128\n",
    "EPOCHS = 20\n",
    "verbose = 2\n",
    "validation_split = 0.2\n",
    "ACTIVATION = \"relu\"\n",
    "l2_reg_strength = 0.01\n",
    "LR = 0.005\n",
    "optimizer = \"adam\" # \"sgd\""
   ]
  },
  {
   "cell_type": "code",
   "execution_count": 58,
   "metadata": {
    "collapsed": true
   },
   "outputs": [],
   "source": [
    "y, X, _ = prepare_data(data_k100, length=encoding_length, source_channels=source_channels)\n",
    "\n",
    "X_train, X_test, y_train, y_test = train_test_split(X, y)\n",
    "\n",
    "y_train_onehot, y_test_onehot = one_hot_dataset(y_train), one_hot_dataset(y_test)\n"
   ]
  },
  {
   "cell_type": "code",
   "execution_count": 59,
   "metadata": {},
   "outputs": [
    {
     "name": "stdout",
     "output_type": "stream",
     "text": [
      "Train on 2688 samples, validate on 672 samples\n",
      "Epoch 1/20\n",
      " - 0s - loss: 1.5781 - acc: 0.6769 - val_loss: 0.7911 - val_acc: 0.7067\n",
      "Epoch 2/20\n",
      " - 0s - loss: 0.6678 - acc: 0.7021 - val_loss: 0.6162 - val_acc: 0.7067\n",
      "Epoch 3/20\n",
      " - 0s - loss: 0.6160 - acc: 0.7021 - val_loss: 0.6076 - val_acc: 0.7067\n",
      "Epoch 4/20\n",
      " - 0s - loss: 0.6108 - acc: 0.7021 - val_loss: 0.6062 - val_acc: 0.7067\n",
      "Epoch 5/20\n",
      " - 0s - loss: 0.6100 - acc: 0.7021 - val_loss: 0.6053 - val_acc: 0.7067\n",
      "Epoch 6/20\n",
      " - 0s - loss: 0.6093 - acc: 0.7021 - val_loss: 0.6059 - val_acc: 0.7067\n",
      "Epoch 7/20\n",
      " - 0s - loss: 0.6098 - acc: 0.7021 - val_loss: 0.6054 - val_acc: 0.7067\n",
      "Epoch 8/20\n",
      " - 0s - loss: 0.6095 - acc: 0.7021 - val_loss: 0.6054 - val_acc: 0.7067\n",
      "Epoch 9/20\n",
      " - 0s - loss: 0.6093 - acc: 0.7021 - val_loss: 0.6054 - val_acc: 0.7067\n",
      "Epoch 10/20\n",
      " - 0s - loss: 0.6093 - acc: 0.7021 - val_loss: 0.6052 - val_acc: 0.7067\n",
      "Epoch 11/20\n",
      " - 0s - loss: 0.6093 - acc: 0.7021 - val_loss: 0.6053 - val_acc: 0.7067\n",
      "Epoch 12/20\n",
      " - 0s - loss: 0.6094 - acc: 0.7021 - val_loss: 0.6057 - val_acc: 0.7067\n",
      "Epoch 13/20\n",
      " - 0s - loss: 0.6098 - acc: 0.7021 - val_loss: 0.6065 - val_acc: 0.7067\n",
      "Epoch 14/20\n",
      " - 0s - loss: 0.6095 - acc: 0.7021 - val_loss: 0.6053 - val_acc: 0.7067\n",
      "Epoch 15/20\n",
      " - 0s - loss: 0.6095 - acc: 0.7021 - val_loss: 0.6055 - val_acc: 0.7067\n",
      "Epoch 16/20\n",
      " - 0s - loss: 0.6094 - acc: 0.7021 - val_loss: 0.6053 - val_acc: 0.7067\n",
      "Epoch 17/20\n",
      " - 0s - loss: 0.6095 - acc: 0.7021 - val_loss: 0.6057 - val_acc: 0.7067\n",
      "Epoch 18/20\n",
      " - 0s - loss: 0.6095 - acc: 0.7021 - val_loss: 0.6053 - val_acc: 0.7067\n",
      "Epoch 19/20\n",
      " - 0s - loss: 0.6101 - acc: 0.7021 - val_loss: 0.6067 - val_acc: 0.7067\n",
      "Epoch 20/20\n",
      " - 0s - loss: 0.6098 - acc: 0.7021 - val_loss: 0.6055 - val_acc: 0.7067\n",
      "840/840 [==============================] - 0s 38us/step\n"
     ]
    }
   ],
   "source": [
    "model, loss = build_train_model(architecture)"
   ]
  },
  {
   "cell_type": "code",
   "execution_count": 60,
   "metadata": {},
   "outputs": [
    {
     "name": "stdout",
     "output_type": "stream",
     "text": [
      "Expected:  [1, 0, 0, 0, 1, 1, 0, 1, 1, 1, 1, 1, 0, 1, 1, 1, 1, 1, 0, 1, 1, 0, 1, 1, 0, 0, 1, 1, 0, 0, 1, 0, 1, 1, 0, 1, 1, 1, 1, 1, 0, 0, 1, 1, 0, 1, 0, 1, 1, 0, 1, 0, 1, 1, 0, 0, 0, 0, 1, 1, 1, 1, 0, 1, 0, 0, 0, 1, 1, 1, 1, 1, 0, 1, 1, 0, 1, 0, 0, 1, 1, 1, 1, 1, 1, 1, 1, 0, 1, 0, 0, 0, 1, 0, 0, 1, 0, 1, 0, 0]\n",
      "Deocde:    [0 0 0 0 0 0 0 0 0 0 0 0 0 0 0 0 0 0 0 0 0 0 0 0 0 0 0 0 0 0 0 0 0 0 0 0 0\n",
      " 0 0 0 0 0 0 0 0 0 0 0 0 0 0 0 0 0 0 0 0 0 0 0 0 0 0 0 0 0 0 0 0 0 0 0 0 0\n",
      " 0 0 0 0 0 0 0 0 0 0 0 0 0 0 0 0 0 0 0 0 0 0 0 0 0 0]\n",
      "\n",
      "Expected:  [1, 0, 0, 1, 1, 1, 0, 0, 1, 0, 1, 1, 0, 1, 1, 0, 1, 1, 0, 0, 1, 0, 1, 0, 1, 1, 1, 0, 0, 0, 0, 1, 0, 0, 1, 1, 1, 0, 0, 1, 1, 0, 1, 1, 1, 1, 0, 1, 1, 1, 0, 0, 0, 0, 1, 1, 1, 1, 1, 0, 0, 0, 1, 0, 0, 0, 1, 1, 1, 0, 1, 1, 0, 0, 0, 1, 1, 1, 0, 0, 0, 1, 0, 1, 1, 1, 1, 0, 1, 1, 1, 0, 1, 1, 0, 1, 0, 1, 1, 0]\n",
      "Deocde:    [0 0 0 0 0 0 0 0 0 0 0 0 0 0 0 0 0 0 0 0 0 0 0 0 0 0 0 0 0 0 0 0 0 0 0 0 0\n",
      " 0 0 0 0 0 0 0 0 0 0 0 0 0 0 0 0 0 0 0 0 0 0 0 0 0 0 0 0 0 0 0 0 0 0 0 0 0\n",
      " 0 0 0 0 0 0 0 0 0 0 0 0 0 0 0 0 0 0 0 0 0 0 0 0 0 0]\n",
      "\n",
      "Expected:  [0, 0, 1, 0, 1, 1, 1, 1, 0, 1, 0, 1, 0, 1, 0, 1, 0, 0, 1, 1, 0, 1, 0, 0, 1, 1, 1, 1, 1, 0, 1, 1, 1, 0, 1, 1, 0, 0, 1, 1, 0, 0, 0, 1, 1, 0, 1, 0, 0, 1, 1, 1, 1, 1, 0, 0, 0, 1, 0, 1, 1, 1, 1, 1, 1, 0, 0, 1, 1, 1, 0, 1, 1, 1, 0, 0, 0, 0, 1, 1, 1, 1, 1, 0, 0, 0, 0, 0, 1, 1, 1, 1, 0, 1, 0, 1, 0, 0, 0, 1]\n",
      "Deocde:    [0 0 0 0 0 0 0 0 0 0 0 0 0 0 0 0 0 0 0 0 0 0 0 0 0 0 0 0 0 0 0 0 0 0 0 0 0\n",
      " 0 0 0 0 0 0 0 0 0 0 0 0 0 0 0 0 0 0 0 0 0 0 0 0 0 0 0 0 0 0 0 0 0 0 0 0 0\n",
      " 0 0 0 0 0 0 0 0 0 0 0 0 0 0 0 0 0 0 0 0 0 0 0 0 0 0]\n",
      "\n"
     ]
    }
   ],
   "source": [
    "for i in range(3):\n",
    "    compare_result(model, threshold=\"argmax\")\n",
    "    print()"
   ]
  },
  {
   "cell_type": "code",
   "execution_count": null,
   "metadata": {
    "collapsed": true
   },
   "outputs": [],
   "source": []
  }
 ],
 "metadata": {
  "kernelspec": {
   "display_name": "Python 3",
   "language": "python",
   "name": "python3"
  },
  "language_info": {
   "codemirror_mode": {
    "name": "ipython",
    "version": 3
   },
   "file_extension": ".py",
   "mimetype": "text/x-python",
   "name": "python",
   "nbconvert_exporter": "python",
   "pygments_lexer": "ipython3",
   "version": "3.6.4"
  }
 },
 "nbformat": 4,
 "nbformat_minor": 2
}
