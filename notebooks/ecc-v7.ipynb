{
 "cells": [
  {
   "cell_type": "code",
   "execution_count": 1,
   "metadata": {},
   "outputs": [
    {
     "name": "stderr",
     "output_type": "stream",
     "text": [
      "/Users/michael-tu/anaconda/lib/python3.6/site-packages/h5py/__init__.py:34: FutureWarning: Conversion of the second argument of issubdtype from `float` to `np.floating` is deprecated. In future, it will be treated as `np.float64 == np.dtype(float).type`.\n",
      "  from ._conv import register_converters as _register_converters\n"
     ]
    }
   ],
   "source": [
    "import numpy as np\n",
    "import tensorflow as tf\n",
    "import os\n",
    "import matplotlib.pyplot as plt\n",
    "%matplotlib inline\n",
    "import pickle\n",
    "from functools import reduce"
   ]
  },
  {
   "cell_type": "code",
   "execution_count": 37,
   "metadata": {},
   "outputs": [],
   "source": [
    "import keras\n",
    "from keras import regularizers\n",
    "from keras import backend as K\n",
    "from keras.optimizers import Adam\n",
    "from keras.models import Model, Sequential\n",
    "from keras.layers import Dense, Input, Activation, Dropout, BatchNormalization, Flatten, Reshape\n",
    "from keras.layers import Conv2D, MaxPooling2D, AveragePooling2D, UpSampling2D\n",
    "from keras.layers import Conv1D, MaxPooling1D, AveragePooling1D, UpSampling1D\n",
    "from keras.layers import SimpleRNN, RNN, LSTM, Embedding\n",
    "from keras.optimizers import Adam, SGD\n",
    "import keras.utils as utils\n",
    "from sklearn.model_selection import train_test_split"
   ]
  },
  {
   "cell_type": "markdown",
   "metadata": {},
   "source": [
    "# Helper Functions"
   ]
  },
  {
   "cell_type": "code",
   "execution_count": null,
   "metadata": {
    "collapsed": true
   },
   "outputs": [],
   "source": [
    "def accuracy(prediction, ground_truth):\n",
    "    return np.mean(np.argmax(prediction, axis=2) == np.argmax(ground_truth, axis=2))"
   ]
  },
  {
   "cell_type": "code",
   "execution_count": null,
   "metadata": {
    "collapsed": true
   },
   "outputs": [],
   "source": [
    "def show_prediction(model, x, y, n_show=2, onehot=False):\n",
    "    indicies = np.random.randint(low=0, high=x.shape[0], size=n_show)\n",
    "    y_pred = model.predict(x[indicies])\n",
    "    y_pred_binary = np.vstack([np.argmax(p, axis=1) for p in y_pred])\n",
    "    truth = y[indicies].astype(y_pred_binary.dtype)\n",
    "    if onehot: truth = np.argmax(truth, axis=2)\n",
    "    for i in range(len(truth)):\n",
    "        print(\"\\n############## Example {0} ##############\".format(i))\n",
    "        print(\"Expected:\\n\", truth[i])\n",
    "        print(\"Actual:\\n\", y_pred_binary[i])\n",
    "        print(\"Accuracy:\", np.mean(truth[i] == y_pred_binary[i]))"
   ]
  },
  {
   "cell_type": "markdown",
   "metadata": {},
   "source": [
    "# Decoding from Clean Encoded Sequence"
   ]
  },
  {
   "cell_type": "code",
   "execution_count": 220,
   "metadata": {},
   "outputs": [
    {
     "name": "stdout",
     "output_type": "stream",
     "text": [
      "../data/dataset_04/data/dataset_n25000_k10_e0.05.pkl\r\n",
      "../data/dataset_04/data/dataset_n25000_k20_e0.05.pkl\r\n",
      "../data/dataset_04/data/dataset_n25000_k30_e0.05.pkl\r\n",
      "../data/dataset_04/data/dataset_n25000_k40_e0.05.pkl\r\n",
      "../data/dataset_04/data/dataset_n25000_k50_e0.05.pkl\r\n"
     ]
    }
   ],
   "source": [
    "!ls ../data/dataset_04/data/*k*0_*e0.05.pkl"
   ]
  },
  {
   "cell_type": "code",
   "execution_count": 213,
   "metadata": {
    "collapsed": true
   },
   "outputs": [],
   "source": [
    "def train_and_plot(path, batch_size=64, epochs=30, verbose=2, plot=True, plot_title='error 0.05, Trellis = 3',\n",
    "                    show_prediction_N=2, show_test_accuracy=True):\n",
    "    data = pickle.load(open(path, 'rb'))\n",
    "    \n",
    "    encoded_seqs = np.array(data[\"encoded_seqs\"])\n",
    "    noisy_seq = np.array(data[\"noisy_seqs\"])\n",
    "    encoded_seqs = utils.np_utils.to_categorical(encoded_seqs)\n",
    "    noisy_seq = utils.np_utils.to_categorical(noisy_seq)\n",
    "    \n",
    "    X_train, X_test, y_train, y_test = train_test_split(noisy_seq, encoded_seqs, test_size=0.2)\n",
    "    X_train, X_val, y_train, y_val = train_test_split(X_train, y_train, test_size=0.2)\n",
    "    \n",
    "    output_shape = X_train.shape[1:]\n",
    "    \n",
    "    model = Sequential()\n",
    "    model.add(Flatten(input_shape=output_shape))\n",
    "    model.add(Dense(np.product(output_shape) * 10, activation='relu'))\n",
    "    model.add(Dropout(0.5))\n",
    "    model.add(Dense(np.product(output_shape) * 6, activation='relu'))\n",
    "    model.add(Dropout(0.5))\n",
    "    model.add(Dense(np.product(output_shape), activation='sigmoid'))\n",
    "    model.add(Reshape(output_shape))\n",
    "    opt = Adam(lr=0.01)\n",
    "    model.compile(opt, \"binary_crossentropy\")\n",
    "    \n",
    "    history = model.fit(x=X_train, y=y_train, batch_size=batch_size, epochs=epochs, \n",
    "                    verbose=verbose, validation_data=(X_val, y_val), shuffle=True)\n",
    "    \n",
    "    if plot:\n",
    "        plt.plot(history.history['loss'], label=\"training loss\")\n",
    "        plt.plot(history.history['val_loss'], label=\"validation loss\")\n",
    "        plt.title(plot_title)\n",
    "        plt.xlabel('Training epoches')\n",
    "        plt.ylabel('Decoding Loss')\n",
    "        plt.legend()\n",
    "        plt.show()\n",
    "    \n",
    "    if show_test_accuracy:\n",
    "        print(\"test accuracy:\", accuracy(model.predict(X_test), y_test))\n",
    "    \n",
    "    if show_prediction_N:\n",
    "        show_prediction(model, X_test, y_test, n_show=show_prediction_N, onehot=True)\n",
    "    \n",
    "    return model, history"
   ]
  },
  {
   "cell_type": "code",
   "execution_count": 217,
   "metadata": {},
   "outputs": [
    {
     "data": {
      "image/png": "[encoded data removed]",
      "text/plain": [
       "<matplotlib.figure.Figure at 0x146f29fd0>"
      ]
     },
     "metadata": {},
     "output_type": "display_data"
    },
    {
     "name": "stdout",
     "output_type": "stream",
     "text": [
      "test accuracy: 0.972075\n",
      "\n",
      "############## Example 0 ##############\n",
      "Expected:\n",
      " [1 1 0 1 0 0 0 1 0 0 1 0 0 1 0 1 1 0 0 0 0 1 1 1]\n",
      "Actual:\n",
      " [1 1 0 1 0 0 0 1 0 0 1 0 0 1 0 1 1 0 0 0 0 1 1 1]\n",
      "Accuracy: 1.0\n",
      "\n",
      "############## Example 1 ##############\n",
      "Expected:\n",
      " [0 0 1 1 1 0 0 1 1 0 0 0 1 0 1 0 0 0 1 0 1 0 1 1]\n",
      "Actual:\n",
      " [0 0 1 1 1 0 0 1 1 0 0 0 1 0 1 0 0 0 1 0 1 0 1 1]\n",
      "Accuracy: 1.0\n"
     ]
    }
   ],
   "source": [
    "model, history = train_and_plot('../data/dataset_04/data/dataset_n25000_k10_e0.05.pkl',\n",
    "               batch_size=128, epochs=50, verbose=0, plot=True, plot_title='error 0.05, Trellis = 3, k10',\n",
    "               show_prediction_N=2, show_test_accuracy=True)"
   ]
  },
  {
   "cell_type": "code",
   "execution_count": 218,
   "metadata": {},
   "outputs": [
    {
     "data": {
      "image/png": "[encoded data removed]",
      "text/plain": [
       "<matplotlib.figure.Figure at 0x1472c8b70>"
      ]
     },
     "metadata": {},
     "output_type": "display_data"
    },
    {
     "name": "stdout",
     "output_type": "stream",
     "text": [
      "test accuracy: 0.9226681818181818\n",
      "\n",
      "############## Example 0 ##############\n",
      "Expected:\n",
      " [0 0 0 0 1 1 0 1 1 1 0 0 1 1 0 1 0 0 0 1 0 0 1 0 0 1 0 1 0 1 0 1 1 0 0 0 0\n",
      " 1 0 0 0 1 1 1]\n",
      "Actual:\n",
      " [0 0 0 0 1 1 0 1 0 1 0 0 1 1 0 1 0 0 0 1 0 0 1 0 0 1 0 1 0 1 0 1 1 0 0 0 0\n",
      " 1 0 1 0 1 1 1]\n",
      "Accuracy: 0.9545454545454546\n",
      "\n",
      "############## Example 1 ##############\n",
      "Expected:\n",
      " [1 1 0 1 1 1 0 0 1 1 1 0 0 1 0 1 1 0 0 0 1 0 0 1 1 0 1 1 1 1 0 1 1 1 0 0 1\n",
      " 1 0 1 1 1 0 0]\n",
      "Actual:\n",
      " [1 1 0 1 1 1 1 0 1 1 0 1 0 1 0 1 1 0 0 0 1 0 0 1 1 0 1 1 0 1 0 1 1 1 0 0 1\n",
      " 1 0 1 1 1 0 0]\n",
      "Accuracy: 0.9090909090909091\n"
     ]
    }
   ],
   "source": [
    "model, history = train_and_plot('../data/dataset_04/data/dataset_n25000_k20_e0.05.pkl',\n",
    "               batch_size=128, epochs=50, verbose=0, plot=True, plot_title='error 0.05, Trellis = 3, k20',\n",
    "               show_prediction_N=2, show_test_accuracy=True)"
   ]
  },
  {
   "cell_type": "code",
   "execution_count": 219,
   "metadata": {},
   "outputs": [
    {
     "data": {
      "image/png": "[encoded data removed]",
      "text/plain": [
       "<matplotlib.figure.Figure at 0x1464c0358>"
      ]
     },
     "metadata": {},
     "output_type": "display_data"
    },
    {
     "name": "stdout",
     "output_type": "stream",
     "text": [
      "test accuracy: 0.6485375\n",
      "\n",
      "############## Example 0 ##############\n",
      "Expected:\n",
      " [1 1 1 0 0 1 0 1 1 0 1 1 0 0 1 1 0 1 1 1 1 1 1 0 0 1 1 0 1 1 1 1 0 1 0 0 1\n",
      " 0 1 0 0 0 1 0 1 0 0 0 0 1 0 0 1 0 1 0 1 1 1 1 0 1 1 1]\n",
      "Actual:\n",
      " [1 1 1 0 0 1 0 1 1 0 0 1 0 0 0 1 1 0 0 1 1 1 1 0 0 0 1 1 1 0 0 1 0 1 1 0 1\n",
      " 1 0 1 0 0 0 1 1 1 0 1 0 1 0 1 0 0 0 1 1 1 1 1 0 1 1 1]\n",
      "Accuracy: 0.671875\n",
      "\n",
      "############## Example 1 ##############\n",
      "Expected:\n",
      " [1 1 1 0 0 1 0 1 0 1 0 1 1 0 1 1 0 0 0 0 1 1 1 0 0 1 1 0 1 1 0 0 1 1 1 0 1\n",
      " 0 1 1 0 0 0 0 1 1 0 1 1 1 1 1 1 0 0 1 1 0 1 1 0 0 0 0]\n",
      "Actual:\n",
      " [1 1 1 0 0 1 0 1 0 1 0 1 0 0 1 1 1 1 0 1 1 1 1 0 0 0 1 1 0 0 0 0 1 0 1 1 1\n",
      " 1 1 0 1 0 0 1 1 1 0 1 0 1 1 0 0 0 0 1 1 0 1 1 0 0 0 0]\n",
      "Accuracy: 0.734375\n"
     ]
    }
   ],
   "source": [
    "model, history = train_and_plot('../data/dataset_04/data/dataset_n25000_k30_e0.05.pkl',\n",
    "               batch_size=128, epochs=50, verbose=0, plot=True, plot_title='error 0.05, Trellis = 3, k30',\n",
    "               show_prediction_N=2, show_test_accuracy=True)"
   ]
  },
  {
   "cell_type": "code",
   "execution_count": 221,
   "metadata": {
    "collapsed": true
   },
   "outputs": [],
   "source": [
    "data = pickle.load(open('../data/dataset_04/data/dataset_n25000_k10_e0.05.pkl', 'rb'))"
   ]
  },
  {
   "cell_type": "code",
   "execution_count": 316,
   "metadata": {},
   "outputs": [],
   "source": [
    "encoded_seqs = np.array(data[\"encoded_seqs\"])\n",
    "noisy_seq = np.array(data[\"noisy_seqs\"])\n",
    "\n",
    "encoded_seqs = utils.np_utils.to_categorical(encoded_seqs).reshape((-1, 48))\n",
    "# noisy_seq = utils.np_utils.to_categorical(noisy_seq)"
   ]
  },
  {
   "cell_type": "code",
   "execution_count": 317,
   "metadata": {},
   "outputs": [
    {
     "name": "stdout",
     "output_type": "stream",
     "text": [
      "(25000, 48) (25000, 24)\n"
     ]
    }
   ],
   "source": [
    "print(encoded_seqs.shape, noisy_seq.shape)"
   ]
  },
  {
   "cell_type": "code",
   "execution_count": 320,
   "metadata": {
    "collapsed": true
   },
   "outputs": [],
   "source": [
    "X_train, X_test, y_train, y_test = train_test_split(noisy_seq, encoded_seqs, test_size=0.2)\n",
    "X_train, X_val, y_train, y_val = train_test_split(X_train, y_train, test_size=0.2)"
   ]
  },
  {
   "cell_type": "code",
   "execution_count": 321,
   "metadata": {},
   "outputs": [],
   "source": [
    "X = tf.placeholder(dtype=tf.float32, shape=(None, 24), name=\"input\")\n",
    "Y = tf.placeholder(dtype=tf.float32, shape=(None, 48), name=\"output\")\n",
    "\n",
    "W1 = tf.Variable(tf.truncated_normal(shape=(24, 240), stddev=0.1))\n",
    "b1 = tf.Variable(tf.constant(0.1, shape=(1, 240)))\n",
    "layer1 = tf.nn.relu(tf.add(tf.matmul(X, W1), b1))\n",
    "\n",
    "W2 = tf.Variable(tf.truncated_normal(shape=(240, 240), stddev=0.1))\n",
    "b2 = tf.Variable(tf.constant(0.1, shape=(1, 240)))\n",
    "layer2 = tf.nn.relu(tf.add(tf.matmul(layer1, W2), b2))\n",
    "\n",
    "W_out = tf.Variable(tf.truncated_normal(shape=(240, 48), stddev=0.1))\n",
    "b_out = tf.Variable(tf.constant(0.1, shape=(1, 48)))\n",
    "logits = tf.add(tf.matmul(layer2, W_out), b_out)"
   ]
  },
  {
   "cell_type": "code",
   "execution_count": 326,
   "metadata": {
    "collapsed": true
   },
   "outputs": [],
   "source": [
    "entropy = tf.nn.sigmoid_cross_entropy_with_logits(logits = logits, labels = Y)\n",
    "loss = tf.reduce_mean(entropy)\n",
    "optimizer = tf.train.GradientDescentOptimizer(learning_rate=0.01).minimize(loss)"
   ]
  },
  {
   "cell_type": "code",
   "execution_count": 327,
   "metadata": {
    "collapsed": true
   },
   "outputs": [],
   "source": [
    "Y_pred = tf.nn.sigmoid(logits)\n",
    "# y_pred_cls = tf.argmax(Y_pred, 1)\n",
    "# y_cls = tf.argmax(Y, 1)\n",
    "accuracy = tf.reduce_mean(tf.cast(tf.equal(Y_pred, Y), tf.float32))"
   ]
  },
  {
   "cell_type": "code",
   "execution_count": 329,
   "metadata": {},
   "outputs": [
    {
     "name": "stdout",
     "output_type": "stream",
     "text": [
      "Epoch 0: 45.36165368556976\n",
      "Epoch 1: 44.98509842157364\n",
      "Epoch 2: 44.67823678255081\n",
      "Epoch 3: 44.41872924566269\n",
      "Epoch 4: 44.192671954631805\n",
      "Epoch 5: 43.99053406715393\n",
      "Epoch 6: 43.80598157644272\n",
      "Epoch 7: 43.63467633724213\n",
      "Epoch 8: 43.47353678941727\n",
      "Epoch 9: 43.320096135139465\n",
      "Epoch 10: 43.17249912023544\n",
      "Epoch 11: 43.02961724996567\n",
      "Epoch 12: 42.890472173690796\n",
      "Epoch 13: 42.754239201545715\n",
      "Epoch 14: 42.62020766735077\n",
      "Epoch 15: 42.48776262998581\n",
      "Epoch 16: 42.356534361839294\n",
      "Epoch 17: 42.22611045837402\n",
      "Epoch 18: 42.09607398509979\n",
      "Epoch 19: 41.96615767478943\n",
      "Epoch 20: 41.83610689640045\n",
      "Epoch 21: 41.705664455890656\n",
      "Epoch 22: 41.57469880580902\n",
      "Epoch 23: 41.4431174993515\n",
      "Epoch 24: 41.3107892870903\n"
     ]
    }
   ],
   "source": [
    "batch_size = 128\n",
    "epochs = 25\n",
    "sess = tf.InteractiveSession()\n",
    "sess.run(tf.global_variables_initializer())\n",
    "\n",
    "n_batches = 64\n",
    "for i in range(epochs):\n",
    "    total_loss = 0\n",
    "    for batch in range(n_batches):\n",
    "        X_batch, y_batch = X_train[batch*batch_size:(batch+1)*batch_size], y_train[batch*batch_size:(batch+1)*batch_size]\n",
    "        o, l = sess.run([optimizer, loss], feed_dict={X: X_batch, Y: y_batch})\n",
    "        total_loss += l\n",
    "    print(\"Epoch {0}: {1}\".format(i, total_loss))\n",
    "#     if i % 5 == 0 and i!= 0:\n",
    "#         X_val, y_val = MNIST.validation.next_batch(MNIST.validation.num_examples)\n",
    "#         val_accuracy = sess.run(accuracy, feed_dict={X: X_val, Y: y_val})\n",
    "#         print(\"\\tVal Accuracy {0}\".format(val_accuracy))\n"
   ]
  },
  {
   "cell_type": "code",
   "execution_count": 332,
   "metadata": {},
   "outputs": [
    {
     "data": {
      "text/plain": [
       "[array([[0.5232242 , 0.5543356 , 0.5320701 , 0.31570813, 0.42081505,\n",
       "         0.5593506 , 0.46936187, 0.52741706, 0.4944733 , 0.4594614 ,\n",
       "         0.42250922, 0.59905005, 0.44590405, 0.602473  , 0.4704748 ,\n",
       "         0.5045741 , 0.5167851 , 0.47804374, 0.55793536, 0.43694672,\n",
       "         0.3750135 , 0.6036988 , 0.5115897 , 0.56087554, 0.51133096,\n",
       "         0.43769965, 0.61609703, 0.3748115 , 0.45723042, 0.55984044,\n",
       "         0.5401185 , 0.53626984, 0.46290985, 0.53718305, 0.56346077,\n",
       "         0.45057485, 0.47734854, 0.5123727 , 0.5056353 , 0.46237403,\n",
       "         0.5641439 , 0.5446276 , 0.44143602, 0.4262096 , 0.6087141 ,\n",
       "         0.4802066 , 0.5263111 , 0.3724083 ],\n",
       "        [0.5475989 , 0.48014063, 0.5129976 , 0.5254203 , 0.54981995,\n",
       "         0.4632936 , 0.38470677, 0.5189415 , 0.5080466 , 0.4531786 ,\n",
       "         0.5453861 , 0.41725   , 0.51779217, 0.43389374, 0.41892946,\n",
       "         0.5507796 , 0.53479457, 0.4852404 , 0.4113132 , 0.63643175,\n",
       "         0.4776348 , 0.4400379 , 0.4817493 , 0.48309374, 0.5898317 ,\n",
       "         0.55045533, 0.41027087, 0.5795778 , 0.5206371 , 0.56272846,\n",
       "         0.41162667, 0.56638944, 0.5453379 , 0.4390245 , 0.46071625,\n",
       "         0.54028267, 0.541003  , 0.52808994, 0.4498208 , 0.56309366,\n",
       "         0.43792364, 0.5791026 , 0.49526754, 0.55655926, 0.3690107 ,\n",
       "         0.4771925 , 0.4006907 , 0.5590112 ]], dtype=float32)]"
      ]
     },
     "execution_count": 332,
     "metadata": {},
     "output_type": "execute_result"
    }
   ],
   "source": [
    "sess.run([Y_pred], feed_dict={X: X_test[:2]})"
   ]
  },
  {
   "cell_type": "code",
   "execution_count": null,
   "metadata": {
    "collapsed": true
   },
   "outputs": [],
   "source": []
  }
 ],
 "metadata": {
  "kernelspec": {
   "display_name": "Python 3",
   "language": "python",
   "name": "python3"
  },
  "language_info": {
   "codemirror_mode": {
    "name": "ipython",
    "version": 3
   },
   "file_extension": ".py",
   "mimetype": "text/x-python",
   "name": "python",
   "nbconvert_exporter": "python",
   "pygments_lexer": "ipython3",
   "version": "3.6.4"
  }
 },
 "nbformat": 4,
 "nbformat_minor": 2
}
