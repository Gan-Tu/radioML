{
 "cells": [
  {
   "cell_type": "code",
   "execution_count": 1,
   "metadata": {
    "scrolled": true
   },
   "outputs": [
    {
     "name": "stderr",
     "output_type": "stream",
     "text": [
      "/Users/michael-tu/anaconda/lib/python3.6/site-packages/h5py/__init__.py:34: FutureWarning: Conversion of the second argument of issubdtype from `float` to `np.floating` is deprecated. In future, it will be treated as `np.float64 == np.dtype(float).type`.\n",
      "  from ._conv import register_converters as _register_converters\n"
     ]
    }
   ],
   "source": [
    "import numpy as np\n",
    "import tensorflow as tf\n",
    "import os\n",
    "import matplotlib.pyplot as plt\n",
    "%matplotlib inline\n",
    "import pickle\n",
    "from functools import reduce"
   ]
  },
  {
   "cell_type": "code",
   "execution_count": 239,
   "metadata": {
    "scrolled": true
   },
   "outputs": [],
   "source": [
    "import keras\n",
    "from keras import regularizers\n",
    "from keras import backend as K\n",
    "from keras.optimizers import Adam\n",
    "from keras.models import Model, Sequential\n",
    "from keras.layers import Dense, Input, Activation, Dropout, BatchNormalization, Flatten, Reshape\n",
    "from keras.layers import Conv2D, MaxPooling2D, AveragePooling2D, UpSampling2D\n",
    "from keras.layers import Conv1D, MaxPooling1D, AveragePooling1D, UpSampling1D\n",
    "from keras.layers import SimpleRNN, RNN, LSTM, Embedding, Bidirectional\n",
    "from keras.optimizers import Adam, SGD\n",
    "import keras.utils as utils"
   ]
  },
  {
   "cell_type": "code",
   "execution_count": 339,
   "metadata": {
    "collapsed": true
   },
   "outputs": [],
   "source": [
    "from generate_data import viterbi_decode_sequences"
   ]
  },
  {
   "cell_type": "markdown",
   "metadata": {},
   "source": [
    "# Utility Functions"
   ]
  },
  {
   "cell_type": "code",
   "execution_count": 3,
   "metadata": {
    "collapsed": true,
    "scrolled": true
   },
   "outputs": [],
   "source": [
    "def load_pkl(path):\n",
    "    return pickle.load(open(path, \"rb\"))"
   ]
  },
  {
   "cell_type": "code",
   "execution_count": 468,
   "metadata": {
    "collapsed": true,
    "scrolled": true
   },
   "outputs": [],
   "source": [
    "def load_data(data):\n",
    "    keys = ['message_seqs', 'encoded_seqs', 'noisy_seqs', 'viterbi_decoded_seqs']\n",
    "    x = data[keys[2]] # noisy sequences will be our input to our models\n",
    "    y = data[keys[0]]\n",
    "    y_viterbi_decoded = data[keys[3]]\n",
    "    \n",
    "    x = np.array(x)\n",
    "    y = np.array(y)\n",
    "    y_viterbi_decoded = np.array(y_viterbi_decoded)\n",
    "    \n",
    "    return x, y, y_viterbi_decoded"
   ]
  },
  {
   "cell_type": "code",
   "execution_count": 469,
   "metadata": {
    "collapsed": true,
    "scrolled": true
   },
   "outputs": [],
   "source": [
    "def load(path):\n",
    "    return load_data(load_pkl(path))"
   ]
  },
  {
   "cell_type": "code",
   "execution_count": 470,
   "metadata": {
    "collapsed": true,
    "scrolled": true
   },
   "outputs": [],
   "source": [
    "def load_pkl_paths_from_folder(dir_path, recursive=False):\n",
    "    if recursive:\n",
    "        return np.sort(list(filter(lambda x: \".pkl\" in x,\n",
    "                            [os.path.join(dp, f) for dp, dn, fn in os.walk(os.path.expanduser(dir_path)) \n",
    "                                                 for f in fn])))\n",
    "    else:\n",
    "        return np.sort([dir_path + \"/\" + x for x in os.listdir(dir_path) if \".pkl\" in x ])"
   ]
  },
  {
   "cell_type": "code",
   "execution_count": 471,
   "metadata": {
    "collapsed": true,
    "scrolled": true
   },
   "outputs": [],
   "source": [
    "def get_param_from_filename(filename, param):\n",
    "    split_token = \"_\"\n",
    "    if param == \"k\":\n",
    "        split_token = \"_k\"\n",
    "    elif param == \"p\":\n",
    "        split_token = \"_p\"\n",
    "    elif param == \"r\":\n",
    "        split_token = \"_r\"\n",
    "    elif param == \"l\":\n",
    "        split_token = \"_l\"\n",
    "    elif param == \"e\":\n",
    "        split_token = \"_e\"\n",
    "    elif param == \"n\":\n",
    "        split_token = \"_n\"\n",
    "    else:\n",
    "        raise ValueError(\"unrecognized parameter\", param)\n",
    "        \n",
    "    res = filename.split(\"/\")[-1].split(split_token)[1].split(\"_\")[0]\n",
    "    if \".pkl\" in res:\n",
    "        res = res.split(\".pkl\")[0]\n",
    "    \n",
    "    return float(res)"
   ]
  },
  {
   "cell_type": "markdown",
   "metadata": {},
   "source": [
    "# Data Processing"
   ]
  },
  {
   "cell_type": "code",
   "execution_count": 473,
   "metadata": {
    "scrolled": true
   },
   "outputs": [],
   "source": [
    "def train_test_split(x, y, test_ratio=0.2):\n",
    "    indicies = np.arange(len(x))\n",
    "    np.random.shuffle(indicies)\n",
    "    \n",
    "    split_inx = int(len(x) * (1-test_ratio))\n",
    "    X_train, X_test = x[indicies[:split_inx]], x[indicies[split_inx:]]\n",
    "    y_train, y_test = y[indicies[:split_inx]], y[indicies[split_inx:]]\n",
    "    \n",
    "    \n",
    "    return X_train, X_test, y_train, y_test"
   ]
  },
  {
   "cell_type": "code",
   "execution_count": 9,
   "metadata": {
    "collapsed": true,
    "scrolled": true
   },
   "outputs": [],
   "source": [
    "def group_sort(benchmark, *args):\n",
    "    sorted_indicies = np.argsort(benchmark) \n",
    "    \n",
    "    benchmark = np.array(benchmark)\n",
    "    args = list(map(lambda x: np.array(x), args))\n",
    "    \n",
    "    benchmark_sorted = benchmark[sorted_indicies]\n",
    "    args_sorted = list(map(lambda x: x[sorted_indicies], args))\n",
    "    \n",
    "    return benchmark_sorted, args_sorted"
   ]
  },
  {
   "cell_type": "code",
   "execution_count": 10,
   "metadata": {
    "collapsed": true,
    "scrolled": true
   },
   "outputs": [],
   "source": [
    "def one_hot(data):\n",
    "    res = []\n",
    "    for d in data:\n",
    "        res.append([0,0])\n",
    "        res[-1][int(d)] = 1\n",
    "    return np.array(res)\n",
    "\n",
    "def one_hot_datasets(y):\n",
    "    return np.array(list(map(lambda x: one_hot(x), y)))\n",
    "\n",
    "def onehot_to_normal(dataset):\n",
    "    return np.argmax(dataset, axis=2)"
   ]
  },
  {
   "cell_type": "code",
   "execution_count": 11,
   "metadata": {
    "collapsed": true,
    "scrolled": true
   },
   "outputs": [],
   "source": [
    "variable_desc = {\n",
    "    \"k\": \"message length (K-bit)\",\n",
    "    \"p\": \"prob P of Bernoulli distribution\",\n",
    "    \"e\": \"corruption probability E\",\n",
    "    \"l\": \"constraint length L\"\n",
    "}"
   ]
  },
  {
   "cell_type": "code",
   "execution_count": 474,
   "metadata": {
    "collapsed": true,
    "scrolled": true
   },
   "outputs": [],
   "source": [
    "def build_data_from_path(path, test_ratio=0.2, X_reshape=None):\n",
    "    X, y, y_viterbi_decoded = load(path)\n",
    "        \n",
    "    y_oh = one_hot_datasets(y)\n",
    "    \n",
    "    if X_reshape:\n",
    "        total_shape = np.product(X_reshape[1:])\n",
    "        if total_shape != X.shape[1]:\n",
    "            X = X[:,:total_shape]\n",
    "        X = X.reshape(X_reshape)\n",
    "    \n",
    "    X_train, X_test, y_train, y_test = train_test_split(X, y_oh, test_ratio=test_ratio)\n",
    "    \n",
    "    return (X_train, y_train), (X_test, y_test), (X, y, y_oh, y_viterbi_decoded)"
   ]
  },
  {
   "cell_type": "code",
   "execution_count": 206,
   "metadata": {
    "collapsed": true,
    "scrolled": true
   },
   "outputs": [],
   "source": [
    "def prepare_data_for_lstm(X_train, seq_length=3):\n",
    "    X_train2 = list()\n",
    "    for x in X_train:\n",
    "        x2 = list()\n",
    "        for i in range(0, len(x) - seq_length, 1):\n",
    "            x2.append(x[i:i+seq_length])\n",
    "        X_train2.append(np.array(x2))\n",
    "    X_train2 = np.array(X_train2)\n",
    "    return X_train2"
   ]
  },
  {
   "cell_type": "markdown",
   "metadata": {},
   "source": [
    "# Evaluation Metrics"
   ]
  },
  {
   "cell_type": "code",
   "execution_count": 22,
   "metadata": {
    "collapsed": true,
    "scrolled": true
   },
   "outputs": [],
   "source": [
    "def accuracy(y, y_pred, argmax=False, viterbi=False):\n",
    "    y_pred_binary = y_pred\n",
    "    \n",
    "    if viterbi:\n",
    "        y_pred_binary = [p[:y.shape[1]] for p in y_pred]\n",
    "    elif argmax:\n",
    "        y_pred_binary = np.vstack([np.argmax(p, axis=1) for p in y_pred])\n",
    "        assert y.shape == y_pred_binary.shape, \"prediction and ground truth must \\\n",
    "        have same shape\\nExpected:{0} Actual:{1}\".format(y.shape, y_pred_binary.shape)\n",
    "    \n",
    "    return np.sum(y == y_pred_binary) / np.product(y.shape)"
   ]
  },
  {
   "cell_type": "code",
   "execution_count": 23,
   "metadata": {
    "collapsed": true,
    "scrolled": true
   },
   "outputs": [],
   "source": [
    "def model_accuracy(model, x, y, argmax=False):\n",
    "    if argmax:\n",
    "        y_pred = model.predict(x)\n",
    "        return accuracy(y, y_pred, argmax)\n",
    "    else:\n",
    "        return model.evaluate(x, y, verbose=0)[1]"
   ]
  },
  {
   "cell_type": "code",
   "execution_count": 24,
   "metadata": {
    "collapsed": true,
    "scrolled": true
   },
   "outputs": [],
   "source": [
    "def pred_vs_truth(model, x, y, n_show=2, y_truth_is_onehot=False):\n",
    "    indicies = np.random.randint(low=0, high=x.shape[0], size=n_show)\n",
    "    y_pred = model.predict(x[indicies])\n",
    "    y_pred_binary = np.vstack([np.argmax(p, axis=1) for p in y_pred])\n",
    "    \n",
    "    truth = y[indicies].astype(y_pred_binary.dtype)\n",
    "    \n",
    "    if y_truth_is_onehot:\n",
    "        truth = onehot_to_normal(truth)\n",
    "    \n",
    "    for i in range(len(truth)):\n",
    "        print(\"\\n############## Example {0} ##############\".format(i))\n",
    "        print(\"Expected:\\n\", truth[i])\n",
    "        print(\"Actual:\\n\", y_pred_binary[i])"
   ]
  },
  {
   "cell_type": "markdown",
   "metadata": {},
   "source": [
    "# Graph"
   ]
  },
  {
   "cell_type": "code",
   "execution_count": 25,
   "metadata": {
    "collapsed": true,
    "scrolled": true
   },
   "outputs": [],
   "source": [
    "def plot_acc(title, acc):\n",
    "    epoch = np.arange(1,len(acc)+1,1)\n",
    "    \n",
    "    plt.figure(figsize=(20,6))\n",
    "\n",
    "    plt.subplot(121)\n",
    "    plt.title(title)\n",
    "    plt.xlabel('epoch')\n",
    "    plt.ylabel(\"accuracy\")\n",
    "    plt.plot(epoch, acc, \"green\")\n",
    "\n",
    "    plt.subplot(122)\n",
    "    plt.title(\"Log Log {0}\".format(title))\n",
    "    plt.xlabel('epoch')\n",
    "    plt.ylabel(\"accuracy\")\n",
    "    plt.plot(epoch, np.log(-np.log(acc)), \"red\")"
   ]
  },
  {
   "cell_type": "markdown",
   "metadata": {},
   "source": [
    "# Experiments"
   ]
  },
  {
   "cell_type": "markdown",
   "metadata": {},
   "source": [
    "### k: 10, e: 0.05"
   ]
  },
  {
   "cell_type": "code",
   "execution_count": 419,
   "metadata": {
    "scrolled": true
   },
   "outputs": [],
   "source": [
    "train, test, original = build_data_from_path(\"../data/dataset_04/data/dataset_n25000_k10_e0.05.pkl\")\n",
    "X_train, y_train = train\n",
    "X_test, y_test = test\n",
    "X, y, y_oh, y_viterbi_decoded = original"
   ]
  },
  {
   "cell_type": "code",
   "execution_count": 420,
   "metadata": {
    "scrolled": true
   },
   "outputs": [
    {
     "name": "stdout",
     "output_type": "stream",
     "text": [
      "(20000, 24)\n",
      "(5000, 24)\n",
      "\n",
      "(20000, 10, 2)\n",
      "(5000, 10, 2)\n"
     ]
    }
   ],
   "source": [
    "print(X_train.shape)\n",
    "print(X_test.shape)\n",
    "print()\n",
    "print(y_train.shape)\n",
    "print(y_test.shape)"
   ]
  },
  {
   "cell_type": "markdown",
   "metadata": {},
   "source": [
    "**Viterbi**"
   ]
  },
  {
   "cell_type": "code",
   "execution_count": 424,
   "metadata": {},
   "outputs": [],
   "source": [
    "y_test_viterbi = one_hot_datasets(np.array(viterbi_decode_sequences(X_test, L=3)))"
   ]
  },
  {
   "cell_type": "code",
   "execution_count": 425,
   "metadata": {
    "scrolled": true
   },
   "outputs": [
    {
     "data": {
      "text/plain": [
       "0.99428"
      ]
     },
     "execution_count": 425,
     "metadata": {},
     "output_type": "execute_result"
    }
   ],
   "source": [
    "accuracy(y_test, y_test_viterbi, viterbi=True)"
   ]
  },
  {
   "cell_type": "markdown",
   "metadata": {},
   "source": [
    "**FNN**"
   ]
  },
  {
   "cell_type": "code",
   "execution_count": 330,
   "metadata": {
    "collapsed": true,
    "scrolled": true
   },
   "outputs": [],
   "source": [
    "model = Sequential()\n",
    "\n",
    "model.add(Dense(128, activation=\"relu\", input_shape=X_train.shape[1:], \n",
    "                kernel_regularizer=regularizers.l2(0.00001)))\n",
    "model.add(Dense(256, activation=\"relu\", kernel_regularizer=regularizers.l2(0.00001)))\n",
    "model.add(Dense(480, activation=\"relu\", kernel_regularizer=regularizers.l2(0.00001)))\n",
    "\n",
    "model.add(Dense(np.product(y_train.shape[1:]), activation=\"sigmoid\"))\n",
    "model.add(Reshape(y_train.shape[1:]))"
   ]
  },
  {
   "cell_type": "code",
   "execution_count": 331,
   "metadata": {
    "collapsed": true,
    "scrolled": true
   },
   "outputs": [],
   "source": [
    "opt = Adam(lr=0.01)\n",
    "model.compile(optimizer=opt, loss=\"binary_crossentropy\", metrics=[\"accuracy\"])"
   ]
  },
  {
   "cell_type": "code",
   "execution_count": 332,
   "metadata": {
    "scrolled": false
   },
   "outputs": [
    {
     "name": "stdout",
     "output_type": "stream",
     "text": [
      "Train on 16000 samples, validate on 4000 samples\n",
      "Epoch 1/30\n",
      " - 4s - loss: 0.3711 - acc: 0.7985 - val_loss: 0.2249 - val_acc: 0.9038\n",
      "Epoch 2/30\n",
      " - 0s - loss: 0.1512 - acc: 0.9462 - val_loss: 0.1144 - val_acc: 0.9641\n",
      "Epoch 3/30\n",
      " - 0s - loss: 0.0911 - acc: 0.9728 - val_loss: 0.0967 - val_acc: 0.9714\n",
      "Epoch 4/30\n",
      " - 0s - loss: 0.0699 - acc: 0.9817 - val_loss: 0.0836 - val_acc: 0.9777\n",
      "Epoch 5/30\n",
      " - 0s - loss: 0.0620 - acc: 0.9845 - val_loss: 0.0801 - val_acc: 0.9789\n",
      "Epoch 6/30\n",
      " - 0s - loss: 0.0555 - acc: 0.9866 - val_loss: 0.0804 - val_acc: 0.9792\n",
      "Epoch 7/30\n",
      " - 0s - loss: 0.0510 - acc: 0.9885 - val_loss: 0.0846 - val_acc: 0.9789\n",
      "Epoch 8/30\n",
      " - 0s - loss: 0.0489 - acc: 0.9892 - val_loss: 0.0839 - val_acc: 0.9789\n",
      "Epoch 9/30\n",
      " - 0s - loss: 0.0476 - acc: 0.9898 - val_loss: 0.0810 - val_acc: 0.9803\n",
      "Epoch 10/30\n",
      " - 0s - loss: 0.0452 - acc: 0.9910 - val_loss: 0.0811 - val_acc: 0.9815\n",
      "Epoch 11/30\n",
      " - 0s - loss: 0.0432 - acc: 0.9914 - val_loss: 0.0820 - val_acc: 0.9809\n",
      "Epoch 12/30\n",
      " - 1s - loss: 0.0444 - acc: 0.9913 - val_loss: 0.0845 - val_acc: 0.9793\n",
      "Epoch 13/30\n",
      " - 1s - loss: 0.0435 - acc: 0.9918 - val_loss: 0.0865 - val_acc: 0.9801\n",
      "Epoch 14/30\n",
      " - 0s - loss: 0.0437 - acc: 0.9918 - val_loss: 0.0884 - val_acc: 0.9797\n",
      "Epoch 15/30\n",
      " - 0s - loss: 0.0417 - acc: 0.9927 - val_loss: 0.0874 - val_acc: 0.9801\n",
      "Epoch 16/30\n",
      " - 0s - loss: 0.0387 - acc: 0.9937 - val_loss: 0.0922 - val_acc: 0.9794\n",
      "Epoch 17/30\n",
      " - 0s - loss: 0.0402 - acc: 0.9932 - val_loss: 0.0882 - val_acc: 0.9806\n",
      "Epoch 18/30\n",
      " - 0s - loss: 0.0379 - acc: 0.9940 - val_loss: 0.0896 - val_acc: 0.9805\n",
      "Epoch 19/30\n",
      " - 0s - loss: 0.0404 - acc: 0.9932 - val_loss: 0.0924 - val_acc: 0.9797\n",
      "Epoch 20/30\n",
      " - 0s - loss: 0.0424 - acc: 0.9930 - val_loss: 0.0937 - val_acc: 0.9800\n",
      "Epoch 21/30\n",
      " - 0s - loss: 0.0417 - acc: 0.9931 - val_loss: 0.0891 - val_acc: 0.9804\n",
      "Epoch 22/30\n",
      " - 0s - loss: 0.0388 - acc: 0.9941 - val_loss: 0.0928 - val_acc: 0.9808\n",
      "Epoch 23/30\n",
      " - 0s - loss: 0.0396 - acc: 0.9937 - val_loss: 0.0894 - val_acc: 0.9806\n",
      "Epoch 24/30\n",
      " - 0s - loss: 0.0397 - acc: 0.9936 - val_loss: 0.0972 - val_acc: 0.9800\n",
      "Epoch 25/30\n",
      " - 0s - loss: 0.0389 - acc: 0.9942 - val_loss: 0.0959 - val_acc: 0.9795\n",
      "Epoch 26/30\n",
      " - 0s - loss: 0.0389 - acc: 0.9942 - val_loss: 0.0966 - val_acc: 0.9811\n",
      "Epoch 27/30\n",
      " - 0s - loss: 0.0375 - acc: 0.9948 - val_loss: 0.1000 - val_acc: 0.9793\n",
      "Epoch 28/30\n",
      " - 0s - loss: 0.0368 - acc: 0.9949 - val_loss: 0.0920 - val_acc: 0.9820\n",
      "Epoch 29/30\n",
      " - 0s - loss: 0.0343 - acc: 0.9956 - val_loss: 0.0911 - val_acc: 0.9823\n",
      "Epoch 30/30\n",
      " - 0s - loss: 0.0364 - acc: 0.9949 - val_loss: 0.0901 - val_acc: 0.9806\n"
     ]
    }
   ],
   "source": [
    "fnn_k10_elow_history = model.fit(X_train, y_train, batch_size=256, epochs=30, \n",
    "                                 shuffle=True, verbose=2, validation_split=0.2)"
   ]
  },
  {
   "cell_type": "code",
   "execution_count": 333,
   "metadata": {
    "scrolled": true
   },
   "outputs": [
    {
     "data": {
      "text/plain": [
       "0.981689998626709"
      ]
     },
     "execution_count": 333,
     "metadata": {},
     "output_type": "execute_result"
    }
   ],
   "source": [
    "model_accuracy(model, X_test, y_test, argmax=False)"
   ]
  },
  {
   "cell_type": "markdown",
   "metadata": {},
   "source": [
    "**CNN**"
   ]
  },
  {
   "cell_type": "code",
   "execution_count": 155,
   "metadata": {
    "scrolled": true
   },
   "outputs": [
    {
     "name": "stdout",
     "output_type": "stream",
     "text": [
      "(20000, 24)\n",
      "(5000, 24)\n"
     ]
    }
   ],
   "source": [
    "print(X_train.shape)\n",
    "print(X_test.shape)"
   ]
  },
  {
   "cell_type": "code",
   "execution_count": 159,
   "metadata": {
    "collapsed": true,
    "scrolled": true
   },
   "outputs": [],
   "source": [
    "X_train_cnn = X_train.reshape([-1, 6, 4])\n",
    "X_test_cnn = X_test.reshape([-1, 6, 4])"
   ]
  },
  {
   "cell_type": "code",
   "execution_count": 160,
   "metadata": {
    "scrolled": true
   },
   "outputs": [
    {
     "name": "stdout",
     "output_type": "stream",
     "text": [
      "(20000, 6, 4)\n",
      "(5000, 6, 4)\n"
     ]
    }
   ],
   "source": [
    "print(X_train_cnn.shape)\n",
    "print(X_test_cnn.shape)"
   ]
  },
  {
   "cell_type": "code",
   "execution_count": 184,
   "metadata": {
    "scrolled": true
   },
   "outputs": [],
   "source": [
    "model = Sequential()\n",
    "\n",
    "model.add(Conv1D(filters=120, kernel_size=3, strides=1, padding=\"same\", \n",
    "                 activation=\"relu\", input_shape=X_train_cnn.shape[1:]))\n",
    "\n",
    "model.add(Conv1D(filters=120, kernel_size=3, strides=1, padding=\"same\", activation=\"relu\"))\n",
    "model.add(Conv1D(filters=120, kernel_size=3, strides=1, padding=\"same\", activation=\"relu\"))\n",
    "model.add(Conv1D(filters=120, kernel_size=3, strides=1, padding=\"same\", activation=\"relu\"))\n",
    "\n",
    "# no dropout seems to do well\n",
    "\n",
    "model.add(Flatten())\n",
    "\n",
    "model.add(Dense(512, activation=\"relu\"))\n",
    "model.add(Dense(256, activation=\"relu\"))\n",
    "\n",
    "model.add(Dense(np.product(y_train.shape[1:]), activation=\"sigmoid\"))\n",
    "model.add(Reshape(y_train.shape[1:]))"
   ]
  },
  {
   "cell_type": "code",
   "execution_count": 185,
   "metadata": {
    "collapsed": true,
    "scrolled": true
   },
   "outputs": [],
   "source": [
    "opt = Adam(lr=0.001)\n",
    "model.compile(optimizer=opt, loss=\"binary_crossentropy\", metrics=[\"accuracy\"])"
   ]
  },
  {
   "cell_type": "code",
   "execution_count": 186,
   "metadata": {
    "scrolled": false
   },
   "outputs": [
    {
     "name": "stdout",
     "output_type": "stream",
     "text": [
      "Train on 16000 samples, validate on 4000 samples\n",
      "Epoch 1/30\n",
      " - 3s - loss: 0.4421 - acc: 0.7622 - val_loss: 0.1832 - val_acc: 0.9330\n",
      "Epoch 2/30\n",
      " - 2s - loss: 0.1187 - acc: 0.9572 - val_loss: 0.0845 - val_acc: 0.9688\n",
      "Epoch 3/30\n",
      " - 2s - loss: 0.0699 - acc: 0.9754 - val_loss: 0.0677 - val_acc: 0.9754\n",
      "Epoch 4/30\n",
      " - 2s - loss: 0.0541 - acc: 0.9816 - val_loss: 0.0614 - val_acc: 0.9783\n",
      "Epoch 5/30\n",
      " - 2s - loss: 0.0457 - acc: 0.9839 - val_loss: 0.0500 - val_acc: 0.9821\n",
      "Epoch 6/30\n",
      " - 2s - loss: 0.0405 - acc: 0.9856 - val_loss: 0.0576 - val_acc: 0.9788\n",
      "Epoch 7/30\n",
      " - 2s - loss: 0.0366 - acc: 0.9871 - val_loss: 0.0498 - val_acc: 0.9825\n",
      "Epoch 8/30\n",
      " - 2s - loss: 0.0330 - acc: 0.9881 - val_loss: 0.0486 - val_acc: 0.9825\n",
      "Epoch 9/30\n",
      " - 2s - loss: 0.0285 - acc: 0.9900 - val_loss: 0.0474 - val_acc: 0.9837\n",
      "Epoch 10/30\n",
      " - 2s - loss: 0.0263 - acc: 0.9905 - val_loss: 0.0469 - val_acc: 0.9838\n",
      "Epoch 11/30\n",
      " - 2s - loss: 0.0243 - acc: 0.9914 - val_loss: 0.0446 - val_acc: 0.9848\n",
      "Epoch 12/30\n",
      " - 2s - loss: 0.0201 - acc: 0.9929 - val_loss: 0.0460 - val_acc: 0.9850\n",
      "Epoch 13/30\n",
      " - 2s - loss: 0.0185 - acc: 0.9934 - val_loss: 0.0483 - val_acc: 0.9844\n",
      "Epoch 14/30\n",
      " - 2s - loss: 0.0173 - acc: 0.9938 - val_loss: 0.0463 - val_acc: 0.9855\n",
      "Epoch 15/30\n",
      " - 2s - loss: 0.0143 - acc: 0.9948 - val_loss: 0.0506 - val_acc: 0.9850\n",
      "Epoch 16/30\n",
      " - 3s - loss: 0.0131 - acc: 0.9953 - val_loss: 0.0522 - val_acc: 0.9842\n",
      "Epoch 17/30\n",
      " - 2s - loss: 0.0113 - acc: 0.9961 - val_loss: 0.0520 - val_acc: 0.9853\n",
      "Epoch 18/30\n",
      " - 2s - loss: 0.0091 - acc: 0.9969 - val_loss: 0.0579 - val_acc: 0.9838\n",
      "Epoch 19/30\n",
      " - 2s - loss: 0.0091 - acc: 0.9968 - val_loss: 0.0569 - val_acc: 0.9851\n",
      "Epoch 20/30\n",
      " - 2s - loss: 0.0087 - acc: 0.9969 - val_loss: 0.0575 - val_acc: 0.9850\n",
      "Epoch 21/30\n",
      " - 2s - loss: 0.0060 - acc: 0.9980 - val_loss: 0.0615 - val_acc: 0.9849\n",
      "Epoch 22/30\n",
      " - 2s - loss: 0.0054 - acc: 0.9983 - val_loss: 0.0653 - val_acc: 0.9846\n",
      "Epoch 23/30\n",
      " - 2s - loss: 0.0044 - acc: 0.9986 - val_loss: 0.0624 - val_acc: 0.9859\n",
      "Epoch 24/30\n",
      " - 2s - loss: 0.0035 - acc: 0.9989 - val_loss: 0.0688 - val_acc: 0.9855\n",
      "Epoch 25/30\n",
      " - 2s - loss: 0.0040 - acc: 0.9986 - val_loss: 0.0702 - val_acc: 0.9852\n",
      "Epoch 26/30\n",
      " - 2s - loss: 0.0048 - acc: 0.9982 - val_loss: 0.0736 - val_acc: 0.9839\n",
      "Epoch 27/30\n",
      " - 2s - loss: 0.0048 - acc: 0.9983 - val_loss: 0.0705 - val_acc: 0.9857\n",
      "Epoch 28/30\n",
      " - 2s - loss: 0.0037 - acc: 0.9988 - val_loss: 0.0735 - val_acc: 0.9851\n",
      "Epoch 29/30\n",
      " - 2s - loss: 0.0034 - acc: 0.9988 - val_loss: 0.0783 - val_acc: 0.9846\n",
      "Epoch 30/30\n",
      " - 2s - loss: 0.0039 - acc: 0.9986 - val_loss: 0.0711 - val_acc: 0.9854\n"
     ]
    }
   ],
   "source": [
    "cnn_k10_elow_history = model.fit(X_train_cnn, y_train, batch_size=256, epochs=30, \n",
    "                                 shuffle=True, verbose=2, validation_split=0.2)"
   ]
  },
  {
   "cell_type": "code",
   "execution_count": 192,
   "metadata": {
    "scrolled": true
   },
   "outputs": [
    {
     "data": {
      "text/plain": [
       "0.9854899982452393"
      ]
     },
     "execution_count": 192,
     "metadata": {},
     "output_type": "execute_result"
    }
   ],
   "source": [
    "model_accuracy(model, X_test_cnn, y_test, argmax=False)"
   ]
  },
  {
   "cell_type": "markdown",
   "metadata": {},
   "source": [
    "**LSTM**"
   ]
  },
  {
   "cell_type": "code",
   "execution_count": 354,
   "metadata": {
    "scrolled": true
   },
   "outputs": [],
   "source": [
    "X_train_lstm = prepare_data_for_lstm(X_train)\n",
    "X_test_lstm = prepare_data_for_lstm(X_test)"
   ]
  },
  {
   "cell_type": "code",
   "execution_count": 355,
   "metadata": {
    "scrolled": true
   },
   "outputs": [
    {
     "name": "stdout",
     "output_type": "stream",
     "text": [
      "(20000, 21, 3)\n",
      "(5000, 21, 3)\n"
     ]
    }
   ],
   "source": [
    "print(X_train_lstm.shape)\n",
    "print(X_test_lstm.shape)"
   ]
  },
  {
   "cell_type": "code",
   "execution_count": 252,
   "metadata": {
    "scrolled": false
   },
   "outputs": [
    {
     "name": "stdout",
     "output_type": "stream",
     "text": [
      "Train on 16000 samples, validate on 4000 samples\n",
      "Epoch 1/30\n",
      " - 10s - loss: 0.5604 - acc: 0.6381 - val_loss: 0.4437 - val_acc: 0.7581\n",
      "Epoch 2/30\n",
      " - 6s - loss: 0.3368 - acc: 0.8297 - val_loss: 0.2399 - val_acc: 0.8947\n",
      "Epoch 3/30\n",
      " - 6s - loss: 0.1543 - acc: 0.9387 - val_loss: 0.1055 - val_acc: 0.9633\n",
      "Epoch 4/30\n",
      " - 7s - loss: 0.0817 - acc: 0.9716 - val_loss: 0.0851 - val_acc: 0.9703\n",
      "Epoch 5/30\n",
      " - 6s - loss: 0.0609 - acc: 0.9787 - val_loss: 0.0688 - val_acc: 0.9768\n",
      "Epoch 6/30\n",
      " - 7s - loss: 0.0477 - acc: 0.9834 - val_loss: 0.0625 - val_acc: 0.9789\n",
      "Epoch 7/30\n",
      " - 7s - loss: 0.0391 - acc: 0.9858 - val_loss: 0.0639 - val_acc: 0.9786\n",
      "Epoch 8/30\n",
      " - 7s - loss: 0.0343 - acc: 0.9877 - val_loss: 0.0677 - val_acc: 0.9793\n",
      "Epoch 9/30\n",
      " - 6s - loss: 0.0310 - acc: 0.9889 - val_loss: 0.0608 - val_acc: 0.9797\n",
      "Epoch 10/30\n",
      " - 6s - loss: 0.0276 - acc: 0.9897 - val_loss: 0.0652 - val_acc: 0.9819\n",
      "Epoch 11/30\n",
      " - 7s - loss: 0.0226 - acc: 0.9918 - val_loss: 0.0625 - val_acc: 0.9817\n",
      "Epoch 12/30\n",
      " - 8s - loss: 0.0205 - acc: 0.9926 - val_loss: 0.0617 - val_acc: 0.9818\n",
      "Epoch 13/30\n",
      " - 8s - loss: 0.0172 - acc: 0.9936 - val_loss: 0.0700 - val_acc: 0.9819\n",
      "Epoch 14/30\n",
      " - 9s - loss: 0.0170 - acc: 0.9938 - val_loss: 0.0653 - val_acc: 0.9832\n",
      "Epoch 15/30\n",
      " - 8s - loss: 0.0155 - acc: 0.9942 - val_loss: 0.0710 - val_acc: 0.9810\n",
      "Epoch 16/30\n",
      " - 7s - loss: 0.0140 - acc: 0.9949 - val_loss: 0.0732 - val_acc: 0.9810\n",
      "Epoch 17/30\n",
      " - 7s - loss: 0.0140 - acc: 0.9948 - val_loss: 0.0745 - val_acc: 0.9808\n",
      "Epoch 18/30\n",
      " - 7s - loss: 0.0125 - acc: 0.9955 - val_loss: 0.0711 - val_acc: 0.9811\n",
      "Epoch 19/30\n",
      " - 7s - loss: 0.0121 - acc: 0.9957 - val_loss: 0.0708 - val_acc: 0.9825\n",
      "Epoch 20/30\n",
      " - 7s - loss: 0.0095 - acc: 0.9966 - val_loss: 0.0842 - val_acc: 0.9812\n",
      "Epoch 21/30\n",
      " - 8s - loss: 0.0094 - acc: 0.9966 - val_loss: 0.0789 - val_acc: 0.9802\n",
      "Epoch 22/30\n",
      " - 7s - loss: 0.0120 - acc: 0.9959 - val_loss: 0.0762 - val_acc: 0.9823\n",
      "Epoch 23/30\n",
      " - 7s - loss: 0.0118 - acc: 0.9961 - val_loss: 0.0741 - val_acc: 0.9811\n",
      "Epoch 24/30\n",
      " - 6s - loss: 0.0095 - acc: 0.9966 - val_loss: 0.0747 - val_acc: 0.9823\n",
      "Epoch 25/30\n",
      " - 7s - loss: 0.0083 - acc: 0.9973 - val_loss: 0.0813 - val_acc: 0.9816\n",
      "Epoch 26/30\n",
      " - 8s - loss: 0.0076 - acc: 0.9973 - val_loss: 0.0805 - val_acc: 0.9819\n",
      "Epoch 27/30\n",
      " - 7s - loss: 0.0055 - acc: 0.9982 - val_loss: 0.0821 - val_acc: 0.9835\n",
      "Epoch 28/30\n",
      " - 7s - loss: 0.0059 - acc: 0.9980 - val_loss: 0.0819 - val_acc: 0.9823\n",
      "Epoch 29/30\n",
      " - 7s - loss: 0.0085 - acc: 0.9972 - val_loss: 0.0875 - val_acc: 0.9808\n",
      "Epoch 30/30\n",
      " - 7s - loss: 0.0092 - acc: 0.9971 - val_loss: 0.0800 - val_acc: 0.9823\n"
     ]
    }
   ],
   "source": [
    "lr = 0.01\n",
    "model = Sequential()\n",
    "\n",
    "model.add(LSTM(200, activation=\"tanh\", input_shape=(21, 3), return_sequences=False))\n",
    "\n",
    "model.add(Dense(128, activation=\"relu\"))\n",
    "\n",
    "model.add(Dense(20, activation=\"sigmoid\"))\n",
    "model.add(Reshape((10,2)))\n",
    "\n",
    "opt = optimizers[\"adam\"](lr=lr)\n",
    "model.compile(optimizer=opt, loss=\"binary_crossentropy\", metrics=[\"accuracy\"])\n",
    "\n",
    "lstm_k10_elow_history = model.fit(X_train_lstm, y_train, epochs=30, batch_size=256, verbose=2,\n",
    "          shuffle=True, validation_split=0.2)"
   ]
  },
  {
   "cell_type": "code",
   "execution_count": 254,
   "metadata": {
    "scrolled": true
   },
   "outputs": [
    {
     "data": {
      "text/plain": [
       "0.9813200016975403"
      ]
     },
     "execution_count": 254,
     "metadata": {},
     "output_type": "execute_result"
    }
   ],
   "source": [
    "model_accuracy(model, X_test_lstm, y_test, argmax=False)"
   ]
  },
  {
   "cell_type": "markdown",
   "metadata": {},
   "source": [
    "**Bidirectional LSTM**"
   ]
  },
  {
   "cell_type": "code",
   "execution_count": 356,
   "metadata": {
    "scrolled": true
   },
   "outputs": [
    {
     "name": "stdout",
     "output_type": "stream",
     "text": [
      "(20000, 21, 3)\n",
      "(5000, 21, 3)\n"
     ]
    }
   ],
   "source": [
    "print(X_train_lstm.shape)\n",
    "print(X_test_lstm.shape)"
   ]
  },
  {
   "cell_type": "code",
   "execution_count": 357,
   "metadata": {
    "scrolled": true
   },
   "outputs": [
    {
     "name": "stdout",
     "output_type": "stream",
     "text": [
      "Train on 16000 samples, validate on 4000 samples\n",
      "Epoch 1/30\n",
      " - 15s - loss: 0.5475 - acc: 0.6621 - val_loss: 0.4265 - val_acc: 0.7545\n",
      "Epoch 2/30\n",
      " - 10s - loss: 0.3234 - acc: 0.8353 - val_loss: 0.2158 - val_acc: 0.9068\n",
      "Epoch 3/30\n",
      " - 11s - loss: 0.1460 - acc: 0.9433 - val_loss: 0.1086 - val_acc: 0.9594\n",
      "Epoch 4/30\n",
      " - 10s - loss: 0.0829 - acc: 0.9696 - val_loss: 0.0745 - val_acc: 0.9731\n",
      "Epoch 5/30\n",
      " - 10s - loss: 0.0569 - acc: 0.9797 - val_loss: 0.0585 - val_acc: 0.9796\n",
      "Epoch 6/30\n",
      " - 13s - loss: 0.0406 - acc: 0.9854 - val_loss: 0.0544 - val_acc: 0.9802\n",
      "Epoch 7/30\n",
      " - 11s - loss: 0.0338 - acc: 0.9878 - val_loss: 0.0496 - val_acc: 0.9824\n",
      "Epoch 8/30\n",
      " - 10s - loss: 0.0272 - acc: 0.9902 - val_loss: 0.0424 - val_acc: 0.9852\n",
      "Epoch 9/30\n",
      " - 10s - loss: 0.0219 - acc: 0.9922 - val_loss: 0.0439 - val_acc: 0.9854\n",
      "Epoch 10/30\n",
      " - 12s - loss: 0.0176 - acc: 0.9937 - val_loss: 0.0479 - val_acc: 0.9846\n",
      "Epoch 11/30\n",
      " - 12s - loss: 0.0166 - acc: 0.9941 - val_loss: 0.0476 - val_acc: 0.9860\n",
      "Epoch 12/30\n",
      " - 10s - loss: 0.0143 - acc: 0.9948 - val_loss: 0.0468 - val_acc: 0.9860\n",
      "Epoch 13/30\n",
      " - 11s - loss: 0.0117 - acc: 0.9959 - val_loss: 0.0436 - val_acc: 0.9869\n",
      "Epoch 14/30\n",
      " - 10s - loss: 0.0132 - acc: 0.9954 - val_loss: 0.0504 - val_acc: 0.9859\n",
      "Epoch 15/30\n",
      " - 10s - loss: 0.0092 - acc: 0.9967 - val_loss: 0.0461 - val_acc: 0.9868\n",
      "Epoch 16/30\n",
      " - 11s - loss: 0.0071 - acc: 0.9976 - val_loss: 0.0456 - val_acc: 0.9876\n",
      "Epoch 17/30\n",
      " - 10s - loss: 0.0058 - acc: 0.9981 - val_loss: 0.0505 - val_acc: 0.9864\n",
      "Epoch 18/30\n",
      " - 10s - loss: 0.0066 - acc: 0.9978 - val_loss: 0.0507 - val_acc: 0.9866\n",
      "Epoch 19/30\n",
      " - 10s - loss: 0.0071 - acc: 0.9975 - val_loss: 0.0532 - val_acc: 0.9865\n",
      "Epoch 20/30\n",
      " - 10s - loss: 0.0062 - acc: 0.9978 - val_loss: 0.0504 - val_acc: 0.9872\n",
      "Epoch 21/30\n",
      " - 11s - loss: 0.0044 - acc: 0.9985 - val_loss: 0.0536 - val_acc: 0.9866\n",
      "Epoch 22/30\n",
      " - 10s - loss: 0.0039 - acc: 0.9987 - val_loss: 0.0574 - val_acc: 0.9874\n",
      "Epoch 23/30\n",
      " - 11s - loss: 0.0047 - acc: 0.9984 - val_loss: 0.0526 - val_acc: 0.9871\n",
      "Epoch 24/30\n",
      " - 11s - loss: 0.0055 - acc: 0.9981 - val_loss: 0.0562 - val_acc: 0.9866\n",
      "Epoch 25/30\n",
      " - 10s - loss: 0.0067 - acc: 0.9978 - val_loss: 0.0570 - val_acc: 0.9861\n",
      "Epoch 26/30\n",
      " - 10s - loss: 0.0070 - acc: 0.9976 - val_loss: 0.0551 - val_acc: 0.9863\n",
      "Epoch 27/30\n",
      " - 10s - loss: 0.0053 - acc: 0.9982 - val_loss: 0.0562 - val_acc: 0.9872\n",
      "Epoch 28/30\n",
      " - 12s - loss: 0.0075 - acc: 0.9975 - val_loss: 0.0573 - val_acc: 0.9855\n",
      "Epoch 29/30\n",
      " - 10s - loss: 0.0055 - acc: 0.9982 - val_loss: 0.0574 - val_acc: 0.9871\n",
      "Epoch 30/30\n",
      " - 10s - loss: 0.0074 - acc: 0.9974 - val_loss: 0.0561 - val_acc: 0.9863\n"
     ]
    }
   ],
   "source": [
    "lr = 0.01\n",
    "model = Sequential()\n",
    "\n",
    "model.add(Bidirectional(LSTM(200, activation=\"tanh\", return_sequences=False), input_shape=X_train_lstm.shape[1:]))\n",
    "\n",
    "model.add(Dense(128, activation=\"relu\"))\n",
    "\n",
    "model.add(Dense(20, activation=\"sigmoid\"))\n",
    "model.add(Reshape((10,2)))\n",
    "\n",
    "opt = optimizers[\"adam\"](lr=lr)\n",
    "model.compile(optimizer=opt, loss=\"binary_crossentropy\", metrics=[\"accuracy\"])\n",
    "\n",
    "bidir_lstm_k10_elow_history = model.fit(X_train_lstm, y_train, epochs=30, batch_size=512, \n",
    "                                        verbose=2, shuffle=True, validation_split=0.2)"
   ]
  },
  {
   "cell_type": "code",
   "execution_count": 358,
   "metadata": {},
   "outputs": [
    {
     "data": {
      "text/plain": [
       "0.9844800001144409"
      ]
     },
     "execution_count": 358,
     "metadata": {},
     "output_type": "execute_result"
    }
   ],
   "source": [
    "model_accuracy(model, X_test_lstm, y_test, argmax=False)"
   ]
  },
  {
   "cell_type": "markdown",
   "metadata": {},
   "source": [
    "**Plots**"
   ]
  },
  {
   "cell_type": "code",
   "execution_count": 426,
   "metadata": {
    "scrolled": true
   },
   "outputs": [
    {
     "data": {
      "image/png": "[encoded data removed]",
      "text/plain": [
       "<matplotlib.figure.Figure at 0x15e389978>"
      ]
     },
     "metadata": {},
     "output_type": "display_data"
    }
   ],
   "source": [
    "plt.figure(figsize=(8, 5))\n",
    "plt.title('Training Accuracy of Trellis 3, k=10, e=0.05')\n",
    "\n",
    "plt.axhline(np.log(1 - 0.99428), color=\"green\", xmin=0.05, xmax=0.95, label=\"Viterbi\")\n",
    "\n",
    "plt.plot(np.log(1 - np.array(fnn_k10_elow_history.history['val_acc'])), 'r-', label=\"FNN-[128,256,480] val loss\")\n",
    "plt.plot(np.log(1 - np.array(cnn_k10_elow_history.history['val_acc'])), 'c-', label=\"CNN-[Cx4, F, Dx3] val loss\")\n",
    "plt.plot(np.log(1 - np.array(lstm_k10_elow_history.history['val_acc'])), 'm-', label=\"LSTM-[cell=200, lookback=3] val loss\")\n",
    "plt.plot(np.log(1 - np.array(bidir_lstm_k10_elow_history.history['val_acc'])), 'y-', label=\"Bidirectoinal-LSTM val loss\")\n",
    "\n",
    "plt.ylabel('Bitwise Loss (Log Scale)')\n",
    "plt.xlabel('Epoch')\n",
    "\n",
    "plt.legend()\n",
    "plt.show()"
   ]
  },
  {
   "cell_type": "markdown",
   "metadata": {},
   "source": [
    "### k10, e0.15"
   ]
  },
  {
   "cell_type": "code",
   "execution_count": 489,
   "metadata": {
    "scrolled": true
   },
   "outputs": [],
   "source": [
    "train, test, original = build_data_from_path(\"../data/dataset_04/data/dataset_n25000_k10_e0.15.pkl\")\n",
    "X_train, y_train = train\n",
    "X_test, y_test = test\n",
    "X, y, y_oh, y_viterbi_decoded = original"
   ]
  },
  {
   "cell_type": "code",
   "execution_count": 490,
   "metadata": {
    "scrolled": true
   },
   "outputs": [
    {
     "name": "stdout",
     "output_type": "stream",
     "text": [
      "(20000, 36)\n",
      "(5000, 36)\n",
      "\n",
      "(20000, 10, 2)\n",
      "(5000, 10, 2)\n",
      "\n"
     ]
    }
   ],
   "source": [
    "print(X_train.shape)\n",
    "print(X_test.shape)\n",
    "print()\n",
    "print(y_train.shape)\n",
    "print(y_test.shape)\n",
    "print()"
   ]
  },
  {
   "cell_type": "markdown",
   "metadata": {},
   "source": [
    "**Viterbi**"
   ]
  },
  {
   "cell_type": "code",
   "execution_count": 492,
   "metadata": {},
   "outputs": [
    {
     "data": {
      "text/plain": [
       "0.937168"
      ]
     },
     "execution_count": 492,
     "metadata": {},
     "output_type": "execute_result"
    }
   ],
   "source": [
    "accuracy(y, y_viterbi_decoded, viterbi=True)"
   ]
  },
  {
   "cell_type": "markdown",
   "metadata": {},
   "source": [
    "**FNN**"
   ]
  },
  {
   "cell_type": "code",
   "execution_count": 503,
   "metadata": {
    "collapsed": true,
    "scrolled": true
   },
   "outputs": [],
   "source": [
    "model = Sequential()\n",
    "\n",
    "model.add(Dense(128, activation=\"relu\", input_shape=X_train.shape[1:], \n",
    "                kernel_regularizer=regularizers.l2(0.00001)))\n",
    "model.add(Dense(256, activation=\"relu\", kernel_regularizer=regularizers.l2(0.00001)))\n",
    "model.add(Dense(480, activation=\"relu\", kernel_regularizer=regularizers.l2(0.00001)))\n",
    "\n",
    "model.add(Dense(np.product(y_train.shape[1:]), activation=\"sigmoid\"))\n",
    "model.add(Reshape(y_train.shape[1:]))\n",
    "\n",
    "opt = Adam(lr=0.01)\n",
    "model.compile(optimizer=opt, loss=\"binary_crossentropy\", metrics=[\"accuracy\"])"
   ]
  },
  {
   "cell_type": "code",
   "execution_count": 504,
   "metadata": {
    "scrolled": true
   },
   "outputs": [
    {
     "name": "stdout",
     "output_type": "stream",
     "text": [
      "Train on 16000 samples, validate on 4000 samples\n",
      "Epoch 1/30\n",
      " - 4s - loss: 0.5061 - acc: 0.7023 - val_loss: 0.4212 - val_acc: 0.7737\n",
      "Epoch 2/30\n",
      " - 1s - loss: 0.3798 - acc: 0.8050 - val_loss: 0.3703 - val_acc: 0.8122\n",
      "Epoch 3/30\n",
      " - 1s - loss: 0.3349 - acc: 0.8394 - val_loss: 0.3359 - val_acc: 0.8514\n",
      "Epoch 4/30\n",
      " - 0s - loss: 0.2896 - acc: 0.8805 - val_loss: 0.3096 - val_acc: 0.8753\n",
      "Epoch 5/30\n",
      " - 0s - loss: 0.2632 - acc: 0.8968 - val_loss: 0.2979 - val_acc: 0.8843\n",
      "Epoch 6/30\n",
      " - 0s - loss: 0.2415 - acc: 0.9087 - val_loss: 0.2893 - val_acc: 0.8921\n",
      "Epoch 7/30\n",
      " - 0s - loss: 0.2225 - acc: 0.9190 - val_loss: 0.2841 - val_acc: 0.8964\n",
      "Epoch 8/30\n",
      " - 0s - loss: 0.2073 - acc: 0.9267 - val_loss: 0.2693 - val_acc: 0.9048\n",
      "Epoch 9/30\n",
      " - 0s - loss: 0.1958 - acc: 0.9321 - val_loss: 0.2787 - val_acc: 0.9028\n",
      "Epoch 10/30\n",
      " - 0s - loss: 0.1863 - acc: 0.9360 - val_loss: 0.2841 - val_acc: 0.9020\n",
      "Epoch 11/30\n",
      " - 0s - loss: 0.1803 - acc: 0.9404 - val_loss: 0.2932 - val_acc: 0.9029\n",
      "Epoch 12/30\n",
      " - 0s - loss: 0.1733 - acc: 0.9437 - val_loss: 0.2939 - val_acc: 0.9037\n",
      "Epoch 13/30\n",
      " - 0s - loss: 0.1664 - acc: 0.9469 - val_loss: 0.3067 - val_acc: 0.9016\n",
      "Epoch 14/30\n",
      " - 0s - loss: 0.1612 - acc: 0.9502 - val_loss: 0.3119 - val_acc: 0.9013\n",
      "Epoch 15/30\n",
      " - 0s - loss: 0.1529 - acc: 0.9543 - val_loss: 0.3229 - val_acc: 0.8989\n",
      "Epoch 16/30\n",
      " - 0s - loss: 0.1464 - acc: 0.9578 - val_loss: 0.3278 - val_acc: 0.9024\n",
      "Epoch 17/30\n",
      " - 0s - loss: 0.1391 - acc: 0.9615 - val_loss: 0.3323 - val_acc: 0.9029\n",
      "Epoch 18/30\n",
      " - 0s - loss: 0.1365 - acc: 0.9621 - val_loss: 0.3561 - val_acc: 0.8995\n",
      "Epoch 19/30\n",
      " - 0s - loss: 0.1352 - acc: 0.9637 - val_loss: 0.3698 - val_acc: 0.8983\n",
      "Epoch 20/30\n",
      " - 0s - loss: 0.1354 - acc: 0.9643 - val_loss: 0.3732 - val_acc: 0.8996\n",
      "Epoch 21/30\n",
      " - 0s - loss: 0.1307 - acc: 0.9673 - val_loss: 0.3803 - val_acc: 0.9009\n",
      "Epoch 22/30\n",
      " - 0s - loss: 0.1322 - acc: 0.9670 - val_loss: 0.3821 - val_acc: 0.8999\n",
      "Epoch 23/30\n",
      " - 0s - loss: 0.1276 - acc: 0.9691 - val_loss: 0.3926 - val_acc: 0.9007\n",
      "Epoch 24/30\n",
      " - 0s - loss: 0.1250 - acc: 0.9708 - val_loss: 0.4045 - val_acc: 0.9002\n",
      "Epoch 25/30\n",
      " - 0s - loss: 0.1273 - acc: 0.9704 - val_loss: 0.4088 - val_acc: 0.9021\n",
      "Epoch 26/30\n",
      " - 0s - loss: 0.1239 - acc: 0.9718 - val_loss: 0.4177 - val_acc: 0.9000\n",
      "Epoch 27/30\n",
      " - 0s - loss: 0.1249 - acc: 0.9718 - val_loss: 0.4329 - val_acc: 0.8995\n",
      "Epoch 28/30\n",
      " - 0s - loss: 0.1212 - acc: 0.9734 - val_loss: 0.4378 - val_acc: 0.8994\n",
      "Epoch 29/30\n",
      " - 0s - loss: 0.1174 - acc: 0.9756 - val_loss: 0.4409 - val_acc: 0.8995\n",
      "Epoch 30/30\n",
      " - 0s - loss: 0.1148 - acc: 0.9769 - val_loss: 0.4540 - val_acc: 0.9005\n"
     ]
    }
   ],
   "source": [
    "fnn_k10_ehigh_history = model.fit(X_train, y_train, batch_size=256, epochs=30, \n",
    "                                 shuffle=True, verbose=2, validation_split=0.2)"
   ]
  },
  {
   "cell_type": "code",
   "execution_count": 506,
   "metadata": {},
   "outputs": [
    {
     "data": {
      "text/plain": [
       "0.9013999989509582"
      ]
     },
     "execution_count": 506,
     "metadata": {},
     "output_type": "execute_result"
    }
   ],
   "source": [
    "model_accuracy(model, X_test, y_test, argmax=False)"
   ]
  },
  {
   "cell_type": "markdown",
   "metadata": {},
   "source": [
    "**CNN**"
   ]
  },
  {
   "cell_type": "code",
   "execution_count": 507,
   "metadata": {},
   "outputs": [
    {
     "name": "stdout",
     "output_type": "stream",
     "text": [
      "(20000, 36)\n",
      "(5000, 36)\n"
     ]
    }
   ],
   "source": [
    "print(X_train.shape)\n",
    "print(X_test.shape)"
   ]
  },
  {
   "cell_type": "code",
   "execution_count": 508,
   "metadata": {
    "scrolled": true
   },
   "outputs": [
    {
     "name": "stdout",
     "output_type": "stream",
     "text": [
      "(20000, 6, 6)\n",
      "(5000, 6, 6)\n"
     ]
    }
   ],
   "source": [
    "X_train_cnn = X_train.reshape([-1, 6, 6])\n",
    "X_test_cnn = X_test.reshape([-1, 6, 6])\n",
    "\n",
    "print(X_train_cnn.shape)\n",
    "print(X_test_cnn.shape)"
   ]
  },
  {
   "cell_type": "code",
   "execution_count": 509,
   "metadata": {
    "collapsed": true
   },
   "outputs": [],
   "source": [
    "model = Sequential()\n",
    "\n",
    "model.add(Conv1D(filters=120, kernel_size=3, strides=1, padding=\"same\", \n",
    "                 activation=\"relu\", input_shape=X_train_cnn.shape[1:]))\n",
    "\n",
    "model.add(Conv1D(filters=120, kernel_size=3, strides=1, padding=\"same\", activation=\"relu\"))\n",
    "model.add(Conv1D(filters=120, kernel_size=3, strides=1, padding=\"same\", activation=\"relu\"))\n",
    "model.add(Conv1D(filters=120, kernel_size=3, strides=1, padding=\"same\", activation=\"relu\"))\n",
    "\n",
    "# no dropout seems to do well\n",
    "\n",
    "model.add(Flatten())\n",
    "\n",
    "model.add(Dense(512, activation=\"relu\"))\n",
    "model.add(Dense(256, activation=\"relu\"))\n",
    "\n",
    "model.add(Dense(np.product(y_train.shape[1:]), activation=\"sigmoid\"))\n",
    "model.add(Reshape(y_train.shape[1:]))\n",
    "\n",
    "opt = Adam(lr=0.001)\n",
    "model.compile(optimizer=opt, loss=\"binary_crossentropy\", metrics=[\"accuracy\"])"
   ]
  },
  {
   "cell_type": "code",
   "execution_count": 510,
   "metadata": {},
   "outputs": [
    {
     "name": "stdout",
     "output_type": "stream",
     "text": [
      "Train on 16000 samples, validate on 4000 samples\n",
      "Epoch 1/30\n",
      " - 7s - loss: 0.5517 - acc: 0.6753 - val_loss: 0.4392 - val_acc: 0.7880\n",
      "Epoch 2/30\n",
      " - 2s - loss: 0.3450 - acc: 0.8474 - val_loss: 0.2989 - val_acc: 0.8738\n",
      "Epoch 3/30\n",
      " - 2s - loss: 0.2651 - acc: 0.8902 - val_loss: 0.2525 - val_acc: 0.8956\n",
      "Epoch 4/30\n",
      " - 2s - loss: 0.2280 - acc: 0.9073 - val_loss: 0.2382 - val_acc: 0.9037\n",
      "Epoch 5/30\n",
      " - 2s - loss: 0.2038 - acc: 0.9186 - val_loss: 0.2212 - val_acc: 0.9104\n",
      "Epoch 6/30\n",
      " - 2s - loss: 0.1862 - acc: 0.9257 - val_loss: 0.2059 - val_acc: 0.9175\n",
      "Epoch 7/30\n",
      " - 3s - loss: 0.1720 - acc: 0.9325 - val_loss: 0.2027 - val_acc: 0.9198\n",
      "Epoch 8/30\n",
      " - 3s - loss: 0.1583 - acc: 0.9379 - val_loss: 0.1997 - val_acc: 0.9200\n",
      "Epoch 9/30\n",
      " - 2s - loss: 0.1470 - acc: 0.9425 - val_loss: 0.1987 - val_acc: 0.9230\n",
      "Epoch 10/30\n",
      " - 2s - loss: 0.1357 - acc: 0.9471 - val_loss: 0.2013 - val_acc: 0.9224\n",
      "Epoch 11/30\n",
      " - 2s - loss: 0.1280 - acc: 0.9500 - val_loss: 0.1983 - val_acc: 0.9233\n",
      "Epoch 12/30\n",
      " - 2s - loss: 0.1170 - acc: 0.9549 - val_loss: 0.2002 - val_acc: 0.9241\n",
      "Epoch 13/30\n",
      " - 2s - loss: 0.1088 - acc: 0.9582 - val_loss: 0.2054 - val_acc: 0.9222\n",
      "Epoch 14/30\n",
      " - 2s - loss: 0.0985 - acc: 0.9623 - val_loss: 0.2115 - val_acc: 0.9242\n",
      "Epoch 15/30\n",
      " - 2s - loss: 0.0890 - acc: 0.9666 - val_loss: 0.2227 - val_acc: 0.9215\n",
      "Epoch 16/30\n",
      " - 2s - loss: 0.0801 - acc: 0.9703 - val_loss: 0.2287 - val_acc: 0.9221\n",
      "Epoch 17/30\n",
      " - 2s - loss: 0.0721 - acc: 0.9731 - val_loss: 0.2405 - val_acc: 0.9226\n",
      "Epoch 18/30\n",
      " - 2s - loss: 0.0616 - acc: 0.9774 - val_loss: 0.2568 - val_acc: 0.9218\n",
      "Epoch 19/30\n",
      " - 2s - loss: 0.0541 - acc: 0.9804 - val_loss: 0.2626 - val_acc: 0.9194\n",
      "Epoch 20/30\n",
      " - 2s - loss: 0.0454 - acc: 0.9838 - val_loss: 0.2887 - val_acc: 0.9217\n",
      "Epoch 21/30\n",
      " - 2s - loss: 0.0362 - acc: 0.9874 - val_loss: 0.3096 - val_acc: 0.9207\n",
      "Epoch 22/30\n",
      " - 2s - loss: 0.0296 - acc: 0.9899 - val_loss: 0.3376 - val_acc: 0.9215\n",
      "Epoch 23/30\n",
      " - 2s - loss: 0.0227 - acc: 0.9927 - val_loss: 0.3680 - val_acc: 0.9203\n",
      "Epoch 24/30\n",
      " - 2s - loss: 0.0192 - acc: 0.9938 - val_loss: 0.3801 - val_acc: 0.9189\n",
      "Epoch 25/30\n",
      " - 2s - loss: 0.0165 - acc: 0.9947 - val_loss: 0.4025 - val_acc: 0.9198\n",
      "Epoch 26/30\n",
      " - 2s - loss: 0.0150 - acc: 0.9953 - val_loss: 0.4170 - val_acc: 0.9198\n",
      "Epoch 27/30\n",
      " - 2s - loss: 0.0107 - acc: 0.9968 - val_loss: 0.4428 - val_acc: 0.9212\n",
      "Epoch 28/30\n",
      " - 2s - loss: 0.0105 - acc: 0.9967 - val_loss: 0.4577 - val_acc: 0.9194\n",
      "Epoch 29/30\n",
      " - 2s - loss: 0.0107 - acc: 0.9967 - val_loss: 0.4666 - val_acc: 0.9194\n",
      "Epoch 30/30\n",
      " - 2s - loss: 0.0144 - acc: 0.9948 - val_loss: 0.4660 - val_acc: 0.9197\n"
     ]
    }
   ],
   "source": [
    "cnn_k10_ehigh_history = model.fit(X_train_cnn, y_train, batch_size=256, epochs=30, \n",
    "                                 shuffle=True, verbose=2, validation_split=0.2)"
   ]
  },
  {
   "cell_type": "code",
   "execution_count": 511,
   "metadata": {},
   "outputs": [
    {
     "data": {
      "text/plain": [
       "0.9159599994659424"
      ]
     },
     "execution_count": 511,
     "metadata": {},
     "output_type": "execute_result"
    }
   ],
   "source": [
    "model_accuracy(model, X_test_cnn, y_test, argmax=False)"
   ]
  },
  {
   "cell_type": "markdown",
   "metadata": {},
   "source": [
    "**LSTM**"
   ]
  },
  {
   "cell_type": "code",
   "execution_count": 512,
   "metadata": {
    "scrolled": true
   },
   "outputs": [
    {
     "name": "stdout",
     "output_type": "stream",
     "text": [
      "(20000, 33, 3)\n",
      "(5000, 33, 3)\n"
     ]
    }
   ],
   "source": [
    "X_train_lstm = prepare_data_for_lstm(X_train)\n",
    "X_test_lstm = prepare_data_for_lstm(X_test)\n",
    "\n",
    "print(X_train_lstm.shape)\n",
    "print(X_test_lstm.shape)"
   ]
  },
  {
   "cell_type": "code",
   "execution_count": 513,
   "metadata": {
    "collapsed": true
   },
   "outputs": [],
   "source": [
    "lr = 0.01\n",
    "model = Sequential()\n",
    "\n",
    "model.add(LSTM(200, activation=\"tanh\", input_shape=(33, 3), return_sequences=False))\n",
    "model.add(Dropout(0.5))\n",
    "\n",
    "model.add(Dense(40, activation=\"relu\"))\n",
    "\n",
    "model.add(Dense(20, activation=\"sigmoid\"))\n",
    "model.add(Reshape((10, 2)))\n",
    "\n",
    "opt = optimizers[\"adam\"](lr=lr)\n",
    "model.compile(optimizer=opt, loss=\"binary_crossentropy\", metrics=[\"accuracy\"])"
   ]
  },
  {
   "cell_type": "code",
   "execution_count": 514,
   "metadata": {},
   "outputs": [
    {
     "name": "stdout",
     "output_type": "stream",
     "text": [
      "Train on 16000 samples, validate on 4000 samples\n",
      "Epoch 1/30\n",
      " - 16s - loss: 0.6291 - acc: 0.5791 - val_loss: 0.5802 - val_acc: 0.6159\n",
      "Epoch 2/30\n",
      " - 11s - loss: 0.5708 - acc: 0.6272 - val_loss: 0.5492 - val_acc: 0.6500\n",
      "Epoch 3/30\n",
      " - 12s - loss: 0.5452 - acc: 0.6532 - val_loss: 0.5230 - val_acc: 0.6703\n",
      "Epoch 4/30\n",
      " - 11s - loss: 0.5163 - acc: 0.6853 - val_loss: 0.4827 - val_acc: 0.7137\n",
      "Epoch 5/30\n",
      " - 11s - loss: 0.4834 - acc: 0.7205 - val_loss: 0.4526 - val_acc: 0.7438\n",
      "Epoch 6/30\n",
      " - 11s - loss: 0.4433 - acc: 0.7634 - val_loss: 0.4118 - val_acc: 0.7933\n",
      "Epoch 7/30\n",
      " - 15s - loss: 0.3919 - acc: 0.8077 - val_loss: 0.3357 - val_acc: 0.8434\n",
      "Epoch 8/30\n",
      " - 14s - loss: 0.3425 - acc: 0.8409 - val_loss: 0.2964 - val_acc: 0.8691\n",
      "Epoch 9/30\n",
      " - 11s - loss: 0.2981 - acc: 0.8716 - val_loss: 0.2564 - val_acc: 0.8936\n",
      "Epoch 10/30\n",
      " - 11s - loss: 0.2601 - acc: 0.8913 - val_loss: 0.2220 - val_acc: 0.9149\n",
      "Epoch 11/30\n",
      " - 10s - loss: 0.2296 - acc: 0.9086 - val_loss: 0.2171 - val_acc: 0.9188\n",
      "Epoch 12/30\n",
      " - 10s - loss: 0.2206 - acc: 0.9132 - val_loss: 0.2031 - val_acc: 0.9205\n",
      "Epoch 13/30\n",
      " - 10s - loss: 0.2063 - acc: 0.9174 - val_loss: 0.2033 - val_acc: 0.9201\n",
      "Epoch 14/30\n",
      " - 11s - loss: 0.1980 - acc: 0.9213 - val_loss: 0.1929 - val_acc: 0.9238\n",
      "Epoch 15/30\n",
      " - 11s - loss: 0.1925 - acc: 0.9241 - val_loss: 0.2004 - val_acc: 0.9218\n",
      "Epoch 16/30\n",
      " - 11s - loss: 0.1842 - acc: 0.9266 - val_loss: 0.2075 - val_acc: 0.9230\n",
      "Epoch 17/30\n",
      " - 13s - loss: 0.1789 - acc: 0.9282 - val_loss: 0.1942 - val_acc: 0.9254\n",
      "Epoch 18/30\n",
      " - 12s - loss: 0.1707 - acc: 0.9318 - val_loss: 0.2050 - val_acc: 0.9207\n",
      "Epoch 19/30\n",
      " - 12s - loss: 0.1673 - acc: 0.9328 - val_loss: 0.2136 - val_acc: 0.9219\n",
      "Epoch 20/30\n",
      " - 12s - loss: 0.1654 - acc: 0.9334 - val_loss: 0.2006 - val_acc: 0.9229\n",
      "Epoch 21/30\n",
      " - 11s - loss: 0.1600 - acc: 0.9356 - val_loss: 0.2047 - val_acc: 0.9245\n",
      "Epoch 22/30\n",
      " - 12s - loss: 0.1521 - acc: 0.9391 - val_loss: 0.2218 - val_acc: 0.9204\n",
      "Epoch 23/30\n",
      " - 11s - loss: 0.1500 - acc: 0.9396 - val_loss: 0.2201 - val_acc: 0.9214\n",
      "Epoch 24/30\n",
      " - 13s - loss: 0.1452 - acc: 0.9407 - val_loss: 0.2145 - val_acc: 0.9198\n",
      "Epoch 25/30\n",
      " - 11s - loss: 0.1446 - acc: 0.9416 - val_loss: 0.2173 - val_acc: 0.9209\n",
      "Epoch 26/30\n",
      " - 13s - loss: 0.1422 - acc: 0.9426 - val_loss: 0.2156 - val_acc: 0.9212\n",
      "Epoch 27/30\n",
      " - 12s - loss: 0.1362 - acc: 0.9454 - val_loss: 0.2203 - val_acc: 0.9210\n",
      "Epoch 28/30\n",
      " - 11s - loss: 0.1302 - acc: 0.9477 - val_loss: 0.2150 - val_acc: 0.9218\n",
      "Epoch 29/30\n",
      " - 11s - loss: 0.1246 - acc: 0.9493 - val_loss: 0.2194 - val_acc: 0.9183\n",
      "Epoch 30/30\n",
      " - 11s - loss: 0.1245 - acc: 0.9496 - val_loss: 0.2206 - val_acc: 0.9190\n"
     ]
    }
   ],
   "source": [
    "lstm_k10_ehigh_history = model.fit(X_train_lstm, y_train, epochs=30, batch_size=256, verbose=2,\n",
    "          shuffle=True, validation_split=0.2)"
   ]
  },
  {
   "cell_type": "code",
   "execution_count": 515,
   "metadata": {},
   "outputs": [
    {
     "data": {
      "text/plain": [
       "0.9138699984550476"
      ]
     },
     "execution_count": 515,
     "metadata": {},
     "output_type": "execute_result"
    }
   ],
   "source": [
    "model_accuracy(model, X_test_lstm, y_test, argmax=False)"
   ]
  },
  {
   "cell_type": "markdown",
   "metadata": {},
   "source": [
    "**Bidirectoinal LSTM**"
   ]
  },
  {
   "cell_type": "code",
   "execution_count": 520,
   "metadata": {
    "scrolled": true
   },
   "outputs": [
    {
     "name": "stdout",
     "output_type": "stream",
     "text": [
      "Train on 16000 samples, validate on 4000 samples\n",
      "Epoch 1/30\n",
      " - 22s - loss: 0.5990 - acc: 0.6161 - val_loss: 0.5178 - val_acc: 0.6893\n",
      "Epoch 2/30\n",
      " - 16s - loss: 0.4922 - acc: 0.7101 - val_loss: 0.4553 - val_acc: 0.7368\n",
      "Epoch 3/30\n",
      " - 17s - loss: 0.4375 - acc: 0.7550 - val_loss: 0.4125 - val_acc: 0.7790\n",
      "Epoch 4/30\n",
      " - 21s - loss: 0.4050 - acc: 0.7879 - val_loss: 0.3808 - val_acc: 0.8058\n",
      "Epoch 5/30\n",
      " - 17s - loss: 0.3710 - acc: 0.8179 - val_loss: 0.3476 - val_acc: 0.8330\n",
      "Epoch 6/30\n",
      " - 19s - loss: 0.3389 - acc: 0.8406 - val_loss: 0.3085 - val_acc: 0.8583\n",
      "Epoch 7/30\n",
      " - 17s - loss: 0.3053 - acc: 0.8620 - val_loss: 0.2901 - val_acc: 0.8722\n",
      "Epoch 8/30\n",
      " - 20s - loss: 0.2874 - acc: 0.8728 - val_loss: 0.2709 - val_acc: 0.8831\n",
      "Epoch 9/30\n",
      " - 19s - loss: 0.2647 - acc: 0.8846 - val_loss: 0.2628 - val_acc: 0.8864\n",
      "Epoch 10/30\n",
      " - 18s - loss: 0.2447 - acc: 0.8950 - val_loss: 0.2308 - val_acc: 0.9015\n",
      "Epoch 11/30\n",
      " - 16s - loss: 0.2329 - acc: 0.9002 - val_loss: 0.2311 - val_acc: 0.9029\n",
      "Epoch 12/30\n",
      " - 16s - loss: 0.2206 - acc: 0.9066 - val_loss: 0.2271 - val_acc: 0.9042\n",
      "Epoch 13/30\n",
      " - 16s - loss: 0.2122 - acc: 0.9102 - val_loss: 0.2202 - val_acc: 0.9073\n",
      "Epoch 14/30\n",
      " - 16s - loss: 0.2051 - acc: 0.9130 - val_loss: 0.2141 - val_acc: 0.9104\n",
      "Epoch 15/30\n",
      " - 16s - loss: 0.1918 - acc: 0.9197 - val_loss: 0.2078 - val_acc: 0.9118\n",
      "Epoch 16/30\n",
      " - 17s - loss: 0.1846 - acc: 0.9228 - val_loss: 0.2085 - val_acc: 0.9131\n",
      "Epoch 17/30\n",
      " - 16s - loss: 0.1760 - acc: 0.9264 - val_loss: 0.2034 - val_acc: 0.9161\n",
      "Epoch 18/30\n",
      " - 20s - loss: 0.1659 - acc: 0.9317 - val_loss: 0.2110 - val_acc: 0.9143\n",
      "Epoch 19/30\n",
      " - 16s - loss: 0.1697 - acc: 0.9293 - val_loss: 0.2098 - val_acc: 0.9153\n",
      "Epoch 20/30\n",
      " - 17s - loss: 0.1596 - acc: 0.9332 - val_loss: 0.2097 - val_acc: 0.9170\n",
      "Epoch 21/30\n",
      " - 18s - loss: 0.1481 - acc: 0.9386 - val_loss: 0.2159 - val_acc: 0.9155\n",
      "Epoch 22/30\n",
      " - 16s - loss: 0.1479 - acc: 0.9398 - val_loss: 0.2053 - val_acc: 0.9178\n",
      "Epoch 23/30\n",
      " - 16s - loss: 0.1409 - acc: 0.9422 - val_loss: 0.2102 - val_acc: 0.9188\n",
      "Epoch 24/30\n",
      " - 16s - loss: 0.1318 - acc: 0.9455 - val_loss: 0.2110 - val_acc: 0.9189\n",
      "Epoch 25/30\n",
      " - 17s - loss: 0.1317 - acc: 0.9455 - val_loss: 0.2183 - val_acc: 0.9192\n",
      "Epoch 26/30\n",
      " - 19s - loss: 0.1313 - acc: 0.9466 - val_loss: 0.2179 - val_acc: 0.9183\n",
      "Epoch 27/30\n",
      " - 18s - loss: 0.1184 - acc: 0.9519 - val_loss: 0.2176 - val_acc: 0.9188\n",
      "Epoch 28/30\n",
      " - 18s - loss: 0.1101 - acc: 0.9553 - val_loss: 0.2195 - val_acc: 0.9182\n",
      "Epoch 29/30\n",
      " - 20s - loss: 0.1110 - acc: 0.9544 - val_loss: 0.2208 - val_acc: 0.9163\n",
      "Epoch 30/30\n",
      " - 19s - loss: 0.1056 - acc: 0.9567 - val_loss: 0.2410 - val_acc: 0.9169\n"
     ]
    }
   ],
   "source": [
    "lr = 0.01\n",
    "model = Sequential()\n",
    "\n",
    "model.add(Bidirectional(LSTM(200, activation=\"tanh\", return_sequences=False), input_shape=X_train_lstm.shape[1:]))\n",
    "model.add(Dropout(0.5))\n",
    "model.add(Dense(128, activation=\"relu\"))\n",
    "\n",
    "model.add(Dense(20, activation=\"sigmoid\"))\n",
    "model.add(Reshape((10,2)))\n",
    "\n",
    "opt = optimizers[\"adam\"](lr=lr)\n",
    "model.compile(optimizer=opt, loss=\"binary_crossentropy\", metrics=[\"accuracy\"])\n",
    "\n",
    "bidir_lstm_k10_ehigh_history = model.fit(X_train_lstm, y_train, epochs=30, batch_size=512, \n",
    "                                        verbose=2, shuffle=True, validation_split=0.2)"
   ]
  },
  {
   "cell_type": "code",
   "execution_count": 521,
   "metadata": {
    "scrolled": true
   },
   "outputs": [
    {
     "data": {
      "text/plain": [
       "0.9134000004768371"
      ]
     },
     "execution_count": 521,
     "metadata": {},
     "output_type": "execute_result"
    }
   ],
   "source": [
    "model_accuracy(model, X_test_lstm, y_test, argmax=False)"
   ]
  },
  {
   "cell_type": "markdown",
   "metadata": {},
   "source": [
    "**Plots**"
   ]
  },
  {
   "cell_type": "code",
   "execution_count": 522,
   "metadata": {},
   "outputs": [
    {
     "data": {
      "image/png": "[encoded data removed]",
      "text/plain": [
       "<matplotlib.figure.Figure at 0x172694080>"
      ]
     },
     "metadata": {},
     "output_type": "display_data"
    }
   ],
   "source": [
    "plt.figure(figsize=(8, 5))\n",
    "plt.title('Training Accuracy of Trellis 3, k=10, e=0.15')\n",
    "\n",
    "plt.axhline(np.log(1 - 0.937168), color=\"green\", xmin=0.05, xmax=0.95, label=\"Viterbi\")\n",
    "\n",
    "plt.plot(np.log(1 - np.array(fnn_k10_ehigh_history.history['val_acc'])), 'r-', label=\"FNN-[128, 256, 480] val loss\")\n",
    "plt.plot(np.log(1 - np.array(cnn_k10_ehigh_history.history['val_acc'])), 'c-', label=\"CNN-[Cx4, F, Dx3] val loss\")\n",
    "plt.plot(np.log(1 - np.array(lstm_k10_ehigh_history.history['val_acc'])), 'm-', label=\"LSTM-[cell=200, lookback=3] val loss\")\n",
    "plt.plot(np.log(1 - np.array(bidir_lstm_k10_ehigh_history.history['val_acc'])), 'y-', label=\"Bidirectoinal-LSTM val loss\")\n",
    "\n",
    "plt.ylabel('Bitwise Loss (Log Scale)')\n",
    "plt.xlabel('Epoch')\n",
    "\n",
    "plt.legend()\n",
    "plt.show()"
   ]
  },
  {
   "cell_type": "markdown",
   "metadata": {},
   "source": [
    "### k40, e0.05"
   ]
  },
  {
   "cell_type": "code",
   "execution_count": 523,
   "metadata": {
    "collapsed": true
   },
   "outputs": [],
   "source": [
    "train, test, original = build_data_from_path(\"../data/dataset_04/data/dataset_n25000_k40_e0.05.pkl\")\n",
    "X_train, y_train = train\n",
    "X_test, y_test = test\n",
    "X, y, y_oh, y_viterbi_decoded = original"
   ]
  },
  {
   "cell_type": "code",
   "execution_count": 524,
   "metadata": {},
   "outputs": [
    {
     "name": "stdout",
     "output_type": "stream",
     "text": [
      "(20000, 84)\n",
      "(5000, 84)\n",
      "\n",
      "(20000, 40, 2)\n",
      "(5000, 40, 2)\n"
     ]
    }
   ],
   "source": [
    "print(X_train.shape)\n",
    "print(X_test.shape)\n",
    "print()\n",
    "print(y_train.shape)\n",
    "print(y_test.shape)"
   ]
  },
  {
   "cell_type": "markdown",
   "metadata": {},
   "source": [
    "**Viterbi**"
   ]
  },
  {
   "cell_type": "code",
   "execution_count": 525,
   "metadata": {
    "scrolled": true
   },
   "outputs": [
    {
     "data": {
      "text/plain": [
       "0.991822"
      ]
     },
     "execution_count": 525,
     "metadata": {},
     "output_type": "execute_result"
    }
   ],
   "source": [
    "accuracy(y, y_viterbi_decoded, viterbi=True)"
   ]
  },
  {
   "cell_type": "markdown",
   "metadata": {},
   "source": [
    "**FNN**"
   ]
  },
  {
   "cell_type": "code",
   "execution_count": 645,
   "metadata": {
    "collapsed": true
   },
   "outputs": [],
   "source": [
    "model = Sequential()\n",
    "\n",
    "model.add(Dense(256, activation=\"relu\", input_shape=X_train.shape[1:], \n",
    "                kernel_regularizer=regularizers.l2(0.00001)))\n",
    "model.add(Dense(512, activation=\"relu\", kernel_regularizer=regularizers.l2(0.00001)))\n",
    "model.add(Dense(768, activation=\"relu\", kernel_regularizer=regularizers.l2(0.00001)))\n",
    "\n",
    "model.add(Dense(np.product(y_train.shape[1:]), activation=\"sigmoid\"))\n",
    "model.add(Reshape(y_train.shape[1:]))\n",
    "\n",
    "opt = Adam(lr=0.001)\n",
    "model.compile(optimizer=opt, loss=\"binary_crossentropy\", metrics=[\"accuracy\"])"
   ]
  },
  {
   "cell_type": "code",
   "execution_count": 646,
   "metadata": {},
   "outputs": [
    {
     "name": "stdout",
     "output_type": "stream",
     "text": [
      "Train on 16000 samples, validate on 4000 samples\n",
      "Epoch 1/40\n",
      " - 8s - loss: 0.6685 - acc: 0.5454 - val_loss: 0.6468 - val_acc: 0.5631\n",
      "Epoch 2/40\n",
      " - 1s - loss: 0.6315 - acc: 0.5862 - val_loss: 0.6187 - val_acc: 0.5911\n",
      "Epoch 3/40\n",
      " - 1s - loss: 0.6010 - acc: 0.6116 - val_loss: 0.5985 - val_acc: 0.6025\n",
      "Epoch 4/40\n",
      " - 1s - loss: 0.5835 - acc: 0.6317 - val_loss: 0.5837 - val_acc: 0.6246\n",
      "Epoch 5/40\n",
      " - 1s - loss: 0.5604 - acc: 0.6674 - val_loss: 0.5559 - val_acc: 0.6740\n",
      "Epoch 6/40\n",
      " - 2s - loss: 0.4995 - acc: 0.7406 - val_loss: 0.4669 - val_acc: 0.7656\n",
      "Epoch 7/40\n",
      " - 1s - loss: 0.4198 - acc: 0.8074 - val_loss: 0.4139 - val_acc: 0.8136\n",
      "Epoch 8/40\n",
      " - 1s - loss: 0.3669 - acc: 0.8514 - val_loss: 0.3721 - val_acc: 0.8545\n",
      "Epoch 9/40\n",
      " - 1s - loss: 0.3286 - acc: 0.8786 - val_loss: 0.3456 - val_acc: 0.8748\n",
      "Epoch 10/40\n",
      " - 1s - loss: 0.3095 - acc: 0.8884 - val_loss: 0.3356 - val_acc: 0.8817\n",
      "Epoch 11/40\n",
      " - 1s - loss: 0.2956 - acc: 0.8957 - val_loss: 0.3262 - val_acc: 0.8899\n",
      "Epoch 12/40\n",
      " - 1s - loss: 0.2833 - acc: 0.9027 - val_loss: 0.3188 - val_acc: 0.8938\n",
      "Epoch 13/40\n",
      " - 1s - loss: 0.2722 - acc: 0.9073 - val_loss: 0.3135 - val_acc: 0.8980\n",
      "Epoch 14/40\n",
      " - 1s - loss: 0.2609 - acc: 0.9127 - val_loss: 0.3075 - val_acc: 0.9019\n",
      "Epoch 15/40\n",
      " - 1s - loss: 0.2496 - acc: 0.9172 - val_loss: 0.3011 - val_acc: 0.9073\n",
      "Epoch 16/40\n",
      " - 1s - loss: 0.2373 - acc: 0.9228 - val_loss: 0.2913 - val_acc: 0.9124\n",
      "Epoch 17/40\n",
      " - 1s - loss: 0.2239 - acc: 0.9275 - val_loss: 0.2844 - val_acc: 0.9148\n",
      "Epoch 18/40\n",
      " - 1s - loss: 0.2139 - acc: 0.9300 - val_loss: 0.2822 - val_acc: 0.9153\n",
      "Epoch 19/40\n",
      " - 1s - loss: 0.2043 - acc: 0.9323 - val_loss: 0.2794 - val_acc: 0.9156\n",
      "Epoch 20/40\n",
      " - 1s - loss: 0.1961 - acc: 0.9349 - val_loss: 0.2740 - val_acc: 0.9164\n",
      "Epoch 21/40\n",
      " - 1s - loss: 0.1875 - acc: 0.9374 - val_loss: 0.2693 - val_acc: 0.9172\n",
      "Epoch 22/40\n",
      " - 1s - loss: 0.1785 - acc: 0.9404 - val_loss: 0.2684 - val_acc: 0.9167\n",
      "Epoch 23/40\n",
      " - 1s - loss: 0.1708 - acc: 0.9433 - val_loss: 0.2682 - val_acc: 0.9168\n",
      "Epoch 24/40\n",
      " - 1s - loss: 0.1627 - acc: 0.9466 - val_loss: 0.2691 - val_acc: 0.9166\n",
      "Epoch 25/40\n",
      " - 1s - loss: 0.1546 - acc: 0.9500 - val_loss: 0.2657 - val_acc: 0.9174\n",
      "Epoch 26/40\n",
      " - 1s - loss: 0.1471 - acc: 0.9531 - val_loss: 0.2633 - val_acc: 0.9178\n",
      "Epoch 27/40\n",
      " - 1s - loss: 0.1406 - acc: 0.9562 - val_loss: 0.2653 - val_acc: 0.9177\n",
      "Epoch 28/40\n",
      " - 1s - loss: 0.1327 - acc: 0.9595 - val_loss: 0.2637 - val_acc: 0.9184\n",
      "Epoch 29/40\n",
      " - 1s - loss: 0.1268 - acc: 0.9626 - val_loss: 0.2622 - val_acc: 0.9190\n",
      "Epoch 30/40\n",
      " - 1s - loss: 0.1201 - acc: 0.9656 - val_loss: 0.2663 - val_acc: 0.9183\n",
      "Epoch 31/40\n",
      " - 1s - loss: 0.1145 - acc: 0.9685 - val_loss: 0.2640 - val_acc: 0.9194\n",
      "Epoch 32/40\n",
      " - 1s - loss: 0.1086 - acc: 0.9712 - val_loss: 0.2668 - val_acc: 0.9194\n",
      "Epoch 33/40\n",
      " - 1s - loss: 0.1031 - acc: 0.9738 - val_loss: 0.2696 - val_acc: 0.9191\n",
      "Epoch 34/40\n",
      " - 1s - loss: 0.0979 - acc: 0.9764 - val_loss: 0.2717 - val_acc: 0.9200\n",
      "Epoch 35/40\n",
      " - 1s - loss: 0.0926 - acc: 0.9789 - val_loss: 0.2733 - val_acc: 0.9196\n",
      "Epoch 36/40\n",
      " - 1s - loss: 0.0884 - acc: 0.9810 - val_loss: 0.2741 - val_acc: 0.9205\n",
      "Epoch 37/40\n",
      " - 1s - loss: 0.0845 - acc: 0.9829 - val_loss: 0.2771 - val_acc: 0.9206\n",
      "Epoch 38/40\n",
      " - 1s - loss: 0.0801 - acc: 0.9851 - val_loss: 0.2797 - val_acc: 0.9203\n",
      "Epoch 39/40\n",
      " - 1s - loss: 0.0769 - acc: 0.9868 - val_loss: 0.2848 - val_acc: 0.9207\n",
      "Epoch 40/40\n",
      " - 1s - loss: 0.0733 - acc: 0.9884 - val_loss: 0.2897 - val_acc: 0.9207\n"
     ]
    }
   ],
   "source": [
    "fnn_k40_elow_history = model.fit(X_train, y_train, batch_size=200, epochs=40, \n",
    "                                 shuffle=True, verbose=2, validation_split=0.2)"
   ]
  },
  {
   "cell_type": "code",
   "execution_count": 647,
   "metadata": {},
   "outputs": [
    {
     "data": {
      "text/plain": [
       "0.9206324983596802"
      ]
     },
     "execution_count": 647,
     "metadata": {},
     "output_type": "execute_result"
    }
   ],
   "source": [
    "model_accuracy(model, X_test, y_test, argmax=False)"
   ]
  },
  {
   "cell_type": "markdown",
   "metadata": {},
   "source": [
    "**CNN**"
   ]
  },
  {
   "cell_type": "code",
   "execution_count": 598,
   "metadata": {
    "scrolled": true
   },
   "outputs": [
    {
     "name": "stdout",
     "output_type": "stream",
     "text": [
      "(20000, 84)\n",
      "(5000, 84)\n"
     ]
    }
   ],
   "source": [
    "print(X_train.shape)\n",
    "print(X_test.shape)"
   ]
  },
  {
   "cell_type": "code",
   "execution_count": 599,
   "metadata": {},
   "outputs": [
    {
     "name": "stdout",
     "output_type": "stream",
     "text": [
      "(20000, 6, 14)\n",
      "(5000, 6, 14)\n"
     ]
    }
   ],
   "source": [
    "X_train_cnn = X_train.reshape([-1, 6, 14])\n",
    "X_test_cnn = X_test.reshape([-1, 6, 14])\n",
    "\n",
    "print(X_train_cnn.shape)\n",
    "print(X_test_cnn.shape)"
   ]
  },
  {
   "cell_type": "code",
   "execution_count": 636,
   "metadata": {
    "collapsed": true
   },
   "outputs": [],
   "source": [
    "model = Sequential()\n",
    "\n",
    "model.add(Conv1D(filters=240, kernel_size=3, strides=1, padding=\"same\", \n",
    "                 activation=\"relu\", input_shape=X_train_cnn.shape[1:]))\n",
    "\n",
    "model.add(Conv1D(filters=240, kernel_size=3, strides=1, padding=\"same\", activation=\"relu\"))\n",
    "\n",
    "model.add(Conv1D(filters=240, kernel_size=3, strides=1, padding=\"same\", activation=\"relu\"))\n",
    "model.add(Conv1D(filters=240, kernel_size=3, strides=1, padding=\"same\", activation=\"relu\"))\n",
    "\n",
    "# no dropout seems to do well\n",
    "\n",
    "model.add(Flatten())\n",
    "\n",
    "model.add(Dense(1024, activation=\"relu\"))\n",
    "model.add(Dense(512, activation=\"relu\"))\n",
    "\n",
    "model.add(Dense(np.product(y_train.shape[1:]), activation=\"sigmoid\"))\n",
    "model.add(Reshape(y_train.shape[1:]))\n",
    "\n",
    "opt = Adam(lr=0.002)\n",
    "model.compile(optimizer=opt, loss=\"binary_crossentropy\", metrics=[\"accuracy\"])"
   ]
  },
  {
   "cell_type": "code",
   "execution_count": 637,
   "metadata": {},
   "outputs": [
    {
     "name": "stdout",
     "output_type": "stream",
     "text": [
      "Train on 16000 samples, validate on 4000 samples\n",
      "Epoch 1/40\n",
      " - 13s - loss: 0.6605 - acc: 0.5376 - val_loss: 0.6330 - val_acc: 0.5691\n",
      "Epoch 2/40\n",
      " - 7s - loss: 0.5873 - acc: 0.6201 - val_loss: 0.5582 - val_acc: 0.6528\n",
      "Epoch 3/40\n",
      " - 7s - loss: 0.5152 - acc: 0.7009 - val_loss: 0.4693 - val_acc: 0.7467\n",
      "Epoch 4/40\n",
      " - 6s - loss: 0.4109 - acc: 0.7895 - val_loss: 0.3785 - val_acc: 0.8076\n",
      "Epoch 5/40\n",
      " - 6s - loss: 0.3152 - acc: 0.8422 - val_loss: 0.2913 - val_acc: 0.8539\n",
      "Epoch 6/40\n",
      " - 6s - loss: 0.2482 - acc: 0.8771 - val_loss: 0.2599 - val_acc: 0.8757\n",
      "Epoch 7/40\n",
      " - 6s - loss: 0.2038 - acc: 0.9017 - val_loss: 0.2423 - val_acc: 0.8881\n",
      "Epoch 8/40\n",
      " - 6s - loss: 0.1749 - acc: 0.9154 - val_loss: 0.2329 - val_acc: 0.8936\n",
      "Epoch 9/40\n",
      " - 6s - loss: 0.1526 - acc: 0.9261 - val_loss: 0.2255 - val_acc: 0.9008\n",
      "Epoch 10/40\n",
      " - 6s - loss: 0.1308 - acc: 0.9398 - val_loss: 0.2255 - val_acc: 0.9148\n",
      "Epoch 11/40\n",
      " - 6s - loss: 0.0972 - acc: 0.9625 - val_loss: 0.1978 - val_acc: 0.9350\n",
      "Epoch 12/40\n",
      " - 6s - loss: 0.0689 - acc: 0.9740 - val_loss: 0.2015 - val_acc: 0.9378\n",
      "Epoch 13/40\n",
      " - 6s - loss: 0.0539 - acc: 0.9799 - val_loss: 0.2033 - val_acc: 0.9397\n",
      "Epoch 14/40\n",
      " - 6s - loss: 0.0394 - acc: 0.9854 - val_loss: 0.2199 - val_acc: 0.9413\n",
      "Epoch 15/40\n",
      " - 6s - loss: 0.0289 - acc: 0.9894 - val_loss: 0.2389 - val_acc: 0.9414\n",
      "Epoch 16/40\n",
      " - 6s - loss: 0.0247 - acc: 0.9910 - val_loss: 0.2459 - val_acc: 0.9420\n",
      "Epoch 17/40\n",
      " - 7s - loss: 0.0185 - acc: 0.9934 - val_loss: 0.2711 - val_acc: 0.9422\n",
      "Epoch 18/40\n",
      " - 7s - loss: 0.0173 - acc: 0.9938 - val_loss: 0.2763 - val_acc: 0.9425\n",
      "Epoch 19/40\n",
      " - 6s - loss: 0.0152 - acc: 0.9944 - val_loss: 0.2988 - val_acc: 0.9425\n",
      "Epoch 20/40\n",
      " - 7s - loss: 0.0157 - acc: 0.9943 - val_loss: 0.2930 - val_acc: 0.9421\n",
      "Epoch 21/40\n",
      " - 6s - loss: 0.0147 - acc: 0.9947 - val_loss: 0.3102 - val_acc: 0.9406\n",
      "Epoch 22/40\n",
      " - 6s - loss: 0.0134 - acc: 0.9952 - val_loss: 0.3216 - val_acc: 0.9423\n",
      "Epoch 23/40\n",
      " - 6s - loss: 0.0134 - acc: 0.9953 - val_loss: 0.3179 - val_acc: 0.9435\n",
      "Epoch 24/40\n",
      " - 7s - loss: 0.0146 - acc: 0.9949 - val_loss: 0.3167 - val_acc: 0.9429\n",
      "Epoch 25/40\n",
      " - 6s - loss: 0.0135 - acc: 0.9952 - val_loss: 0.3287 - val_acc: 0.9432\n",
      "Epoch 26/40\n",
      " - 6s - loss: 0.0127 - acc: 0.9955 - val_loss: 0.3361 - val_acc: 0.9429\n",
      "Epoch 27/40\n",
      " - 7s - loss: 0.0142 - acc: 0.9949 - val_loss: 0.3315 - val_acc: 0.9437\n",
      "Epoch 28/40\n",
      " - 6s - loss: 0.0115 - acc: 0.9960 - val_loss: 0.3406 - val_acc: 0.9441\n",
      "Epoch 29/40\n",
      " - 6s - loss: 0.0131 - acc: 0.9954 - val_loss: 0.3465 - val_acc: 0.9419\n",
      "Epoch 30/40\n",
      " - 6s - loss: 0.0127 - acc: 0.9955 - val_loss: 0.3447 - val_acc: 0.9442\n",
      "Epoch 31/40\n",
      " - 6s - loss: 0.0102 - acc: 0.9964 - val_loss: 0.3556 - val_acc: 0.9455\n",
      "Epoch 32/40\n",
      " - 6s - loss: 0.0090 - acc: 0.9968 - val_loss: 0.3585 - val_acc: 0.9443\n",
      "Epoch 33/40\n",
      " - 6s - loss: 0.0099 - acc: 0.9966 - val_loss: 0.3728 - val_acc: 0.9423\n",
      "Epoch 34/40\n",
      " - 6s - loss: 0.0119 - acc: 0.9959 - val_loss: 0.3540 - val_acc: 0.9451\n",
      "Epoch 35/40\n",
      " - 6s - loss: 0.0099 - acc: 0.9965 - val_loss: 0.3718 - val_acc: 0.9432\n",
      "Epoch 36/40\n",
      " - 6s - loss: 0.0114 - acc: 0.9962 - val_loss: 0.3604 - val_acc: 0.9437\n",
      "Epoch 37/40\n",
      " - 6s - loss: 0.0118 - acc: 0.9960 - val_loss: 0.3645 - val_acc: 0.9454\n",
      "Epoch 38/40\n",
      " - 6s - loss: 0.0107 - acc: 0.9963 - val_loss: 0.3628 - val_acc: 0.9447\n",
      "Epoch 39/40\n",
      " - 6s - loss: 0.0119 - acc: 0.9959 - val_loss: 0.3815 - val_acc: 0.9433\n",
      "Epoch 40/40\n",
      " - 6s - loss: 0.0120 - acc: 0.9959 - val_loss: 0.3622 - val_acc: 0.9458\n"
     ]
    }
   ],
   "source": [
    "cnn_k40_elow_history = model.fit(X_train_cnn, y_train, batch_size=256, epochs=40, \n",
    "                                 shuffle=True, verbose=2, validation_split=0.2)"
   ]
  },
  {
   "cell_type": "code",
   "execution_count": 638,
   "metadata": {},
   "outputs": [
    {
     "data": {
      "text/plain": [
       "0.9461899981498718"
      ]
     },
     "execution_count": 638,
     "metadata": {},
     "output_type": "execute_result"
    }
   ],
   "source": [
    "model_accuracy(model, X_test_cnn, y_test, argmax=False)"
   ]
  },
  {
   "cell_type": "markdown",
   "metadata": {},
   "source": [
    "**LSTM**"
   ]
  },
  {
   "cell_type": "code",
   "execution_count": 653,
   "metadata": {},
   "outputs": [
    {
     "name": "stdout",
     "output_type": "stream",
     "text": [
      "(20000, 81, 3)\n",
      "(5000, 81, 3)\n"
     ]
    }
   ],
   "source": [
    "X_train_lstm = prepare_data_for_lstm(X_train)\n",
    "X_test_lstm = prepare_data_for_lstm(X_test)\n",
    "\n",
    "print(X_train_lstm.shape)\n",
    "print(X_test_lstm.shape)"
   ]
  },
  {
   "cell_type": "code",
   "execution_count": 675,
   "metadata": {
    "collapsed": true
   },
   "outputs": [],
   "source": [
    "lr = 0.001\n",
    "model = Sequential()\n",
    "\n",
    "model.add(LSTM(200, activation=\"tanh\", input_shape=(81, 3), return_sequences=False))\n",
    "\n",
    "model.add(Dense(256, activation=\"relu\"))\n",
    "\n",
    "model.add(Dense(80, activation=\"sigmoid\"))\n",
    "model.add(Reshape((40, 2)))\n",
    "\n",
    "opt = optimizers[\"adam\"](lr=lr)\n",
    "model.compile(optimizer=opt, loss=\"binary_crossentropy\", metrics=[\"accuracy\"])"
   ]
  },
  {
   "cell_type": "code",
   "execution_count": 676,
   "metadata": {},
   "outputs": [
    {
     "name": "stdout",
     "output_type": "stream",
     "text": [
      "Train on 16000 samples, validate on 4000 samples\n",
      "Epoch 1/40\n",
      " - 38s - loss: 0.6883 - acc: 0.5143 - val_loss: 0.6765 - val_acc: 0.5254\n",
      "Epoch 2/40\n",
      " - 27s - loss: 0.6682 - acc: 0.5288 - val_loss: 0.6629 - val_acc: 0.5340\n",
      "Epoch 3/40\n",
      " - 25s - loss: 0.6548 - acc: 0.5467 - val_loss: 0.6439 - val_acc: 0.5636\n",
      "Epoch 4/40\n",
      " - 25s - loss: 0.6287 - acc: 0.5878 - val_loss: 0.6151 - val_acc: 0.6084\n",
      "Epoch 5/40\n",
      " - 26s - loss: 0.6008 - acc: 0.6259 - val_loss: 0.5898 - val_acc: 0.6402\n",
      "Epoch 6/40\n",
      " - 26s - loss: 0.5766 - acc: 0.6540 - val_loss: 0.5703 - val_acc: 0.6602\n",
      "Epoch 7/40\n",
      " - 25s - loss: 0.5539 - acc: 0.6754 - val_loss: 0.5472 - val_acc: 0.6784\n",
      "Epoch 8/40\n",
      " - 25s - loss: 0.5327 - acc: 0.6942 - val_loss: 0.5244 - val_acc: 0.7015\n",
      "Epoch 9/40\n",
      " - 28s - loss: 0.5131 - acc: 0.7110 - val_loss: 0.5106 - val_acc: 0.7163\n",
      "Epoch 10/40\n",
      " - 30s - loss: 0.4970 - acc: 0.7239 - val_loss: 0.4937 - val_acc: 0.7267\n",
      "Epoch 11/40\n",
      " - 25s - loss: 0.4816 - acc: 0.7361 - val_loss: 0.4801 - val_acc: 0.7378\n",
      "Epoch 12/40\n",
      " - 26s - loss: 0.4668 - acc: 0.7474 - val_loss: 0.4674 - val_acc: 0.7493\n",
      "Epoch 13/40\n",
      " - 27s - loss: 0.4538 - acc: 0.7575 - val_loss: 0.4542 - val_acc: 0.7572\n",
      "Epoch 14/40\n",
      " - 25s - loss: 0.4403 - acc: 0.7663 - val_loss: 0.4429 - val_acc: 0.7644\n",
      "Epoch 15/40\n",
      " - 25s - loss: 0.4279 - acc: 0.7748 - val_loss: 0.4338 - val_acc: 0.7716\n",
      "Epoch 16/40\n",
      " - 26s - loss: 0.4181 - acc: 0.7818 - val_loss: 0.4240 - val_acc: 0.7785\n",
      "Epoch 17/40\n",
      " - 26s - loss: 0.4075 - acc: 0.7892 - val_loss: 0.4145 - val_acc: 0.7840\n",
      "Epoch 18/40\n",
      " - 25s - loss: 0.3972 - acc: 0.7952 - val_loss: 0.4087 - val_acc: 0.7901\n",
      "Epoch 19/40\n",
      " - 26s - loss: 0.3885 - acc: 0.8011 - val_loss: 0.3991 - val_acc: 0.7950\n",
      "Epoch 20/40\n",
      " - 25s - loss: 0.3794 - acc: 0.8066 - val_loss: 0.3901 - val_acc: 0.8009\n",
      "Epoch 21/40\n",
      " - 26s - loss: 0.3695 - acc: 0.8122 - val_loss: 0.3838 - val_acc: 0.8056\n",
      "Epoch 22/40\n",
      " - 25s - loss: 0.3625 - acc: 0.8168 - val_loss: 0.3809 - val_acc: 0.8069\n",
      "Epoch 23/40\n",
      " - 26s - loss: 0.3549 - acc: 0.8211 - val_loss: 0.3672 - val_acc: 0.8147\n",
      "Epoch 24/40\n",
      " - 29s - loss: 0.3466 - acc: 0.8261 - val_loss: 0.3615 - val_acc: 0.8191\n",
      "Epoch 25/40\n",
      " - 26s - loss: 0.3364 - acc: 0.8324 - val_loss: 0.3520 - val_acc: 0.8243\n",
      "Epoch 26/40\n",
      " - 25s - loss: 0.3286 - acc: 0.8366 - val_loss: 0.3467 - val_acc: 0.8278\n",
      "Epoch 27/40\n",
      " - 25s - loss: 0.3225 - acc: 0.8402 - val_loss: 0.3442 - val_acc: 0.8292\n",
      "Epoch 28/40\n",
      " - 25s - loss: 0.3154 - acc: 0.8446 - val_loss: 0.3297 - val_acc: 0.8383\n",
      "Epoch 29/40\n",
      " - 26s - loss: 0.3079 - acc: 0.8487 - val_loss: 0.3244 - val_acc: 0.8405\n",
      "Epoch 30/40\n",
      " - 25s - loss: 0.3005 - acc: 0.8531 - val_loss: 0.3227 - val_acc: 0.8433\n",
      "Epoch 31/40\n",
      " - 25s - loss: 0.2949 - acc: 0.8567 - val_loss: 0.3145 - val_acc: 0.8485\n",
      "Epoch 32/40\n",
      " - 27s - loss: 0.2885 - acc: 0.8598 - val_loss: 0.3090 - val_acc: 0.8513\n",
      "Epoch 33/40\n",
      " - 26s - loss: 0.2821 - acc: 0.8638 - val_loss: 0.3045 - val_acc: 0.8533\n",
      "Epoch 34/40\n",
      " - 25s - loss: 0.2765 - acc: 0.8669 - val_loss: 0.3000 - val_acc: 0.8561\n",
      "Epoch 35/40\n",
      " - 25s - loss: 0.2709 - acc: 0.8700 - val_loss: 0.2987 - val_acc: 0.8581\n",
      "Epoch 36/40\n",
      " - 26s - loss: 0.2664 - acc: 0.8725 - val_loss: 0.3010 - val_acc: 0.8569\n",
      "Epoch 37/40\n",
      " - 25s - loss: 0.2651 - acc: 0.8735 - val_loss: 0.2877 - val_acc: 0.8645\n",
      "Epoch 38/40\n",
      " - 25s - loss: 0.2569 - acc: 0.8784 - val_loss: 0.2856 - val_acc: 0.8656\n",
      "Epoch 39/40\n",
      " - 28s - loss: 0.2508 - acc: 0.8815 - val_loss: 0.2822 - val_acc: 0.8695\n",
      "Epoch 40/40\n",
      " - 31s - loss: 0.2469 - acc: 0.8838 - val_loss: 0.2793 - val_acc: 0.8704\n"
     ]
    }
   ],
   "source": [
    "lstm_k40_elow_history = model.fit(X_train_lstm, y_train, epochs=40, batch_size=256, verbose=2,\n",
    "          shuffle=True, validation_split=0.2)"
   ]
  },
  {
   "cell_type": "code",
   "execution_count": 677,
   "metadata": {},
   "outputs": [
    {
     "data": {
      "text/plain": [
       "0.8724624986648559"
      ]
     },
     "execution_count": 677,
     "metadata": {},
     "output_type": "execute_result"
    }
   ],
   "source": [
    "model_accuracy(model, X_test_lstm, y_test, argmax=False)"
   ]
  },
  {
   "cell_type": "markdown",
   "metadata": {},
   "source": [
    "**Bidirectional LSTM**"
   ]
  },
  {
   "cell_type": "code",
   "execution_count": 667,
   "metadata": {
    "collapsed": true
   },
   "outputs": [],
   "source": [
    "lr = 0.01\n",
    "model = Sequential()\n",
    "\n",
    "model.add(Bidirectional(LSTM(200, activation=\"tanh\", return_sequences=False), input_shape=X_train_lstm.shape[1:]))\n",
    "\n",
    "model.add(Dense(256, activation=\"relu\"))\n",
    "\n",
    "model.add(Dense(80, activation=\"sigmoid\"))\n",
    "model.add(Reshape((40,2)))\n",
    "\n",
    "opt = optimizers[\"adam\"](lr=lr)\n",
    "model.compile(optimizer=opt, loss=\"binary_crossentropy\", metrics=[\"accuracy\"])"
   ]
  },
  {
   "cell_type": "code",
   "execution_count": 668,
   "metadata": {},
   "outputs": [
    {
     "name": "stdout",
     "output_type": "stream",
     "text": [
      "Train on 16000 samples, validate on 4000 samples\n",
      "Epoch 1/30\n",
      " - 57s - loss: 0.6604 - acc: 0.5404 - val_loss: 0.6351 - val_acc: 0.5576\n",
      "Epoch 2/30\n",
      " - 43s - loss: 0.6147 - acc: 0.5772 - val_loss: 0.5978 - val_acc: 0.5914\n",
      "Epoch 3/30\n",
      " - 42s - loss: 0.5795 - acc: 0.6128 - val_loss: 0.5614 - val_acc: 0.6363\n",
      "Epoch 4/30\n",
      " - 44s - loss: 0.5358 - acc: 0.6622 - val_loss: 0.5150 - val_acc: 0.6820\n",
      "Epoch 5/30\n",
      " - 41s - loss: 0.4826 - acc: 0.7109 - val_loss: 0.4639 - val_acc: 0.7263\n",
      "Epoch 6/30\n",
      " - 41s - loss: 0.4341 - acc: 0.7502 - val_loss: 0.4226 - val_acc: 0.7622\n",
      "Epoch 7/30\n",
      " - 43s - loss: 0.3853 - acc: 0.7887 - val_loss: 0.3787 - val_acc: 0.7980\n",
      "Epoch 8/30\n",
      " - 42s - loss: 0.3435 - acc: 0.8201 - val_loss: 0.3373 - val_acc: 0.8274\n",
      "Epoch 9/30\n",
      " - 45s - loss: 0.3077 - acc: 0.8453 - val_loss: 0.3234 - val_acc: 0.8439\n",
      "Epoch 10/30\n",
      " - 43s - loss: 0.2760 - acc: 0.8662 - val_loss: 0.2913 - val_acc: 0.8638\n",
      "Epoch 11/30\n",
      " - 42s - loss: 0.2423 - acc: 0.8858 - val_loss: 0.2627 - val_acc: 0.8752\n",
      "Epoch 12/30\n",
      " - 43s - loss: 0.2182 - acc: 0.9002 - val_loss: 0.2427 - val_acc: 0.8905\n",
      "Epoch 13/30\n",
      " - 41s - loss: 0.1953 - acc: 0.9131 - val_loss: 0.2213 - val_acc: 0.9017\n",
      "Epoch 14/30\n",
      " - 44s - loss: 0.1759 - acc: 0.9231 - val_loss: 0.2133 - val_acc: 0.9107\n",
      "Epoch 15/30\n",
      " - 41s - loss: 0.1584 - acc: 0.9323 - val_loss: 0.1902 - val_acc: 0.9189\n",
      "Epoch 16/30\n",
      " - 43s - loss: 0.1404 - acc: 0.9411 - val_loss: 0.1733 - val_acc: 0.9286\n",
      "Epoch 17/30\n",
      " - 42s - loss: 0.1262 - acc: 0.9479 - val_loss: 0.1788 - val_acc: 0.9280\n",
      "Epoch 18/30\n",
      " - 42s - loss: 0.1258 - acc: 0.9490 - val_loss: 0.1645 - val_acc: 0.9368\n",
      "Epoch 19/30\n",
      " - 44s - loss: 0.0977 - acc: 0.9612 - val_loss: 0.1404 - val_acc: 0.9470\n",
      "Epoch 20/30\n",
      " - 41s - loss: 0.0850 - acc: 0.9669 - val_loss: 0.1285 - val_acc: 0.9520\n",
      "Epoch 21/30\n",
      " - 44s - loss: 0.0754 - acc: 0.9709 - val_loss: 0.1351 - val_acc: 0.9488\n",
      "Epoch 22/30\n",
      " - 51s - loss: 0.0759 - acc: 0.9704 - val_loss: 0.1290 - val_acc: 0.9527\n",
      "Epoch 23/30\n",
      " - 41s - loss: 0.0624 - acc: 0.9764 - val_loss: 0.1262 - val_acc: 0.9585\n",
      "Epoch 24/30\n",
      " - 43s - loss: 0.0536 - acc: 0.9796 - val_loss: 0.1167 - val_acc: 0.9597\n",
      "Epoch 25/30\n",
      " - 43s - loss: 0.0532 - acc: 0.9798 - val_loss: 0.1198 - val_acc: 0.9578\n",
      "Epoch 26/30\n",
      " - 43s - loss: 0.0478 - acc: 0.9820 - val_loss: 0.1168 - val_acc: 0.9609\n",
      "Epoch 27/30\n",
      " - 44s - loss: 0.0385 - acc: 0.9857 - val_loss: 0.1137 - val_acc: 0.9650\n",
      "Epoch 28/30\n",
      " - 41s - loss: 0.0330 - acc: 0.9879 - val_loss: 0.1120 - val_acc: 0.9652\n",
      "Epoch 29/30\n",
      " - 51s - loss: 0.0316 - acc: 0.9883 - val_loss: 0.1179 - val_acc: 0.9637\n",
      "Epoch 30/30\n",
      " - 42s - loss: 0.0305 - acc: 0.9888 - val_loss: 0.1201 - val_acc: 0.9643\n"
     ]
    }
   ],
   "source": [
    "bidir_lstm_k40_elow_history = model.fit(X_train_lstm, y_train, epochs=30, batch_size=512, \n",
    "                                        verbose=2, shuffle=True, validation_split=0.2)"
   ]
  },
  {
   "cell_type": "code",
   "execution_count": 669,
   "metadata": {},
   "outputs": [
    {
     "data": {
      "text/plain": [
       "0.9646125000953675"
      ]
     },
     "execution_count": 669,
     "metadata": {},
     "output_type": "execute_result"
    }
   ],
   "source": [
    "model_accuracy(model, X_test_lstm, y_test, argmax=False)"
   ]
  },
  {
   "cell_type": "markdown",
   "metadata": {},
   "source": [
    "**Plots**"
   ]
  },
  {
   "cell_type": "code",
   "execution_count": 678,
   "metadata": {},
   "outputs": [
    {
     "data": {
      "image/png": "[encoded data removed]",
      "text/plain": [
       "<matplotlib.figure.Figure at 0x1d4480fd0>"
      ]
     },
     "metadata": {},
     "output_type": "display_data"
    }
   ],
   "source": [
    "plt.figure(figsize=(8, 5))\n",
    "plt.title('Training Accuracy of Trellis 3, k=40, e=0.05')\n",
    "\n",
    "plt.axhline(np.log(1 - 0.991822), color=\"green\", xmin=0.05, xmax=0.95, label=\"Viterbi\")\n",
    "\n",
    "plt.plot(np.log(1 - np.array(fnn_k40_elow_history.history['val_acc'])), 'r-', label=\"FNN-[128, 256, 480] val loss\")\n",
    "plt.plot(np.log(1 - np.array(cnn_k40_elow_history.history['val_acc'])), 'c-', label=\"CNN-[Cx4, F, Dx3] val loss\")\n",
    "plt.plot(np.log(1 - np.array(lstm_k40_elow_history.history['val_acc'])), 'm-', label=\"LSTM-[cell=200, lookback=3] val loss\")\n",
    "plt.plot(np.log(1 - np.array(bidir_lstm_k40_elow_history.history['val_acc'])), 'y-', label=\"Bidirectoinal-LSTM val loss\")\n",
    "\n",
    "plt.ylabel('Bitwise Loss (Log Scale)')\n",
    "plt.xlabel('Epoch')\n",
    "\n",
    "plt.legend()\n",
    "plt.show()"
   ]
  },
  {
   "cell_type": "markdown",
   "metadata": {},
   "source": [
    "### k40, e0.15"
   ]
  },
  {
   "cell_type": "code",
   "execution_count": 679,
   "metadata": {
    "collapsed": true
   },
   "outputs": [],
   "source": [
    "train, test, original = build_data_from_path(\"../data/dataset_04/data/dataset_n25000_k40_e0.15.pkl\")\n",
    "X_train, y_train = train\n",
    "X_test, y_test = test\n",
    "X, y, y_oh, y_viterbi_decoded = original"
   ]
  },
  {
   "cell_type": "code",
   "execution_count": 680,
   "metadata": {},
   "outputs": [
    {
     "name": "stdout",
     "output_type": "stream",
     "text": [
      "(20000, 126)\n",
      "(5000, 126)\n",
      "\n",
      "(20000, 40, 2)\n",
      "(5000, 40, 2)\n"
     ]
    }
   ],
   "source": [
    "print(X_train.shape)\n",
    "print(X_test.shape)\n",
    "print()\n",
    "print(y_train.shape)\n",
    "print(y_test.shape)"
   ]
  },
  {
   "cell_type": "markdown",
   "metadata": {},
   "source": [
    "**Viterbi**"
   ]
  },
  {
   "cell_type": "code",
   "execution_count": 682,
   "metadata": {},
   "outputs": [
    {
     "data": {
      "text/plain": [
       "0.90785"
      ]
     },
     "execution_count": 682,
     "metadata": {},
     "output_type": "execute_result"
    }
   ],
   "source": [
    "accuracy(y, y_viterbi_decoded, viterbi=True)"
   ]
  },
  {
   "cell_type": "markdown",
   "metadata": {},
   "source": [
    "**FNN**"
   ]
  },
  {
   "cell_type": "code",
   "execution_count": 713,
   "metadata": {
    "collapsed": true
   },
   "outputs": [],
   "source": [
    "model = Sequential()\n",
    "\n",
    "model.add(Dense(256, activation=\"relu\", input_shape=X_train.shape[1:], \n",
    "                kernel_regularizer=regularizers.l2(0.00001)))\n",
    "model.add(Dense(512, activation=\"relu\", kernel_regularizer=regularizers.l2(0.00001)))\n",
    "model.add(Dense(768, activation=\"relu\", kernel_regularizer=regularizers.l2(0.00001)))\n",
    "\n",
    "model.add(Dense(np.product(y_train.shape[1:]), activation=\"sigmoid\"))\n",
    "model.add(Reshape(y_train.shape[1:]))\n",
    "\n",
    "opt = Adam(lr=0.0001)\n",
    "model.compile(optimizer=opt, loss=\"binary_crossentropy\", metrics=[\"accuracy\"])"
   ]
  },
  {
   "cell_type": "code",
   "execution_count": 714,
   "metadata": {},
   "outputs": [
    {
     "name": "stdout",
     "output_type": "stream",
     "text": [
      "Train on 16000 samples, validate on 4000 samples\n",
      "Epoch 1/30\n",
      " - 19s - loss: 0.7042 - acc: 0.5111 - val_loss: 0.7016 - val_acc: 0.5222\n",
      "Epoch 2/30\n",
      " - 2s - loss: 0.6972 - acc: 0.5323 - val_loss: 0.6927 - val_acc: 0.5308\n",
      "Epoch 3/30\n",
      " - 1s - loss: 0.6841 - acc: 0.5427 - val_loss: 0.6794 - val_acc: 0.5371\n",
      "Epoch 4/30\n",
      " - 1s - loss: 0.6725 - acc: 0.5519 - val_loss: 0.6725 - val_acc: 0.5416\n",
      "Epoch 5/30\n",
      " - 1s - loss: 0.6664 - acc: 0.5589 - val_loss: 0.6689 - val_acc: 0.5447\n",
      "Epoch 6/30\n",
      " - 1s - loss: 0.6629 - acc: 0.5649 - val_loss: 0.6671 - val_acc: 0.5466\n",
      "Epoch 7/30\n",
      " - 2s - loss: 0.6609 - acc: 0.5698 - val_loss: 0.6663 - val_acc: 0.5467\n",
      "Epoch 8/30\n",
      " - 2s - loss: 0.6593 - acc: 0.5742 - val_loss: 0.6655 - val_acc: 0.5490\n",
      "Epoch 9/30\n",
      " - 1s - loss: 0.6578 - acc: 0.5779 - val_loss: 0.6646 - val_acc: 0.5511\n",
      "Epoch 10/30\n",
      " - 2s - loss: 0.6564 - acc: 0.5815 - val_loss: 0.6637 - val_acc: 0.5515\n",
      "Epoch 11/30\n",
      " - 2s - loss: 0.6548 - acc: 0.5850 - val_loss: 0.6629 - val_acc: 0.5540\n",
      "Epoch 12/30\n",
      " - 2s - loss: 0.6532 - acc: 0.5890 - val_loss: 0.6619 - val_acc: 0.5560\n",
      "Epoch 13/30\n",
      " - 2s - loss: 0.6514 - acc: 0.5922 - val_loss: 0.6610 - val_acc: 0.5580\n",
      "Epoch 14/30\n",
      " - 2s - loss: 0.6494 - acc: 0.5958 - val_loss: 0.6592 - val_acc: 0.5608\n",
      "Epoch 15/30\n",
      " - 1s - loss: 0.6472 - acc: 0.5991 - val_loss: 0.6576 - val_acc: 0.5626\n",
      "Epoch 16/30\n",
      " - 1s - loss: 0.6448 - acc: 0.6020 - val_loss: 0.6557 - val_acc: 0.5656\n",
      "Epoch 17/30\n",
      " - 2s - loss: 0.6422 - acc: 0.6050 - val_loss: 0.6538 - val_acc: 0.5660\n",
      "Epoch 18/30\n",
      " - 1s - loss: 0.6396 - acc: 0.6073 - val_loss: 0.6520 - val_acc: 0.5679\n",
      "Epoch 19/30\n",
      " - 1s - loss: 0.6370 - acc: 0.6098 - val_loss: 0.6498 - val_acc: 0.5693\n",
      "Epoch 20/30\n",
      " - 1s - loss: 0.6343 - acc: 0.6128 - val_loss: 0.6482 - val_acc: 0.5703\n",
      "Epoch 21/30\n",
      " - 1s - loss: 0.6318 - acc: 0.6152 - val_loss: 0.6467 - val_acc: 0.5708\n",
      "Epoch 22/30\n",
      " - 1s - loss: 0.6296 - acc: 0.6175 - val_loss: 0.6451 - val_acc: 0.5729\n",
      "Epoch 23/30\n",
      " - 1s - loss: 0.6276 - acc: 0.6190 - val_loss: 0.6437 - val_acc: 0.5734\n",
      "Epoch 24/30\n",
      " - 1s - loss: 0.6256 - acc: 0.6215 - val_loss: 0.6427 - val_acc: 0.5751\n",
      "Epoch 25/30\n",
      " - 2s - loss: 0.6239 - acc: 0.6239 - val_loss: 0.6415 - val_acc: 0.5764\n",
      "Epoch 26/30\n",
      " - 1s - loss: 0.6222 - acc: 0.6265 - val_loss: 0.6407 - val_acc: 0.5769\n",
      "Epoch 27/30\n",
      " - 3s - loss: 0.6207 - acc: 0.6283 - val_loss: 0.6402 - val_acc: 0.5786\n",
      "Epoch 28/30\n",
      " - 2s - loss: 0.6192 - acc: 0.6312 - val_loss: 0.6397 - val_acc: 0.5785\n",
      "Epoch 29/30\n",
      " - 2s - loss: 0.6181 - acc: 0.6328 - val_loss: 0.6390 - val_acc: 0.5801\n",
      "Epoch 30/30\n",
      " - 2s - loss: 0.6165 - acc: 0.6362 - val_loss: 0.6383 - val_acc: 0.5815\n"
     ]
    }
   ],
   "source": [
    "fnn_k40_ehigh_history = model.fit(X_train, y_train, batch_size=256, epochs=30, \n",
    "                                 shuffle=True, verbose=2, validation_split=0.2)"
   ]
  },
  {
   "cell_type": "code",
   "execution_count": 715,
   "metadata": {},
   "outputs": [
    {
     "data": {
      "text/plain": [
       "0.5817474989891053"
      ]
     },
     "execution_count": 715,
     "metadata": {},
     "output_type": "execute_result"
    }
   ],
   "source": [
    "model_accuracy(model, X_test, y_test, argmax=False)"
   ]
  },
  {
   "cell_type": "markdown",
   "metadata": {},
   "source": [
    "**CNN**"
   ]
  },
  {
   "cell_type": "code",
   "execution_count": 731,
   "metadata": {},
   "outputs": [
    {
     "name": "stdout",
     "output_type": "stream",
     "text": [
      "(20000, 126)\n",
      "(5000, 126)\n"
     ]
    }
   ],
   "source": [
    "print(X_train.shape)\n",
    "print(X_test.shape)"
   ]
  },
  {
   "cell_type": "code",
   "execution_count": 732,
   "metadata": {},
   "outputs": [
    {
     "name": "stdout",
     "output_type": "stream",
     "text": [
      "(20000, 6, 21)\n",
      "(5000, 6, 21)\n"
     ]
    }
   ],
   "source": [
    "X_train_cnn = X_train.reshape([-1, 6, 21])\n",
    "X_test_cnn = X_test.reshape([-1, 6, 21])\n",
    "\n",
    "print(X_train_cnn.shape)\n",
    "print(X_test_cnn.shape)"
   ]
  },
  {
   "cell_type": "code",
   "execution_count": 737,
   "metadata": {
    "collapsed": true
   },
   "outputs": [],
   "source": [
    "model = Sequential()\n",
    "\n",
    "model.add(Conv1D(filters=400, kernel_size=3, strides=1, padding=\"same\", \n",
    "                 activation=\"relu\", input_shape=X_train_cnn.shape[1:]))\n",
    "\n",
    "model.add(Conv1D(filters=400, kernel_size=3, strides=1, padding=\"same\", activation=\"relu\"))\n",
    "\n",
    "model.add(Conv1D(filters=400, kernel_size=3, strides=1, padding=\"same\", activation=\"relu\"))\n",
    "model.add(Conv1D(filters=400, kernel_size=3, strides=1, padding=\"same\", activation=\"relu\"))\n",
    "\n",
    "# no dropout seems to do well\n",
    "\n",
    "model.add(Flatten())\n",
    "\n",
    "model.add(Dense(1024, activation=\"relu\"))\n",
    "model.add(Dense(512, activation=\"relu\"))\n",
    "\n",
    "model.add(Dense(np.product(y_train.shape[1:]), activation=\"sigmoid\"))\n",
    "model.add(Reshape(y_train.shape[1:]))\n",
    "\n",
    "opt = Adam(lr=0.0001)\n",
    "model.compile(optimizer=opt, loss=\"binary_crossentropy\", metrics=[\"accuracy\"])"
   ]
  },
  {
   "cell_type": "code",
   "execution_count": 738,
   "metadata": {},
   "outputs": [
    {
     "name": "stdout",
     "output_type": "stream",
     "text": [
      "Train on 16000 samples, validate on 4000 samples\n",
      "Epoch 1/30\n",
      " - 50s - loss: 0.6914 - acc: 0.5166 - val_loss: 0.6841 - val_acc: 0.5239\n",
      "Epoch 2/30\n",
      " - 38s - loss: 0.6700 - acc: 0.5387 - val_loss: 0.6635 - val_acc: 0.5418\n",
      "Epoch 3/30\n",
      " - 44s - loss: 0.6562 - acc: 0.5533 - val_loss: 0.6561 - val_acc: 0.5495\n",
      "Epoch 4/30\n"
     ]
    },
    {
     "ename": "KeyboardInterrupt",
     "evalue": "",
     "output_type": "error",
     "traceback": [
      "\u001b[0;31m---------------------------------------------------------------------------\u001b[0m",
      "\u001b[0;31mKeyboardInterrupt\u001b[0m                         Traceback (most recent call last)",
      "\u001b[0;32m<ipython-input-738-e14e11dab669>\u001b[0m in \u001b[0;36m<module>\u001b[0;34m()\u001b[0m\n\u001b[1;32m      1\u001b[0m cnn_k40_ehigh_history = model.fit(X_train_cnn, y_train, batch_size=256, epochs=30, \n\u001b[0;32m----> 2\u001b[0;31m                                  shuffle=True, verbose=2, validation_split=0.2)\n\u001b[0m",
      "\u001b[0;32m/Users/michael-tu/anaconda/lib/python3.6/site-packages/keras/models.py\u001b[0m in \u001b[0;36mfit\u001b[0;34m(self, x, y, batch_size, epochs, verbose, callbacks, validation_split, validation_data, shuffle, class_weight, sample_weight, initial_epoch, steps_per_epoch, validation_steps, **kwargs)\u001b[0m\n\u001b[1;32m    963\u001b[0m                               \u001b[0minitial_epoch\u001b[0m\u001b[0;34m=\u001b[0m\u001b[0minitial_epoch\u001b[0m\u001b[0;34m,\u001b[0m\u001b[0;34m\u001b[0m\u001b[0m\n\u001b[1;32m    964\u001b[0m                               \u001b[0msteps_per_epoch\u001b[0m\u001b[0;34m=\u001b[0m\u001b[0msteps_per_epoch\u001b[0m\u001b[0;34m,\u001b[0m\u001b[0;34m\u001b[0m\u001b[0m\n\u001b[0;32m--> 965\u001b[0;31m                               validation_steps=validation_steps)\n\u001b[0m\u001b[1;32m    966\u001b[0m \u001b[0;34m\u001b[0m\u001b[0m\n\u001b[1;32m    967\u001b[0m     def evaluate(self, x=None, y=None,\n",
      "\u001b[0;32m/Users/michael-tu/anaconda/lib/python3.6/site-packages/keras/engine/training.py\u001b[0m in \u001b[0;36mfit\u001b[0;34m(self, x, y, batch_size, epochs, verbose, callbacks, validation_split, validation_data, shuffle, class_weight, sample_weight, initial_epoch, steps_per_epoch, validation_steps, **kwargs)\u001b[0m\n\u001b[1;32m   1667\u001b[0m                               \u001b[0minitial_epoch\u001b[0m\u001b[0;34m=\u001b[0m\u001b[0minitial_epoch\u001b[0m\u001b[0;34m,\u001b[0m\u001b[0;34m\u001b[0m\u001b[0m\n\u001b[1;32m   1668\u001b[0m                               \u001b[0msteps_per_epoch\u001b[0m\u001b[0;34m=\u001b[0m\u001b[0msteps_per_epoch\u001b[0m\u001b[0;34m,\u001b[0m\u001b[0;34m\u001b[0m\u001b[0m\n\u001b[0;32m-> 1669\u001b[0;31m                               validation_steps=validation_steps)\n\u001b[0m\u001b[1;32m   1670\u001b[0m \u001b[0;34m\u001b[0m\u001b[0m\n\u001b[1;32m   1671\u001b[0m     def evaluate(self, x=None, y=None,\n",
      "\u001b[0;32m/Users/michael-tu/anaconda/lib/python3.6/site-packages/keras/engine/training.py\u001b[0m in \u001b[0;36m_fit_loop\u001b[0;34m(self, f, ins, out_labels, batch_size, epochs, verbose, callbacks, val_f, val_ins, shuffle, callback_metrics, initial_epoch, steps_per_epoch, validation_steps)\u001b[0m\n\u001b[1;32m   1204\u001b[0m                         \u001b[0mins_batch\u001b[0m\u001b[0;34m[\u001b[0m\u001b[0mi\u001b[0m\u001b[0;34m]\u001b[0m \u001b[0;34m=\u001b[0m \u001b[0mins_batch\u001b[0m\u001b[0;34m[\u001b[0m\u001b[0mi\u001b[0m\u001b[0;34m]\u001b[0m\u001b[0;34m.\u001b[0m\u001b[0mtoarray\u001b[0m\u001b[0;34m(\u001b[0m\u001b[0;34m)\u001b[0m\u001b[0;34m\u001b[0m\u001b[0m\n\u001b[1;32m   1205\u001b[0m \u001b[0;34m\u001b[0m\u001b[0m\n\u001b[0;32m-> 1206\u001b[0;31m                     \u001b[0mouts\u001b[0m \u001b[0;34m=\u001b[0m \u001b[0mf\u001b[0m\u001b[0;34m(\u001b[0m\u001b[0mins_batch\u001b[0m\u001b[0;34m)\u001b[0m\u001b[0;34m\u001b[0m\u001b[0m\n\u001b[0m\u001b[1;32m   1207\u001b[0m                     \u001b[0;32mif\u001b[0m \u001b[0;32mnot\u001b[0m \u001b[0misinstance\u001b[0m\u001b[0;34m(\u001b[0m\u001b[0mouts\u001b[0m\u001b[0;34m,\u001b[0m \u001b[0mlist\u001b[0m\u001b[0;34m)\u001b[0m\u001b[0;34m:\u001b[0m\u001b[0;34m\u001b[0m\u001b[0m\n\u001b[1;32m   1208\u001b[0m                         \u001b[0mouts\u001b[0m \u001b[0;34m=\u001b[0m \u001b[0;34m[\u001b[0m\u001b[0mouts\u001b[0m\u001b[0;34m]\u001b[0m\u001b[0;34m\u001b[0m\u001b[0m\n",
      "\u001b[0;32m/Users/michael-tu/anaconda/lib/python3.6/site-packages/keras/backend/tensorflow_backend.py\u001b[0m in \u001b[0;36m__call__\u001b[0;34m(self, inputs)\u001b[0m\n\u001b[1;32m   2473\u001b[0m         \u001b[0msession\u001b[0m \u001b[0;34m=\u001b[0m \u001b[0mget_session\u001b[0m\u001b[0;34m(\u001b[0m\u001b[0;34m)\u001b[0m\u001b[0;34m\u001b[0m\u001b[0m\n\u001b[1;32m   2474\u001b[0m         updated = session.run(fetches=fetches, feed_dict=feed_dict,\n\u001b[0;32m-> 2475\u001b[0;31m                               **self.session_kwargs)\n\u001b[0m\u001b[1;32m   2476\u001b[0m         \u001b[0;32mreturn\u001b[0m \u001b[0mupdated\u001b[0m\u001b[0;34m[\u001b[0m\u001b[0;34m:\u001b[0m\u001b[0mlen\u001b[0m\u001b[0;34m(\u001b[0m\u001b[0mself\u001b[0m\u001b[0;34m.\u001b[0m\u001b[0moutputs\u001b[0m\u001b[0;34m)\u001b[0m\u001b[0;34m]\u001b[0m\u001b[0;34m\u001b[0m\u001b[0m\n\u001b[1;32m   2477\u001b[0m \u001b[0;34m\u001b[0m\u001b[0m\n",
      "\u001b[0;32m/Users/michael-tu/anaconda/lib/python3.6/site-packages/tensorflow/python/client/session.py\u001b[0m in \u001b[0;36mrun\u001b[0;34m(self, fetches, feed_dict, options, run_metadata)\u001b[0m\n\u001b[1;32m    887\u001b[0m     \u001b[0;32mtry\u001b[0m\u001b[0;34m:\u001b[0m\u001b[0;34m\u001b[0m\u001b[0m\n\u001b[1;32m    888\u001b[0m       result = self._run(None, fetches, feed_dict, options_ptr,\n\u001b[0;32m--> 889\u001b[0;31m                          run_metadata_ptr)\n\u001b[0m\u001b[1;32m    890\u001b[0m       \u001b[0;32mif\u001b[0m \u001b[0mrun_metadata\u001b[0m\u001b[0;34m:\u001b[0m\u001b[0;34m\u001b[0m\u001b[0m\n\u001b[1;32m    891\u001b[0m         \u001b[0mproto_data\u001b[0m \u001b[0;34m=\u001b[0m \u001b[0mtf_session\u001b[0m\u001b[0;34m.\u001b[0m\u001b[0mTF_GetBuffer\u001b[0m\u001b[0;34m(\u001b[0m\u001b[0mrun_metadata_ptr\u001b[0m\u001b[0;34m)\u001b[0m\u001b[0;34m\u001b[0m\u001b[0m\n",
      "\u001b[0;32m/Users/michael-tu/anaconda/lib/python3.6/site-packages/tensorflow/python/client/session.py\u001b[0m in \u001b[0;36m_run\u001b[0;34m(self, handle, fetches, feed_dict, options, run_metadata)\u001b[0m\n\u001b[1;32m   1118\u001b[0m     \u001b[0;32mif\u001b[0m \u001b[0mfinal_fetches\u001b[0m \u001b[0;32mor\u001b[0m \u001b[0mfinal_targets\u001b[0m \u001b[0;32mor\u001b[0m \u001b[0;34m(\u001b[0m\u001b[0mhandle\u001b[0m \u001b[0;32mand\u001b[0m \u001b[0mfeed_dict_tensor\u001b[0m\u001b[0;34m)\u001b[0m\u001b[0;34m:\u001b[0m\u001b[0;34m\u001b[0m\u001b[0m\n\u001b[1;32m   1119\u001b[0m       results = self._do_run(handle, final_targets, final_fetches,\n\u001b[0;32m-> 1120\u001b[0;31m                              feed_dict_tensor, options, run_metadata)\n\u001b[0m\u001b[1;32m   1121\u001b[0m     \u001b[0;32melse\u001b[0m\u001b[0;34m:\u001b[0m\u001b[0;34m\u001b[0m\u001b[0m\n\u001b[1;32m   1122\u001b[0m       \u001b[0mresults\u001b[0m \u001b[0;34m=\u001b[0m \u001b[0;34m[\u001b[0m\u001b[0;34m]\u001b[0m\u001b[0;34m\u001b[0m\u001b[0m\n",
      "\u001b[0;32m/Users/michael-tu/anaconda/lib/python3.6/site-packages/tensorflow/python/client/session.py\u001b[0m in \u001b[0;36m_do_run\u001b[0;34m(self, handle, target_list, fetch_list, feed_dict, options, run_metadata)\u001b[0m\n\u001b[1;32m   1315\u001b[0m     \u001b[0;32mif\u001b[0m \u001b[0mhandle\u001b[0m \u001b[0;32mis\u001b[0m \u001b[0;32mNone\u001b[0m\u001b[0;34m:\u001b[0m\u001b[0;34m\u001b[0m\u001b[0m\n\u001b[1;32m   1316\u001b[0m       return self._do_call(_run_fn, self._session, feeds, fetches, targets,\n\u001b[0;32m-> 1317\u001b[0;31m                            options, run_metadata)\n\u001b[0m\u001b[1;32m   1318\u001b[0m     \u001b[0;32melse\u001b[0m\u001b[0;34m:\u001b[0m\u001b[0;34m\u001b[0m\u001b[0m\n\u001b[1;32m   1319\u001b[0m       \u001b[0;32mreturn\u001b[0m \u001b[0mself\u001b[0m\u001b[0;34m.\u001b[0m\u001b[0m_do_call\u001b[0m\u001b[0;34m(\u001b[0m\u001b[0m_prun_fn\u001b[0m\u001b[0;34m,\u001b[0m \u001b[0mself\u001b[0m\u001b[0;34m.\u001b[0m\u001b[0m_session\u001b[0m\u001b[0;34m,\u001b[0m \u001b[0mhandle\u001b[0m\u001b[0;34m,\u001b[0m \u001b[0mfeeds\u001b[0m\u001b[0;34m,\u001b[0m \u001b[0mfetches\u001b[0m\u001b[0;34m)\u001b[0m\u001b[0;34m\u001b[0m\u001b[0m\n",
      "\u001b[0;32m/Users/michael-tu/anaconda/lib/python3.6/site-packages/tensorflow/python/client/session.py\u001b[0m in \u001b[0;36m_do_call\u001b[0;34m(self, fn, *args)\u001b[0m\n\u001b[1;32m   1321\u001b[0m   \u001b[0;32mdef\u001b[0m \u001b[0m_do_call\u001b[0m\u001b[0;34m(\u001b[0m\u001b[0mself\u001b[0m\u001b[0;34m,\u001b[0m \u001b[0mfn\u001b[0m\u001b[0;34m,\u001b[0m \u001b[0;34m*\u001b[0m\u001b[0margs\u001b[0m\u001b[0;34m)\u001b[0m\u001b[0;34m:\u001b[0m\u001b[0;34m\u001b[0m\u001b[0m\n\u001b[1;32m   1322\u001b[0m     \u001b[0;32mtry\u001b[0m\u001b[0;34m:\u001b[0m\u001b[0;34m\u001b[0m\u001b[0m\n\u001b[0;32m-> 1323\u001b[0;31m       \u001b[0;32mreturn\u001b[0m \u001b[0mfn\u001b[0m\u001b[0;34m(\u001b[0m\u001b[0;34m*\u001b[0m\u001b[0margs\u001b[0m\u001b[0;34m)\u001b[0m\u001b[0;34m\u001b[0m\u001b[0m\n\u001b[0m\u001b[1;32m   1324\u001b[0m     \u001b[0;32mexcept\u001b[0m \u001b[0merrors\u001b[0m\u001b[0;34m.\u001b[0m\u001b[0mOpError\u001b[0m \u001b[0;32mas\u001b[0m \u001b[0me\u001b[0m\u001b[0;34m:\u001b[0m\u001b[0;34m\u001b[0m\u001b[0m\n\u001b[1;32m   1325\u001b[0m       \u001b[0mmessage\u001b[0m \u001b[0;34m=\u001b[0m \u001b[0mcompat\u001b[0m\u001b[0;34m.\u001b[0m\u001b[0mas_text\u001b[0m\u001b[0;34m(\u001b[0m\u001b[0me\u001b[0m\u001b[0;34m.\u001b[0m\u001b[0mmessage\u001b[0m\u001b[0;34m)\u001b[0m\u001b[0;34m\u001b[0m\u001b[0m\n",
      "\u001b[0;32m/Users/michael-tu/anaconda/lib/python3.6/site-packages/tensorflow/python/client/session.py\u001b[0m in \u001b[0;36m_run_fn\u001b[0;34m(session, feed_dict, fetch_list, target_list, options, run_metadata)\u001b[0m\n\u001b[1;32m   1300\u001b[0m           return tf_session.TF_Run(session, options,\n\u001b[1;32m   1301\u001b[0m                                    \u001b[0mfeed_dict\u001b[0m\u001b[0;34m,\u001b[0m \u001b[0mfetch_list\u001b[0m\u001b[0;34m,\u001b[0m \u001b[0mtarget_list\u001b[0m\u001b[0;34m,\u001b[0m\u001b[0;34m\u001b[0m\u001b[0m\n\u001b[0;32m-> 1302\u001b[0;31m                                    status, run_metadata)\n\u001b[0m\u001b[1;32m   1303\u001b[0m \u001b[0;34m\u001b[0m\u001b[0m\n\u001b[1;32m   1304\u001b[0m     \u001b[0;32mdef\u001b[0m \u001b[0m_prun_fn\u001b[0m\u001b[0;34m(\u001b[0m\u001b[0msession\u001b[0m\u001b[0;34m,\u001b[0m \u001b[0mhandle\u001b[0m\u001b[0;34m,\u001b[0m \u001b[0mfeed_dict\u001b[0m\u001b[0;34m,\u001b[0m \u001b[0mfetch_list\u001b[0m\u001b[0;34m)\u001b[0m\u001b[0;34m:\u001b[0m\u001b[0;34m\u001b[0m\u001b[0m\n",
      "\u001b[0;31mKeyboardInterrupt\u001b[0m: "
     ]
    }
   ],
   "source": [
    "cnn_k40_ehigh_history = model.fit(X_train_cnn, y_train, batch_size=256, epochs=30, \n",
    "                                 shuffle=True, verbose=2, validation_split=0.2)"
   ]
  },
  {
   "cell_type": "code",
   "execution_count": null,
   "metadata": {},
   "outputs": [],
   "source": [
    "model_accuracy(model, X_test_cnn, y_test, argmax=False)"
   ]
  },
  {
   "cell_type": "markdown",
   "metadata": {},
   "source": [
    "**LSTM**"
   ]
  },
  {
   "cell_type": "code",
   "execution_count": null,
   "metadata": {
    "collapsed": true
   },
   "outputs": [],
   "source": [
    "X_train_lstm = prepare_data_for_lstm(X_train)\n",
    "X_test_lstm = prepare_data_for_lstm(X_test)"
   ]
  },
  {
   "cell_type": "code",
   "execution_count": null,
   "metadata": {
    "collapsed": true
   },
   "outputs": [],
   "source": [
    "print(X_train_lstm.shape)\n",
    "print(X_test_lstm.shape)"
   ]
  },
  {
   "cell_type": "code",
   "execution_count": null,
   "metadata": {
    "collapsed": true
   },
   "outputs": [],
   "source": [
    "lr = 0.001\n",
    "model = Sequential()\n",
    "\n",
    "model.add(LSTM(200, activation=\"tanh\", input_shape=(81, 3), return_sequences=False))\n",
    "\n",
    "model.add(Dense(256, activation=\"relu\"))\n",
    "\n",
    "model.add(Dense(80, activation=\"sigmoid\"))\n",
    "model.add(Reshape((40, 2)))\n",
    "\n",
    "opt = optimizers[\"adam\"](lr=lr)\n",
    "model.compile(optimizer=opt, loss=\"binary_crossentropy\", metrics=[\"accuracy\"])"
   ]
  },
  {
   "cell_type": "code",
   "execution_count": null,
   "metadata": {
    "collapsed": true
   },
   "outputs": [],
   "source": [
    "lstm_k40_ehigh_history = model.fit(X_train_lstm, y_train, epochs=30, batch_size=256, verbose=2,\n",
    "          shuffle=True, validation_split=0.2)"
   ]
  },
  {
   "cell_type": "code",
   "execution_count": null,
   "metadata": {
    "collapsed": true
   },
   "outputs": [],
   "source": [
    "model_accuracy(model, X_test_lstm, y_test, argmax=False)"
   ]
  },
  {
   "cell_type": "markdown",
   "metadata": {},
   "source": [
    "**Bidirectional LSTM**"
   ]
  },
  {
   "cell_type": "code",
   "execution_count": null,
   "metadata": {
    "collapsed": true
   },
   "outputs": [],
   "source": [
    "lr = 0.01\n",
    "model = Sequential()\n",
    "\n",
    "model.add(Bidirectional(LSTM(200, activation=\"tanh\", return_sequences=False), input_shape=X_train_lstm.shape[1:]))\n",
    "\n",
    "model.add(Dense(256, activation=\"relu\"))\n",
    "\n",
    "model.add(Dense(80, activation=\"sigmoid\"))\n",
    "model.add(Reshape((40,2)))\n",
    "\n",
    "opt = optimizers[\"adam\"](lr=lr)\n",
    "model.compile(optimizer=opt, loss=\"binary_crossentropy\", metrics=[\"accuracy\"])"
   ]
  },
  {
   "cell_type": "code",
   "execution_count": null,
   "metadata": {
    "collapsed": true
   },
   "outputs": [],
   "source": [
    "bidir_lstm_k40_ehigh_history = model.fit(X_train_lstm, y_train, epochs=30, batch_size=512, \n",
    "                                        verbose=2, shuffle=True, validation_split=0.2)"
   ]
  },
  {
   "cell_type": "code",
   "execution_count": null,
   "metadata": {
    "collapsed": true
   },
   "outputs": [],
   "source": [
    "model_accuracy(model, X_test_lstm, y_test, argmax=False)"
   ]
  },
  {
   "cell_type": "markdown",
   "metadata": {},
   "source": [
    "**Plots**"
   ]
  },
  {
   "cell_type": "code",
   "execution_count": null,
   "metadata": {
    "collapsed": true
   },
   "outputs": [],
   "source": [
    "plt.figure(figsize=(8, 5))\n",
    "plt.title('Training Accuracy of Trellis 3, k=40, e=0.15')\n",
    "\n",
    "plt.axhline(np.log(1 - 0.90785), color=\"green\", xmin=0.05, xmax=0.95, label=\"Viterbi\")\n",
    "\n",
    "plt.plot(np.log(1 - np.array(fnn_k40_ehigh_history.history['val_acc'])), 'r-', label=\"FNN-[128, 256, 480] val loss\")\n",
    "plt.plot(np.log(1 - np.array(cnn_k40_ehigh_history.history['val_acc'])), 'c-', label=\"CNN-[Cx4, F, Dx3] val loss\")\n",
    "plt.plot(np.log(1 - np.array(lstm_k40_ehigh_history.history['val_acc'])), 'm-', label=\"LSTM-[cell=200, lookback=3] val loss\")\n",
    "plt.plot(np.log(1 - np.array(bidir_lstm_k40_ehigh_history.history['val_acc'])), 'y-', label=\"Bidirectoinal-LSTM val loss\")\n",
    "\n",
    "plt.ylabel('Bitwise Loss (Log Scale)')\n",
    "plt.xlabel('Epoch')\n",
    "\n",
    "plt.legend()\n",
    "plt.show()"
   ]
  }
 ],
 "metadata": {
  "kernelspec": {
   "display_name": "Python 3",
   "language": "python",
   "name": "python3"
  },
  "language_info": {
   "codemirror_mode": {
    "name": "ipython",
    "version": 3
   },
   "file_extension": ".py",
   "mimetype": "text/x-python",
   "name": "python",
   "nbconvert_exporter": "python",
   "pygments_lexer": "ipython3",
   "version": "3.6.4"
  }
 },
 "nbformat": 4,
 "nbformat_minor": 2
}
