{
 "cells": [
  {
   "cell_type": "code",
   "execution_count": 1,
   "metadata": {},
   "outputs": [],
   "source": [
    "import numpy as np\n",
    "import tensorflow as tf\n",
    "import os\n",
    "import matplotlib.pyplot as plt\n",
    "%matplotlib inline\n",
    "import pickle\n",
    "from functools import reduce"
   ]
  },
  {
   "cell_type": "code",
   "execution_count": 31,
   "metadata": {},
   "outputs": [],
   "source": [
    "import keras\n",
    "from keras import regularizers\n",
    "from keras import backend as K\n",
    "from keras.optimizers import Adam\n",
    "from keras.models import Model, Sequential\n",
    "from keras.layers import Dense, Input, Activation, Dropout, BatchNormalization, Flatten, Reshape\n",
    "from keras.layers import Conv2D, MaxPooling2D, AveragePooling2D, UpSampling2D\n",
    "from keras.layers import Conv1D, MaxPooling1D, AveragePooling1D, UpSampling1D\n",
    "from keras.layers import SimpleRNN, RNN, LSTM, Embedding\n",
    "from keras.optimizers import Adam, SGD"
   ]
  },
  {
   "cell_type": "markdown",
   "metadata": {},
   "source": [
    "# Utility Functions"
   ]
  },
  {
   "cell_type": "code",
   "execution_count": 3,
   "metadata": {},
   "outputs": [],
   "source": [
    "def load_pkl(path):\n",
    "    return pickle.load(open(path, \"rb\"))"
   ]
  },
  {
   "cell_type": "code",
   "execution_count": 4,
   "metadata": {},
   "outputs": [],
   "source": [
    "def load_data(data):\n",
    "    keys = ['message_seqs', 'encoded_seqs', 'noisy_seqs', 'viterbi_decoded_seqs']\n",
    "    x = data[keys[2]] # noisy sequences will be our input to our models\n",
    "    y = data[keys[0]]\n",
    "    y_viterbi_decoded = data[keys[3]]\n",
    "    \n",
    "    x = np.array(x)\n",
    "    y = np.array(y)\n",
    "    y_viterbi_decoded = np.array(y_viterbi_decoded)\n",
    "    \n",
    "    return x, y, y_viterbi_decoded"
   ]
  },
  {
   "cell_type": "code",
   "execution_count": 5,
   "metadata": {},
   "outputs": [],
   "source": [
    "def load(path):\n",
    "    return load_data(load_pkl(path))"
   ]
  },
  {
   "cell_type": "code",
   "execution_count": 6,
   "metadata": {},
   "outputs": [],
   "source": [
    "def load_pkl_paths_from_folder(dir_path, recursive=False):\n",
    "    if recursive:\n",
    "        return np.sort(list(filter(lambda x: \".pkl\" in x,\n",
    "                            [os.path.join(dp, f) for dp, dn, fn in os.walk(os.path.expanduser(dir_path)) \n",
    "                                                 for f in fn])))\n",
    "    else:\n",
    "        return np.sort([dir_path + \"/\" + x for x in os.listdir(dir_path) if \".pkl\" in x ])"
   ]
  },
  {
   "cell_type": "code",
   "execution_count": 7,
   "metadata": {},
   "outputs": [],
   "source": [
    "def get_param_from_filename(filename, param):\n",
    "    split_token = \"_\"\n",
    "    if param == \"k\":\n",
    "        split_token = \"_k\"\n",
    "    elif param == \"p\":\n",
    "        split_token = \"_p\"\n",
    "    elif param == \"r\":\n",
    "        split_token = \"_r\"\n",
    "    elif param == \"l\":\n",
    "        split_token = \"_l\"\n",
    "    elif param == \"e\":\n",
    "        split_token = \"_e\"\n",
    "    elif param == \"n\":\n",
    "        split_token = \"_n\"\n",
    "    else:\n",
    "        raise ValueError(\"unrecognized parameter\", param)\n",
    "        \n",
    "    res = filename.split(\"/\")[-1].split(split_token)[1].split(\"_\")[0]\n",
    "    if \".pkl\" in res:\n",
    "        res = res.split(\".pkl\")[0]\n",
    "    \n",
    "    return float(res)"
   ]
  },
  {
   "cell_type": "markdown",
   "metadata": {},
   "source": [
    "# Data Processing"
   ]
  },
  {
   "cell_type": "code",
   "execution_count": 8,
   "metadata": {},
   "outputs": [],
   "source": [
    "def train_test_split(x, y, test_ratio=0.2):\n",
    "    indicies = np.arange(len(x))\n",
    "    np.random.shuffle(indicies)\n",
    "    \n",
    "    split_inx = int(len(x) * (1-test_ratio))\n",
    "    X_train, X_test = x[indicies[:split_inx]], x[indicies[split_inx:]]\n",
    "    y_train, y_test = y[indicies[:split_inx]], y[indicies[split_inx:]]\n",
    "    \n",
    "    return X_train, X_test, y_train, y_test"
   ]
  },
  {
   "cell_type": "code",
   "execution_count": 9,
   "metadata": {},
   "outputs": [],
   "source": [
    "def group_sort(benchmark, *args):\n",
    "    sorted_indicies = np.argsort(benchmark) \n",
    "    \n",
    "    benchmark = np.array(benchmark)\n",
    "    args = list(map(lambda x: np.array(x), args))\n",
    "    \n",
    "    benchmark_sorted = benchmark[sorted_indicies]\n",
    "    args_sorted = list(map(lambda x: x[sorted_indicies], args))\n",
    "    \n",
    "    return benchmark_sorted, args_sorted"
   ]
  },
  {
   "cell_type": "code",
   "execution_count": 10,
   "metadata": {},
   "outputs": [],
   "source": [
    "def one_hot(data):\n",
    "    res = []\n",
    "    for d in data:\n",
    "        res.append([0,0])\n",
    "        res[-1][int(d)] = 1\n",
    "    return np.array(res)\n",
    "\n",
    "def one_hot_datasets(y):\n",
    "    return np.array(list(map(lambda x: one_hot(x), y)))\n",
    "\n",
    "def onehot_to_normal(dataset):\n",
    "    return np.argmax(dataset, axis=2)"
   ]
  },
  {
   "cell_type": "code",
   "execution_count": 11,
   "metadata": {},
   "outputs": [],
   "source": [
    "variable_desc = {\n",
    "    \"k\": \"message length (K-bit)\",\n",
    "    \"p\": \"prob P of Bernoulli distribution\",\n",
    "    \"e\": \"corruption probability E\",\n",
    "    \"l\": \"constraint length L\"\n",
    "}"
   ]
  },
  {
   "cell_type": "code",
   "execution_count": 12,
   "metadata": {},
   "outputs": [],
   "source": [
    "def build_data_from_path(path, test_ratio=0.2, X_reshape=None):\n",
    "    X, y, y_viterbi_decoded = load(path)\n",
    "    y_oh = one_hot_datasets(y)\n",
    "    \n",
    "    if X_reshape:\n",
    "        X = X.reshape(X_reshape)\n",
    "    \n",
    "    X_train, X_test, y_train, y_test = train_test_split(X, y_oh, test_ratio=test_ratio)\n",
    "    \n",
    "    return (X_train, y_train), (X_test, y_test), (X, y, y_oh, y_viterbi_decoded)"
   ]
  },
  {
   "cell_type": "code",
   "execution_count": 28,
   "metadata": {},
   "outputs": [],
   "source": [
    "def build_data_from_path(path, test_ratio=0.2, X_reshape=None):\n",
    "    X, y, y_viterbi_decoded = load(path)\n",
    "    y_oh = one_hot_datasets(y)\n",
    "    \n",
    "    if X_reshape:\n",
    "        total_shape = np.product(X_reshape[1:])\n",
    "        if total_shape != X.shape[1]:\n",
    "            X = X[:,:total_shape]\n",
    "        X = X.reshape(X_reshape)\n",
    "    \n",
    "    X_train, X_test, y_train, y_test = train_test_split(X, y_oh, test_ratio=test_ratio)\n",
    "    \n",
    "    return (X_train, y_train), (X_test, y_test), (X, y, y_oh, y_viterbi_decoded)"
   ]
  },
  {
   "cell_type": "markdown",
   "metadata": {},
   "source": [
    "# Model Definitions"
   ]
  },
  {
   "cell_type": "markdown",
   "metadata": {},
   "source": [
    "Optimizers"
   ]
  },
  {
   "cell_type": "code",
   "execution_count": 14,
   "metadata": {},
   "outputs": [],
   "source": [
    "optimizers = {\n",
    "    \"adam\": Adam, \n",
    "    \"sgd\":  SGD\n",
    "}"
   ]
  },
  {
   "cell_type": "markdown",
   "metadata": {},
   "source": [
    "Fully Connected Neural Net"
   ]
  },
  {
   "cell_type": "code",
   "execution_count": 15,
   "metadata": {},
   "outputs": [],
   "source": [
    "default_fnn_param = {\n",
    "    \"batch_size\": 64,\n",
    "    \"epoch\": 25,\n",
    "    \"verbose\": 2,\n",
    "    \"validation_ratio\": 0.2,\n",
    "    \"activation\": \"relu\",\n",
    "    \"l2_strength\": 0.01,\n",
    "    \"learing_rate\": 0.015,\n",
    "    \"optimizer\": \"adam\",\n",
    "    \"metrics\": [\"accuracy\"],\n",
    "    \"loss_fn\": \"binary_crossentropy\"\n",
    "}"
   ]
  },
  {
   "cell_type": "code",
   "execution_count": 16,
   "metadata": {},
   "outputs": [],
   "source": [
    "default_fnn_architecture = [32,64,100]"
   ]
  },
  {
   "cell_type": "markdown",
   "metadata": {},
   "source": [
    "Convolution 1D Nerual Net"
   ]
  },
  {
   "cell_type": "code",
   "execution_count": 17,
   "metadata": {},
   "outputs": [],
   "source": [
    "default_cnn_param = {\n",
    "    \"batch_size\": 64,\n",
    "    \"epoch\": 25,\n",
    "    \"verbose\": 2,\n",
    "    \"validation_ratio\": 0.2,\n",
    "    \"activation\": \"relu\",\n",
    "    \"dropout_keep_prob\": 0.5,\n",
    "    \"learing_rate\": 0.01,\n",
    "    \"optimizer\": \"adam\",\n",
    "    \"conv_padding\": \"same\",\n",
    "    \"metrics\": [\"accuracy\"],\n",
    "    \"loss_fn\": \"binary_crossentropy\"\n",
    "}"
   ]
  },
  {
   "cell_type": "markdown",
   "metadata": {},
   "source": [
    "Avaliable Layers:\n",
    "\n",
    "Dense, Input, Activation, Dropout, BatchNormalization, Flatten, Reshape\n",
    "Conv2D, MaxPooling2D, AveragePooling2D, UpSampling2D\n",
    "Conv1D, MaxPooling1D, AveragePooling1D, UpSampling1D"
   ]
  },
  {
   "cell_type": "code",
   "execution_count": 18,
   "metadata": {},
   "outputs": [],
   "source": [
    "default_cnn_architecture = [\n",
    "    (\"conv1d\", dict(f=16,k=3,s=1)),\n",
    "    (\"conv1d\", dict(f=16,k=3,s=1)),\n",
    "    (\"conv1d\", dict(f=16,k=3,s=1)),\n",
    "    (\"conv1d\", dict(f=16,k=3,s=1)),\n",
    "    (\"flatten\"),\n",
    "    (\"dense\", 200),\n",
    "    (\"dropout\")\n",
    "]"
   ]
  },
  {
   "cell_type": "markdown",
   "metadata": {},
   "source": [
    "# Model Construction"
   ]
  },
  {
   "cell_type": "code",
   "execution_count": 19,
   "metadata": {},
   "outputs": [],
   "source": [
    "def build_fnn(input_shape, \n",
    "              output_shape, \n",
    "              architecture=default_fnn_architecture, \n",
    "              param=default_fnn_param):\n",
    "    \"\"\"\n",
    "    Train a FNN model with INPUT_SHAPE and OUTPUT_SHAPE using ARCHITECTURE and PARAM.\n",
    "    \"\"\"\n",
    "\n",
    "    model = Sequential()\n",
    "    \n",
    "    for i, output_units in enumerate(architecture):\n",
    "        if i == 0:\n",
    "            model.add(Dense(output_units, activation=param[\"activation\"],\n",
    "                        input_shape=input_shape,\n",
    "                        kernel_regularizer=regularizers.l2(param[\"l2_strength\"])))\n",
    "        else:\n",
    "            model.add(Dense(output_units, activation=param[\"activation\"],\n",
    "                        kernel_regularizer=regularizers.l2(param[\"l2_strength\"])))\n",
    "    \n",
    "    model.add(Dense(np.product(output_shape), activation=\"sigmoid\"))\n",
    "    model.add(Reshape(output_shape))\n",
    "    \n",
    "    opt = optimizers[param[\"optimizer\"]](lr=param[\"learing_rate\"])\n",
    "    model.compile(optimizer=opt, loss=param[\"loss_fn\"], metrics=param[\"metrics\"])\n",
    "    \"\"\n",
    "    return model"
   ]
  },
  {
   "cell_type": "code",
   "execution_count": 20,
   "metadata": {},
   "outputs": [],
   "source": [
    "def train_fnn(model, x, y, param=default_fnn_param, shuffle=True):\n",
    "    model.fit(x, y, batch_size=param[\"batch_size\"], epochs=param[\"epoch\"], shuffle=shuffle,\n",
    "              verbose=param[\"verbose\"], validation_split=param[\"validation_ratio\"])\n",
    "    return model"
   ]
  },
  {
   "cell_type": "code",
   "execution_count": 21,
   "metadata": {},
   "outputs": [],
   "source": [
    "def build_cnn(input_shape, \n",
    "              output_shape, \n",
    "              architecture=default_cnn_architecture, \n",
    "              param=default_cnn_param):\n",
    "    \"\"\"\n",
    "    Train a CNN model with INPUT_SHAPE and OUTPUT_SHAPE using ARCHITECTURE and PARAM.\n",
    "    \"\"\"\n",
    "\n",
    "    model = Sequential()\n",
    "    \n",
    "    for i, layer in enumerate(architecture):\n",
    "        if layer[0] == \"conv1d\":\n",
    "            model.add(Conv1D(filters=16, kernel_size=3, strides=1,padding=PADDING, activation=ACTIVATION))\n",
    "        elif layer[0] == \"flatten\":\n",
    "            model.add(Flatten())\n",
    "        elif layer[0] == \"dense\":\n",
    "            model.add(Dense(layer[1], activation=param[\"activation\"]))\n",
    "        elif layer[0] == \"dropout\":\n",
    "            model.add(Dropout(param[\"dropout_keep_prob\"]))\n",
    "        else:\n",
    "            raise ValueError(\"do not recognize layer\", layer[0])\n",
    "    \n",
    "    model.add(Dense(np.product(output_shape), activation=\"sigmoid\"))\n",
    "    model.add(Reshape(output_shape))\n",
    "    \n",
    "    opt = optimizers[param[\"optimizer\"]](lr=param[\"learing_rate\"])\n",
    "    model.compile(optimizer=opt, loss=param[\"loss_fn\"], metrics=param[\"metrics\"])\n",
    "    \"\"\n",
    "    return model"
   ]
  },
  {
   "cell_type": "code",
   "execution_count": 22,
   "metadata": {},
   "outputs": [],
   "source": [
    "def train_cnn(model, x, y, param=default_fnn_param, shuffle=True):\n",
    "    model.fit(x, y, batch_size=param[\"batch_size\"], epochs=param[\"epoch\"], shuffle=shuffle,\n",
    "              verbose=param[\"verbose\"], validation_split=param[\"validation_ratio\"])\n",
    "    return model"
   ]
  },
  {
   "cell_type": "markdown",
   "metadata": {},
   "source": [
    "# Evaluation Metrics"
   ]
  },
  {
   "cell_type": "code",
   "execution_count": 23,
   "metadata": {},
   "outputs": [],
   "source": [
    "def accuracy(y, y_pred, argmax=False, viterbi=False):\n",
    "    y_pred_binary = y_pred\n",
    "    \n",
    "    if viterbi:\n",
    "        y_pred_binary = [p[:y.shape[1]] for p in y_pred]\n",
    "    elif argmax:\n",
    "        y_pred_binary = np.vstack([np.argmax(p, axis=1) for p in y_pred])\n",
    "        assert y.shape == y_pred_binary.shape, \"prediction and ground truth must \\\n",
    "        have same shape\\nExpected:{0} Actual:{1}\".format(y.shape, y_pred_binary.shape)\n",
    "    \n",
    "    return np.sum(y == y_pred_binary) / np.product(y.shape)"
   ]
  },
  {
   "cell_type": "code",
   "execution_count": 24,
   "metadata": {},
   "outputs": [],
   "source": [
    "def model_accuracy(model, x, y, argmax=False):\n",
    "    if argmax:\n",
    "        y_pred = model.predict(x)\n",
    "        return accuracy(y, y_pred, argmax)\n",
    "    else:\n",
    "        return model.evaluate(x, y, verbose=0)[1]"
   ]
  },
  {
   "cell_type": "code",
   "execution_count": 25,
   "metadata": {},
   "outputs": [],
   "source": [
    "def pred_vs_truth(model, x, y, n_show=2, y_truth_is_onehot=False):\n",
    "    indicies = np.random.randint(low=0, high=x.shape[0], size=n_show)\n",
    "    y_pred = model.predict(x[indicies])\n",
    "    y_pred_binary = np.vstack([np.argmax(p, axis=1) for p in y_pred])\n",
    "    \n",
    "    truth = y[indicies].astype(y_pred_binary.dtype)\n",
    "    \n",
    "    if y_truth_is_onehot:\n",
    "        truth = onehot_to_normal(truth)\n",
    "    \n",
    "    for i in range(len(truth)):\n",
    "        print(\"\\n############## Example {0} ##############\".format(i))\n",
    "        print(\"Expected:\\n\", truth[i])\n",
    "        print(\"Actual:\\n\", y_pred_binary[i])"
   ]
  },
  {
   "cell_type": "markdown",
   "metadata": {},
   "source": [
    "# Graph"
   ]
  },
  {
   "cell_type": "code",
   "execution_count": 26,
   "metadata": {},
   "outputs": [],
   "source": [
    "def plot_acc(title, acc):\n",
    "    epoch = np.arange(1,len(acc)+1,1)\n",
    "    \n",
    "    plt.figure(figsize=(20,6))\n",
    "\n",
    "    plt.subplot(121)\n",
    "    plt.title(title)\n",
    "    plt.xlabel('epoch')\n",
    "    plt.ylabel(\"accuracy\")\n",
    "    plt.plot(epoch, acc, \"green\")\n",
    "\n",
    "    plt.subplot(122)\n",
    "    plt.title(\"Log Log {0}\".format(title))\n",
    "    plt.xlabel('epoch')\n",
    "    plt.ylabel(\"accuracy\")\n",
    "    plt.plot(epoch, np.log(-np.log(acc)), \"red\")"
   ]
  },
  {
   "cell_type": "markdown",
   "metadata": {},
   "source": [
    "# Experiments"
   ]
  },
  {
   "cell_type": "code",
   "execution_count": 43,
   "metadata": {},
   "outputs": [],
   "source": [
    "experiment_results = dict()"
   ]
  },
  {
   "cell_type": "markdown",
   "metadata": {},
   "source": [
    "k: 10, e: 0.05"
   ]
  },
  {
   "cell_type": "code",
   "execution_count": 29,
   "metadata": {},
   "outputs": [],
   "source": [
    "train, test, original = build_data_from_path(\"../data/dataset_n25000_k10_e0.05.pkl\")\n",
    "X_train, y_train = train\n",
    "X_test, y_test = test\n",
    "X, y, y_oh, y_viterbi_decoded = original"
   ]
  },
  {
   "cell_type": "code",
   "execution_count": 32,
   "metadata": {},
   "outputs": [
    {
     "name": "stdout",
     "output_type": "stream",
     "text": [
      "Train on 16000 samples, validate on 4000 samples\n",
      "Epoch 1/50\n",
      " - 4s - loss: 0.6600 - acc: 0.5491 - val_loss: 0.5985 - val_acc: 0.6018\n",
      "Epoch 2/50\n",
      " - 2s - loss: 0.5947 - acc: 0.6172 - val_loss: 0.5452 - val_acc: 0.6679\n",
      "Epoch 3/50\n",
      " - 2s - loss: 0.5367 - acc: 0.6763 - val_loss: 0.4839 - val_acc: 0.7157\n",
      "Epoch 4/50\n",
      " - 2s - loss: 0.4905 - acc: 0.7163 - val_loss: 0.4208 - val_acc: 0.7716\n",
      "Epoch 5/50\n",
      " - 2s - loss: 0.4383 - acc: 0.7619 - val_loss: 0.3620 - val_acc: 0.8205\n",
      "Epoch 6/50\n",
      " - 2s - loss: 0.3921 - acc: 0.7959 - val_loss: 0.3120 - val_acc: 0.8424\n",
      "Epoch 7/50\n",
      " - 2s - loss: 0.3452 - acc: 0.8286 - val_loss: 0.2644 - val_acc: 0.8794\n",
      "Epoch 8/50\n",
      " - 2s - loss: 0.3049 - acc: 0.8542 - val_loss: 0.2162 - val_acc: 0.9078\n",
      "Epoch 9/50\n",
      " - 2s - loss: 0.2616 - acc: 0.8795 - val_loss: 0.1882 - val_acc: 0.9187\n",
      "Epoch 10/50\n",
      " - 2s - loss: 0.2333 - acc: 0.8972 - val_loss: 0.1498 - val_acc: 0.9423\n",
      "Epoch 11/50\n",
      " - 2s - loss: 0.1988 - acc: 0.9173 - val_loss: 0.1213 - val_acc: 0.9574\n",
      "Epoch 12/50\n",
      " - 2s - loss: 0.1692 - acc: 0.9334 - val_loss: 0.0955 - val_acc: 0.9667\n",
      "Epoch 13/50\n",
      " - 2s - loss: 0.1458 - acc: 0.9446 - val_loss: 0.0822 - val_acc: 0.9714\n",
      "Epoch 14/50\n",
      " - 2s - loss: 0.1265 - acc: 0.9525 - val_loss: 0.0789 - val_acc: 0.9739\n",
      "Epoch 15/50\n",
      " - 2s - loss: 0.1156 - acc: 0.9573 - val_loss: 0.0674 - val_acc: 0.9763\n",
      "Epoch 16/50\n",
      " - 2s - loss: 0.1049 - acc: 0.9617 - val_loss: 0.0607 - val_acc: 0.9783\n",
      "Epoch 17/50\n",
      " - 2s - loss: 0.0920 - acc: 0.9665 - val_loss: 0.0590 - val_acc: 0.9794\n",
      "Epoch 18/50\n",
      " - 2s - loss: 0.0839 - acc: 0.9691 - val_loss: 0.0555 - val_acc: 0.9811\n",
      "Epoch 19/50\n",
      " - 2s - loss: 0.0787 - acc: 0.9716 - val_loss: 0.0534 - val_acc: 0.9822\n",
      "Epoch 20/50\n",
      " - 2s - loss: 0.0711 - acc: 0.9746 - val_loss: 0.0540 - val_acc: 0.9815\n",
      "Epoch 21/50\n",
      " - 2s - loss: 0.0695 - acc: 0.9740 - val_loss: 0.0519 - val_acc: 0.9815\n",
      "Epoch 22/50\n",
      " - 2s - loss: 0.0665 - acc: 0.9754 - val_loss: 0.0505 - val_acc: 0.9829\n",
      "Epoch 23/50\n",
      " - 2s - loss: 0.0637 - acc: 0.9768 - val_loss: 0.0503 - val_acc: 0.9823\n",
      "Epoch 24/50\n",
      " - 2s - loss: 0.0593 - acc: 0.9777 - val_loss: 0.0499 - val_acc: 0.9829\n",
      "Epoch 25/50\n",
      " - 2s - loss: 0.0585 - acc: 0.9787 - val_loss: 0.0482 - val_acc: 0.9840\n",
      "Epoch 26/50\n",
      " - 2s - loss: 0.0582 - acc: 0.9788 - val_loss: 0.0473 - val_acc: 0.9838\n",
      "Epoch 27/50\n",
      " - 2s - loss: 0.0530 - acc: 0.9805 - val_loss: 0.0447 - val_acc: 0.9849\n",
      "Epoch 28/50\n",
      " - 2s - loss: 0.0509 - acc: 0.9812 - val_loss: 0.0484 - val_acc: 0.9842\n",
      "Epoch 29/50\n",
      " - 2s - loss: 0.0478 - acc: 0.9823 - val_loss: 0.0471 - val_acc: 0.9845\n",
      "Epoch 30/50\n",
      " - 2s - loss: 0.0451 - acc: 0.9834 - val_loss: 0.0503 - val_acc: 0.9844\n",
      "Epoch 31/50\n",
      " - 2s - loss: 0.0449 - acc: 0.9833 - val_loss: 0.0508 - val_acc: 0.9845\n",
      "Epoch 32/50\n",
      " - 2s - loss: 0.0433 - acc: 0.9840 - val_loss: 0.0540 - val_acc: 0.9852\n",
      "Epoch 33/50\n",
      " - 2s - loss: 0.0409 - acc: 0.9846 - val_loss: 0.0493 - val_acc: 0.9847\n",
      "Epoch 34/50\n",
      " - 2s - loss: 0.0407 - acc: 0.9846 - val_loss: 0.0525 - val_acc: 0.9849\n",
      "Epoch 35/50\n",
      " - 2s - loss: 0.0404 - acc: 0.9850 - val_loss: 0.0492 - val_acc: 0.9853\n",
      "Epoch 36/50\n",
      " - 2s - loss: 0.0391 - acc: 0.9854 - val_loss: 0.0539 - val_acc: 0.9843\n",
      "Epoch 37/50\n",
      " - 2s - loss: 0.0386 - acc: 0.9857 - val_loss: 0.0552 - val_acc: 0.9842\n",
      "Epoch 38/50\n",
      " - 2s - loss: 0.0369 - acc: 0.9862 - val_loss: 0.0554 - val_acc: 0.9847\n",
      "Epoch 39/50\n",
      " - 2s - loss: 0.0370 - acc: 0.9864 - val_loss: 0.0527 - val_acc: 0.9850\n",
      "Epoch 40/50\n",
      " - 2s - loss: 0.0336 - acc: 0.9872 - val_loss: 0.0597 - val_acc: 0.9852\n",
      "Epoch 41/50\n",
      " - 2s - loss: 0.0349 - acc: 0.9876 - val_loss: 0.0580 - val_acc: 0.9850\n",
      "Epoch 42/50\n",
      " - 2s - loss: 0.0385 - acc: 0.9861 - val_loss: 0.0541 - val_acc: 0.9855\n",
      "Epoch 43/50\n",
      " - 2s - loss: 0.0352 - acc: 0.9870 - val_loss: 0.0583 - val_acc: 0.9853\n",
      "Epoch 44/50\n",
      " - 2s - loss: 0.0332 - acc: 0.9875 - val_loss: 0.0539 - val_acc: 0.9861\n",
      "Epoch 45/50\n",
      " - 2s - loss: 0.0342 - acc: 0.9875 - val_loss: 0.0587 - val_acc: 0.9850\n",
      "Epoch 46/50\n",
      " - 2s - loss: 0.0349 - acc: 0.9872 - val_loss: 0.0548 - val_acc: 0.9852\n",
      "Epoch 47/50\n",
      " - 2s - loss: 0.0320 - acc: 0.9880 - val_loss: 0.0531 - val_acc: 0.9861\n",
      "Epoch 48/50\n",
      " - 2s - loss: 0.0311 - acc: 0.9889 - val_loss: 0.0578 - val_acc: 0.9855\n",
      "Epoch 49/50\n",
      " - 2s - loss: 0.0307 - acc: 0.9883 - val_loss: 0.0570 - val_acc: 0.9843\n",
      "Epoch 50/50\n",
      " - 2s - loss: 0.0307 - acc: 0.9891 - val_loss: 0.0557 - val_acc: 0.9843\n"
     ]
    }
   ],
   "source": [
    "lr = 0.005\n",
    "model = Sequential()\n",
    "\n",
    "model.add(Embedding(2, 10))\n",
    "model.add(Dropout(0.5))\n",
    "\n",
    "model.add(LSTM(200, activation=\"tanh\", input_shape=X_train.shape[1:]))\n",
    "model.add(Dropout(0.5))\n",
    "\n",
    "model.add(Dense(200, activation=\"relu\"))\n",
    "model.add(Dropout(0.5))\n",
    "\n",
    "model.add(Dense(20, activation=\"sigmoid\"))\n",
    "model.add(Reshape((10,2)))\n",
    "\n",
    "opt = optimizers[\"adam\"](lr=lr)\n",
    "model.compile(optimizer=opt, loss=\"binary_crossentropy\", metrics=[\"accuracy\"])\n",
    "\n",
    "history = model.fit(X_train, y_train, epochs=50, batch_size=512, verbose=2,\n",
    "          shuffle=True, validation_split=0.2)"
   ]
  },
  {
   "cell_type": "code",
   "execution_count": 36,
   "metadata": {},
   "outputs": [
    {
     "data": {
      "image/png": "[encoded data removed]",
      "text/plain": [
       "<Figure size 432x288 with 1 Axes>"
      ]
     },
     "metadata": {},
     "output_type": "display_data"
    }
   ],
   "source": [
    "plt.plot(history.history['loss'])\n",
    "plt.plot(history.history['val_loss'])\n",
    "plt.title('Basic LSTM-RNN Model Loss (k10, e0.05)')\n",
    "plt.ylabel('loss')\n",
    "plt.xlabel('epoch')\n",
    "plt.legend(['train', 'test'], loc='upper left')\n",
    "plt.show()"
   ]
  },
  {
   "cell_type": "code",
   "execution_count": 40,
   "metadata": {},
   "outputs": [
    {
     "name": "stdout",
     "output_type": "stream",
     "text": [
      "Test Accuracy is 0.983069994354248\n",
      "\n",
      "############## Example 0 ##############\n",
      "Expected:\n",
      " [0 1 1 1 1 0 1 1 1 0]\n",
      "Actual:\n",
      " [0 1 1 1 1 0 1 1 1 0]\n",
      "\n",
      "############## Example 1 ##############\n",
      "Expected:\n",
      " [0 0 0 0 0 0 1 1 0 0]\n",
      "Actual:\n",
      " [0 0 0 0 0 0 1 1 0 0]\n",
      "\n",
      "############## Example 2 ##############\n",
      "Expected:\n",
      " [0 0 0 1 1 1 0 0 1 1]\n",
      "Actual:\n",
      " [0 0 0 1 1 1 0 0 1 1]\n",
      "\n",
      "############## Example 3 ##############\n",
      "Expected:\n",
      " [1 0 1 1 1 0 1 1 0 1]\n",
      "Actual:\n",
      " [1 0 1 1 1 0 1 1 0 1]\n",
      "\n",
      "############## Example 4 ##############\n",
      "Expected:\n",
      " [0 0 1 1 1 1 0 0 1 1]\n",
      "Actual:\n",
      " [0 0 1 1 1 1 0 0 1 1]\n"
     ]
    }
   ],
   "source": [
    "print(\"Test Accuracy is\", model_accuracy(model, X_test, y_test, argmax=False))\n",
    "pred_vs_truth(model, X_test, y_test, n_show=5, y_truth_is_onehot=True)"
   ]
  },
  {
   "cell_type": "code",
   "execution_count": 44,
   "metadata": {},
   "outputs": [],
   "source": [
    "# model.save(\"../models/rnn_k10_e0.05.h5\")\n",
    "# experiment_results[\"k10_e0.05\"] = {\n",
    "#     \"model\": model,\n",
    "#     \"history\": history\n",
    "# }"
   ]
  },
  {
   "cell_type": "markdown",
   "metadata": {},
   "source": [
    "k:20, e:0.05"
   ]
  },
  {
   "cell_type": "code",
   "execution_count": 46,
   "metadata": {},
   "outputs": [],
   "source": [
    "train, test, original = build_data_from_path(\"../data/dataset_n25000_k20_e0.05.pkl\")\n",
    "X_train, y_train = train\n",
    "X_test, y_test = test\n",
    "X, y, y_oh, y_viterbi_decoded = original"
   ]
  },
  {
   "cell_type": "code",
   "execution_count": 48,
   "metadata": {},
   "outputs": [
    {
     "name": "stdout",
     "output_type": "stream",
     "text": [
      "Train on 16000 samples, validate on 4000 samples\n",
      "Epoch 1/50\n",
      " - 6s - loss: 0.6730 - acc: 0.5285 - val_loss: 0.6442 - val_acc: 0.5548\n",
      "Epoch 2/50\n",
      " - 6s - loss: 0.6394 - acc: 0.5576 - val_loss: 0.6196 - val_acc: 0.5705\n",
      "Epoch 3/50\n",
      " - 6s - loss: 0.6171 - acc: 0.5766 - val_loss: 0.5963 - val_acc: 0.5879\n",
      "Epoch 4/50\n",
      " - 6s - loss: 0.5936 - acc: 0.6038 - val_loss: 0.5568 - val_acc: 0.6528\n",
      "Epoch 5/50\n",
      " - 6s - loss: 0.5641 - acc: 0.6484 - val_loss: 0.5196 - val_acc: 0.6947\n",
      "Epoch 6/50\n",
      " - 6s - loss: 0.5238 - acc: 0.6920 - val_loss: 0.4789 - val_acc: 0.7249\n",
      "Epoch 7/50\n",
      " - 6s - loss: 0.4898 - acc: 0.7214 - val_loss: 0.4577 - val_acc: 0.7398\n",
      "Epoch 8/50\n",
      " - 6s - loss: 0.4648 - acc: 0.7403 - val_loss: 0.4114 - val_acc: 0.7744\n",
      "Epoch 9/50\n",
      " - 6s - loss: 0.4262 - acc: 0.7675 - val_loss: 0.3803 - val_acc: 0.7986\n",
      "Epoch 10/50\n",
      " - 6s - loss: 0.3990 - acc: 0.7888 - val_loss: 0.3543 - val_acc: 0.8182\n",
      "Epoch 11/50\n",
      " - 6s - loss: 0.3756 - acc: 0.8056 - val_loss: 0.3178 - val_acc: 0.8419\n",
      "Epoch 12/50\n",
      " - 6s - loss: 0.3475 - acc: 0.8248 - val_loss: 0.2893 - val_acc: 0.8608\n",
      "Epoch 13/50\n",
      " - 6s - loss: 0.3220 - acc: 0.8422 - val_loss: 0.2644 - val_acc: 0.8798\n",
      "Epoch 14/50\n",
      " - 6s - loss: 0.2959 - acc: 0.8584 - val_loss: 0.2301 - val_acc: 0.8943\n",
      "Epoch 15/50\n",
      " - 6s - loss: 0.2731 - acc: 0.8708 - val_loss: 0.2133 - val_acc: 0.9080\n",
      "Epoch 16/50\n",
      " - 6s - loss: 0.2565 - acc: 0.8809 - val_loss: 0.1942 - val_acc: 0.9177\n",
      "Epoch 17/50\n",
      " - 6s - loss: 0.2337 - acc: 0.8942 - val_loss: 0.1696 - val_acc: 0.9296\n",
      "Epoch 18/50\n",
      " - 6s - loss: 0.2144 - acc: 0.9036 - val_loss: 0.1471 - val_acc: 0.9407\n",
      "Epoch 19/50\n",
      " - 6s - loss: 0.1959 - acc: 0.9136 - val_loss: 0.1286 - val_acc: 0.9496\n",
      "Epoch 20/50\n",
      " - 6s - loss: 0.1814 - acc: 0.9207 - val_loss: 0.1227 - val_acc: 0.9537\n",
      "Epoch 21/50\n",
      " - 6s - loss: 0.1676 - acc: 0.9280 - val_loss: 0.1117 - val_acc: 0.9587\n",
      "Epoch 22/50\n",
      " - 6s - loss: 0.1511 - acc: 0.9365 - val_loss: 0.1070 - val_acc: 0.9626\n",
      "Epoch 23/50\n",
      " - 6s - loss: 0.1433 - acc: 0.9412 - val_loss: 0.0897 - val_acc: 0.9684\n",
      "Epoch 24/50\n",
      " - 6s - loss: 0.1334 - acc: 0.9456 - val_loss: 0.0889 - val_acc: 0.9681\n",
      "Epoch 25/50\n",
      " - 6s - loss: 0.1248 - acc: 0.9492 - val_loss: 0.0875 - val_acc: 0.9692\n",
      "Epoch 26/50\n",
      " - 6s - loss: 0.1185 - acc: 0.9525 - val_loss: 0.0831 - val_acc: 0.9728\n",
      "Epoch 27/50\n",
      " - 6s - loss: 0.1125 - acc: 0.9557 - val_loss: 0.0775 - val_acc: 0.9736\n",
      "Epoch 28/50\n",
      " - 6s - loss: 0.1051 - acc: 0.9586 - val_loss: 0.0781 - val_acc: 0.9748\n",
      "Epoch 29/50\n",
      " - 6s - loss: 0.1018 - acc: 0.9608 - val_loss: 0.0724 - val_acc: 0.9768\n",
      "Epoch 30/50\n",
      " - 6s - loss: 0.0934 - acc: 0.9639 - val_loss: 0.0660 - val_acc: 0.9786\n",
      "Epoch 31/50\n",
      " - 6s - loss: 0.0916 - acc: 0.9658 - val_loss: 0.0708 - val_acc: 0.9790\n",
      "Epoch 32/50\n",
      " - 6s - loss: 0.0856 - acc: 0.9675 - val_loss: 0.0662 - val_acc: 0.9784\n",
      "Epoch 33/50\n",
      " - 6s - loss: 0.0838 - acc: 0.9689 - val_loss: 0.0703 - val_acc: 0.9801\n",
      "Epoch 34/50\n",
      " - 6s - loss: 0.0815 - acc: 0.9701 - val_loss: 0.0656 - val_acc: 0.9799\n",
      "Epoch 35/50\n",
      " - 6s - loss: 0.0770 - acc: 0.9715 - val_loss: 0.0631 - val_acc: 0.9807\n",
      "Epoch 36/50\n",
      " - 6s - loss: 0.0742 - acc: 0.9726 - val_loss: 0.0636 - val_acc: 0.9814\n",
      "Epoch 37/50\n",
      " - 6s - loss: 0.0689 - acc: 0.9751 - val_loss: 0.0588 - val_acc: 0.9824\n",
      "Epoch 38/50\n",
      " - 6s - loss: 0.0666 - acc: 0.9759 - val_loss: 0.0708 - val_acc: 0.9826\n",
      "Epoch 39/50\n",
      " - 6s - loss: 0.0662 - acc: 0.9762 - val_loss: 0.0644 - val_acc: 0.9810\n",
      "Epoch 40/50\n",
      " - 6s - loss: 0.0668 - acc: 0.9762 - val_loss: 0.0671 - val_acc: 0.9820\n",
      "Epoch 41/50\n",
      " - 6s - loss: 0.0629 - acc: 0.9777 - val_loss: 0.0584 - val_acc: 0.9827\n",
      "Epoch 42/50\n",
      " - 6s - loss: 0.0641 - acc: 0.9770 - val_loss: 0.0634 - val_acc: 0.9826\n",
      "Epoch 43/50\n",
      " - 6s - loss: 0.0587 - acc: 0.9794 - val_loss: 0.0625 - val_acc: 0.9844\n",
      "Epoch 44/50\n",
      " - 6s - loss: 0.0542 - acc: 0.9811 - val_loss: 0.0650 - val_acc: 0.9847\n",
      "Epoch 45/50\n",
      " - 6s - loss: 0.0520 - acc: 0.9820 - val_loss: 0.0585 - val_acc: 0.9843\n",
      "Epoch 46/50\n",
      " - 6s - loss: 0.0516 - acc: 0.9819 - val_loss: 0.0611 - val_acc: 0.9840\n",
      "Epoch 47/50\n",
      " - 6s - loss: 0.0545 - acc: 0.9814 - val_loss: 0.0647 - val_acc: 0.9831\n",
      "Epoch 48/50\n",
      " - 6s - loss: 0.0507 - acc: 0.9824 - val_loss: 0.0611 - val_acc: 0.9844\n",
      "Epoch 49/50\n",
      " - 6s - loss: 0.0480 - acc: 0.9833 - val_loss: 0.0645 - val_acc: 0.9846\n",
      "Epoch 50/50\n",
      " - 6s - loss: 0.0503 - acc: 0.9829 - val_loss: 0.0589 - val_acc: 0.9839\n"
     ]
    }
   ],
   "source": [
    "lr = 0.005\n",
    "model = Sequential()\n",
    "\n",
    "model.add(Embedding(4, 10))\n",
    "model.add(Dropout(0.5))\n",
    "\n",
    "model.add(LSTM(400, activation=\"tanh\", input_shape=X_train.shape[1:]))\n",
    "model.add(Dropout(0.5))\n",
    "\n",
    "model.add(Dense(400, activation=\"relu\"))\n",
    "model.add(Dropout(0.5))\n",
    "\n",
    "model.add(Dense(40, activation=\"sigmoid\"))\n",
    "model.add(Reshape((20,2)))\n",
    "\n",
    "opt = optimizers[\"adam\"](lr=lr)\n",
    "model.compile(optimizer=opt, loss=\"binary_crossentropy\", metrics=[\"accuracy\"])\n",
    "\n",
    "history = model.fit(X_train, y_train, epochs=50, batch_size=512, verbose=2,\n",
    "          shuffle=True, validation_split=0.2)"
   ]
  },
  {
   "cell_type": "code",
   "execution_count": 49,
   "metadata": {},
   "outputs": [
    {
     "data": {
      "image/png": "[encoded data removed]",
      "text/plain": [
       "<Figure size 432x288 with 1 Axes>"
      ]
     },
     "metadata": {},
     "output_type": "display_data"
    }
   ],
   "source": [
    "plt.plot(history.history['loss'])\n",
    "plt.plot(history.history['val_loss'])\n",
    "plt.title('Basic LSTM-RNN Model Loss (k20, e0.05)')\n",
    "plt.ylabel('loss')\n",
    "plt.xlabel('epoch')\n",
    "plt.legend(['train', 'test'], loc='upper left')\n",
    "plt.show()"
   ]
  },
  {
   "cell_type": "code",
   "execution_count": 50,
   "metadata": {},
   "outputs": [
    {
     "name": "stdout",
     "output_type": "stream",
     "text": [
      "Test Accuracy is 0.981700016784668\n",
      "\n",
      "############## Example 0 ##############\n",
      "Expected:\n",
      " [0 0 1 1 1 0 0 1 1 1 1 1 0 0 0 0 1 1 1 1]\n",
      "Actual:\n",
      " [0 0 1 1 1 0 0 1 1 1 1 1 0 0 0 0 1 1 1 1]\n",
      "\n",
      "############## Example 1 ##############\n",
      "Expected:\n",
      " [1 0 1 0 1 1 1 1 0 0 1 1 0 0 0 0 0 0 0 1]\n",
      "Actual:\n",
      " [1 0 1 0 1 1 1 1 0 0 1 1 0 0 0 0 0 0 0 1]\n",
      "\n",
      "############## Example 2 ##############\n",
      "Expected:\n",
      " [0 1 0 0 1 1 0 1 0 0 0 0 0 1 0 0 0 1 0 0]\n",
      "Actual:\n",
      " [0 1 0 0 1 1 0 1 0 0 0 0 0 1 0 0 0 1 0 0]\n",
      "\n",
      "############## Example 3 ##############\n",
      "Expected:\n",
      " [1 0 1 0 1 0 1 0 1 0 0 1 1 1 1 0 0 0 1 1]\n",
      "Actual:\n",
      " [1 0 1 0 1 0 0 0 0 1 0 1 1 1 1 0 0 0 1 1]\n",
      "\n",
      "############## Example 4 ##############\n",
      "Expected:\n",
      " [1 1 0 1 1 1 0 1 0 0 1 0 0 0 0 1 0 0 1 0]\n",
      "Actual:\n",
      " [1 1 0 1 1 1 0 1 0 0 1 0 0 0 0 1 0 0 1 0]\n"
     ]
    }
   ],
   "source": [
    "print(\"Test Accuracy is\", model_accuracy(model, X_test, y_test, argmax=False))\n",
    "pred_vs_truth(model, X_test, y_test, n_show=5, y_truth_is_onehot=True)"
   ]
  },
  {
   "cell_type": "code",
   "execution_count": 51,
   "metadata": {},
   "outputs": [],
   "source": [
    "# model.save(\"../models/rnn_k20_e0.05.h5\")\n",
    "# experiment_results[\"k20_e0.05\"] = {\n",
    "#     \"model\": model,\n",
    "#     \"history\": history\n",
    "# }"
   ]
  },
  {
   "cell_type": "code",
   "execution_count": 52,
   "metadata": {},
   "outputs": [
    {
     "data": {
      "image/png": "[encoded data removed]",
      "text/plain": [
       "<Figure size 432x288 with 1 Axes>"
      ]
     },
     "metadata": {},
     "output_type": "display_data"
    }
   ],
   "source": [
    "for name, exp in experiment_results.items():\n",
    "    history = exp[\"history\"]\n",
    "    plt.plot(history.history['loss'], label=\"{0} loss\".format(name))\n",
    "    plt.plot(history.history['val_loss'], label=\"{0} val_loss\".format(name))\n",
    "    plt.xlabel('epoch')\n",
    "    plt.ylabel('loss')\n",
    "\n",
    "plt.title('Basic LSTM-RNN Model Loss')\n",
    "plt.legend()\n",
    "plt.show()"
   ]
  },
  {
   "cell_type": "markdown",
   "metadata": {},
   "source": [
    "k:40, e:0.05"
   ]
  },
  {
   "cell_type": "code",
   "execution_count": 54,
   "metadata": {},
   "outputs": [],
   "source": [
    "train, test, original = build_data_from_path(\"../data/dataset_n25000_k40_e0.05.pkl\")\n",
    "X_train, y_train = train\n",
    "X_test, y_test = test\n",
    "X, y, y_oh, y_viterbi_decoded = original"
   ]
  },
  {
   "cell_type": "code",
   "execution_count": 57,
   "metadata": {},
   "outputs": [
    {
     "name": "stdout",
     "output_type": "stream",
     "text": [
      "Train on 16000 samples, validate on 4000 samples\n",
      "Epoch 1/50\n",
      " - 11s - loss: 0.6920 - acc: 0.5103 - val_loss: 0.6874 - val_acc: 0.5133\n",
      "Epoch 2/50\n",
      " - 11s - loss: 0.6823 - acc: 0.5171 - val_loss: 0.6739 - val_acc: 0.5179\n",
      "Epoch 3/50\n",
      " - 11s - loss: 0.6748 - acc: 0.5224 - val_loss: 0.6686 - val_acc: 0.5269\n",
      "Epoch 4/50\n",
      " - 11s - loss: 0.6704 - acc: 0.5269 - val_loss: 0.6627 - val_acc: 0.5417\n",
      "Epoch 5/50\n",
      " - 11s - loss: 0.6647 - acc: 0.5403 - val_loss: 0.6546 - val_acc: 0.5569\n",
      "Epoch 6/50\n",
      " - 11s - loss: 0.6573 - acc: 0.5562 - val_loss: 0.6436 - val_acc: 0.5791\n",
      "Epoch 7/50\n",
      " - 11s - loss: 0.6498 - acc: 0.5716 - val_loss: 0.6352 - val_acc: 0.5909\n",
      "Epoch 8/50\n",
      " - 11s - loss: 0.6416 - acc: 0.5853 - val_loss: 0.6232 - val_acc: 0.6070\n",
      "Epoch 9/50\n",
      " - 11s - loss: 0.6328 - acc: 0.5997 - val_loss: 0.6150 - val_acc: 0.6211\n",
      "Epoch 10/50\n",
      " - 11s - loss: 0.6247 - acc: 0.6114 - val_loss: 0.6042 - val_acc: 0.6350\n",
      "Epoch 11/50\n",
      " - 11s - loss: 0.6151 - acc: 0.6253 - val_loss: 0.5927 - val_acc: 0.6503\n",
      "Epoch 12/50\n",
      " - 11s - loss: 0.6059 - acc: 0.6372 - val_loss: 0.5817 - val_acc: 0.6604\n",
      "Epoch 13/50\n",
      " - 11s - loss: 0.5970 - acc: 0.6478 - val_loss: 0.5761 - val_acc: 0.6658\n",
      "Epoch 14/50\n",
      " - 11s - loss: 0.5905 - acc: 0.6550 - val_loss: 0.5664 - val_acc: 0.6760\n",
      "Epoch 15/50\n",
      " - 11s - loss: 0.5832 - acc: 0.6618 - val_loss: 0.5591 - val_acc: 0.6824\n",
      "Epoch 16/50\n",
      " - 11s - loss: 0.5775 - acc: 0.6681 - val_loss: 0.5542 - val_acc: 0.6862\n",
      "Epoch 17/50\n",
      " - 11s - loss: 0.5712 - acc: 0.6748 - val_loss: 0.5492 - val_acc: 0.6914\n",
      "Epoch 18/50\n",
      " - 11s - loss: 0.5661 - acc: 0.6798 - val_loss: 0.5417 - val_acc: 0.6991\n",
      "Epoch 19/50\n",
      " - 11s - loss: 0.5599 - acc: 0.6854 - val_loss: 0.5371 - val_acc: 0.7007\n",
      "Epoch 20/50\n",
      " - 11s - loss: 0.5545 - acc: 0.6902 - val_loss: 0.5305 - val_acc: 0.7075\n",
      "Epoch 21/50\n",
      " - 11s - loss: 0.5486 - acc: 0.6955 - val_loss: 0.5281 - val_acc: 0.7087\n",
      "Epoch 22/50\n",
      " - 11s - loss: 0.5445 - acc: 0.6987 - val_loss: 0.5204 - val_acc: 0.7164\n",
      "Epoch 23/50\n",
      " - 11s - loss: 0.5384 - acc: 0.7037 - val_loss: 0.5177 - val_acc: 0.7187\n",
      "Epoch 24/50\n",
      " - 11s - loss: 0.5340 - acc: 0.7076 - val_loss: 0.5098 - val_acc: 0.7246\n",
      "Epoch 25/50\n",
      " - 11s - loss: 0.5286 - acc: 0.7124 - val_loss: 0.5058 - val_acc: 0.7271\n",
      "Epoch 26/50\n",
      " - 11s - loss: 0.5253 - acc: 0.7142 - val_loss: 0.5022 - val_acc: 0.7294\n",
      "Epoch 27/50\n",
      " - 11s - loss: 0.5204 - acc: 0.7177 - val_loss: 0.4979 - val_acc: 0.7346\n",
      "Epoch 28/50\n",
      " - 11s - loss: 0.5149 - acc: 0.7216 - val_loss: 0.4913 - val_acc: 0.7373\n",
      "Epoch 29/50\n",
      " - 11s - loss: 0.5111 - acc: 0.7243 - val_loss: 0.4858 - val_acc: 0.7428\n",
      "Epoch 30/50\n",
      " - 11s - loss: 0.5056 - acc: 0.7285 - val_loss: 0.4822 - val_acc: 0.7434\n",
      "Epoch 31/50\n",
      " - 11s - loss: 0.5020 - acc: 0.7304 - val_loss: 0.4784 - val_acc: 0.7463\n",
      "Epoch 32/50\n",
      " - 11s - loss: 0.4975 - acc: 0.7332 - val_loss: 0.4752 - val_acc: 0.7470\n",
      "Epoch 33/50\n",
      " - 11s - loss: 0.4935 - acc: 0.7365 - val_loss: 0.4718 - val_acc: 0.7515\n",
      "Epoch 34/50\n",
      " - 11s - loss: 0.4891 - acc: 0.7385 - val_loss: 0.4679 - val_acc: 0.7532\n",
      "Epoch 35/50\n",
      " - 11s - loss: 0.4854 - acc: 0.7412 - val_loss: 0.4664 - val_acc: 0.7535\n",
      "Epoch 36/50\n",
      " - 11s - loss: 0.4818 - acc: 0.7431 - val_loss: 0.4593 - val_acc: 0.7575\n",
      "Epoch 37/50\n",
      " - 11s - loss: 0.4790 - acc: 0.7448 - val_loss: 0.4569 - val_acc: 0.7591\n",
      "Epoch 38/50\n",
      " - 11s - loss: 0.4758 - acc: 0.7468 - val_loss: 0.4512 - val_acc: 0.7642\n",
      "Epoch 39/50\n",
      " - 11s - loss: 0.4709 - acc: 0.7501 - val_loss: 0.4483 - val_acc: 0.7646\n",
      "Epoch 40/50\n",
      " - 11s - loss: 0.4684 - acc: 0.7513 - val_loss: 0.4448 - val_acc: 0.7669\n",
      "Epoch 41/50\n",
      " - 11s - loss: 0.4657 - acc: 0.7534 - val_loss: 0.4456 - val_acc: 0.7676\n",
      "Epoch 42/50\n",
      " - 11s - loss: 0.4627 - acc: 0.7553 - val_loss: 0.4409 - val_acc: 0.7700\n",
      "Epoch 43/50\n",
      " - 11s - loss: 0.4586 - acc: 0.7581 - val_loss: 0.4366 - val_acc: 0.7727\n",
      "Epoch 44/50\n",
      " - 11s - loss: 0.4553 - acc: 0.7606 - val_loss: 0.4378 - val_acc: 0.7724\n",
      "Epoch 45/50\n",
      " - 11s - loss: 0.4519 - acc: 0.7622 - val_loss: 0.4287 - val_acc: 0.7787\n",
      "Epoch 46/50\n",
      " - 11s - loss: 0.4487 - acc: 0.7645 - val_loss: 0.4265 - val_acc: 0.7786\n",
      "Epoch 47/50\n",
      " - 11s - loss: 0.4455 - acc: 0.7663 - val_loss: 0.4225 - val_acc: 0.7817\n",
      "Epoch 48/50\n",
      " - 11s - loss: 0.4413 - acc: 0.7684 - val_loss: 0.4205 - val_acc: 0.7842\n",
      "Epoch 49/50\n",
      " - 11s - loss: 0.4384 - acc: 0.7712 - val_loss: 0.4242 - val_acc: 0.7848\n",
      "Epoch 50/50\n",
      " - 11s - loss: 0.4367 - acc: 0.7720 - val_loss: 0.4136 - val_acc: 0.7894\n"
     ]
    }
   ],
   "source": [
    "lr = 0.001\n",
    "model = Sequential()\n",
    "\n",
    "model.add(Embedding(8, 10))\n",
    "model.add(Dropout(0.5))\n",
    "\n",
    "model.add(LSTM(400, activation=\"tanh\", input_shape=X_train.shape[1:]))\n",
    "model.add(Dropout(0.5))\n",
    "\n",
    "model.add(Dense(400, activation=\"relu\"))\n",
    "model.add(Dropout(0.5))\n",
    "\n",
    "model.add(Dense(80, activation=\"sigmoid\"))\n",
    "model.add(Reshape((40,2)))\n",
    "\n",
    "opt = optimizers[\"adam\"](lr=lr)\n",
    "model.compile(optimizer=opt, loss=\"binary_crossentropy\", metrics=[\"accuracy\"])\n",
    "\n",
    "history = model.fit(X_train, y_train, epochs=50, batch_size=512, verbose=2,\n",
    "          shuffle=True, validation_split=0.2)"
   ]
  },
  {
   "cell_type": "code",
   "execution_count": 58,
   "metadata": {},
   "outputs": [
    {
     "data": {
      "image/png": "[encoded data removed]",
      "text/plain": [
       "<Figure size 432x288 with 1 Axes>"
      ]
     },
     "metadata": {},
     "output_type": "display_data"
    }
   ],
   "source": [
    "plt.plot(history.history['loss'])\n",
    "plt.plot(history.history['val_loss'])\n",
    "plt.title('Basic LSTM-RNN Model Loss (k40, e0.05)')\n",
    "plt.ylabel('loss')\n",
    "plt.xlabel('epoch')\n",
    "plt.legend(['train', 'test'], loc='upper left')\n",
    "plt.show()"
   ]
  },
  {
   "cell_type": "markdown",
   "metadata": {},
   "source": [
    "Let's keep training with lower learning rate"
   ]
  },
  {
   "cell_type": "code",
   "execution_count": 61,
   "metadata": {},
   "outputs": [
    {
     "name": "stdout",
     "output_type": "stream",
     "text": [
      "Train on 16000 samples, validate on 4000 samples\n",
      "Epoch 1/10\n",
      " - 11s - loss: 0.4310 - acc: 0.7751 - val_loss: 0.4083 - val_acc: 0.7913\n",
      "Epoch 2/10\n",
      " - 11s - loss: 0.4266 - acc: 0.7775 - val_loss: 0.4054 - val_acc: 0.7933\n",
      "Epoch 3/10\n",
      " - 11s - loss: 0.4250 - acc: 0.7786 - val_loss: 0.4033 - val_acc: 0.7945\n",
      "Epoch 4/10\n",
      " - 11s - loss: 0.4225 - acc: 0.7794 - val_loss: 0.4021 - val_acc: 0.7955\n",
      "Epoch 5/10\n",
      " - 11s - loss: 0.4210 - acc: 0.7808 - val_loss: 0.4015 - val_acc: 0.7960\n",
      "Epoch 6/10\n",
      " - 11s - loss: 0.4192 - acc: 0.7820 - val_loss: 0.4020 - val_acc: 0.7973\n",
      "Epoch 7/10\n",
      " - 11s - loss: 0.4173 - acc: 0.7826 - val_loss: 0.3973 - val_acc: 0.7989\n",
      "Epoch 8/10\n",
      " - 11s - loss: 0.4154 - acc: 0.7843 - val_loss: 0.3971 - val_acc: 0.7993\n",
      "Epoch 9/10\n",
      " - 11s - loss: 0.4135 - acc: 0.7849 - val_loss: 0.3954 - val_acc: 0.8005\n",
      "Epoch 10/10\n",
      " - 11s - loss: 0.4127 - acc: 0.7861 - val_loss: 0.3927 - val_acc: 0.8014\n"
     ]
    }
   ],
   "source": [
    "lr = 0.0005\n",
    "opt = optimizers[\"adam\"](lr=lr)\n",
    "model.compile(optimizer=opt, loss=\"binary_crossentropy\", metrics=[\"accuracy\"])\n",
    "history = model.fit(X_train, y_train, epochs=10, batch_size=512, verbose=2,\n",
    "          shuffle=True, validation_split=0.2)"
   ]
  },
  {
   "cell_type": "code",
   "execution_count": 62,
   "metadata": {},
   "outputs": [
    {
     "name": "stdout",
     "output_type": "stream",
     "text": [
      "Train on 16000 samples, validate on 4000 samples\n",
      "Epoch 1/10\n",
      " - 11s - loss: 0.5772 - acc: 0.6358 - val_loss: 0.4974 - val_acc: 0.7000\n",
      "Epoch 2/10\n",
      " - 11s - loss: 0.5018 - acc: 0.7076 - val_loss: 0.4574 - val_acc: 0.7434\n",
      "Epoch 3/10\n",
      " - 11s - loss: 0.4722 - acc: 0.7391 - val_loss: 0.4341 - val_acc: 0.7671\n",
      "Epoch 4/10\n",
      " - 11s - loss: 0.4602 - acc: 0.7507 - val_loss: 0.4213 - val_acc: 0.7768\n",
      "Epoch 5/10\n",
      " - 11s - loss: 0.4474 - acc: 0.7619 - val_loss: 0.4178 - val_acc: 0.7809\n",
      "Epoch 6/10\n",
      " - 11s - loss: 0.4389 - acc: 0.7680 - val_loss: 0.3995 - val_acc: 0.7925\n",
      "Epoch 7/10\n",
      " - 11s - loss: 0.4290 - acc: 0.7754 - val_loss: 0.3941 - val_acc: 0.7984\n",
      "Epoch 8/10\n",
      " - 11s - loss: 0.4245 - acc: 0.7788 - val_loss: 0.3888 - val_acc: 0.8030\n",
      "Epoch 9/10\n",
      " - 11s - loss: 0.4175 - acc: 0.7824 - val_loss: 0.3834 - val_acc: 0.8028\n",
      "Epoch 10/10\n",
      " - 11s - loss: 0.4101 - acc: 0.7865 - val_loss: 0.3686 - val_acc: 0.8143\n"
     ]
    }
   ],
   "source": [
    "lr = 0.005\n",
    "opt = optimizers[\"adam\"](lr=lr)\n",
    "model.compile(optimizer=opt, loss=\"binary_crossentropy\", metrics=[\"accuracy\"])\n",
    "history = model.fit(X_train, y_train, epochs=10, batch_size=512, verbose=2,\n",
    "          shuffle=True, validation_split=0.2)"
   ]
  },
  {
   "cell_type": "code",
   "execution_count": 63,
   "metadata": {
    "scrolled": true
   },
   "outputs": [
    {
     "name": "stdout",
     "output_type": "stream",
     "text": [
      "Train on 16000 samples, validate on 4000 samples\n",
      "Epoch 1/10\n",
      " - 12s - loss: 0.3867 - acc: 0.7996 - val_loss: 0.3451 - val_acc: 0.8270\n",
      "Epoch 2/10\n",
      " - 11s - loss: 0.3751 - acc: 0.8065 - val_loss: 0.3416 - val_acc: 0.8305\n",
      "Epoch 3/10\n",
      " - 11s - loss: 0.3703 - acc: 0.8092 - val_loss: 0.3399 - val_acc: 0.8304\n",
      "Epoch 4/10\n",
      " - 11s - loss: 0.3661 - acc: 0.8116 - val_loss: 0.3376 - val_acc: 0.8325\n",
      "Epoch 5/10\n",
      " - 11s - loss: 0.3621 - acc: 0.8140 - val_loss: 0.3332 - val_acc: 0.8352\n",
      "Epoch 6/10\n",
      " - 11s - loss: 0.3612 - acc: 0.8150 - val_loss: 0.3337 - val_acc: 0.8349\n",
      "Epoch 7/10\n",
      " - 11s - loss: 0.3587 - acc: 0.8159 - val_loss: 0.3298 - val_acc: 0.8390\n",
      "Epoch 8/10\n",
      " - 11s - loss: 0.3547 - acc: 0.8188 - val_loss: 0.3325 - val_acc: 0.8384\n",
      "Epoch 9/10\n",
      " - 11s - loss: 0.3524 - acc: 0.8199 - val_loss: 0.3250 - val_acc: 0.8419\n",
      "Epoch 10/10\n",
      " - 11s - loss: 0.3490 - acc: 0.8220 - val_loss: 0.3235 - val_acc: 0.8448\n"
     ]
    }
   ],
   "source": [
    "lr = 0.001\n",
    "opt = optimizers[\"adam\"](lr=lr)\n",
    "model.compile(optimizer=opt, loss=\"binary_crossentropy\", metrics=[\"accuracy\"])\n",
    "history = model.fit(X_train, y_train, epochs=10, batch_size=512, verbose=2,\n",
    "          shuffle=True, validation_split=0.2)"
   ]
  },
  {
   "cell_type": "code",
   "execution_count": 68,
   "metadata": {},
   "outputs": [
    {
     "name": "stdout",
     "output_type": "stream",
     "text": [
      "Train on 16000 samples, validate on 4000 samples\n",
      "Epoch 1/20\n",
      " - 12s - loss: 0.3439 - acc: 0.8250 - val_loss: 0.3186 - val_acc: 0.8457\n",
      "Epoch 2/20\n",
      " - 11s - loss: 0.3411 - acc: 0.8266 - val_loss: 0.3165 - val_acc: 0.8467\n",
      "Epoch 3/20\n",
      " - 11s - loss: 0.3403 - acc: 0.8267 - val_loss: 0.3171 - val_acc: 0.8481\n",
      "Epoch 4/20\n",
      " - 11s - loss: 0.3378 - acc: 0.8289 - val_loss: 0.3135 - val_acc: 0.8497\n",
      "Epoch 5/20\n",
      " - 11s - loss: 0.3360 - acc: 0.8298 - val_loss: 0.3141 - val_acc: 0.8505\n",
      "Epoch 6/20\n",
      " - 11s - loss: 0.3343 - acc: 0.8307 - val_loss: 0.3121 - val_acc: 0.8512\n",
      "Epoch 7/20\n",
      " - 11s - loss: 0.3330 - acc: 0.8309 - val_loss: 0.3110 - val_acc: 0.8513\n",
      "Epoch 8/20\n",
      " - 11s - loss: 0.3319 - acc: 0.8319 - val_loss: 0.3093 - val_acc: 0.8532\n",
      "Epoch 9/20\n",
      " - 11s - loss: 0.3299 - acc: 0.8330 - val_loss: 0.3089 - val_acc: 0.8529\n",
      "Epoch 10/20\n",
      " - 11s - loss: 0.3289 - acc: 0.8338 - val_loss: 0.3082 - val_acc: 0.8531\n",
      "Epoch 11/20\n",
      " - 11s - loss: 0.3276 - acc: 0.8344 - val_loss: 0.3110 - val_acc: 0.8511\n",
      "Epoch 12/20\n",
      " - 11s - loss: 0.3297 - acc: 0.8335 - val_loss: 0.3066 - val_acc: 0.8543\n",
      "Epoch 13/20\n",
      " - 11s - loss: 0.3262 - acc: 0.8351 - val_loss: 0.3056 - val_acc: 0.8561\n",
      "Epoch 14/20\n",
      " - 11s - loss: 0.3240 - acc: 0.8360 - val_loss: 0.3036 - val_acc: 0.8573\n",
      "Epoch 15/20\n",
      " - 11s - loss: 0.3234 - acc: 0.8367 - val_loss: 0.3015 - val_acc: 0.8567\n",
      "Epoch 16/20\n",
      " - 11s - loss: 0.3219 - acc: 0.8377 - val_loss: 0.3019 - val_acc: 0.8593\n",
      "Epoch 17/20\n",
      " - 11s - loss: 0.3195 - acc: 0.8389 - val_loss: 0.3005 - val_acc: 0.8586\n",
      "Epoch 18/20\n",
      " - 11s - loss: 0.3192 - acc: 0.8389 - val_loss: 0.3006 - val_acc: 0.8598\n",
      "Epoch 19/20\n",
      " - 11s - loss: 0.3173 - acc: 0.8402 - val_loss: 0.2982 - val_acc: 0.8616\n",
      "Epoch 20/20\n",
      " - 11s - loss: 0.3155 - acc: 0.8414 - val_loss: 0.2971 - val_acc: 0.8628\n"
     ]
    }
   ],
   "source": [
    "lr = 0.0005\n",
    "opt = optimizers[\"adam\"](lr=lr)\n",
    "model.compile(optimizer=opt, loss=\"binary_crossentropy\", metrics=[\"accuracy\"])\n",
    "history = model.fit(X_train, y_train, epochs=20, batch_size=512, verbose=2,\n",
    "          shuffle=True, validation_split=0.2)"
   ]
  },
  {
   "cell_type": "code",
   "execution_count": 70,
   "metadata": {},
   "outputs": [
    {
     "name": "stdout",
     "output_type": "stream",
     "text": [
      "Train on 16000 samples, validate on 4000 samples\n",
      "Epoch 1/20\n",
      " - 12s - loss: 0.3164 - acc: 0.8405 - val_loss: 0.2962 - val_acc: 0.8622\n",
      "Epoch 2/20\n",
      " - 11s - loss: 0.3133 - acc: 0.8421 - val_loss: 0.2947 - val_acc: 0.8623\n",
      "Epoch 3/20\n",
      " - 11s - loss: 0.3116 - acc: 0.8431 - val_loss: 0.2954 - val_acc: 0.8640\n",
      "Epoch 4/20\n",
      " - 11s - loss: 0.3117 - acc: 0.8437 - val_loss: 0.2944 - val_acc: 0.8642\n",
      "Epoch 5/20\n",
      " - 11s - loss: 0.3100 - acc: 0.8439 - val_loss: 0.2927 - val_acc: 0.8652\n",
      "Epoch 6/20\n",
      " - 11s - loss: 0.3095 - acc: 0.8452 - val_loss: 0.2927 - val_acc: 0.8658\n",
      "Epoch 7/20\n",
      " - 11s - loss: 0.3085 - acc: 0.8458 - val_loss: 0.2894 - val_acc: 0.8664\n",
      "Epoch 8/20\n",
      " - 11s - loss: 0.3069 - acc: 0.8463 - val_loss: 0.2905 - val_acc: 0.8665\n",
      "Epoch 9/20\n",
      " - 11s - loss: 0.3058 - acc: 0.8470 - val_loss: 0.2883 - val_acc: 0.8662\n",
      "Epoch 10/20\n",
      " - 11s - loss: 0.3050 - acc: 0.8473 - val_loss: 0.2866 - val_acc: 0.8681\n",
      "Epoch 11/20\n",
      " - 11s - loss: 0.3040 - acc: 0.8477 - val_loss: 0.2865 - val_acc: 0.8691\n",
      "Epoch 12/20\n",
      " - 11s - loss: 0.3034 - acc: 0.8487 - val_loss: 0.2868 - val_acc: 0.8688\n",
      "Epoch 13/20\n",
      " - 11s - loss: 0.3015 - acc: 0.8492 - val_loss: 0.2846 - val_acc: 0.8700\n",
      "Epoch 14/20\n",
      " - 11s - loss: 0.3007 - acc: 0.8502 - val_loss: 0.2841 - val_acc: 0.8710\n",
      "Epoch 15/20\n",
      " - 11s - loss: 0.3000 - acc: 0.8509 - val_loss: 0.2830 - val_acc: 0.8714\n",
      "Epoch 16/20\n",
      " - 11s - loss: 0.2993 - acc: 0.8512 - val_loss: 0.2828 - val_acc: 0.8706\n",
      "Epoch 17/20\n",
      " - 11s - loss: 0.2983 - acc: 0.8515 - val_loss: 0.2807 - val_acc: 0.8739\n",
      "Epoch 18/20\n",
      " - 11s - loss: 0.2953 - acc: 0.8531 - val_loss: 0.2787 - val_acc: 0.8745\n",
      "Epoch 19/20\n",
      " - 11s - loss: 0.2943 - acc: 0.8537 - val_loss: 0.2796 - val_acc: 0.8752\n",
      "Epoch 20/20\n",
      " - 11s - loss: 0.2928 - acc: 0.8547 - val_loss: 0.2764 - val_acc: 0.8750\n"
     ]
    }
   ],
   "source": [
    "lr = 0.0005\n",
    "opt = optimizers[\"adam\"](lr=lr)\n",
    "model.compile(optimizer=opt, loss=\"binary_crossentropy\", metrics=[\"accuracy\"])\n",
    "history = model.fit(X_train, y_train, epochs=20, batch_size=512, verbose=2,\n",
    "          shuffle=True, validation_split=0.2)"
   ]
  },
  {
   "cell_type": "code",
   "execution_count": 74,
   "metadata": {},
   "outputs": [
    {
     "name": "stdout",
     "output_type": "stream",
     "text": [
      "Train on 16000 samples, validate on 4000 samples\n",
      "Epoch 1/20\n",
      " - 12s - loss: 0.3099 - acc: 0.8462 - val_loss: 0.2798 - val_acc: 0.8738\n",
      "Epoch 2/20\n",
      " - 11s - loss: 0.2950 - acc: 0.8534 - val_loss: 0.2845 - val_acc: 0.8703\n",
      "Epoch 3/20\n",
      " - 11s - loss: 0.3038 - acc: 0.8497 - val_loss: 0.2738 - val_acc: 0.8752\n",
      "Epoch 4/20\n",
      " - 11s - loss: 0.2939 - acc: 0.8548 - val_loss: 0.2744 - val_acc: 0.8761\n",
      "Epoch 5/20\n",
      " - 11s - loss: 0.2931 - acc: 0.8549 - val_loss: 0.2731 - val_acc: 0.8770\n",
      "Epoch 6/20\n",
      " - 11s - loss: 0.2914 - acc: 0.8560 - val_loss: 0.2715 - val_acc: 0.8789\n",
      "Epoch 7/20\n",
      " - 11s - loss: 0.2878 - acc: 0.8575 - val_loss: 0.2704 - val_acc: 0.8791\n",
      "Epoch 8/20\n",
      " - 11s - loss: 0.2873 - acc: 0.8579 - val_loss: 0.2690 - val_acc: 0.8802\n",
      "Epoch 9/20\n",
      " - 11s - loss: 0.2845 - acc: 0.8590 - val_loss: 0.2671 - val_acc: 0.8816\n",
      "Epoch 10/20\n",
      " - 11s - loss: 0.2843 - acc: 0.8598 - val_loss: 0.2635 - val_acc: 0.8822\n",
      "Epoch 11/20\n",
      " - 11s - loss: 0.2834 - acc: 0.8604 - val_loss: 0.2651 - val_acc: 0.8818\n",
      "Epoch 12/20\n",
      " - 11s - loss: 0.2829 - acc: 0.8605 - val_loss: 0.2646 - val_acc: 0.8833\n",
      "Epoch 13/20\n",
      " - 11s - loss: 0.2831 - acc: 0.8608 - val_loss: 0.2610 - val_acc: 0.8830\n",
      "Epoch 14/20\n",
      " - 11s - loss: 0.2814 - acc: 0.8615 - val_loss: 0.2626 - val_acc: 0.8854\n",
      "Epoch 15/20\n",
      " - 11s - loss: 0.2801 - acc: 0.8622 - val_loss: 0.2601 - val_acc: 0.8841\n",
      "Epoch 16/20\n",
      " - 11s - loss: 0.2793 - acc: 0.8630 - val_loss: 0.2666 - val_acc: 0.8848\n",
      "Epoch 17/20\n",
      " - 11s - loss: 0.2829 - acc: 0.8614 - val_loss: 0.2589 - val_acc: 0.8855\n",
      "Epoch 18/20\n",
      " - 11s - loss: 0.2786 - acc: 0.8640 - val_loss: 0.2563 - val_acc: 0.8864\n",
      "Epoch 19/20\n",
      " - 11s - loss: 0.2736 - acc: 0.8657 - val_loss: 0.2542 - val_acc: 0.8895\n",
      "Epoch 20/20\n",
      " - 11s - loss: 0.2706 - acc: 0.8674 - val_loss: 0.2541 - val_acc: 0.8886\n"
     ]
    }
   ],
   "source": [
    "lr = 0.001\n",
    "opt = optimizers[\"adam\"](lr=lr)\n",
    "model.compile(optimizer=opt, loss=\"binary_crossentropy\", metrics=[\"accuracy\"])\n",
    "history = model.fit(X_train, y_train, epochs=20, batch_size=512, verbose=2,\n",
    "          shuffle=True, validation_split=0.2)"
   ]
  },
  {
   "cell_type": "code",
   "execution_count": 76,
   "metadata": {},
   "outputs": [
    {
     "name": "stdout",
     "output_type": "stream",
     "text": [
      "Train on 16000 samples, validate on 4000 samples\n",
      "Epoch 1/20\n",
      " - 12s - loss: 0.3744 - acc: 0.8171 - val_loss: 0.2865 - val_acc: 0.8696\n",
      "Epoch 2/20\n",
      " - 11s - loss: 0.2965 - acc: 0.8548 - val_loss: 0.2576 - val_acc: 0.8868\n",
      "Epoch 3/20\n",
      " - 11s - loss: 0.2888 - acc: 0.8597 - val_loss: 0.2639 - val_acc: 0.8838\n",
      "Epoch 4/20\n",
      " - 11s - loss: 0.2857 - acc: 0.8614 - val_loss: 0.2526 - val_acc: 0.8912\n",
      "Epoch 5/20\n",
      " - 11s - loss: 0.2817 - acc: 0.8631 - val_loss: 0.2524 - val_acc: 0.8875\n",
      "Epoch 6/20\n",
      " - 11s - loss: 0.3027 - acc: 0.8526 - val_loss: 0.2563 - val_acc: 0.8843\n",
      "Epoch 7/20\n",
      " - 11s - loss: 0.2923 - acc: 0.8583 - val_loss: 0.2442 - val_acc: 0.8916\n",
      "Epoch 8/20\n",
      " - 11s - loss: 0.2768 - acc: 0.8657 - val_loss: 0.2403 - val_acc: 0.8965\n",
      "Epoch 9/20\n",
      " - 11s - loss: 0.2702 - acc: 0.8695 - val_loss: 0.2411 - val_acc: 0.8956\n",
      "Epoch 10/20\n",
      " - 11s - loss: 0.2672 - acc: 0.8707 - val_loss: 0.2363 - val_acc: 0.8988\n",
      "Epoch 11/20\n",
      " - 11s - loss: 0.2656 - acc: 0.8718 - val_loss: 0.2375 - val_acc: 0.8989\n",
      "Epoch 12/20\n",
      " - 11s - loss: 0.2632 - acc: 0.8728 - val_loss: 0.2321 - val_acc: 0.9014\n",
      "Epoch 13/20\n",
      " - 11s - loss: 0.2602 - acc: 0.8746 - val_loss: 0.2332 - val_acc: 0.9015\n",
      "Epoch 14/20\n",
      " - 11s - loss: 0.3818 - acc: 0.8112 - val_loss: 0.3145 - val_acc: 0.8527\n",
      "Epoch 15/20\n",
      " - 11s - loss: 0.3230 - acc: 0.8430 - val_loss: 0.2532 - val_acc: 0.8872\n",
      "Epoch 16/20\n",
      " - 11s - loss: 0.2885 - acc: 0.8601 - val_loss: 0.2326 - val_acc: 0.8973\n",
      "Epoch 17/20\n",
      " - 11s - loss: 0.2765 - acc: 0.8672 - val_loss: 0.2313 - val_acc: 0.9004\n",
      "Epoch 18/20\n",
      " - 11s - loss: 0.2694 - acc: 0.8706 - val_loss: 0.2276 - val_acc: 0.9030\n",
      "Epoch 19/20\n",
      " - 11s - loss: 0.2640 - acc: 0.8737 - val_loss: 0.2246 - val_acc: 0.9037\n",
      "Epoch 20/20\n",
      " - 11s - loss: 0.2610 - acc: 0.8751 - val_loss: 0.2189 - val_acc: 0.9061\n"
     ]
    }
   ],
   "source": [
    "lr = 0.002\n",
    "opt = optimizers[\"adam\"](lr=lr)\n",
    "model.compile(optimizer=opt, loss=\"binary_crossentropy\", metrics=[\"accuracy\"])\n",
    "history = model.fit(X_train, y_train, epochs=20, batch_size=512, verbose=2,\n",
    "          shuffle=True, validation_split=0.2)"
   ]
  },
  {
   "cell_type": "code",
   "execution_count": 79,
   "metadata": {},
   "outputs": [
    {
     "name": "stdout",
     "output_type": "stream",
     "text": [
      "Train on 16000 samples, validate on 4000 samples\n",
      "Epoch 1/20\n",
      " - 12s - loss: 0.2635 - acc: 0.8737 - val_loss: 0.2140 - val_acc: 0.9089\n",
      "Epoch 2/20\n",
      " - 11s - loss: 0.2507 - acc: 0.8806 - val_loss: 0.2127 - val_acc: 0.9106\n",
      "Epoch 3/20\n",
      " - 11s - loss: 0.2489 - acc: 0.8813 - val_loss: 0.2118 - val_acc: 0.9119\n",
      "Epoch 4/20\n",
      " - 11s - loss: 0.2473 - acc: 0.8826 - val_loss: 0.2133 - val_acc: 0.9118\n",
      "Epoch 5/20\n",
      " - 11s - loss: 0.2467 - acc: 0.8829 - val_loss: 0.2099 - val_acc: 0.9137\n",
      "Epoch 6/20\n",
      " - 11s - loss: 0.2422 - acc: 0.8850 - val_loss: 0.2078 - val_acc: 0.9139\n",
      "Epoch 7/20\n",
      " - 11s - loss: 0.2415 - acc: 0.8852 - val_loss: 0.2034 - val_acc: 0.9151\n",
      "Epoch 8/20\n",
      " - 11s - loss: 0.2387 - acc: 0.8872 - val_loss: 0.2055 - val_acc: 0.9164\n",
      "Epoch 9/20\n",
      " - 11s - loss: 0.2375 - acc: 0.8875 - val_loss: 0.2053 - val_acc: 0.9165\n",
      "Epoch 10/20\n",
      " - 11s - loss: 0.2380 - acc: 0.8874 - val_loss: 0.2043 - val_acc: 0.9165\n",
      "Epoch 11/20\n",
      " - 11s - loss: 0.2346 - acc: 0.8890 - val_loss: 0.2001 - val_acc: 0.9179\n",
      "Epoch 12/20\n",
      " - 11s - loss: 0.2335 - acc: 0.8899 - val_loss: 0.1994 - val_acc: 0.9176\n",
      "Epoch 13/20\n",
      " - 11s - loss: 0.2332 - acc: 0.8904 - val_loss: 0.1974 - val_acc: 0.9189\n",
      "Epoch 14/20\n",
      " - 11s - loss: 0.2315 - acc: 0.8915 - val_loss: 0.1961 - val_acc: 0.9211\n",
      "Epoch 15/20\n",
      " - 11s - loss: 0.2282 - acc: 0.8929 - val_loss: 0.1949 - val_acc: 0.9221\n",
      "Epoch 16/20\n",
      " - 11s - loss: 0.2267 - acc: 0.8935 - val_loss: 0.1941 - val_acc: 0.9221\n",
      "Epoch 17/20\n",
      " - 11s - loss: 0.2252 - acc: 0.8948 - val_loss: 0.1932 - val_acc: 0.9246\n",
      "Epoch 18/20\n",
      " - 11s - loss: 0.2248 - acc: 0.8945 - val_loss: 0.1942 - val_acc: 0.9244\n",
      "Epoch 19/20\n",
      " - 11s - loss: 0.2236 - acc: 0.8954 - val_loss: 0.1920 - val_acc: 0.9234\n",
      "Epoch 20/20\n",
      " - 11s - loss: 0.2229 - acc: 0.8960 - val_loss: 0.1918 - val_acc: 0.9241\n"
     ]
    }
   ],
   "source": [
    "lr = 0.001\n",
    "opt = optimizers[\"adam\"](lr=lr)\n",
    "model.compile(optimizer=opt, loss=\"binary_crossentropy\", metrics=[\"accuracy\"])\n",
    "history = model.fit(X_train, y_train, epochs=20, batch_size=512, verbose=2,\n",
    "          shuffle=True, validation_split=0.2)"
   ]
  },
  {
   "cell_type": "code",
   "execution_count": 83,
   "metadata": {},
   "outputs": [],
   "source": [
    "history = {\n",
    "    \"loss\": [0.692 , 0.6823, 0.6748, 0.6704, 0.6647, 0.6573, 0.6498, 0.6416,\n",
    "       0.6328, 0.6247, 0.6151, 0.6059, 0.597 , 0.5905, 0.5832, 0.5775,\n",
    "       0.5712, 0.5661, 0.5599, 0.5545, 0.5486, 0.5445, 0.5384, 0.534 ,\n",
    "       0.5286, 0.5253, 0.5204, 0.5149, 0.5111, 0.5056, 0.502 , 0.4975,\n",
    "       0.4935, 0.4891, 0.4854, 0.4818, 0.479 , 0.4758, 0.4709, 0.4684,\n",
    "       0.4657, 0.4627, 0.4586, 0.4553, 0.4519, 0.4487, 0.4455, 0.4413,\n",
    "       0.4384, 0.4367, 0.431 , 0.4266, 0.425 , 0.4225, 0.421 , 0.4192,\n",
    "       0.4173, 0.4154, 0.4135, 0.4127, 0.4101, 0.3867, 0.3751, 0.3703,\n",
    "       0.3661, 0.3621, 0.3612, 0.3587, 0.3547, 0.3524, 0.349 , 0.3439,\n",
    "       0.3411, 0.3403, 0.3378, 0.336 , 0.3343, 0.333 , 0.3319, 0.3299,\n",
    "       0.3289, 0.3276, 0.3262, 0.324 , 0.3234, 0.3219, 0.3195, 0.3192,\n",
    "       0.3173, 0.3155, 0.3164, 0.3133, 0.3116, 0.3117, 0.31  , 0.3095,\n",
    "       0.3085, 0.3069, 0.3058, 0.305 , 0.304 , 0.3034, 0.3015, 0.3007,\n",
    "       0.3   , 0.2993, 0.2983, 0.2953, 0.2943, 0.2928, 0.2914, 0.2878,\n",
    "       0.2873, 0.2845, 0.2843, 0.2834, 0.2829, 0.2831, 0.2814, 0.2801,\n",
    "       0.2793, 0.2786, 0.2736, 0.2706, 0.2702, 0.2672, 0.2656, 0.2632,\n",
    "       0.2602, 0.2885, 0.2765, 0.2694, 0.264 , 0.261 , 0.2635, 0.2507,\n",
    "       0.2489, 0.2473, 0.2467, 0.2422, 0.2415, 0.2387, 0.2375, 0.238 ,\n",
    "       0.2346, 0.2335, 0.2332, 0.2315, 0.2282, 0.2267, 0.2252, 0.2248,\n",
    "       0.2236, 0.2229],\n",
    "    \"val_loss\": [0.6874, 0.6739, 0.6686, 0.6627, 0.6546, 0.6436, 0.6352, 0.6232,\n",
    "       0.615 , 0.6042, 0.5927, 0.5817, 0.5761, 0.5664, 0.5591, 0.5542,\n",
    "       0.5492, 0.5417, 0.5371, 0.5305, 0.5281, 0.5204, 0.5177, 0.5098,\n",
    "       0.5058, 0.5022, 0.4979, 0.4913, 0.4858, 0.4822, 0.4784, 0.4752,\n",
    "       0.4718, 0.4679, 0.4664, 0.4593, 0.4569, 0.4512, 0.4483, 0.4448,\n",
    "       0.4456, 0.4409, 0.4366, 0.4378, 0.4287, 0.4265, 0.4225, 0.4205,\n",
    "       0.4242, 0.4136, 0.4083, 0.4054, 0.4033, 0.4021, 0.4015, 0.402 ,\n",
    "       0.3973, 0.3971, 0.3954, 0.3927, 0.3686, 0.3451, 0.3416, 0.3399,\n",
    "       0.3376, 0.3332, 0.3337, 0.3298, 0.3325, 0.325 , 0.3235, 0.3186,\n",
    "       0.3165, 0.3171, 0.3135, 0.3141, 0.3121, 0.311 , 0.3093, 0.3089,\n",
    "       0.3082, 0.311 , 0.3056, 0.3036, 0.3015, 0.3019, 0.3005, 0.3006,\n",
    "       0.2982, 0.2971, 0.2962, 0.2947, 0.2954, 0.2944, 0.2927, 0.2927,\n",
    "       0.2894, 0.2905, 0.2883, 0.2866, 0.2865, 0.2868, 0.2846, 0.2841,\n",
    "       0.283 , 0.2828, 0.2807, 0.2787, 0.2796, 0.2764, 0.2715, 0.2704,\n",
    "       0.269 , 0.2671, 0.2635, 0.2651, 0.2646, 0.261 , 0.2626, 0.2601,\n",
    "       0.2666, 0.2563, 0.2542, 0.2541, 0.2411, 0.2363, 0.2375, 0.2321,\n",
    "       0.2332, 0.2326, 0.2313, 0.2276, 0.2246, 0.2189, 0.214 , 0.2127,\n",
    "       0.2118, 0.2133, 0.2099, 0.2078, 0.2034, 0.2055, 0.2053, 0.2043,\n",
    "       0.2001, 0.1994, 0.1974, 0.1961, 0.1949, 0.1941, 0.1932, 0.1942,\n",
    "       0.192 , 0.1918]\n",
    "}"
   ]
  },
  {
   "cell_type": "code",
   "execution_count": 86,
   "metadata": {},
   "outputs": [
    {
     "data": {
      "image/png": "[encoded data removed]",
      "text/plain": [
       "<Figure size 432x288 with 1 Axes>"
      ]
     },
     "metadata": {},
     "output_type": "display_data"
    }
   ],
   "source": [
    "plt.plot(history['loss'])\n",
    "plt.plot(history['val_loss'])\n",
    "plt.title('Basic LSTM-RNN Model Loss (k40, e0.05)')\n",
    "plt.ylabel('loss')\n",
    "plt.xlabel('epoch')\n",
    "plt.legend(['train', 'test'], loc='upper left')\n",
    "plt.show()"
   ]
  },
  {
   "cell_type": "code",
   "execution_count": 87,
   "metadata": {},
   "outputs": [
    {
     "name": "stdout",
     "output_type": "stream",
     "text": [
      "Test Accuracy is 0.9270724857330322\n",
      "\n",
      "############## Example 0 ##############\n",
      "Expected:\n",
      " [1 1 1 0 1 0 1 1 0 0 0 0 0 1 1 0 0 0 1 1 0 1 0 1 1 1 0 0 1 0 1 1 1 1 0 1 1\n",
      " 1 0 0]\n",
      "Actual:\n",
      " [1 1 1 0 0 0 1 1 0 0 0 0 0 1 1 0 0 0 1 1 0 1 0 1 1 1 0 0 1 0 1 1 1 1 0 1 1\n",
      " 1 0 0]\n",
      "\n",
      "############## Example 1 ##############\n",
      "Expected:\n",
      " [1 0 0 0 0 1 0 0 1 0 1 1 0 1 0 0 1 0 1 1 0 0 1 0 0 1 0 0 1 1 1 1 1 0 0 1 1\n",
      " 0 1 0]\n",
      "Actual:\n",
      " [1 0 0 0 0 0 1 0 0 1 1 1 0 1 0 0 1 0 1 1 0 0 1 0 0 1 0 0 1 1 1 1 1 0 0 1 1\n",
      " 0 1 0]\n",
      "\n",
      "############## Example 2 ##############\n",
      "Expected:\n",
      " [1 0 1 0 1 0 1 0 0 1 0 0 1 1 1 0 1 0 1 1 1 1 0 1 1 0 0 0 0 1 0 0 1 0 1 1 1\n",
      " 1 0 0]\n",
      "Actual:\n",
      " [1 0 1 1 1 1 1 0 0 0 0 0 1 1 1 0 0 0 1 1 1 1 0 1 1 0 0 0 0 1 0 0 1 0 1 1 1\n",
      " 1 0 0]\n",
      "\n",
      "############## Example 3 ##############\n",
      "Expected:\n",
      " [1 1 1 1 1 0 0 0 1 1 1 1 0 1 1 1 0 0 1 0 0 1 0 1 1 0 0 0 0 0 1 1 0 0 1 0 1\n",
      " 0 1 0]\n",
      "Actual:\n",
      " [1 1 1 1 1 0 0 0 1 1 1 1 0 1 1 1 0 0 1 0 0 1 0 1 1 0 0 0 0 0 1 1 0 0 1 0 1\n",
      " 0 1 0]\n",
      "\n",
      "############## Example 4 ##############\n",
      "Expected:\n",
      " [1 0 0 0 0 1 1 0 1 0 0 0 1 1 0 0 0 0 0 1 0 1 0 1 1 0 0 1 0 0 1 1 1 0 0 1 1\n",
      " 1 0 1]\n",
      "Actual:\n",
      " [1 0 0 0 0 1 1 1 1 0 0 0 1 1 0 0 0 0 0 1 0 1 0 1 1 0 0 1 0 0 1 1 1 0 0 1 1\n",
      " 1 0 1]\n"
     ]
    }
   ],
   "source": [
    "print(\"Test Accuracy is\", model_accuracy(model, X_test, y_test, argmax=False))\n",
    "pred_vs_truth(model, X_test, y_test, n_show=5, y_truth_is_onehot=True)"
   ]
  },
  {
   "cell_type": "code",
   "execution_count": 95,
   "metadata": {},
   "outputs": [],
   "source": [
    "# model.save(\"../models/rnn_k40_e0.05.h5\")\n",
    "# experiment_results[\"k40_e0.05\"] = {\n",
    "#     \"model\": model,\n",
    "#     \"history\": history\n",
    "# }"
   ]
  },
  {
   "cell_type": "code",
   "execution_count": 88,
   "metadata": {},
   "outputs": [
    {
     "data": {
      "image/png": "[encoded data removed]",
      "text/plain": [
       "<Figure size 432x288 with 1 Axes>"
      ]
     },
     "metadata": {},
     "output_type": "display_data"
    }
   ],
   "source": [
    "for name, exp in experiment_results.items():\n",
    "    history = exp[\"history\"]\n",
    "    if type(history) != dict:\n",
    "        history = history.history\n",
    "    plt.plot(history['loss'], label=\"{0} loss\".format(name))\n",
    "    plt.plot(history['val_loss'], label=\"{0} val_loss\".format(name))\n",
    "    plt.xlabel('epoch')\n",
    "    plt.ylabel('loss')\n",
    "\n",
    "plt.title('Basic LSTM-RNN Model Loss')\n",
    "plt.legend()\n",
    "plt.show()"
   ]
  },
  {
   "cell_type": "code",
   "execution_count": 96,
   "metadata": {},
   "outputs": [
    {
     "name": "stdout",
     "output_type": "stream",
     "text": [
      "Test Accuracy is 0.8889424924850464\n"
     ]
    }
   ],
   "source": [
    "model = experiment_results[\"k40_e0.05\"][\"model\"]\n",
    "print(\"Test Accuracy is\", model_accuracy(model, X_test, y_test, argmax=False))"
   ]
  },
  {
   "cell_type": "code",
   "execution_count": 97,
   "metadata": {},
   "outputs": [
    {
     "name": "stdout",
     "output_type": "stream",
     "text": [
      "Train on 16000 samples, validate on 4000 samples\n",
      "Epoch 1/20\n",
      " - 12s - loss: 0.3809 - acc: 0.7892 - val_loss: 0.2780 - val_acc: 0.8491\n",
      "Epoch 2/20\n",
      " - 11s - loss: 0.2916 - acc: 0.8354 - val_loss: 0.2469 - val_acc: 0.8671\n",
      "Epoch 3/20\n",
      " - 11s - loss: 0.2668 - acc: 0.8509 - val_loss: 0.2300 - val_acc: 0.8777\n",
      "Epoch 4/20\n",
      " - 11s - loss: 0.2584 - acc: 0.8569 - val_loss: 0.2220 - val_acc: 0.8822\n",
      "Epoch 5/20\n",
      " - 11s - loss: 0.2543 - acc: 0.8597 - val_loss: 0.2195 - val_acc: 0.8858\n",
      "Epoch 6/20\n",
      " - 11s - loss: 0.2481 - acc: 0.8631 - val_loss: 0.2165 - val_acc: 0.8874\n",
      "Epoch 7/20\n",
      " - 11s - loss: 0.2478 - acc: 0.8642 - val_loss: 0.2110 - val_acc: 0.8868\n",
      "Epoch 8/20\n",
      " - 11s - loss: 0.2459 - acc: 0.8654 - val_loss: 0.2109 - val_acc: 0.8899\n",
      "Epoch 9/20\n",
      " - 11s - loss: 0.2421 - acc: 0.8673 - val_loss: 0.2096 - val_acc: 0.8910\n",
      "Epoch 10/20\n",
      " - 11s - loss: 0.2395 - acc: 0.8697 - val_loss: 0.2053 - val_acc: 0.8966\n",
      "Epoch 11/20\n",
      " - 11s - loss: 0.2355 - acc: 0.8714 - val_loss: 0.2077 - val_acc: 0.8917\n",
      "Epoch 12/20\n",
      " - 11s - loss: 0.2344 - acc: 0.8731 - val_loss: 0.2037 - val_acc: 0.8976\n",
      "Epoch 13/20\n",
      " - 11s - loss: 0.2325 - acc: 0.8740 - val_loss: 0.1969 - val_acc: 0.8959\n",
      "Epoch 14/20\n",
      " - 11s - loss: 0.2306 - acc: 0.8755 - val_loss: 0.1971 - val_acc: 0.8981\n",
      "Epoch 15/20\n",
      " - 11s - loss: 0.2297 - acc: 0.8756 - val_loss: 0.1917 - val_acc: 0.9003\n",
      "Epoch 16/20\n",
      " - 11s - loss: 0.2278 - acc: 0.8774 - val_loss: 0.1985 - val_acc: 0.8969\n",
      "Epoch 17/20\n",
      " - 11s - loss: 0.2237 - acc: 0.8793 - val_loss: 0.1911 - val_acc: 0.9037\n",
      "Epoch 18/20\n",
      " - 11s - loss: 0.2210 - acc: 0.8811 - val_loss: 0.1884 - val_acc: 0.9059\n",
      "Epoch 19/20\n",
      " - 11s - loss: 0.2196 - acc: 0.8824 - val_loss: 0.1865 - val_acc: 0.9066\n",
      "Epoch 20/20\n",
      " - 11s - loss: 0.2182 - acc: 0.8826 - val_loss: 0.1851 - val_acc: 0.9059\n"
     ]
    }
   ],
   "source": [
    "model = experiment_results[\"k40_e0.05\"][\"model\"]\n",
    "lr = 0.005\n",
    "opt = optimizers[\"adam\"](lr=lr)\n",
    "model.compile(optimizer=opt, loss=\"binary_crossentropy\", metrics=[\"accuracy\"])\n",
    "history = model.fit(X_train, y_train, epochs=20, batch_size=512, verbose=2,\n",
    "          shuffle=True, validation_split=0.2)"
   ]
  },
  {
   "cell_type": "code",
   "execution_count": 98,
   "metadata": {},
   "outputs": [
    {
     "name": "stdout",
     "output_type": "stream",
     "text": [
      "Train on 16000 samples, validate on 4000 samples\n",
      "Epoch 1/20\n",
      " - 13s - loss: 0.3339 - acc: 0.8193 - val_loss: 0.2031 - val_acc: 0.8937\n",
      "Epoch 2/20\n",
      " - 11s - loss: 0.2304 - acc: 0.8767 - val_loss: 0.1885 - val_acc: 0.9038\n",
      "Epoch 3/20\n",
      " - 11s - loss: 0.2136 - acc: 0.8855 - val_loss: 0.1803 - val_acc: 0.9095\n",
      "Epoch 4/20\n",
      " - 11s - loss: 0.2091 - acc: 0.8880 - val_loss: 0.1757 - val_acc: 0.9095\n",
      "Epoch 5/20\n",
      " - 11s - loss: 0.2106 - acc: 0.8876 - val_loss: 0.1989 - val_acc: 0.8943\n",
      "Epoch 6/20\n",
      " - 11s - loss: 0.2637 - acc: 0.8581 - val_loss: 0.1974 - val_acc: 0.8961\n",
      "Epoch 7/20\n",
      " - 11s - loss: 0.2336 - acc: 0.8762 - val_loss: 0.1860 - val_acc: 0.9037\n",
      "Epoch 8/20\n",
      " - 11s - loss: 0.2172 - acc: 0.8850 - val_loss: 0.1797 - val_acc: 0.9069\n",
      "Epoch 9/20\n",
      " - 11s - loss: 0.2105 - acc: 0.8886 - val_loss: 0.1731 - val_acc: 0.9100\n",
      "Epoch 10/20\n",
      " - 11s - loss: 0.2052 - acc: 0.8915 - val_loss: 0.1688 - val_acc: 0.9142\n",
      "Epoch 11/20\n",
      " - 11s - loss: 0.2028 - acc: 0.8929 - val_loss: 0.1713 - val_acc: 0.9152\n",
      "Epoch 12/20\n",
      " - 11s - loss: 0.1977 - acc: 0.8954 - val_loss: 0.1682 - val_acc: 0.9164\n",
      "Epoch 13/20\n",
      " - 11s - loss: 0.1961 - acc: 0.8970 - val_loss: 0.1667 - val_acc: 0.9206\n",
      "Epoch 14/20\n",
      " - 11s - loss: 0.1926 - acc: 0.8980 - val_loss: 0.1675 - val_acc: 0.9182\n",
      "Epoch 15/20\n",
      " - 11s - loss: 0.1920 - acc: 0.8990 - val_loss: 0.1655 - val_acc: 0.9193\n",
      "Epoch 16/20\n",
      " - 11s - loss: 0.1907 - acc: 0.9004 - val_loss: 0.1604 - val_acc: 0.9202\n",
      "Epoch 17/20\n",
      " - 11s - loss: 0.1885 - acc: 0.9011 - val_loss: 0.1618 - val_acc: 0.9241\n",
      "Epoch 18/20\n",
      " - 11s - loss: 0.1868 - acc: 0.9021 - val_loss: 0.1641 - val_acc: 0.9250\n",
      "Epoch 19/20\n",
      " - 11s - loss: 0.1878 - acc: 0.9018 - val_loss: 0.1631 - val_acc: 0.9248\n",
      "Epoch 20/20\n",
      " - 11s - loss: 0.1853 - acc: 0.9039 - val_loss: 0.1603 - val_acc: 0.9255\n"
     ]
    }
   ],
   "source": [
    "lr = 0.005\n",
    "opt = optimizers[\"adam\"](lr=lr)\n",
    "model.compile(optimizer=opt, loss=\"binary_crossentropy\", metrics=[\"accuracy\"])\n",
    "history = model.fit(X_train, y_train, epochs=20, batch_size=512, verbose=2,\n",
    "          shuffle=True, validation_split=0.2)"
   ]
  },
  {
   "cell_type": "code",
   "execution_count": 99,
   "metadata": {},
   "outputs": [],
   "source": [
    "# model.save(\"../models/rnn_k40_e0.05.h5\")\n",
    "# experiment_results[\"k40_e0.05\"] = {\n",
    "#     \"model\": model,\n",
    "#     \"history\": history\n",
    "# }"
   ]
  },
  {
   "cell_type": "code",
   "execution_count": 100,
   "metadata": {},
   "outputs": [
    {
     "name": "stdout",
     "output_type": "stream",
     "text": [
      "Train on 16000 samples, validate on 4000 samples\n",
      "Epoch 1/20\n",
      " - 13s - loss: 0.1714 - acc: 0.9105 - val_loss: 0.1571 - val_acc: 0.9270\n",
      "Epoch 2/20\n",
      " - 11s - loss: 0.1661 - acc: 0.9130 - val_loss: 0.1585 - val_acc: 0.9287\n",
      "Epoch 3/20\n",
      " - 11s - loss: 0.1635 - acc: 0.9141 - val_loss: 0.1597 - val_acc: 0.9293\n",
      "Epoch 4/20\n",
      " - 11s - loss: 0.1617 - acc: 0.9151 - val_loss: 0.1578 - val_acc: 0.9302\n",
      "Epoch 5/20\n",
      " - 11s - loss: 0.1604 - acc: 0.9157 - val_loss: 0.1572 - val_acc: 0.9295\n",
      "Epoch 6/20\n",
      " - 11s - loss: 0.1595 - acc: 0.9161 - val_loss: 0.1572 - val_acc: 0.9293\n",
      "Epoch 7/20\n",
      " - 11s - loss: 0.1588 - acc: 0.9170 - val_loss: 0.1555 - val_acc: 0.9310\n",
      "Epoch 8/20\n",
      " - 11s - loss: 0.1607 - acc: 0.9165 - val_loss: 0.1588 - val_acc: 0.9314\n",
      "Epoch 9/20\n",
      " - 11s - loss: 0.1572 - acc: 0.9179 - val_loss: 0.1573 - val_acc: 0.9313\n",
      "Epoch 10/20\n",
      " - 11s - loss: 0.1567 - acc: 0.9187 - val_loss: 0.1571 - val_acc: 0.9319\n",
      "Epoch 11/20\n",
      " - 11s - loss: 0.1546 - acc: 0.9195 - val_loss: 0.1559 - val_acc: 0.9320\n",
      "Epoch 12/20\n",
      " - 11s - loss: 0.1547 - acc: 0.9194 - val_loss: 0.1575 - val_acc: 0.9338\n",
      "Epoch 13/20\n",
      " - 11s - loss: 0.1540 - acc: 0.9195 - val_loss: 0.1631 - val_acc: 0.9336\n",
      "Epoch 14/20\n",
      " - 11s - loss: 0.1536 - acc: 0.9204 - val_loss: 0.1556 - val_acc: 0.9336\n",
      "Epoch 15/20\n",
      " - 11s - loss: 0.1528 - acc: 0.9207 - val_loss: 0.1581 - val_acc: 0.9332\n",
      "Epoch 16/20\n",
      " - 11s - loss: 0.1517 - acc: 0.9212 - val_loss: 0.1560 - val_acc: 0.9338\n",
      "Epoch 17/20\n",
      " - 11s - loss: 0.1514 - acc: 0.9215 - val_loss: 0.1567 - val_acc: 0.9351\n",
      "Epoch 18/20\n",
      " - 11s - loss: 0.1496 - acc: 0.9224 - val_loss: 0.1611 - val_acc: 0.9344\n",
      "Epoch 19/20\n",
      " - 11s - loss: 0.1499 - acc: 0.9221 - val_loss: 0.1577 - val_acc: 0.9352\n",
      "Epoch 20/20\n",
      " - 11s - loss: 0.1505 - acc: 0.9220 - val_loss: 0.1551 - val_acc: 0.9345\n"
     ]
    }
   ],
   "source": [
    "lr = 0.001\n",
    "opt = optimizers[\"adam\"](lr=lr)\n",
    "model.compile(optimizer=opt, loss=\"binary_crossentropy\", metrics=[\"accuracy\"])\n",
    "history = model.fit(X_train, y_train, epochs=20, batch_size=512, verbose=2,\n",
    "          shuffle=True, validation_split=0.2)"
   ]
  },
  {
   "cell_type": "code",
   "execution_count": 105,
   "metadata": {},
   "outputs": [
    {
     "name": "stdout",
     "output_type": "stream",
     "text": [
      "Train on 16000 samples, validate on 4000 samples\n",
      "Epoch 1/20\n",
      " - 14s - loss: 0.2345 - acc: 0.8844 - val_loss: 0.1613 - val_acc: 0.9288\n",
      "Epoch 2/20\n",
      " - 11s - loss: 0.1741 - acc: 0.9124 - val_loss: 0.1552 - val_acc: 0.9343\n",
      "Epoch 3/20\n",
      " - 11s - loss: 0.1660 - acc: 0.9155 - val_loss: 0.1566 - val_acc: 0.9337\n",
      "Epoch 4/20\n",
      " - 11s - loss: 0.1677 - acc: 0.9153 - val_loss: 0.1528 - val_acc: 0.9349\n",
      "Epoch 5/20\n",
      " - 11s - loss: 0.1719 - acc: 0.9138 - val_loss: 0.1518 - val_acc: 0.9354\n",
      "Epoch 6/20\n",
      " - 11s - loss: 0.1679 - acc: 0.9152 - val_loss: 0.1497 - val_acc: 0.9352\n",
      "Epoch 7/20\n",
      " - 11s - loss: 0.1656 - acc: 0.9160 - val_loss: 0.1523 - val_acc: 0.9356\n",
      "Epoch 8/20\n",
      " - 11s - loss: 0.1625 - acc: 0.9175 - val_loss: 0.1492 - val_acc: 0.9347\n",
      "Epoch 9/20\n",
      " - 11s - loss: 0.1658 - acc: 0.9160 - val_loss: 0.1517 - val_acc: 0.9337\n",
      "Epoch 10/20\n",
      " - 11s - loss: 0.1653 - acc: 0.9166 - val_loss: 0.1448 - val_acc: 0.9346\n",
      "Epoch 11/20\n",
      " - 11s - loss: 0.1647 - acc: 0.9176 - val_loss: 0.1510 - val_acc: 0.9346\n",
      "Epoch 12/20\n",
      " - 11s - loss: 0.1683 - acc: 0.9158 - val_loss: 0.1462 - val_acc: 0.9355\n",
      "Epoch 13/20\n",
      " - 11s - loss: 0.1642 - acc: 0.9172 - val_loss: 0.1478 - val_acc: 0.9353\n",
      "Epoch 14/20\n",
      " - 11s - loss: 0.1605 - acc: 0.9181 - val_loss: 0.1497 - val_acc: 0.9357\n",
      "Epoch 15/20\n",
      " - 11s - loss: 0.1557 - acc: 0.9200 - val_loss: 0.1449 - val_acc: 0.9352\n",
      "Epoch 16/20\n",
      " - 11s - loss: 0.1571 - acc: 0.9194 - val_loss: 0.1483 - val_acc: 0.9361\n",
      "Epoch 17/20\n",
      " - 11s - loss: 0.1561 - acc: 0.9200 - val_loss: 0.1427 - val_acc: 0.9342\n",
      "Epoch 18/20\n",
      " - 11s - loss: 0.1588 - acc: 0.9192 - val_loss: 0.1480 - val_acc: 0.9341\n",
      "Epoch 19/20\n",
      " - 11s - loss: 0.1557 - acc: 0.9201 - val_loss: 0.1440 - val_acc: 0.9355\n",
      "Epoch 20/20\n",
      " - 11s - loss: 0.1578 - acc: 0.9196 - val_loss: 0.1522 - val_acc: 0.9351\n"
     ]
    }
   ],
   "source": [
    "lr = 0.005\n",
    "opt = optimizers[\"adam\"](lr=lr)\n",
    "model.compile(optimizer=opt, loss=\"binary_crossentropy\", metrics=[\"accuracy\"])\n",
    "history = model.fit(X_train, y_train, epochs=20, batch_size=512, verbose=2,\n",
    "          shuffle=True, validation_split=0.2)"
   ]
  },
  {
   "cell_type": "code",
   "execution_count": 111,
   "metadata": {},
   "outputs": [],
   "source": [
    "history = {\n",
    "    \"loss\": [0.692 , 0.6823, 0.6748, 0.6704, 0.6647, 0.6573, 0.6498, 0.6416,\n",
    "       0.6328, 0.6247, 0.6151, 0.6059, 0.597 , 0.5905, 0.5832, 0.5775,\n",
    "       0.5712, 0.5661, 0.5599, 0.5545, 0.5486, 0.5445, 0.5384, 0.534 ,\n",
    "       0.5286, 0.5253, 0.5204, 0.5149, 0.5111, 0.5056, 0.502 , 0.4975,\n",
    "       0.4935, 0.4891, 0.4854, 0.4818, 0.479 , 0.4758, 0.4709, 0.4684,\n",
    "       0.4657, 0.4627, 0.4586, 0.4553, 0.4519, 0.4487, 0.4455, 0.4413,\n",
    "       0.4384, 0.4367, 0.431 , 0.4266, 0.425 , 0.4225, 0.421 , 0.4192,\n",
    "       0.4173, 0.4154, 0.4135, 0.4127, 0.4101, 0.3809, 0.2916, 0.2668,\n",
    "       0.2584, 0.2543, 0.2481, 0.2478, 0.2459, 0.2421, 0.2395, 0.2355,\n",
    "       0.2344, 0.2325, 0.2306, 0.2297, 0.2278, 0.2237, 0.221 , 0.2196,\n",
    "       0.2182, 0.2136, 0.2091, 0.2106, 0.2637, 0.2336, 0.2172, 0.2105, \n",
    "       0.2052, 0.2028, 0.1977, 0.1961, 0.1926, 0.192 , 0.1907, 0.1885, \n",
    "       0.1868, 0.1878, 0.1853, 0.1714, 0.1661, 0.1635, 0.1617, 0.1604, \n",
    "       0.1595, 0.1588, 0.1607, 0.1572, 0.1567, 0.1546, 0.1547, 0.154 , \n",
    "       0.1536, 0.1528, 0.1517, 0.1514, 0.1496, 0.1499, 0.1505],\n",
    "    \"val_loss\": [0.6874, 0.6739, 0.6686, 0.6627, 0.6546, 0.6436, 0.6352, 0.6232,\n",
    "       0.615 , 0.6042, 0.5927, 0.5817, 0.5761, 0.5664, 0.5591, 0.5542,\n",
    "       0.5492, 0.5417, 0.5371, 0.5305, 0.5281, 0.5204, 0.5177, 0.5098,\n",
    "       0.5058, 0.5022, 0.4979, 0.4913, 0.4858, 0.4822, 0.4784, 0.4752,\n",
    "       0.4718, 0.4679, 0.4664, 0.4593, 0.4569, 0.4512, 0.4483, 0.4448,\n",
    "       0.4456, 0.4409, 0.4366, 0.4378, 0.4287, 0.4265, 0.4225, 0.4205,\n",
    "       0.4242, 0.4136, 0.4083, 0.4054, 0.4033, 0.4021, 0.4015, 0.402 ,\n",
    "       0.3973, 0.3971, 0.3954, 0.3927, 0.3686, 0.278 , 0.2469, 0.23  ,\n",
    "       0.222 , 0.2195, 0.2165, 0.211 , 0.2109, 0.2096, 0.2053, 0.2077,\n",
    "       0.2037, 0.1969, 0.1971, 0.1917, 0.1985, 0.1911, 0.1884, 0.1865,\n",
    "       0.1851, 0.1803, 0.1757, 0.1989, 0.1974, 0.186 , 0.1797, 0.1731,\n",
    "       0.1688, 0.1713, 0.1682, 0.1667, 0.1675, 0.1655, 0.1604, 0.1618,\n",
    "       0.1641, 0.1631, 0.1603, 0.1571, 0.1585, 0.1597, 0.1578, 0.1572,\n",
    "       0.1572, 0.1555, 0.1588, 0.1573, 0.1571, 0.1559, 0.1575, 0.1631,\n",
    "       0.1556, 0.1581, 0.156 , 0.1567, 0.1611, 0.1577, 0.1551]\n",
    "}"
   ]
  },
  {
   "cell_type": "code",
   "execution_count": 112,
   "metadata": {},
   "outputs": [
    {
     "data": {
      "image/png": "[encoded data removed]",
      "text/plain": [
       "<Figure size 432x288 with 1 Axes>"
      ]
     },
     "metadata": {},
     "output_type": "display_data"
    }
   ],
   "source": [
    "plt.plot(history['loss'])\n",
    "plt.plot(history['val_loss'])\n",
    "plt.title('Basic LSTM-RNN Model Loss (k40, e0.05)')\n",
    "plt.ylabel('loss')\n",
    "plt.xlabel('epoch')\n",
    "plt.legend(['train', 'test'], loc='upper left')\n",
    "plt.show()"
   ]
  },
  {
   "cell_type": "code",
   "execution_count": 114,
   "metadata": {},
   "outputs": [
    {
     "name": "stdout",
     "output_type": "stream",
     "text": [
      "Test Accuracy is 0.9357274904251098\n",
      "\n",
      "############## Example 0 ##############\n",
      "Expected:\n",
      " [1 0 1 1 0 1 1 1 0 0 1 1 0 1 1 1 0 1 0 0 1 1 0 1 1 0 0 1 1 0 1 0 1 1 0 1 1\n",
      " 1 0 1]\n",
      "Actual:\n",
      " [0 0 0 0 0 1 1 1 0 0 1 1 0 1 1 1 0 1 0 0 1 1 0 1 1 0 0 1 1 0 1 0 1 1 0 1 1\n",
      " 1 0 1]\n",
      "\n",
      "############## Example 1 ##############\n",
      "Expected:\n",
      " [0 1 0 1 0 1 0 1 1 0 0 0 0 1 1 0 0 0 1 1 1 1 1 1 0 0 0 1 0 1 1 1 0 0 1 1 0\n",
      " 1 1 0]\n",
      "Actual:\n",
      " [0 1 1 0 0 1 0 1 1 0 0 0 0 1 1 0 0 0 1 1 1 1 1 1 0 0 0 1 0 1 1 1 0 0 1 1 0\n",
      " 1 1 0]\n",
      "\n",
      "############## Example 2 ##############\n",
      "Expected:\n",
      " [0 0 0 0 1 0 0 0 1 0 0 1 1 1 0 0 1 1 0 0 0 0 1 0 1 0 0 1 1 0 0 0 0 1 0 1 1\n",
      " 0 0 1]\n",
      "Actual:\n",
      " [0 0 0 1 1 0 0 0 1 0 0 1 1 1 0 0 1 1 0 0 0 0 1 0 1 0 0 1 1 0 0 0 0 1 0 1 1\n",
      " 0 0 1]\n",
      "\n",
      "############## Example 3 ##############\n",
      "Expected:\n",
      " [1 0 0 1 1 0 0 1 0 1 0 1 1 1 1 1 0 0 1 1 1 1 0 0 0 0 0 0 0 0 1 1 1 1 0 0 1\n",
      " 0 1 1]\n",
      "Actual:\n",
      " [0 0 0 1 1 0 0 1 0 1 0 1 1 1 1 1 0 0 1 1 1 1 0 0 0 0 0 0 0 0 1 1 1 1 0 1 1\n",
      " 0 1 1]\n",
      "\n",
      "############## Example 4 ##############\n",
      "Expected:\n",
      " [0 0 0 0 1 0 1 1 1 1 0 1 0 1 0 1 1 0 1 1 1 1 1 0 1 1 1 1 1 0 0 0 0 0 1 0 1\n",
      " 0 1 1]\n",
      "Actual:\n",
      " [0 0 0 1 1 0 1 1 1 1 0 1 0 1 0 1 1 0 1 1 1 1 1 0 1 1 1 1 1 0 0 0 0 0 1 0 1\n",
      " 0 1 1]\n"
     ]
    }
   ],
   "source": [
    "print(\"Test Accuracy is\", model_accuracy(model, X_test, y_test, argmax=False))\n",
    "pred_vs_truth(model, X_test, y_test, n_show=5, y_truth_is_onehot=True)"
   ]
  },
  {
   "cell_type": "code",
   "execution_count": 113,
   "metadata": {},
   "outputs": [],
   "source": [
    "# model.save(\"../models/rnn_k40_e0.05.h5\")\n",
    "# experiment_results[\"k40_e0.05\"] = {\n",
    "#     \"model\": model,\n",
    "#     \"history\": history\n",
    "# }"
   ]
  },
  {
   "cell_type": "code",
   "execution_count": 115,
   "metadata": {},
   "outputs": [
    {
     "data": {
      "image/png": "[encoded data removed]",
      "text/plain": [
       "<Figure size 432x288 with 1 Axes>"
      ]
     },
     "metadata": {},
     "output_type": "display_data"
    }
   ],
   "source": [
    "for name, exp in experiment_results.items():\n",
    "    history = exp[\"history\"]\n",
    "    if type(history) != dict:\n",
    "        history = history.history\n",
    "    plt.plot(history['loss'], label=\"{0} loss\".format(name))\n",
    "    plt.plot(history['val_loss'], label=\"{0} val_loss\".format(name))\n",
    "    plt.xlabel('epoch')\n",
    "    plt.ylabel('loss')\n",
    "\n",
    "plt.title('Basic LSTM-RNN Model Loss')\n",
    "plt.legend()\n",
    "plt.show()"
   ]
  },
  {
   "cell_type": "markdown",
   "metadata": {},
   "source": [
    "k10, e0.15"
   ]
  },
  {
   "cell_type": "code",
   "execution_count": 121,
   "metadata": {},
   "outputs": [],
   "source": [
    "train, test, original = build_data_from_path(\"../data/dataset_n25000_k10_e0.15.pkl\")\n",
    "X_train, y_train = train\n",
    "X_test, y_test = test\n",
    "X, y, y_oh, y_viterbi_decoded = original"
   ]
  },
  {
   "cell_type": "code",
   "execution_count": 134,
   "metadata": {},
   "outputs": [
    {
     "name": "stdout",
     "output_type": "stream",
     "text": [
      "Train on 16000 samples, validate on 4000 samples\n",
      "Epoch 1/50\n",
      " - 6s - loss: 0.6551 - acc: 0.5526 - val_loss: 0.6105 - val_acc: 0.5947\n",
      "Epoch 2/50\n",
      " - 3s - loss: 0.6049 - acc: 0.5988 - val_loss: 0.5741 - val_acc: 0.6161\n",
      "Epoch 3/50\n",
      " - 3s - loss: 0.5868 - acc: 0.6139 - val_loss: 0.5615 - val_acc: 0.6272\n",
      "Epoch 4/50\n",
      " - 3s - loss: 0.5742 - acc: 0.6256 - val_loss: 0.5491 - val_acc: 0.6406\n",
      "Epoch 5/50\n",
      " - 3s - loss: 0.5627 - acc: 0.6363 - val_loss: 0.5371 - val_acc: 0.6564\n",
      "Epoch 6/50\n",
      " - 3s - loss: 0.5494 - acc: 0.6504 - val_loss: 0.5251 - val_acc: 0.6682\n",
      "Epoch 7/50\n",
      " - 3s - loss: 0.5424 - acc: 0.6591 - val_loss: 0.5150 - val_acc: 0.6751\n",
      "Epoch 8/50\n",
      " - 3s - loss: 0.5303 - acc: 0.6676 - val_loss: 0.5184 - val_acc: 0.6721\n",
      "Epoch 9/50\n",
      " - 3s - loss: 0.5249 - acc: 0.6736 - val_loss: 0.4963 - val_acc: 0.6952\n",
      "Epoch 10/50\n",
      " - 3s - loss: 0.5118 - acc: 0.6871 - val_loss: 0.4869 - val_acc: 0.7049\n",
      "Epoch 11/50\n",
      " - 3s - loss: 0.5055 - acc: 0.6940 - val_loss: 0.4837 - val_acc: 0.7184\n",
      "Epoch 12/50\n",
      " - 3s - loss: 0.4918 - acc: 0.7107 - val_loss: 0.4637 - val_acc: 0.7369\n",
      "Epoch 13/50\n",
      " - 3s - loss: 0.4781 - acc: 0.7273 - val_loss: 0.4585 - val_acc: 0.7486\n",
      "Epoch 14/50\n",
      " - 3s - loss: 0.4664 - acc: 0.7418 - val_loss: 0.4276 - val_acc: 0.7726\n",
      "Epoch 15/50\n",
      " - 3s - loss: 0.4540 - acc: 0.7548 - val_loss: 0.4117 - val_acc: 0.7920\n",
      "Epoch 16/50\n",
      " - 3s - loss: 0.4328 - acc: 0.7764 - val_loss: 0.3889 - val_acc: 0.8112\n",
      "Epoch 17/50\n",
      " - 3s - loss: 0.4110 - acc: 0.7939 - val_loss: 0.3740 - val_acc: 0.8216\n",
      "Epoch 18/50\n",
      " - 3s - loss: 0.3953 - acc: 0.8048 - val_loss: 0.3484 - val_acc: 0.8381\n",
      "Epoch 19/50\n",
      " - 3s - loss: 0.3723 - acc: 0.8210 - val_loss: 0.3386 - val_acc: 0.8451\n",
      "Epoch 20/50\n",
      " - 3s - loss: 0.3482 - acc: 0.8380 - val_loss: 0.2891 - val_acc: 0.8778\n",
      "Epoch 21/50\n",
      " - 3s - loss: 0.3260 - acc: 0.8518 - val_loss: 0.2871 - val_acc: 0.8801\n",
      "Epoch 22/50\n",
      " - 3s - loss: 0.3117 - acc: 0.8619 - val_loss: 0.2573 - val_acc: 0.8963\n",
      "Epoch 23/50\n",
      " - 3s - loss: 0.2955 - acc: 0.8722 - val_loss: 0.2502 - val_acc: 0.9009\n",
      "Epoch 24/50\n",
      " - 3s - loss: 0.2813 - acc: 0.8791 - val_loss: 0.2298 - val_acc: 0.9115\n",
      "Epoch 25/50\n",
      " - 3s - loss: 0.2628 - acc: 0.8899 - val_loss: 0.2161 - val_acc: 0.9162\n",
      "Epoch 26/50\n",
      " - 3s - loss: 0.2516 - acc: 0.8966 - val_loss: 0.2206 - val_acc: 0.9168\n",
      "Epoch 27/50\n",
      " - 3s - loss: 0.2431 - acc: 0.9007 - val_loss: 0.2126 - val_acc: 0.9186\n",
      "Epoch 28/50\n",
      " - 3s - loss: 0.2306 - acc: 0.9064 - val_loss: 0.2224 - val_acc: 0.9169\n",
      "Epoch 29/50\n",
      " - 3s - loss: 0.2253 - acc: 0.9099 - val_loss: 0.2136 - val_acc: 0.9169\n",
      "Epoch 30/50\n",
      " - 3s - loss: 0.2238 - acc: 0.9097 - val_loss: 0.2040 - val_acc: 0.9210\n",
      "Epoch 31/50\n",
      " - 3s - loss: 0.2138 - acc: 0.9145 - val_loss: 0.2042 - val_acc: 0.9216\n",
      "Epoch 32/50\n",
      " - 3s - loss: 0.2109 - acc: 0.9155 - val_loss: 0.1989 - val_acc: 0.9224\n",
      "Epoch 33/50\n",
      " - 3s - loss: 0.2029 - acc: 0.9178 - val_loss: 0.2016 - val_acc: 0.9237\n",
      "Epoch 34/50\n",
      " - 3s - loss: 0.1986 - acc: 0.9202 - val_loss: 0.2176 - val_acc: 0.9188\n",
      "Epoch 35/50\n",
      " - 3s - loss: 0.1911 - acc: 0.9230 - val_loss: 0.2161 - val_acc: 0.9219\n",
      "Epoch 36/50\n",
      " - 3s - loss: 0.1902 - acc: 0.9229 - val_loss: 0.2114 - val_acc: 0.9222\n",
      "Epoch 37/50\n",
      " - 3s - loss: 0.1844 - acc: 0.9265 - val_loss: 0.2180 - val_acc: 0.9231\n",
      "Epoch 38/50\n",
      " - 3s - loss: 0.1843 - acc: 0.9263 - val_loss: 0.2152 - val_acc: 0.9196\n",
      "Epoch 39/50\n",
      " - 3s - loss: 0.1801 - acc: 0.9277 - val_loss: 0.2185 - val_acc: 0.9232\n",
      "Epoch 40/50\n",
      " - 3s - loss: 0.1730 - acc: 0.9314 - val_loss: 0.2023 - val_acc: 0.9245\n",
      "Epoch 41/50\n",
      " - 3s - loss: 0.1702 - acc: 0.9315 - val_loss: 0.2081 - val_acc: 0.9223\n",
      "Epoch 42/50\n",
      " - 3s - loss: 0.1776 - acc: 0.9282 - val_loss: 0.2080 - val_acc: 0.9232\n",
      "Epoch 43/50\n",
      " - 3s - loss: 0.1676 - acc: 0.9321 - val_loss: 0.2167 - val_acc: 0.9229\n",
      "Epoch 44/50\n",
      " - 3s - loss: 0.1594 - acc: 0.9361 - val_loss: 0.2245 - val_acc: 0.9236\n",
      "Epoch 45/50\n",
      " - 3s - loss: 0.1614 - acc: 0.9350 - val_loss: 0.2114 - val_acc: 0.9244\n",
      "Epoch 46/50\n",
      " - 3s - loss: 0.1564 - acc: 0.9373 - val_loss: 0.2187 - val_acc: 0.9234\n",
      "Epoch 47/50\n",
      " - 3s - loss: 0.1568 - acc: 0.9369 - val_loss: 0.2437 - val_acc: 0.9201\n",
      "Epoch 48/50\n",
      " - 3s - loss: 0.1507 - acc: 0.9390 - val_loss: 0.2504 - val_acc: 0.9203\n",
      "Epoch 49/50\n",
      " - 3s - loss: 0.1504 - acc: 0.9401 - val_loss: 0.2178 - val_acc: 0.9197\n",
      "Epoch 50/50\n",
      " - 3s - loss: 0.1466 - acc: 0.9413 - val_loss: 0.2419 - val_acc: 0.9226\n"
     ]
    }
   ],
   "source": [
    "lr = 0.01\n",
    "model = Sequential()\n",
    "\n",
    "model.add(Embedding(2, 10))\n",
    "model.add(Dropout(0.5))\n",
    "\n",
    "model.add(LSTM(200, activation=\"tanh\", input_shape=X_train.shape[1:]))\n",
    "model.add(Dropout(0.5))\n",
    "\n",
    "model.add(Dense(200, activation=\"relu\"))\n",
    "model.add(Dropout(0.5))\n",
    "\n",
    "model.add(Dense(20, activation=\"sigmoid\"))\n",
    "model.add(Reshape((10,2)))\n",
    "\n",
    "opt = optimizers[\"adam\"](lr=lr)\n",
    "model.compile(optimizer=opt, loss=\"binary_crossentropy\", metrics=[\"accuracy\"])\n",
    "\n",
    "history = model.fit(X_train, y_train, epochs=50, batch_size=512, verbose=2,\n",
    "          shuffle=True, validation_split=0.2)"
   ]
  },
  {
   "cell_type": "code",
   "execution_count": 135,
   "metadata": {},
   "outputs": [],
   "source": [
    "experiment_results2 = dict()"
   ]
  },
  {
   "cell_type": "code",
   "execution_count": 136,
   "metadata": {},
   "outputs": [
    {
     "data": {
      "image/png": "[encoded data removed]",
      "text/plain": [
       "<Figure size 432x288 with 1 Axes>"
      ]
     },
     "metadata": {},
     "output_type": "display_data"
    }
   ],
   "source": [
    "plt.plot(history.history['loss'])\n",
    "plt.plot(history.history['val_loss'])\n",
    "plt.title('Basic LSTM-RNN Model Loss (k10, e0.15)')\n",
    "plt.ylabel('loss')\n",
    "plt.xlabel('epoch')\n",
    "plt.legend(['train', 'test'], loc='upper left')\n",
    "plt.show()"
   ]
  },
  {
   "cell_type": "code",
   "execution_count": 137,
   "metadata": {},
   "outputs": [],
   "source": [
    "# model.save(\"../models/rnn_k10_e0.15.h5\")\n",
    "# experiment_results2[\"k10_e0.15\"] = {\n",
    "#     \"model\": model,\n",
    "#     \"history\": history\n",
    "# }"
   ]
  },
  {
   "cell_type": "code",
   "execution_count": 138,
   "metadata": {},
   "outputs": [
    {
     "name": "stdout",
     "output_type": "stream",
     "text": [
      "Test Accuracy is 0.9241900190353394\n",
      "\n",
      "############## Example 0 ##############\n",
      "Expected:\n",
      " [0 1 0 1 1 1 1 1 0 0]\n",
      "Actual:\n",
      " [0 1 0 1 1 1 1 1 0 0]\n",
      "\n",
      "############## Example 1 ##############\n",
      "Expected:\n",
      " [0 0 0 0 1 1 1 1 0 0]\n",
      "Actual:\n",
      " [0 0 1 0 1 1 1 1 0 0]\n",
      "\n",
      "############## Example 2 ##############\n",
      "Expected:\n",
      " [0 1 1 0 1 1 0 1 0 0]\n",
      "Actual:\n",
      " [0 1 1 0 1 1 0 1 0 0]\n",
      "\n",
      "############## Example 3 ##############\n",
      "Expected:\n",
      " [0 0 1 1 1 1 0 0 0 0]\n",
      "Actual:\n",
      " [0 0 0 1 1 1 0 0 0 0]\n",
      "\n",
      "############## Example 4 ##############\n",
      "Expected:\n",
      " [1 0 1 0 0 1 0 0 0 0]\n",
      "Actual:\n",
      " [1 0 1 0 0 1 0 0 0 0]\n"
     ]
    }
   ],
   "source": [
    "print(\"Test Accuracy is\", model_accuracy(model, X_test, y_test, argmax=False))\n",
    "pred_vs_truth(model, X_test, y_test, n_show=5, y_truth_is_onehot=True)"
   ]
  },
  {
   "cell_type": "markdown",
   "metadata": {},
   "source": [
    "k20 e0.15"
   ]
  },
  {
   "cell_type": "code",
   "execution_count": 147,
   "metadata": {},
   "outputs": [],
   "source": [
    "train, test, original = build_data_from_path(\"../data/dataset_n25000_k20_e0.15.pkl\")\n",
    "X_train, y_train = train\n",
    "X_test, y_test = test\n",
    "X, y, y_oh, y_viterbi_decoded = original"
   ]
  },
  {
   "cell_type": "code",
   "execution_count": 148,
   "metadata": {},
   "outputs": [
    {
     "name": "stdout",
     "output_type": "stream",
     "text": [
      "Train on 16000 samples, validate on 4000 samples\n",
      "Epoch 1/50\n",
      " - 12s - loss: 0.6730 - acc: 0.5271 - val_loss: 0.6492 - val_acc: 0.5484\n",
      "Epoch 2/50\n",
      " - 8s - loss: 0.6467 - acc: 0.5526 - val_loss: 0.6364 - val_acc: 0.5597\n",
      "Epoch 3/50\n",
      " - 8s - loss: 0.6393 - acc: 0.5583 - val_loss: 0.6314 - val_acc: 0.5639\n",
      "Epoch 4/50\n",
      " - 8s - loss: 0.6358 - acc: 0.5618 - val_loss: 0.6300 - val_acc: 0.5619\n",
      "Epoch 5/50\n",
      " - 8s - loss: 0.6318 - acc: 0.5668 - val_loss: 0.6195 - val_acc: 0.5750\n",
      "Epoch 6/50\n",
      " - 8s - loss: 0.6257 - acc: 0.5730 - val_loss: 0.6100 - val_acc: 0.5820\n",
      "Epoch 7/50\n",
      " - 8s - loss: 0.6214 - acc: 0.5770 - val_loss: 0.6111 - val_acc: 0.5791\n",
      "Epoch 8/50\n",
      " - 8s - loss: 0.6166 - acc: 0.5819 - val_loss: 0.6046 - val_acc: 0.5879\n",
      "Epoch 9/50\n",
      " - 8s - loss: 0.6113 - acc: 0.5874 - val_loss: 0.5951 - val_acc: 0.5969\n",
      "Epoch 10/50\n",
      " - 8s - loss: 0.6048 - acc: 0.5939 - val_loss: 0.5898 - val_acc: 0.6034\n",
      "Epoch 11/50\n",
      " - 8s - loss: 0.5988 - acc: 0.5997 - val_loss: 0.5892 - val_acc: 0.6062\n",
      "Epoch 12/50\n",
      " - 8s - loss: 0.5950 - acc: 0.6033 - val_loss: 0.5830 - val_acc: 0.6106\n",
      "Epoch 13/50\n",
      " - 8s - loss: 0.5885 - acc: 0.6108 - val_loss: 0.5759 - val_acc: 0.6169\n",
      "Epoch 14/50\n",
      " - 8s - loss: 0.5829 - acc: 0.6159 - val_loss: 0.5675 - val_acc: 0.6274\n",
      "Epoch 15/50\n",
      " - 8s - loss: 0.5763 - acc: 0.6231 - val_loss: 0.5624 - val_acc: 0.6291\n",
      "Epoch 16/50\n",
      " - 8s - loss: 0.5711 - acc: 0.6280 - val_loss: 0.5623 - val_acc: 0.6288\n",
      "Epoch 17/50\n",
      " - 8s - loss: 0.5691 - acc: 0.6306 - val_loss: 0.5566 - val_acc: 0.6371\n",
      "Epoch 18/50\n",
      " - 8s - loss: 0.5594 - acc: 0.6383 - val_loss: 0.5445 - val_acc: 0.6483\n",
      "Epoch 19/50\n",
      " - 8s - loss: 0.5543 - acc: 0.6441 - val_loss: 0.5428 - val_acc: 0.6510\n",
      "Epoch 20/50\n",
      " - 8s - loss: 0.5486 - acc: 0.6500 - val_loss: 0.5377 - val_acc: 0.6522\n",
      "Epoch 21/50\n",
      " - 8s - loss: 0.5442 - acc: 0.6528 - val_loss: 0.5337 - val_acc: 0.6598\n",
      "Epoch 22/50\n",
      " - 8s - loss: 0.5358 - acc: 0.6602 - val_loss: 0.5249 - val_acc: 0.6653\n",
      "Epoch 23/50\n",
      " - 8s - loss: 0.5305 - acc: 0.6649 - val_loss: 0.5203 - val_acc: 0.6698\n",
      "Epoch 24/50\n",
      " - 8s - loss: 0.5239 - acc: 0.6712 - val_loss: 0.5210 - val_acc: 0.6717\n",
      "Epoch 25/50\n",
      " - 8s - loss: 0.5204 - acc: 0.6740 - val_loss: 0.5180 - val_acc: 0.6729\n",
      "Epoch 26/50\n",
      " - 8s - loss: 0.5167 - acc: 0.6773 - val_loss: 0.5146 - val_acc: 0.6779\n",
      "Epoch 27/50\n",
      " - 8s - loss: 0.5113 - acc: 0.6833 - val_loss: 0.5053 - val_acc: 0.6868\n",
      "Epoch 28/50\n",
      " - 8s - loss: 0.5045 - acc: 0.6886 - val_loss: 0.5031 - val_acc: 0.6878\n",
      "Epoch 29/50\n",
      " - 8s - loss: 0.5038 - acc: 0.6892 - val_loss: 0.4997 - val_acc: 0.6932\n",
      "Epoch 30/50\n",
      " - 8s - loss: 0.4966 - acc: 0.6952 - val_loss: 0.4984 - val_acc: 0.6964\n",
      "Epoch 31/50\n",
      " - 8s - loss: 0.4894 - acc: 0.7020 - val_loss: 0.4864 - val_acc: 0.7082\n",
      "Epoch 32/50\n",
      " - 8s - loss: 0.4813 - acc: 0.7101 - val_loss: 0.4794 - val_acc: 0.7106\n",
      "Epoch 33/50\n",
      " - 8s - loss: 0.4754 - acc: 0.7148 - val_loss: 0.4773 - val_acc: 0.7145\n",
      "Epoch 34/50\n",
      " - 8s - loss: 0.4670 - acc: 0.7228 - val_loss: 0.4673 - val_acc: 0.7308\n",
      "Epoch 35/50\n",
      " - 8s - loss: 0.4552 - acc: 0.7339 - val_loss: 0.4542 - val_acc: 0.7412\n",
      "Epoch 36/50\n",
      " - 8s - loss: 0.4539 - acc: 0.7396 - val_loss: 0.4588 - val_acc: 0.7391\n",
      "Epoch 37/50\n",
      " - 8s - loss: 0.4422 - acc: 0.7462 - val_loss: 0.4423 - val_acc: 0.7530\n",
      "Epoch 38/50\n",
      " - 8s - loss: 0.4315 - acc: 0.7562 - val_loss: 0.4307 - val_acc: 0.7635\n",
      "Epoch 39/50\n",
      " - 8s - loss: 0.4211 - acc: 0.7652 - val_loss: 0.4290 - val_acc: 0.7722\n",
      "Epoch 40/50\n",
      " - 8s - loss: 0.4124 - acc: 0.7731 - val_loss: 0.4309 - val_acc: 0.7730\n",
      "Epoch 41/50\n",
      " - 8s - loss: 0.4071 - acc: 0.7767 - val_loss: 0.4233 - val_acc: 0.7804\n",
      "Epoch 42/50\n",
      " - 8s - loss: 0.3988 - acc: 0.7827 - val_loss: 0.4151 - val_acc: 0.7883\n",
      "Epoch 43/50\n",
      " - 8s - loss: 0.3938 - acc: 0.7897 - val_loss: 0.4125 - val_acc: 0.7939\n",
      "Epoch 44/50\n",
      " - 8s - loss: 0.3874 - acc: 0.7959 - val_loss: 0.4060 - val_acc: 0.7986\n",
      "Epoch 45/50\n",
      " - 8s - loss: 0.3799 - acc: 0.8018 - val_loss: 0.3980 - val_acc: 0.8041\n",
      "Epoch 46/50\n",
      " - 8s - loss: 0.3712 - acc: 0.8086 - val_loss: 0.3991 - val_acc: 0.8069\n",
      "Epoch 47/50\n",
      " - 8s - loss: 0.3681 - acc: 0.8129 - val_loss: 0.3922 - val_acc: 0.8148\n",
      "Epoch 48/50\n",
      " - 8s - loss: 0.3571 - acc: 0.8211 - val_loss: 0.3886 - val_acc: 0.8173\n",
      "Epoch 49/50\n",
      " - 8s - loss: 0.3505 - acc: 0.8255 - val_loss: 0.3845 - val_acc: 0.8269\n",
      "Epoch 50/50\n",
      " - 8s - loss: 0.3404 - acc: 0.8311 - val_loss: 0.3926 - val_acc: 0.8304\n"
     ]
    }
   ],
   "source": [
    "lr = 0.01\n",
    "model = Sequential()\n",
    "\n",
    "model.add(Embedding(4, 10))\n",
    "model.add(Dropout(0.5))\n",
    "\n",
    "model.add(LSTM(400, activation=\"tanh\", input_shape=X_train.shape[1:]))\n",
    "model.add(Dropout(0.5))\n",
    "\n",
    "model.add(Dense(400, activation=\"relu\"))\n",
    "model.add(Dropout(0.5))\n",
    "\n",
    "model.add(Dense(40, activation=\"sigmoid\"))\n",
    "model.add(Reshape((20,2)))\n",
    "\n",
    "opt = optimizers[\"adam\"](lr=lr)\n",
    "model.compile(optimizer=opt, loss=\"binary_crossentropy\", metrics=[\"accuracy\"])\n",
    "\n",
    "history = model.fit(X_train, y_train, epochs=50, batch_size=512, verbose=2,\n",
    "          shuffle=True, validation_split=0.2)"
   ]
  },
  {
   "cell_type": "code",
   "execution_count": 149,
   "metadata": {},
   "outputs": [
    {
     "data": {
      "image/png": "[encoded data removed]",
      "text/plain": [
       "<Figure size 432x288 with 1 Axes>"
      ]
     },
     "metadata": {},
     "output_type": "display_data"
    }
   ],
   "source": [
    "plt.plot(history.history['loss'])\n",
    "plt.plot(history.history['val_loss'])\n",
    "plt.title('Basic LSTM-RNN Model Loss (k20, e0.15)')\n",
    "plt.ylabel('loss')\n",
    "plt.xlabel('epoch')\n",
    "plt.legend(['train', 'test'], loc='upper left')\n",
    "plt.show()"
   ]
  },
  {
   "cell_type": "code",
   "execution_count": 152,
   "metadata": {},
   "outputs": [
    {
     "name": "stdout",
     "output_type": "stream",
     "text": [
      "Train on 16000 samples, validate on 4000 samples\n",
      "Epoch 1/20\n",
      " - 12s - loss: 0.3373 - acc: 0.8336 - val_loss: 0.3760 - val_acc: 0.8363\n",
      "Epoch 2/20\n",
      " - 8s - loss: 0.3139 - acc: 0.8464 - val_loss: 0.3689 - val_acc: 0.8371\n",
      "Epoch 3/20\n",
      " - 8s - loss: 0.3053 - acc: 0.8516 - val_loss: 0.3663 - val_acc: 0.8424\n",
      "Epoch 4/20\n",
      " - 8s - loss: 0.3054 - acc: 0.8522 - val_loss: 0.3807 - val_acc: 0.8421\n",
      "Epoch 5/20\n",
      " - 8s - loss: 0.2946 - acc: 0.8586 - val_loss: 0.3667 - val_acc: 0.8464\n",
      "Epoch 6/20\n",
      " - 8s - loss: 0.2935 - acc: 0.8598 - val_loss: 0.3749 - val_acc: 0.8451\n",
      "Epoch 7/20\n",
      " - 8s - loss: 0.2831 - acc: 0.8656 - val_loss: 0.3627 - val_acc: 0.8478\n",
      "Epoch 8/20\n",
      " - 8s - loss: 0.2798 - acc: 0.8675 - val_loss: 0.3599 - val_acc: 0.8545\n",
      "Epoch 9/20\n",
      " - 8s - loss: 0.2730 - acc: 0.8723 - val_loss: 0.3540 - val_acc: 0.8536\n",
      "Epoch 10/20\n",
      " - 8s - loss: 0.2660 - acc: 0.8757 - val_loss: 0.3747 - val_acc: 0.8527\n",
      "Epoch 11/20\n",
      " - 8s - loss: 0.2683 - acc: 0.8760 - val_loss: 0.3544 - val_acc: 0.8587\n",
      "Epoch 12/20\n",
      " - 8s - loss: 0.2576 - acc: 0.8822 - val_loss: 0.3566 - val_acc: 0.8587\n",
      "Epoch 13/20\n",
      " - 8s - loss: 0.2507 - acc: 0.8854 - val_loss: 0.3652 - val_acc: 0.8626\n",
      "Epoch 14/20\n",
      " - 8s - loss: 0.2496 - acc: 0.8867 - val_loss: 0.3432 - val_acc: 0.8609\n",
      "Epoch 15/20\n",
      " - 8s - loss: 0.2485 - acc: 0.8875 - val_loss: 0.3663 - val_acc: 0.8645\n",
      "Epoch 16/20\n",
      " - 8s - loss: 0.2392 - acc: 0.8917 - val_loss: 0.3802 - val_acc: 0.8649\n",
      "Epoch 17/20\n",
      " - 8s - loss: 0.2347 - acc: 0.8953 - val_loss: 0.3588 - val_acc: 0.8676\n",
      "Epoch 18/20\n",
      " - 8s - loss: 0.2364 - acc: 0.8949 - val_loss: 0.3629 - val_acc: 0.8717\n",
      "Epoch 19/20\n",
      " - 8s - loss: 0.2261 - acc: 0.9003 - val_loss: 0.3689 - val_acc: 0.8712\n",
      "Epoch 20/20\n",
      " - 8s - loss: 0.2260 - acc: 0.9019 - val_loss: 0.3465 - val_acc: 0.8721\n"
     ]
    }
   ],
   "source": [
    "opt = optimizers[\"adam\"](lr=lr)\n",
    "model.compile(optimizer=opt, loss=\"binary_crossentropy\", metrics=[\"accuracy\"])\n",
    "\n",
    "history2 = model.fit(X_train, y_train, epochs=20, batch_size=512, verbose=2,\n",
    "          shuffle=True, validation_split=0.2)"
   ]
  },
  {
   "cell_type": "code",
   "execution_count": 154,
   "metadata": {},
   "outputs": [],
   "source": [
    "history3 = {\n",
    "    \"loss\": history.history[\"loss\"] + history2.history[\"loss\"],\n",
    "    \"val_loss\": history.history[\"val_loss\"] + history2.history[\"val_loss\"]\n",
    "}"
   ]
  },
  {
   "cell_type": "code",
   "execution_count": 156,
   "metadata": {},
   "outputs": [],
   "source": [
    "# model.save(\"../models/rnn_k20_e0.15.h5\")\n",
    "# experiment_results2[\"k20_e0.15\"] = {\n",
    "#     \"model\": model,\n",
    "#     \"history\": history3\n",
    "# }"
   ]
  },
  {
   "cell_type": "code",
   "execution_count": 160,
   "metadata": {},
   "outputs": [
    {
     "name": "stdout",
     "output_type": "stream",
     "text": [
      "Train on 16000 samples, validate on 4000 samples\n",
      "Epoch 1/15\n",
      " - 9s - loss: 0.1556 - acc: 0.9352 - val_loss: 0.4552 - val_acc: 0.8848\n",
      "Epoch 2/15\n",
      " - 8s - loss: 0.1507 - acc: 0.9382 - val_loss: 0.4273 - val_acc: 0.8863\n",
      "Epoch 3/15\n",
      " - 8s - loss: 0.1510 - acc: 0.9383 - val_loss: 0.4348 - val_acc: 0.8862\n",
      "Epoch 4/15\n",
      " - 8s - loss: 0.1498 - acc: 0.9390 - val_loss: 0.4587 - val_acc: 0.8869\n",
      "Epoch 5/15\n",
      " - 8s - loss: 0.1483 - acc: 0.9401 - val_loss: 0.4565 - val_acc: 0.8866\n",
      "Epoch 6/15\n",
      " - 8s - loss: 0.1566 - acc: 0.9358 - val_loss: 0.3938 - val_acc: 0.8859\n",
      "Epoch 7/15\n",
      " - 8s - loss: 0.1606 - acc: 0.9346 - val_loss: 0.4327 - val_acc: 0.8870\n",
      "Epoch 8/15\n",
      " - 8s - loss: 0.1445 - acc: 0.9413 - val_loss: 0.4305 - val_acc: 0.8868\n",
      "Epoch 9/15\n",
      " - 8s - loss: 0.1397 - acc: 0.9437 - val_loss: 0.4093 - val_acc: 0.8879\n",
      "Epoch 10/15\n",
      " - 8s - loss: 0.1396 - acc: 0.9437 - val_loss: 0.4360 - val_acc: 0.8889\n",
      "Epoch 11/15\n",
      " - 8s - loss: 0.1337 - acc: 0.9460 - val_loss: 0.4692 - val_acc: 0.8889\n",
      "Epoch 12/15\n",
      " - 8s - loss: 0.1336 - acc: 0.9461 - val_loss: 0.4808 - val_acc: 0.8894\n",
      "Epoch 13/15\n",
      " - 8s - loss: 0.1342 - acc: 0.9466 - val_loss: 0.4192 - val_acc: 0.8867\n",
      "Epoch 14/15\n",
      " - 8s - loss: 0.1308 - acc: 0.9475 - val_loss: 0.5016 - val_acc: 0.8848\n",
      "Epoch 15/15\n",
      " - 8s - loss: 0.1306 - acc: 0.9481 - val_loss: 0.4448 - val_acc: 0.8881\n"
     ]
    }
   ],
   "source": [
    "history4 = model.fit(X_train, y_train, epochs=15, batch_size=512, verbose=2,\n",
    "          shuffle=True, validation_split=0.2)"
   ]
  },
  {
   "cell_type": "code",
   "execution_count": 163,
   "metadata": {},
   "outputs": [],
   "source": [
    "history5 = {\n",
    "    \"loss\": history3[\"loss\"] + history4.history[\"loss\"],\n",
    "    \"val_loss\": history3[\"val_loss\"] + history4.history[\"val_loss\"]\n",
    "}"
   ]
  },
  {
   "cell_type": "code",
   "execution_count": 164,
   "metadata": {},
   "outputs": [
    {
     "data": {
      "image/png": "[encoded data removed]",
      "text/plain": [
       "<Figure size 432x288 with 1 Axes>"
      ]
     },
     "metadata": {},
     "output_type": "display_data"
    }
   ],
   "source": [
    "plt.plot(history5['loss'])\n",
    "plt.plot(history5['val_loss'])\n",
    "plt.title('Basic LSTM-RNN Model Loss (k20, e0.15)')\n",
    "plt.ylabel('loss')\n",
    "plt.xlabel('epoch')\n",
    "plt.legend(['train', 'test'], loc='upper left')\n",
    "plt.show()"
   ]
  },
  {
   "cell_type": "code",
   "execution_count": 171,
   "metadata": {},
   "outputs": [],
   "source": [
    "# model.save(\"../models/rnn_k20_e0.15.h5\")\n",
    "# experiment_results2[\"k20_e0.15\"] = {\n",
    "#     \"model\": model,\n",
    "#     \"history\": history5\n",
    "# }"
   ]
  },
  {
   "cell_type": "code",
   "execution_count": 170,
   "metadata": {},
   "outputs": [
    {
     "name": "stdout",
     "output_type": "stream",
     "text": [
      "Test Accuracy is 0.8867800210952759\n",
      "\n",
      "############## Example 0 ##############\n",
      "Expected:\n",
      " [1 1 0 0 1 0 1 1 1 0 1 0 0 0 1 1 0 0 0 1]\n",
      "Actual:\n",
      " [1 1 0 0 1 0 1 1 1 0 1 0 0 0 1 1 0 0 0 0]\n",
      "\n",
      "############## Example 1 ##############\n",
      "Expected:\n",
      " [0 0 1 0 1 0 0 1 1 0 1 0 0 1 0 0 1 1 1 0]\n",
      "Actual:\n",
      " [0 0 1 0 1 0 0 1 1 0 1 0 0 1 0 0 1 1 1 0]\n",
      "\n",
      "############## Example 2 ##############\n",
      "Expected:\n",
      " [0 0 1 0 0 0 1 1 1 1 1 1 1 0 0 1 0 1 1 1]\n",
      "Actual:\n",
      " [0 0 1 0 0 0 1 0 1 1 1 1 1 0 0 1 0 1 1 1]\n",
      "\n",
      "############## Example 3 ##############\n",
      "Expected:\n",
      " [1 0 0 1 1 1 1 1 1 1 0 0 1 0 1 1 1 0 0 0]\n",
      "Actual:\n",
      " [1 0 0 1 1 1 1 1 1 1 0 0 1 0 1 1 1 0 0 0]\n",
      "\n",
      "############## Example 4 ##############\n",
      "Expected:\n",
      " [0 0 1 1 0 0 1 0 1 0 1 0 1 0 1 0 0 1 0 1]\n",
      "Actual:\n",
      " [1 1 0 1 0 0 1 0 1 1 0 0 1 0 1 0 0 1 0 1]\n"
     ]
    }
   ],
   "source": [
    "print(\"Test Accuracy is\", model_accuracy(model, X_test, y_test, argmax=False))\n",
    "pred_vs_truth(model, X_test, y_test, n_show=5, y_truth_is_onehot=True)"
   ]
  },
  {
   "cell_type": "code",
   "execution_count": 172,
   "metadata": {},
   "outputs": [
    {
     "data": {
      "image/png": "[encoded data removed]",
      "text/plain": [
       "<Figure size 432x288 with 1 Axes>"
      ]
     },
     "metadata": {},
     "output_type": "display_data"
    }
   ],
   "source": [
    "for name, exp in experiment_results2.items():\n",
    "    history = exp[\"history\"]\n",
    "    if type(history) != dict:\n",
    "        history = history.history\n",
    "    plt.plot(history['loss'], label=\"{0} loss\".format(name))\n",
    "    plt.plot(history['val_loss'], label=\"{0} val_loss\".format(name))\n",
    "    plt.xlabel('epoch')\n",
    "    plt.ylabel('loss')\n",
    "\n",
    "plt.title('Basic LSTM-RNN Model Loss')\n",
    "plt.legend()\n",
    "plt.show()"
   ]
  },
  {
   "cell_type": "markdown",
   "metadata": {},
   "source": [
    "k10-90 e0.05"
   ]
  },
  {
   "cell_type": "code",
   "execution_count": null,
   "metadata": {},
   "outputs": [],
   "source": [
    "experiment_results3 = dict()"
   ]
  },
  {
   "cell_type": "code",
   "execution_count": null,
   "metadata": {
    "scrolled": true
   },
   "outputs": [],
   "source": [
    "for k in np.hstack([np.arange(5,51,5),np.arange(55,100,10)]):\n",
    "    print(\"Training k = {0} ...\".format(k))\n",
    "    \n",
    "    if \"k{0}\".format(k) in experiment_results3:\n",
    "        print(\"--- Done! Test Accuracy for k = {0} is {1}\".format(k, \\\n",
    "                experiment_results3[\"k{0}\".format(k)][\"test_acc\"]))\n",
    "        continue\n",
    "    \n",
    "    train, test, original = build_data_from_path(\"../data/dataset_n25000_k{0}_e0.05.pkl\".format(k))\n",
    "    X_train, y_train = train\n",
    "    X_test, y_test = test\n",
    "    X, y, y_oh, y_viterbi_decoded = original\n",
    "\n",
    "    lr = 0.005\n",
    "    model = Sequential()\n",
    "\n",
    "    model.add(Embedding(k * 2 // 10, 10))\n",
    "    model.add(Dropout(0.5))\n",
    "\n",
    "    model.add(LSTM(min(k * 20, 400), activation=\"tanh\", input_shape=X_train.shape[1:]))\n",
    "    model.add(Dropout(0.5))\n",
    "\n",
    "    model.add(Dense(min(k * 20, 400), activation=\"relu\"))\n",
    "    model.add(Dropout(0.5))\n",
    "\n",
    "    model.add(Dense(k * 2, activation=\"sigmoid\"))\n",
    "    model.add(Reshape((k, 2)))\n",
    "\n",
    "    opt = optimizers[\"adam\"](lr=lr)\n",
    "    model.compile(optimizer=opt, loss=\"binary_crossentropy\", metrics=[\"accuracy\"])\n",
    "    \n",
    "    history = model.fit(X_train, y_train, epochs=30, batch_size=1024, verbose=0,\n",
    "              shuffle=True, validation_split=0.2)\n",
    "\n",
    "    test_acc = model_accuracy(model, X_test, y_test, argmax=False)\n",
    "    \n",
    "    experiment_results3[\"k{0}\".format(k)] = {\n",
    "        \"model\": model,\n",
    "        \"history\": history,\n",
    "        \"test_acc\": test_acc\n",
    "    }\n",
    "    print(\"--- Done! Test Accuracy for k = {0} is {1}\".format(k, test_acc))"
   ]
  },
  {
   "cell_type": "code",
   "execution_count": 205,
   "metadata": {},
   "outputs": [
    {
     "data": {
      "image/png": "[encoded data removed]",
      "text/plain": [
       "<Figure size 432x288 with 1 Axes>"
      ]
     },
     "metadata": {},
     "output_type": "display_data"
    }
   ],
   "source": [
    "for name, exp in experiment_results3.items():\n",
    "    history = exp[\"history\"]\n",
    "    if type(history) != dict:\n",
    "        history = history.history\n",
    "    plt.plot(history['loss'], label=\"{0} loss\".format(name))\n",
    "    \n",
    "    #exp[\"model\"].save(\"models/epoch30_lr0.005/{0}.h5\".format(name))\n",
    "\n",
    "plt.title('Basic LSTM-RNN Model Training Loss')\n",
    "plt.xlabel('epoch')\n",
    "plt.ylabel('loss')\n",
    "plt.legend()\n",
    "plt.show()"
   ]
  },
  {
   "cell_type": "code",
   "execution_count": 206,
   "metadata": {},
   "outputs": [
    {
     "data": {
      "image/png": "[encoded data removed]",
      "text/plain": [
       "<Figure size 432x288 with 1 Axes>"
      ]
     },
     "metadata": {},
     "output_type": "display_data"
    }
   ],
   "source": [
    "for name, exp in experiment_results3.items():\n",
    "    history = exp[\"history\"]\n",
    "    if type(history) != dict:\n",
    "        history = history.history\n",
    "    plt.plot(history['val_loss'], label=\"{0} val_loss\".format(name))\n",
    "\n",
    "plt.title('Basic LSTM-RNN Model Validation Loss')\n",
    "plt.xlabel('epoch')\n",
    "plt.ylabel('loss')\n",
    "plt.legend()\n",
    "plt.show()"
   ]
  },
  {
   "cell_type": "code",
   "execution_count": 207,
   "metadata": {},
   "outputs": [
    {
     "data": {
      "image/png": "[encoded data removed]",
      "text/plain": [
       "<Figure size 432x288 with 1 Axes>"
      ]
     },
     "metadata": {},
     "output_type": "display_data"
    }
   ],
   "source": [
    "test_accuracies = [x[\"test_acc\"] for k, x in experiment_results3.items()]\n",
    "ks = [int(k[1:]) for k, x in experiment_results3.items()]\n",
    "\n",
    "plt.title('Basic LSTM-RNN Model Test Accuracy')\n",
    "plt.plot(ks, test_accuracies, 'g-', label=\"Test Accuracy\")\n",
    "plt.xlabel('Messge Length k')\n",
    "plt.ylabel('Test Accuracy')\n",
    "plt.legend()\n",
    "plt.show()"
   ]
  },
  {
   "cell_type": "code",
   "execution_count": 223,
   "metadata": {},
   "outputs": [],
   "source": [
    "experiment_results4 = dict()"
   ]
  },
  {
   "cell_type": "code",
   "execution_count": 225,
   "metadata": {},
   "outputs": [
    {
     "name": "stdout",
     "output_type": "stream",
     "text": [
      "Training k = 5 ...\n",
      "Train on 16000 samples, validate on 4000 samples\n",
      "Epoch 1/30\n",
      " - 10s - loss: 0.6322 - acc: 0.6050 - val_loss: 0.4906 - val_acc: 0.7541\n",
      "Epoch 2/30\n",
      " - 1s - loss: 0.4819 - acc: 0.7364 - val_loss: 0.3713 - val_acc: 0.8299\n",
      "Epoch 3/30\n",
      " - 1s - loss: 0.4080 - acc: 0.7908 - val_loss: 0.3145 - val_acc: 0.8631\n",
      "Epoch 4/30\n",
      " - 1s - loss: 0.3641 - acc: 0.8249 - val_loss: 0.2785 - val_acc: 0.8747\n",
      "Epoch 5/30\n",
      " - 1s - loss: 0.3275 - acc: 0.8487 - val_loss: 0.2412 - val_acc: 0.8817\n",
      "Epoch 6/30\n",
      " - 1s - loss: 0.2990 - acc: 0.8667 - val_loss: 0.2150 - val_acc: 0.9014\n",
      "Epoch 7/30\n",
      " - 1s - loss: 0.2728 - acc: 0.8799 - val_loss: 0.1901 - val_acc: 0.9204\n",
      "Epoch 8/30\n",
      " - 1s - loss: 0.2495 - acc: 0.8936 - val_loss: 0.1780 - val_acc: 0.9263\n",
      "Epoch 9/30\n",
      " - 1s - loss: 0.2298 - acc: 0.9046 - val_loss: 0.1586 - val_acc: 0.9334\n",
      "Epoch 10/30\n",
      " - 1s - loss: 0.2116 - acc: 0.9147 - val_loss: 0.1434 - val_acc: 0.9474\n",
      "Epoch 11/30\n",
      " - 1s - loss: 0.1971 - acc: 0.9236 - val_loss: 0.1284 - val_acc: 0.9555\n",
      "Epoch 12/30\n",
      " - 1s - loss: 0.1801 - acc: 0.9340 - val_loss: 0.1104 - val_acc: 0.9609\n",
      "Epoch 13/30\n",
      " - 1s - loss: 0.1620 - acc: 0.9416 - val_loss: 0.0938 - val_acc: 0.9656\n",
      "Epoch 14/30\n",
      " - 1s - loss: 0.1512 - acc: 0.9460 - val_loss: 0.0898 - val_acc: 0.9696\n",
      "Epoch 15/30\n",
      " - 1s - loss: 0.1368 - acc: 0.9513 - val_loss: 0.0782 - val_acc: 0.9723\n",
      "Epoch 16/30\n",
      " - 1s - loss: 0.1281 - acc: 0.9555 - val_loss: 0.0685 - val_acc: 0.9765\n",
      "Epoch 17/30\n",
      " - 1s - loss: 0.1211 - acc: 0.9586 - val_loss: 0.0657 - val_acc: 0.9769\n",
      "Epoch 18/30\n",
      " - 1s - loss: 0.1094 - acc: 0.9624 - val_loss: 0.0612 - val_acc: 0.9797\n",
      "Epoch 19/30\n",
      " - 1s - loss: 0.1035 - acc: 0.9650 - val_loss: 0.0597 - val_acc: 0.9801\n",
      "Epoch 20/30\n",
      " - 1s - loss: 0.1010 - acc: 0.9664 - val_loss: 0.0574 - val_acc: 0.9814\n",
      "Epoch 21/30\n",
      " - 1s - loss: 0.0954 - acc: 0.9677 - val_loss: 0.0522 - val_acc: 0.9823\n",
      "Epoch 22/30\n",
      " - 1s - loss: 0.0903 - acc: 0.9694 - val_loss: 0.0539 - val_acc: 0.9829\n",
      "Epoch 23/30\n",
      " - 1s - loss: 0.0884 - acc: 0.9709 - val_loss: 0.0491 - val_acc: 0.9836\n",
      "Epoch 24/30\n",
      " - 1s - loss: 0.0837 - acc: 0.9726 - val_loss: 0.0483 - val_acc: 0.9839\n",
      "Epoch 25/30\n",
      " - 1s - loss: 0.0788 - acc: 0.9739 - val_loss: 0.0472 - val_acc: 0.9847\n",
      "Epoch 26/30\n",
      " - 1s - loss: 0.0748 - acc: 0.9756 - val_loss: 0.0445 - val_acc: 0.9859\n",
      "Epoch 27/30\n",
      " - 1s - loss: 0.0738 - acc: 0.9761 - val_loss: 0.0430 - val_acc: 0.9864\n",
      "Epoch 28/30\n",
      " - 1s - loss: 0.0729 - acc: 0.9765 - val_loss: 0.0427 - val_acc: 0.9860\n",
      "Epoch 29/30\n",
      " - 1s - loss: 0.0688 - acc: 0.9777 - val_loss: 0.0432 - val_acc: 0.9848\n",
      "Epoch 30/30\n",
      " - 1s - loss: 0.0685 - acc: 0.9777 - val_loss: 0.0437 - val_acc: 0.9864\n",
      "--- Done! Test Accuracy for k = 5 is 0.9881199851989746\n",
      "Training k = 10 ...\n",
      "Train on 16000 samples, validate on 4000 samples\n",
      "Epoch 1/30\n",
      " - 11s - loss: 0.6623 - acc: 0.5528 - val_loss: 0.6004 - val_acc: 0.5955\n",
      "Epoch 2/30\n",
      " - 2s - loss: 0.6014 - acc: 0.6056 - val_loss: 0.5545 - val_acc: 0.6588\n",
      "Epoch 3/30\n",
      " - 2s - loss: 0.5660 - acc: 0.6512 - val_loss: 0.5147 - val_acc: 0.7026\n",
      "Epoch 4/30\n",
      " - 2s - loss: 0.5257 - acc: 0.6882 - val_loss: 0.4843 - val_acc: 0.7217\n",
      "Epoch 5/30\n",
      " - 2s - loss: 0.5019 - acc: 0.7087 - val_loss: 0.4487 - val_acc: 0.7571\n",
      "Epoch 6/30\n",
      " - 2s - loss: 0.4800 - acc: 0.7308 - val_loss: 0.4289 - val_acc: 0.7651\n",
      "Epoch 7/30\n",
      " - 2s - loss: 0.4609 - acc: 0.7496 - val_loss: 0.4204 - val_acc: 0.7793\n",
      "Epoch 8/30\n",
      " - 2s - loss: 0.4480 - acc: 0.7586 - val_loss: 0.3819 - val_acc: 0.8088\n",
      "Epoch 9/30\n",
      " - 2s - loss: 0.4280 - acc: 0.7745 - val_loss: 0.3682 - val_acc: 0.8182\n",
      "Epoch 10/30\n",
      " - 2s - loss: 0.4128 - acc: 0.7848 - val_loss: 0.3521 - val_acc: 0.8266\n",
      "Epoch 11/30\n",
      " - 2s - loss: 0.4000 - acc: 0.7957 - val_loss: 0.3321 - val_acc: 0.8394\n",
      "Epoch 12/30\n",
      " - 2s - loss: 0.3879 - acc: 0.8029 - val_loss: 0.3218 - val_acc: 0.8440\n",
      "Epoch 13/30\n",
      " - 2s - loss: 0.3753 - acc: 0.8117 - val_loss: 0.3121 - val_acc: 0.8526\n",
      "Epoch 14/30\n",
      " - 2s - loss: 0.3626 - acc: 0.8190 - val_loss: 0.2949 - val_acc: 0.8619\n",
      "Epoch 15/30\n",
      " - 2s - loss: 0.3540 - acc: 0.8264 - val_loss: 0.2873 - val_acc: 0.8635\n",
      "Epoch 16/30\n",
      " - 2s - loss: 0.3411 - acc: 0.8339 - val_loss: 0.2698 - val_acc: 0.8784\n",
      "Epoch 17/30\n",
      " - 2s - loss: 0.3292 - acc: 0.8429 - val_loss: 0.2549 - val_acc: 0.8838\n",
      "Epoch 18/30\n",
      " - 2s - loss: 0.3172 - acc: 0.8493 - val_loss: 0.2427 - val_acc: 0.8902\n",
      "Epoch 19/30\n",
      " - 2s - loss: 0.3075 - acc: 0.8553 - val_loss: 0.2333 - val_acc: 0.8960\n",
      "Epoch 20/30\n",
      " - 2s - loss: 0.3006 - acc: 0.8601 - val_loss: 0.2185 - val_acc: 0.9071\n",
      "Epoch 21/30\n",
      " - 2s - loss: 0.2862 - acc: 0.8680 - val_loss: 0.2086 - val_acc: 0.9112\n",
      "Epoch 22/30\n",
      " - 2s - loss: 0.2784 - acc: 0.8737 - val_loss: 0.1998 - val_acc: 0.9171\n",
      "Epoch 23/30\n",
      " - 2s - loss: 0.2704 - acc: 0.8776 - val_loss: 0.1888 - val_acc: 0.9210\n",
      "Epoch 24/30\n",
      " - 2s - loss: 0.2634 - acc: 0.8829 - val_loss: 0.1827 - val_acc: 0.9237\n",
      "Epoch 25/30\n",
      " - 2s - loss: 0.2545 - acc: 0.8861 - val_loss: 0.1701 - val_acc: 0.9309\n",
      "Epoch 26/30\n",
      " - 2s - loss: 0.2478 - acc: 0.8917 - val_loss: 0.1637 - val_acc: 0.9350\n",
      "Epoch 27/30\n",
      " - 2s - loss: 0.2376 - acc: 0.8959 - val_loss: 0.1557 - val_acc: 0.9388\n",
      "Epoch 28/30\n",
      " - 2s - loss: 0.2328 - acc: 0.9000 - val_loss: 0.1515 - val_acc: 0.9414\n",
      "Epoch 29/30\n",
      " - 2s - loss: 0.2336 - acc: 0.9012 - val_loss: 0.1485 - val_acc: 0.9444\n",
      "Epoch 30/30\n",
      " - 2s - loss: 0.2241 - acc: 0.9043 - val_loss: 0.1383 - val_acc: 0.9499\n",
      "--- Done! Test Accuracy for k = 10 is 0.9468200131416321\n",
      "Training k = 15 ...\n",
      "Train on 16000 samples, validate on 4000 samples\n",
      "Epoch 1/30\n",
      " - 12s - loss: 0.6703 - acc: 0.5361 - val_loss: 0.6339 - val_acc: 0.5656\n",
      "Epoch 2/30\n",
      " - 2s - loss: 0.6354 - acc: 0.5626 - val_loss: 0.6147 - val_acc: 0.5803\n",
      "Epoch 3/30\n",
      " - 2s - loss: 0.6141 - acc: 0.5929 - val_loss: 0.5822 - val_acc: 0.6295\n",
      "Epoch 4/30\n",
      " - 2s - loss: 0.5920 - acc: 0.6253 - val_loss: 0.5566 - val_acc: 0.6633\n",
      "Epoch 5/30\n",
      " - 2s - loss: 0.5705 - acc: 0.6546 - val_loss: 0.5333 - val_acc: 0.6932\n",
      "Epoch 6/30\n",
      " - 2s - loss: 0.5518 - acc: 0.6770 - val_loss: 0.5140 - val_acc: 0.7112\n",
      "Epoch 7/30\n",
      " - 2s - loss: 0.5349 - acc: 0.6935 - val_loss: 0.4967 - val_acc: 0.7259\n",
      "Epoch 8/30\n",
      " - 2s - loss: 0.5205 - acc: 0.7087 - val_loss: 0.4756 - val_acc: 0.7428\n",
      "Epoch 9/30\n",
      " - 2s - loss: 0.5073 - acc: 0.7220 - val_loss: 0.4641 - val_acc: 0.7532\n",
      "Epoch 10/30\n",
      " - 2s - loss: 0.4942 - acc: 0.7319 - val_loss: 0.4435 - val_acc: 0.7632\n",
      "Epoch 11/30\n",
      " - 2s - loss: 0.4843 - acc: 0.7395 - val_loss: 0.4362 - val_acc: 0.7735\n",
      "Epoch 12/30\n",
      " - 2s - loss: 0.4718 - acc: 0.7474 - val_loss: 0.4171 - val_acc: 0.7859\n",
      "Epoch 13/30\n",
      " - 2s - loss: 0.4591 - acc: 0.7566 - val_loss: 0.4100 - val_acc: 0.7932\n",
      "Epoch 14/30\n",
      " - 2s - loss: 0.4522 - acc: 0.7613 - val_loss: 0.3992 - val_acc: 0.7960\n",
      "Epoch 15/30\n",
      " - 2s - loss: 0.4447 - acc: 0.7663 - val_loss: 0.3890 - val_acc: 0.8074\n",
      "Epoch 16/30\n",
      " - 2s - loss: 0.4360 - acc: 0.7726 - val_loss: 0.3785 - val_acc: 0.8088\n",
      "Epoch 17/30\n",
      " - 2s - loss: 0.4299 - acc: 0.7775 - val_loss: 0.3694 - val_acc: 0.8160\n",
      "Epoch 18/30\n",
      " - 2s - loss: 0.4237 - acc: 0.7808 - val_loss: 0.3614 - val_acc: 0.8220\n",
      "Epoch 19/30\n",
      " - 2s - loss: 0.4137 - acc: 0.7866 - val_loss: 0.3529 - val_acc: 0.8285\n",
      "Epoch 20/30\n",
      " - 2s - loss: 0.4083 - acc: 0.7896 - val_loss: 0.3445 - val_acc: 0.8325\n",
      "Epoch 21/30\n",
      " - 2s - loss: 0.4001 - acc: 0.7970 - val_loss: 0.3372 - val_acc: 0.8385\n",
      "Epoch 22/30\n",
      " - 2s - loss: 0.3928 - acc: 0.8014 - val_loss: 0.3251 - val_acc: 0.8434\n",
      "Epoch 23/30\n",
      " - 2s - loss: 0.3875 - acc: 0.8035 - val_loss: 0.3229 - val_acc: 0.8483\n",
      "Epoch 24/30\n",
      " - 2s - loss: 0.3834 - acc: 0.8074 - val_loss: 0.3150 - val_acc: 0.8529\n",
      "Epoch 25/30\n",
      " - 2s - loss: 0.3756 - acc: 0.8121 - val_loss: 0.3028 - val_acc: 0.8583\n",
      "Epoch 26/30\n",
      " - 2s - loss: 0.3710 - acc: 0.8153 - val_loss: 0.3026 - val_acc: 0.8606\n",
      "Epoch 27/30\n",
      " - 2s - loss: 0.3671 - acc: 0.8169 - val_loss: 0.2912 - val_acc: 0.8657\n",
      "Epoch 28/30\n",
      " - 2s - loss: 0.3623 - acc: 0.8206 - val_loss: 0.2843 - val_acc: 0.8686\n",
      "Epoch 29/30\n",
      " - 2s - loss: 0.3550 - acc: 0.8248 - val_loss: 0.2860 - val_acc: 0.8733\n",
      "Epoch 30/30\n",
      " - 2s - loss: 0.3531 - acc: 0.8262 - val_loss: 0.2787 - val_acc: 0.8810\n",
      "--- Done! Test Accuracy for k = 15 is 0.8816400389671326\n",
      "Training k = 20 ...\n",
      "Train on 16000 samples, validate on 4000 samples\n",
      "Epoch 1/30\n",
      " - 12s - loss: 0.6791 - acc: 0.5229 - val_loss: 0.6509 - val_acc: 0.5433\n",
      "Epoch 2/30\n",
      " - 3s - loss: 0.6514 - acc: 0.5454 - val_loss: 0.6365 - val_acc: 0.5535\n",
      "Epoch 3/30\n",
      " - 3s - loss: 0.6386 - acc: 0.5557 - val_loss: 0.6202 - val_acc: 0.5685\n"
     ]
    },
    {
     "name": "stdout",
     "output_type": "stream",
     "text": [
      "Epoch 4/30\n",
      " - 3s - loss: 0.6260 - acc: 0.5729 - val_loss: 0.6020 - val_acc: 0.6032\n",
      "Epoch 5/30\n",
      " - 3s - loss: 0.6114 - acc: 0.5979 - val_loss: 0.5867 - val_acc: 0.6239\n",
      "Epoch 6/30\n",
      " - 3s - loss: 0.5971 - acc: 0.6199 - val_loss: 0.5680 - val_acc: 0.6537\n",
      "Epoch 7/30\n",
      " - 3s - loss: 0.5831 - acc: 0.6404 - val_loss: 0.5504 - val_acc: 0.6710\n",
      "Epoch 8/30\n",
      " - 3s - loss: 0.5695 - acc: 0.6561 - val_loss: 0.5356 - val_acc: 0.6862\n",
      "Epoch 9/30\n",
      " - 3s - loss: 0.5578 - acc: 0.6694 - val_loss: 0.5247 - val_acc: 0.6974\n",
      "Epoch 10/30\n",
      " - 3s - loss: 0.5504 - acc: 0.6780 - val_loss: 0.5128 - val_acc: 0.7087\n",
      "Epoch 11/30\n",
      " - 3s - loss: 0.5415 - acc: 0.6878 - val_loss: 0.5055 - val_acc: 0.7184\n",
      "Epoch 12/30\n",
      " - 3s - loss: 0.5349 - acc: 0.6951 - val_loss: 0.4986 - val_acc: 0.7274\n",
      "Epoch 13/30\n",
      " - 3s - loss: 0.5290 - acc: 0.7027 - val_loss: 0.4857 - val_acc: 0.7377\n",
      "Epoch 14/30\n",
      " - 3s - loss: 0.5220 - acc: 0.7099 - val_loss: 0.4815 - val_acc: 0.7431\n",
      "Epoch 15/30\n"
     ]
    },
    {
     "ename": "KeyboardInterrupt",
     "evalue": "",
     "output_type": "error",
     "traceback": [
      "\u001b[0;31m---------------------------------------------------------------------------\u001b[0m",
      "\u001b[0;31mKeyboardInterrupt\u001b[0m                         Traceback (most recent call last)",
      "\u001b[0;32m<ipython-input-225-aa958d2270f0>\u001b[0m in \u001b[0;36m<module>\u001b[0;34m()\u001b[0m\n\u001b[1;32m     31\u001b[0m \u001b[0;34m\u001b[0m\u001b[0m\n\u001b[1;32m     32\u001b[0m     history = model.fit(X_train, y_train, epochs=30, batch_size=512, verbose=2,\n\u001b[0;32m---> 33\u001b[0;31m               shuffle=True, validation_split=0.2)\n\u001b[0m\u001b[1;32m     34\u001b[0m \u001b[0;34m\u001b[0m\u001b[0m\n\u001b[1;32m     35\u001b[0m     \u001b[0mtest_acc\u001b[0m \u001b[0;34m=\u001b[0m \u001b[0mmodel_accuracy\u001b[0m\u001b[0;34m(\u001b[0m\u001b[0mmodel\u001b[0m\u001b[0;34m,\u001b[0m \u001b[0mX_test\u001b[0m\u001b[0;34m,\u001b[0m \u001b[0my_test\u001b[0m\u001b[0;34m,\u001b[0m \u001b[0margmax\u001b[0m\u001b[0;34m=\u001b[0m\u001b[0;32mFalse\u001b[0m\u001b[0;34m)\u001b[0m\u001b[0;34m\u001b[0m\u001b[0m\n",
      "\u001b[0;32m~/miniconda3/lib/python3.6/site-packages/keras/models.py\u001b[0m in \u001b[0;36mfit\u001b[0;34m(self, x, y, batch_size, epochs, verbose, callbacks, validation_split, validation_data, shuffle, class_weight, sample_weight, initial_epoch, steps_per_epoch, validation_steps, **kwargs)\u001b[0m\n\u001b[1;32m    961\u001b[0m                               \u001b[0minitial_epoch\u001b[0m\u001b[0;34m=\u001b[0m\u001b[0minitial_epoch\u001b[0m\u001b[0;34m,\u001b[0m\u001b[0;34m\u001b[0m\u001b[0m\n\u001b[1;32m    962\u001b[0m                               \u001b[0msteps_per_epoch\u001b[0m\u001b[0;34m=\u001b[0m\u001b[0msteps_per_epoch\u001b[0m\u001b[0;34m,\u001b[0m\u001b[0;34m\u001b[0m\u001b[0m\n\u001b[0;32m--> 963\u001b[0;31m                               validation_steps=validation_steps)\n\u001b[0m\u001b[1;32m    964\u001b[0m \u001b[0;34m\u001b[0m\u001b[0m\n\u001b[1;32m    965\u001b[0m     def evaluate(self, x=None, y=None,\n",
      "\u001b[0;32m~/miniconda3/lib/python3.6/site-packages/keras/engine/training.py\u001b[0m in \u001b[0;36mfit\u001b[0;34m(self, x, y, batch_size, epochs, verbose, callbacks, validation_split, validation_data, shuffle, class_weight, sample_weight, initial_epoch, steps_per_epoch, validation_steps, **kwargs)\u001b[0m\n\u001b[1;32m   1703\u001b[0m                               \u001b[0minitial_epoch\u001b[0m\u001b[0;34m=\u001b[0m\u001b[0minitial_epoch\u001b[0m\u001b[0;34m,\u001b[0m\u001b[0;34m\u001b[0m\u001b[0m\n\u001b[1;32m   1704\u001b[0m                               \u001b[0msteps_per_epoch\u001b[0m\u001b[0;34m=\u001b[0m\u001b[0msteps_per_epoch\u001b[0m\u001b[0;34m,\u001b[0m\u001b[0;34m\u001b[0m\u001b[0m\n\u001b[0;32m-> 1705\u001b[0;31m                               validation_steps=validation_steps)\n\u001b[0m\u001b[1;32m   1706\u001b[0m \u001b[0;34m\u001b[0m\u001b[0m\n\u001b[1;32m   1707\u001b[0m     def evaluate(self, x=None, y=None,\n",
      "\u001b[0;32m~/miniconda3/lib/python3.6/site-packages/keras/engine/training.py\u001b[0m in \u001b[0;36m_fit_loop\u001b[0;34m(self, f, ins, out_labels, batch_size, epochs, verbose, callbacks, val_f, val_ins, shuffle, callback_metrics, initial_epoch, steps_per_epoch, validation_steps)\u001b[0m\n\u001b[1;32m   1233\u001b[0m                         \u001b[0mins_batch\u001b[0m\u001b[0;34m[\u001b[0m\u001b[0mi\u001b[0m\u001b[0;34m]\u001b[0m \u001b[0;34m=\u001b[0m \u001b[0mins_batch\u001b[0m\u001b[0;34m[\u001b[0m\u001b[0mi\u001b[0m\u001b[0;34m]\u001b[0m\u001b[0;34m.\u001b[0m\u001b[0mtoarray\u001b[0m\u001b[0;34m(\u001b[0m\u001b[0;34m)\u001b[0m\u001b[0;34m\u001b[0m\u001b[0m\n\u001b[1;32m   1234\u001b[0m \u001b[0;34m\u001b[0m\u001b[0m\n\u001b[0;32m-> 1235\u001b[0;31m                     \u001b[0mouts\u001b[0m \u001b[0;34m=\u001b[0m \u001b[0mf\u001b[0m\u001b[0;34m(\u001b[0m\u001b[0mins_batch\u001b[0m\u001b[0;34m)\u001b[0m\u001b[0;34m\u001b[0m\u001b[0m\n\u001b[0m\u001b[1;32m   1236\u001b[0m                     \u001b[0;32mif\u001b[0m \u001b[0;32mnot\u001b[0m \u001b[0misinstance\u001b[0m\u001b[0;34m(\u001b[0m\u001b[0mouts\u001b[0m\u001b[0;34m,\u001b[0m \u001b[0mlist\u001b[0m\u001b[0;34m)\u001b[0m\u001b[0;34m:\u001b[0m\u001b[0;34m\u001b[0m\u001b[0m\n\u001b[1;32m   1237\u001b[0m                         \u001b[0mouts\u001b[0m \u001b[0;34m=\u001b[0m \u001b[0;34m[\u001b[0m\u001b[0mouts\u001b[0m\u001b[0;34m]\u001b[0m\u001b[0;34m\u001b[0m\u001b[0m\n",
      "\u001b[0;32m~/miniconda3/lib/python3.6/site-packages/keras/backend/tensorflow_backend.py\u001b[0m in \u001b[0;36m__call__\u001b[0;34m(self, inputs)\u001b[0m\n\u001b[1;32m   2476\u001b[0m         \u001b[0msession\u001b[0m \u001b[0;34m=\u001b[0m \u001b[0mget_session\u001b[0m\u001b[0;34m(\u001b[0m\u001b[0;34m)\u001b[0m\u001b[0;34m\u001b[0m\u001b[0m\n\u001b[1;32m   2477\u001b[0m         updated = session.run(fetches=fetches, feed_dict=feed_dict,\n\u001b[0;32m-> 2478\u001b[0;31m                               **self.session_kwargs)\n\u001b[0m\u001b[1;32m   2479\u001b[0m         \u001b[0;32mreturn\u001b[0m \u001b[0mupdated\u001b[0m\u001b[0;34m[\u001b[0m\u001b[0;34m:\u001b[0m\u001b[0mlen\u001b[0m\u001b[0;34m(\u001b[0m\u001b[0mself\u001b[0m\u001b[0;34m.\u001b[0m\u001b[0moutputs\u001b[0m\u001b[0;34m)\u001b[0m\u001b[0;34m]\u001b[0m\u001b[0;34m\u001b[0m\u001b[0m\n\u001b[1;32m   2480\u001b[0m \u001b[0;34m\u001b[0m\u001b[0m\n",
      "\u001b[0;32m~/miniconda3/lib/python3.6/site-packages/tensorflow/python/client/session.py\u001b[0m in \u001b[0;36mrun\u001b[0;34m(self, fetches, feed_dict, options, run_metadata)\u001b[0m\n\u001b[1;32m    787\u001b[0m     \u001b[0;32mtry\u001b[0m\u001b[0;34m:\u001b[0m\u001b[0;34m\u001b[0m\u001b[0m\n\u001b[1;32m    788\u001b[0m       result = self._run(None, fetches, feed_dict, options_ptr,\n\u001b[0;32m--> 789\u001b[0;31m                          run_metadata_ptr)\n\u001b[0m\u001b[1;32m    790\u001b[0m       \u001b[0;32mif\u001b[0m \u001b[0mrun_metadata\u001b[0m\u001b[0;34m:\u001b[0m\u001b[0;34m\u001b[0m\u001b[0m\n\u001b[1;32m    791\u001b[0m         \u001b[0mproto_data\u001b[0m \u001b[0;34m=\u001b[0m \u001b[0mtf_session\u001b[0m\u001b[0;34m.\u001b[0m\u001b[0mTF_GetBuffer\u001b[0m\u001b[0;34m(\u001b[0m\u001b[0mrun_metadata_ptr\u001b[0m\u001b[0;34m)\u001b[0m\u001b[0;34m\u001b[0m\u001b[0m\n",
      "\u001b[0;32m~/miniconda3/lib/python3.6/site-packages/tensorflow/python/client/session.py\u001b[0m in \u001b[0;36m_run\u001b[0;34m(self, handle, fetches, feed_dict, options, run_metadata)\u001b[0m\n\u001b[1;32m    995\u001b[0m     \u001b[0;32mif\u001b[0m \u001b[0mfinal_fetches\u001b[0m \u001b[0;32mor\u001b[0m \u001b[0mfinal_targets\u001b[0m\u001b[0;34m:\u001b[0m\u001b[0;34m\u001b[0m\u001b[0m\n\u001b[1;32m    996\u001b[0m       results = self._do_run(handle, final_targets, final_fetches,\n\u001b[0;32m--> 997\u001b[0;31m                              feed_dict_string, options, run_metadata)\n\u001b[0m\u001b[1;32m    998\u001b[0m     \u001b[0;32melse\u001b[0m\u001b[0;34m:\u001b[0m\u001b[0;34m\u001b[0m\u001b[0m\n\u001b[1;32m    999\u001b[0m       \u001b[0mresults\u001b[0m \u001b[0;34m=\u001b[0m \u001b[0;34m[\u001b[0m\u001b[0;34m]\u001b[0m\u001b[0;34m\u001b[0m\u001b[0m\n",
      "\u001b[0;32m~/miniconda3/lib/python3.6/site-packages/tensorflow/python/client/session.py\u001b[0m in \u001b[0;36m_do_run\u001b[0;34m(self, handle, target_list, fetch_list, feed_dict, options, run_metadata)\u001b[0m\n\u001b[1;32m   1130\u001b[0m     \u001b[0;32mif\u001b[0m \u001b[0mhandle\u001b[0m \u001b[0;32mis\u001b[0m \u001b[0;32mNone\u001b[0m\u001b[0;34m:\u001b[0m\u001b[0;34m\u001b[0m\u001b[0m\n\u001b[1;32m   1131\u001b[0m       return self._do_call(_run_fn, self._session, feed_dict, fetch_list,\n\u001b[0;32m-> 1132\u001b[0;31m                            target_list, options, run_metadata)\n\u001b[0m\u001b[1;32m   1133\u001b[0m     \u001b[0;32melse\u001b[0m\u001b[0;34m:\u001b[0m\u001b[0;34m\u001b[0m\u001b[0m\n\u001b[1;32m   1134\u001b[0m       return self._do_call(_prun_fn, self._session, handle, feed_dict,\n",
      "\u001b[0;32m~/miniconda3/lib/python3.6/site-packages/tensorflow/python/client/session.py\u001b[0m in \u001b[0;36m_do_call\u001b[0;34m(self, fn, *args)\u001b[0m\n\u001b[1;32m   1137\u001b[0m   \u001b[0;32mdef\u001b[0m \u001b[0m_do_call\u001b[0m\u001b[0;34m(\u001b[0m\u001b[0mself\u001b[0m\u001b[0;34m,\u001b[0m \u001b[0mfn\u001b[0m\u001b[0;34m,\u001b[0m \u001b[0;34m*\u001b[0m\u001b[0margs\u001b[0m\u001b[0;34m)\u001b[0m\u001b[0;34m:\u001b[0m\u001b[0;34m\u001b[0m\u001b[0m\n\u001b[1;32m   1138\u001b[0m     \u001b[0;32mtry\u001b[0m\u001b[0;34m:\u001b[0m\u001b[0;34m\u001b[0m\u001b[0m\n\u001b[0;32m-> 1139\u001b[0;31m       \u001b[0;32mreturn\u001b[0m \u001b[0mfn\u001b[0m\u001b[0;34m(\u001b[0m\u001b[0;34m*\u001b[0m\u001b[0margs\u001b[0m\u001b[0;34m)\u001b[0m\u001b[0;34m\u001b[0m\u001b[0m\n\u001b[0m\u001b[1;32m   1140\u001b[0m     \u001b[0;32mexcept\u001b[0m \u001b[0merrors\u001b[0m\u001b[0;34m.\u001b[0m\u001b[0mOpError\u001b[0m \u001b[0;32mas\u001b[0m \u001b[0me\u001b[0m\u001b[0;34m:\u001b[0m\u001b[0;34m\u001b[0m\u001b[0m\n\u001b[1;32m   1141\u001b[0m       \u001b[0mmessage\u001b[0m \u001b[0;34m=\u001b[0m \u001b[0mcompat\u001b[0m\u001b[0;34m.\u001b[0m\u001b[0mas_text\u001b[0m\u001b[0;34m(\u001b[0m\u001b[0me\u001b[0m\u001b[0;34m.\u001b[0m\u001b[0mmessage\u001b[0m\u001b[0;34m)\u001b[0m\u001b[0;34m\u001b[0m\u001b[0m\n",
      "\u001b[0;32m~/miniconda3/lib/python3.6/site-packages/tensorflow/python/client/session.py\u001b[0m in \u001b[0;36m_run_fn\u001b[0;34m(session, feed_dict, fetch_list, target_list, options, run_metadata)\u001b[0m\n\u001b[1;32m   1119\u001b[0m         return tf_session.TF_Run(session, options,\n\u001b[1;32m   1120\u001b[0m                                  \u001b[0mfeed_dict\u001b[0m\u001b[0;34m,\u001b[0m \u001b[0mfetch_list\u001b[0m\u001b[0;34m,\u001b[0m \u001b[0mtarget_list\u001b[0m\u001b[0;34m,\u001b[0m\u001b[0;34m\u001b[0m\u001b[0m\n\u001b[0;32m-> 1121\u001b[0;31m                                  status, run_metadata)\n\u001b[0m\u001b[1;32m   1122\u001b[0m \u001b[0;34m\u001b[0m\u001b[0m\n\u001b[1;32m   1123\u001b[0m     \u001b[0;32mdef\u001b[0m \u001b[0m_prun_fn\u001b[0m\u001b[0;34m(\u001b[0m\u001b[0msession\u001b[0m\u001b[0;34m,\u001b[0m \u001b[0mhandle\u001b[0m\u001b[0;34m,\u001b[0m \u001b[0mfeed_dict\u001b[0m\u001b[0;34m,\u001b[0m \u001b[0mfetch_list\u001b[0m\u001b[0;34m)\u001b[0m\u001b[0;34m:\u001b[0m\u001b[0;34m\u001b[0m\u001b[0m\n",
      "\u001b[0;31mKeyboardInterrupt\u001b[0m: "
     ]
    }
   ],
   "source": [
    "for k in np.hstack([np.arange(5,51,5),np.arange(55,100,10)]):\n",
    "    print(\"Training k = {0} ...\".format(k))\n",
    "    \n",
    "#     if \"k{0}\".format(k) in experiment_results4:\n",
    "#         print(\"--- Done! Test Accuracy for k = {0} is {1}\".format(k, \\\n",
    "#                 experiment_results3[\"k{0}\".format(k)][\"test_acc\"]))\n",
    "#         continue\n",
    "    \n",
    "    train, test, original = build_data_from_path(\"../data/dataset_n25000_k{0}_e0.05.pkl\".format(k))\n",
    "    X_train, y_train = train\n",
    "    X_test, y_test = test\n",
    "    X, y, y_oh, y_viterbi_decoded = original\n",
    "\n",
    "    lr = 0.005\n",
    "    model = Sequential()\n",
    "\n",
    "    model.add(Embedding(k * 2 // 10, 10))\n",
    "    model.add(Dropout(0.5))\n",
    "\n",
    "    model.add(LSTM(60, activation=\"tanh\", input_shape=X_train.shape[1:]))\n",
    "    model.add(Dropout(0.5))\n",
    "\n",
    "    model.add(Dense(k * 20, activation=\"relu\"))\n",
    "    model.add(Dropout(0.5))\n",
    "\n",
    "    model.add(Dense(k * 2, activation=\"sigmoid\"))\n",
    "    model.add(Reshape((k, 2)))\n",
    "\n",
    "    opt = optimizers[\"adam\"](lr=lr)\n",
    "    model.compile(optimizer=opt, loss=\"binary_crossentropy\", metrics=[\"accuracy\"])\n",
    "    \n",
    "    history = model.fit(X_train, y_train, epochs=30, batch_size=512, verbose=2,\n",
    "              shuffle=True, validation_split=0.2)\n",
    "\n",
    "    test_acc = model_accuracy(model, X_test, y_test, argmax=False)\n",
    "    \n",
    "    experiment_results4[\"k{0}\".format(k)] = {\n",
    "        \"model\": model,\n",
    "        \"history\": history,\n",
    "        \"test_acc\": test_acc\n",
    "    }\n",
    "    print(\"--- Done! Test Accuracy for k = {0} is {1}\".format(k, test_acc))"
   ]
  },
  {
   "cell_type": "code",
   "execution_count": 221,
   "metadata": {},
   "outputs": [
    {
     "data": {
      "image/png": "[encoded data removed]",
      "text/plain": [
       "<Figure size 432x288 with 1 Axes>"
      ]
     },
     "metadata": {},
     "output_type": "display_data"
    }
   ],
   "source": [
    "for name, exp in experiment_results4.items():\n",
    "    history = exp[\"history\"]\n",
    "    if type(history) != dict:\n",
    "        history = history.history\n",
    "    plt.plot(history['loss'], label=\"{0} loss\".format(name))\n",
    "    \n",
    "    #exp[\"model\"].save(\"models/epoch30_lr0.005/{0}.h5\".format(name))\n",
    "\n",
    "plt.title('Basic LSTM-RNN Model Training Loss')\n",
    "plt.xlabel('epoch')\n",
    "plt.ylabel('loss')\n",
    "plt.legend()\n",
    "plt.show()"
   ]
  },
  {
   "cell_type": "code",
   "execution_count": null,
   "metadata": {},
   "outputs": [],
   "source": [
    "for name, exp in experiment_results4.items():\n",
    "    history = exp[\"history\"]\n",
    "    if type(history) != dict:\n",
    "        history = history.history\n",
    "    plt.plot(history['val_loss'], label=\"{0} val_loss\".format(name))\n",
    "\n",
    "plt.title('Basic LSTM-RNN Model Validation Loss')\n",
    "plt.xlabel('epoch')\n",
    "plt.ylabel('loss')\n",
    "plt.legend()\n",
    "plt.show()"
   ]
  },
  {
   "cell_type": "code",
   "execution_count": null,
   "metadata": {},
   "outputs": [],
   "source": [
    "test_accuracies = [x[\"test_acc\"] for k, x in experiment_results4.items()]\n",
    "ks = [int(k[1:]) for k, x in experiment_results3.items()]\n",
    "\n",
    "plt.title('Basic LSTM-RNN Model Test Accuracy')\n",
    "plt.plot(ks, test_accuracies, 'g-', label=\"Test Accuracy\")\n",
    "plt.xlabel('Messge Length k')\n",
    "plt.ylabel('Test Accuracy')\n",
    "plt.legend()\n",
    "plt.show()"
   ]
  },
  {
   "cell_type": "code",
   "execution_count": null,
   "metadata": {},
   "outputs": [],
   "source": []
  },
  {
   "cell_type": "code",
   "execution_count": null,
   "metadata": {},
   "outputs": [],
   "source": []
  }
 ],
 "metadata": {
  "kernelspec": {
   "display_name": "Python 3",
   "language": "python",
   "name": "python3"
  },
  "language_info": {
   "codemirror_mode": {
    "name": "ipython",
    "version": 3
   },
   "file_extension": ".py",
   "mimetype": "text/x-python",
   "name": "python",
   "nbconvert_exporter": "python",
   "pygments_lexer": "ipython3",
   "version": "3.6.4"
  }
 },
 "nbformat": 4,
 "nbformat_minor": 2
}
