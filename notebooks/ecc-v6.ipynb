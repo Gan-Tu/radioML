{
 "cells": [
  {
   "cell_type": "code",
   "execution_count": 1,
   "metadata": {},
   "outputs": [
    {
     "name": "stderr",
     "output_type": "stream",
     "text": [
      "/Users/michael-tu/anaconda/lib/python3.6/site-packages/h5py/__init__.py:34: FutureWarning: Conversion of the second argument of issubdtype from `float` to `np.floating` is deprecated. In future, it will be treated as `np.float64 == np.dtype(float).type`.\n",
      "  from ._conv import register_converters as _register_converters\n"
     ]
    }
   ],
   "source": [
    "import numpy as np\n",
    "import tensorflow as tf\n",
    "import os\n",
    "import matplotlib.pyplot as plt\n",
    "%matplotlib inline\n",
    "import pickle\n",
    "from functools import reduce"
   ]
  },
  {
   "cell_type": "code",
   "execution_count": 2,
   "metadata": {},
   "outputs": [
    {
     "name": "stderr",
     "output_type": "stream",
     "text": [
      "Using TensorFlow backend.\n"
     ]
    }
   ],
   "source": [
    "import keras\n",
    "from keras import regularizers\n",
    "from keras import backend as K\n",
    "from keras.optimizers import Adam\n",
    "from keras.models import Model, Sequential\n",
    "from keras.layers import Dense, Input, Activation, Dropout, BatchNormalization, Flatten, Reshape\n",
    "from keras.layers import Conv2D, MaxPooling2D, AveragePooling2D, UpSampling2D\n",
    "from keras.layers import Conv1D, MaxPooling1D, AveragePooling1D, UpSampling1D\n",
    "from keras.layers import SimpleRNN, RNN, LSTM, Embedding\n",
    "from keras.optimizers import Adam, SGD\n",
    "import keras.utils as utils"
   ]
  },
  {
   "cell_type": "markdown",
   "metadata": {},
   "source": [
    "# Utility Functions"
   ]
  },
  {
   "cell_type": "code",
   "execution_count": 3,
   "metadata": {
    "collapsed": true
   },
   "outputs": [],
   "source": [
    "def load_pkl(path):\n",
    "    return pickle.load(open(path, \"rb\"))"
   ]
  },
  {
   "cell_type": "code",
   "execution_count": 4,
   "metadata": {
    "collapsed": true
   },
   "outputs": [],
   "source": [
    "def load_data(data):\n",
    "    keys = ['message_seqs', 'encoded_seqs', 'noisy_seqs', 'viterbi_decoded_seqs']\n",
    "    x = data[keys[2]] # noisy sequences will be our input to our models\n",
    "    y = data[keys[0]]\n",
    "    y_viterbi_decoded = data[keys[3]]\n",
    "    \n",
    "    x = np.array(x)\n",
    "    y = np.array(y)\n",
    "    y_viterbi_decoded = np.array(y_viterbi_decoded)\n",
    "    \n",
    "    return x, y, y_viterbi_decoded"
   ]
  },
  {
   "cell_type": "code",
   "execution_count": 5,
   "metadata": {
    "collapsed": true
   },
   "outputs": [],
   "source": [
    "def load(path):\n",
    "    return load_data(load_pkl(path))"
   ]
  },
  {
   "cell_type": "code",
   "execution_count": 6,
   "metadata": {
    "collapsed": true
   },
   "outputs": [],
   "source": [
    "def load_pkl_paths_from_folder(dir_path, recursive=False):\n",
    "    if recursive:\n",
    "        return np.sort(list(filter(lambda x: \".pkl\" in x,\n",
    "                            [os.path.join(dp, f) for dp, dn, fn in os.walk(os.path.expanduser(dir_path)) \n",
    "                                                 for f in fn])))\n",
    "    else:\n",
    "        return np.sort([dir_path + \"/\" + x for x in os.listdir(dir_path) if \".pkl\" in x ])"
   ]
  },
  {
   "cell_type": "code",
   "execution_count": 7,
   "metadata": {
    "collapsed": true
   },
   "outputs": [],
   "source": [
    "def get_param_from_filename(filename, param):\n",
    "    split_token = \"_\"\n",
    "    if param == \"k\":\n",
    "        split_token = \"_k\"\n",
    "    elif param == \"p\":\n",
    "        split_token = \"_p\"\n",
    "    elif param == \"r\":\n",
    "        split_token = \"_r\"\n",
    "    elif param == \"l\":\n",
    "        split_token = \"_l\"\n",
    "    elif param == \"e\":\n",
    "        split_token = \"_e\"\n",
    "    elif param == \"n\":\n",
    "        split_token = \"_n\"\n",
    "    else:\n",
    "        raise ValueError(\"unrecognized parameter\", param)\n",
    "        \n",
    "    res = filename.split(\"/\")[-1].split(split_token)[1].split(\"_\")[0]\n",
    "    if \".pkl\" in res:\n",
    "        res = res.split(\".pkl\")[0]\n",
    "    \n",
    "    return float(res)"
   ]
  },
  {
   "cell_type": "markdown",
   "metadata": {},
   "source": [
    "# Data Processing"
   ]
  },
  {
   "cell_type": "code",
   "execution_count": 8,
   "metadata": {
    "collapsed": true
   },
   "outputs": [],
   "source": [
    "def train_test_split(x, y, test_ratio=0.2):\n",
    "    indicies = np.arange(len(x))\n",
    "    np.random.shuffle(indicies)\n",
    "    \n",
    "    split_inx = int(len(x) * (1-test_ratio))\n",
    "    X_train, X_test = x[indicies[:split_inx]], x[indicies[split_inx:]]\n",
    "    y_train, y_test = y[indicies[:split_inx]], y[indicies[split_inx:]]\n",
    "    \n",
    "    return X_train, X_test, y_train, y_test"
   ]
  },
  {
   "cell_type": "code",
   "execution_count": 9,
   "metadata": {
    "collapsed": true
   },
   "outputs": [],
   "source": [
    "def group_sort(benchmark, *args):\n",
    "    sorted_indicies = np.argsort(benchmark) \n",
    "    \n",
    "    benchmark = np.array(benchmark)\n",
    "    args = list(map(lambda x: np.array(x), args))\n",
    "    \n",
    "    benchmark_sorted = benchmark[sorted_indicies]\n",
    "    args_sorted = list(map(lambda x: x[sorted_indicies], args))\n",
    "    \n",
    "    return benchmark_sorted, args_sorted"
   ]
  },
  {
   "cell_type": "code",
   "execution_count": 10,
   "metadata": {
    "collapsed": true
   },
   "outputs": [],
   "source": [
    "def one_hot(data):\n",
    "    res = []\n",
    "    for d in data:\n",
    "        res.append([0,0])\n",
    "        res[-1][int(d)] = 1\n",
    "    return np.array(res)\n",
    "\n",
    "def one_hot_datasets(y):\n",
    "    return np.array(list(map(lambda x: one_hot(x), y)))\n",
    "\n",
    "def onehot_to_normal(dataset):\n",
    "    return np.argmax(dataset, axis=2)"
   ]
  },
  {
   "cell_type": "code",
   "execution_count": 11,
   "metadata": {
    "collapsed": true
   },
   "outputs": [],
   "source": [
    "variable_desc = {\n",
    "    \"k\": \"message length (K-bit)\",\n",
    "    \"p\": \"prob P of Bernoulli distribution\",\n",
    "    \"e\": \"corruption probability E\",\n",
    "    \"l\": \"constraint length L\"\n",
    "}"
   ]
  },
  {
   "cell_type": "code",
   "execution_count": 13,
   "metadata": {
    "collapsed": true
   },
   "outputs": [],
   "source": [
    "def build_data_from_path(path, test_ratio=0.2, X_reshape=None):\n",
    "    X, y, y_viterbi_decoded = load(path)\n",
    "    y_oh = one_hot_datasets(y)\n",
    "    \n",
    "    if X_reshape:\n",
    "        total_shape = np.product(X_reshape[1:])\n",
    "        if total_shape != X.shape[1]:\n",
    "            X = X[:,:total_shape]\n",
    "        X = X.reshape(X_reshape)\n",
    "    \n",
    "    X_train, X_test, y_train, y_test = train_test_split(X, y_oh, test_ratio=test_ratio)\n",
    "    \n",
    "    return (X_train, y_train), (X_test, y_test), (X, y, y_oh, y_viterbi_decoded)"
   ]
  },
  {
   "cell_type": "markdown",
   "metadata": {},
   "source": [
    "# Model Definitions"
   ]
  },
  {
   "cell_type": "markdown",
   "metadata": {},
   "source": [
    "Optimizers"
   ]
  },
  {
   "cell_type": "code",
   "execution_count": 14,
   "metadata": {
    "collapsed": true
   },
   "outputs": [],
   "source": [
    "optimizers = {\n",
    "    \"adam\": Adam, \n",
    "    \"sgd\":  SGD\n",
    "}"
   ]
  },
  {
   "cell_type": "markdown",
   "metadata": {},
   "source": [
    "Fully Connected Neural Net"
   ]
  },
  {
   "cell_type": "code",
   "execution_count": 15,
   "metadata": {
    "collapsed": true
   },
   "outputs": [],
   "source": [
    "default_fnn_param = {\n",
    "    \"batch_size\": 64,\n",
    "    \"epoch\": 25,\n",
    "    \"verbose\": 2,\n",
    "    \"validation_ratio\": 0.2,\n",
    "    \"activation\": \"relu\",\n",
    "    \"l2_strength\": 0.01,\n",
    "    \"learing_rate\": 0.015,\n",
    "    \"optimizer\": \"adam\",\n",
    "    \"metrics\": [\"accuracy\"],\n",
    "    \"loss_fn\": \"binary_crossentropy\"\n",
    "}"
   ]
  },
  {
   "cell_type": "code",
   "execution_count": 16,
   "metadata": {
    "collapsed": true
   },
   "outputs": [],
   "source": [
    "default_fnn_architecture = [32,64,100]"
   ]
  },
  {
   "cell_type": "markdown",
   "metadata": {},
   "source": [
    "Convolution 1D Nerual Net"
   ]
  },
  {
   "cell_type": "code",
   "execution_count": 17,
   "metadata": {
    "collapsed": true
   },
   "outputs": [],
   "source": [
    "default_cnn_param = {\n",
    "    \"batch_size\": 64,\n",
    "    \"epoch\": 25,\n",
    "    \"verbose\": 2,\n",
    "    \"validation_ratio\": 0.2,\n",
    "    \"activation\": \"relu\",\n",
    "    \"dropout_keep_prob\": 0.5,\n",
    "    \"learing_rate\": 0.01,\n",
    "    \"optimizer\": \"adam\",\n",
    "    \"conv_padding\": \"same\",\n",
    "    \"metrics\": [\"accuracy\"],\n",
    "    \"loss_fn\": \"binary_crossentropy\"\n",
    "}"
   ]
  },
  {
   "cell_type": "markdown",
   "metadata": {},
   "source": [
    "Avaliable Layers:\n",
    "\n",
    "Dense, Input, Activation, Dropout, BatchNormalization, Flatten, Reshape\n",
    "Conv2D, MaxPooling2D, AveragePooling2D, UpSampling2D\n",
    "Conv1D, MaxPooling1D, AveragePooling1D, UpSampling1D"
   ]
  },
  {
   "cell_type": "code",
   "execution_count": 18,
   "metadata": {
    "collapsed": true
   },
   "outputs": [],
   "source": [
    "default_cnn_architecture = [\n",
    "    (\"conv1d\", dict(f=16,k=3,s=1)),\n",
    "    (\"conv1d\", dict(f=16,k=3,s=1)),\n",
    "    (\"conv1d\", dict(f=16,k=3,s=1)),\n",
    "    (\"conv1d\", dict(f=16,k=3,s=1)),\n",
    "    (\"flatten\"),\n",
    "    (\"dense\", 200),\n",
    "    (\"dropout\")\n",
    "]"
   ]
  },
  {
   "cell_type": "markdown",
   "metadata": {},
   "source": [
    "# Model Construction"
   ]
  },
  {
   "cell_type": "code",
   "execution_count": 19,
   "metadata": {
    "collapsed": true
   },
   "outputs": [],
   "source": [
    "def build_fnn(input_shape, \n",
    "              output_shape, \n",
    "              architecture=default_fnn_architecture, \n",
    "              param=default_fnn_param):\n",
    "    \"\"\"\n",
    "    Train a FNN model with INPUT_SHAPE and OUTPUT_SHAPE using ARCHITECTURE and PARAM.\n",
    "    \"\"\"\n",
    "\n",
    "    model = Sequential()\n",
    "    \n",
    "    for i, output_units in enumerate(architecture):\n",
    "        if i == 0:\n",
    "            model.add(Dense(output_units, activation=param[\"activation\"],\n",
    "                        input_shape=input_shape,\n",
    "                        kernel_regularizer=regularizers.l2(param[\"l2_strength\"])))\n",
    "        else:\n",
    "            model.add(Dense(output_units, activation=param[\"activation\"],\n",
    "                        kernel_regularizer=regularizers.l2(param[\"l2_strength\"])))\n",
    "    \n",
    "    model.add(Dense(np.product(output_shape), activation=\"sigmoid\"))\n",
    "    model.add(Reshape(output_shape))\n",
    "    \n",
    "    opt = optimizers[param[\"optimizer\"]](lr=param[\"learing_rate\"])\n",
    "    model.compile(optimizer=opt, loss=param[\"loss_fn\"], metrics=param[\"metrics\"])\n",
    "    \"\"\n",
    "    return model"
   ]
  },
  {
   "cell_type": "code",
   "execution_count": 20,
   "metadata": {
    "collapsed": true
   },
   "outputs": [],
   "source": [
    "def train_fnn(model, x, y, param=default_fnn_param, shuffle=True):\n",
    "    model.fit(x, y, batch_size=param[\"batch_size\"], epochs=param[\"epoch\"], shuffle=shuffle,\n",
    "              verbose=param[\"verbose\"], validation_split=param[\"validation_ratio\"])\n",
    "    return model"
   ]
  },
  {
   "cell_type": "code",
   "execution_count": 21,
   "metadata": {
    "collapsed": true
   },
   "outputs": [],
   "source": [
    "def build_cnn(input_shape, \n",
    "              output_shape, \n",
    "              architecture=default_cnn_architecture, \n",
    "              param=default_cnn_param):\n",
    "    \"\"\"\n",
    "    Train a CNN model with INPUT_SHAPE and OUTPUT_SHAPE using ARCHITECTURE and PARAM.\n",
    "    \"\"\"\n",
    "\n",
    "    model = Sequential()\n",
    "    \n",
    "    for i, layer in enumerate(architecture):\n",
    "        if layer[0] == \"conv1d\":\n",
    "            model.add(Conv1D(filters=16, kernel_size=3, strides=1,padding=PADDING, activation=ACTIVATION))\n",
    "        elif layer[0] == \"flatten\":\n",
    "            model.add(Flatten())\n",
    "        elif layer[0] == \"dense\":\n",
    "            model.add(Dense(layer[1], activation=param[\"activation\"]))\n",
    "        elif layer[0] == \"dropout\":\n",
    "            model.add(Dropout(param[\"dropout_keep_prob\"]))\n",
    "        else:\n",
    "            raise ValueError(\"do not recognize layer\", layer[0])\n",
    "    \n",
    "    model.add(Dense(np.product(output_shape), activation=\"sigmoid\"))\n",
    "    model.add(Reshape(output_shape))\n",
    "    \n",
    "    opt = optimizers[param[\"optimizer\"]](lr=param[\"learing_rate\"])\n",
    "    model.compile(optimizer=opt, loss=param[\"loss_fn\"], metrics=param[\"metrics\"])\n",
    "    \"\"\n",
    "    return model"
   ]
  },
  {
   "cell_type": "code",
   "execution_count": 22,
   "metadata": {
    "collapsed": true
   },
   "outputs": [],
   "source": [
    "def train_cnn(model, x, y, param=default_fnn_param, shuffle=True):\n",
    "    model.fit(x, y, batch_size=param[\"batch_size\"], epochs=param[\"epoch\"], shuffle=shuffle,\n",
    "              verbose=param[\"verbose\"], validation_split=param[\"validation_ratio\"])\n",
    "    return model"
   ]
  },
  {
   "cell_type": "markdown",
   "metadata": {},
   "source": [
    "# Evaluation Metrics"
   ]
  },
  {
   "cell_type": "code",
   "execution_count": 23,
   "metadata": {
    "collapsed": true
   },
   "outputs": [],
   "source": [
    "def accuracy(y, y_pred, argmax=False, viterbi=False):\n",
    "    y_pred_binary = y_pred\n",
    "    \n",
    "    if viterbi:\n",
    "        y_pred_binary = [p[:y.shape[1]] for p in y_pred]\n",
    "    elif argmax:\n",
    "        y_pred_binary = np.vstack([np.argmax(p, axis=1) for p in y_pred])\n",
    "        assert y.shape == y_pred_binary.shape, \"prediction and ground truth must \\\n",
    "        have same shape\\nExpected:{0} Actual:{1}\".format(y.shape, y_pred_binary.shape)\n",
    "    \n",
    "    return np.sum(y == y_pred_binary) / np.product(y.shape)"
   ]
  },
  {
   "cell_type": "code",
   "execution_count": 24,
   "metadata": {
    "collapsed": true
   },
   "outputs": [],
   "source": [
    "def model_accuracy(model, x, y, argmax=False):\n",
    "    if argmax:\n",
    "        y_pred = model.predict(x)\n",
    "        return accuracy(y, y_pred, argmax)\n",
    "    else:\n",
    "        return model.evaluate(x, y, verbose=0)[1]"
   ]
  },
  {
   "cell_type": "code",
   "execution_count": 25,
   "metadata": {
    "collapsed": true
   },
   "outputs": [],
   "source": [
    "def pred_vs_truth(model, x, y, n_show=2, y_truth_is_onehot=False):\n",
    "    indicies = np.random.randint(low=0, high=x.shape[0], size=n_show)\n",
    "    y_pred = model.predict(x[indicies])\n",
    "    y_pred_binary = np.vstack([np.argmax(p, axis=1) for p in y_pred])\n",
    "    \n",
    "    truth = y[indicies].astype(y_pred_binary.dtype)\n",
    "    \n",
    "    if y_truth_is_onehot:\n",
    "        truth = onehot_to_normal(truth)\n",
    "    \n",
    "    for i in range(len(truth)):\n",
    "        print(\"\\n############## Example {0} ##############\".format(i))\n",
    "        print(\"Expected:\\n\", truth[i])\n",
    "        print(\"Actual:\\n\", y_pred_binary[i])"
   ]
  },
  {
   "cell_type": "markdown",
   "metadata": {},
   "source": [
    "# Graph"
   ]
  },
  {
   "cell_type": "code",
   "execution_count": 26,
   "metadata": {
    "collapsed": true
   },
   "outputs": [],
   "source": [
    "def plot_acc(title, acc):\n",
    "    epoch = np.arange(1,len(acc)+1,1)\n",
    "    \n",
    "    plt.figure(figsize=(20,6))\n",
    "\n",
    "    plt.subplot(121)\n",
    "    plt.title(title)\n",
    "    plt.xlabel('epoch')\n",
    "    plt.ylabel(\"accuracy\")\n",
    "    plt.plot(epoch, acc, \"green\")\n",
    "\n",
    "    plt.subplot(122)\n",
    "    plt.title(\"Log Log {0}\".format(title))\n",
    "    plt.xlabel('epoch')\n",
    "    plt.ylabel(\"accuracy\")\n",
    "    plt.plot(epoch, np.log(-np.log(acc)), \"red\")"
   ]
  },
  {
   "cell_type": "markdown",
   "metadata": {},
   "source": [
    "# Experiments"
   ]
  },
  {
   "cell_type": "code",
   "execution_count": 58,
   "metadata": {
    "collapsed": true
   },
   "outputs": [],
   "source": [
    "data_path = \"../data/dataset_04/data/dataset_n25000_k10_e0.05.pkl\""
   ]
  },
  {
   "cell_type": "code",
   "execution_count": 59,
   "metadata": {
    "collapsed": true
   },
   "outputs": [],
   "source": [
    "experiment_results = dict()"
   ]
  },
  {
   "cell_type": "markdown",
   "metadata": {},
   "source": [
    "### k: 10, e: 0.05"
   ]
  },
  {
   "cell_type": "markdown",
   "metadata": {},
   "source": [
    "model 1"
   ]
  },
  {
   "cell_type": "code",
   "execution_count": 60,
   "metadata": {},
   "outputs": [],
   "source": [
    "train, test, original = build_data_from_path(data_path)\n",
    "X_train, y_train = train\n",
    "X_test, y_test = test\n",
    "X, y, y_oh, y_viterbi_decoded = original"
   ]
  },
  {
   "cell_type": "code",
   "execution_count": 62,
   "metadata": {},
   "outputs": [
    {
     "name": "stdout",
     "output_type": "stream",
     "text": [
      "Train on 16000 samples, validate on 4000 samples\n",
      "Epoch 1/25\n",
      " - 10s - loss: 0.6591 - acc: 0.5603 - val_loss: 0.5936 - val_acc: 0.6036\n",
      "Epoch 2/25\n",
      " - 9s - loss: 0.5919 - acc: 0.6200 - val_loss: 0.5557 - val_acc: 0.6433\n",
      "Epoch 3/25\n",
      " - 9s - loss: 0.5477 - acc: 0.6614 - val_loss: 0.4922 - val_acc: 0.7047\n",
      "Epoch 4/25\n",
      " - 7s - loss: 0.4960 - acc: 0.7112 - val_loss: 0.4378 - val_acc: 0.7599\n",
      "Epoch 5/25\n",
      " - 8s - loss: 0.4596 - acc: 0.7497 - val_loss: 0.3944 - val_acc: 0.7995\n",
      "Epoch 6/25\n",
      " - 10s - loss: 0.4113 - acc: 0.7908 - val_loss: 0.3342 - val_acc: 0.8405\n",
      "Epoch 7/25\n",
      " - 9s - loss: 0.3636 - acc: 0.8222 - val_loss: 0.2808 - val_acc: 0.8750\n",
      "Epoch 8/25\n",
      " - 8s - loss: 0.3164 - acc: 0.8513 - val_loss: 0.2336 - val_acc: 0.8979\n",
      "Epoch 9/25\n",
      " - 8s - loss: 0.2737 - acc: 0.8760 - val_loss: 0.1909 - val_acc: 0.9159\n",
      "Epoch 10/25\n",
      " - 7s - loss: 0.2398 - acc: 0.8964 - val_loss: 0.1566 - val_acc: 0.9370\n",
      "Epoch 11/25\n",
      " - 7s - loss: 0.2057 - acc: 0.9139 - val_loss: 0.1327 - val_acc: 0.9528\n",
      "Epoch 12/25\n",
      " - 7s - loss: 0.1819 - acc: 0.9279 - val_loss: 0.1203 - val_acc: 0.9581\n",
      "Epoch 13/25\n",
      " - 7s - loss: 0.1636 - acc: 0.9371 - val_loss: 0.0968 - val_acc: 0.9662\n",
      "Epoch 14/25\n",
      " - 7s - loss: 0.1386 - acc: 0.9490 - val_loss: 0.0910 - val_acc: 0.9685\n",
      "Epoch 15/25\n",
      " - 8s - loss: 0.1270 - acc: 0.9538 - val_loss: 0.0817 - val_acc: 0.9714\n",
      "Epoch 16/25\n",
      " - 7s - loss: 0.1110 - acc: 0.9602 - val_loss: 0.0777 - val_acc: 0.9742\n",
      "Epoch 17/25\n",
      " - 7s - loss: 0.1013 - acc: 0.9634 - val_loss: 0.0749 - val_acc: 0.9749\n",
      "Epoch 18/25\n",
      " - 8s - loss: 0.0937 - acc: 0.9663 - val_loss: 0.0684 - val_acc: 0.9762\n",
      "Epoch 19/25\n",
      " - 7s - loss: 0.0853 - acc: 0.9693 - val_loss: 0.0698 - val_acc: 0.9765\n",
      "Epoch 20/25\n",
      " - 7s - loss: 0.0815 - acc: 0.9707 - val_loss: 0.0622 - val_acc: 0.9777\n",
      "Epoch 21/25\n",
      " - 7s - loss: 0.0740 - acc: 0.9730 - val_loss: 0.0692 - val_acc: 0.9793\n",
      "Epoch 22/25\n",
      " - 7s - loss: 0.0720 - acc: 0.9742 - val_loss: 0.0645 - val_acc: 0.9780\n",
      "Epoch 23/25\n",
      " - 6s - loss: 0.0734 - acc: 0.9737 - val_loss: 0.0631 - val_acc: 0.9788\n",
      "Epoch 24/25\n",
      " - 7s - loss: 0.0631 - acc: 0.9772 - val_loss: 0.0613 - val_acc: 0.9793\n",
      "Epoch 25/25\n",
      " - 8s - loss: 0.0601 - acc: 0.9785 - val_loss: 0.0580 - val_acc: 0.9801\n"
     ]
    }
   ],
   "source": [
    "lr = 0.005\n",
    "model = Sequential()\n",
    "\n",
    "model.add(Embedding(2, 10))\n",
    "model.add(Dropout(0.5))\n",
    "\n",
    "model.add(LSTM(200, activation=\"tanh\", input_shape=X_train.shape[1:]))\n",
    "model.add(Dropout(0.5))\n",
    "\n",
    "model.add(Dense(200, activation=\"relu\"))\n",
    "model.add(Dropout(0.5))\n",
    "\n",
    "model.add(Dense(20, activation=\"sigmoid\"))\n",
    "model.add(Reshape((10,2)))\n",
    "\n",
    "opt = optimizers[\"adam\"](lr=lr)\n",
    "model.compile(optimizer=opt, loss=\"binary_crossentropy\", metrics=[\"accuracy\"])\n",
    "\n",
    "history = model.fit(X_train, y_train, epochs=25, batch_size=512, verbose=2,\n",
    "          shuffle=True, validation_split=0.2)"
   ]
  },
  {
   "cell_type": "code",
   "execution_count": 65,
   "metadata": {},
   "outputs": [
    {
     "data": {
      "image/png": "[encoded data removed]",
      "text/plain": [
       "<matplotlib.figure.Figure at 0x1199b2ef0>"
      ]
     },
     "metadata": {},
     "output_type": "display_data"
    }
   ],
   "source": [
    "plt.plot(history.history['loss'])\n",
    "plt.plot(history.history['val_loss'])\n",
    "plt.title('Basic LSTM-RNN Model Loss (k10, e0.05)')\n",
    "plt.ylabel('loss')\n",
    "plt.xlabel('epoch')\n",
    "plt.legend(['train', 'test'], loc='upper left')\n",
    "plt.show()"
   ]
  },
  {
   "cell_type": "code",
   "execution_count": 64,
   "metadata": {},
   "outputs": [
    {
     "name": "stdout",
     "output_type": "stream",
     "text": [
      "Test Accuracy is 0.9817099990844727\n",
      "\n",
      "############## Example 0 ##############\n",
      "Expected:\n",
      " [0 0 1 1 0 0 0 0 0 1]\n",
      "Actual:\n",
      " [0 0 1 1 0 0 0 0 0 1]\n",
      "\n",
      "############## Example 1 ##############\n",
      "Expected:\n",
      " [0 1 1 0 1 1 1 1 1 1]\n",
      "Actual:\n",
      " [0 1 1 0 1 1 1 1 1 1]\n",
      "\n",
      "############## Example 2 ##############\n",
      "Expected:\n",
      " [1 1 0 1 1 1 0 1 0 0]\n",
      "Actual:\n",
      " [1 1 0 1 1 1 0 1 0 0]\n"
     ]
    }
   ],
   "source": [
    "print(\"Test Accuracy is\", model_accuracy(model, X_test, y_test, argmax=False))\n",
    "pred_vs_truth(model, X_test, y_test, n_show=3, y_truth_is_onehot=True)"
   ]
  },
  {
   "cell_type": "code",
   "execution_count": 44,
   "metadata": {
    "collapsed": true
   },
   "outputs": [],
   "source": [
    "# model.save(\"../models/v6/rnn_k10_e0.05.h5\")\n",
    "# experiment_results[\"k10_e0.05\"] = {\n",
    "#     \"model\": model,\n",
    "#     \"history\": history\n",
    "# }"
   ]
  },
  {
   "cell_type": "markdown",
   "metadata": {},
   "source": [
    "model 2"
   ]
  },
  {
   "cell_type": "code",
   "execution_count": 66,
   "metadata": {},
   "outputs": [
    {
     "name": "stdout",
     "output_type": "stream",
     "text": [
      "(20000, 24)\n",
      "(20000, 10, 2)\n"
     ]
    }
   ],
   "source": [
    "print(X_train.shape)\n",
    "print(y_train.shape)"
   ]
  },
  {
   "cell_type": "code",
   "execution_count": 70,
   "metadata": {
    "collapsed": true
   },
   "outputs": [],
   "source": [
    "seq_length = 3"
   ]
  },
  {
   "cell_type": "code",
   "execution_count": 105,
   "metadata": {},
   "outputs": [],
   "source": [
    "def prepare_data_for_lstm(X_train):\n",
    "    X_train2 = list()\n",
    "    for x in X_train:\n",
    "        x2 = list()\n",
    "        for i in range(0, len(x) - seq_length, 1):\n",
    "            x2.append(x[i:i+seq_length])\n",
    "        X_train2.append(np.array(x2))\n",
    "    X_train2 = np.array(X_train2)\n",
    "    return X_train2"
   ]
  },
  {
   "cell_type": "code",
   "execution_count": 107,
   "metadata": {
    "collapsed": true
   },
   "outputs": [],
   "source": [
    "X_train2 = prepare_data_for_lstm(X_train)\n",
    "X_test2 = prepare_data_for_lstm(X_test)"
   ]
  },
  {
   "cell_type": "code",
   "execution_count": 108,
   "metadata": {},
   "outputs": [
    {
     "name": "stdout",
     "output_type": "stream",
     "text": [
      "(20000, 21, 3)\n",
      "(5000, 21, 3)\n"
     ]
    }
   ],
   "source": [
    "print(X_train2.shape)\n",
    "print(X_test2.shape)"
   ]
  },
  {
   "cell_type": "code",
   "execution_count": 103,
   "metadata": {},
   "outputs": [
    {
     "name": "stdout",
     "output_type": "stream",
     "text": [
      "Train on 16000 samples, validate on 4000 samples\n",
      "Epoch 1/25\n",
      " - 8s - loss: 0.6202 - acc: 0.5872 - val_loss: 0.5408 - val_acc: 0.6515\n",
      "Epoch 2/25\n",
      " - 7s - loss: 0.5131 - acc: 0.6717 - val_loss: 0.4509 - val_acc: 0.7236\n",
      "Epoch 3/25\n",
      " - 7s - loss: 0.4466 - acc: 0.7413 - val_loss: 0.4034 - val_acc: 0.7599\n",
      "Epoch 4/25\n",
      " - 6s - loss: 0.3753 - acc: 0.7985 - val_loss: 0.2939 - val_acc: 0.8443\n",
      "Epoch 5/25\n",
      " - 7s - loss: 0.2966 - acc: 0.8561 - val_loss: 0.2070 - val_acc: 0.9038\n",
      "Epoch 6/25\n",
      " - 6s - loss: 0.2252 - acc: 0.9020 - val_loss: 0.1222 - val_acc: 0.9552\n",
      "Epoch 7/25\n",
      " - 6s - loss: 0.1664 - acc: 0.9337 - val_loss: 0.0946 - val_acc: 0.9672\n",
      "Epoch 8/25\n",
      " - 7s - loss: 0.1318 - acc: 0.9503 - val_loss: 0.0709 - val_acc: 0.9755\n",
      "Epoch 9/25\n",
      " - 6s - loss: 0.1047 - acc: 0.9632 - val_loss: 0.0592 - val_acc: 0.9796\n",
      "Epoch 10/25\n",
      " - 6s - loss: 0.0914 - acc: 0.9681 - val_loss: 0.0583 - val_acc: 0.9802\n",
      "Epoch 11/25\n",
      " - 7s - loss: 0.0803 - acc: 0.9723 - val_loss: 0.0494 - val_acc: 0.9824\n",
      "Epoch 12/25\n",
      " - 6s - loss: 0.0761 - acc: 0.9747 - val_loss: 0.0485 - val_acc: 0.9834\n",
      "Epoch 13/25\n",
      " - 6s - loss: 0.0668 - acc: 0.9773 - val_loss: 0.0511 - val_acc: 0.9829\n",
      "Epoch 14/25\n",
      " - 6s - loss: 0.0650 - acc: 0.9779 - val_loss: 0.0565 - val_acc: 0.9837\n",
      "Epoch 15/25\n",
      " - 7s - loss: 0.0617 - acc: 0.9792 - val_loss: 0.0470 - val_acc: 0.9835\n",
      "Epoch 16/25\n",
      " - 6s - loss: 0.0589 - acc: 0.9800 - val_loss: 0.0524 - val_acc: 0.9826\n",
      "Epoch 17/25\n",
      " - 7s - loss: 0.0553 - acc: 0.9811 - val_loss: 0.0431 - val_acc: 0.9845\n",
      "Epoch 18/25\n",
      " - 6s - loss: 0.0530 - acc: 0.9815 - val_loss: 0.0462 - val_acc: 0.9835\n",
      "Epoch 19/25\n",
      " - 7s - loss: 0.0501 - acc: 0.9829 - val_loss: 0.0452 - val_acc: 0.9835\n",
      "Epoch 20/25\n",
      " - 7s - loss: 0.0481 - acc: 0.9831 - val_loss: 0.0424 - val_acc: 0.9857\n",
      "Epoch 21/25\n",
      " - 7s - loss: 0.0466 - acc: 0.9837 - val_loss: 0.0504 - val_acc: 0.9839\n",
      "Epoch 22/25\n",
      " - 7s - loss: 0.0452 - acc: 0.9845 - val_loss: 0.0460 - val_acc: 0.9847\n",
      "Epoch 23/25\n",
      " - 6s - loss: 0.0439 - acc: 0.9852 - val_loss: 0.0455 - val_acc: 0.9842\n",
      "Epoch 24/25\n",
      " - 7s - loss: 0.0422 - acc: 0.9850 - val_loss: 0.0579 - val_acc: 0.9837\n",
      "Epoch 25/25\n",
      " - 7s - loss: 0.0410 - acc: 0.9857 - val_loss: 0.0476 - val_acc: 0.9847\n"
     ]
    }
   ],
   "source": [
    "lr = 0.01\n",
    "model = Sequential()\n",
    "\n",
    "model.add(LSTM(200, activation=\"tanh\", input_shape=(21, 3), return_sequences=False))\n",
    "model.add(Dropout(0.5))\n",
    "\n",
    "model.add(Dense(200, activation=\"relu\"))\n",
    "model.add(Dropout(0.5))\n",
    "\n",
    "model.add(Dense(20, activation=\"sigmoid\"))\n",
    "model.add(Reshape((10,2)))\n",
    "\n",
    "opt = optimizers[\"adam\"](lr=lr)\n",
    "model.compile(optimizer=opt, loss=\"binary_crossentropy\", metrics=[\"accuracy\"])\n",
    "\n",
    "history = model.fit(X_train2, y_train, epochs=25, batch_size=512, verbose=2,\n",
    "          shuffle=True, validation_split=0.2)"
   ]
  },
  {
   "cell_type": "code",
   "execution_count": 104,
   "metadata": {},
   "outputs": [
    {
     "data": {
      "image/png": "[encoded data removed]",
      "text/plain": [
       "<matplotlib.figure.Figure at 0x129fbafd0>"
      ]
     },
     "metadata": {},
     "output_type": "display_data"
    }
   ],
   "source": [
    "plt.plot(history.history['loss'])\n",
    "plt.plot(history.history['val_loss'])\n",
    "plt.title('Basic LSTM-RNN Model Loss (k10, e0.05)')\n",
    "plt.ylabel('loss')\n",
    "plt.xlabel('epoch')\n",
    "plt.legend(['train', 'test'], loc='upper left')\n",
    "plt.show()"
   ]
  },
  {
   "cell_type": "code",
   "execution_count": 110,
   "metadata": {},
   "outputs": [
    {
     "name": "stdout",
     "output_type": "stream",
     "text": [
      "Test Accuracy is 0.9839000007629395\n",
      "\n",
      "############## Example 0 ##############\n",
      "Expected:\n",
      " [1 0 0 1 0 0 1 0 0 0]\n",
      "Actual:\n",
      " [1 0 0 1 0 0 1 0 0 0]\n",
      "\n",
      "############## Example 1 ##############\n",
      "Expected:\n",
      " [1 1 1 0 0 0 0 0 1 1]\n",
      "Actual:\n",
      " [1 1 1 0 0 0 0 0 1 1]\n",
      "\n",
      "############## Example 2 ##############\n",
      "Expected:\n",
      " [1 0 1 0 0 0 1 0 1 0]\n",
      "Actual:\n",
      " [1 0 1 0 0 0 1 0 1 0]\n"
     ]
    }
   ],
   "source": [
    "print(\"Test Accuracy is\", model_accuracy(model, X_test2, y_test, argmax=False))\n",
    "pred_vs_truth(model, X_test2, y_test, n_show=3, y_truth_is_onehot=True)"
   ]
  },
  {
   "cell_type": "code",
   "execution_count": 117,
   "metadata": {},
   "outputs": [
    {
     "name": "stdout",
     "output_type": "stream",
     "text": [
      "Train on 16000 samples, validate on 4000 samples\n",
      "Epoch 1/20\n",
      " - 4s - loss: 0.6777 - acc: 0.5515 - val_loss: 0.6408 - val_acc: 0.6174\n",
      "Epoch 2/20\n",
      " - 3s - loss: 0.5792 - acc: 0.6391 - val_loss: 0.5132 - val_acc: 0.7084\n",
      "Epoch 3/20\n",
      " - 2s - loss: 0.4862 - acc: 0.7315 - val_loss: 0.4225 - val_acc: 0.7917\n",
      "Epoch 4/20\n",
      " - 3s - loss: 0.4115 - acc: 0.7988 - val_loss: 0.3682 - val_acc: 0.8296\n",
      "Epoch 5/20\n",
      " - 4s - loss: 0.3483 - acc: 0.8394 - val_loss: 0.3013 - val_acc: 0.8667\n",
      "Epoch 6/20\n",
      " - 3s - loss: 0.3062 - acc: 0.8638 - val_loss: 0.2566 - val_acc: 0.8939\n",
      "Epoch 7/20\n",
      " - 3s - loss: 0.2671 - acc: 0.8876 - val_loss: 0.2127 - val_acc: 0.9164\n",
      "Epoch 8/20\n",
      " - 3s - loss: 0.2336 - acc: 0.9047 - val_loss: 0.1862 - val_acc: 0.9306\n",
      "Epoch 9/20\n",
      " - 3s - loss: 0.2030 - acc: 0.9208 - val_loss: 0.1536 - val_acc: 0.9449\n",
      "Epoch 10/20\n",
      " - 3s - loss: 0.1782 - acc: 0.9334 - val_loss: 0.1344 - val_acc: 0.9530\n",
      "Epoch 11/20\n",
      " - 3s - loss: 0.1614 - acc: 0.9409 - val_loss: 0.1334 - val_acc: 0.9526\n",
      "Epoch 12/20\n",
      " - 3s - loss: 0.1476 - acc: 0.9469 - val_loss: 0.1103 - val_acc: 0.9622\n",
      "Epoch 13/20\n",
      " - 2s - loss: 0.1337 - acc: 0.9532 - val_loss: 0.1040 - val_acc: 0.9632\n",
      "Epoch 14/20\n",
      " - 3s - loss: 0.1207 - acc: 0.9578 - val_loss: 0.0964 - val_acc: 0.9660\n",
      "Epoch 15/20\n",
      " - 3s - loss: 0.1123 - acc: 0.9608 - val_loss: 0.0921 - val_acc: 0.9678\n",
      "Epoch 16/20\n",
      " - 3s - loss: 0.1047 - acc: 0.9638 - val_loss: 0.0874 - val_acc: 0.9701\n",
      "Epoch 17/20\n",
      " - 3s - loss: 0.1004 - acc: 0.9652 - val_loss: 0.0863 - val_acc: 0.9695\n",
      "Epoch 18/20\n",
      " - 3s - loss: 0.0981 - acc: 0.9659 - val_loss: 0.0812 - val_acc: 0.9708\n",
      "Epoch 19/20\n",
      " - 2s - loss: 0.0941 - acc: 0.9675 - val_loss: 0.0835 - val_acc: 0.9705\n",
      "Epoch 20/20\n",
      " - 2s - loss: 0.0880 - acc: 0.9697 - val_loss: 0.0775 - val_acc: 0.9726\n"
     ]
    }
   ],
   "source": [
    "lr = 0.005\n",
    "model = Sequential()\n",
    "\n",
    "model.add(LSTM(100, activation=\"tanh\", input_shape=(21, 3), return_sequences=False))\n",
    "model.add(Dropout(0.5))\n",
    "\n",
    "# model.add(Dense(200, activation=\"relu\"))\n",
    "# model.add(Dropout(0.5))\n",
    "\n",
    "model.add(Dense(20, activation=\"sigmoid\"))\n",
    "model.add(Reshape((10,2)))\n",
    "\n",
    "opt = optimizers[\"adam\"](lr=lr)\n",
    "model.compile(optimizer=opt, loss=\"binary_crossentropy\", metrics=[\"accuracy\"])\n",
    "\n",
    "history = model.fit(X_train2, y_train, epochs=20, batch_size=512, verbose=2,\n",
    "          shuffle=True, validation_split=0.2)"
   ]
  },
  {
   "cell_type": "code",
   "execution_count": 118,
   "metadata": {},
   "outputs": [
    {
     "data": {
      "image/png": "[encoded data removed]",
      "text/plain": [
       "<matplotlib.figure.Figure at 0x130e0bcc0>"
      ]
     },
     "metadata": {},
     "output_type": "display_data"
    }
   ],
   "source": [
    "plt.plot(history.history['loss'])\n",
    "plt.plot(history.history['val_loss'])\n",
    "plt.title('Basic LSTM-RNN Model Loss (k10, e0.05)')\n",
    "plt.ylabel('loss')\n",
    "plt.xlabel('epoch')\n",
    "plt.legend(['train', 'test'], loc='upper left')\n",
    "plt.show()"
   ]
  },
  {
   "cell_type": "code",
   "execution_count": 119,
   "metadata": {},
   "outputs": [
    {
     "name": "stdout",
     "output_type": "stream",
     "text": [
      "Test Accuracy is 0.9742400020599365\n"
     ]
    }
   ],
   "source": [
    "print(\"Test Accuracy is\", model_accuracy(model, X_test2, y_test, argmax=False))"
   ]
  },
  {
   "cell_type": "code",
   "execution_count": 125,
   "metadata": {},
   "outputs": [
    {
     "name": "stdout",
     "output_type": "stream",
     "text": [
      "Train on 16000 samples, validate on 4000 samples\n",
      "Epoch 1/50\n",
      "16000/16000 [==============================] - 3s 174us/step - loss: 0.6796 - acc: 0.5536 - val_loss: 0.6383 - val_acc: 0.5802\n",
      "Epoch 2/50\n",
      "16000/16000 [==============================] - 1s 45us/step - loss: 0.6090 - acc: 0.6002 - val_loss: 0.5653 - val_acc: 0.6421\n",
      "Epoch 3/50\n",
      "16000/16000 [==============================] - 1s 48us/step - loss: 0.5616 - acc: 0.6439 - val_loss: 0.5236 - val_acc: 0.6874\n",
      "Epoch 4/50\n",
      "16000/16000 [==============================] - 1s 51us/step - loss: 0.5364 - acc: 0.6773 - val_loss: 0.4973 - val_acc: 0.7159\n",
      "Epoch 5/50\n",
      "16000/16000 [==============================] - 1s 47us/step - loss: 0.5170 - acc: 0.7021 - val_loss: 0.4727 - val_acc: 0.7559\n",
      "Epoch 6/50\n",
      "16000/16000 [==============================] - 1s 68us/step - loss: 0.5015 - acc: 0.7227 - val_loss: 0.4534 - val_acc: 0.7651\n",
      "Epoch 7/50\n",
      "16000/16000 [==============================] - 1s 57us/step - loss: 0.4901 - acc: 0.7341 - val_loss: 0.4387 - val_acc: 0.7794\n",
      "Epoch 8/50\n",
      "16000/16000 [==============================] - 2s 104us/step - loss: 0.4785 - acc: 0.7446 - val_loss: 0.4267 - val_acc: 0.7960\n",
      "Epoch 9/50\n",
      "16000/16000 [==============================] - 1s 54us/step - loss: 0.4709 - acc: 0.7503 - val_loss: 0.4144 - val_acc: 0.8009\n",
      "Epoch 10/50\n",
      "16000/16000 [==============================] - 1s 45us/step - loss: 0.4619 - acc: 0.7575 - val_loss: 0.4009 - val_acc: 0.8107\n",
      "Epoch 11/50\n",
      "16000/16000 [==============================] - 1s 46us/step - loss: 0.4556 - acc: 0.7624 - val_loss: 0.3897 - val_acc: 0.8234\n",
      "Epoch 12/50\n",
      "16000/16000 [==============================] - 1s 46us/step - loss: 0.4427 - acc: 0.7708 - val_loss: 0.3637 - val_acc: 0.8391\n",
      "Epoch 13/50\n",
      "16000/16000 [==============================] - 1s 46us/step - loss: 0.4308 - acc: 0.7766 - val_loss: 0.3677 - val_acc: 0.8364\n",
      "Epoch 14/50\n",
      "16000/16000 [==============================] - 1s 47us/step - loss: 0.4249 - acc: 0.7801 - val_loss: 0.3387 - val_acc: 0.8500\n",
      "Epoch 15/50\n",
      "16000/16000 [==============================] - 1s 54us/step - loss: 0.4162 - acc: 0.7863 - val_loss: 0.3369 - val_acc: 0.8510\n",
      "Epoch 16/50\n",
      "16000/16000 [==============================] - 1s 50us/step - loss: 0.4123 - acc: 0.7889 - val_loss: 0.3246 - val_acc: 0.8611\n",
      "Epoch 17/50\n",
      "16000/16000 [==============================] - 1s 48us/step - loss: 0.4066 - acc: 0.7921 - val_loss: 0.3166 - val_acc: 0.8647\n",
      "Epoch 18/50\n",
      "16000/16000 [==============================] - 1s 43us/step - loss: 0.3988 - acc: 0.7984 - val_loss: 0.3067 - val_acc: 0.8662\n",
      "Epoch 19/50\n",
      "16000/16000 [==============================] - 1s 43us/step - loss: 0.3929 - acc: 0.8007 - val_loss: 0.3025 - val_acc: 0.8739\n",
      "Epoch 20/50\n",
      "16000/16000 [==============================] - 1s 42us/step - loss: 0.3897 - acc: 0.8037 - val_loss: 0.2966 - val_acc: 0.8748\n",
      "Epoch 21/50\n",
      "16000/16000 [==============================] - 1s 43us/step - loss: 0.3851 - acc: 0.8048 - val_loss: 0.2980 - val_acc: 0.8705\n",
      "Epoch 22/50\n",
      "16000/16000 [==============================] - 1s 41us/step - loss: 0.3890 - acc: 0.8036 - val_loss: 0.2852 - val_acc: 0.8788\n",
      "Epoch 23/50\n",
      "16000/16000 [==============================] - 1s 41us/step - loss: 0.3787 - acc: 0.8089 - val_loss: 0.2816 - val_acc: 0.8816\n",
      "Epoch 24/50\n",
      "16000/16000 [==============================] - 1s 41us/step - loss: 0.3764 - acc: 0.8097 - val_loss: 0.2803 - val_acc: 0.8847\n",
      "Epoch 25/50\n",
      "16000/16000 [==============================] - 1s 41us/step - loss: 0.3718 - acc: 0.8125 - val_loss: 0.2746 - val_acc: 0.8823\n",
      "Epoch 26/50\n",
      "16000/16000 [==============================] - 1s 42us/step - loss: 0.3710 - acc: 0.8126 - val_loss: 0.2695 - val_acc: 0.8845\n",
      "Epoch 27/50\n",
      "16000/16000 [==============================] - 1s 48us/step - loss: 0.3689 - acc: 0.8139 - val_loss: 0.2688 - val_acc: 0.8860\n",
      "Epoch 28/50\n",
      "16000/16000 [==============================] - 1s 42us/step - loss: 0.3683 - acc: 0.8142 - val_loss: 0.2686 - val_acc: 0.8890\n",
      "Epoch 29/50\n",
      "16000/16000 [==============================] - 1s 48us/step - loss: 0.3689 - acc: 0.8129 - val_loss: 0.2647 - val_acc: 0.8882\n",
      "Epoch 30/50\n",
      "16000/16000 [==============================] - 1s 47us/step - loss: 0.3647 - acc: 0.8161 - val_loss: 0.2619 - val_acc: 0.8888\n",
      "Epoch 31/50\n",
      "16000/16000 [==============================] - 1s 44us/step - loss: 0.3641 - acc: 0.8164 - val_loss: 0.2742 - val_acc: 0.8829\n",
      "Epoch 32/50\n",
      "16000/16000 [==============================] - 1s 46us/step - loss: 0.3649 - acc: 0.8159 - val_loss: 0.2653 - val_acc: 0.8894\n",
      "Epoch 33/50\n",
      "16000/16000 [==============================] - 1s 47us/step - loss: 0.3617 - acc: 0.8170 - val_loss: 0.2576 - val_acc: 0.8904\n",
      "Epoch 34/50\n",
      "16000/16000 [==============================] - 1s 44us/step - loss: 0.3610 - acc: 0.8187 - val_loss: 0.2573 - val_acc: 0.8916\n",
      "Epoch 35/50\n",
      "16000/16000 [==============================] - 1s 43us/step - loss: 0.3577 - acc: 0.8192 - val_loss: 0.2578 - val_acc: 0.8914\n",
      "Epoch 36/50\n",
      "16000/16000 [==============================] - 1s 41us/step - loss: 0.3568 - acc: 0.8197 - val_loss: 0.2536 - val_acc: 0.8919\n",
      "Epoch 37/50\n",
      "16000/16000 [==============================] - 1s 46us/step - loss: 0.3556 - acc: 0.8201 - val_loss: 0.2505 - val_acc: 0.8954\n",
      "Epoch 38/50\n",
      "16000/16000 [==============================] - 1s 50us/step - loss: 0.3532 - acc: 0.8217 - val_loss: 0.2491 - val_acc: 0.8969\n",
      "Epoch 39/50\n",
      "16000/16000 [==============================] - 1s 51us/step - loss: 0.3525 - acc: 0.8212 - val_loss: 0.2504 - val_acc: 0.9009\n",
      "Epoch 40/50\n",
      "16000/16000 [==============================] - 1s 47us/step - loss: 0.3492 - acc: 0.8231 - val_loss: 0.2458 - val_acc: 0.8948\n",
      "Epoch 41/50\n",
      "16000/16000 [==============================] - 1s 49us/step - loss: 0.3472 - acc: 0.8258 - val_loss: 0.2453 - val_acc: 0.8980\n",
      "Epoch 42/50\n",
      "16000/16000 [==============================] - 1s 46us/step - loss: 0.3482 - acc: 0.8235 - val_loss: 0.2443 - val_acc: 0.8974\n",
      "Epoch 43/50\n",
      "16000/16000 [==============================] - 1s 46us/step - loss: 0.3458 - acc: 0.8244 - val_loss: 0.2386 - val_acc: 0.9010\n",
      "Epoch 44/50\n",
      "16000/16000 [==============================] - 1s 47us/step - loss: 0.3453 - acc: 0.8258 - val_loss: 0.2384 - val_acc: 0.9035\n",
      "Epoch 45/50\n",
      "16000/16000 [==============================] - 1s 50us/step - loss: 0.3452 - acc: 0.8268 - val_loss: 0.2371 - val_acc: 0.9052\n",
      "Epoch 46/50\n",
      "16000/16000 [==============================] - 1s 52us/step - loss: 0.3414 - acc: 0.8277 - val_loss: 0.2401 - val_acc: 0.9062\n",
      "Epoch 47/50\n",
      "16000/16000 [==============================] - 1s 50us/step - loss: 0.3404 - acc: 0.8282 - val_loss: 0.2319 - val_acc: 0.9102\n",
      "Epoch 48/50\n",
      "16000/16000 [==============================] - 1s 48us/step - loss: 0.3389 - acc: 0.8290 - val_loss: 0.2260 - val_acc: 0.9132\n",
      "Epoch 49/50\n",
      "16000/16000 [==============================] - 1s 51us/step - loss: 0.3405 - acc: 0.8286 - val_loss: 0.2271 - val_acc: 0.9135\n",
      "Epoch 50/50\n",
      "16000/16000 [==============================] - 1s 47us/step - loss: 0.3425 - acc: 0.8275 - val_loss: 0.2310 - val_acc: 0.9157\n"
     ]
    }
   ],
   "source": [
    "lr = 0.01\n",
    "model = Sequential()\n",
    "\n",
    "model.add(LSTM(20, activation=\"tanh\", input_shape=(21, 3), return_sequences=False))\n",
    "model.add(Dropout(0.5))\n",
    "\n",
    "# model.add(Dense(200, activation=\"relu\"))\n",
    "# model.add(Dropout(0.5))\n",
    "\n",
    "model.add(Dense(20, activation=\"sigmoid\"))\n",
    "model.add(Reshape((10,2)))\n",
    "\n",
    "opt = optimizers[\"adam\"](lr=lr)\n",
    "model.compile(optimizer=opt, loss=\"binary_crossentropy\", metrics=[\"accuracy\"])\n",
    "\n",
    "history = model.fit(X_train2, y_train, epochs=50, batch_size=512, verbose=1,\n",
    "          shuffle=True, validation_split=0.2)"
   ]
  },
  {
   "cell_type": "code",
   "execution_count": 126,
   "metadata": {},
   "outputs": [
    {
     "data": {
      "image/png": "[encoded data removed]",
      "text/plain": [
       "<matplotlib.figure.Figure at 0x137d37860>"
      ]
     },
     "metadata": {},
     "output_type": "display_data"
    }
   ],
   "source": [
    "plt.plot(history.history['loss'])\n",
    "plt.plot(history.history['val_loss'])\n",
    "plt.title('Basic LSTM-RNN Model Loss (k10, e0.05)')\n",
    "plt.ylabel('loss')\n",
    "plt.xlabel('epoch')\n",
    "plt.legend(['train', 'test'], loc='upper left')\n",
    "plt.show()"
   ]
  },
  {
   "cell_type": "code",
   "execution_count": 127,
   "metadata": {},
   "outputs": [
    {
     "name": "stdout",
     "output_type": "stream",
     "text": [
      "Test Accuracy is 0.913969997882843\n"
     ]
    }
   ],
   "source": [
    "print(\"Test Accuracy is\", model_accuracy(model, X_test2, y_test, argmax=False))"
   ]
  },
  {
   "cell_type": "code",
   "execution_count": 139,
   "metadata": {},
   "outputs": [
    {
     "name": "stdout",
     "output_type": "stream",
     "text": [
      "Train on 16000 samples, validate on 4000 samples\n",
      "Epoch 1/20\n",
      " - 5s - loss: 0.6703 - acc: 0.5603 - val_loss: 0.6340 - val_acc: 0.6033\n",
      "Epoch 2/20\n",
      " - 1s - loss: 0.6020 - acc: 0.6168 - val_loss: 0.5594 - val_acc: 0.6605\n",
      "Epoch 3/20\n",
      " - 1s - loss: 0.5345 - acc: 0.6904 - val_loss: 0.4723 - val_acc: 0.7586\n",
      "Epoch 4/20\n",
      " - 1s - loss: 0.4599 - acc: 0.7642 - val_loss: 0.3976 - val_acc: 0.8032\n",
      "Epoch 5/20\n",
      " - 1s - loss: 0.4012 - acc: 0.8008 - val_loss: 0.3471 - val_acc: 0.8347\n",
      "Epoch 6/20\n",
      " - 1s - loss: 0.3614 - acc: 0.8260 - val_loss: 0.3068 - val_acc: 0.8522\n",
      "Epoch 7/20\n",
      " - 1s - loss: 0.3260 - acc: 0.8475 - val_loss: 0.2677 - val_acc: 0.8826\n",
      "Epoch 8/20\n",
      " - 1s - loss: 0.2981 - acc: 0.8647 - val_loss: 0.2317 - val_acc: 0.9032\n",
      "Epoch 9/20\n",
      " - 1s - loss: 0.2669 - acc: 0.8832 - val_loss: 0.2005 - val_acc: 0.9197\n",
      "Epoch 10/20\n",
      " - 1s - loss: 0.2403 - acc: 0.8991 - val_loss: 0.1706 - val_acc: 0.9369\n",
      "Epoch 11/20\n",
      " - 1s - loss: 0.2153 - acc: 0.9122 - val_loss: 0.1459 - val_acc: 0.9485\n",
      "Epoch 12/20\n",
      " - 1s - loss: 0.1939 - acc: 0.9240 - val_loss: 0.1298 - val_acc: 0.9536\n",
      "Epoch 13/20\n",
      " - 1s - loss: 0.1801 - acc: 0.9302 - val_loss: 0.1102 - val_acc: 0.9623\n",
      "Epoch 14/20\n",
      " - 1s - loss: 0.1594 - acc: 0.9396 - val_loss: 0.1076 - val_acc: 0.9618\n",
      "Epoch 15/20\n",
      " - 1s - loss: 0.1527 - acc: 0.9430 - val_loss: 0.0968 - val_acc: 0.9653\n",
      "Epoch 16/20\n",
      " - 1s - loss: 0.1453 - acc: 0.9461 - val_loss: 0.0892 - val_acc: 0.9675\n",
      "Epoch 17/20\n",
      " - 1s - loss: 0.1361 - acc: 0.9493 - val_loss: 0.0884 - val_acc: 0.9689\n",
      "Epoch 18/20\n",
      " - 1s - loss: 0.1292 - acc: 0.9525 - val_loss: 0.0811 - val_acc: 0.9718\n",
      "Epoch 19/20\n",
      " - 1s - loss: 0.1235 - acc: 0.9544 - val_loss: 0.0901 - val_acc: 0.9689\n",
      "Epoch 20/20\n",
      " - 1s - loss: 0.1202 - acc: 0.9558 - val_loss: 0.0793 - val_acc: 0.9714\n"
     ]
    }
   ],
   "source": [
    "lr = 0.01\n",
    "model = Sequential()\n",
    "\n",
    "model.add(LSTM(60, activation=\"tanh\", input_shape=(21, 3), return_sequences=False))\n",
    "model.add(Dropout(0.5))\n",
    "\n",
    "model.add(Dense(20, activation=\"sigmoid\"))\n",
    "model.add(Reshape((10,2)))\n",
    "\n",
    "opt = optimizers[\"adam\"](lr=lr)\n",
    "model.compile(optimizer=opt, loss=\"binary_crossentropy\", metrics=[\"accuracy\"])\n",
    "\n",
    "history = model.fit(X_train2, y_train, epochs=20, batch_size=512, verbose=2,\n",
    "          shuffle=True, validation_split=0.2)"
   ]
  },
  {
   "cell_type": "code",
   "execution_count": 140,
   "metadata": {},
   "outputs": [
    {
     "data": {
      "image/png": "[encoded data removed]",
      "text/plain": [
       "<matplotlib.figure.Figure at 0x14641ec88>"
      ]
     },
     "metadata": {},
     "output_type": "display_data"
    }
   ],
   "source": [
    "plt.plot(history.history['loss'])\n",
    "plt.plot(history.history['val_loss'])\n",
    "plt.title('Basic LSTM-RNN Model Loss (k10, e0.05)')\n",
    "plt.ylabel('loss')\n",
    "plt.xlabel('epoch')\n",
    "plt.legend(['train', 'test'], loc='upper left')\n",
    "plt.show()"
   ]
  },
  {
   "cell_type": "code",
   "execution_count": 141,
   "metadata": {},
   "outputs": [
    {
     "name": "stdout",
     "output_type": "stream",
     "text": [
      "Test Accuracy is 0.9724800010681153\n"
     ]
    }
   ],
   "source": [
    "print(\"Test Accuracy is\", model_accuracy(model, X_test2, y_test, argmax=False))"
   ]
  },
  {
   "cell_type": "code",
   "execution_count": 143,
   "metadata": {},
   "outputs": [
    {
     "name": "stdout",
     "output_type": "stream",
     "text": [
      "(20000, 41, 3)\n",
      "(5000, 41, 3)\n"
     ]
    }
   ],
   "source": [
    "data_path = \"../data/dataset_04/data/dataset_n25000_k20_e0.05.pkl\"\n",
    "train, test, original = build_data_from_path(data_path)\n",
    "X_train, y_train = train\n",
    "X_test, y_test = test\n",
    "X, y, y_oh, y_viterbi_decoded = original\n",
    "\n",
    "X_train = prepare_data_for_lstm(X_train)\n",
    "X_test = prepare_data_for_lstm(X_test)\n",
    "print(X_train.shape)\n",
    "print(X_test.shape)"
   ]
  },
  {
   "cell_type": "code",
   "execution_count": 149,
   "metadata": {},
   "outputs": [
    {
     "name": "stdout",
     "output_type": "stream",
     "text": [
      "Train on 16000 samples, validate on 4000 samples\n",
      "Epoch 1/20\n",
      " - 13s - loss: 0.6774 - acc: 0.5343 - val_loss: 0.6418 - val_acc: 0.5648\n",
      "Epoch 2/20\n",
      " - 6s - loss: 0.6190 - acc: 0.5928 - val_loss: 0.5804 - val_acc: 0.6400\n",
      "Epoch 3/20\n",
      " - 6s - loss: 0.5624 - acc: 0.6639 - val_loss: 0.5251 - val_acc: 0.6993\n",
      "Epoch 4/20\n",
      " - 6s - loss: 0.5216 - acc: 0.7044 - val_loss: 0.4875 - val_acc: 0.7317\n",
      "Epoch 5/20\n",
      " - 5s - loss: 0.4869 - acc: 0.7341 - val_loss: 0.4454 - val_acc: 0.7667\n",
      "Epoch 6/20\n",
      " - 5s - loss: 0.4558 - acc: 0.7584 - val_loss: 0.4186 - val_acc: 0.7819\n",
      "Epoch 7/20\n",
      " - 6s - loss: 0.4333 - acc: 0.7754 - val_loss: 0.3897 - val_acc: 0.8060\n",
      "Epoch 8/20\n",
      " - 6s - loss: 0.4089 - acc: 0.7932 - val_loss: 0.3795 - val_acc: 0.8150\n",
      "Epoch 9/20\n",
      " - 6s - loss: 0.3946 - acc: 0.8033 - val_loss: 0.3472 - val_acc: 0.8282\n",
      "Epoch 10/20\n",
      " - 5s - loss: 0.3723 - acc: 0.8176 - val_loss: 0.3300 - val_acc: 0.8416\n",
      "Epoch 11/20\n",
      " - 7s - loss: 0.3564 - acc: 0.8272 - val_loss: 0.3089 - val_acc: 0.8610\n",
      "Epoch 12/20\n",
      " - 5s - loss: 0.3368 - acc: 0.8403 - val_loss: 0.2831 - val_acc: 0.8731\n",
      "Epoch 13/20\n",
      " - 6s - loss: 0.3239 - acc: 0.8481 - val_loss: 0.2595 - val_acc: 0.8881\n",
      "Epoch 14/20\n",
      " - 5s - loss: 0.3012 - acc: 0.8609 - val_loss: 0.2517 - val_acc: 0.8959\n",
      "Epoch 15/20\n",
      " - 5s - loss: 0.2894 - acc: 0.8678 - val_loss: 0.2269 - val_acc: 0.9057\n",
      "Epoch 16/20\n",
      " - 5s - loss: 0.2731 - acc: 0.8781 - val_loss: 0.2084 - val_acc: 0.9154\n",
      "Epoch 17/20\n",
      " - 5s - loss: 0.2569 - acc: 0.8861 - val_loss: 0.1950 - val_acc: 0.9206\n",
      "Epoch 18/20\n",
      " - 5s - loss: 0.2470 - acc: 0.8914 - val_loss: 0.1958 - val_acc: 0.9182\n",
      "Epoch 19/20\n",
      " - 5s - loss: 0.2334 - acc: 0.8994 - val_loss: 0.1609 - val_acc: 0.9382\n",
      "Epoch 20/20\n",
      " - 5s - loss: 0.2169 - acc: 0.9080 - val_loss: 0.1720 - val_acc: 0.9416\n"
     ]
    },
    {
     "data": {
      "image/png": "[encoded data removed]",
      "text/plain": [
       "<matplotlib.figure.Figure at 0x148b04ac8>"
      ]
     },
     "metadata": {},
     "output_type": "display_data"
    }
   ],
   "source": [
    "lr = 0.01\n",
    "model = Sequential()\n",
    "\n",
    "model.add(LSTM(100, activation=\"tanh\", input_shape=X_train.shape[1:], return_sequences=False))\n",
    "model.add(Dropout(0.5))\n",
    "\n",
    "model.add(Dense(40, activation=\"sigmoid\"))\n",
    "model.add(Reshape((20,2)))\n",
    "\n",
    "opt = optimizers[\"adam\"](lr=lr)\n",
    "model.compile(optimizer=opt, loss=\"binary_crossentropy\", metrics=[\"accuracy\"])\n",
    "\n",
    "history = model.fit(X_train, y_train, epochs=20, batch_size=512, verbose=2,\n",
    "          shuffle=True, validation_split=0.2)\n",
    "\n",
    "plt.plot(history.history['loss'])\n",
    "plt.plot(history.history['val_loss'])\n",
    "plt.title('Basic LSTM-RNN Model Loss (k20, e0.05)')\n",
    "plt.ylabel('loss')\n",
    "plt.xlabel('epoch')\n",
    "plt.legend(['train', 'test'], loc='upper left')\n",
    "plt.show()"
   ]
  },
  {
   "cell_type": "code",
   "execution_count": 150,
   "metadata": {},
   "outputs": [
    {
     "name": "stdout",
     "output_type": "stream",
     "text": [
      "(20000, 21, 3)\n",
      "(5000, 21, 3)\n"
     ]
    }
   ],
   "source": [
    "data_path = \"../data/dataset_04/data/dataset_n25000_k10_e0.05.pkl\"\n",
    "train, test, original = build_data_from_path(data_path)\n",
    "X_train, y_train = train\n",
    "X_test, y_test = test\n",
    "X, y, y_oh, y_viterbi_decoded = original\n",
    "\n",
    "X_train = prepare_data_for_lstm(X_train)\n",
    "X_test = prepare_data_for_lstm(X_test)\n",
    "print(X_train.shape)\n",
    "print(X_test.shape)"
   ]
  },
  {
   "cell_type": "code",
   "execution_count": 151,
   "metadata": {
    "collapsed": true
   },
   "outputs": [],
   "source": [
    "X_train = utils.np_utils.normalize(X_train)"
   ]
  },
  {
   "cell_type": "code",
   "execution_count": 156,
   "metadata": {},
   "outputs": [
    {
     "name": "stdout",
     "output_type": "stream",
     "text": [
      "Train on 16000 samples, validate on 4000 samples\n",
      "Epoch 1/20\n",
      " - 6s - loss: 0.6557 - acc: 0.5806 - val_loss: 0.5986 - val_acc: 0.6359\n",
      "Epoch 2/20\n",
      " - 3s - loss: 0.5449 - acc: 0.6901 - val_loss: 0.4647 - val_acc: 0.7495\n",
      "Epoch 3/20\n",
      " - 3s - loss: 0.4413 - acc: 0.7681 - val_loss: 0.3696 - val_acc: 0.8274\n",
      "Epoch 4/20\n",
      " - 3s - loss: 0.3599 - acc: 0.8291 - val_loss: 0.3000 - val_acc: 0.8627\n",
      "Epoch 5/20\n",
      " - 3s - loss: 0.3000 - acc: 0.8670 - val_loss: 0.2249 - val_acc: 0.9097\n",
      "Epoch 6/20\n",
      " - 3s - loss: 0.2448 - acc: 0.8983 - val_loss: 0.1762 - val_acc: 0.9333\n",
      "Epoch 7/20\n",
      " - 3s - loss: 0.1964 - acc: 0.9247 - val_loss: 0.1445 - val_acc: 0.9471\n",
      "Epoch 8/20\n",
      " - 3s - loss: 0.1604 - acc: 0.9407 - val_loss: 0.1060 - val_acc: 0.9615\n",
      "Epoch 9/20\n",
      " - 3s - loss: 0.1352 - acc: 0.9517 - val_loss: 0.0989 - val_acc: 0.9637\n",
      "Epoch 10/20\n",
      " - 2s - loss: 0.1195 - acc: 0.9577 - val_loss: 0.0911 - val_acc: 0.9683\n",
      "Epoch 11/20\n",
      " - 2s - loss: 0.1067 - acc: 0.9628 - val_loss: 0.0808 - val_acc: 0.9707\n",
      "Epoch 12/20\n",
      " - 2s - loss: 0.0953 - acc: 0.9667 - val_loss: 0.0731 - val_acc: 0.9742\n",
      "Epoch 13/20\n",
      " - 3s - loss: 0.0859 - acc: 0.9701 - val_loss: 0.0722 - val_acc: 0.9745\n",
      "Epoch 14/20\n",
      " - 4s - loss: 0.0820 - acc: 0.9713 - val_loss: 0.0709 - val_acc: 0.9743\n",
      "Epoch 15/20\n",
      " - 4s - loss: 0.0774 - acc: 0.9728 - val_loss: 0.0735 - val_acc: 0.9750\n",
      "Epoch 16/20\n",
      " - 3s - loss: 0.0759 - acc: 0.9737 - val_loss: 0.0643 - val_acc: 0.9767\n",
      "Epoch 17/20\n",
      " - 3s - loss: 0.0708 - acc: 0.9754 - val_loss: 0.0600 - val_acc: 0.9788\n",
      "Epoch 18/20\n",
      " - 3s - loss: 0.0639 - acc: 0.9778 - val_loss: 0.0606 - val_acc: 0.9787\n",
      "Epoch 19/20\n",
      " - 3s - loss: 0.0616 - acc: 0.9789 - val_loss: 0.0657 - val_acc: 0.9788\n",
      "Epoch 20/20\n",
      " - 3s - loss: 0.0591 - acc: 0.9792 - val_loss: 0.0611 - val_acc: 0.9796\n"
     ]
    }
   ],
   "source": [
    "lr = 0.01\n",
    "model = Sequential()\n",
    "\n",
    "model.add(LSTM(100, activation=\"tanh\", input_shape=X_train.shape[1:], return_sequences=False))\n",
    "model.add(Dropout(0.5))\n",
    "\n",
    "model.add(Dense(20, activation=\"sigmoid\"))\n",
    "model.add(Reshape((10,2)))\n",
    "\n",
    "opt = optimizers[\"adam\"](lr=lr)\n",
    "model.compile(optimizer=opt, loss=\"binary_crossentropy\", metrics=[\"accuracy\"])\n",
    "\n",
    "history = model.fit(X_train, y_train, epochs=20, batch_size=512, verbose=2,\n",
    "          shuffle=True, validation_split=0.2)"
   ]
  },
  {
   "cell_type": "code",
   "execution_count": 161,
   "metadata": {},
   "outputs": [
    {
     "data": {
      "image/png": "[encoded data removed]",
      "text/plain": [
       "<matplotlib.figure.Figure at 0x11b001898>"
      ]
     },
     "metadata": {},
     "output_type": "display_data"
    }
   ],
   "source": [
    "plt.plot(history.history['loss'])\n",
    "plt.plot(history.history['val_loss'])\n",
    "plt.title('Basic LSTM-RNN Model Loss (k10, e0.05) with normalized data')\n",
    "plt.ylabel('loss')\n",
    "plt.xlabel('epoch')\n",
    "plt.legend(['train', 'test'], loc='upper left')\n",
    "plt.show()"
   ]
  },
  {
   "cell_type": "code",
   "execution_count": 162,
   "metadata": {},
   "outputs": [
    {
     "name": "stdout",
     "output_type": "stream",
     "text": [
      "Train on 16000 samples, validate on 4000 samples\n",
      "Epoch 1/20\n",
      " - 7s - loss: 0.6617 - acc: 0.5681 - val_loss: 0.5877 - val_acc: 0.6385\n",
      "Epoch 2/20\n",
      " - 3s - loss: 0.5290 - acc: 0.6786 - val_loss: 0.4691 - val_acc: 0.7312\n",
      "Epoch 3/20\n",
      " - 3s - loss: 0.4513 - acc: 0.7644 - val_loss: 0.3738 - val_acc: 0.8220\n",
      "Epoch 4/20\n",
      " - 3s - loss: 0.3536 - acc: 0.8330 - val_loss: 0.2719 - val_acc: 0.8754\n",
      "Epoch 5/20\n",
      " - 2s - loss: 0.2736 - acc: 0.8804 - val_loss: 0.1955 - val_acc: 0.9236\n",
      "Epoch 6/20\n",
      " - 2s - loss: 0.2129 - acc: 0.9135 - val_loss: 0.1413 - val_acc: 0.9494\n",
      "Epoch 7/20\n",
      " - 3s - loss: 0.1648 - acc: 0.9385 - val_loss: 0.1062 - val_acc: 0.9641\n",
      "Epoch 8/20\n",
      " - 3s - loss: 0.1365 - acc: 0.9516 - val_loss: 0.0949 - val_acc: 0.9686\n",
      "Epoch 9/20\n",
      " - 3s - loss: 0.1232 - acc: 0.9576 - val_loss: 0.0812 - val_acc: 0.9711\n",
      "Epoch 10/20\n",
      " - 3s - loss: 0.1054 - acc: 0.9634 - val_loss: 0.0739 - val_acc: 0.9745\n",
      "Epoch 11/20\n",
      " - 3s - loss: 0.0955 - acc: 0.9667 - val_loss: 0.0741 - val_acc: 0.9744\n",
      "Epoch 12/20\n",
      " - 3s - loss: 0.0895 - acc: 0.9693 - val_loss: 0.0660 - val_acc: 0.9769\n",
      "Epoch 13/20\n",
      " - 3s - loss: 0.0831 - acc: 0.9710 - val_loss: 0.0627 - val_acc: 0.9772\n",
      "Epoch 14/20\n",
      " - 3s - loss: 0.0798 - acc: 0.9727 - val_loss: 0.0692 - val_acc: 0.9764\n",
      "Epoch 15/20\n",
      " - 2s - loss: 0.0782 - acc: 0.9727 - val_loss: 0.0628 - val_acc: 0.9781\n",
      "Epoch 16/20\n",
      " - 3s - loss: 0.0734 - acc: 0.9741 - val_loss: 0.0632 - val_acc: 0.9780\n",
      "Epoch 17/20\n",
      " - 3s - loss: 0.0687 - acc: 0.9760 - val_loss: 0.0608 - val_acc: 0.9790\n",
      "Epoch 18/20\n",
      " - 3s - loss: 0.0654 - acc: 0.9771 - val_loss: 0.0588 - val_acc: 0.9803\n",
      "Epoch 19/20\n",
      " - 3s - loss: 0.0640 - acc: 0.9772 - val_loss: 0.0554 - val_acc: 0.9805\n",
      "Epoch 20/20\n",
      " - 3s - loss: 0.0614 - acc: 0.9781 - val_loss: 0.0582 - val_acc: 0.9804\n"
     ]
    }
   ],
   "source": [
    "data_path = \"../data/dataset_04/data/dataset_n25000_k10_e0.05.pkl\"\n",
    "train, test, original = build_data_from_path(data_path)\n",
    "X_train, y_train = train\n",
    "X_test, y_test = test\n",
    "X, y, y_oh, y_viterbi_decoded = original\n",
    "\n",
    "X_train = prepare_data_for_lstm(X_train)\n",
    "X_test = prepare_data_for_lstm(X_test)\n",
    "\n",
    "lr = 0.01\n",
    "model = Sequential()\n",
    "\n",
    "model.add(LSTM(100, activation=\"tanh\", input_shape=X_train.shape[1:], return_sequences=False))\n",
    "model.add(Dropout(0.5))\n",
    "\n",
    "model.add(Dense(20, activation=\"sigmoid\"))\n",
    "model.add(Reshape((10,2)))\n",
    "\n",
    "opt = optimizers[\"adam\"](lr=lr)\n",
    "model.compile(optimizer=opt, loss=\"binary_crossentropy\", metrics=[\"accuracy\"])\n",
    "\n",
    "history2 = model.fit(X_train, y_train, epochs=20, batch_size=512, verbose=2,\n",
    "          shuffle=True, validation_split=0.2)"
   ]
  },
  {
   "cell_type": "code",
   "execution_count": 166,
   "metadata": {},
   "outputs": [
    {
     "data": {
      "image/png": "[encoded data removed]",
      "text/plain": [
       "<matplotlib.figure.Figure at 0x11b1a53c8>"
      ]
     },
     "metadata": {},
     "output_type": "display_data"
    }
   ],
   "source": [
    "plt.plot(history2.history['loss'], label=\"regular data loss\")\n",
    "plt.plot(history.history['loss'], label=\"normalized data loss\")\n",
    "\n",
    "plt.title('Basic LSTM-RNN Model Loss (k10, e0.05)')\n",
    "plt.ylabel('loss')\n",
    "plt.xlabel('epoch')\n",
    "plt.legend()\n",
    "plt.show()"
   ]
  },
  {
   "cell_type": "code",
   "execution_count": 167,
   "metadata": {},
   "outputs": [
    {
     "data": {
      "image/png": "[encoded data removed]",
      "text/plain": [
       "<matplotlib.figure.Figure at 0x1537fd278>"
      ]
     },
     "metadata": {},
     "output_type": "display_data"
    }
   ],
   "source": [
    "plt.plot(history2.history['val_loss'], label=\"regular data val_loss\")\n",
    "plt.plot(history.history['val_loss'], label=\"normalized data val_loss\")\n",
    "\n",
    "plt.title('Basic LSTM-RNN Model Loss (k10, e0.05)')\n",
    "plt.ylabel('loss')\n",
    "plt.xlabel('epoch')\n",
    "plt.legend()\n",
    "plt.show()"
   ]
  },
  {
   "cell_type": "code",
   "execution_count": 170,
   "metadata": {},
   "outputs": [],
   "source": [
    "from keras.layers import Bidirectional"
   ]
  },
  {
   "cell_type": "code",
   "execution_count": 172,
   "metadata": {},
   "outputs": [
    {
     "name": "stdout",
     "output_type": "stream",
     "text": [
      "Train on 16000 samples, validate on 4000 samples\n",
      "Epoch 1/20\n",
      " - 11s - loss: 0.5988 - acc: 0.6383 - val_loss: 0.4522 - val_acc: 0.7557\n",
      "Epoch 2/20\n",
      " - 5s - loss: 0.3800 - acc: 0.8056 - val_loss: 0.2690 - val_acc: 0.8829\n",
      "Epoch 3/20\n",
      " - 5s - loss: 0.2354 - acc: 0.9008 - val_loss: 0.1605 - val_acc: 0.9391\n",
      "Epoch 4/20\n",
      " - 5s - loss: 0.1497 - acc: 0.9452 - val_loss: 0.1006 - val_acc: 0.9641\n",
      "Epoch 5/20\n",
      " - 4s - loss: 0.1103 - acc: 0.9612 - val_loss: 0.0773 - val_acc: 0.9723\n",
      "Epoch 6/20\n",
      " - 5s - loss: 0.0847 - acc: 0.9705 - val_loss: 0.0634 - val_acc: 0.9774\n",
      "Epoch 7/20\n",
      " - 5s - loss: 0.0723 - acc: 0.9751 - val_loss: 0.0521 - val_acc: 0.9814\n",
      "Epoch 8/20\n",
      " - 5s - loss: 0.0612 - acc: 0.9789 - val_loss: 0.0535 - val_acc: 0.9802\n",
      "Epoch 9/20\n",
      " - 5s - loss: 0.0569 - acc: 0.9803 - val_loss: 0.0508 - val_acc: 0.9817\n",
      "Epoch 10/20\n",
      " - 5s - loss: 0.0510 - acc: 0.9824 - val_loss: 0.0450 - val_acc: 0.9836\n",
      "Epoch 11/20\n",
      " - 5s - loss: 0.0461 - acc: 0.9842 - val_loss: 0.0459 - val_acc: 0.9840\n",
      "Epoch 12/20\n",
      " - 5s - loss: 0.0420 - acc: 0.9855 - val_loss: 0.0442 - val_acc: 0.9842\n",
      "Epoch 13/20\n",
      " - 7s - loss: 0.0389 - acc: 0.9864 - val_loss: 0.0443 - val_acc: 0.9841\n",
      "Epoch 14/20\n",
      " - 6s - loss: 0.0375 - acc: 0.9869 - val_loss: 0.0429 - val_acc: 0.9845\n",
      "Epoch 15/20\n",
      " - 6s - loss: 0.0354 - acc: 0.9878 - val_loss: 0.0417 - val_acc: 0.9854\n",
      "Epoch 16/20\n",
      " - 5s - loss: 0.0348 - acc: 0.9879 - val_loss: 0.0405 - val_acc: 0.9853\n",
      "Epoch 17/20\n",
      " - 5s - loss: 0.0326 - acc: 0.9887 - val_loss: 0.0409 - val_acc: 0.9862\n",
      "Epoch 18/20\n",
      " - 5s - loss: 0.0316 - acc: 0.9891 - val_loss: 0.0427 - val_acc: 0.9853\n",
      "Epoch 19/20\n",
      " - 5s - loss: 0.0329 - acc: 0.9886 - val_loss: 0.0435 - val_acc: 0.9849\n",
      "Epoch 20/20\n",
      " - 6s - loss: 0.0290 - acc: 0.9901 - val_loss: 0.0403 - val_acc: 0.9858\n"
     ]
    }
   ],
   "source": [
    "data_path = \"../data/dataset_04/data/dataset_n25000_k10_e0.05.pkl\"\n",
    "train, test, original = build_data_from_path(data_path)\n",
    "X_train, y_train = train\n",
    "X_test, y_test = test\n",
    "X, y, y_oh, y_viterbi_decoded = original\n",
    "\n",
    "X_train = prepare_data_for_lstm(X_train)\n",
    "X_test = prepare_data_for_lstm(X_test)\n",
    "\n",
    "lr = 0.01\n",
    "model = Sequential()\n",
    "\n",
    "model.add(Bidirectional(LSTM(100, activation=\"tanh\", return_sequences=False), input_shape=X_train.shape[1:]))\n",
    "model.add(Dropout(0.5))\n",
    "\n",
    "model.add(Dense(20, activation=\"sigmoid\"))\n",
    "model.add(Reshape((10,2)))\n",
    "\n",
    "opt = optimizers[\"adam\"](lr=lr)\n",
    "model.compile(optimizer=opt, loss=\"binary_crossentropy\", metrics=[\"accuracy\"])\n",
    "\n",
    "history = model.fit(X_train, y_train, epochs=20, batch_size=512, verbose=2,\n",
    "          shuffle=True, validation_split=0.2)"
   ]
  },
  {
   "cell_type": "code",
   "execution_count": 173,
   "metadata": {},
   "outputs": [
    {
     "data": {
      "image/png": "[encoded data removed]",
      "text/plain": [
       "<matplotlib.figure.Figure at 0x15478af60>"
      ]
     },
     "metadata": {},
     "output_type": "display_data"
    }
   ],
   "source": [
    "plt.plot(history.history['loss'], label=\"training loss\")\n",
    "plt.plot(history.history['val_loss'], label=\"validation loss\")\n",
    "plt.title('Bidirectional LSTM-RNN Model Loss (k10, e0.05)')\n",
    "plt.ylabel('loss')\n",
    "plt.xlabel('epoch')\n",
    "plt.legend()\n",
    "plt.show()"
   ]
  },
  {
   "cell_type": "code",
   "execution_count": 174,
   "metadata": {},
   "outputs": [
    {
     "name": "stdout",
     "output_type": "stream",
     "text": [
      "Train on 16000 samples, validate on 4000 samples\n",
      "Epoch 1/20\n",
      " - 20s - loss: 0.6529 - acc: 0.5686 - val_loss: 0.5753 - val_acc: 0.6350\n",
      "Epoch 2/20\n",
      " - 13s - loss: 0.5288 - acc: 0.6903 - val_loss: 0.4550 - val_acc: 0.7534\n",
      "Epoch 3/20\n",
      " - 10s - loss: 0.4353 - acc: 0.7733 - val_loss: 0.3755 - val_acc: 0.8125\n",
      "Epoch 4/20\n",
      " - 11s - loss: 0.3713 - acc: 0.8153 - val_loss: 0.3178 - val_acc: 0.8513\n",
      "Epoch 5/20\n",
      " - 12s - loss: 0.3206 - acc: 0.8478 - val_loss: 0.2712 - val_acc: 0.8813\n",
      "Epoch 6/20\n",
      " - 10s - loss: 0.2739 - acc: 0.8760 - val_loss: 0.2311 - val_acc: 0.9033\n",
      "Epoch 7/20\n",
      " - 9s - loss: 0.2404 - acc: 0.8956 - val_loss: 0.1922 - val_acc: 0.9237\n",
      "Epoch 8/20\n",
      " - 12s - loss: 0.2088 - acc: 0.9123 - val_loss: 0.1668 - val_acc: 0.9356\n",
      "Epoch 9/20\n",
      " - 11s - loss: 0.1849 - acc: 0.9255 - val_loss: 0.1442 - val_acc: 0.9471\n",
      "Epoch 10/20\n",
      " - 8s - loss: 0.1614 - acc: 0.9369 - val_loss: 0.1251 - val_acc: 0.9531\n",
      "Epoch 11/20\n",
      " - 8s - loss: 0.1422 - acc: 0.9459 - val_loss: 0.1097 - val_acc: 0.9609\n",
      "Epoch 12/20\n",
      " - 8s - loss: 0.1267 - acc: 0.9535 - val_loss: 0.1004 - val_acc: 0.9639\n",
      "Epoch 13/20\n",
      " - 10s - loss: 0.1149 - acc: 0.9577 - val_loss: 0.0957 - val_acc: 0.9648\n",
      "Epoch 14/20\n",
      " - 10s - loss: 0.1069 - acc: 0.9608 - val_loss: 0.0912 - val_acc: 0.9655\n",
      "Epoch 15/20\n",
      " - 9s - loss: 0.1047 - acc: 0.9617 - val_loss: 0.0842 - val_acc: 0.9671\n",
      "Epoch 16/20\n",
      " - 10s - loss: 0.0967 - acc: 0.9648 - val_loss: 0.0826 - val_acc: 0.9683\n",
      "Epoch 17/20\n",
      " - 11s - loss: 0.0906 - acc: 0.9669 - val_loss: 0.0867 - val_acc: 0.9678\n",
      "Epoch 18/20\n",
      " - 10s - loss: 0.0848 - acc: 0.9689 - val_loss: 0.0760 - val_acc: 0.9706\n",
      "Epoch 19/20\n",
      " - 10s - loss: 0.0823 - acc: 0.9702 - val_loss: 0.0788 - val_acc: 0.9698\n",
      "Epoch 20/20\n",
      " - 10s - loss: 0.0782 - acc: 0.9712 - val_loss: 0.0767 - val_acc: 0.9705\n"
     ]
    }
   ],
   "source": [
    "data_path = \"../data/dataset_04/data/dataset_n25000_k20_e0.05.pkl\"\n",
    "train, test, original = build_data_from_path(data_path)\n",
    "X_train, y_train = train\n",
    "X_test, y_test = test\n",
    "X, y, y_oh, y_viterbi_decoded = original\n",
    "\n",
    "X_train = prepare_data_for_lstm(X_train)\n",
    "X_test = prepare_data_for_lstm(X_test)\n",
    "\n",
    "lr = 0.01\n",
    "model = Sequential()\n",
    "\n",
    "model.add(Bidirectional(LSTM(100, activation=\"tanh\", return_sequences=False), input_shape=X_train.shape[1:]))\n",
    "model.add(Dropout(0.5))\n",
    "\n",
    "model.add(Dense(40, activation=\"sigmoid\"))\n",
    "model.add(Reshape((20,2)))\n",
    "\n",
    "opt = optimizers[\"adam\"](lr=lr)\n",
    "model.compile(optimizer=opt, loss=\"binary_crossentropy\", metrics=[\"accuracy\"])\n",
    "\n",
    "history = model.fit(X_train, y_train, epochs=20, batch_size=512, verbose=2,\n",
    "          shuffle=True, validation_split=0.2)"
   ]
  },
  {
   "cell_type": "code",
   "execution_count": 175,
   "metadata": {},
   "outputs": [
    {
     "data": {
      "image/png": "[encoded data removed]",
      "text/plain": [
       "<matplotlib.figure.Figure at 0x119d643c8>"
      ]
     },
     "metadata": {},
     "output_type": "display_data"
    }
   ],
   "source": [
    "plt.plot(history.history['loss'], label=\"training loss\")\n",
    "plt.plot(history.history['val_loss'], label=\"validation loss\")\n",
    "plt.title('Bidirectional LSTM-RNN Model Loss (k20, e0.05)')\n",
    "plt.ylabel('loss')\n",
    "plt.xlabel('epoch')\n",
    "plt.legend()\n",
    "plt.show()"
   ]
  },
  {
   "cell_type": "code",
   "execution_count": 177,
   "metadata": {},
   "outputs": [
    {
     "name": "stdout",
     "output_type": "stream",
     "text": [
      "Test Accuracy is 0.9698800017356872\n"
     ]
    }
   ],
   "source": [
    "print(\"Test Accuracy is\", model_accuracy(model, X_test, y_test, argmax=False))"
   ]
  },
  {
   "cell_type": "code",
   "execution_count": 178,
   "metadata": {},
   "outputs": [
    {
     "name": "stdout",
     "output_type": "stream",
     "text": [
      "Train on 16000 samples, validate on 4000 samples\n",
      "Epoch 1/20\n",
      " - 15s - loss: 0.6376 - acc: 0.5948 - val_loss: 0.5614 - val_acc: 0.6549\n",
      "Epoch 2/20\n",
      " - 9s - loss: 0.5202 - acc: 0.6922 - val_loss: 0.4757 - val_acc: 0.7354\n",
      "Epoch 3/20\n",
      " - 9s - loss: 0.4635 - acc: 0.7431 - val_loss: 0.4244 - val_acc: 0.7784\n",
      "Epoch 4/20\n",
      " - 8s - loss: 0.4251 - acc: 0.7789 - val_loss: 0.3948 - val_acc: 0.8023\n",
      "Epoch 5/20\n",
      " - 8s - loss: 0.3926 - acc: 0.8065 - val_loss: 0.3540 - val_acc: 0.8335\n",
      "Epoch 6/20\n",
      " - 9s - loss: 0.3648 - acc: 0.8263 - val_loss: 0.3356 - val_acc: 0.8454\n",
      "Epoch 7/20\n",
      " - 7s - loss: 0.3417 - acc: 0.8422 - val_loss: 0.3046 - val_acc: 0.8637\n",
      "Epoch 8/20\n",
      " - 9s - loss: 0.3220 - acc: 0.8544 - val_loss: 0.2913 - val_acc: 0.8724\n",
      "Epoch 9/20\n",
      " - 16s - loss: 0.3027 - acc: 0.8665 - val_loss: 0.2710 - val_acc: 0.8841\n",
      "Epoch 10/20\n",
      " - 10s - loss: 0.2868 - acc: 0.8749 - val_loss: 0.2691 - val_acc: 0.8856\n",
      "Epoch 11/20\n",
      " - 10s - loss: 0.2754 - acc: 0.8804 - val_loss: 0.2570 - val_acc: 0.8898\n",
      "Epoch 12/20\n",
      " - 8s - loss: 0.2648 - acc: 0.8869 - val_loss: 0.2460 - val_acc: 0.8957\n",
      "Epoch 13/20\n",
      " - 8s - loss: 0.2539 - acc: 0.8912 - val_loss: 0.2426 - val_acc: 0.8967\n",
      "Epoch 14/20\n",
      " - 9s - loss: 0.2477 - acc: 0.8946 - val_loss: 0.2371 - val_acc: 0.8992\n",
      "Epoch 15/20\n",
      " - 7s - loss: 0.2352 - acc: 0.9008 - val_loss: 0.2314 - val_acc: 0.9027\n",
      "Epoch 16/20\n",
      " - 7s - loss: 0.2308 - acc: 0.9033 - val_loss: 0.2322 - val_acc: 0.9028\n",
      "Epoch 17/20\n",
      " - 7s - loss: 0.2225 - acc: 0.9074 - val_loss: 0.2227 - val_acc: 0.9050\n",
      "Epoch 18/20\n",
      " - 7s - loss: 0.2188 - acc: 0.9085 - val_loss: 0.2262 - val_acc: 0.9056\n",
      "Epoch 19/20\n",
      " - 8s - loss: 0.2098 - acc: 0.9128 - val_loss: 0.2307 - val_acc: 0.9020\n",
      "Epoch 20/20\n",
      " - 7s - loss: 0.2081 - acc: 0.9127 - val_loss: 0.2258 - val_acc: 0.9056\n"
     ]
    }
   ],
   "source": [
    "data_path = \"../data/dataset_04/data/dataset_n25000_k10_e0.15.pkl\"\n",
    "train, test, original = build_data_from_path(data_path)\n",
    "X_train, y_train = train\n",
    "X_test, y_test = test\n",
    "X, y, y_oh, y_viterbi_decoded = original\n",
    "\n",
    "X_train = prepare_data_for_lstm(X_train)\n",
    "X_test = prepare_data_for_lstm(X_test)\n",
    "\n",
    "lr = 0.01\n",
    "model = Sequential()\n",
    "\n",
    "model.add(Bidirectional(LSTM(100, activation=\"tanh\", return_sequences=False), input_shape=X_train.shape[1:]))\n",
    "model.add(Dropout(0.5))\n",
    "\n",
    "model.add(Dense(20, activation=\"sigmoid\"))\n",
    "model.add(Reshape((10,2)))\n",
    "\n",
    "opt = optimizers[\"adam\"](lr=lr)\n",
    "model.compile(optimizer=opt, loss=\"binary_crossentropy\", metrics=[\"accuracy\"])\n",
    "\n",
    "history = model.fit(X_train, y_train, epochs=20, batch_size=512, verbose=2,\n",
    "          shuffle=True, validation_split=0.2)"
   ]
  },
  {
   "cell_type": "code",
   "execution_count": 179,
   "metadata": {},
   "outputs": [
    {
     "data": {
      "image/png": "[encoded data removed]",
      "text/plain": [
       "<matplotlib.figure.Figure at 0x15f17c518>"
      ]
     },
     "metadata": {},
     "output_type": "display_data"
    }
   ],
   "source": [
    "plt.plot(history.history['loss'], label=\"training loss\")\n",
    "plt.plot(history.history['val_loss'], label=\"validation loss\")\n",
    "plt.title('Bidirectional LSTM-RNN Model Loss (k10, e0.15)')\n",
    "plt.ylabel('loss')\n",
    "plt.xlabel('epoch')\n",
    "plt.legend()\n",
    "plt.show()"
   ]
  },
  {
   "cell_type": "code",
   "execution_count": 180,
   "metadata": {},
   "outputs": [
    {
     "name": "stdout",
     "output_type": "stream",
     "text": [
      "Test Accuracy is 0.9039299993515014\n"
     ]
    }
   ],
   "source": [
    "print(\"Test Accuracy is\", model_accuracy(model, X_test, y_test, argmax=False))"
   ]
  },
  {
   "cell_type": "code",
   "execution_count": 181,
   "metadata": {},
   "outputs": [
    {
     "name": "stdout",
     "output_type": "stream",
     "text": [
      "Train on 16000 samples, validate on 4000 samples\n",
      "Epoch 1/20\n",
      " - 21s - loss: 0.6662 - acc: 0.5481 - val_loss: 0.6282 - val_acc: 0.5759\n",
      "Epoch 2/20\n",
      " - 13s - loss: 0.6063 - acc: 0.5989 - val_loss: 0.5821 - val_acc: 0.6210\n",
      "Epoch 3/20\n",
      " - 13s - loss: 0.5741 - acc: 0.6365 - val_loss: 0.5564 - val_acc: 0.6596\n",
      "Epoch 4/20\n",
      " - 13s - loss: 0.5545 - acc: 0.6637 - val_loss: 0.5364 - val_acc: 0.6869\n",
      "Epoch 5/20\n",
      " - 13s - loss: 0.5333 - acc: 0.6904 - val_loss: 0.5156 - val_acc: 0.7096\n",
      "Epoch 6/20\n",
      " - 13s - loss: 0.5154 - acc: 0.7109 - val_loss: 0.4950 - val_acc: 0.7296\n",
      "Epoch 7/20\n",
      " - 13s - loss: 0.4999 - acc: 0.7264 - val_loss: 0.4795 - val_acc: 0.7437\n",
      "Epoch 8/20\n",
      " - 13s - loss: 0.4853 - acc: 0.7387 - val_loss: 0.4695 - val_acc: 0.7537\n",
      "Epoch 9/20\n",
      " - 15s - loss: 0.4737 - acc: 0.7478 - val_loss: 0.4553 - val_acc: 0.7632\n",
      "Epoch 10/20\n",
      " - 15s - loss: 0.4602 - acc: 0.7589 - val_loss: 0.4427 - val_acc: 0.7750\n",
      "Epoch 11/20\n",
      " - 14s - loss: 0.4471 - acc: 0.7691 - val_loss: 0.4299 - val_acc: 0.7838\n",
      "Epoch 12/20\n",
      " - 15s - loss: 0.4379 - acc: 0.7768 - val_loss: 0.4203 - val_acc: 0.7914\n",
      "Epoch 13/20\n",
      " - 14s - loss: 0.4268 - acc: 0.7854 - val_loss: 0.4079 - val_acc: 0.7994\n",
      "Epoch 14/20\n",
      " - 18s - loss: 0.4143 - acc: 0.7938 - val_loss: 0.4018 - val_acc: 0.8065\n",
      "Epoch 15/20\n",
      " - 16s - loss: 0.4065 - acc: 0.7995 - val_loss: 0.3893 - val_acc: 0.8138\n",
      "Epoch 16/20\n",
      " - 13s - loss: 0.3982 - acc: 0.8054 - val_loss: 0.3797 - val_acc: 0.8182\n",
      "Epoch 17/20\n",
      " - 14s - loss: 0.3887 - acc: 0.8117 - val_loss: 0.3781 - val_acc: 0.8200\n",
      "Epoch 18/20\n",
      " - 15s - loss: 0.3803 - acc: 0.8170 - val_loss: 0.3700 - val_acc: 0.8266\n",
      "Epoch 19/20\n",
      " - 14s - loss: 0.3753 - acc: 0.8201 - val_loss: 0.3657 - val_acc: 0.8287\n",
      "Epoch 20/20\n",
      " - 16s - loss: 0.3682 - acc: 0.8250 - val_loss: 0.3611 - val_acc: 0.8321\n"
     ]
    }
   ],
   "source": [
    "data_path = \"../data/dataset_04/data/dataset_n25000_k20_e0.15.pkl\"\n",
    "train, test, original = build_data_from_path(data_path)\n",
    "X_train, y_train = train\n",
    "X_test, y_test = test\n",
    "X, y, y_oh, y_viterbi_decoded = original\n",
    "\n",
    "X_train = prepare_data_for_lstm(X_train)\n",
    "X_test = prepare_data_for_lstm(X_test)\n",
    "\n",
    "lr = 0.01\n",
    "model = Sequential()\n",
    "\n",
    "model.add(Bidirectional(LSTM(100, activation=\"tanh\", return_sequences=False), input_shape=X_train.shape[1:]))\n",
    "model.add(Dropout(0.5))\n",
    "\n",
    "model.add(Dense(40, activation=\"sigmoid\"))\n",
    "model.add(Reshape((20,2)))\n",
    "\n",
    "opt = optimizers[\"adam\"](lr=lr)\n",
    "model.compile(optimizer=opt, loss=\"binary_crossentropy\", metrics=[\"accuracy\"])\n",
    "\n",
    "history = model.fit(X_train, y_train, epochs=20, batch_size=512, verbose=2,\n",
    "          shuffle=True, validation_split=0.2)"
   ]
  },
  {
   "cell_type": "code",
   "execution_count": 182,
   "metadata": {},
   "outputs": [
    {
     "data": {
      "image/png": "[encoded data removed]",
      "text/plain": [
       "<matplotlib.figure.Figure at 0x15965fa58>"
      ]
     },
     "metadata": {},
     "output_type": "display_data"
    }
   ],
   "source": [
    "plt.plot(history.history['loss'], label=\"training loss\")\n",
    "plt.plot(history.history['val_loss'], label=\"validation loss\")\n",
    "plt.title('Bidirectional LSTM-RNN Model Loss (k20, e0.15)')\n",
    "plt.ylabel('loss')\n",
    "plt.xlabel('epoch')\n",
    "plt.legend()\n",
    "plt.show()"
   ]
  },
  {
   "cell_type": "code",
   "execution_count": 183,
   "metadata": {},
   "outputs": [
    {
     "name": "stdout",
     "output_type": "stream",
     "text": [
      "Test Accuracy is 0.8338400002479553\n"
     ]
    }
   ],
   "source": [
    "print(\"Test Accuracy is\", model_accuracy(model, X_test, y_test, argmax=False))"
   ]
  },
  {
   "cell_type": "code",
   "execution_count": 184,
   "metadata": {},
   "outputs": [
    {
     "name": "stdout",
     "output_type": "stream",
     "text": [
      "Train on 16000 samples, validate on 4000 samples\n",
      "Epoch 1/20\n",
      " - 50s - loss: 0.6741 - acc: 0.5341 - val_loss: 0.6436 - val_acc: 0.5548\n",
      "Epoch 2/20\n",
      " - 41s - loss: 0.6255 - acc: 0.5792 - val_loss: 0.5894 - val_acc: 0.6209\n",
      "Epoch 3/20\n",
      " - 52s - loss: 0.5628 - acc: 0.6525 - val_loss: 0.5168 - val_acc: 0.6978\n",
      "Epoch 4/20\n",
      " - 46s - loss: 0.5006 - acc: 0.7146 - val_loss: 0.4584 - val_acc: 0.7526\n",
      "Epoch 5/20\n",
      " - 43s - loss: 0.4482 - acc: 0.7589 - val_loss: 0.4037 - val_acc: 0.7922\n",
      "Epoch 6/20\n",
      " - 44s - loss: 0.4001 - acc: 0.7954 - val_loss: 0.3609 - val_acc: 0.8213\n",
      "Epoch 7/20\n",
      " - 40s - loss: 0.3653 - acc: 0.8183 - val_loss: 0.3330 - val_acc: 0.8390\n",
      "Epoch 8/20\n",
      " - 41s - loss: 0.3363 - acc: 0.8363 - val_loss: 0.3035 - val_acc: 0.8567\n",
      "Epoch 9/20\n",
      " - 39s - loss: 0.3145 - acc: 0.8502 - val_loss: 0.2772 - val_acc: 0.8734\n",
      "Epoch 10/20\n",
      " - 48s - loss: 0.2883 - acc: 0.8657 - val_loss: 0.2569 - val_acc: 0.8843\n",
      "Epoch 11/20\n",
      " - 43s - loss: 0.2664 - acc: 0.8778 - val_loss: 0.2322 - val_acc: 0.9009\n",
      "Epoch 12/20\n",
      " - 41s - loss: 0.2477 - acc: 0.8888 - val_loss: 0.2182 - val_acc: 0.9065\n",
      "Epoch 13/20\n",
      " - 43s - loss: 0.2386 - acc: 0.8941 - val_loss: 0.2227 - val_acc: 0.9071\n",
      "Epoch 14/20\n",
      " - 42s - loss: 0.2557 - acc: 0.8855 - val_loss: 0.2469 - val_acc: 0.8921\n",
      "Epoch 15/20\n",
      " - 40s - loss: 0.2715 - acc: 0.8803 - val_loss: 0.2442 - val_acc: 0.8953\n",
      "Epoch 16/20\n",
      " - 43s - loss: 0.2471 - acc: 0.8926 - val_loss: 0.1719 - val_acc: 0.9345\n",
      "Epoch 17/20\n",
      " - 53s - loss: 0.1927 - acc: 0.9209 - val_loss: 0.1525 - val_acc: 0.9430\n",
      "Epoch 18/20\n",
      " - 47s - loss: 0.1731 - acc: 0.9300 - val_loss: 0.1287 - val_acc: 0.9546\n",
      "Epoch 19/20\n",
      " - 48s - loss: 0.1548 - acc: 0.9384 - val_loss: 0.1370 - val_acc: 0.9504\n",
      "Epoch 20/20\n",
      " - 45s - loss: 0.1888 - acc: 0.9239 - val_loss: 0.1409 - val_acc: 0.9514\n"
     ]
    }
   ],
   "source": [
    "data_path = \"../data/dataset_04/data/dataset_n25000_k40_e0.05.pkl\"\n",
    "train, test, original = build_data_from_path(data_path)\n",
    "X_train, y_train = train\n",
    "X_test, y_test = test\n",
    "X, y, y_oh, y_viterbi_decoded = original\n",
    "\n",
    "X_train = prepare_data_for_lstm(X_train)\n",
    "X_test = prepare_data_for_lstm(X_test)\n",
    "\n",
    "lr = 0.01\n",
    "model = Sequential()\n",
    "\n",
    "model.add(Bidirectional(LSTM(200, activation=\"tanh\", return_sequences=False), input_shape=X_train.shape[1:]))\n",
    "model.add(Dropout(0.5))\n",
    "\n",
    "model.add(Dense(80, activation=\"sigmoid\"))\n",
    "model.add(Reshape((40,2)))\n",
    "\n",
    "opt = optimizers[\"adam\"](lr=lr)\n",
    "model.compile(optimizer=opt, loss=\"binary_crossentropy\", metrics=[\"accuracy\"])\n",
    "\n",
    "history = model.fit(X_train, y_train, epochs=20, batch_size=512, verbose=2,\n",
    "          shuffle=True, validation_split=0.2)"
   ]
  },
  {
   "cell_type": "code",
   "execution_count": 185,
   "metadata": {},
   "outputs": [
    {
     "data": {
      "image/png": "[encoded data removed]",
      "text/plain": [
       "<matplotlib.figure.Figure at 0x15894e390>"
      ]
     },
     "metadata": {},
     "output_type": "display_data"
    }
   ],
   "source": [
    "plt.plot(history.history['loss'], label=\"training loss\")\n",
    "plt.plot(history.history['val_loss'], label=\"validation loss\")\n",
    "plt.title('Bidirectional LSTM-RNN Model Loss (k40, e0.05)')\n",
    "plt.ylabel('loss')\n",
    "plt.xlabel('epoch')\n",
    "plt.legend()\n",
    "plt.show()"
   ]
  },
  {
   "cell_type": "code",
   "execution_count": 186,
   "metadata": {},
   "outputs": [
    {
     "name": "stdout",
     "output_type": "stream",
     "text": [
      "Test Accuracy is 0.9512725004196168\n"
     ]
    }
   ],
   "source": [
    "print(\"Test Accuracy is\", model_accuracy(model, X_test, y_test, argmax=False))"
   ]
  },
  {
   "cell_type": "code",
   "execution_count": null,
   "metadata": {
    "collapsed": true
   },
   "outputs": [],
   "source": []
  }
 ],
 "metadata": {
  "kernelspec": {
   "display_name": "Python 3",
   "language": "python",
   "name": "python3"
  },
  "language_info": {
   "codemirror_mode": {
    "name": "ipython",
    "version": 3
   },
   "file_extension": ".py",
   "mimetype": "text/x-python",
   "name": "python",
   "nbconvert_exporter": "python",
   "pygments_lexer": "ipython3",
   "version": "3.6.4"
  }
 },
 "nbformat": 4,
 "nbformat_minor": 2
}
