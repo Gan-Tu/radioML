{
 "cells": [
  {
   "cell_type": "code",
   "execution_count": 1,
   "metadata": {},
   "outputs": [
    {
     "name": "stderr",
     "output_type": "stream",
     "text": [
      "/Users/michael-tu/anaconda/lib/python3.6/site-packages/h5py/__init__.py:34: FutureWarning: Conversion of the second argument of issubdtype from `float` to `np.floating` is deprecated. In future, it will be treated as `np.float64 == np.dtype(float).type`.\n",
      "  from ._conv import register_converters as _register_converters\n"
     ]
    }
   ],
   "source": [
    "import numpy as np\n",
    "import tensorflow as tf\n",
    "import os\n",
    "import matplotlib.pyplot as plt\n",
    "%matplotlib inline\n",
    "import pickle"
   ]
  },
  {
   "cell_type": "code",
   "execution_count": 2,
   "metadata": {},
   "outputs": [
    {
     "name": "stderr",
     "output_type": "stream",
     "text": [
      "Using TensorFlow backend.\n"
     ]
    }
   ],
   "source": [
    "import keras\n",
    "from keras import regularizers\n",
    "from keras import backend as K\n",
    "from keras.optimizers import Adam\n",
    "from keras.models import Model, Sequential\n",
    "from keras.layers import Dense, Input, Activation, Dropout, BatchNormalization, Flatten, Reshape\n",
    "from keras.layers import Conv2D, MaxPooling2D, AveragePooling2D, UpSampling2D\n",
    "from keras.layers import Conv1D, MaxPooling1D, AveragePooling1D, UpSampling1D\n",
    "from keras.optimizers import Adam, SGD"
   ]
  },
  {
   "cell_type": "markdown",
   "metadata": {},
   "source": [
    "# Utility Functions"
   ]
  },
  {
   "cell_type": "code",
   "execution_count": 63,
   "metadata": {
    "collapsed": true
   },
   "outputs": [],
   "source": [
    "def load_pkl(path):\n",
    "    return pickle.load(open(path, \"rb\"))"
   ]
  },
  {
   "cell_type": "code",
   "execution_count": 70,
   "metadata": {
    "collapsed": true
   },
   "outputs": [],
   "source": [
    "def load_data(data):\n",
    "    keys = ['message_seqs', 'encoded_seqs', 'noisy_seqs', 'viterbi_decoded_seqs']\n",
    "    x = data[keys[2]] # noisy sequences will be our input to our models\n",
    "    y = data[keys[0]]\n",
    "    y_viterbi_decoded = data[keys[3]]\n",
    "    \n",
    "    x = np.array(x)\n",
    "    y = np.array(y)\n",
    "    y_viterbi_decoded = np.array(y_viterbi_decoded)\n",
    "    \n",
    "    return x, y, y_viterbi_decoded"
   ]
  },
  {
   "cell_type": "code",
   "execution_count": 71,
   "metadata": {
    "collapsed": true
   },
   "outputs": [],
   "source": [
    "def load(path):\n",
    "    return load_data(load_pkl(path))"
   ]
  },
  {
   "cell_type": "code",
   "execution_count": 170,
   "metadata": {},
   "outputs": [],
   "source": [
    "def load_pkl_paths_from_folder(dir_path):\n",
    "    return [dir_path + \"/\" + x for x in os.listdir(dir_path) if \".pkl\" in x ]"
   ]
  },
  {
   "cell_type": "markdown",
   "metadata": {},
   "source": [
    "# Data Processing"
   ]
  },
  {
   "cell_type": "code",
   "execution_count": 51,
   "metadata": {
    "collapsed": true
   },
   "outputs": [],
   "source": [
    "def train_test_split(x, y, test_ratio=0.2):\n",
    "    indicies = np.arange(len(x))\n",
    "    np.random.shuffle(indicies)\n",
    "    \n",
    "    split_inx = int(len(X) * (1-test_ratio))\n",
    "    X_train, X_test = X[indicies[:split_inx]], X[indicies[split_inx:]]\n",
    "    y_train, y_test = y[indicies[:split_inx]], y[indicies[split_inx:]]\n",
    "    \n",
    "    return X_train, X_test, y_train, y_test"
   ]
  },
  {
   "cell_type": "code",
   "execution_count": null,
   "metadata": {
    "collapsed": true
   },
   "outputs": [],
   "source": []
  },
  {
   "cell_type": "markdown",
   "metadata": {},
   "source": [
    "# Model Definitions"
   ]
  },
  {
   "cell_type": "markdown",
   "metadata": {},
   "source": [
    "Optimizers"
   ]
  },
  {
   "cell_type": "code",
   "execution_count": 33,
   "metadata": {
    "collapsed": true
   },
   "outputs": [],
   "source": [
    "optimizers = {\n",
    "    \"adam\": Adam, \n",
    "    \"sgd\":  SGD\n",
    "}"
   ]
  },
  {
   "cell_type": "markdown",
   "metadata": {},
   "source": [
    "Fully Connected Neural Net"
   ]
  },
  {
   "cell_type": "code",
   "execution_count": 43,
   "metadata": {},
   "outputs": [],
   "source": [
    "default_fnn_param = {\n",
    "    \"batch_size\": 64,\n",
    "    \"epoch\": 25,\n",
    "    \"verbose\": 2,\n",
    "    \"validation_ratio\": 0.2,\n",
    "    \"activation\": \"relu\",\n",
    "    \"l2_strength\": 0.01,\n",
    "    \"learing_rate\": 0.015,\n",
    "    \"optimizer\": \"adam\",\n",
    "    \"metrics\": [\"accuracy\"],\n",
    "    \"loss_fn\": \"binary_crossentropy\"\n",
    "}"
   ]
  },
  {
   "cell_type": "code",
   "execution_count": 35,
   "metadata": {
    "collapsed": true
   },
   "outputs": [],
   "source": [
    "default_fnn_architecture = [32,64, 100]"
   ]
  },
  {
   "cell_type": "markdown",
   "metadata": {},
   "source": [
    "Convolution 1D Nerual Net"
   ]
  },
  {
   "cell_type": "code",
   "execution_count": 44,
   "metadata": {},
   "outputs": [],
   "source": [
    "default_cnn_param = {\n",
    "    \"batch_size\": 64,\n",
    "    \"epoch\": 25,\n",
    "    \"verbose\": 2,\n",
    "    \"validation_ratio\": 0.2,\n",
    "    \"activation\": \"relu\",\n",
    "    \"dropout_keep_prob\": 0.5,\n",
    "    \"learing_rate\": 0.01,\n",
    "    \"optimizer\": \"adam\",\n",
    "    \"conv_padding\": \"same\",\n",
    "    \"metrics\": [\"accuracy\"],\n",
    "    \"loss_fn\": \"binary_crossentropy\"\n",
    "}"
   ]
  },
  {
   "cell_type": "markdown",
   "metadata": {},
   "source": [
    "Avaliable Layers:\n",
    "\n",
    "Dense, Input, Activation, Dropout, BatchNormalization, Flatten, Reshape\n",
    "Conv2D, MaxPooling2D, AveragePooling2D, UpSampling2D\n",
    "Conv1D, MaxPooling1D, AveragePooling1D, UpSampling1D"
   ]
  },
  {
   "cell_type": "code",
   "execution_count": 47,
   "metadata": {
    "collapsed": true
   },
   "outputs": [],
   "source": [
    "default_cnn_architecture = [\n",
    "    \"conv1d\"\n",
    "]"
   ]
  },
  {
   "cell_type": "markdown",
   "metadata": {},
   "source": [
    "# Model Construction"
   ]
  },
  {
   "cell_type": "code",
   "execution_count": 52,
   "metadata": {},
   "outputs": [],
   "source": [
    "def build_fnn(input_shape, \n",
    "              output_shape=(-1,2), \n",
    "              architecture=default_fnn_architecture, \n",
    "              param=default_fnn_param):\n",
    "    \"\"\"\n",
    "    Train a FNN model with INPUT_SHAPE and OUTPUT_SHAPE using ARCHITECTURE and PARAM.\n",
    "    \"\"\"\n",
    "\n",
    "    model = Sequential()\n",
    "    \n",
    "    for i, output_units in enumerate(architecture):\n",
    "        if i == 0:\n",
    "            model.add(Dense(output_units, activation=param[\"activation\"],\n",
    "                        input_shape=input_shape,\n",
    "                        kernel_regularizer=regularizers.l2(param[\"l2_strength\"])))\n",
    "        else:\n",
    "            model.add(Dense(output_units, activation=param[\"activation\"],\n",
    "                        kernel_regularizer=regularizers.l2(param[\"l2_strength\"])))\n",
    "    \n",
    "    model.add(Dense(np.product(output_shape), activation=\"sigmoid\"))\n",
    "    model.add(Reshape(output_shape))\n",
    "    \n",
    "    opt = optimizers[param[\"optimizer\"]](lr=param[\"learing_rate\"])\n",
    "    model.compile(optimizer=opt, loss=param[\"loss_fn\"], metrics=param[\"metrics\"])\n",
    "    \"\"\n",
    "    return model"
   ]
  },
  {
   "cell_type": "code",
   "execution_count": 49,
   "metadata": {},
   "outputs": [],
   "source": [
    "def train_fnn(model, x, y, param=default_fnn_param, shuffle=True):\n",
    "    model.fit(x, y, batch_size=param[\"batch_size\"], epochs=param[\"epoch\"], shuffle=shuffle,\n",
    "              verbose=param[\"verbose\"], validation_split=param[\"validation_ratio\"])\n",
    "    return model"
   ]
  },
  {
   "cell_type": "markdown",
   "metadata": {},
   "source": [
    "# Evaluation Metrics"
   ]
  },
  {
   "cell_type": "code",
   "execution_count": 130,
   "metadata": {
    "collapsed": true
   },
   "outputs": [],
   "source": [
    "def accuracy(y, y_pred, argmax=False, viterbi=False):\n",
    "    y_pred_binary = y_pred\n",
    "    \n",
    "    if viterbi:\n",
    "        y_pred_binary = [p[:y.shape[1]] for p in y]\n",
    "    elif argmax:\n",
    "        y_pred_binary = np.vstack([np.argmax(p, axis=1) for p in y_pred])\n",
    "        assert y.shape == y_pred_binary.shape, \"prediction and ground truth must have same shape\"\n",
    "    \n",
    "    return np.sum(y == y_pred_binary) / np.product(y.shape)"
   ]
  },
  {
   "cell_type": "code",
   "execution_count": 131,
   "metadata": {
    "collapsed": true
   },
   "outputs": [],
   "source": [
    "def model_accuracy(model, x, y, argmax=False):\n",
    "    if argmax:\n",
    "        y_pred = model.predict(x)\n",
    "        return accuracy(y, y_pred, argmax)\n",
    "    else:\n",
    "        return model.evaluate(x, y, verbose=0)"
   ]
  },
  {
   "cell_type": "markdown",
   "metadata": {},
   "source": [
    "# Experiments"
   ]
  },
  {
   "cell_type": "markdown",
   "metadata": {},
   "source": [
    "Accuracy of viterbi decoding over vs. message length K"
   ]
  },
  {
   "cell_type": "code",
   "execution_count": 173,
   "metadata": {},
   "outputs": [],
   "source": [
    "accuracies = list()\n",
    "plt_range = list()\n",
    "for pkl in load_pkl_paths_from_folder(\"../data/dataset_02/exp_k/\"):\n",
    "    x, y, y_viterbi_decoded = load(pkl)\n",
    "    acc = accuracy(y, y_viterbi_decoded, viterbi=True)\n",
    "    accuracies.append(acc)\n",
    "    plt_range.append(int(pkl.split(\"data_n5000_k\")[1].split(\"_\")[0]))"
   ]
  },
  {
   "cell_type": "code",
   "execution_count": 175,
   "metadata": {},
   "outputs": [
    {
     "data": {
      "text/plain": [
       "[<matplotlib.lines.Line2D at 0x115dbd710>]"
      ]
     },
     "execution_count": 175,
     "metadata": {},
     "output_type": "execute_result"
    },
    {
     "data": {
      "image/png": "[encoded data removed]",
      "text/plain": [
       "<matplotlib.figure.Figure at 0x115dbdc18>"
      ]
     },
     "metadata": {},
     "output_type": "display_data"
    }
   ],
   "source": [
    "plt.title(\"Accuracy of viterbi decoding over vs. message length K\")\n",
    "plt.xlabel(\"message length k\")\n",
    "plt.ylabel(\"viterbi decoding accuracy\")\n",
    "plt.plot(plt_range, accuracies, \"g-\")"
   ]
  },
  {
   "cell_type": "code",
   "execution_count": null,
   "metadata": {
    "collapsed": true
   },
   "outputs": [],
   "source": []
  }
 ],
 "metadata": {
  "kernelspec": {
   "display_name": "Python 3",
   "language": "python",
   "name": "python3"
  },
  "language_info": {
   "codemirror_mode": {
    "name": "ipython",
    "version": 3
   },
   "file_extension": ".py",
   "mimetype": "text/x-python",
   "name": "python",
   "nbconvert_exporter": "python",
   "pygments_lexer": "ipython3",
   "version": "3.6.4"
  }
 },
 "nbformat": 4,
 "nbformat_minor": 2
}
