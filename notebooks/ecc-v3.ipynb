{
 "cells": [
  {
   "cell_type": "code",
   "execution_count": 110,
   "metadata": {},
   "outputs": [],
   "source": [
    "import numpy as np\n",
    "import tensorflow as tf\n",
    "import os\n",
    "import matplotlib.pyplot as plt\n",
    "%matplotlib inline\n",
    "import pickle\n",
    "from functools import reduce"
   ]
  },
  {
   "cell_type": "code",
   "execution_count": 2,
   "metadata": {},
   "outputs": [
    {
     "name": "stderr",
     "output_type": "stream",
     "text": [
      "Using TensorFlow backend.\n"
     ]
    }
   ],
   "source": [
    "import keras\n",
    "from keras import regularizers\n",
    "from keras import backend as K\n",
    "from keras.optimizers import Adam\n",
    "from keras.models import Model, Sequential\n",
    "from keras.layers import Dense, Input, Activation, Dropout, BatchNormalization, Flatten, Reshape\n",
    "from keras.layers import Conv2D, MaxPooling2D, AveragePooling2D, UpSampling2D\n",
    "from keras.layers import Conv1D, MaxPooling1D, AveragePooling1D, UpSampling1D\n",
    "from keras.optimizers import Adam, SGD"
   ]
  },
  {
   "cell_type": "markdown",
   "metadata": {},
   "source": [
    "# Utility Functions"
   ]
  },
  {
   "cell_type": "code",
   "execution_count": 3,
   "metadata": {
    "collapsed": true
   },
   "outputs": [],
   "source": [
    "def load_pkl(path):\n",
    "    return pickle.load(open(path, \"rb\"))"
   ]
  },
  {
   "cell_type": "code",
   "execution_count": 4,
   "metadata": {
    "collapsed": true
   },
   "outputs": [],
   "source": [
    "def load_data(data):\n",
    "    keys = ['message_seqs', 'encoded_seqs', 'noisy_seqs', 'viterbi_decoded_seqs']\n",
    "    x = data[keys[2]] # noisy sequences will be our input to our models\n",
    "    y = data[keys[0]]\n",
    "    y_viterbi_decoded = data[keys[3]]\n",
    "    \n",
    "    x = np.array(x)\n",
    "    y = np.array(y)\n",
    "    y_viterbi_decoded = np.array(y_viterbi_decoded)\n",
    "    \n",
    "    return x, y, y_viterbi_decoded"
   ]
  },
  {
   "cell_type": "code",
   "execution_count": 5,
   "metadata": {
    "collapsed": true
   },
   "outputs": [],
   "source": [
    "def load(path):\n",
    "    return load_data(load_pkl(path))"
   ]
  },
  {
   "cell_type": "code",
   "execution_count": 114,
   "metadata": {
    "collapsed": true
   },
   "outputs": [],
   "source": [
    "def load_pkl_paths_from_folder(dir_path, recursive=False):\n",
    "    if recursive:\n",
    "        return list(filter(lambda x: \".pkl\" in x,\n",
    "                            [os.path.join(dp, f) for dp, dn, fn in os.walk(os.path.expanduser(dir_path)) \n",
    "                                                 for f in fn]))\n",
    "    else:\n",
    "        return [dir_path + \"/\" + x for x in os.listdir(dir_path) if \".pkl\" in x ]"
   ]
  },
  {
   "cell_type": "code",
   "execution_count": 7,
   "metadata": {
    "collapsed": true
   },
   "outputs": [],
   "source": [
    "def get_param_from_filename(filename, param):\n",
    "    split_token = \"_\"\n",
    "    if param == \"k\":\n",
    "        split_token = \"_k\"\n",
    "    elif param == \"p\":\n",
    "        split_token = \"_p\"\n",
    "    elif param == \"r\":\n",
    "        split_token = \"_r\"\n",
    "    elif param == \"l\":\n",
    "        split_token = \"_l\"\n",
    "    elif param == \"e\":\n",
    "        split_token = \"_e\"\n",
    "    elif param == \"n\":\n",
    "        split_token = \"_n\"\n",
    "    else:\n",
    "        raise ValueError(\"unrecognized parameter\", param)\n",
    "        \n",
    "    res = filename.split(\"/\")[-1].split(split_token)[1].split(\"_\")[0]\n",
    "    if \".pkl\" in res:\n",
    "        res = res.split(\".pkl\")[0]\n",
    "    \n",
    "    return float(res)"
   ]
  },
  {
   "cell_type": "markdown",
   "metadata": {},
   "source": [
    "# Data Processing"
   ]
  },
  {
   "cell_type": "code",
   "execution_count": 330,
   "metadata": {
    "collapsed": true
   },
   "outputs": [],
   "source": [
    "def train_test_split(x, y, test_ratio=0.2):\n",
    "    indicies = np.arange(len(x))\n",
    "    np.random.shuffle(indicies)\n",
    "    \n",
    "    split_inx = int(len(x) * (1-test_ratio))\n",
    "    X_train, X_test = x[indicies[:split_inx]], x[indicies[split_inx:]]\n",
    "    y_train, y_test = y[indicies[:split_inx]], y[indicies[split_inx:]]\n",
    "    \n",
    "    return X_train, X_test, y_train, y_test"
   ]
  },
  {
   "cell_type": "markdown",
   "metadata": {},
   "source": [
    "# Model Definitions"
   ]
  },
  {
   "cell_type": "markdown",
   "metadata": {},
   "source": [
    "Optimizers"
   ]
  },
  {
   "cell_type": "code",
   "execution_count": 9,
   "metadata": {
    "collapsed": true
   },
   "outputs": [],
   "source": [
    "optimizers = {\n",
    "    \"adam\": Adam, \n",
    "    \"sgd\":  SGD\n",
    "}"
   ]
  },
  {
   "cell_type": "markdown",
   "metadata": {},
   "source": [
    "Fully Connected Neural Net"
   ]
  },
  {
   "cell_type": "code",
   "execution_count": 10,
   "metadata": {
    "collapsed": true
   },
   "outputs": [],
   "source": [
    "default_fnn_param = {\n",
    "    \"batch_size\": 64,\n",
    "    \"epoch\": 25,\n",
    "    \"verbose\": 2,\n",
    "    \"validation_ratio\": 0.2,\n",
    "    \"activation\": \"relu\",\n",
    "    \"l2_strength\": 0.01,\n",
    "    \"learing_rate\": 0.015,\n",
    "    \"optimizer\": \"adam\",\n",
    "    \"metrics\": [\"accuracy\"],\n",
    "    \"loss_fn\": \"binary_crossentropy\"\n",
    "}"
   ]
  },
  {
   "cell_type": "code",
   "execution_count": 11,
   "metadata": {
    "collapsed": true
   },
   "outputs": [],
   "source": [
    "default_fnn_architecture = [32,64,100]"
   ]
  },
  {
   "cell_type": "markdown",
   "metadata": {},
   "source": [
    "Convolution 1D Nerual Net"
   ]
  },
  {
   "cell_type": "code",
   "execution_count": 12,
   "metadata": {
    "collapsed": true
   },
   "outputs": [],
   "source": [
    "default_cnn_param = {\n",
    "    \"batch_size\": 64,\n",
    "    \"epoch\": 25,\n",
    "    \"verbose\": 2,\n",
    "    \"validation_ratio\": 0.2,\n",
    "    \"activation\": \"relu\",\n",
    "    \"dropout_keep_prob\": 0.5,\n",
    "    \"learing_rate\": 0.01,\n",
    "    \"optimizer\": \"adam\",\n",
    "    \"conv_padding\": \"same\",\n",
    "    \"metrics\": [\"accuracy\"],\n",
    "    \"loss_fn\": \"binary_crossentropy\"\n",
    "}"
   ]
  },
  {
   "cell_type": "markdown",
   "metadata": {},
   "source": [
    "Avaliable Layers:\n",
    "\n",
    "Dense, Input, Activation, Dropout, BatchNormalization, Flatten, Reshape\n",
    "Conv2D, MaxPooling2D, AveragePooling2D, UpSampling2D\n",
    "Conv1D, MaxPooling1D, AveragePooling1D, UpSampling1D"
   ]
  },
  {
   "cell_type": "code",
   "execution_count": null,
   "metadata": {
    "collapsed": true
   },
   "outputs": [],
   "source": [
    "filters=16, kernel_size=3, strides=1,padding=PADDING, \n",
    "                 activation=ACTIVATION, input_shape=X_train_reshaped.shape[1:]"
   ]
  },
  {
   "cell_type": "code",
   "execution_count": 13,
   "metadata": {
    "collapsed": true
   },
   "outputs": [],
   "source": [
    "default_cnn_architecture = [\n",
    "    (\"conv1d\", dict(f=16,k=3,s=1)),\n",
    "    (\"conv1d\", dict(f=16,k=3,s=1)),\n",
    "    (\"conv1d\", dict(f=16,k=3,s=1)),\n",
    "    (\"conv1d\", dict(f=16,k=3,s=1)),\n",
    "    (\"flatten\"),\n",
    "    (\"dense\", 200),\n",
    "    (\"dropout\")\n",
    "]"
   ]
  },
  {
   "cell_type": "markdown",
   "metadata": {},
   "source": [
    "# Model Construction"
   ]
  },
  {
   "cell_type": "code",
   "execution_count": 309,
   "metadata": {
    "collapsed": true
   },
   "outputs": [],
   "source": [
    "def build_fnn(input_shape, \n",
    "              output_shape, \n",
    "              architecture=default_fnn_architecture, \n",
    "              param=default_fnn_param):\n",
    "    \"\"\"\n",
    "    Train a FNN model with INPUT_SHAPE and OUTPUT_SHAPE using ARCHITECTURE and PARAM.\n",
    "    \"\"\"\n",
    "\n",
    "    model = Sequential()\n",
    "    \n",
    "    for i, output_units in enumerate(architecture):\n",
    "        if i == 0:\n",
    "            model.add(Dense(output_units, activation=param[\"activation\"],\n",
    "                        input_shape=input_shape,\n",
    "                        kernel_regularizer=regularizers.l2(param[\"l2_strength\"])))\n",
    "        else:\n",
    "            model.add(Dense(output_units, activation=param[\"activation\"],\n",
    "                        kernel_regularizer=regularizers.l2(param[\"l2_strength\"])))\n",
    "    \n",
    "    model.add(Dense(np.product(output_shape), activation=\"sigmoid\"))\n",
    "    model.add(Reshape(output_shape))\n",
    "    \n",
    "    opt = optimizers[param[\"optimizer\"]](lr=param[\"learing_rate\"])\n",
    "    model.compile(optimizer=opt, loss=param[\"loss_fn\"], metrics=param[\"metrics\"])\n",
    "    \"\"\n",
    "    return model"
   ]
  },
  {
   "cell_type": "code",
   "execution_count": 435,
   "metadata": {
    "collapsed": true
   },
   "outputs": [],
   "source": [
    "def train_fnn(model, x, y, param=default_fnn_param, shuffle=True):\n",
    "    model.fit(x, y, batch_size=param[\"batch_size\"], epochs=param[\"epoch\"], shuffle=shuffle,\n",
    "              verbose=param[\"verbose\"], validation_split=param[\"validation_ratio\"])\n",
    "    return model"
   ]
  },
  {
   "cell_type": "code",
   "execution_count": null,
   "metadata": {
    "collapsed": true
   },
   "outputs": [],
   "source": [
    "def build_cnn(input_shape, \n",
    "              output_shape, \n",
    "              architecture=default_cnn_architecture, \n",
    "              param=default_cnn_param):\n",
    "    \"\"\"\n",
    "    Train a CNN model with INPUT_SHAPE and OUTPUT_SHAPE using ARCHITECTURE and PARAM.\n",
    "    \"\"\"\n",
    "\n",
    "    model = Sequential()\n",
    "    \n",
    "    for i, layer in enumerate(architecture):\n",
    "        if layer[0] == \"conv1d\":\n",
    "            model.add(Conv1D(filters=16, kernel_size=3, strides=1,padding=PADDING, activation=ACTIVATION))\n",
    "        elif layer[0] == \"flatten\":\n",
    "            model.add(Flatten())\n",
    "        elif layer[0] == \"dense\":\n",
    "            model.add(Dense(layer[1], activation=param[\"activation\"]))\n",
    "        elif layer[0] == \"dropout\":\n",
    "            model.add(Dropout(param[\"dropout_keep_prob\"]))\n",
    "        else:\n",
    "            raise ValueError(\"do not recognize layer\", layer[0])\n",
    "    \n",
    "#     for i, output_units in enumerate(architecture):\n",
    "#         if i == 0:\n",
    "#             model.add(Dense(output_units, activation=param[\"activation\"],\n",
    "#                         input_shape=input_shape,\n",
    "#                         kernel_regularizer=regularizers.l2(param[\"l2_strength\"])))\n",
    "#         else:\n",
    "#             model.add(Dense(output_units, activation=param[\"activation\"],\n",
    "#                         kernel_regularizer=regularizers.l2(param[\"l2_strength\"])))\n",
    "    \n",
    "    model.add(Dense(np.product(output_shape), activation=\"sigmoid\"))\n",
    "    model.add(Reshape(output_shape))\n",
    "    \n",
    "    opt = optimizers[param[\"optimizer\"]](lr=param[\"learing_rate\"])\n",
    "    model.compile(optimizer=opt, loss=param[\"loss_fn\"], metrics=param[\"metrics\"])\n",
    "    \"\"\n",
    "    return model"
   ]
  },
  {
   "cell_type": "code",
   "execution_count": null,
   "metadata": {
    "collapsed": true
   },
   "outputs": [],
   "source": [
    "def train_cnn(model, x, y, param=default_fnn_param, shuffle=True):\n",
    "    model.fit(x, y, batch_size=param[\"batch_size\"], epochs=param[\"epoch\"], shuffle=shuffle,\n",
    "              verbose=param[\"verbose\"], validation_split=param[\"validation_ratio\"])\n",
    "    return model"
   ]
  },
  {
   "cell_type": "code",
   "execution_count": null,
   "metadata": {
    "collapsed": true
   },
   "outputs": [],
   "source": []
  },
  {
   "cell_type": "markdown",
   "metadata": {},
   "source": [
    "# Evaluation Metrics"
   ]
  },
  {
   "cell_type": "code",
   "execution_count": 342,
   "metadata": {
    "collapsed": true
   },
   "outputs": [],
   "source": [
    "def accuracy(y, y_pred, argmax=False, viterbi=False):\n",
    "    y_pred_binary = y_pred\n",
    "    \n",
    "    if viterbi:\n",
    "        y_pred_binary = [p[:y.shape[1]] for p in y]\n",
    "    elif argmax:\n",
    "        y_pred_binary = np.vstack([np.argmax(p, axis=1) for p in y_pred])\n",
    "        assert y.shape == y_pred_binary.shape, \"prediction and ground truth must \\\n",
    "        have same shape\\nExpected:{0} Actual:{1}\".format(y.shape, y_pred_binary.shape)\n",
    "    \n",
    "    return np.sum(y == y_pred_binary) / np.product(y.shape)"
   ]
  },
  {
   "cell_type": "code",
   "execution_count": 343,
   "metadata": {
    "collapsed": true
   },
   "outputs": [],
   "source": [
    "def model_accuracy(model, x, y, argmax=False):\n",
    "    if argmax:\n",
    "        y_pred = model.predict(x)\n",
    "        return accuracy(y, y_pred, argmax)\n",
    "    else:\n",
    "        return model.evaluate(x, y, verbose=0)"
   ]
  },
  {
   "cell_type": "code",
   "execution_count": 491,
   "metadata": {
    "collapsed": true
   },
   "outputs": [],
   "source": [
    "def pred_vs_truth(model, x, y, n_show=2):\n",
    "    indicies = np.random.randint(low=0, high=x.shape[0], size=n_show)\n",
    "    y_pred = model.predict(x[indicies])\n",
    "    y_pred_binary = np.vstack([np.argmax(p, axis=1) for p in y_pred])\n",
    "    \n",
    "    truth = y[indicies].astype(y_pred_binary.dtype)\n",
    "    for i in range(len(truth)):\n",
    "        print(\"\\n############## Example {0} ##############\".format(i))\n",
    "        print(\"Expected:\\n\", truth[i])\n",
    "        print(\"Actual:\\n\", y_pred_binary[i])"
   ]
  },
  {
   "cell_type": "markdown",
   "metadata": {},
   "source": [
    "# Experiments"
   ]
  },
  {
   "cell_type": "code",
   "execution_count": 620,
   "metadata": {
    "collapsed": true
   },
   "outputs": [],
   "source": [
    "def one_hot(data):\n",
    "    res = []\n",
    "    for d in data:\n",
    "        res.append([0,0])\n",
    "        res[-1][int(d)] = 1\n",
    "    return np.array(res)\n",
    "\n",
    "def one_hot_datasets(y):\n",
    "    return np.array(list(map(lambda x: one_hot(x), y)))"
   ]
  },
  {
   "cell_type": "markdown",
   "metadata": {},
   "source": [
    "data_sources = ['message_seqs', 'encoded_seqs', 'noisy_seqs', 'viterbi_decoded_seqs']"
   ]
  },
  {
   "cell_type": "code",
   "execution_count": 671,
   "metadata": {
    "collapsed": true
   },
   "outputs": [],
   "source": [
    "def build_experiment_data(experiment_type, k, data_source, combine_all=True, verbose=True):\n",
    "    if \"exp_\" not in experiment_type:\n",
    "        experiment_type = \"exp_{0}\".format(experiment_type)\n",
    "        if len(experiment_type) != 5:\n",
    "            raise ValueError(\"experiment_type has be of type: exp_X\")\n",
    "    data = all_exp_data[experiment_type]\n",
    "    var = experiment_type[4]\n",
    "    if verbose:\n",
    "        print(\"building data for experiment {0} on variable {1} with k = {2}...\".format(\n",
    "                experiment_type, var, k))\n",
    "    x, y = dict(), dict()\n",
    "    for d, v in data.items():\n",
    "        if k is not None and d[0] != k:\n",
    "            continue\n",
    "        var_value = d[\"kpel\".index(var)]\n",
    "        if var_value not in x: \n",
    "            x[var_value] = list()\n",
    "            y[var_value] = list()\n",
    "        x[var_value].append(v[\"noisy_seqs\"])\n",
    "        y[var_value].append(v[\"message_seqs\"])\n",
    "    for v in x:\n",
    "        x[v] = np.vstack(x[v])\n",
    "        y[v] = np.vstack(y[v])\n",
    "    if verbose:\n",
    "        print(\"... finished building data\")\n",
    "        \n",
    "    if combine_all:\n",
    "        return np.vstack(list(x.values())), np.vstack(list(y.values()))\n",
    "    else:\n",
    "        return x, y"
   ]
  },
  {
   "cell_type": "code",
   "execution_count": 710,
   "metadata": {},
   "outputs": [],
   "source": [
    "def conduct_experiment(experiment_type, data_source, verbose=False,\n",
    "                       architecture=default_fnn_architecture, \n",
    "                       param=default_fnn_param, average_N=5):\n",
    "    if \"exp_\" not in experiment_type:\n",
    "        experiment_type = \"exp_{0}\".format(experiment_type)\n",
    "        if len(experiment_type) != 5:\n",
    "            raise ValueError(\"experiment_type has be of type: exp_X\")\n",
    "    \n",
    "    if experiment_type != \"exp_k\":\n",
    "        ks = list(set(map(lambda x: x[0],list(data_source[experiment_type].keys()))))\n",
    "        res = dict()\n",
    "        for k in sorted(ks):\n",
    "            if verbose:\n",
    "                print(\"Performing experiments over k = {0}\".format(k))\n",
    "            x, y = build_experiment_data(experiment_type, k, all_exp_data, \n",
    "                                             combine_all=False, verbose=False)\n",
    "\n",
    "            res[k] = dict()\n",
    "            for var_value in sorted(x):\n",
    "                if verbose:\n",
    "                    print(\"... variable = {0}\".format(var_value))\n",
    "                res[k][var_value] = dict(acc=list(), best_model=None, avg_acc=0)\n",
    "                for i in range(average_N):\n",
    "                    if verbose:\n",
    "                        print(\"... ... run {0}/{1}\".format(i+1, average_N), end=\"\\r\")\n",
    "                    X_train, X_test, y_train, y_test = train_test_split(x[var_value], y[var_value])\n",
    "                    y_train = one_hot_datasets(y_train)\n",
    "                    model = build_fnn(input_shape=X_train.shape[1:], output_shape=y_train.shape[1:],\n",
    "                          architecture=architecture, param=param)\n",
    "                    model = train_fnn(model, X_train, y_train, param=fnn_param)\n",
    "                    acc = model_accuracy(model, X_test, y_test, argmax=True)\n",
    "\n",
    "                    res[k][var_value][\"acc\"].append(acc)\n",
    "                    if acc >= max(res[k][var_value][\"acc\"]):\n",
    "                        res[k][var_value][\"best_model\"] = model\n",
    "                res[k][var_value][\"avg_acc\"] = np.mean(res[k][var_value][\"acc\"])\n",
    "                if verbose:\n",
    "                    print(\"... finished with avg_acc of {0:.4f}\".format(\n",
    "                        res[k][var_value][\"avg_acc\"]))\n",
    "    else:\n",
    "        res = dict()\n",
    "        if verbose:\n",
    "            print(\"Performing experiments for exp_k ...\")\n",
    "        x, y = build_experiment_data(experiment_type, None, all_exp_data, \n",
    "                                         combine_all=False, verbose=False)\n",
    "        for var_value in sorted(x):\n",
    "            if verbose:\n",
    "                print(\"... variable = {0}\".format(var_value))\n",
    "            res[var_value] = dict(acc=list(), best_model=None, avg_acc=0)\n",
    "            for i in range(average_N):\n",
    "                if verbose:\n",
    "                    print(\"... ... run {0}/{1}\".format(i+1, average_N), end=\"\\r\")\n",
    "                X_train, X_test, y_train, y_test = train_test_split(x[var_value], y[var_value])\n",
    "                y_train = one_hot_datasets(y_train)\n",
    "                model = build_fnn(input_shape=X_train.shape[1:], \n",
    "                                  output_shape=y_train.shape[1:],\n",
    "                                  architecture=architecture, \n",
    "                                  param=param)\n",
    "                model = train_fnn(model, X_train, y_train, param=fnn_param)\n",
    "                acc = model_accuracy(model, X_test, y_test, argmax=True)\n",
    "\n",
    "                res[var_value][\"acc\"].append(acc)\n",
    "                if acc >= max(res[var_value][\"acc\"]):\n",
    "                    res[var_value][\"best_model\"] = model\n",
    "            res[var_value][\"avg_acc\"] = np.mean(res[var_value][\"acc\"])\n",
    "            if verbose:\n",
    "                print(\"... ... finished with avg_acc of {0:.4f}\".format(\n",
    "                    res[var_value][\"avg_acc\"]))\n",
    "            \n",
    "    return res"
   ]
  },
  {
   "cell_type": "code",
   "execution_count": 711,
   "metadata": {
    "collapsed": true
   },
   "outputs": [],
   "source": [
    "def show_experiment_result(experiment_type, res, k, var_value, data_source, n_show=5):\n",
    "    x, y = build_experiment_data(experiment_type, k, data_source, \n",
    "                                 combine_all=False, verbose=False)\n",
    "    X_train, X_test, y_train, y_test = train_test_split(x[var_value], y[var_value])\n",
    "    pred_vs_truth(res[k][var_value][\"best_model\"], X_test, y_test, n_show=n_show)"
   ]
  },
  {
   "cell_type": "code",
   "execution_count": 712,
   "metadata": {
    "collapsed": true
   },
   "outputs": [],
   "source": [
    "variable_desc = {\n",
    "    \"k\": \"message length (K-bit)\",\n",
    "    \"p\": \"prob P of Bernoulli distribution\",\n",
    "    \"e\": \"corruption probability E\",\n",
    "    \"l\": \"constraint length L\"\n",
    "}"
   ]
  },
  {
   "cell_type": "code",
   "execution_count": 713,
   "metadata": {},
   "outputs": [],
   "source": [
    "def graph_experiment_accuracy(res, title, xlabel, ylabel, isK=False, c=[\"go-\", \"co-\"]):\n",
    "    plt.figure(figsize=(8, 5))\n",
    "    plt.title(title)\n",
    "    if isK:\n",
    "        x_range = np.array(list(res.keys()))\n",
    "        y_range = np.array(list(map(lambda x: res[x][\"avg_acc\"], res)))\n",
    "\n",
    "        sorted_indicies = np.argsort(x_range)\n",
    "\n",
    "        plt.plot(x_range[sorted_indicies], \n",
    "                 y_range[sorted_indicies], \n",
    "                 c[0])\n",
    "    else:\n",
    "        for i, k in enumerate(res):\n",
    "            x_range = np.array(list(res[k].keys()))\n",
    "            y_range = np.array(list(map(lambda x: res[k][x][\"avg_acc\"], res[k])))\n",
    "\n",
    "            sorted_indicies = np.argsort(x_range)\n",
    "\n",
    "            plt.plot(x_range[sorted_indicies], \n",
    "                     y_range[sorted_indicies], \n",
    "                     c[i],\n",
    "                     label=\"k={0}\".format(k))\n",
    "        \n",
    "    plt.xlabel(xlabel)\n",
    "    plt.ylabel(ylabel)\n",
    "    plt.legend()"
   ]
  },
  {
   "cell_type": "markdown",
   "metadata": {},
   "source": [
    "### Accuracy of viterbi decoding over different variables"
   ]
  },
  {
   "cell_type": "code",
   "execution_count": 662,
   "metadata": {
    "collapsed": true
   },
   "outputs": [],
   "source": [
    "def graph_viterbi_accuracy(dir_path, variable_name, xlabel=None, c=\"g-\"):\n",
    "    if variable_name not in [\"k\", \"p\", \"e\", \"l\", \"r\"]:\n",
    "        raise ValueError(\"unrecognized variable: {0}\".format(variable_name))\n",
    "    accuracies = list()\n",
    "    plt_range = list()\n",
    "    for pkl in load_pkl_paths_from_folder(dir_path, recursive=True):\n",
    "        x, y, y_viterbi_decoded = load(pkl)\n",
    "        acc = accuracy(y, y_viterbi_decoded, viterbi=True)\n",
    "        accuracies.append(acc)\n",
    "        plt_range.append(get_param_from_filename(pkl, variable_name))\n",
    "    plt.title(\"Accuracy of viterbi decoding over vs. message length {0}\".format(variable_name.upper()))\n",
    "    if xlabel is None: xlabel = variable_name\n",
    "    plt.xlabel(xlabel)\n",
    "    plt.ylabel(\"viterbi decoding accuracy\")\n",
    "    plt.plot(plt_range, accuracies, c)\n",
    "    return accuracies, plt_range"
   ]
  },
  {
   "cell_type": "code",
   "execution_count": 658,
   "metadata": {},
   "outputs": [
    {
     "data": {
      "image/png": "[encoded data removed]",
      "text/plain": [
       "<matplotlib.figure.Figure at 0x1e8e155f8>"
      ]
     },
     "metadata": {},
     "output_type": "display_data"
    }
   ],
   "source": [
    "plt.figure(figsize=(20,12))\n",
    "subplt_n = 221\n",
    "root_path_format = \"../data/dataset_03/exp_{0}\"\n",
    "\n",
    "for variable_name, xlabel in [(\"k\", \"message length (k-bit)\"),\n",
    "                              (\"p\", \"probability of Bernoulli distribution\"), \n",
    "                              (\"e\", \"corruption probability e\"), \n",
    "                              (\"l\", \"constraint length l\")]:\n",
    "    plt.subplot(subplt_n)\n",
    "    subplt_n += 1\n",
    "    exp_path = root_path_format.format(variable_name)\n",
    "    graph_viterbi_accuracy(exp_path, variable_name, xlabel=xlabel)"
   ]
  },
  {
   "cell_type": "markdown",
   "metadata": {
    "collapsed": true
   },
   "source": [
    "### Controlled experiments"
   ]
  },
  {
   "cell_type": "code",
   "execution_count": 628,
   "metadata": {
    "collapsed": true
   },
   "outputs": [],
   "source": [
    "# all_data = dict()\n",
    "# for n in load_pkl_paths_from_folder(\"../data/dataset_03\", True):\n",
    "#     exp = n.split('/')[3]\n",
    "#     tp = tuple([get_param_from_filename(n, y) for y in [\"k\",\"p\",\"e\",\"l\"]])\n",
    "#     if exp not in all_data:\n",
    "#         all_data[exp] = dict()\n",
    "#     all_data[exp][tp] = load_pkl(n)\n",
    "# with open(\"../data/dataset_03_all_datasets_n{0}.pkl\".format(2000), 'wb') as output:\n",
    "#     pickle.dump(all_data, output)"
   ]
  },
  {
   "cell_type": "code",
   "execution_count": null,
   "metadata": {},
   "outputs": [],
   "source": [
    "all_exp_data = load_pkl(\"../data/dataset_03_all_datasets_n2000.pkl\")"
   ]
  },
  {
   "cell_type": "code",
   "execution_count": null,
   "metadata": {},
   "outputs": [],
   "source": [
    "all_exp_data.keys()"
   ]
  },
  {
   "cell_type": "code",
   "execution_count": null,
   "metadata": {
    "collapsed": true
   },
   "outputs": [],
   "source": [
    "fnn_param = {\n",
    "    \"batch_size\": 32,\n",
    "    \"epoch\": 30,\n",
    "    \"verbose\": 0,\n",
    "    \"validation_ratio\": 0.2,\n",
    "    \"activation\": \"relu\",\n",
    "    \"l2_strength\": 0.001,\n",
    "    \"learing_rate\": 0.01,\n",
    "    \"optimizer\": \"adam\",\n",
    "    \"metrics\": [\"accuracy\"],\n",
    "    \"loss_fn\": \"binary_crossentropy\"\n",
    "}\n",
    "fnn_architecture = [32,100]"
   ]
  },
  {
   "cell_type": "code",
   "execution_count": null,
   "metadata": {},
   "outputs": [],
   "source": [
    "variable_desc"
   ]
  },
  {
   "cell_type": "code",
   "execution_count": null,
   "metadata": {
    "collapsed": true
   },
   "outputs": [],
   "source": [
    "title_str = \"FNN-{0} Average Accuracy (N={1}) vs. {2}\"\n",
    "fnn_str = str(fnn_architecture)\n",
    "average_N = 5"
   ]
  },
  {
   "cell_type": "code",
   "execution_count": 715,
   "metadata": {},
   "outputs": [
    {
     "name": "stdout",
     "output_type": "stream",
     "text": [
      "Performing experiments over k = 10.0\n",
      "... variable = 0.01\n",
      "... finished with avg_acc of 0.9178000000000001\n",
      "... variable = 0.05\n",
      "... finished with avg_acc of 0.8632000000000002\n",
      "... variable = 0.09\n",
      "... finished with avg_acc of 0.8164\n",
      "... variable = 0.15\n",
      "... finished with avg_acc of 0.7447999999999999\n",
      "... variable = 0.19\n",
      "... finished with avg_acc of 0.6988\n",
      "Performing experiments over k = 100.0\n",
      "... variable = 0.01\n",
      "... finished with avg_acc of 0.50092\n",
      "... variable = 0.05\n",
      "... finished with avg_acc of 0.502205\n",
      "... variable = 0.09\n",
      "... finished with avg_acc of 0.49755000000000005\n",
      "... variable = 0.15\n",
      "... finished with avg_acc of 0.50057\n",
      "... variable = 0.19\n",
      "... finished with avg_acc of 0.5004050000000001\n",
      "Performing experiments over k = 20.0\n",
      "... variable = 3.0\n",
      "... finished with avg_acc of 0.644425\n",
      "... variable = 4.0\n",
      "... finished with avg_acc of 0.9460750000000001\n",
      "... variable = 5.0\n",
      "... finished with avg_acc of 0.61095\n",
      "... variable = 6.0\n",
      "... finished with avg_acc of 0.6332500000000001\n",
      "... variable = 7.0\n",
      "... finished with avg_acc of 0.653075\n",
      "Performing experiments over k = 100.0\n",
      "... variable = 3.0\n",
      "... finished with avg_acc of 0.5023949999999999\n",
      "... variable = 4.0\n",
      "... finished with avg_acc of 0.5012549999999999\n",
      "... variable = 5.0\n",
      "... finished with avg_acc of 0.4987450000000001\n",
      "... variable = 6.0\n",
      "... finished with avg_acc of 0.499235\n",
      "... variable = 7.0\n",
      "... finished with avg_acc of 0.49727999999999994\n",
      "Performing experiments over k = 10.0\n",
      "... variable = 0.1\n",
      "... finished with avg_acc of 0.9801500000000001\n",
      "... variable = 0.25\n",
      "... finished with avg_acc of 0.9614999999999998\n",
      "... variable = 0.5\n",
      "... finished with avg_acc of 0.86675\n",
      "... variable = 0.7\n",
      "... finished with avg_acc of 0.9560500000000001\n",
      "... variable = 0.81\n",
      "... finished with avg_acc of 0.9662499999999999\n",
      "Performing experiments over k = 100.0\n",
      "... variable = 0.1\n",
      "... finished with avg_acc of 0.9007249999999999\n",
      "... variable = 0.25\n",
      "... finished with avg_acc of 0.7516550000000001\n",
      "... variable = 0.5\n",
      "... finished with avg_acc of 0.501065\n",
      "... variable = 0.7\n",
      "... finished with avg_acc of 0.707865\n",
      "... variable = 0.81\n",
      "... finished with avg_acc of 0.80785\n",
      "Performing experiments for exp_k ...\n",
      "... variable = 1.0\n",
      "... ... finished with avg_acc of 0.9995\n",
      "... variable = 2.0\n",
      "... ... finished with avg_acc of 0.9953\n",
      "... variable = 3.0\n",
      "... ... finished with avg_acc of 0.9915\n"
     ]
    }
   ],
   "source": [
    "all_experiment_results = dict()\n",
    "\n",
    "for var in \"elp\":\n",
    "    var_res = conduct_experiment(experiment_type=var, \n",
    "                                 verbose=True,\n",
    "                                 data_source=all_exp_data, \n",
    "                                 architecture=fnn_architecture, \n",
    "                                 param=fnn_param, \n",
    "                                 average_N=average_N)\n",
    "    all_experiment_results[var] = var_res"
   ]
  },
  {
   "cell_type": "code",
   "execution_count": 765,
   "metadata": {},
   "outputs": [
    {
     "data": {
      "image/png": "[encoded data removed]",
      "text/plain": [
       "<matplotlib.figure.Figure at 0x2350309b0>"
      ]
     },
     "metadata": {},
     "output_type": "display_data"
    },
    {
     "data": {
      "image/png": "[encoded data removed]",
      "text/plain": [
       "<matplotlib.figure.Figure at 0x1f18100f0>"
      ]
     },
     "metadata": {},
     "output_type": "display_data"
    },
    {
     "data": {
      "image/png": "[encoded data removed]",
      "text/plain": [
       "<matplotlib.figure.Figure at 0x2350b9048>"
      ]
     },
     "metadata": {},
     "output_type": "display_data"
    }
   ],
   "source": [
    "for var in \"elp\":\n",
    "    graph_experiment_accuracy(all_experiment_results[var],\n",
    "                              isK=False,\n",
    "                              title=title_str.format(fnn_str, average_N, variable_desc[var]),\n",
    "                              xlabel=variable_desc[var],\n",
    "                              ylabel=\"Average Accuracy\")"
   ]
  },
  {
   "cell_type": "code",
   "execution_count": null,
   "metadata": {
    "collapsed": true
   },
   "outputs": [],
   "source": [
    "# Repeat l = 4 experiment with new data\n",
    "var_res = conduct_experiment(experiment_type=var, \n",
    "                                 verbose=True,\n",
    "                                 data_source=all_exp_data, \n",
    "                                 architecture=fnn_architecture, \n",
    "                                 param=fnn_param, \n",
    "                                 average_N=average_N)\n",
    "x, y = build_experiment_data(\"l\", None, all_exp_data, \n",
    "                             combine_all=False, verbose=False)\n",
    "print(\"re-running l = 4 experiment...\")\n",
    "l_acc = []\n",
    "for i in range(5):\n",
    "    if verbose:\n",
    "        print(\"... ... run {0}/{1}\".format(i+1, average_N), end=\"\\r\")\n",
    "    X_train, X_test, y_train, y_test = train_test_split(\n",
    "        x[4], y[4])\n",
    "    y_train = one_hot_datasets(y_train)\n",
    "    model = build_fnn(input_shape=X_train.shape[1:], output_shape=y_train.shape[1:],\n",
    "          architecture=fnn_architecture, param=fnn_param)\n",
    "    model = train_fnn(model, X_train, y_train, param=fnn_param)\n",
    "    acc = model_accuracy(model, X_test, y_test, argmax=True)\n",
    "    l_acc.append(acc)\n",
    "l_acc_avg = np.mean(l_acc)\n",
    "print(\"l_acc:\",l_acc)"
   ]
  },
  {
   "cell_type": "code",
   "execution_count": null,
   "metadata": {
    "collapsed": true
   },
   "outputs": [],
   "source": []
  },
  {
   "cell_type": "code",
   "execution_count": null,
   "metadata": {
    "collapsed": true
   },
   "outputs": [],
   "source": []
  },
  {
   "cell_type": "code",
   "execution_count": 769,
   "metadata": {
    "collapsed": true
   },
   "outputs": [],
   "source": [
    "fnn_param = {\n",
    "    \"batch_size\": 64,\n",
    "    \"epoch\": 15,\n",
    "    \"verbose\": 0,\n",
    "    \"validation_ratio\": 0.2,\n",
    "    \"activation\": \"relu\",\n",
    "    \"l2_strength\": 0.001,\n",
    "    \"learing_rate\": 0.01,\n",
    "    \"optimizer\": \"adam\",\n",
    "    \"metrics\": [\"accuracy\"],\n",
    "    \"loss_fn\": \"binary_crossentropy\"\n",
    "}\n",
    "fnn_architecture = [32,100]\n",
    "average_N = 3"
   ]
  },
  {
   "cell_type": "code",
   "execution_count": null,
   "metadata": {},
   "outputs": [
    {
     "name": "stdout",
     "output_type": "stream",
     "text": [
      "Performing experiments for exp_k ...\n",
      "... variable = 1.0\n",
      "... ... finished with avg_acc of 1.0000\n",
      "... variable = 2.0\n",
      "... ... finished with avg_acc of 0.9962\n",
      "... variable = 3.0\n",
      "... ... finished with avg_acc of 0.9917\n",
      "... variable = 4.0\n",
      "... ... finished with avg_acc of 0.9875\n",
      "... variable = 5.0\n",
      "... ... run 2/3\r"
     ]
    }
   ],
   "source": [
    "var_res = conduct_experiment(experiment_type=\"k\", \n",
    "                                 verbose=True,\n",
    "                                 data_source=all_exp_data, \n",
    "                                 architecture=fnn_architecture, \n",
    "                                 param=fnn_param, \n",
    "                                 average_N=average_N)\n",
    "all_experiment_results[var] = \"k\""
   ]
  },
  {
   "cell_type": "code",
   "execution_count": null,
   "metadata": {
    "collapsed": true
   },
   "outputs": [],
   "source": [
    "graph_experiment_accuracy(all_experiment_results[\"k\"],\n",
    "                          isK=True,\n",
    "                          title=title_str.format(fnn_str, average_N, \n",
    "                                                 variable_desc[\"k\"]),\n",
    "                          xlabel=variable_desc[\"k\"],\n",
    "                          ylabel=\"Average Accuracy\")"
   ]
  },
  {
   "cell_type": "code",
   "execution_count": null,
   "metadata": {
    "collapsed": true
   },
   "outputs": [],
   "source": [
    "# # save all models\n",
    "# for var in \"elp\":\n",
    "#     for k in all_experiment_results[var]:\n",
    "#         for v in all_experiment_results[var][k]:\n",
    "#             name = \"models/v3/exp_{0}/k{1}_{0}{2}_fnn_{3}.h5\".format(var,k,v,fnn_str)\n",
    "#             all_experiment_results[var][k][v][\"best_model\"].save(name)\n",
    "            \n",
    "# for v in all_experiment_results[\"k\"]:\n",
    "#     name = \"models/v3/exp_k/k{0}_fnn_{1}.h5\".format(v,fnn_str)\n",
    "#     all_experiment_results[\"k\"][v][\"best_model\"].save(name)"
   ]
  },
  {
   "cell_type": "code",
   "execution_count": null,
   "metadata": {
    "collapsed": true
   },
   "outputs": [],
   "source": []
  }
 ],
 "metadata": {
  "kernelspec": {
   "display_name": "Python 3",
   "language": "python",
   "name": "python3"
  },
  "language_info": {
   "codemirror_mode": {
    "name": "ipython",
    "version": 3
   },
   "file_extension": ".py",
   "mimetype": "text/x-python",
   "name": "python",
   "nbconvert_exporter": "python",
   "pygments_lexer": "ipython3",
   "version": "3.6.4"
  }
 },
 "nbformat": 4,
 "nbformat_minor": 2
}
