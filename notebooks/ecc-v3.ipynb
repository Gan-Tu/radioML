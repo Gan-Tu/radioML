{
 "cells": [
  {
   "cell_type": "code",
   "execution_count": 110,
   "metadata": {
    "collapsed": true
   },
   "outputs": [],
   "source": [
    "import numpy as np\n",
    "import tensorflow as tf\n",
    "import os\n",
    "import matplotlib.pyplot as plt\n",
    "%matplotlib inline\n",
    "import pickle\n",
    "from functools import reduce"
   ]
  },
  {
   "cell_type": "code",
   "execution_count": 2,
   "metadata": {},
   "outputs": [
    {
     "name": "stderr",
     "output_type": "stream",
     "text": [
      "Using TensorFlow backend.\n"
     ]
    }
   ],
   "source": [
    "import keras\n",
    "from keras import regularizers\n",
    "from keras import backend as K\n",
    "from keras.optimizers import Adam\n",
    "from keras.models import Model, Sequential\n",
    "from keras.layers import Dense, Input, Activation, Dropout, BatchNormalization, Flatten, Reshape\n",
    "from keras.layers import Conv2D, MaxPooling2D, AveragePooling2D, UpSampling2D\n",
    "from keras.layers import Conv1D, MaxPooling1D, AveragePooling1D, UpSampling1D\n",
    "from keras.optimizers import Adam, SGD"
   ]
  },
  {
   "cell_type": "markdown",
   "metadata": {},
   "source": [
    "# Utility Functions"
   ]
  },
  {
   "cell_type": "code",
   "execution_count": 3,
   "metadata": {
    "collapsed": true
   },
   "outputs": [],
   "source": [
    "def load_pkl(path):\n",
    "    return pickle.load(open(path, \"rb\"))"
   ]
  },
  {
   "cell_type": "code",
   "execution_count": 4,
   "metadata": {
    "collapsed": true
   },
   "outputs": [],
   "source": [
    "def load_data(data):\n",
    "    keys = ['message_seqs', 'encoded_seqs', 'noisy_seqs', 'viterbi_decoded_seqs']\n",
    "    x = data[keys[2]] # noisy sequences will be our input to our models\n",
    "    y = data[keys[0]]\n",
    "    y_viterbi_decoded = data[keys[3]]\n",
    "    \n",
    "    x = np.array(x)\n",
    "    y = np.array(y)\n",
    "    y_viterbi_decoded = np.array(y_viterbi_decoded)\n",
    "    \n",
    "    return x, y, y_viterbi_decoded"
   ]
  },
  {
   "cell_type": "code",
   "execution_count": 5,
   "metadata": {
    "collapsed": true
   },
   "outputs": [],
   "source": [
    "def load(path):\n",
    "    return load_data(load_pkl(path))"
   ]
  },
  {
   "cell_type": "code",
   "execution_count": 114,
   "metadata": {
    "collapsed": true
   },
   "outputs": [],
   "source": [
    "def load_pkl_paths_from_folder(dir_path, recursive=False):\n",
    "    if recursive:\n",
    "        return list(filter(lambda x: \".pkl\" in x,\n",
    "                            [os.path.join(dp, f) for dp, dn, fn in os.walk(os.path.expanduser(dir_path)) \n",
    "                                                 for f in fn]))\n",
    "    else:\n",
    "        return [dir_path + \"/\" + x for x in os.listdir(dir_path) if \".pkl\" in x ]"
   ]
  },
  {
   "cell_type": "code",
   "execution_count": 7,
   "metadata": {
    "collapsed": true
   },
   "outputs": [],
   "source": [
    "def get_param_from_filename(filename, param):\n",
    "    split_token = \"_\"\n",
    "    if param == \"k\":\n",
    "        split_token = \"_k\"\n",
    "    elif param == \"p\":\n",
    "        split_token = \"_p\"\n",
    "    elif param == \"r\":\n",
    "        split_token = \"_r\"\n",
    "    elif param == \"l\":\n",
    "        split_token = \"_l\"\n",
    "    elif param == \"e\":\n",
    "        split_token = \"_e\"\n",
    "    elif param == \"n\":\n",
    "        split_token = \"_n\"\n",
    "    else:\n",
    "        raise ValueError(\"unrecognized parameter\", param)\n",
    "        \n",
    "    res = filename.split(\"/\")[-1].split(split_token)[1].split(\"_\")[0]\n",
    "    if \".pkl\" in res:\n",
    "        res = res.split(\".pkl\")[0]\n",
    "    \n",
    "    return float(res)"
   ]
  },
  {
   "cell_type": "markdown",
   "metadata": {},
   "source": [
    "# Data Processing"
   ]
  },
  {
   "cell_type": "code",
   "execution_count": 330,
   "metadata": {
    "collapsed": true
   },
   "outputs": [],
   "source": [
    "def train_test_split(x, y, test_ratio=0.2):\n",
    "    indicies = np.arange(len(x))\n",
    "    np.random.shuffle(indicies)\n",
    "    \n",
    "    split_inx = int(len(x) * (1-test_ratio))\n",
    "    X_train, X_test = x[indicies[:split_inx]], x[indicies[split_inx:]]\n",
    "    y_train, y_test = y[indicies[:split_inx]], y[indicies[split_inx:]]\n",
    "    \n",
    "    return X_train, X_test, y_train, y_test"
   ]
  },
  {
   "cell_type": "markdown",
   "metadata": {},
   "source": [
    "# Model Definitions"
   ]
  },
  {
   "cell_type": "markdown",
   "metadata": {},
   "source": [
    "Optimizers"
   ]
  },
  {
   "cell_type": "code",
   "execution_count": 9,
   "metadata": {
    "collapsed": true
   },
   "outputs": [],
   "source": [
    "optimizers = {\n",
    "    \"adam\": Adam, \n",
    "    \"sgd\":  SGD\n",
    "}"
   ]
  },
  {
   "cell_type": "markdown",
   "metadata": {},
   "source": [
    "Fully Connected Neural Net"
   ]
  },
  {
   "cell_type": "code",
   "execution_count": 10,
   "metadata": {
    "collapsed": true
   },
   "outputs": [],
   "source": [
    "default_fnn_param = {\n",
    "    \"batch_size\": 64,\n",
    "    \"epoch\": 25,\n",
    "    \"verbose\": 2,\n",
    "    \"validation_ratio\": 0.2,\n",
    "    \"activation\": \"relu\",\n",
    "    \"l2_strength\": 0.01,\n",
    "    \"learing_rate\": 0.015,\n",
    "    \"optimizer\": \"adam\",\n",
    "    \"metrics\": [\"accuracy\"],\n",
    "    \"loss_fn\": \"binary_crossentropy\"\n",
    "}"
   ]
  },
  {
   "cell_type": "code",
   "execution_count": 11,
   "metadata": {
    "collapsed": true
   },
   "outputs": [],
   "source": [
    "default_fnn_architecture = [32,64,100]"
   ]
  },
  {
   "cell_type": "markdown",
   "metadata": {},
   "source": [
    "Convolution 1D Nerual Net"
   ]
  },
  {
   "cell_type": "code",
   "execution_count": 12,
   "metadata": {
    "collapsed": true
   },
   "outputs": [],
   "source": [
    "default_cnn_param = {\n",
    "    \"batch_size\": 64,\n",
    "    \"epoch\": 25,\n",
    "    \"verbose\": 2,\n",
    "    \"validation_ratio\": 0.2,\n",
    "    \"activation\": \"relu\",\n",
    "    \"dropout_keep_prob\": 0.5,\n",
    "    \"learing_rate\": 0.01,\n",
    "    \"optimizer\": \"adam\",\n",
    "    \"conv_padding\": \"same\",\n",
    "    \"metrics\": [\"accuracy\"],\n",
    "    \"loss_fn\": \"binary_crossentropy\"\n",
    "}"
   ]
  },
  {
   "cell_type": "markdown",
   "metadata": {},
   "source": [
    "Avaliable Layers:\n",
    "\n",
    "Dense, Input, Activation, Dropout, BatchNormalization, Flatten, Reshape\n",
    "Conv2D, MaxPooling2D, AveragePooling2D, UpSampling2D\n",
    "Conv1D, MaxPooling1D, AveragePooling1D, UpSampling1D"
   ]
  },
  {
   "cell_type": "code",
   "execution_count": null,
   "metadata": {
    "collapsed": true
   },
   "outputs": [],
   "source": [
    "filters=16, kernel_size=3, strides=1,padding=PADDING, \n",
    "                 activation=ACTIVATION, input_shape=X_train_reshaped.shape[1:]"
   ]
  },
  {
   "cell_type": "code",
   "execution_count": 13,
   "metadata": {
    "collapsed": true
   },
   "outputs": [],
   "source": [
    "default_cnn_architecture = [\n",
    "    (\"conv1d\", dict(f=16,k=3,s=1)),\n",
    "    (\"conv1d\", dict(f=16,k=3,s=1)),\n",
    "    (\"conv1d\", dict(f=16,k=3,s=1)),\n",
    "    (\"conv1d\", dict(f=16,k=3,s=1)),\n",
    "    (\"flatten\"),\n",
    "    (\"dense\", 200),\n",
    "    (\"dropout\")\n",
    "]"
   ]
  },
  {
   "cell_type": "markdown",
   "metadata": {},
   "source": [
    "# Model Construction"
   ]
  },
  {
   "cell_type": "code",
   "execution_count": 309,
   "metadata": {
    "collapsed": true
   },
   "outputs": [],
   "source": [
    "def build_fnn(input_shape, \n",
    "              output_shape, \n",
    "              architecture=default_fnn_architecture, \n",
    "              param=default_fnn_param):\n",
    "    \"\"\"\n",
    "    Train a FNN model with INPUT_SHAPE and OUTPUT_SHAPE using ARCHITECTURE and PARAM.\n",
    "    \"\"\"\n",
    "\n",
    "    model = Sequential()\n",
    "    \n",
    "    for i, output_units in enumerate(architecture):\n",
    "        if i == 0:\n",
    "            model.add(Dense(output_units, activation=param[\"activation\"],\n",
    "                        input_shape=input_shape,\n",
    "                        kernel_regularizer=regularizers.l2(param[\"l2_strength\"])))\n",
    "        else:\n",
    "            model.add(Dense(output_units, activation=param[\"activation\"],\n",
    "                        kernel_regularizer=regularizers.l2(param[\"l2_strength\"])))\n",
    "    \n",
    "    model.add(Dense(np.product(output_shape), activation=\"sigmoid\"))\n",
    "    model.add(Reshape(output_shape))\n",
    "    \n",
    "    opt = optimizers[param[\"optimizer\"]](lr=param[\"learing_rate\"])\n",
    "    model.compile(optimizer=opt, loss=param[\"loss_fn\"], metrics=param[\"metrics\"])\n",
    "    \"\"\n",
    "    return model"
   ]
  },
  {
   "cell_type": "code",
   "execution_count": 435,
   "metadata": {
    "collapsed": true
   },
   "outputs": [],
   "source": [
    "def train_fnn(model, x, y, param=default_fnn_param, shuffle=True):\n",
    "    model.fit(x, y, batch_size=param[\"batch_size\"], epochs=param[\"epoch\"], shuffle=shuffle,\n",
    "              verbose=param[\"verbose\"], validation_split=param[\"validation_ratio\"])\n",
    "    return model"
   ]
  },
  {
   "cell_type": "code",
   "execution_count": null,
   "metadata": {
    "collapsed": true
   },
   "outputs": [],
   "source": [
    "def build_cnn(input_shape, \n",
    "              output_shape, \n",
    "              architecture=default_cnn_architecture, \n",
    "              param=default_cnn_param):\n",
    "    \"\"\"\n",
    "    Train a CNN model with INPUT_SHAPE and OUTPUT_SHAPE using ARCHITECTURE and PARAM.\n",
    "    \"\"\"\n",
    "\n",
    "    model = Sequential()\n",
    "    \n",
    "    for i, layer in enumerate(architecture):\n",
    "        if layer[0] == \"conv1d\":\n",
    "            model.add(Conv1D(filters=16, kernel_size=3, strides=1,padding=PADDING, activation=ACTIVATION))\n",
    "        elif layer[0] == \"flatten\":\n",
    "            model.add(Flatten())\n",
    "        elif layer[0] == \"dense\":\n",
    "            model.add(Dense(layer[1], activation=param[\"activation\"]))\n",
    "        elif layer[0] == \"dropout\":\n",
    "            model.add(Dropout(param[\"dropout_keep_prob\"]))\n",
    "        else:\n",
    "            raise ValueError(\"do not recognize layer\", layer[0])\n",
    "    \n",
    "#     for i, output_units in enumerate(architecture):\n",
    "#         if i == 0:\n",
    "#             model.add(Dense(output_units, activation=param[\"activation\"],\n",
    "#                         input_shape=input_shape,\n",
    "#                         kernel_regularizer=regularizers.l2(param[\"l2_strength\"])))\n",
    "#         else:\n",
    "#             model.add(Dense(output_units, activation=param[\"activation\"],\n",
    "#                         kernel_regularizer=regularizers.l2(param[\"l2_strength\"])))\n",
    "    \n",
    "    model.add(Dense(np.product(output_shape), activation=\"sigmoid\"))\n",
    "    model.add(Reshape(output_shape))\n",
    "    \n",
    "    opt = optimizers[param[\"optimizer\"]](lr=param[\"learing_rate\"])\n",
    "    model.compile(optimizer=opt, loss=param[\"loss_fn\"], metrics=param[\"metrics\"])\n",
    "    \"\"\n",
    "    return model"
   ]
  },
  {
   "cell_type": "code",
   "execution_count": null,
   "metadata": {
    "collapsed": true
   },
   "outputs": [],
   "source": [
    "def train_cnn(model, x, y, param=default_fnn_param, shuffle=True):\n",
    "    model.fit(x, y, batch_size=param[\"batch_size\"], epochs=param[\"epoch\"], shuffle=shuffle,\n",
    "              verbose=param[\"verbose\"], validation_split=param[\"validation_ratio\"])\n",
    "    return model"
   ]
  },
  {
   "cell_type": "code",
   "execution_count": null,
   "metadata": {
    "collapsed": true
   },
   "outputs": [],
   "source": []
  },
  {
   "cell_type": "markdown",
   "metadata": {},
   "source": [
    "# Evaluation Metrics"
   ]
  },
  {
   "cell_type": "code",
   "execution_count": 802,
   "metadata": {
    "collapsed": true
   },
   "outputs": [],
   "source": [
    "def accuracy(y, y_pred, argmax=False, viterbi=False):\n",
    "    y_pred_binary = y_pred\n",
    "    \n",
    "    if viterbi:\n",
    "        y_pred_binary = [p[:y.shape[1]] for p in y_pred]\n",
    "    elif argmax:\n",
    "        y_pred_binary = np.vstack([np.argmax(p, axis=1) for p in y_pred])\n",
    "        assert y.shape == y_pred_binary.shape, \"prediction and ground truth must \\\n",
    "        have same shape\\nExpected:{0} Actual:{1}\".format(y.shape, y_pred_binary.shape)\n",
    "    \n",
    "    return np.sum(y == y_pred_binary) / np.product(y.shape)"
   ]
  },
  {
   "cell_type": "code",
   "execution_count": 803,
   "metadata": {
    "collapsed": true
   },
   "outputs": [],
   "source": [
    "def model_accuracy(model, x, y, argmax=False):\n",
    "    if argmax:\n",
    "        y_pred = model.predict(x)\n",
    "        return accuracy(y, y_pred, argmax)\n",
    "    else:\n",
    "        return model.evaluate(x, y, verbose=0)"
   ]
  },
  {
   "cell_type": "code",
   "execution_count": 804,
   "metadata": {
    "collapsed": true
   },
   "outputs": [],
   "source": [
    "def pred_vs_truth(model, x, y, n_show=2):\n",
    "    indicies = np.random.randint(low=0, high=x.shape[0], size=n_show)\n",
    "    y_pred = model.predict(x[indicies])\n",
    "    y_pred_binary = np.vstack([np.argmax(p, axis=1) for p in y_pred])\n",
    "    \n",
    "    truth = y[indicies].astype(y_pred_binary.dtype)\n",
    "    for i in range(len(truth)):\n",
    "        print(\"\\n############## Example {0} ##############\".format(i))\n",
    "        print(\"Expected:\\n\", truth[i])\n",
    "        print(\"Actual:\\n\", y_pred_binary[i])"
   ]
  },
  {
   "cell_type": "markdown",
   "metadata": {},
   "source": [
    "# Experiments"
   ]
  },
  {
   "cell_type": "code",
   "execution_count": 1,
   "metadata": {
    "collapsed": true
   },
   "outputs": [],
   "source": [
    "def one_hot(data):\n",
    "    res = []\n",
    "    for d in data:\n",
    "        res.append([0,0])\n",
    "        res[-1][int(d)] = 1\n",
    "    return np.array(res)\n",
    "\n",
    "def one_hot_datasets(y):\n",
    "    return np.array(list(map(lambda x: one_hot(x), y)))\n",
    "\n",
    "def onehot_to_normal(dataset):\n",
    "    return np.argmax(dataset, axis=2)"
   ]
  },
  {
   "cell_type": "markdown",
   "metadata": {},
   "source": [
    "data_sources = ['message_seqs', 'encoded_seqs', 'noisy_seqs', 'viterbi_decoded_seqs']"
   ]
  },
  {
   "cell_type": "code",
   "execution_count": 806,
   "metadata": {
    "collapsed": true
   },
   "outputs": [],
   "source": [
    "def build_experiment_data(experiment_type, k, data_source, combine_all=True, verbose=True):\n",
    "    if \"exp_\" not in experiment_type:\n",
    "        experiment_type = \"exp_{0}\".format(experiment_type)\n",
    "        if len(experiment_type) != 5:\n",
    "            raise ValueError(\"experiment_type has be of type: exp_X\")\n",
    "    data = all_exp_data[experiment_type]\n",
    "    var = experiment_type[4]\n",
    "    if verbose:\n",
    "        print(\"building data for experiment {0} on variable {1} with k = {2}...\".format(\n",
    "                experiment_type, var, k))\n",
    "    x, y = dict(), dict()\n",
    "    for d, v in data.items():\n",
    "        if k is not None and d[0] != k:\n",
    "            continue\n",
    "        var_value = d[\"kpel\".index(var)]\n",
    "        if var_value not in x: \n",
    "            x[var_value] = list()\n",
    "            y[var_value] = list()\n",
    "        x[var_value].append(v[\"noisy_seqs\"])\n",
    "        y[var_value].append(v[\"message_seqs\"])\n",
    "    for v in x:\n",
    "        x[v] = np.vstack(x[v])\n",
    "        y[v] = np.vstack(y[v])\n",
    "    if verbose:\n",
    "        print(\"... finished building data\")\n",
    "        \n",
    "    if combine_all:\n",
    "        return np.vstack(list(x.values())), np.vstack(list(y.values()))\n",
    "    else:\n",
    "        return x, y"
   ]
  },
  {
   "cell_type": "code",
   "execution_count": 807,
   "metadata": {
    "collapsed": true
   },
   "outputs": [],
   "source": [
    "def conduct_experiment(experiment_type, data_source, verbose=False,\n",
    "                       architecture=default_fnn_architecture, \n",
    "                       param=default_fnn_param, average_N=5):\n",
    "    if \"exp_\" not in experiment_type:\n",
    "        experiment_type = \"exp_{0}\".format(experiment_type)\n",
    "        if len(experiment_type) != 5:\n",
    "            raise ValueError(\"experiment_type has be of type: exp_X\")\n",
    "    \n",
    "    if experiment_type != \"exp_k\":\n",
    "        ks = list(set(map(lambda x: x[0],list(data_source[experiment_type].keys()))))\n",
    "        res = dict()\n",
    "        for k in sorted(ks):\n",
    "            if verbose:\n",
    "                print(\"Performing experiments over k = {0}\".format(k))\n",
    "            x, y = build_experiment_data(experiment_type, k, all_exp_data, \n",
    "                                             combine_all=False, verbose=False)\n",
    "\n",
    "            res[k] = dict()\n",
    "            for var_value in sorted(x):\n",
    "                if verbose:\n",
    "                    print(\"... variable = {0}\".format(var_value))\n",
    "                res[k][var_value] = dict(acc=list(), best_model=None, avg_acc=0)\n",
    "                for i in range(average_N):\n",
    "                    if verbose:\n",
    "                        print(\"... ... run {0}/{1}\".format(i+1, average_N), end=\"\\r\")\n",
    "                    X_train, X_test, y_train, y_test = train_test_split(x[var_value], y[var_value])\n",
    "                    y_train = one_hot_datasets(y_train)\n",
    "                    model = build_fnn(input_shape=X_train.shape[1:], output_shape=y_train.shape[1:],\n",
    "                          architecture=architecture, param=param)\n",
    "                    model = train_fnn(model, X_train, y_train, param=fnn_param)\n",
    "                    acc = model_accuracy(model, X_test, y_test, argmax=True)\n",
    "\n",
    "                    res[k][var_value][\"acc\"].append(acc)\n",
    "                    if acc >= max(res[k][var_value][\"acc\"]):\n",
    "                        res[k][var_value][\"best_model\"] = model\n",
    "                res[k][var_value][\"avg_acc\"] = np.mean(res[k][var_value][\"acc\"])\n",
    "                if verbose:\n",
    "                    print(\"... finished with avg_acc of {0:.4f}\".format(\n",
    "                        res[k][var_value][\"avg_acc\"]))\n",
    "    else:\n",
    "        res = dict()\n",
    "        if verbose:\n",
    "            print(\"Performing experiments for exp_k ...\")\n",
    "        x, y = build_experiment_data(experiment_type, None, all_exp_data, \n",
    "                                         combine_all=False, verbose=False)\n",
    "        for var_value in sorted(x):\n",
    "            if verbose:\n",
    "                print(\"... variable = {0}\".format(var_value))\n",
    "            res[var_value] = dict(acc=list(), best_model=None, avg_acc=0)\n",
    "            for i in range(average_N):\n",
    "                if verbose:\n",
    "                    print(\"... ... run {0}/{1}\".format(i+1, average_N), end=\"\\r\")\n",
    "                X_train, X_test, y_train, y_test = train_test_split(x[var_value], y[var_value])\n",
    "                y_train = one_hot_datasets(y_train)\n",
    "                model = build_fnn(input_shape=X_train.shape[1:], \n",
    "                                  output_shape=y_train.shape[1:],\n",
    "                                  architecture=architecture, \n",
    "                                  param=param)\n",
    "                model = train_fnn(model, X_train, y_train, param=fnn_param)\n",
    "                acc = model_accuracy(model, X_test, y_test, argmax=True)\n",
    "\n",
    "                res[var_value][\"acc\"].append(acc)\n",
    "                if acc >= max(res[var_value][\"acc\"]):\n",
    "                    res[var_value][\"best_model\"] = model\n",
    "            res[var_value][\"avg_acc\"] = np.mean(res[var_value][\"acc\"])\n",
    "            if verbose:\n",
    "                print(\"... ... finished with avg_acc of {0:.4f}\".format(\n",
    "                    res[var_value][\"avg_acc\"]))\n",
    "            \n",
    "    return res"
   ]
  },
  {
   "cell_type": "code",
   "execution_count": 808,
   "metadata": {
    "collapsed": true
   },
   "outputs": [],
   "source": [
    "def show_experiment_result(experiment_type, res, k, var_value, data_source, n_show=5):\n",
    "    x, y = build_experiment_data(experiment_type, k, data_source, \n",
    "                                 combine_all=False, verbose=False)\n",
    "    X_train, X_test, y_train, y_test = train_test_split(x[var_value], y[var_value])\n",
    "    pred_vs_truth(res[k][var_value][\"best_model\"], X_test, y_test, n_show=n_show)"
   ]
  },
  {
   "cell_type": "code",
   "execution_count": 809,
   "metadata": {
    "collapsed": true
   },
   "outputs": [],
   "source": [
    "variable_desc = {\n",
    "    \"k\": \"message length (K-bit)\",\n",
    "    \"p\": \"prob P of Bernoulli distribution\",\n",
    "    \"e\": \"corruption probability E\",\n",
    "    \"l\": \"constraint length L\"\n",
    "}"
   ]
  },
  {
   "cell_type": "code",
   "execution_count": 866,
   "metadata": {
    "collapsed": true
   },
   "outputs": [],
   "source": [
    "def graph_experiment_accuracy(res, title, variable_name, \n",
    "                              xlabel, ylabel, isK=False, \n",
    "                              c=[\"b-\", \"c-\",\"m-\",\"r-\"]):\n",
    "    plt.figure(figsize=(8, 5))\n",
    "    plt.title(title)\n",
    "    \n",
    "    c_i = 0\n",
    "    if isK:\n",
    "        x_range = np.array(list(res.keys()))\n",
    "        y_range = np.array(list(map(lambda x: res[x][\"avg_acc\"], res)))\n",
    "\n",
    "        sorted_indicies = np.argsort(x_range)\n",
    "\n",
    "        plt.plot(x_range[sorted_indicies], \n",
    "                 y_range[sorted_indicies], \n",
    "                 c[c_i],\n",
    "                 label=\"FNN\")\n",
    "        c_i+=1\n",
    "        \n",
    "        # Graph Viterbi\n",
    "        root_path_format = \"../data/dataset_03/exp_k\"\n",
    "        exp_path = root_path_format.format(variable_name)\n",
    "        viterbi_accuracies = list()\n",
    "        plt_range = list()\n",
    "        for pkl in load_pkl_paths_from_folder(exp_path, recursive=True):\n",
    "            x, y, y_viterbi_decoded = load(pkl)\n",
    "            acc = accuracy(y, y_viterbi_decoded, viterbi=True)\n",
    "            viterbi_accuracies.append(acc)\n",
    "            plt_range.append(get_param_from_filename(pkl, variable_name))\n",
    "\n",
    "        sorted_indicies = np.argsort(plt_range)\n",
    "        plt_range = np.array(plt_range)\n",
    "        viterbi_accuracies = np.array(viterbi_accuracies)\n",
    "        \n",
    "        plt.plot(plt_range[sorted_indicies], \n",
    "                     viterbi_accuracies[sorted_indicies], \n",
    "                     c[c_i],\n",
    "                     label=\"viterbi\")\n",
    "        c_i+=1\n",
    "    else:\n",
    "        for i, k in enumerate(res):\n",
    "            x_range = np.array(list(res[k].keys()))\n",
    "            y_range = np.array(list(map(lambda x: res[k][x][\"avg_acc\"], res[k])))\n",
    "\n",
    "            sorted_indicies = np.argsort(x_range)\n",
    "\n",
    "            plt.plot(x_range[sorted_indicies], \n",
    "                     y_range[sorted_indicies], \n",
    "                     c[c_i],\n",
    "                     label=\"FNN k={0}\".format(k))\n",
    "            \n",
    "            c_i+=1\n",
    "            \n",
    "            # Graph Viterbi\n",
    "            root_path_format = \"../data/dataset_03/exp_{0}/k{1}\"\n",
    "            exp_path = root_path_format.format(variable_name, k)\n",
    "            viterbi_accuracies = list()\n",
    "            plt_range = list()\n",
    "            for pkl in load_pkl_paths_from_folder(exp_path, recursive=True):\n",
    "                x, y, y_viterbi_decoded = load(pkl)\n",
    "                acc = accuracy(y, y_viterbi_decoded, viterbi=True)\n",
    "                viterbi_accuracies.append(acc)\n",
    "                plt_range.append(get_param_from_filename(pkl, variable_name))\n",
    "            \n",
    "            sorted_indicies = np.argsort(plt_range)\n",
    "            plt_range = np.array(plt_range)\n",
    "            viterbi_accuracies = np.array(viterbi_accuracies)\n",
    "            \n",
    "            plt.plot(plt_range[sorted_indicies], \n",
    "                     viterbi_accuracies[sorted_indicies], \n",
    "                     c[c_i],\n",
    "                     label=\"viterbi k={0}\".format(k))\n",
    "            c_i+=1\n",
    "            \n",
    "        \n",
    "    plt.xlabel(xlabel)\n",
    "    plt.ylabel(ylabel)\n",
    "    plt.legend()"
   ]
  },
  {
   "cell_type": "markdown",
   "metadata": {},
   "source": [
    "### Accuracy of viterbi decoding over different variables"
   ]
  },
  {
   "cell_type": "code",
   "execution_count": 862,
   "metadata": {
    "collapsed": true
   },
   "outputs": [],
   "source": [
    "def graph_viterbi_accuracy(dir_path, variable_name, xlabel=None, c=\"go\"):\n",
    "    if variable_name not in [\"k\", \"p\", \"e\", \"l\", \"r\"]:\n",
    "        raise ValueError(\"unrecognized variable: {0}\".format(variable_name))\n",
    "    accuracies = list()\n",
    "    plt_range = list()\n",
    "    for pkl in load_pkl_paths_from_folder(dir_path, recursive=True):\n",
    "        x, y, y_viterbi_decoded = load(pkl)\n",
    "        acc = accuracy(y, y_viterbi_decoded, viterbi=True)\n",
    "        accuracies.append(acc)\n",
    "        plt_range.append(get_param_from_filename(pkl, variable_name))\n",
    "        \n",
    "    \n",
    "    sorted_indices = np.argsort(accuracies)\n",
    "    \n",
    "    accuracies = np.array(accuracies)[sorted_indices]\n",
    "    plt_range = np.array(plt_range)[sorted_indices]\n",
    "    \n",
    "    plt.title(\"Accuracy of viterbi decoding over vs. message length {0}\".format(variable_name.upper()))\n",
    "    if xlabel is None: xlabel = variable_name\n",
    "    plt.xlabel(xlabel)\n",
    "    plt.ylabel(\"viterbi decoding accuracy\")\n",
    "    plt.plot(plt_range, accuracies, c)\n",
    "    return accuracies, plt_range"
   ]
  },
  {
   "cell_type": "code",
   "execution_count": 850,
   "metadata": {},
   "outputs": [
    {
     "data": {
      "image/png": "[encoded data removed]",
      "text/plain": [
       "<matplotlib.figure.Figure at 0x25b2e9470>"
      ]
     },
     "metadata": {},
     "output_type": "display_data"
    }
   ],
   "source": [
    "plt.figure(figsize=(20,12))\n",
    "subplt_n = 221\n",
    "root_path_format = \"../data/dataset_03/exp_{0}\"\n",
    "\n",
    "for variable_name, xlabel in [(\"k\", \"message length (k-bit)\"),\n",
    "                              (\"p\", \"probability of Bernoulli distribution\"), \n",
    "                              (\"e\", \"corruption probability e\"), \n",
    "                              (\"l\", \"constraint length l\")]:\n",
    "    plt.subplot(subplt_n)\n",
    "    subplt_n += 1\n",
    "    exp_path = root_path_format.format(variable_name)\n",
    "    graph_viterbi_accuracy(exp_path, variable_name, xlabel=xlabel)"
   ]
  },
  {
   "cell_type": "markdown",
   "metadata": {
    "collapsed": true
   },
   "source": [
    "### Controlled experiments"
   ]
  },
  {
   "cell_type": "code",
   "execution_count": 628,
   "metadata": {
    "collapsed": true
   },
   "outputs": [],
   "source": [
    "# all_data = dict()\n",
    "# for n in load_pkl_paths_from_folder(\"../data/dataset_03\", True):\n",
    "#     exp = n.split('/')[3]\n",
    "#     tp = tuple([get_param_from_filename(n, y) for y in [\"k\",\"p\",\"e\",\"l\"]])\n",
    "#     if exp not in all_data:\n",
    "#         all_data[exp] = dict()\n",
    "#     all_data[exp][tp] = load_pkl(n)\n",
    "# with open(\"../data/dataset_03_all_datasets_n{0}.pkl\".format(2000), 'wb') as output:\n",
    "#     pickle.dump(all_data, output)"
   ]
  },
  {
   "cell_type": "code",
   "execution_count": null,
   "metadata": {
    "collapsed": true
   },
   "outputs": [],
   "source": [
    "all_exp_data = load_pkl(\"../data/dataset_03_all_datasets_n2000.pkl\")"
   ]
  },
  {
   "cell_type": "code",
   "execution_count": null,
   "metadata": {
    "collapsed": true
   },
   "outputs": [],
   "source": [
    "all_exp_data.keys()"
   ]
  },
  {
   "cell_type": "code",
   "execution_count": null,
   "metadata": {
    "collapsed": true
   },
   "outputs": [],
   "source": [
    "fnn_param = {\n",
    "    \"batch_size\": 32,\n",
    "    \"epoch\": 30,\n",
    "    \"verbose\": 0,\n",
    "    \"validation_ratio\": 0.2,\n",
    "    \"activation\": \"relu\",\n",
    "    \"l2_strength\": 0.001,\n",
    "    \"learing_rate\": 0.01,\n",
    "    \"optimizer\": \"adam\",\n",
    "    \"metrics\": [\"accuracy\"],\n",
    "    \"loss_fn\": \"binary_crossentropy\"\n",
    "}\n",
    "fnn_architecture = [32,100]"
   ]
  },
  {
   "cell_type": "code",
   "execution_count": null,
   "metadata": {
    "collapsed": true
   },
   "outputs": [],
   "source": [
    "variable_desc"
   ]
  },
  {
   "cell_type": "code",
   "execution_count": null,
   "metadata": {
    "collapsed": true
   },
   "outputs": [],
   "source": [
    "title_str = \"FNN-{0} Average Accuracy (N={1}) vs. {2}\"\n",
    "fnn_str = str(fnn_architecture)\n",
    "average_N = 5"
   ]
  },
  {
   "cell_type": "code",
   "execution_count": null,
   "metadata": {
    "collapsed": true
   },
   "outputs": [],
   "source": [
    "all_experiment_results = dict()\n",
    "\n",
    "for var in \"elp\":\n",
    "    var_res = conduct_experiment(experiment_type=var, \n",
    "                                 verbose=True,\n",
    "                                 data_source=all_exp_data, \n",
    "                                 architecture=fnn_architecture, \n",
    "                                 param=fnn_param, \n",
    "                                 average_N=average_N)\n",
    "    all_experiment_results[var] = var_res"
   ]
  },
  {
   "cell_type": "code",
   "execution_count": 796,
   "metadata": {},
   "outputs": [
    {
     "data": {
      "text/plain": [
       "{}"
      ]
     },
     "execution_count": 796,
     "metadata": {},
     "output_type": "execute_result"
    }
   ],
   "source": [
    "all_experiment_results"
   ]
  },
  {
   "cell_type": "code",
   "execution_count": 867,
   "metadata": {},
   "outputs": [
    {
     "data": {
      "image/png": "[encoded data removed]",
      "text/plain": [
       "<matplotlib.figure.Figure at 0x2664a6128>"
      ]
     },
     "metadata": {},
     "output_type": "display_data"
    },
    {
     "data": {
      "image/png": "[encoded data removed]",
      "text/plain": [
       "<matplotlib.figure.Figure at 0x268eff630>"
      ]
     },
     "metadata": {},
     "output_type": "display_data"
    },
    {
     "data": {
      "image/png": "[encoded data removed]",
      "text/plain": [
       "<matplotlib.figure.Figure at 0x269028048>"
      ]
     },
     "metadata": {},
     "output_type": "display_data"
    },
    {
     "data": {
      "image/png": "[encoded data removed]",
      "text/plain": [
       "<matplotlib.figure.Figure at 0x26b86c710>"
      ]
     },
     "metadata": {},
     "output_type": "display_data"
    }
   ],
   "source": [
    "for var in \"elpk\":\n",
    "    graph_experiment_accuracy(all_experiment_results[var],\n",
    "                              isK=var==\"k\",\n",
    "                              variable_name=var,\n",
    "                              title=title_str.format(fnn_str, average_N, variable_desc[var]),\n",
    "                              xlabel=variable_desc[var],\n",
    "                              ylabel=\"Average Accuracy\")"
   ]
  },
  {
   "cell_type": "code",
   "execution_count": 868,
   "metadata": {},
   "outputs": [
    {
     "name": "stdout",
     "output_type": "stream",
     "text": [
      "Performing experiments over k = 20.0\n",
      "... variable = 3.0\n",
      "... finished with avg_acc of 0.6049\n",
      "... variable = 4.0\n",
      "... finished with avg_acc of 0.9493\n",
      "... variable = 5.0\n",
      "... finished with avg_acc of 0.5971\n",
      "... variable = 6.0\n",
      "... finished with avg_acc of 0.5968\n",
      "... variable = 7.0\n",
      "... finished with avg_acc of 0.6304\n",
      "Performing experiments over k = 100.0\n",
      "... variable = 3.0\n",
      "... finished with avg_acc of 0.4993\n",
      "... variable = 4.0\n",
      "... finished with avg_acc of 0.5690\n",
      "... variable = 5.0\n",
      "... finished with avg_acc of 0.5010\n",
      "... variable = 6.0\n",
      "... finished with avg_acc of 0.4965\n",
      "... variable = 7.0\n",
      "... finished with avg_acc of 0.4984\n"
     ]
    },
    {
     "ename": "ValueError",
     "evalue": "all the input array dimensions except for the concatenation axis must match exactly",
     "output_type": "error",
     "traceback": [
      "\u001b[0;31m---------------------------------------------------------------------------\u001b[0m",
      "\u001b[0;31mValueError\u001b[0m                                Traceback (most recent call last)",
      "\u001b[0;32m<ipython-input-868-36d5bfa4cf14>\u001b[0m in \u001b[0;36m<module>\u001b[0;34m()\u001b[0m\n\u001b[1;32m      7\u001b[0m                                  average_N=average_N)\n\u001b[1;32m      8\u001b[0m x, y = build_experiment_data(\"l\", None, all_exp_data, \n\u001b[0;32m----> 9\u001b[0;31m                              combine_all=False, verbose=False)\n\u001b[0m\u001b[1;32m     10\u001b[0m \u001b[0mprint\u001b[0m\u001b[0;34m(\u001b[0m\u001b[0;34m\"re-running l = 4 experiment...\"\u001b[0m\u001b[0;34m)\u001b[0m\u001b[0;34m\u001b[0m\u001b[0m\n\u001b[1;32m     11\u001b[0m \u001b[0ml_acc\u001b[0m \u001b[0;34m=\u001b[0m \u001b[0;34m[\u001b[0m\u001b[0;34m]\u001b[0m\u001b[0;34m\u001b[0m\u001b[0m\n",
      "\u001b[0;32m<ipython-input-806-fd15f7674fe6>\u001b[0m in \u001b[0;36mbuild_experiment_data\u001b[0;34m(experiment_type, k, data_source, combine_all, verbose)\u001b[0m\n\u001b[1;32m     20\u001b[0m         \u001b[0my\u001b[0m\u001b[0;34m[\u001b[0m\u001b[0mvar_value\u001b[0m\u001b[0;34m]\u001b[0m\u001b[0;34m.\u001b[0m\u001b[0mappend\u001b[0m\u001b[0;34m(\u001b[0m\u001b[0mv\u001b[0m\u001b[0;34m[\u001b[0m\u001b[0;34m\"message_seqs\"\u001b[0m\u001b[0;34m]\u001b[0m\u001b[0;34m)\u001b[0m\u001b[0;34m\u001b[0m\u001b[0m\n\u001b[1;32m     21\u001b[0m     \u001b[0;32mfor\u001b[0m \u001b[0mv\u001b[0m \u001b[0;32min\u001b[0m \u001b[0mx\u001b[0m\u001b[0;34m:\u001b[0m\u001b[0;34m\u001b[0m\u001b[0m\n\u001b[0;32m---> 22\u001b[0;31m         \u001b[0mx\u001b[0m\u001b[0;34m[\u001b[0m\u001b[0mv\u001b[0m\u001b[0;34m]\u001b[0m \u001b[0;34m=\u001b[0m \u001b[0mnp\u001b[0m\u001b[0;34m.\u001b[0m\u001b[0mvstack\u001b[0m\u001b[0;34m(\u001b[0m\u001b[0mx\u001b[0m\u001b[0;34m[\u001b[0m\u001b[0mv\u001b[0m\u001b[0;34m]\u001b[0m\u001b[0;34m)\u001b[0m\u001b[0;34m\u001b[0m\u001b[0m\n\u001b[0m\u001b[1;32m     23\u001b[0m         \u001b[0my\u001b[0m\u001b[0;34m[\u001b[0m\u001b[0mv\u001b[0m\u001b[0;34m]\u001b[0m \u001b[0;34m=\u001b[0m \u001b[0mnp\u001b[0m\u001b[0;34m.\u001b[0m\u001b[0mvstack\u001b[0m\u001b[0;34m(\u001b[0m\u001b[0my\u001b[0m\u001b[0;34m[\u001b[0m\u001b[0mv\u001b[0m\u001b[0;34m]\u001b[0m\u001b[0;34m)\u001b[0m\u001b[0;34m\u001b[0m\u001b[0m\n\u001b[1;32m     24\u001b[0m     \u001b[0;32mif\u001b[0m \u001b[0mverbose\u001b[0m\u001b[0;34m:\u001b[0m\u001b[0;34m\u001b[0m\u001b[0m\n",
      "\u001b[0;32m/Users/michael-tu/anaconda/lib/python3.6/site-packages/numpy/core/shape_base.py\u001b[0m in \u001b[0;36mvstack\u001b[0;34m(tup)\u001b[0m\n\u001b[1;32m    232\u001b[0m \u001b[0;34m\u001b[0m\u001b[0m\n\u001b[1;32m    233\u001b[0m     \"\"\"\n\u001b[0;32m--> 234\u001b[0;31m     \u001b[0;32mreturn\u001b[0m \u001b[0m_nx\u001b[0m\u001b[0;34m.\u001b[0m\u001b[0mconcatenate\u001b[0m\u001b[0;34m(\u001b[0m\u001b[0;34m[\u001b[0m\u001b[0matleast_2d\u001b[0m\u001b[0;34m(\u001b[0m\u001b[0m_m\u001b[0m\u001b[0;34m)\u001b[0m \u001b[0;32mfor\u001b[0m \u001b[0m_m\u001b[0m \u001b[0;32min\u001b[0m \u001b[0mtup\u001b[0m\u001b[0;34m]\u001b[0m\u001b[0;34m,\u001b[0m \u001b[0;36m0\u001b[0m\u001b[0;34m)\u001b[0m\u001b[0;34m\u001b[0m\u001b[0m\n\u001b[0m\u001b[1;32m    235\u001b[0m \u001b[0;34m\u001b[0m\u001b[0m\n\u001b[1;32m    236\u001b[0m \u001b[0;32mdef\u001b[0m \u001b[0mhstack\u001b[0m\u001b[0;34m(\u001b[0m\u001b[0mtup\u001b[0m\u001b[0;34m)\u001b[0m\u001b[0;34m:\u001b[0m\u001b[0;34m\u001b[0m\u001b[0m\n",
      "\u001b[0;31mValueError\u001b[0m: all the input array dimensions except for the concatenation axis must match exactly"
     ]
    }
   ],
   "source": [
    "### Repeat l = 4 experiment with new data\n",
    "var_res = conduct_experiment(experiment_type=\"l\", \n",
    "                                 verbose=True,\n",
    "                                 data_source=all_exp_data, \n",
    "                                 architecture=fnn_architecture, \n",
    "                                 param=fnn_param, \n",
    "                                 average_N=average_N)\n",
    "x, y = build_experiment_data(\"l\", None, all_exp_data, \n",
    "                             combine_all=False, verbose=False)\n",
    "print(\"re-running l = 4 experiment...\")\n",
    "l_acc = []\n",
    "for i in range(5):\n",
    "    if verbose:\n",
    "        print(\"... ... run {0}/{1}\".format(i+1, average_N), end=\"\\r\")\n",
    "    X_train, X_test, y_train, y_test = train_test_split(\n",
    "        x[4], y[4])\n",
    "    y_train = one_hot_datasets(y_train)\n",
    "    model = build_fnn(input_shape=X_train.shape[1:], output_shape=y_train.shape[1:],\n",
    "          architecture=fnn_architecture, param=fnn_param)\n",
    "    model = train_fnn(model, X_train, y_train, param=fnn_param)\n",
    "    acc = model_accuracy(model, X_test, y_test, argmax=True)\n",
    "    l_acc.append(acc)\n",
    "l_acc_avg = np.mean(l_acc)\n",
    "print(\"l_acc:\",l_acc)"
   ]
  },
  {
   "cell_type": "code",
   "execution_count": null,
   "metadata": {
    "collapsed": true
   },
   "outputs": [],
   "source": []
  },
  {
   "cell_type": "code",
   "execution_count": null,
   "metadata": {
    "collapsed": true
   },
   "outputs": [],
   "source": []
  },
  {
   "cell_type": "code",
   "execution_count": 769,
   "metadata": {
    "collapsed": true
   },
   "outputs": [],
   "source": [
    "fnn_param = {\n",
    "    \"batch_size\": 64,\n",
    "    \"epoch\": 15,\n",
    "    \"verbose\": 0,\n",
    "    \"validation_ratio\": 0.2,\n",
    "    \"activation\": \"relu\",\n",
    "    \"l2_strength\": 0.001,\n",
    "    \"learing_rate\": 0.01,\n",
    "    \"optimizer\": \"adam\",\n",
    "    \"metrics\": [\"accuracy\"],\n",
    "    \"loss_fn\": \"binary_crossentropy\"\n",
    "}\n",
    "fnn_architecture = [32,100]\n",
    "average_N = 3"
   ]
  },
  {
   "cell_type": "code",
   "execution_count": 770,
   "metadata": {},
   "outputs": [
    {
     "name": "stdout",
     "output_type": "stream",
     "text": [
      "Performing experiments for exp_k ...\n",
      "... variable = 1.0\n",
      "... ... finished with avg_acc of 1.0000\n",
      "... variable = 2.0\n",
      "... ... finished with avg_acc of 0.9962\n",
      "... variable = 3.0\n",
      "... ... finished with avg_acc of 0.9917\n",
      "... variable = 4.0\n",
      "... ... finished with avg_acc of 0.9875\n",
      "... variable = 5.0\n",
      "... ... finished with avg_acc of 0.9802\n",
      "... variable = 6.0\n",
      "... ... finished with avg_acc of 0.9608\n",
      "... variable = 7.0\n",
      "... ... finished with avg_acc of 0.9563\n",
      "... variable = 8.0\n",
      "... ... finished with avg_acc of 0.9360\n",
      "... variable = 9.0\n",
      "... ... finished with avg_acc of 0.8694\n",
      "... variable = 10.0\n",
      "... ... finished with avg_acc of 0.8309\n",
      "... variable = 11.0\n",
      "... ... finished with avg_acc of 0.7688\n",
      "... variable = 12.0\n",
      "... ... finished with avg_acc of 0.7456\n",
      "... variable = 13.0\n",
      "... ... finished with avg_acc of 0.7160\n",
      "... variable = 14.0\n",
      "... ... finished with avg_acc of 0.7311\n",
      "... variable = 15.0\n",
      "... ... finished with avg_acc of 0.6836\n",
      "... variable = 16.0\n",
      "... ... finished with avg_acc of 0.6694\n",
      "... variable = 17.0\n",
      "... ... finished with avg_acc of 0.6350\n",
      "... variable = 18.0\n",
      "... ... finished with avg_acc of 0.6287\n",
      "... variable = 19.0\n",
      "... ... finished with avg_acc of 0.6056\n",
      "... variable = 20.0\n",
      "... ... finished with avg_acc of 0.6075\n",
      "... variable = 50.0\n",
      "... ... finished with avg_acc of 0.5117\n",
      "... variable = 100.0\n",
      "... ... finished with avg_acc of 0.5014\n",
      "... variable = 150.0\n",
      "... ... finished with avg_acc of 0.4977\n",
      "... variable = 200.0\n",
      "... ... finished with avg_acc of 0.5010\n"
     ]
    }
   ],
   "source": [
    "var_res = conduct_experiment(experiment_type=\"k\", \n",
    "                                 verbose=True,\n",
    "                                 data_source=all_exp_data, \n",
    "                                 architecture=fnn_architecture, \n",
    "                                 param=fnn_param, \n",
    "                                 average_N=average_N)\n",
    "all_experiment_results[\"k\"] = var_res"
   ]
  },
  {
   "cell_type": "code",
   "execution_count": 785,
   "metadata": {},
   "outputs": [
    {
     "name": "stderr",
     "output_type": "stream",
     "text": [
      "/Users/michael-tu/anaconda/lib/python3.6/site-packages/matplotlib/axes/_axes.py:545: UserWarning: No labelled objects found. Use label='...' kwarg on individual plots.\n",
      "  warnings.warn(\"No labelled objects found. \"\n"
     ]
    },
    {
     "data": {
      "image/png": "[encoded data removed]",
      "text/plain": [
       "<matplotlib.figure.Figure at 0x2559e5a58>"
      ]
     },
     "metadata": {},
     "output_type": "display_data"
    }
   ],
   "source": [
    "graph_experiment_accuracy(all_experiment_results[\"k\"],\n",
    "                          isK=True,\n",
    "                          title=title_str.format(fnn_str, average_N, \n",
    "                                                 variable_desc[\"k\"]),\n",
    "                          xlabel=variable_desc[\"k\"],\n",
    "                          ylabel=\"Average Accuracy\")"
   ]
  },
  {
   "cell_type": "code",
   "execution_count": null,
   "metadata": {
    "collapsed": true
   },
   "outputs": [],
   "source": [
    "# # save all models\n",
    "# for var in \"elp\":\n",
    "#     for k in all_experiment_results[var]:\n",
    "#         for v in all_experiment_results[var][k]:\n",
    "#             name = \"models/v3/exp_{0}/k{1}_{0}{2}_fnn_{3}.h5\".format(var,k,v,fnn_str)\n",
    "#             all_experiment_results[var][k][v][\"best_model\"].save(name)\n",
    "            \n",
    "# for v in all_experiment_results[\"k\"]:\n",
    "#     name = \"models/v3/exp_k/k{0}_fnn_{1}.h5\".format(v,fnn_str)\n",
    "#     all_experiment_results[\"k\"][v][\"best_model\"].save(name)"
   ]
  },
  {
   "cell_type": "code",
   "execution_count": null,
   "metadata": {
    "collapsed": true
   },
   "outputs": [],
   "source": []
  },
  {
   "cell_type": "code",
   "execution_count": 854,
   "metadata": {
    "collapsed": true
   },
   "outputs": [],
   "source": [
    "\n",
    "all_experiment_results = dict()\n",
    "\n",
    "\n",
    "all_experiment_results[\"e\"] = dict()\n",
    "all_experiment_results[\"e\"][10] = dict()\n",
    "all_experiment_results[\"e\"][100] = dict()\n",
    "\n",
    "e = [0.01, 0.05, 0.09, 0.15, 0.19]\n",
    "\n",
    "a = [0.9178000000000001,0.8632000000000002,0.8164,0.7447999999999999,0.6988]\n",
    "for i in range(len(a)):\n",
    "    all_experiment_results[\"e\"][10][e[i]] = dict(avg_acc=a[i])\n",
    "\n",
    "\n",
    "a = [0.50092,0.502205,0.49755000000000005,0.50057,0.5004050000000001]\n",
    "for i in range(len(a)):\n",
    "    all_experiment_results[\"e\"][100][e[i]] = dict(avg_acc=a[i])\n",
    "\n",
    "\n",
    "all_experiment_results[\"l\"] = dict()\n",
    "all_experiment_results[\"l\"][20] = dict()\n",
    "all_experiment_results[\"l\"][100] = dict()\n",
    "\n",
    "l = np.arange(3, 8)\n",
    "\n",
    "a = [0.644425,0.9460750000000001,0.61095,0.6332500000000001,0.653075]\n",
    "\n",
    "for i in range(len(a)):\n",
    "    all_experiment_results[\"l\"][20][l[i]] = dict(avg_acc=a[i])\n",
    "\n",
    "\n",
    "a = [0.5023949999999999,0.5012549999999999,0.4987450000000001,0.499235,0.49727999999999994]\n",
    "for i in range(len(a)):\n",
    "    all_experiment_results[\"l\"][100][l[i]] = dict(avg_acc=a[i])\n",
    "\n",
    "\n",
    "all_experiment_results[\"p\"] = dict()\n",
    "all_experiment_results[\"p\"][10] = dict()\n",
    "all_experiment_results[\"p\"][100] = dict()\n",
    "\n",
    "p = [0.1, 0.25, 0.5, 0.7, 0.81]\n",
    "\n",
    "a = [0.9801500000000001,0.9614999999999998,0.86675,0.9560500000000001,0.9662499999999999]\n",
    "for i in range(len(a)):\n",
    "    all_experiment_results[\"p\"][10][p[i]] = dict(avg_acc=a[i])\n",
    "\n",
    "\n",
    "a = [0.9007249999999999,0.7516550000000001,0.501065,0.707865,0.80785]\n",
    "for i in range(len(a)):\n",
    "    all_experiment_results[\"p\"][100][p[i]] = dict(avg_acc=a[i])\n",
    "\n",
    "all_experiment_results[\"k\"] = dict()\n",
    "\n",
    "ks = np.hstack([np.arange(1, 21, 1), np.arange(50, 201, 50)])\n",
    "\n",
    "a = [1.0000,0.9962,0.9917,0.9875,0.9802,0.9608,0.9563,0.9360,0.8694,0.8309,0.7688,0.7456,0.7160,0.7311,0.6836,0.6694,0.6350,0.6287,0.6056,0.6075,0.5117,0.5014,0.4977,0.5010]\n",
    "\n",
    "for i in range(len(a)):\n",
    "    all_experiment_results[\"k\"][ks[i]] = dict(avg_acc=a[i])"
   ]
  },
  {
   "cell_type": "code",
   "execution_count": 855,
   "metadata": {},
   "outputs": [
    {
     "data": {
      "text/plain": [
       "{'e': {10: {0.01: {'avg_acc': 0.9178000000000001},\n",
       "   0.05: {'avg_acc': 0.8632000000000002},\n",
       "   0.09: {'avg_acc': 0.8164},\n",
       "   0.15: {'avg_acc': 0.7447999999999999},\n",
       "   0.19: {'avg_acc': 0.6988}},\n",
       "  100: {0.01: {'avg_acc': 0.50092},\n",
       "   0.05: {'avg_acc': 0.502205},\n",
       "   0.09: {'avg_acc': 0.49755000000000005},\n",
       "   0.15: {'avg_acc': 0.50057},\n",
       "   0.19: {'avg_acc': 0.5004050000000001}}},\n",
       " 'k': {1: {'avg_acc': 1.0},\n",
       "  2: {'avg_acc': 0.9962},\n",
       "  3: {'avg_acc': 0.9917},\n",
       "  4: {'avg_acc': 0.9875},\n",
       "  5: {'avg_acc': 0.9802},\n",
       "  6: {'avg_acc': 0.9608},\n",
       "  7: {'avg_acc': 0.9563},\n",
       "  8: {'avg_acc': 0.936},\n",
       "  9: {'avg_acc': 0.8694},\n",
       "  10: {'avg_acc': 0.8309},\n",
       "  11: {'avg_acc': 0.7688},\n",
       "  12: {'avg_acc': 0.7456},\n",
       "  13: {'avg_acc': 0.716},\n",
       "  14: {'avg_acc': 0.7311},\n",
       "  15: {'avg_acc': 0.6836},\n",
       "  16: {'avg_acc': 0.6694},\n",
       "  17: {'avg_acc': 0.635},\n",
       "  18: {'avg_acc': 0.6287},\n",
       "  19: {'avg_acc': 0.6056},\n",
       "  20: {'avg_acc': 0.6075},\n",
       "  50: {'avg_acc': 0.5117},\n",
       "  100: {'avg_acc': 0.5014},\n",
       "  150: {'avg_acc': 0.4977},\n",
       "  200: {'avg_acc': 0.501}},\n",
       " 'l': {20: {3: {'avg_acc': 0.644425},\n",
       "   4: {'avg_acc': 0.9460750000000001},\n",
       "   5: {'avg_acc': 0.61095},\n",
       "   6: {'avg_acc': 0.6332500000000001},\n",
       "   7: {'avg_acc': 0.653075}},\n",
       "  100: {3: {'avg_acc': 0.5023949999999999},\n",
       "   4: {'avg_acc': 0.5012549999999999},\n",
       "   5: {'avg_acc': 0.4987450000000001},\n",
       "   6: {'avg_acc': 0.499235},\n",
       "   7: {'avg_acc': 0.49727999999999994}}},\n",
       " 'p': {10: {0.1: {'avg_acc': 0.9801500000000001},\n",
       "   0.25: {'avg_acc': 0.9614999999999998},\n",
       "   0.5: {'avg_acc': 0.86675},\n",
       "   0.7: {'avg_acc': 0.9560500000000001},\n",
       "   0.81: {'avg_acc': 0.9662499999999999}},\n",
       "  100: {0.1: {'avg_acc': 0.9007249999999999},\n",
       "   0.25: {'avg_acc': 0.7516550000000001},\n",
       "   0.5: {'avg_acc': 0.501065},\n",
       "   0.7: {'avg_acc': 0.707865},\n",
       "   0.81: {'avg_acc': 0.80785}}}}"
      ]
     },
     "execution_count": 855,
     "metadata": {},
     "output_type": "execute_result"
    }
   ],
   "source": [
    "all_experiment_results"
   ]
  },
  {
   "cell_type": "code",
   "execution_count": null,
   "metadata": {
    "collapsed": true
   },
   "outputs": [],
   "source": []
  }
 ],
 "metadata": {
  "kernelspec": {
   "display_name": "Python 3",
   "language": "python",
   "name": "python3"
  },
  "language_info": {
   "codemirror_mode": {
    "name": "ipython",
    "version": 3
   },
   "file_extension": ".py",
   "mimetype": "text/x-python",
   "name": "python",
   "nbconvert_exporter": "python",
   "pygments_lexer": "ipython3",
   "version": "3.6.4"
  }
 },
 "nbformat": 4,
 "nbformat_minor": 2
}
