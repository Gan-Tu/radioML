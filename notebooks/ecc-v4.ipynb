{
 "cells": [
  {
   "cell_type": "code",
   "execution_count": 1,
   "metadata": {},
   "outputs": [
    {
     "name": "stderr",
     "output_type": "stream",
     "text": [
      "/Users/michael-tu/anaconda/lib/python3.6/site-packages/h5py/__init__.py:34: FutureWarning: Conversion of the second argument of issubdtype from `float` to `np.floating` is deprecated. In future, it will be treated as `np.float64 == np.dtype(float).type`.\n",
      "  from ._conv import register_converters as _register_converters\n"
     ]
    }
   ],
   "source": [
    "import numpy as np\n",
    "import tensorflow as tf\n",
    "import os\n",
    "import matplotlib.pyplot as plt\n",
    "%matplotlib inline\n",
    "import pickle\n",
    "from functools import reduce"
   ]
  },
  {
   "cell_type": "code",
   "execution_count": 60,
   "metadata": {},
   "outputs": [],
   "source": [
    "import keras\n",
    "from keras import regularizers\n",
    "from keras import backend as K\n",
    "from keras.optimizers import Adam\n",
    "from keras.models import Model, Sequential\n",
    "from keras.layers import Dense, Input, Activation, Dropout, BatchNormalization, Flatten, Reshape\n",
    "from keras.layers import Conv2D, MaxPooling2D, AveragePooling2D, UpSampling2D\n",
    "from keras.layers import Conv1D, MaxPooling1D, AveragePooling1D, UpSampling1D\n",
    "from keras.layers import SimpleRNN, RNN, LSTM, Embedding\n",
    "from keras.optimizers import Adam, SGD"
   ]
  },
  {
   "cell_type": "markdown",
   "metadata": {},
   "source": [
    "# Utility Functions"
   ]
  },
  {
   "cell_type": "code",
   "execution_count": 3,
   "metadata": {
    "collapsed": true
   },
   "outputs": [],
   "source": [
    "def load_pkl(path):\n",
    "    return pickle.load(open(path, \"rb\"))"
   ]
  },
  {
   "cell_type": "code",
   "execution_count": 4,
   "metadata": {
    "collapsed": true
   },
   "outputs": [],
   "source": [
    "def load_data(data):\n",
    "    keys = ['message_seqs', 'encoded_seqs', 'noisy_seqs', 'viterbi_decoded_seqs']\n",
    "    x = data[keys[2]] # noisy sequences will be our input to our models\n",
    "    y = data[keys[0]]\n",
    "    y_viterbi_decoded = data[keys[3]]\n",
    "    \n",
    "    x = np.array(x)\n",
    "    y = np.array(y)\n",
    "    y_viterbi_decoded = np.array(y_viterbi_decoded)\n",
    "    \n",
    "    return x, y, y_viterbi_decoded"
   ]
  },
  {
   "cell_type": "code",
   "execution_count": 5,
   "metadata": {
    "collapsed": true
   },
   "outputs": [],
   "source": [
    "def load(path):\n",
    "    return load_data(load_pkl(path))"
   ]
  },
  {
   "cell_type": "code",
   "execution_count": 6,
   "metadata": {
    "collapsed": true
   },
   "outputs": [],
   "source": [
    "def load_pkl_paths_from_folder(dir_path, recursive=False):\n",
    "    if recursive:\n",
    "        return np.sort(list(filter(lambda x: \".pkl\" in x,\n",
    "                            [os.path.join(dp, f) for dp, dn, fn in os.walk(os.path.expanduser(dir_path)) \n",
    "                                                 for f in fn])))\n",
    "    else:\n",
    "        return np.sort([dir_path + \"/\" + x for x in os.listdir(dir_path) if \".pkl\" in x ])"
   ]
  },
  {
   "cell_type": "code",
   "execution_count": 7,
   "metadata": {
    "collapsed": true
   },
   "outputs": [],
   "source": [
    "def get_param_from_filename(filename, param):\n",
    "    split_token = \"_\"\n",
    "    if param == \"k\":\n",
    "        split_token = \"_k\"\n",
    "    elif param == \"p\":\n",
    "        split_token = \"_p\"\n",
    "    elif param == \"r\":\n",
    "        split_token = \"_r\"\n",
    "    elif param == \"l\":\n",
    "        split_token = \"_l\"\n",
    "    elif param == \"e\":\n",
    "        split_token = \"_e\"\n",
    "    elif param == \"n\":\n",
    "        split_token = \"_n\"\n",
    "    else:\n",
    "        raise ValueError(\"unrecognized parameter\", param)\n",
    "        \n",
    "    res = filename.split(\"/\")[-1].split(split_token)[1].split(\"_\")[0]\n",
    "    if \".pkl\" in res:\n",
    "        res = res.split(\".pkl\")[0]\n",
    "    \n",
    "    return float(res)"
   ]
  },
  {
   "cell_type": "markdown",
   "metadata": {},
   "source": [
    "# Data Processing"
   ]
  },
  {
   "cell_type": "code",
   "execution_count": 8,
   "metadata": {
    "collapsed": true
   },
   "outputs": [],
   "source": [
    "def train_test_split(x, y, test_ratio=0.2):\n",
    "    indicies = np.arange(len(x))\n",
    "    np.random.shuffle(indicies)\n",
    "    \n",
    "    split_inx = int(len(x) * (1-test_ratio))\n",
    "    X_train, X_test = x[indicies[:split_inx]], x[indicies[split_inx:]]\n",
    "    y_train, y_test = y[indicies[:split_inx]], y[indicies[split_inx:]]\n",
    "    \n",
    "    return X_train, X_test, y_train, y_test"
   ]
  },
  {
   "cell_type": "code",
   "execution_count": 9,
   "metadata": {
    "collapsed": true
   },
   "outputs": [],
   "source": [
    "def group_sort(benchmark, *args):\n",
    "    sorted_indicies = np.argsort(benchmark) \n",
    "    \n",
    "    benchmark = np.array(benchmark)\n",
    "    args = list(map(lambda x: np.array(x), args))\n",
    "    \n",
    "    benchmark_sorted = benchmark[sorted_indicies]\n",
    "    args_sorted = list(map(lambda x: x[sorted_indicies], args))\n",
    "    \n",
    "    return benchmark_sorted, args_sorted"
   ]
  },
  {
   "cell_type": "code",
   "execution_count": 10,
   "metadata": {
    "collapsed": true
   },
   "outputs": [],
   "source": [
    "def one_hot(data):\n",
    "    res = []\n",
    "    for d in data:\n",
    "        res.append([0,0])\n",
    "        res[-1][int(d)] = 1\n",
    "    return np.array(res)\n",
    "\n",
    "def one_hot_datasets(y):\n",
    "    return np.array(list(map(lambda x: one_hot(x), y)))\n",
    "\n",
    "def onehot_to_normal(dataset):\n",
    "    return np.argmax(dataset, axis=2)"
   ]
  },
  {
   "cell_type": "markdown",
   "metadata": {},
   "source": [
    "data_sources = ['message_seqs', 'encoded_seqs', 'noisy_seqs', 'viterbi_decoded_seqs']"
   ]
  },
  {
   "cell_type": "code",
   "execution_count": 11,
   "metadata": {
    "collapsed": true
   },
   "outputs": [],
   "source": [
    "variable_desc = {\n",
    "    \"k\": \"message length (K-bit)\",\n",
    "    \"p\": \"prob P of Bernoulli distribution\",\n",
    "    \"e\": \"corruption probability E\",\n",
    "    \"l\": \"constraint length L\"\n",
    "}"
   ]
  },
  {
   "cell_type": "code",
   "execution_count": 33,
   "metadata": {
    "collapsed": true
   },
   "outputs": [],
   "source": [
    "def build_data_from_path(path, test_ratio=0.2, X_reshape=None):\n",
    "    X, y, y_viterbi_decoded = load(path)\n",
    "    y_oh = one_hot_datasets(y)\n",
    "    \n",
    "    if X_reshape:\n",
    "        total_shape = np.product(X_reshape[1:])\n",
    "        if total_shape != X.shape[1]:\n",
    "            X = X[:,:total_shape]\n",
    "        X = X.reshape(X_reshape)\n",
    "    \n",
    "    X_train, X_test, y_train, y_test = train_test_split(X, y_oh, test_ratio=test_ratio)\n",
    "    \n",
    "    return (X_train, y_train), (X_test, y_test), (X, y, y_oh, y_viterbi_decoded)"
   ]
  },
  {
   "cell_type": "markdown",
   "metadata": {},
   "source": [
    "# Model Definitions"
   ]
  },
  {
   "cell_type": "markdown",
   "metadata": {},
   "source": [
    "Optimizers"
   ]
  },
  {
   "cell_type": "code",
   "execution_count": 13,
   "metadata": {
    "collapsed": true
   },
   "outputs": [],
   "source": [
    "optimizers = {\n",
    "    \"adam\": Adam, \n",
    "    \"sgd\":  SGD\n",
    "}"
   ]
  },
  {
   "cell_type": "markdown",
   "metadata": {},
   "source": [
    "Fully Connected Neural Net"
   ]
  },
  {
   "cell_type": "code",
   "execution_count": 14,
   "metadata": {
    "collapsed": true
   },
   "outputs": [],
   "source": [
    "default_fnn_param = {\n",
    "    \"batch_size\": 64,\n",
    "    \"epoch\": 25,\n",
    "    \"verbose\": 2,\n",
    "    \"validation_ratio\": 0.2,\n",
    "    \"activation\": \"relu\",\n",
    "    \"l2_strength\": 0.01,\n",
    "    \"learing_rate\": 0.015,\n",
    "    \"optimizer\": \"adam\",\n",
    "    \"metrics\": [\"accuracy\"],\n",
    "    \"loss_fn\": \"binary_crossentropy\"\n",
    "}"
   ]
  },
  {
   "cell_type": "code",
   "execution_count": 15,
   "metadata": {
    "collapsed": true
   },
   "outputs": [],
   "source": [
    "default_fnn_architecture = [32,64,100]"
   ]
  },
  {
   "cell_type": "markdown",
   "metadata": {},
   "source": [
    "Convolution 1D Nerual Net"
   ]
  },
  {
   "cell_type": "code",
   "execution_count": 16,
   "metadata": {
    "collapsed": true
   },
   "outputs": [],
   "source": [
    "default_cnn_param = {\n",
    "    \"batch_size\": 64,\n",
    "    \"epoch\": 25,\n",
    "    \"verbose\": 2,\n",
    "    \"validation_ratio\": 0.2,\n",
    "    \"activation\": \"relu\",\n",
    "    \"dropout_keep_prob\": 0.5,\n",
    "    \"learing_rate\": 0.01,\n",
    "    \"optimizer\": \"adam\",\n",
    "    \"conv_padding\": \"same\",\n",
    "    \"metrics\": [\"accuracy\"],\n",
    "    \"loss_fn\": \"binary_crossentropy\"\n",
    "}"
   ]
  },
  {
   "cell_type": "markdown",
   "metadata": {},
   "source": [
    "Avaliable Layers:\n",
    "\n",
    "Dense, Input, Activation, Dropout, BatchNormalization, Flatten, Reshape\n",
    "Conv2D, MaxPooling2D, AveragePooling2D, UpSampling2D\n",
    "Conv1D, MaxPooling1D, AveragePooling1D, UpSampling1D"
   ]
  },
  {
   "cell_type": "code",
   "execution_count": 17,
   "metadata": {
    "collapsed": true
   },
   "outputs": [],
   "source": [
    "default_cnn_architecture = [\n",
    "    (\"conv1d\", dict(f=16,k=3,s=1)),\n",
    "    (\"conv1d\", dict(f=16,k=3,s=1)),\n",
    "    (\"conv1d\", dict(f=16,k=3,s=1)),\n",
    "    (\"conv1d\", dict(f=16,k=3,s=1)),\n",
    "    (\"flatten\", None),\n",
    "    (\"dense\", 200),\n",
    "    (\"dropout\", None)\n",
    "]"
   ]
  },
  {
   "cell_type": "markdown",
   "metadata": {},
   "source": [
    "# Model Construction"
   ]
  },
  {
   "cell_type": "code",
   "execution_count": 18,
   "metadata": {
    "collapsed": true
   },
   "outputs": [],
   "source": [
    "def build_fnn(input_shape, \n",
    "              output_shape, \n",
    "              architecture=default_fnn_architecture, \n",
    "              param=default_fnn_param):\n",
    "    \"\"\"\n",
    "    Train a FNN model with INPUT_SHAPE and OUTPUT_SHAPE using ARCHITECTURE and PARAM.\n",
    "    \"\"\"\n",
    "\n",
    "    model = Sequential()\n",
    "    \n",
    "    for i, output_units in enumerate(architecture):\n",
    "        if i == 0:\n",
    "            model.add(Dense(output_units, activation=param[\"activation\"],\n",
    "                        input_shape=input_shape,\n",
    "                        kernel_regularizer=regularizers.l2(param[\"l2_strength\"])))\n",
    "        else:\n",
    "            model.add(Dense(output_units, activation=param[\"activation\"],\n",
    "                        kernel_regularizer=regularizers.l2(param[\"l2_strength\"])))\n",
    "    \n",
    "    model.add(Dense(np.product(output_shape), activation=\"sigmoid\"))\n",
    "    model.add(Reshape(output_shape))\n",
    "    \n",
    "    opt = optimizers[param[\"optimizer\"]](lr=param[\"learing_rate\"])\n",
    "    model.compile(optimizer=opt, loss=param[\"loss_fn\"], metrics=param[\"metrics\"])\n",
    "    \"\"\n",
    "    return model"
   ]
  },
  {
   "cell_type": "code",
   "execution_count": 19,
   "metadata": {
    "collapsed": true
   },
   "outputs": [],
   "source": [
    "def train_fnn(model, x, y, param=default_fnn_param, shuffle=True):\n",
    "    model.fit(x, y, batch_size=param[\"batch_size\"], epochs=param[\"epoch\"], shuffle=shuffle,\n",
    "              verbose=param[\"verbose\"], validation_split=param[\"validation_ratio\"])\n",
    "    return model"
   ]
  },
  {
   "cell_type": "code",
   "execution_count": 20,
   "metadata": {
    "collapsed": true
   },
   "outputs": [],
   "source": [
    "def build_cnn(input_shape, \n",
    "              output_shape, \n",
    "              architecture=default_cnn_architecture, \n",
    "              param=default_cnn_param):\n",
    "    \"\"\"\n",
    "    Train a CNN model with INPUT_SHAPE and OUTPUT_SHAPE using ARCHITECTURE and PARAM.\n",
    "    \"\"\"\n",
    "\n",
    "    model = Sequential()\n",
    "    \n",
    "    for i, layer in enumerate(architecture):\n",
    "        layer_type, layer_param = layer\n",
    "        if i == 0:\n",
    "            if layer_type == \"conv1d\":\n",
    "                model.add(Conv1D(filters=layer_param[\"f\"], \n",
    "                                 kernel_size=layer_param[\"k\"], \n",
    "                                 strides=layer_param[\"s\"],\n",
    "                                 padding=param[\"conv_padding\"], \n",
    "                                 activation=param[\"activation\"],\n",
    "                                 input_shape=input_shape))\n",
    "            elif layer_type == \"flatten\":\n",
    "                raise ValueError(\"First layer cannot be Dropout\")\n",
    "            elif layer_type == \"dense\":\n",
    "                model.add(Dense(layer[1], activation=param[\"activation\"],\n",
    "                                input_shape=input_shape))\n",
    "            elif layer_type == \"dropout\":\n",
    "                raise ValueError(\"First layer cannot be flatten\")\n",
    "            else:\n",
    "                raise ValueError(\"Do not recognize layer\", layer_type)\n",
    "        else:\n",
    "            if layer_type == \"conv1d\":\n",
    "                model.add(Conv1D(filters=layer_param[\"f\"], \n",
    "                                 kernel_size=layer_param[\"k\"], \n",
    "                                 strides=layer_param[\"s\"],\n",
    "                                 padding=param[\"conv_padding\"], \n",
    "                                 activation=param[\"activation\"]))\n",
    "            elif layer_type == \"flatten\":\n",
    "                model.add(Flatten())\n",
    "            elif layer_type == \"dense\":\n",
    "                layer_param = layer[1]\n",
    "                model.add(Dense(layer[1], activation=param[\"activation\"]))\n",
    "            elif layer_type == \"dropout\":\n",
    "                model.add(Dropout(param[\"dropout_keep_prob\"]))\n",
    "            else:\n",
    "                raise ValueError(\"Do not recognize layer\", layer_type)\n",
    "    \n",
    "    model.add(Dense(np.product(output_shape), activation=\"sigmoid\"))\n",
    "    model.add(Reshape(output_shape))\n",
    "    \n",
    "    opt = optimizers[param[\"optimizer\"]](lr=param[\"learing_rate\"])\n",
    "    model.compile(optimizer=opt, loss=param[\"loss_fn\"], metrics=param[\"metrics\"])\n",
    "    \"\"\n",
    "    return model"
   ]
  },
  {
   "cell_type": "code",
   "execution_count": 21,
   "metadata": {
    "collapsed": true
   },
   "outputs": [],
   "source": [
    "def train_cnn(model, x, y, param=default_fnn_param, shuffle=True):\n",
    "    model.fit(x, y, batch_size=param[\"batch_size\"], epochs=param[\"epoch\"], shuffle=shuffle,\n",
    "              verbose=param[\"verbose\"], validation_split=param[\"validation_ratio\"])\n",
    "    return model"
   ]
  },
  {
   "cell_type": "markdown",
   "metadata": {},
   "source": [
    "# Evaluation Metrics"
   ]
  },
  {
   "cell_type": "code",
   "execution_count": 22,
   "metadata": {
    "collapsed": true
   },
   "outputs": [],
   "source": [
    "def accuracy(y, y_pred, argmax=False, viterbi=False):\n",
    "    y_pred_binary = y_pred\n",
    "    \n",
    "    if viterbi:\n",
    "        y_pred_binary = [p[:y.shape[1]] for p in y_pred]\n",
    "    elif argmax:\n",
    "        y_pred_binary = np.vstack([np.argmax(p, axis=1) for p in y_pred])\n",
    "        assert y.shape == y_pred_binary.shape, \"prediction and ground truth must \\\n",
    "        have same shape\\nExpected:{0} Actual:{1}\".format(y.shape, y_pred_binary.shape)\n",
    "    \n",
    "    return np.sum(y == y_pred_binary) / np.product(y.shape)"
   ]
  },
  {
   "cell_type": "code",
   "execution_count": 23,
   "metadata": {
    "collapsed": true
   },
   "outputs": [],
   "source": [
    "def model_accuracy(model, x, y, argmax=False):\n",
    "    if argmax:\n",
    "        y_pred = model.predict(x)\n",
    "        return accuracy(y, y_pred, argmax)\n",
    "    else:\n",
    "        return model.evaluate(x, y, verbose=0)[1]"
   ]
  },
  {
   "cell_type": "code",
   "execution_count": 24,
   "metadata": {
    "collapsed": true
   },
   "outputs": [],
   "source": [
    "def pred_vs_truth(model, x, y, n_show=2, y_truth_is_onehot=False):\n",
    "    indicies = np.random.randint(low=0, high=x.shape[0], size=n_show)\n",
    "    y_pred = model.predict(x[indicies])\n",
    "    y_pred_binary = np.vstack([np.argmax(p, axis=1) for p in y_pred])\n",
    "    \n",
    "    truth = y[indicies].astype(y_pred_binary.dtype)\n",
    "    \n",
    "    if y_truth_is_onehot:\n",
    "        truth = onehot_to_normal(truth)\n",
    "    \n",
    "    for i in range(len(truth)):\n",
    "        print(\"\\n############## Example {0} ##############\".format(i))\n",
    "        print(\"Expected:\\n\", truth[i])\n",
    "        print(\"Actual:\\n\", y_pred_binary[i])"
   ]
  },
  {
   "cell_type": "markdown",
   "metadata": {},
   "source": [
    "# Graph"
   ]
  },
  {
   "cell_type": "code",
   "execution_count": 25,
   "metadata": {
    "collapsed": true
   },
   "outputs": [],
   "source": [
    "def plot_acc(title, acc):\n",
    "    epoch = np.arange(1,len(acc)+1,1)\n",
    "    \n",
    "    plt.figure(figsize=(20,6))\n",
    "\n",
    "    plt.subplot(121)\n",
    "    plt.title(title)\n",
    "    plt.xlabel('epoch')\n",
    "    plt.ylabel(\"accuracy\")\n",
    "    plt.plot(epoch, acc, \"green\")\n",
    "\n",
    "    plt.subplot(122)\n",
    "    plt.title(\"Log Log {0}\".format(title))\n",
    "    plt.xlabel('epoch')\n",
    "    plt.ylabel(\"accuracy\")\n",
    "    plt.plot(epoch, np.log(-np.log(acc)), \"red\")"
   ]
  },
  {
   "cell_type": "markdown",
   "metadata": {},
   "source": [
    "# Experiments"
   ]
  },
  {
   "cell_type": "markdown",
   "metadata": {
    "collapsed": true
   },
   "source": [
    "## Run 1"
   ]
  },
  {
   "cell_type": "code",
   "execution_count": 26,
   "metadata": {
    "collapsed": true
   },
   "outputs": [],
   "source": [
    "data_dir = \"../data/dataset_04/data\""
   ]
  },
  {
   "cell_type": "code",
   "execution_count": 27,
   "metadata": {
    "collapsed": true
   },
   "outputs": [],
   "source": [
    "data_paths = np.sort(load_pkl_paths_from_folder(data_dir))"
   ]
  },
  {
   "cell_type": "code",
   "execution_count": 28,
   "metadata": {
    "collapsed": true
   },
   "outputs": [],
   "source": [
    "exp_data_path = \"../data/dataset_04/data/dataset_n25000_k10_e0.05.pkl\""
   ]
  },
  {
   "cell_type": "code",
   "execution_count": 29,
   "metadata": {
    "collapsed": true
   },
   "outputs": [],
   "source": [
    "exp_data = load(exp_data_path)"
   ]
  },
  {
   "cell_type": "code",
   "execution_count": 30,
   "metadata": {},
   "outputs": [
    {
     "data": {
      "text/plain": [
       "0.994064"
      ]
     },
     "execution_count": 30,
     "metadata": {},
     "output_type": "execute_result"
    }
   ],
   "source": [
    "accuracy(exp_data[1], exp_data[2], viterbi=True)"
   ]
  },
  {
   "cell_type": "code",
   "execution_count": 119,
   "metadata": {
    "collapsed": true
   },
   "outputs": [],
   "source": [
    "viterbi_acc_e = dict()\n",
    "viterbi_acc_e[0.05] = dict(k=list(), accuracy=list())\n",
    "viterbi_acc_e[0.15] = dict(k=list(), accuracy=list())"
   ]
  },
  {
   "cell_type": "code",
   "execution_count": 120,
   "metadata": {},
   "outputs": [
    {
     "data": {
      "text/plain": [
       "{0.05: {'accuracy': [], 'k': []}, 0.15: {'accuracy': [], 'k': []}}"
      ]
     },
     "execution_count": 120,
     "metadata": {},
     "output_type": "execute_result"
    }
   ],
   "source": [
    "viterbi_acc_e"
   ]
  },
  {
   "cell_type": "code",
   "execution_count": 122,
   "metadata": {
    "collapsed": true
   },
   "outputs": [],
   "source": [
    "for path in data_paths:\n",
    "    k = get_param_from_filename(path, \"k\")\n",
    "    e = get_param_from_filename(path, \"e\")\n",
    "    \n",
    "    train, test, original = build_data_from_path(path)\n",
    "    \n",
    "    y, y_viterbi_decoded = original[1], original[-1]\n",
    "    \n",
    "    viterbi_acc_e[e][\"k\"].append(k)\n",
    "    viterbi_acc_e[e][\"accuracy\"].append(accuracy(y, y_viterbi_decoded, viterbi=True))"
   ]
  },
  {
   "cell_type": "code",
   "execution_count": 133,
   "metadata": {
    "collapsed": true
   },
   "outputs": [],
   "source": [
    "k1, acc1 = group_sort(viterbi_acc_e[0.05][\"k\"], viterbi_acc_e[0.05][\"accuracy\"])\n",
    "k2, acc2 = group_sort(viterbi_acc_e[0.15][\"k\"], viterbi_acc_e[0.15][\"accuracy\"])"
   ]
  },
  {
   "cell_type": "code",
   "execution_count": 142,
   "metadata": {},
   "outputs": [
    {
     "data": {
      "text/plain": [
       "<matplotlib.legend.Legend at 0x1150251d0>"
      ]
     },
     "execution_count": 142,
     "metadata": {},
     "output_type": "execute_result"
    },
    {
     "data": {
      "image/png": "[encoded data removed]",
      "text/plain": [
       "<matplotlib.figure.Figure at 0x114e33e10>"
      ]
     },
     "metadata": {},
     "output_type": "display_data"
    }
   ],
   "source": [
    "plt.title(\"Viterbi Decoding Accuracy vs. {0}\".format(variable_desc[\"k\"]))\n",
    "plt.xlabel(\"{0}\".format(variable_desc[\"k\"]))\n",
    "plt.ylabel(\"Viterbi Decoding Accuracy\")\n",
    "plt.plot(k1, acc1[0], \"green\", label=\"e=0.05\")\n",
    "plt.plot(k2, acc2[0], \"orange\", label=\"e=0.15\")\n",
    "plt.legend()"
   ]
  },
  {
   "cell_type": "code",
   "execution_count": 150,
   "metadata": {},
   "outputs": [
    {
     "data": {
      "text/plain": [
       "<matplotlib.legend.Legend at 0x101c18320>"
      ]
     },
     "execution_count": 150,
     "metadata": {},
     "output_type": "execute_result"
    },
    {
     "data": {
      "image/png": "[encoded data removed]",
      "text/plain": [
       "<matplotlib.figure.Figure at 0x1127c7e80>"
      ]
     },
     "metadata": {},
     "output_type": "display_data"
    }
   ],
   "source": [
    "plt.title(\"Viterbi Decoding Log Accuracy vs. {0}\".format(variable_desc[\"k\"]))\n",
    "plt.xlabel(\"{0}\".format(variable_desc[\"k\"]))\n",
    "plt.ylabel(\"Viterbi Decoding Accuracy\")\n",
    "plt.plot(k1, np.log(acc1[0]), \"green\", label=\"e=0.05\")\n",
    "plt.legend()"
   ]
  },
  {
   "cell_type": "code",
   "execution_count": 152,
   "metadata": {},
   "outputs": [
    {
     "data": {
      "text/plain": [
       "<matplotlib.legend.Legend at 0x11295e2e8>"
      ]
     },
     "execution_count": 152,
     "metadata": {},
     "output_type": "execute_result"
    },
    {
     "data": {
      "image/png": "[encoded data removed]",
      "text/plain": [
       "<matplotlib.figure.Figure at 0x11290b518>"
      ]
     },
     "metadata": {},
     "output_type": "display_data"
    }
   ],
   "source": [
    "plt.title(\"Viterbi Decoding Log Accuracy vs. {0}\".format(variable_desc[\"k\"]))\n",
    "plt.xlabel(\"{0}\".format(variable_desc[\"k\"]))\n",
    "plt.ylabel(\"Viterbi Decoding Accuracy\")\n",
    "plt.plot(k2, np.log(acc2[0]), \"orange\", label=\"e=0.15\")\n",
    "plt.legend()"
   ]
  },
  {
   "cell_type": "markdown",
   "metadata": {
    "collapsed": true
   },
   "source": [
    "## Run 2 "
   ]
  },
  {
   "cell_type": "code",
   "execution_count": 48,
   "metadata": {
    "collapsed": true
   },
   "outputs": [],
   "source": [
    "train, test, original = build_data_from_path(\"../data/dataset_04/data/dataset_n25000_k10_e0.05.pkl\")"
   ]
  },
  {
   "cell_type": "code",
   "execution_count": 49,
   "metadata": {
    "collapsed": true
   },
   "outputs": [],
   "source": [
    "X_train, y_train = train\n",
    "X_test, y_test = test\n",
    "X, y, y_oh, y_viterbi_decoded = original"
   ]
  },
  {
   "cell_type": "code",
   "execution_count": 50,
   "metadata": {
    "collapsed": true
   },
   "outputs": [],
   "source": [
    "run2_fnn_param = {\n",
    "    \"batch_size\": 512,\n",
    "    \"epoch\": 30,\n",
    "    \"verbose\": 2,\n",
    "    \"validation_ratio\": 0.2,\n",
    "    \"activation\": \"relu\",\n",
    "    \"l2_strength\": 0.0001,\n",
    "    \"learing_rate\": 0.001,\n",
    "    \"optimizer\": \"adam\",\n",
    "    \"metrics\": [\"accuracy\"],\n",
    "    \"loss_fn\": \"binary_crossentropy\"\n",
    "}"
   ]
  },
  {
   "cell_type": "code",
   "execution_count": 51,
   "metadata": {
    "collapsed": true
   },
   "outputs": [],
   "source": [
    "run2_architecture = np.array([32, 64, 100]) * X_train.shape[0] // 2000"
   ]
  },
  {
   "cell_type": "code",
   "execution_count": 102,
   "metadata": {
    "collapsed": true
   },
   "outputs": [],
   "source": [
    "model = build_fnn(input_shape=X_train.shape[1:], \n",
    "                  output_shape=y_train.shape[1:], \n",
    "                  architecture=run2_architecture, \n",
    "                  param=run2_fnn_param)"
   ]
  },
  {
   "cell_type": "code",
   "execution_count": 103,
   "metadata": {},
   "outputs": [
    {
     "name": "stdout",
     "output_type": "stream",
     "text": [
      "Train on 16000 samples, validate on 4000 samples\n",
      "Epoch 1/30\n",
      " - 2s - loss: 0.6236 - acc: 0.7154 - val_loss: 0.5282 - val_acc: 0.7848\n",
      "Epoch 2/30\n",
      " - 1s - loss: 0.4481 - acc: 0.8507 - val_loss: 0.3723 - val_acc: 0.8841\n",
      "Epoch 3/30\n",
      " - 1s - loss: 0.3139 - acc: 0.9198 - val_loss: 0.2779 - val_acc: 0.9324\n",
      "Epoch 4/30\n",
      " - 1s - loss: 0.2459 - acc: 0.9445 - val_loss: 0.2381 - val_acc: 0.9447\n",
      "Epoch 5/30\n",
      " - 1s - loss: 0.2184 - acc: 0.9522 - val_loss: 0.2168 - val_acc: 0.9507\n",
      "Epoch 6/30\n",
      " - 1s - loss: 0.2001 - acc: 0.9566 - val_loss: 0.2028 - val_acc: 0.9528\n",
      "Epoch 7/30\n",
      " - 1s - loss: 0.1831 - acc: 0.9609 - val_loss: 0.1871 - val_acc: 0.9602\n",
      "Epoch 8/30\n",
      " - 1s - loss: 0.1690 - acc: 0.9675 - val_loss: 0.1717 - val_acc: 0.9653\n",
      "Epoch 9/30\n",
      " - 1s - loss: 0.1560 - acc: 0.9729 - val_loss: 0.1594 - val_acc: 0.9702\n",
      "Epoch 10/30\n",
      " - 1s - loss: 0.1466 - acc: 0.9760 - val_loss: 0.1513 - val_acc: 0.9722\n",
      "Epoch 11/30\n",
      " - 1s - loss: 0.1395 - acc: 0.9770 - val_loss: 0.1472 - val_acc: 0.9735\n",
      "Epoch 12/30\n",
      " - 1s - loss: 0.1337 - acc: 0.9785 - val_loss: 0.1434 - val_acc: 0.9730\n",
      "Epoch 13/30\n",
      " - 1s - loss: 0.1272 - acc: 0.9796 - val_loss: 0.1350 - val_acc: 0.9758\n",
      "Epoch 14/30\n",
      " - 1s - loss: 0.1218 - acc: 0.9808 - val_loss: 0.1307 - val_acc: 0.9773\n",
      "Epoch 15/30\n",
      " - 1s - loss: 0.1181 - acc: 0.9817 - val_loss: 0.1318 - val_acc: 0.9759\n",
      "Epoch 16/30\n",
      " - 1s - loss: 0.1155 - acc: 0.9817 - val_loss: 0.1225 - val_acc: 0.9788\n",
      "Epoch 17/30\n",
      " - 1s - loss: 0.1100 - acc: 0.9829 - val_loss: 0.1222 - val_acc: 0.9777\n",
      "Epoch 18/30\n",
      " - 1s - loss: 0.1074 - acc: 0.9833 - val_loss: 0.1208 - val_acc: 0.9788\n",
      "Epoch 19/30\n",
      " - 1s - loss: 0.1046 - acc: 0.9841 - val_loss: 0.1147 - val_acc: 0.9805\n",
      "Epoch 20/30\n",
      " - 1s - loss: 0.1008 - acc: 0.9846 - val_loss: 0.1148 - val_acc: 0.9798\n",
      "Epoch 21/30\n",
      " - 1s - loss: 0.0981 - acc: 0.9853 - val_loss: 0.1126 - val_acc: 0.9791\n",
      "Epoch 22/30\n",
      " - 1s - loss: 0.0968 - acc: 0.9852 - val_loss: 0.1125 - val_acc: 0.9794\n",
      "Epoch 23/30\n",
      " - 1s - loss: 0.0947 - acc: 0.9858 - val_loss: 0.1113 - val_acc: 0.9792\n",
      "Epoch 24/30\n",
      " - 1s - loss: 0.0931 - acc: 0.9857 - val_loss: 0.1057 - val_acc: 0.9809\n",
      "Epoch 25/30\n",
      " - 1s - loss: 0.0904 - acc: 0.9863 - val_loss: 0.1028 - val_acc: 0.9818\n",
      "Epoch 26/30\n",
      " - 1s - loss: 0.0879 - acc: 0.9869 - val_loss: 0.1032 - val_acc: 0.9811\n",
      "Epoch 27/30\n",
      " - 1s - loss: 0.0874 - acc: 0.9868 - val_loss: 0.1046 - val_acc: 0.9800\n",
      "Epoch 28/30\n",
      " - 1s - loss: 0.0862 - acc: 0.9871 - val_loss: 0.1010 - val_acc: 0.9809\n",
      "Epoch 29/30\n",
      " - 1s - loss: 0.0843 - acc: 0.9873 - val_loss: 0.0998 - val_acc: 0.9820\n",
      "Epoch 30/30\n",
      " - 1s - loss: 0.0836 - acc: 0.9877 - val_loss: 0.0999 - val_acc: 0.9815\n"
     ]
    }
   ],
   "source": [
    "model = train_fnn(model, X_train, y_train, \n",
    "                  param=run2_fnn_param, shuffle=True)"
   ]
  },
  {
   "cell_type": "code",
   "execution_count": 108,
   "metadata": {},
   "outputs": [
    {
     "data": {
      "text/plain": [
       "0.9829199998855591"
      ]
     },
     "execution_count": 108,
     "metadata": {},
     "output_type": "execute_result"
    }
   ],
   "source": [
    "model_accuracy(model, X_test, y_test)"
   ]
  },
  {
   "cell_type": "code",
   "execution_count": 115,
   "metadata": {},
   "outputs": [
    {
     "data": {
      "text/plain": [
       "array([ 320,  640, 1000])"
      ]
     },
     "execution_count": 115,
     "metadata": {},
     "output_type": "execute_result"
    }
   ],
   "source": [
    "run2_architecture"
   ]
  },
  {
   "cell_type": "code",
   "execution_count": 117,
   "metadata": {},
   "outputs": [
    {
     "data": {
      "text/plain": [
       "[<matplotlib.lines.Line2D at 0x13c484fd0>]"
      ]
     },
     "execution_count": 117,
     "metadata": {},
     "output_type": "execute_result"
    },
    {
     "data": {
      "image/png": "[encoded data removed]",
      "text/plain": [
       "<matplotlib.figure.Figure at 0x13c484b00>"
      ]
     },
     "metadata": {},
     "output_type": "display_data"
    }
   ],
   "source": [
    "epoch = np.arange(1,31,1)\n",
    "acc =  [0.7848, 0.8841, 0.9324, 0.9447, 0.9507, 0.9528, 0.9602, 0.9653, 0.9702, 0.9722, 0.9735,0.9730, 0.9758, 0.9773, 0.9759, 0.9788, 0.9777, 0.9788, 0.9805, 0.9798, 0.9791, 0.9794, 0.9792 ,0.9809, 0.9818, 0.9811, 0.9800, 0.9809, 0.9820, 0.981] \n",
    "\n",
    "plt.title(\"Training Accuracy of {0} FNN model\".format(str(run2_architecture)))\n",
    "plt.xlabel('epoch')\n",
    "plt.ylabel(\"accuracy\")\n",
    "plt.plot(epoch, acc, \"green\")"
   ]
  },
  {
   "cell_type": "code",
   "execution_count": 118,
   "metadata": {},
   "outputs": [
    {
     "name": "stdout",
     "output_type": "stream",
     "text": [
      "\n",
      "############## Example 0 ##############\n",
      "Expected:\n",
      " [1 1 0 1 1 0 1 0 1 0]\n",
      "Actual:\n",
      " [1 1 0 1 1 0 0 0 1 0]\n",
      "\n",
      "############## Example 1 ##############\n",
      "Expected:\n",
      " [0 0 1 1 1 1 1 0 0 1]\n",
      "Actual:\n",
      " [0 0 1 1 1 1 1 0 0 1]\n",
      "\n",
      "############## Example 2 ##############\n",
      "Expected:\n",
      " [1 0 1 0 1 0 1 1 1 0]\n",
      "Actual:\n",
      " [1 0 1 0 1 0 1 1 1 0]\n",
      "\n",
      "############## Example 3 ##############\n",
      "Expected:\n",
      " [1 1 0 0 0 1 0 1 0 0]\n",
      "Actual:\n",
      " [1 1 0 0 0 0 0 1 0 0]\n",
      "\n",
      "############## Example 4 ##############\n",
      "Expected:\n",
      " [0 1 1 1 0 0 1 1 1 1]\n",
      "Actual:\n",
      " [0 1 1 1 0 0 1 1 1 1]\n"
     ]
    }
   ],
   "source": [
    "pred_vs_truth(model, X_test, y_test, n_show=5, y_truth_is_onehot=True)"
   ]
  },
  {
   "cell_type": "code",
   "execution_count": 126,
   "metadata": {
    "collapsed": true
   },
   "outputs": [],
   "source": [
    "# model.save(\"../models/v4/k10_e0.05_fnn_[{0}].h5\".format(\",\".join(list(map(lambda x: str(x), run2_architecture)))))"
   ]
  },
  {
   "cell_type": "code",
   "execution_count": 52,
   "metadata": {
    "collapsed": true
   },
   "outputs": [],
   "source": [
    "run2_fnn_param2 = {\n",
    "    \"batch_size\": 512,\n",
    "    \"epoch\": 35,\n",
    "    \"verbose\": 0,\n",
    "    \"validation_ratio\": 0.2,\n",
    "    \"activation\": \"relu\",\n",
    "    \"l2_strength\": 0.0001,\n",
    "    \"learing_rate\": 0.01,\n",
    "    \"optimizer\": \"adam\",\n",
    "    \"metrics\": [\"accuracy\"],\n",
    "    \"loss_fn\": \"binary_crossentropy\"\n",
    "}"
   ]
  },
  {
   "cell_type": "code",
   "execution_count": 144,
   "metadata": {
    "collapsed": true
   },
   "outputs": [],
   "source": [
    "FF_MODELS = [\n",
    "    [32, 100],\n",
    "    [64, 100],\n",
    "    [128, 100],\n",
    "    [256, 100],\n",
    "    [32, 32, 100],\n",
    "    [32, 64, 100],\n",
    "    [64, 64, 100],\n",
    "    [64, 128, 100],\n",
    "    [128, 128, 100],\n",
    "    [128, 256, 100],\n",
    "    [256, 256, 100],\n",
    "    [32,128,128,100],\n",
    "    [32,128,256,100],\n",
    "    [32,256,256,100],\n",
    "    [32,128,256,128,100],\n",
    "    [32,128,128,128,100],\n",
    "    [1024,512,100],\n",
    "    [512,256,100],\n",
    "    [256,128,100],\n",
    "    [128,100,100]\n",
    "]"
   ]
  },
  {
   "cell_type": "code",
   "execution_count": 147,
   "metadata": {
    "collapsed": true
   },
   "outputs": [],
   "source": [
    "avg_N = 4"
   ]
  },
  {
   "cell_type": "code",
   "execution_count": 148,
   "metadata": {},
   "outputs": [
    {
     "name": "stdout",
     "output_type": "stream",
     "text": [
      "model: [32, 100], acc: 0.9712\n",
      "model: [64, 100], acc: 0.9808\n",
      "model: [128, 100], acc: 0.9819\n",
      "model: [256, 100], acc: 0.9834\n",
      "model: [32, 32, 100], acc: 0.9651\n",
      "model: [32, 64, 100], acc: 0.9725\n",
      "model: [64, 64, 100], acc: 0.9810\n",
      "model: [64, 128, 100], acc: 0.9814\n",
      "model: [128, 128, 100], acc: 0.9823\n",
      "model: [128, 256, 100], acc: 0.9827\n",
      "model: [256, 256, 100], acc: 0.9816\n",
      "model: [32, 128, 128, 100], acc: 0.9725\n",
      "model: [32, 128, 256, 100], acc: 0.9725\n",
      "model: [32, 256, 256, 100], acc: 0.9756\n",
      "model: [32, 128, 256, 128, 100], acc: 0.9516\n",
      "model: [32, 128, 128, 128, 100], acc: 0.9532\n",
      "model: [1024, 512, 100], acc: 0.9833\n",
      "model: [512, 256, 100], acc: 0.9832\n",
      "model: [256, 128, 100], acc: 0.9826\n",
      "model: [128, 100, 100], acc: 0.9818\n"
     ]
    }
   ],
   "source": [
    "for arch in FF_MODELS:\n",
    "    avg_acc = 0\n",
    "    for _ in range(avg_N):\n",
    "        model = build_fnn(input_shape=X_train.shape[1:], \n",
    "                          output_shape=y_train.shape[1:], \n",
    "                          architecture=arch, \n",
    "                          param=run2_fnn_param2)\n",
    "\n",
    "        model = train_fnn(model, X_train, y_train, \n",
    "                          param=run2_fnn_param2, shuffle=True)\n",
    "\n",
    "        avg_acc += model_accuracy(model, X_test, y_test)\n",
    "        \n",
    "    avg_acc /= avg_N\n",
    "    print(\"model: {0}, acc: {1:.4f}\".format(arch, avg_acc))"
   ]
  },
  {
   "cell_type": "code",
   "execution_count": 58,
   "metadata": {},
   "outputs": [
    {
     "name": "stdout",
     "output_type": "stream",
     "text": [
      "Train on 16000 samples, validate on 4000 samples\n",
      "Epoch 1/35\n",
      " - 1s - loss: 0.5153 - acc: 0.7170 - val_loss: 0.3798 - val_acc: 0.8035\n",
      "Epoch 2/35\n",
      " - 0s - loss: 0.3005 - acc: 0.8653 - val_loss: 0.2691 - val_acc: 0.8874\n",
      "Epoch 3/35\n",
      " - 0s - loss: 0.2097 - acc: 0.9305 - val_loss: 0.1661 - val_acc: 0.9594\n",
      "Epoch 4/35\n",
      " - 0s - loss: 0.1394 - acc: 0.9690 - val_loss: 0.1374 - val_acc: 0.9693\n",
      "Epoch 5/35\n",
      " - 0s - loss: 0.1240 - acc: 0.9741 - val_loss: 0.1274 - val_acc: 0.9731\n",
      "Epoch 6/35\n",
      " - 0s - loss: 0.1113 - acc: 0.9796 - val_loss: 0.1192 - val_acc: 0.9765\n",
      "Epoch 7/35\n",
      " - 0s - loss: 0.1008 - acc: 0.9829 - val_loss: 0.1097 - val_acc: 0.9790\n",
      "Epoch 8/35\n",
      " - 0s - loss: 0.0993 - acc: 0.9825 - val_loss: 0.1127 - val_acc: 0.9776\n",
      "Epoch 9/35\n",
      " - 0s - loss: 0.0957 - acc: 0.9838 - val_loss: 0.1046 - val_acc: 0.9804\n",
      "Epoch 10/35\n",
      " - 0s - loss: 0.0930 - acc: 0.9839 - val_loss: 0.1024 - val_acc: 0.9804\n",
      "Epoch 11/35\n",
      " - 0s - loss: 0.0891 - acc: 0.9848 - val_loss: 0.1033 - val_acc: 0.9796\n",
      "Epoch 12/35\n",
      " - 0s - loss: 0.0889 - acc: 0.9846 - val_loss: 0.1062 - val_acc: 0.9788\n",
      "Epoch 13/35\n",
      " - 0s - loss: 0.0863 - acc: 0.9855 - val_loss: 0.1053 - val_acc: 0.9778\n",
      "Epoch 14/35\n",
      " - 0s - loss: 0.0853 - acc: 0.9852 - val_loss: 0.1015 - val_acc: 0.9790\n",
      "Epoch 15/35\n",
      " - 0s - loss: 0.0850 - acc: 0.9851 - val_loss: 0.0941 - val_acc: 0.9816\n",
      "Epoch 16/35\n",
      " - 0s - loss: 0.0838 - acc: 0.9857 - val_loss: 0.0966 - val_acc: 0.9806\n",
      "Epoch 17/35\n",
      " - 0s - loss: 0.0807 - acc: 0.9865 - val_loss: 0.0944 - val_acc: 0.9809\n",
      "Epoch 18/35\n",
      " - 0s - loss: 0.0805 - acc: 0.9859 - val_loss: 0.0979 - val_acc: 0.9797\n",
      "Epoch 19/35\n",
      " - 0s - loss: 0.0815 - acc: 0.9856 - val_loss: 0.0959 - val_acc: 0.9811\n",
      "Epoch 20/35\n",
      " - 0s - loss: 0.0795 - acc: 0.9861 - val_loss: 0.0968 - val_acc: 0.9803\n",
      "Epoch 21/35\n",
      " - 0s - loss: 0.0811 - acc: 0.9849 - val_loss: 0.0954 - val_acc: 0.9806\n",
      "Epoch 22/35\n",
      " - 0s - loss: 0.0809 - acc: 0.9858 - val_loss: 0.0957 - val_acc: 0.9803\n",
      "Epoch 23/35\n",
      " - 0s - loss: 0.0774 - acc: 0.9865 - val_loss: 0.0934 - val_acc: 0.9809\n",
      "Epoch 24/35\n",
      " - 0s - loss: 0.0771 - acc: 0.9864 - val_loss: 0.0907 - val_acc: 0.9808\n",
      "Epoch 25/35\n",
      " - 0s - loss: 0.0773 - acc: 0.9861 - val_loss: 0.0904 - val_acc: 0.9811\n",
      "Epoch 26/35\n",
      " - 0s - loss: 0.0745 - acc: 0.9872 - val_loss: 0.0920 - val_acc: 0.9806\n",
      "Epoch 27/35\n",
      " - 0s - loss: 0.0736 - acc: 0.9868 - val_loss: 0.0869 - val_acc: 0.9817\n",
      "Epoch 28/35\n",
      " - 0s - loss: 0.0724 - acc: 0.9872 - val_loss: 0.0906 - val_acc: 0.9811\n",
      "Epoch 29/35\n",
      " - 0s - loss: 0.0705 - acc: 0.9877 - val_loss: 0.0880 - val_acc: 0.9812\n",
      "Epoch 30/35\n",
      " - 0s - loss: 0.0708 - acc: 0.9875 - val_loss: 0.0896 - val_acc: 0.9812\n",
      "Epoch 31/35\n",
      " - 0s - loss: 0.0729 - acc: 0.9868 - val_loss: 0.0888 - val_acc: 0.9807\n",
      "Epoch 32/35\n",
      " - 0s - loss: 0.0723 - acc: 0.9869 - val_loss: 0.0883 - val_acc: 0.9808\n",
      "Epoch 33/35\n",
      " - 0s - loss: 0.0705 - acc: 0.9877 - val_loss: 0.0857 - val_acc: 0.9822\n",
      "Epoch 34/35\n",
      " - 0s - loss: 0.0693 - acc: 0.9879 - val_loss: 0.0892 - val_acc: 0.9811\n",
      "Epoch 35/35\n",
      " - 0s - loss: 0.0697 - acc: 0.9875 - val_loss: 0.0866 - val_acc: 0.9816\n"
     ]
    }
   ],
   "source": [
    "chosen_model_arch = [512, 256, 100]\n",
    "\n",
    "run2_fnn_param3 = {\n",
    "    \"batch_size\": 512,\n",
    "    \"epoch\": 35,\n",
    "    \"verbose\": 2,\n",
    "    \"validation_ratio\": 0.2,\n",
    "    \"activation\": \"relu\",\n",
    "    \"l2_strength\": 0.0001,\n",
    "    \"learing_rate\": 0.01,\n",
    "    \"optimizer\": \"adam\",\n",
    "    \"metrics\": [\"accuracy\"],\n",
    "    \"loss_fn\": \"binary_crossentropy\"\n",
    "}\n",
    "\n",
    "model = build_fnn(input_shape=X_train.shape[1:], \n",
    "                  output_shape=y_train.shape[1:], \n",
    "                  architecture=chosen_model_arch, \n",
    "                  param=run2_fnn_param3)\n",
    "\n",
    "model = train_fnn(model, X_train, y_train, \n",
    "                  param=run2_fnn_param3, shuffle=True)"
   ]
  },
  {
   "cell_type": "code",
   "execution_count": 59,
   "metadata": {},
   "outputs": [
    {
     "name": "stdout",
     "output_type": "stream",
     "text": [
      "test accuracy: 0.9817600014686585\n"
     ]
    }
   ],
   "source": [
    "acc = model_accuracy(model, X_test, y_test)\n",
    "print(\"test accuracy:\", acc)"
   ]
  },
  {
   "cell_type": "code",
   "execution_count": 60,
   "metadata": {},
   "outputs": [
    {
     "name": "stdout",
     "output_type": "stream",
     "text": [
      "\n",
      "############## Example 0 ##############\n",
      "Expected:\n",
      " [0 1 1 0 1 1 0 0 0 0]\n",
      "Actual:\n",
      " [0 1 1 0 1 1 0 0 0 0]\n",
      "\n",
      "############## Example 1 ##############\n",
      "Expected:\n",
      " [1 0 1 1 0 0 1 1 1 0]\n",
      "Actual:\n",
      " [1 0 1 1 0 0 1 1 1 0]\n",
      "\n",
      "############## Example 2 ##############\n",
      "Expected:\n",
      " [1 0 0 0 1 1 1 1 0 1]\n",
      "Actual:\n",
      " [1 0 0 0 1 1 1 1 0 1]\n"
     ]
    }
   ],
   "source": [
    "pred_vs_truth(model, X_test, y_test, n_show=3, y_truth_is_onehot=True)"
   ]
  },
  {
   "cell_type": "code",
   "execution_count": 308,
   "metadata": {},
   "outputs": [
    {
     "data": {
      "image/png": "[encoded data removed]",
      "text/plain": [
       "<matplotlib.figure.Figure at 0x197587c50>"
      ]
     },
     "metadata": {},
     "output_type": "display_data"
    }
   ],
   "source": [
    "plot_acc(\"Training Accuracy of {0} FNN model\".format(str(chosen_model_arch)),\n",
    "         [0.8035, 0.8874, 0.9594, 0.9693, 0.9731, 0.9765, 0.9790, 0.9776, 0.9804, 0.9804, 0.9796, 0.9788, 0.9778, 0.9790, 0.9816, 0.9806, 0.9809, 0.9797, 0.9811, 0.9803, 0.9806, 0.9803, 0.9809, 0.9808, 0.9811, 0.9806, 0.9817, 0.9811, 0.9812, 0.9812, 0.9807, 0.9808, 0.9822, 0.9811, 0.9816])"
   ]
  },
  {
   "cell_type": "markdown",
   "metadata": {},
   "source": [
    "## Run 3"
   ]
  },
  {
   "cell_type": "code",
   "execution_count": 237,
   "metadata": {
    "collapsed": true
   },
   "outputs": [],
   "source": [
    "run3_fnn_param = {\n",
    "    \"batch_size\": 512,\n",
    "    \"epoch\": 35,\n",
    "    \"verbose\": 0,\n",
    "    \"validation_ratio\": 0.2,\n",
    "    \"activation\": \"relu\",\n",
    "    \"l2_strength\": 0.0001,\n",
    "    \"learing_rate\": 0.01,\n",
    "    \"optimizer\": \"adam\",\n",
    "    \"metrics\": [\"accuracy\"],\n",
    "    \"loss_fn\": \"binary_crossentropy\"\n",
    "}"
   ]
  },
  {
   "cell_type": "code",
   "execution_count": 245,
   "metadata": {
    "collapsed": true
   },
   "outputs": [],
   "source": [
    "avg_N = 1\n",
    "run3_architecture = [256, 100]"
   ]
  },
  {
   "cell_type": "code",
   "execution_count": 43,
   "metadata": {
    "collapsed": true
   },
   "outputs": [],
   "source": [
    "ks = np.unique(list(map(lambda x: get_param_from_filename(x, \"k\"), data_paths)))"
   ]
  },
  {
   "cell_type": "code",
   "execution_count": 247,
   "metadata": {
    "collapsed": true
   },
   "outputs": [],
   "source": [
    "ks, data_paths = group_sort(ks, data_paths)\n",
    "data_paths = data_paths[0]"
   ]
  },
  {
   "cell_type": "code",
   "execution_count": 248,
   "metadata": {},
   "outputs": [
    {
     "data": {
      "text/plain": [
       "[256, 256, 100]"
      ]
     },
     "execution_count": 248,
     "metadata": {},
     "output_type": "execute_result"
    }
   ],
   "source": [
    "run3_architecture[:1] + run3_architecture"
   ]
  },
  {
   "cell_type": "code",
   "execution_count": 249,
   "metadata": {},
   "outputs": [
    {
     "name": "stdout",
     "output_type": "stream",
     "text": [
      "k: 5.0, model acc: 0.9942, viterbi acc: 0.9959\n",
      "k: 10.0, model acc: 0.9817, viterbi acc: 0.9941\n",
      "k: 15.0, model acc: 0.9712, viterbi acc: 0.9931\n",
      "k: 20.0, model acc: 0.7756, viterbi acc: 0.9925\n",
      "k: 25.0, model acc: 0.6882, viterbi acc: 0.9923\n"
     ]
    },
    {
     "ename": "KeyboardInterrupt",
     "evalue": "",
     "output_type": "error",
     "traceback": [
      "\u001b[0;31m---------------------------------------------------------------------------\u001b[0m",
      "\u001b[0;31mKeyboardInterrupt\u001b[0m                         Traceback (most recent call last)",
      "\u001b[0;32m<ipython-input-249-302fc59b0f94>\u001b[0m in \u001b[0;36m<module>\u001b[0;34m()\u001b[0m\n\u001b[1;32m     33\u001b[0m \u001b[0;34m\u001b[0m\u001b[0m\n\u001b[1;32m     34\u001b[0m         model = train_fnn(model, X_train, y_train, \n\u001b[0;32m---> 35\u001b[0;31m                           param=run3_fnn_param, shuffle=True)\n\u001b[0m\u001b[1;32m     36\u001b[0m \u001b[0;34m\u001b[0m\u001b[0m\n\u001b[1;32m     37\u001b[0m         \u001b[0mavg_acc\u001b[0m \u001b[0;34m+=\u001b[0m \u001b[0mmodel_accuracy\u001b[0m\u001b[0;34m(\u001b[0m\u001b[0mmodel\u001b[0m\u001b[0;34m,\u001b[0m \u001b[0mX_test\u001b[0m\u001b[0;34m,\u001b[0m \u001b[0my_test\u001b[0m\u001b[0;34m)\u001b[0m\u001b[0;34m\u001b[0m\u001b[0m\n",
      "\u001b[0;32m<ipython-input-16-c1758576b9e0>\u001b[0m in \u001b[0;36mtrain_fnn\u001b[0;34m(model, x, y, param, shuffle)\u001b[0m\n\u001b[1;32m      1\u001b[0m \u001b[0;32mdef\u001b[0m \u001b[0mtrain_fnn\u001b[0m\u001b[0;34m(\u001b[0m\u001b[0mmodel\u001b[0m\u001b[0;34m,\u001b[0m \u001b[0mx\u001b[0m\u001b[0;34m,\u001b[0m \u001b[0my\u001b[0m\u001b[0;34m,\u001b[0m \u001b[0mparam\u001b[0m\u001b[0;34m=\u001b[0m\u001b[0mdefault_fnn_param\u001b[0m\u001b[0;34m,\u001b[0m \u001b[0mshuffle\u001b[0m\u001b[0;34m=\u001b[0m\u001b[0;32mTrue\u001b[0m\u001b[0;34m)\u001b[0m\u001b[0;34m:\u001b[0m\u001b[0;34m\u001b[0m\u001b[0m\n\u001b[1;32m      2\u001b[0m     model.fit(x, y, batch_size=param[\"batch_size\"], epochs=param[\"epoch\"], shuffle=shuffle,\n\u001b[0;32m----> 3\u001b[0;31m               verbose=param[\"verbose\"], validation_split=param[\"validation_ratio\"])\n\u001b[0m\u001b[1;32m      4\u001b[0m     \u001b[0;32mreturn\u001b[0m \u001b[0mmodel\u001b[0m\u001b[0;34m\u001b[0m\u001b[0m\n",
      "\u001b[0;32m/Users/michael-tu/anaconda/lib/python3.6/site-packages/keras/models.py\u001b[0m in \u001b[0;36mfit\u001b[0;34m(self, x, y, batch_size, epochs, verbose, callbacks, validation_split, validation_data, shuffle, class_weight, sample_weight, initial_epoch, steps_per_epoch, validation_steps, **kwargs)\u001b[0m\n\u001b[1;32m    963\u001b[0m                               \u001b[0minitial_epoch\u001b[0m\u001b[0;34m=\u001b[0m\u001b[0minitial_epoch\u001b[0m\u001b[0;34m,\u001b[0m\u001b[0;34m\u001b[0m\u001b[0m\n\u001b[1;32m    964\u001b[0m                               \u001b[0msteps_per_epoch\u001b[0m\u001b[0;34m=\u001b[0m\u001b[0msteps_per_epoch\u001b[0m\u001b[0;34m,\u001b[0m\u001b[0;34m\u001b[0m\u001b[0m\n\u001b[0;32m--> 965\u001b[0;31m                               validation_steps=validation_steps)\n\u001b[0m\u001b[1;32m    966\u001b[0m \u001b[0;34m\u001b[0m\u001b[0m\n\u001b[1;32m    967\u001b[0m     def evaluate(self, x=None, y=None,\n",
      "\u001b[0;32m/Users/michael-tu/anaconda/lib/python3.6/site-packages/keras/engine/training.py\u001b[0m in \u001b[0;36mfit\u001b[0;34m(self, x, y, batch_size, epochs, verbose, callbacks, validation_split, validation_data, shuffle, class_weight, sample_weight, initial_epoch, steps_per_epoch, validation_steps, **kwargs)\u001b[0m\n\u001b[1;32m   1667\u001b[0m                               \u001b[0minitial_epoch\u001b[0m\u001b[0;34m=\u001b[0m\u001b[0minitial_epoch\u001b[0m\u001b[0;34m,\u001b[0m\u001b[0;34m\u001b[0m\u001b[0m\n\u001b[1;32m   1668\u001b[0m                               \u001b[0msteps_per_epoch\u001b[0m\u001b[0;34m=\u001b[0m\u001b[0msteps_per_epoch\u001b[0m\u001b[0;34m,\u001b[0m\u001b[0;34m\u001b[0m\u001b[0m\n\u001b[0;32m-> 1669\u001b[0;31m                               validation_steps=validation_steps)\n\u001b[0m\u001b[1;32m   1670\u001b[0m \u001b[0;34m\u001b[0m\u001b[0m\n\u001b[1;32m   1671\u001b[0m     def evaluate(self, x=None, y=None,\n",
      "\u001b[0;32m/Users/michael-tu/anaconda/lib/python3.6/site-packages/keras/engine/training.py\u001b[0m in \u001b[0;36m_fit_loop\u001b[0;34m(self, f, ins, out_labels, batch_size, epochs, verbose, callbacks, val_f, val_ins, shuffle, callback_metrics, initial_epoch, steps_per_epoch, validation_steps)\u001b[0m\n\u001b[1;32m   1204\u001b[0m                         \u001b[0mins_batch\u001b[0m\u001b[0;34m[\u001b[0m\u001b[0mi\u001b[0m\u001b[0;34m]\u001b[0m \u001b[0;34m=\u001b[0m \u001b[0mins_batch\u001b[0m\u001b[0;34m[\u001b[0m\u001b[0mi\u001b[0m\u001b[0;34m]\u001b[0m\u001b[0;34m.\u001b[0m\u001b[0mtoarray\u001b[0m\u001b[0;34m(\u001b[0m\u001b[0;34m)\u001b[0m\u001b[0;34m\u001b[0m\u001b[0m\n\u001b[1;32m   1205\u001b[0m \u001b[0;34m\u001b[0m\u001b[0m\n\u001b[0;32m-> 1206\u001b[0;31m                     \u001b[0mouts\u001b[0m \u001b[0;34m=\u001b[0m \u001b[0mf\u001b[0m\u001b[0;34m(\u001b[0m\u001b[0mins_batch\u001b[0m\u001b[0;34m)\u001b[0m\u001b[0;34m\u001b[0m\u001b[0m\n\u001b[0m\u001b[1;32m   1207\u001b[0m                     \u001b[0;32mif\u001b[0m \u001b[0;32mnot\u001b[0m \u001b[0misinstance\u001b[0m\u001b[0;34m(\u001b[0m\u001b[0mouts\u001b[0m\u001b[0;34m,\u001b[0m \u001b[0mlist\u001b[0m\u001b[0;34m)\u001b[0m\u001b[0;34m:\u001b[0m\u001b[0;34m\u001b[0m\u001b[0m\n\u001b[1;32m   1208\u001b[0m                         \u001b[0mouts\u001b[0m \u001b[0;34m=\u001b[0m \u001b[0;34m[\u001b[0m\u001b[0mouts\u001b[0m\u001b[0;34m]\u001b[0m\u001b[0;34m\u001b[0m\u001b[0m\n",
      "\u001b[0;32m/Users/michael-tu/anaconda/lib/python3.6/site-packages/keras/backend/tensorflow_backend.py\u001b[0m in \u001b[0;36m__call__\u001b[0;34m(self, inputs)\u001b[0m\n\u001b[1;32m   2471\u001b[0m             \u001b[0mfeed_dict\u001b[0m\u001b[0;34m[\u001b[0m\u001b[0mtensor\u001b[0m\u001b[0;34m]\u001b[0m \u001b[0;34m=\u001b[0m \u001b[0mvalue\u001b[0m\u001b[0;34m\u001b[0m\u001b[0m\n\u001b[1;32m   2472\u001b[0m         \u001b[0mfetches\u001b[0m \u001b[0;34m=\u001b[0m \u001b[0mself\u001b[0m\u001b[0;34m.\u001b[0m\u001b[0moutputs\u001b[0m \u001b[0;34m+\u001b[0m \u001b[0;34m[\u001b[0m\u001b[0mself\u001b[0m\u001b[0;34m.\u001b[0m\u001b[0mupdates_op\u001b[0m\u001b[0;34m]\u001b[0m \u001b[0;34m+\u001b[0m \u001b[0mself\u001b[0m\u001b[0;34m.\u001b[0m\u001b[0mfetches\u001b[0m\u001b[0;34m\u001b[0m\u001b[0m\n\u001b[0;32m-> 2473\u001b[0;31m         \u001b[0msession\u001b[0m \u001b[0;34m=\u001b[0m \u001b[0mget_session\u001b[0m\u001b[0;34m(\u001b[0m\u001b[0;34m)\u001b[0m\u001b[0;34m\u001b[0m\u001b[0m\n\u001b[0m\u001b[1;32m   2474\u001b[0m         updated = session.run(fetches=fetches, feed_dict=feed_dict,\n\u001b[1;32m   2475\u001b[0m                               **self.session_kwargs)\n",
      "\u001b[0;32m/Users/michael-tu/anaconda/lib/python3.6/site-packages/keras/backend/tensorflow_backend.py\u001b[0m in \u001b[0;36mget_session\u001b[0;34m()\u001b[0m\n\u001b[1;32m    187\u001b[0m                 \u001b[0;31m# not already marked as initialized.\u001b[0m\u001b[0;34m\u001b[0m\u001b[0;34m\u001b[0m\u001b[0m\n\u001b[1;32m    188\u001b[0m                 is_initialized = session.run(\n\u001b[0;32m--> 189\u001b[0;31m                     [tf.is_variable_initialized(v) for v in candidate_vars])\n\u001b[0m\u001b[1;32m    190\u001b[0m                 \u001b[0muninitialized_vars\u001b[0m \u001b[0;34m=\u001b[0m \u001b[0;34m[\u001b[0m\u001b[0;34m]\u001b[0m\u001b[0;34m\u001b[0m\u001b[0m\n\u001b[1;32m    191\u001b[0m                 \u001b[0;32mfor\u001b[0m \u001b[0mflag\u001b[0m\u001b[0;34m,\u001b[0m \u001b[0mv\u001b[0m \u001b[0;32min\u001b[0m \u001b[0mzip\u001b[0m\u001b[0;34m(\u001b[0m\u001b[0mis_initialized\u001b[0m\u001b[0;34m,\u001b[0m \u001b[0mcandidate_vars\u001b[0m\u001b[0;34m)\u001b[0m\u001b[0;34m:\u001b[0m\u001b[0;34m\u001b[0m\u001b[0m\n",
      "\u001b[0;32m/Users/michael-tu/anaconda/lib/python3.6/site-packages/tensorflow/python/client/session.py\u001b[0m in \u001b[0;36mrun\u001b[0;34m(self, fetches, feed_dict, options, run_metadata)\u001b[0m\n\u001b[1;32m    887\u001b[0m     \u001b[0;32mtry\u001b[0m\u001b[0;34m:\u001b[0m\u001b[0;34m\u001b[0m\u001b[0m\n\u001b[1;32m    888\u001b[0m       result = self._run(None, fetches, feed_dict, options_ptr,\n\u001b[0;32m--> 889\u001b[0;31m                          run_metadata_ptr)\n\u001b[0m\u001b[1;32m    890\u001b[0m       \u001b[0;32mif\u001b[0m \u001b[0mrun_metadata\u001b[0m\u001b[0;34m:\u001b[0m\u001b[0;34m\u001b[0m\u001b[0m\n\u001b[1;32m    891\u001b[0m         \u001b[0mproto_data\u001b[0m \u001b[0;34m=\u001b[0m \u001b[0mtf_session\u001b[0m\u001b[0;34m.\u001b[0m\u001b[0mTF_GetBuffer\u001b[0m\u001b[0;34m(\u001b[0m\u001b[0mrun_metadata_ptr\u001b[0m\u001b[0;34m)\u001b[0m\u001b[0;34m\u001b[0m\u001b[0m\n",
      "\u001b[0;32m/Users/michael-tu/anaconda/lib/python3.6/site-packages/tensorflow/python/client/session.py\u001b[0m in \u001b[0;36m_run\u001b[0;34m(self, handle, fetches, feed_dict, options, run_metadata)\u001b[0m\n\u001b[1;32m   1118\u001b[0m     \u001b[0;32mif\u001b[0m \u001b[0mfinal_fetches\u001b[0m \u001b[0;32mor\u001b[0m \u001b[0mfinal_targets\u001b[0m \u001b[0;32mor\u001b[0m \u001b[0;34m(\u001b[0m\u001b[0mhandle\u001b[0m \u001b[0;32mand\u001b[0m \u001b[0mfeed_dict_tensor\u001b[0m\u001b[0;34m)\u001b[0m\u001b[0;34m:\u001b[0m\u001b[0;34m\u001b[0m\u001b[0m\n\u001b[1;32m   1119\u001b[0m       results = self._do_run(handle, final_targets, final_fetches,\n\u001b[0;32m-> 1120\u001b[0;31m                              feed_dict_tensor, options, run_metadata)\n\u001b[0m\u001b[1;32m   1121\u001b[0m     \u001b[0;32melse\u001b[0m\u001b[0;34m:\u001b[0m\u001b[0;34m\u001b[0m\u001b[0m\n\u001b[1;32m   1122\u001b[0m       \u001b[0mresults\u001b[0m \u001b[0;34m=\u001b[0m \u001b[0;34m[\u001b[0m\u001b[0;34m]\u001b[0m\u001b[0;34m\u001b[0m\u001b[0m\n",
      "\u001b[0;32m/Users/michael-tu/anaconda/lib/python3.6/site-packages/tensorflow/python/client/session.py\u001b[0m in \u001b[0;36m_do_run\u001b[0;34m(self, handle, target_list, fetch_list, feed_dict, options, run_metadata)\u001b[0m\n\u001b[1;32m   1315\u001b[0m     \u001b[0;32mif\u001b[0m \u001b[0mhandle\u001b[0m \u001b[0;32mis\u001b[0m \u001b[0;32mNone\u001b[0m\u001b[0;34m:\u001b[0m\u001b[0;34m\u001b[0m\u001b[0m\n\u001b[1;32m   1316\u001b[0m       return self._do_call(_run_fn, self._session, feeds, fetches, targets,\n\u001b[0;32m-> 1317\u001b[0;31m                            options, run_metadata)\n\u001b[0m\u001b[1;32m   1318\u001b[0m     \u001b[0;32melse\u001b[0m\u001b[0;34m:\u001b[0m\u001b[0;34m\u001b[0m\u001b[0m\n\u001b[1;32m   1319\u001b[0m       \u001b[0;32mreturn\u001b[0m \u001b[0mself\u001b[0m\u001b[0;34m.\u001b[0m\u001b[0m_do_call\u001b[0m\u001b[0;34m(\u001b[0m\u001b[0m_prun_fn\u001b[0m\u001b[0;34m,\u001b[0m \u001b[0mself\u001b[0m\u001b[0;34m.\u001b[0m\u001b[0m_session\u001b[0m\u001b[0;34m,\u001b[0m \u001b[0mhandle\u001b[0m\u001b[0;34m,\u001b[0m \u001b[0mfeeds\u001b[0m\u001b[0;34m,\u001b[0m \u001b[0mfetches\u001b[0m\u001b[0;34m)\u001b[0m\u001b[0;34m\u001b[0m\u001b[0m\n",
      "\u001b[0;32m/Users/michael-tu/anaconda/lib/python3.6/site-packages/tensorflow/python/client/session.py\u001b[0m in \u001b[0;36m_do_call\u001b[0;34m(self, fn, *args)\u001b[0m\n\u001b[1;32m   1321\u001b[0m   \u001b[0;32mdef\u001b[0m \u001b[0m_do_call\u001b[0m\u001b[0;34m(\u001b[0m\u001b[0mself\u001b[0m\u001b[0;34m,\u001b[0m \u001b[0mfn\u001b[0m\u001b[0;34m,\u001b[0m \u001b[0;34m*\u001b[0m\u001b[0margs\u001b[0m\u001b[0;34m)\u001b[0m\u001b[0;34m:\u001b[0m\u001b[0;34m\u001b[0m\u001b[0m\n\u001b[1;32m   1322\u001b[0m     \u001b[0;32mtry\u001b[0m\u001b[0;34m:\u001b[0m\u001b[0;34m\u001b[0m\u001b[0m\n\u001b[0;32m-> 1323\u001b[0;31m       \u001b[0;32mreturn\u001b[0m \u001b[0mfn\u001b[0m\u001b[0;34m(\u001b[0m\u001b[0;34m*\u001b[0m\u001b[0margs\u001b[0m\u001b[0;34m)\u001b[0m\u001b[0;34m\u001b[0m\u001b[0m\n\u001b[0m\u001b[1;32m   1324\u001b[0m     \u001b[0;32mexcept\u001b[0m \u001b[0merrors\u001b[0m\u001b[0;34m.\u001b[0m\u001b[0mOpError\u001b[0m \u001b[0;32mas\u001b[0m \u001b[0me\u001b[0m\u001b[0;34m:\u001b[0m\u001b[0;34m\u001b[0m\u001b[0m\n\u001b[1;32m   1325\u001b[0m       \u001b[0mmessage\u001b[0m \u001b[0;34m=\u001b[0m \u001b[0mcompat\u001b[0m\u001b[0;34m.\u001b[0m\u001b[0mas_text\u001b[0m\u001b[0;34m(\u001b[0m\u001b[0me\u001b[0m\u001b[0;34m.\u001b[0m\u001b[0mmessage\u001b[0m\u001b[0;34m)\u001b[0m\u001b[0;34m\u001b[0m\u001b[0m\n",
      "\u001b[0;32m/Users/michael-tu/anaconda/lib/python3.6/site-packages/tensorflow/python/client/session.py\u001b[0m in \u001b[0;36m_run_fn\u001b[0;34m(session, feed_dict, fetch_list, target_list, options, run_metadata)\u001b[0m\n\u001b[1;32m   1300\u001b[0m           return tf_session.TF_Run(session, options,\n\u001b[1;32m   1301\u001b[0m                                    \u001b[0mfeed_dict\u001b[0m\u001b[0;34m,\u001b[0m \u001b[0mfetch_list\u001b[0m\u001b[0;34m,\u001b[0m \u001b[0mtarget_list\u001b[0m\u001b[0;34m,\u001b[0m\u001b[0;34m\u001b[0m\u001b[0m\n\u001b[0;32m-> 1302\u001b[0;31m                                    status, run_metadata)\n\u001b[0m\u001b[1;32m   1303\u001b[0m \u001b[0;34m\u001b[0m\u001b[0m\n\u001b[1;32m   1304\u001b[0m     \u001b[0;32mdef\u001b[0m \u001b[0m_prun_fn\u001b[0m\u001b[0;34m(\u001b[0m\u001b[0msession\u001b[0m\u001b[0;34m,\u001b[0m \u001b[0mhandle\u001b[0m\u001b[0;34m,\u001b[0m \u001b[0mfeed_dict\u001b[0m\u001b[0;34m,\u001b[0m \u001b[0mfetch_list\u001b[0m\u001b[0;34m)\u001b[0m\u001b[0;34m:\u001b[0m\u001b[0;34m\u001b[0m\u001b[0m\n",
      "\u001b[0;31mKeyboardInterrupt\u001b[0m: "
     ]
    }
   ],
   "source": [
    "fnn_accuracies = list()\n",
    "viterbi_accuracies = list()\n",
    "for path in data_paths:\n",
    "    k = get_param_from_filename(path, \"k\")\n",
    "    e = get_param_from_filename(path, \"e\")\n",
    "    \n",
    "    if e != 0.05:\n",
    "        continue\n",
    "    \n",
    "    train, test, original = build_data_from_path(path)\n",
    "    \n",
    "    X_train, y_train = train\n",
    "    X_test, y_test = test\n",
    "    X, y, y_oh, y_viterbi_decoded = original\n",
    "    \n",
    "    # linear scaling on hidden units\n",
    "    architecture = np.array(run3_architecture)\n",
    "    \n",
    "#     if k % 25 == 0:\n",
    "#         run3_architecture = run3_architecture[:1] + run3_architecture\n",
    "    \n",
    "    if k > 10:\n",
    "        architecture = (architecture * k // 10).astype(\"int\")\n",
    "\n",
    "    \n",
    "    avg_acc = 0\n",
    "        \n",
    "    for _ in range(avg_N):\n",
    "        model = build_fnn(input_shape=X_train.shape[1:], \n",
    "                          output_shape=y_train.shape[1:], \n",
    "                          architecture=architecture, \n",
    "                          param=run3_fnn_param)\n",
    "\n",
    "        model = train_fnn(model, X_train, y_train, \n",
    "                          param=run3_fnn_param, shuffle=True)\n",
    "\n",
    "        avg_acc += model_accuracy(model, X_test, y_test)\n",
    "    \n",
    "    avg_acc = avg_acc / avg_N\n",
    "    viterbi_acc = accuracy(y, y_viterbi_decoded, viterbi=True)\n",
    "    \n",
    "    fnn_accuracies.append(avg_acc)\n",
    "    viterbi_accuracies.append(viterbi_acc)\n",
    "    \n",
    "    print(\"k: {0}, model acc: {1:.4f}, viterbi acc: {2:.4f}\".format(k, avg_acc, viterbi_acc))"
   ]
  },
  {
   "cell_type": "code",
   "execution_count": 253,
   "metadata": {},
   "outputs": [
    {
     "data": {
      "text/plain": [
       "array([  5.,  10.,  15.,  20.,  25.,  30.,  35.,  40.,  45.,  50.,  55.,\n",
       "        65.,  75.,  85.,  95., 105., 115., 125., 135., 145., 155., 165.,\n",
       "       175., 185., 195.])"
      ]
     },
     "execution_count": 253,
     "metadata": {},
     "output_type": "execute_result"
    }
   ],
   "source": [
    "ks"
   ]
  },
  {
   "cell_type": "markdown",
   "metadata": {},
   "source": [
    "k = 5 ... 20: [512, 256, 100]\n"
   ]
  },
  {
   "cell_type": "code",
   "execution_count": 34,
   "metadata": {},
   "outputs": [
    {
     "name": "stdout",
     "output_type": "stream",
     "text": [
      "Train on 16000 samples, validate on 4000 samples\n",
      "Epoch 1/50\n",
      " - 94s - loss: 2.1536 - acc: 0.5024 - val_loss: 1.9388 - val_acc: 0.5051\n",
      "Epoch 2/50\n"
     ]
    },
    {
     "ename": "KeyboardInterrupt",
     "evalue": "",
     "output_type": "error",
     "traceback": [
      "\u001b[0;31m---------------------------------------------------------------------------\u001b[0m",
      "\u001b[0;31mKeyboardInterrupt\u001b[0m                         Traceback (most recent call last)",
      "\u001b[0;32m<ipython-input-34-4798f071ba75>\u001b[0m in \u001b[0;36m<module>\u001b[0;34m()\u001b[0m\n\u001b[1;32m     28\u001b[0m \u001b[0;34m\u001b[0m\u001b[0m\n\u001b[1;32m     29\u001b[0m model = train_fnn(model, X_train, y_train, \n\u001b[0;32m---> 30\u001b[0;31m                   param=run2_fnn_param3, shuffle=True)\n\u001b[0m",
      "\u001b[0;32m<ipython-input-19-c1758576b9e0>\u001b[0m in \u001b[0;36mtrain_fnn\u001b[0;34m(model, x, y, param, shuffle)\u001b[0m\n\u001b[1;32m      1\u001b[0m \u001b[0;32mdef\u001b[0m \u001b[0mtrain_fnn\u001b[0m\u001b[0;34m(\u001b[0m\u001b[0mmodel\u001b[0m\u001b[0;34m,\u001b[0m \u001b[0mx\u001b[0m\u001b[0;34m,\u001b[0m \u001b[0my\u001b[0m\u001b[0;34m,\u001b[0m \u001b[0mparam\u001b[0m\u001b[0;34m=\u001b[0m\u001b[0mdefault_fnn_param\u001b[0m\u001b[0;34m,\u001b[0m \u001b[0mshuffle\u001b[0m\u001b[0;34m=\u001b[0m\u001b[0;32mTrue\u001b[0m\u001b[0;34m)\u001b[0m\u001b[0;34m:\u001b[0m\u001b[0;34m\u001b[0m\u001b[0m\n\u001b[1;32m      2\u001b[0m     model.fit(x, y, batch_size=param[\"batch_size\"], epochs=param[\"epoch\"], shuffle=shuffle,\n\u001b[0;32m----> 3\u001b[0;31m               verbose=param[\"verbose\"], validation_split=param[\"validation_ratio\"])\n\u001b[0m\u001b[1;32m      4\u001b[0m     \u001b[0;32mreturn\u001b[0m \u001b[0mmodel\u001b[0m\u001b[0;34m\u001b[0m\u001b[0m\n",
      "\u001b[0;32m/Users/michael-tu/anaconda/lib/python3.6/site-packages/keras/models.py\u001b[0m in \u001b[0;36mfit\u001b[0;34m(self, x, y, batch_size, epochs, verbose, callbacks, validation_split, validation_data, shuffle, class_weight, sample_weight, initial_epoch, steps_per_epoch, validation_steps, **kwargs)\u001b[0m\n\u001b[1;32m    963\u001b[0m                               \u001b[0minitial_epoch\u001b[0m\u001b[0;34m=\u001b[0m\u001b[0minitial_epoch\u001b[0m\u001b[0;34m,\u001b[0m\u001b[0;34m\u001b[0m\u001b[0m\n\u001b[1;32m    964\u001b[0m                               \u001b[0msteps_per_epoch\u001b[0m\u001b[0;34m=\u001b[0m\u001b[0msteps_per_epoch\u001b[0m\u001b[0;34m,\u001b[0m\u001b[0;34m\u001b[0m\u001b[0m\n\u001b[0;32m--> 965\u001b[0;31m                               validation_steps=validation_steps)\n\u001b[0m\u001b[1;32m    966\u001b[0m \u001b[0;34m\u001b[0m\u001b[0m\n\u001b[1;32m    967\u001b[0m     def evaluate(self, x=None, y=None,\n",
      "\u001b[0;32m/Users/michael-tu/anaconda/lib/python3.6/site-packages/keras/engine/training.py\u001b[0m in \u001b[0;36mfit\u001b[0;34m(self, x, y, batch_size, epochs, verbose, callbacks, validation_split, validation_data, shuffle, class_weight, sample_weight, initial_epoch, steps_per_epoch, validation_steps, **kwargs)\u001b[0m\n\u001b[1;32m   1667\u001b[0m                               \u001b[0minitial_epoch\u001b[0m\u001b[0;34m=\u001b[0m\u001b[0minitial_epoch\u001b[0m\u001b[0;34m,\u001b[0m\u001b[0;34m\u001b[0m\u001b[0m\n\u001b[1;32m   1668\u001b[0m                               \u001b[0msteps_per_epoch\u001b[0m\u001b[0;34m=\u001b[0m\u001b[0msteps_per_epoch\u001b[0m\u001b[0;34m,\u001b[0m\u001b[0;34m\u001b[0m\u001b[0m\n\u001b[0;32m-> 1669\u001b[0;31m                               validation_steps=validation_steps)\n\u001b[0m\u001b[1;32m   1670\u001b[0m \u001b[0;34m\u001b[0m\u001b[0m\n\u001b[1;32m   1671\u001b[0m     def evaluate(self, x=None, y=None,\n",
      "\u001b[0;32m/Users/michael-tu/anaconda/lib/python3.6/site-packages/keras/engine/training.py\u001b[0m in \u001b[0;36m_fit_loop\u001b[0;34m(self, f, ins, out_labels, batch_size, epochs, verbose, callbacks, val_f, val_ins, shuffle, callback_metrics, initial_epoch, steps_per_epoch, validation_steps)\u001b[0m\n\u001b[1;32m   1204\u001b[0m                         \u001b[0mins_batch\u001b[0m\u001b[0;34m[\u001b[0m\u001b[0mi\u001b[0m\u001b[0;34m]\u001b[0m \u001b[0;34m=\u001b[0m \u001b[0mins_batch\u001b[0m\u001b[0;34m[\u001b[0m\u001b[0mi\u001b[0m\u001b[0;34m]\u001b[0m\u001b[0;34m.\u001b[0m\u001b[0mtoarray\u001b[0m\u001b[0;34m(\u001b[0m\u001b[0;34m)\u001b[0m\u001b[0;34m\u001b[0m\u001b[0m\n\u001b[1;32m   1205\u001b[0m \u001b[0;34m\u001b[0m\u001b[0m\n\u001b[0;32m-> 1206\u001b[0;31m                     \u001b[0mouts\u001b[0m \u001b[0;34m=\u001b[0m \u001b[0mf\u001b[0m\u001b[0;34m(\u001b[0m\u001b[0mins_batch\u001b[0m\u001b[0;34m)\u001b[0m\u001b[0;34m\u001b[0m\u001b[0m\n\u001b[0m\u001b[1;32m   1207\u001b[0m                     \u001b[0;32mif\u001b[0m \u001b[0;32mnot\u001b[0m \u001b[0misinstance\u001b[0m\u001b[0;34m(\u001b[0m\u001b[0mouts\u001b[0m\u001b[0;34m,\u001b[0m \u001b[0mlist\u001b[0m\u001b[0;34m)\u001b[0m\u001b[0;34m:\u001b[0m\u001b[0;34m\u001b[0m\u001b[0m\n\u001b[1;32m   1208\u001b[0m                         \u001b[0mouts\u001b[0m \u001b[0;34m=\u001b[0m \u001b[0;34m[\u001b[0m\u001b[0mouts\u001b[0m\u001b[0;34m]\u001b[0m\u001b[0;34m\u001b[0m\u001b[0m\n",
      "\u001b[0;32m/Users/michael-tu/anaconda/lib/python3.6/site-packages/keras/backend/tensorflow_backend.py\u001b[0m in \u001b[0;36m__call__\u001b[0;34m(self, inputs)\u001b[0m\n\u001b[1;32m   2473\u001b[0m         \u001b[0msession\u001b[0m \u001b[0;34m=\u001b[0m \u001b[0mget_session\u001b[0m\u001b[0;34m(\u001b[0m\u001b[0;34m)\u001b[0m\u001b[0;34m\u001b[0m\u001b[0m\n\u001b[1;32m   2474\u001b[0m         updated = session.run(fetches=fetches, feed_dict=feed_dict,\n\u001b[0;32m-> 2475\u001b[0;31m                               **self.session_kwargs)\n\u001b[0m\u001b[1;32m   2476\u001b[0m         \u001b[0;32mreturn\u001b[0m \u001b[0mupdated\u001b[0m\u001b[0;34m[\u001b[0m\u001b[0;34m:\u001b[0m\u001b[0mlen\u001b[0m\u001b[0;34m(\u001b[0m\u001b[0mself\u001b[0m\u001b[0;34m.\u001b[0m\u001b[0moutputs\u001b[0m\u001b[0;34m)\u001b[0m\u001b[0;34m]\u001b[0m\u001b[0;34m\u001b[0m\u001b[0m\n\u001b[1;32m   2477\u001b[0m \u001b[0;34m\u001b[0m\u001b[0m\n",
      "\u001b[0;32m/Users/michael-tu/anaconda/lib/python3.6/site-packages/tensorflow/python/client/session.py\u001b[0m in \u001b[0;36mrun\u001b[0;34m(self, fetches, feed_dict, options, run_metadata)\u001b[0m\n\u001b[1;32m    887\u001b[0m     \u001b[0;32mtry\u001b[0m\u001b[0;34m:\u001b[0m\u001b[0;34m\u001b[0m\u001b[0m\n\u001b[1;32m    888\u001b[0m       result = self._run(None, fetches, feed_dict, options_ptr,\n\u001b[0;32m--> 889\u001b[0;31m                          run_metadata_ptr)\n\u001b[0m\u001b[1;32m    890\u001b[0m       \u001b[0;32mif\u001b[0m \u001b[0mrun_metadata\u001b[0m\u001b[0;34m:\u001b[0m\u001b[0;34m\u001b[0m\u001b[0m\n\u001b[1;32m    891\u001b[0m         \u001b[0mproto_data\u001b[0m \u001b[0;34m=\u001b[0m \u001b[0mtf_session\u001b[0m\u001b[0;34m.\u001b[0m\u001b[0mTF_GetBuffer\u001b[0m\u001b[0;34m(\u001b[0m\u001b[0mrun_metadata_ptr\u001b[0m\u001b[0;34m)\u001b[0m\u001b[0;34m\u001b[0m\u001b[0m\n",
      "\u001b[0;31mKeyboardInterrupt\u001b[0m: "
     ]
    }
   ],
   "source": [
    "chosen_model_arch = (np.array([512, 256, 200]) * 10).astype(\"int\")\n",
    "\n",
    "run2_fnn_param3 = {\n",
    "    \"batch_size\": 512,\n",
    "    \"epoch\": 50,\n",
    "    \"verbose\": 2,\n",
    "    \"validation_ratio\": 0.2,\n",
    "    \"activation\": \"relu\",\n",
    "    \"l2_strength\": 0.0001,\n",
    "    \"learing_rate\": 0.0001,\n",
    "    \"optimizer\": \"adam\",\n",
    "    \"metrics\": [\"accuracy\"],\n",
    "    \"loss_fn\": \"binary_crossentropy\"\n",
    "}\n",
    "k = 145\n",
    "\n",
    "path = \"../data/dataset_04/data/dataset_n25000_k{0}_e0.05.pkl\"\n",
    "train, test, original = build_data_from_path(path.format(k))\n",
    "    \n",
    "X_train, y_train = train\n",
    "X_test, y_test = test\n",
    "X, y, y_oh, y_viterbi_decoded = original\n",
    "\n",
    "model = build_fnn(input_shape=X_train.shape[1:], \n",
    "                  output_shape=y_train.shape[1:], \n",
    "                  architecture=chosen_model_arch, \n",
    "                  param=run2_fnn_param3)\n",
    "\n",
    "model = train_fnn(model, X_train, y_train, \n",
    "                  param=run2_fnn_param3, shuffle=True)"
   ]
  },
  {
   "cell_type": "code",
   "execution_count": 283,
   "metadata": {},
   "outputs": [
    {
     "name": "stdout",
     "output_type": "stream",
     "text": [
      "test accuracy: 0.9112900004386902\n",
      "\n",
      "############## Example 0 ##############\n",
      "Expected:\n",
      " [1 1 1 0 1 0 0 1 1 1 0 0 0 1 0 0 1 0 0 0 0 0 0 1 0 1 1 0 0 1 0 0 0 1 1 0 1\n",
      " 1 0 0]\n",
      "Actual:\n",
      " [1 1 1 0 0 0 0 1 1 1 0 0 0 1 0 0 1 0 0 1 0 0 0 1 0 1 1 0 0 1 0 0 1 1 1 0 1\n",
      " 1 0 0]\n",
      "\n",
      "############## Example 1 ##############\n",
      "Expected:\n",
      " [0 1 0 0 0 0 1 1 1 1 1 1 0 1 0 1 0 0 1 0 0 1 1 0 1 0 0 0 1 1 1 1 0 0 0 0 1\n",
      " 1 0 1]\n",
      "Actual:\n",
      " [0 1 0 0 0 0 1 1 1 1 1 1 0 1 1 1 0 0 1 0 1 1 1 0 1 0 0 0 1 0 1 1 0 0 0 0 1\n",
      " 1 0 1]\n",
      "\n",
      "############## Example 2 ##############\n",
      "Expected:\n",
      " [0 1 0 1 1 1 0 0 0 1 1 0 0 0 0 0 1 1 1 1 1 1 1 0 0 1 1 1 1 1 1 0 1 0 1 0 1\n",
      " 0 0 0]\n",
      "Actual:\n",
      " [0 1 0 1 1 1 0 0 0 1 1 0 0 0 0 0 1 1 1 1 1 1 1 0 0 1 1 1 1 1 1 0 1 0 1 0 1\n",
      " 0 0 0]\n"
     ]
    }
   ],
   "source": [
    "acc = model_accuracy(model, X_test, y_test)\n",
    "print(\"test accuracy:\", acc)\n",
    "pred_vs_truth(model, X_test, y_test, n_show=3, y_truth_is_onehot=True)"
   ]
  },
  {
   "cell_type": "code",
   "execution_count": null,
   "metadata": {
    "collapsed": true
   },
   "outputs": [],
   "source": [
    "# plt.title(\"Accuracy vs. {0}\".format(variable_desc[\"k\"]))\n",
    "\n",
    "# plt.xlabel(\"{0}\".format(variable_desc[\"k\"]))\n",
    "# plt.ylabel(\"Decoding Accuracy\")\n",
    "\n",
    "# plt.plot(ks, viterbi_accuracies, \"green\", label=\"Viterbi Decoding\")\n",
    "# plt.plot(ks, fnn_accuracies, \"orange\", label=\"FNN Model\")\n",
    "\n",
    "# plt.legend()"
   ]
  },
  {
   "cell_type": "markdown",
   "metadata": {
    "collapsed": true
   },
   "source": [
    "## Run 4"
   ]
  },
  {
   "cell_type": "code",
   "execution_count": 129,
   "metadata": {},
   "outputs": [
    {
     "name": "stdout",
     "output_type": "stream",
     "text": [
      "[  5.  10.  15.  20.  25.  30.  35.  40.  45.  50.  55.  65.  75.  85.\n",
      "  95. 105. 115. 125. 135. 145. 155. 165. 175. 185. 195.]\n"
     ]
    }
   ],
   "source": [
    "print(np.sort(ks))"
   ]
  },
  {
   "cell_type": "code",
   "execution_count": null,
   "metadata": {
    "collapsed": true
   },
   "outputs": [],
   "source": [
    "run4_cnn_param = {\n",
    "    \"batch_size\": 512,\n",
    "    \"epoch\": 20,\n",
    "    \"verbose\": 2,\n",
    "    \"validation_ratio\": 0.2,\n",
    "    \"activation\": \"relu\",\n",
    "    \"dropout_keep_prob\": 0.5,\n",
    "    \"learing_rate\": 0.005,\n",
    "    \"optimizer\": \"adam\",\n",
    "    \"conv_padding\": \"same\",\n",
    "    \"metrics\": [\"accuracy\"],\n",
    "    \"loss_fn\": \"binary_crossentropy\"\n",
    "}"
   ]
  },
  {
   "cell_type": "code",
   "execution_count": 270,
   "metadata": {
    "collapsed": true
   },
   "outputs": [],
   "source": [
    "run4_cnn_architecture = [\n",
    "    (\"conv1d\", dict(f=60,k=3,s=1)),\n",
    "    (\"conv1d\", dict(f=60,k=3,s=1)),\n",
    "    (\"conv1d\", dict(f=60,k=3,s=1)),\n",
    "    (\"conv1d\", dict(f=60,k=3,s=1)),\n",
    "    (\"flatten\", None),\n",
    "    (\"dense\", 512),\n",
    "    (\"dropout\", None),\n",
    "    (\"dense\", 256)\n",
    "]"
   ]
  },
  {
   "cell_type": "code",
   "execution_count": 271,
   "metadata": {},
   "outputs": [
    {
     "data": {
      "text/plain": [
       "(25000, 44)"
      ]
     },
     "execution_count": 271,
     "metadata": {},
     "output_type": "execute_result"
    }
   ],
   "source": [
    "load(path.format(20))[0].shape"
   ]
  },
  {
   "cell_type": "code",
   "execution_count": 272,
   "metadata": {
    "collapsed": true
   },
   "outputs": [],
   "source": [
    "k = 20\n",
    "path = \"../data/dataset_04/data/dataset_n25000_k{0}_e0.05.pkl\"\n",
    "train, test, original = build_data_from_path(path.format(k), X_reshape=(-1, 11, 4))\n",
    "    \n",
    "X_train, y_train = train\n",
    "X_test, y_test = test\n",
    "X, y, y_oh, y_viterbi_decoded = original"
   ]
  },
  {
   "cell_type": "code",
   "execution_count": 273,
   "metadata": {
    "collapsed": true
   },
   "outputs": [],
   "source": [
    "model = build_cnn(input_shape=X_train.shape[1:], \n",
    "                  output_shape=y_train.shape[1:], \n",
    "                  architecture=run4_cnn_architecture, \n",
    "                  param=run4_cnn_param)"
   ]
  },
  {
   "cell_type": "code",
   "execution_count": 274,
   "metadata": {},
   "outputs": [
    {
     "name": "stdout",
     "output_type": "stream",
     "text": [
      "Train on 16000 samples, validate on 4000 samples\n",
      "Epoch 1/35\n",
      " - 4s - loss: 0.6038 - acc: 0.6132 - val_loss: 0.3985 - val_acc: 0.8160\n",
      "Epoch 2/35\n",
      " - 2s - loss: 0.2673 - acc: 0.8889 - val_loss: 0.1226 - val_acc: 0.9547\n",
      "Epoch 3/35\n",
      " - 2s - loss: 0.1471 - acc: 0.9456 - val_loss: 0.0920 - val_acc: 0.9670\n",
      "Epoch 4/35\n",
      " - 1s - loss: 0.1151 - acc: 0.9585 - val_loss: 0.0786 - val_acc: 0.9721\n",
      "Epoch 5/35\n",
      " - 1s - loss: 0.0991 - acc: 0.9643 - val_loss: 0.0724 - val_acc: 0.9741\n",
      "Epoch 6/35\n",
      " - 2s - loss: 0.0883 - acc: 0.9682 - val_loss: 0.0651 - val_acc: 0.9769\n",
      "Epoch 7/35\n",
      " - 2s - loss: 0.0781 - acc: 0.9719 - val_loss: 0.0627 - val_acc: 0.9779\n",
      "Epoch 8/35\n",
      " - 1s - loss: 0.0712 - acc: 0.9745 - val_loss: 0.0586 - val_acc: 0.9791\n",
      "Epoch 9/35\n",
      " - 2s - loss: 0.0670 - acc: 0.9761 - val_loss: 0.0582 - val_acc: 0.9800\n",
      "Epoch 10/35\n",
      " - 2s - loss: 0.0608 - acc: 0.9782 - val_loss: 0.0558 - val_acc: 0.9807\n",
      "Epoch 11/35\n",
      " - 2s - loss: 0.0556 - acc: 0.9801 - val_loss: 0.0560 - val_acc: 0.9814\n",
      "Epoch 12/35\n",
      " - 2s - loss: 0.0518 - acc: 0.9812 - val_loss: 0.0573 - val_acc: 0.9814\n",
      "Epoch 13/35\n",
      " - 2s - loss: 0.0500 - acc: 0.9821 - val_loss: 0.0557 - val_acc: 0.9822\n",
      "Epoch 14/35\n",
      " - 2s - loss: 0.0466 - acc: 0.9833 - val_loss: 0.0565 - val_acc: 0.9824\n",
      "Epoch 15/35\n",
      " - 2s - loss: 0.0441 - acc: 0.9839 - val_loss: 0.0541 - val_acc: 0.9831\n",
      "Epoch 16/35\n",
      " - 1s - loss: 0.0399 - acc: 0.9857 - val_loss: 0.0549 - val_acc: 0.9825\n",
      "Epoch 17/35\n",
      " - 2s - loss: 0.0384 - acc: 0.9862 - val_loss: 0.0569 - val_acc: 0.9828\n",
      "Epoch 18/35\n",
      " - 2s - loss: 0.0360 - acc: 0.9869 - val_loss: 0.0580 - val_acc: 0.9833\n",
      "Epoch 19/35\n",
      " - 1s - loss: 0.0343 - acc: 0.9874 - val_loss: 0.0595 - val_acc: 0.9832\n",
      "Epoch 20/35\n",
      " - 1s - loss: 0.0330 - acc: 0.9880 - val_loss: 0.0612 - val_acc: 0.9832\n",
      "Epoch 21/35\n",
      " - 2s - loss: 0.0323 - acc: 0.9881 - val_loss: 0.0601 - val_acc: 0.9832\n",
      "Epoch 22/35\n",
      " - 2s - loss: 0.0315 - acc: 0.9887 - val_loss: 0.0613 - val_acc: 0.9831\n",
      "Epoch 23/35\n"
     ]
    },
    {
     "ename": "KeyboardInterrupt",
     "evalue": "",
     "output_type": "error",
     "traceback": [
      "\u001b[0;31m---------------------------------------------------------------------------\u001b[0m",
      "\u001b[0;31mKeyboardInterrupt\u001b[0m                         Traceback (most recent call last)",
      "\u001b[0;32m<ipython-input-274-53a31b0b699f>\u001b[0m in \u001b[0;36m<module>\u001b[0;34m()\u001b[0m\n\u001b[1;32m      1\u001b[0m model = train_cnn(model, X_train, y_train, \n\u001b[0;32m----> 2\u001b[0;31m                   param=run4_cnn_param, shuffle=True)\n\u001b[0m",
      "\u001b[0;32m<ipython-input-21-72a37b18e080>\u001b[0m in \u001b[0;36mtrain_cnn\u001b[0;34m(model, x, y, param, shuffle)\u001b[0m\n\u001b[1;32m      1\u001b[0m \u001b[0;32mdef\u001b[0m \u001b[0mtrain_cnn\u001b[0m\u001b[0;34m(\u001b[0m\u001b[0mmodel\u001b[0m\u001b[0;34m,\u001b[0m \u001b[0mx\u001b[0m\u001b[0;34m,\u001b[0m \u001b[0my\u001b[0m\u001b[0;34m,\u001b[0m \u001b[0mparam\u001b[0m\u001b[0;34m=\u001b[0m\u001b[0mdefault_fnn_param\u001b[0m\u001b[0;34m,\u001b[0m \u001b[0mshuffle\u001b[0m\u001b[0;34m=\u001b[0m\u001b[0;32mTrue\u001b[0m\u001b[0;34m)\u001b[0m\u001b[0;34m:\u001b[0m\u001b[0;34m\u001b[0m\u001b[0m\n\u001b[1;32m      2\u001b[0m     model.fit(x, y, batch_size=param[\"batch_size\"], epochs=param[\"epoch\"], shuffle=shuffle,\n\u001b[0;32m----> 3\u001b[0;31m               verbose=param[\"verbose\"], validation_split=param[\"validation_ratio\"])\n\u001b[0m\u001b[1;32m      4\u001b[0m     \u001b[0;32mreturn\u001b[0m \u001b[0mmodel\u001b[0m\u001b[0;34m\u001b[0m\u001b[0m\n",
      "\u001b[0;32m/Users/michael-tu/anaconda/lib/python3.6/site-packages/keras/models.py\u001b[0m in \u001b[0;36mfit\u001b[0;34m(self, x, y, batch_size, epochs, verbose, callbacks, validation_split, validation_data, shuffle, class_weight, sample_weight, initial_epoch, steps_per_epoch, validation_steps, **kwargs)\u001b[0m\n\u001b[1;32m    963\u001b[0m                               \u001b[0minitial_epoch\u001b[0m\u001b[0;34m=\u001b[0m\u001b[0minitial_epoch\u001b[0m\u001b[0;34m,\u001b[0m\u001b[0;34m\u001b[0m\u001b[0m\n\u001b[1;32m    964\u001b[0m                               \u001b[0msteps_per_epoch\u001b[0m\u001b[0;34m=\u001b[0m\u001b[0msteps_per_epoch\u001b[0m\u001b[0;34m,\u001b[0m\u001b[0;34m\u001b[0m\u001b[0m\n\u001b[0;32m--> 965\u001b[0;31m                               validation_steps=validation_steps)\n\u001b[0m\u001b[1;32m    966\u001b[0m \u001b[0;34m\u001b[0m\u001b[0m\n\u001b[1;32m    967\u001b[0m     def evaluate(self, x=None, y=None,\n",
      "\u001b[0;32m/Users/michael-tu/anaconda/lib/python3.6/site-packages/keras/engine/training.py\u001b[0m in \u001b[0;36mfit\u001b[0;34m(self, x, y, batch_size, epochs, verbose, callbacks, validation_split, validation_data, shuffle, class_weight, sample_weight, initial_epoch, steps_per_epoch, validation_steps, **kwargs)\u001b[0m\n\u001b[1;32m   1667\u001b[0m                               \u001b[0minitial_epoch\u001b[0m\u001b[0;34m=\u001b[0m\u001b[0minitial_epoch\u001b[0m\u001b[0;34m,\u001b[0m\u001b[0;34m\u001b[0m\u001b[0m\n\u001b[1;32m   1668\u001b[0m                               \u001b[0msteps_per_epoch\u001b[0m\u001b[0;34m=\u001b[0m\u001b[0msteps_per_epoch\u001b[0m\u001b[0;34m,\u001b[0m\u001b[0;34m\u001b[0m\u001b[0m\n\u001b[0;32m-> 1669\u001b[0;31m                               validation_steps=validation_steps)\n\u001b[0m\u001b[1;32m   1670\u001b[0m \u001b[0;34m\u001b[0m\u001b[0m\n\u001b[1;32m   1671\u001b[0m     def evaluate(self, x=None, y=None,\n",
      "\u001b[0;32m/Users/michael-tu/anaconda/lib/python3.6/site-packages/keras/engine/training.py\u001b[0m in \u001b[0;36m_fit_loop\u001b[0;34m(self, f, ins, out_labels, batch_size, epochs, verbose, callbacks, val_f, val_ins, shuffle, callback_metrics, initial_epoch, steps_per_epoch, validation_steps)\u001b[0m\n\u001b[1;32m   1204\u001b[0m                         \u001b[0mins_batch\u001b[0m\u001b[0;34m[\u001b[0m\u001b[0mi\u001b[0m\u001b[0;34m]\u001b[0m \u001b[0;34m=\u001b[0m \u001b[0mins_batch\u001b[0m\u001b[0;34m[\u001b[0m\u001b[0mi\u001b[0m\u001b[0;34m]\u001b[0m\u001b[0;34m.\u001b[0m\u001b[0mtoarray\u001b[0m\u001b[0;34m(\u001b[0m\u001b[0;34m)\u001b[0m\u001b[0;34m\u001b[0m\u001b[0m\n\u001b[1;32m   1205\u001b[0m \u001b[0;34m\u001b[0m\u001b[0m\n\u001b[0;32m-> 1206\u001b[0;31m                     \u001b[0mouts\u001b[0m \u001b[0;34m=\u001b[0m \u001b[0mf\u001b[0m\u001b[0;34m(\u001b[0m\u001b[0mins_batch\u001b[0m\u001b[0;34m)\u001b[0m\u001b[0;34m\u001b[0m\u001b[0m\n\u001b[0m\u001b[1;32m   1207\u001b[0m                     \u001b[0;32mif\u001b[0m \u001b[0;32mnot\u001b[0m \u001b[0misinstance\u001b[0m\u001b[0;34m(\u001b[0m\u001b[0mouts\u001b[0m\u001b[0;34m,\u001b[0m \u001b[0mlist\u001b[0m\u001b[0;34m)\u001b[0m\u001b[0;34m:\u001b[0m\u001b[0;34m\u001b[0m\u001b[0m\n\u001b[1;32m   1208\u001b[0m                         \u001b[0mouts\u001b[0m \u001b[0;34m=\u001b[0m \u001b[0;34m[\u001b[0m\u001b[0mouts\u001b[0m\u001b[0;34m]\u001b[0m\u001b[0;34m\u001b[0m\u001b[0m\n",
      "\u001b[0;32m/Users/michael-tu/anaconda/lib/python3.6/site-packages/keras/backend/tensorflow_backend.py\u001b[0m in \u001b[0;36m__call__\u001b[0;34m(self, inputs)\u001b[0m\n\u001b[1;32m   2473\u001b[0m         \u001b[0msession\u001b[0m \u001b[0;34m=\u001b[0m \u001b[0mget_session\u001b[0m\u001b[0;34m(\u001b[0m\u001b[0;34m)\u001b[0m\u001b[0;34m\u001b[0m\u001b[0m\n\u001b[1;32m   2474\u001b[0m         updated = session.run(fetches=fetches, feed_dict=feed_dict,\n\u001b[0;32m-> 2475\u001b[0;31m                               **self.session_kwargs)\n\u001b[0m\u001b[1;32m   2476\u001b[0m         \u001b[0;32mreturn\u001b[0m \u001b[0mupdated\u001b[0m\u001b[0;34m[\u001b[0m\u001b[0;34m:\u001b[0m\u001b[0mlen\u001b[0m\u001b[0;34m(\u001b[0m\u001b[0mself\u001b[0m\u001b[0;34m.\u001b[0m\u001b[0moutputs\u001b[0m\u001b[0;34m)\u001b[0m\u001b[0;34m]\u001b[0m\u001b[0;34m\u001b[0m\u001b[0m\n\u001b[1;32m   2477\u001b[0m \u001b[0;34m\u001b[0m\u001b[0m\n",
      "\u001b[0;32m/Users/michael-tu/anaconda/lib/python3.6/site-packages/tensorflow/python/client/session.py\u001b[0m in \u001b[0;36mrun\u001b[0;34m(self, fetches, feed_dict, options, run_metadata)\u001b[0m\n\u001b[1;32m    887\u001b[0m     \u001b[0;32mtry\u001b[0m\u001b[0;34m:\u001b[0m\u001b[0;34m\u001b[0m\u001b[0m\n\u001b[1;32m    888\u001b[0m       result = self._run(None, fetches, feed_dict, options_ptr,\n\u001b[0;32m--> 889\u001b[0;31m                          run_metadata_ptr)\n\u001b[0m\u001b[1;32m    890\u001b[0m       \u001b[0;32mif\u001b[0m \u001b[0mrun_metadata\u001b[0m\u001b[0;34m:\u001b[0m\u001b[0;34m\u001b[0m\u001b[0m\n\u001b[1;32m    891\u001b[0m         \u001b[0mproto_data\u001b[0m \u001b[0;34m=\u001b[0m \u001b[0mtf_session\u001b[0m\u001b[0;34m.\u001b[0m\u001b[0mTF_GetBuffer\u001b[0m\u001b[0;34m(\u001b[0m\u001b[0mrun_metadata_ptr\u001b[0m\u001b[0;34m)\u001b[0m\u001b[0;34m\u001b[0m\u001b[0m\n",
      "\u001b[0;32m/Users/michael-tu/anaconda/lib/python3.6/site-packages/tensorflow/python/client/session.py\u001b[0m in \u001b[0;36m_run\u001b[0;34m(self, handle, fetches, feed_dict, options, run_metadata)\u001b[0m\n\u001b[1;32m   1118\u001b[0m     \u001b[0;32mif\u001b[0m \u001b[0mfinal_fetches\u001b[0m \u001b[0;32mor\u001b[0m \u001b[0mfinal_targets\u001b[0m \u001b[0;32mor\u001b[0m \u001b[0;34m(\u001b[0m\u001b[0mhandle\u001b[0m \u001b[0;32mand\u001b[0m \u001b[0mfeed_dict_tensor\u001b[0m\u001b[0;34m)\u001b[0m\u001b[0;34m:\u001b[0m\u001b[0;34m\u001b[0m\u001b[0m\n\u001b[1;32m   1119\u001b[0m       results = self._do_run(handle, final_targets, final_fetches,\n\u001b[0;32m-> 1120\u001b[0;31m                              feed_dict_tensor, options, run_metadata)\n\u001b[0m\u001b[1;32m   1121\u001b[0m     \u001b[0;32melse\u001b[0m\u001b[0;34m:\u001b[0m\u001b[0;34m\u001b[0m\u001b[0m\n\u001b[1;32m   1122\u001b[0m       \u001b[0mresults\u001b[0m \u001b[0;34m=\u001b[0m \u001b[0;34m[\u001b[0m\u001b[0;34m]\u001b[0m\u001b[0;34m\u001b[0m\u001b[0m\n",
      "\u001b[0;32m/Users/michael-tu/anaconda/lib/python3.6/site-packages/tensorflow/python/client/session.py\u001b[0m in \u001b[0;36m_do_run\u001b[0;34m(self, handle, target_list, fetch_list, feed_dict, options, run_metadata)\u001b[0m\n\u001b[1;32m   1315\u001b[0m     \u001b[0;32mif\u001b[0m \u001b[0mhandle\u001b[0m \u001b[0;32mis\u001b[0m \u001b[0;32mNone\u001b[0m\u001b[0;34m:\u001b[0m\u001b[0;34m\u001b[0m\u001b[0m\n\u001b[1;32m   1316\u001b[0m       return self._do_call(_run_fn, self._session, feeds, fetches, targets,\n\u001b[0;32m-> 1317\u001b[0;31m                            options, run_metadata)\n\u001b[0m\u001b[1;32m   1318\u001b[0m     \u001b[0;32melse\u001b[0m\u001b[0;34m:\u001b[0m\u001b[0;34m\u001b[0m\u001b[0m\n\u001b[1;32m   1319\u001b[0m       \u001b[0;32mreturn\u001b[0m \u001b[0mself\u001b[0m\u001b[0;34m.\u001b[0m\u001b[0m_do_call\u001b[0m\u001b[0;34m(\u001b[0m\u001b[0m_prun_fn\u001b[0m\u001b[0;34m,\u001b[0m \u001b[0mself\u001b[0m\u001b[0;34m.\u001b[0m\u001b[0m_session\u001b[0m\u001b[0;34m,\u001b[0m \u001b[0mhandle\u001b[0m\u001b[0;34m,\u001b[0m \u001b[0mfeeds\u001b[0m\u001b[0;34m,\u001b[0m \u001b[0mfetches\u001b[0m\u001b[0;34m)\u001b[0m\u001b[0;34m\u001b[0m\u001b[0m\n",
      "\u001b[0;32m/Users/michael-tu/anaconda/lib/python3.6/site-packages/tensorflow/python/client/session.py\u001b[0m in \u001b[0;36m_do_call\u001b[0;34m(self, fn, *args)\u001b[0m\n\u001b[1;32m   1321\u001b[0m   \u001b[0;32mdef\u001b[0m \u001b[0m_do_call\u001b[0m\u001b[0;34m(\u001b[0m\u001b[0mself\u001b[0m\u001b[0;34m,\u001b[0m \u001b[0mfn\u001b[0m\u001b[0;34m,\u001b[0m \u001b[0;34m*\u001b[0m\u001b[0margs\u001b[0m\u001b[0;34m)\u001b[0m\u001b[0;34m:\u001b[0m\u001b[0;34m\u001b[0m\u001b[0m\n\u001b[1;32m   1322\u001b[0m     \u001b[0;32mtry\u001b[0m\u001b[0;34m:\u001b[0m\u001b[0;34m\u001b[0m\u001b[0m\n\u001b[0;32m-> 1323\u001b[0;31m       \u001b[0;32mreturn\u001b[0m \u001b[0mfn\u001b[0m\u001b[0;34m(\u001b[0m\u001b[0;34m*\u001b[0m\u001b[0margs\u001b[0m\u001b[0;34m)\u001b[0m\u001b[0;34m\u001b[0m\u001b[0m\n\u001b[0m\u001b[1;32m   1324\u001b[0m     \u001b[0;32mexcept\u001b[0m \u001b[0merrors\u001b[0m\u001b[0;34m.\u001b[0m\u001b[0mOpError\u001b[0m \u001b[0;32mas\u001b[0m \u001b[0me\u001b[0m\u001b[0;34m:\u001b[0m\u001b[0;34m\u001b[0m\u001b[0m\n\u001b[1;32m   1325\u001b[0m       \u001b[0mmessage\u001b[0m \u001b[0;34m=\u001b[0m \u001b[0mcompat\u001b[0m\u001b[0;34m.\u001b[0m\u001b[0mas_text\u001b[0m\u001b[0;34m(\u001b[0m\u001b[0me\u001b[0m\u001b[0;34m.\u001b[0m\u001b[0mmessage\u001b[0m\u001b[0;34m)\u001b[0m\u001b[0;34m\u001b[0m\u001b[0m\n",
      "\u001b[0;32m/Users/michael-tu/anaconda/lib/python3.6/site-packages/tensorflow/python/client/session.py\u001b[0m in \u001b[0;36m_run_fn\u001b[0;34m(session, feed_dict, fetch_list, target_list, options, run_metadata)\u001b[0m\n\u001b[1;32m   1300\u001b[0m           return tf_session.TF_Run(session, options,\n\u001b[1;32m   1301\u001b[0m                                    \u001b[0mfeed_dict\u001b[0m\u001b[0;34m,\u001b[0m \u001b[0mfetch_list\u001b[0m\u001b[0;34m,\u001b[0m \u001b[0mtarget_list\u001b[0m\u001b[0;34m,\u001b[0m\u001b[0;34m\u001b[0m\u001b[0m\n\u001b[0;32m-> 1302\u001b[0;31m                                    status, run_metadata)\n\u001b[0m\u001b[1;32m   1303\u001b[0m \u001b[0;34m\u001b[0m\u001b[0m\n\u001b[1;32m   1304\u001b[0m     \u001b[0;32mdef\u001b[0m \u001b[0m_prun_fn\u001b[0m\u001b[0;34m(\u001b[0m\u001b[0msession\u001b[0m\u001b[0;34m,\u001b[0m \u001b[0mhandle\u001b[0m\u001b[0;34m,\u001b[0m \u001b[0mfeed_dict\u001b[0m\u001b[0;34m,\u001b[0m \u001b[0mfetch_list\u001b[0m\u001b[0;34m)\u001b[0m\u001b[0;34m:\u001b[0m\u001b[0;34m\u001b[0m\u001b[0m\n",
      "\u001b[0;31mKeyboardInterrupt\u001b[0m: "
     ]
    }
   ],
   "source": [
    "model = train_cnn(model, X_train, y_train, \n",
    "                  param=run4_cnn_param, shuffle=True)"
   ]
  },
  {
   "cell_type": "code",
   "execution_count": 275,
   "metadata": {},
   "outputs": [
    {
     "data": {
      "text/plain": [
       "0.9840500002861023"
      ]
     },
     "execution_count": 275,
     "metadata": {},
     "output_type": "execute_result"
    }
   ],
   "source": [
    "model_accuracy(model, X_test, y_test)"
   ]
  },
  {
   "cell_type": "code",
   "execution_count": 276,
   "metadata": {},
   "outputs": [
    {
     "name": "stdout",
     "output_type": "stream",
     "text": [
      "\n",
      "############## Example 0 ##############\n",
      "Expected:\n",
      " [0 1 1 0 0 1 1 1 0 0 1 1 0 0 1 0 1 1 1 1]\n",
      "Actual:\n",
      " [0 1 1 0 0 1 1 1 0 0 1 1 1 0 1 0 1 1 1 1]\n",
      "\n",
      "############## Example 1 ##############\n",
      "Expected:\n",
      " [0 0 1 1 1 1 0 0 0 0 1 1 0 1 1 0 1 1 1 1]\n",
      "Actual:\n",
      " [0 0 1 1 1 1 0 0 0 0 1 1 0 1 1 0 1 1 1 1]\n",
      "\n",
      "############## Example 2 ##############\n",
      "Expected:\n",
      " [0 0 0 1 1 0 0 0 0 0 0 0 1 0 1 0 0 1 1 1]\n",
      "Actual:\n",
      " [0 0 0 1 1 0 0 0 0 0 0 0 1 0 1 0 0 1 1 1]\n",
      "\n",
      "############## Example 3 ##############\n",
      "Expected:\n",
      " [0 0 0 0 1 0 1 1 1 0 1 0 0 1 0 0 0 0 0 1]\n",
      "Actual:\n",
      " [0 0 0 0 1 0 1 1 1 0 1 0 0 1 0 0 0 0 0 1]\n",
      "\n",
      "############## Example 4 ##############\n",
      "Expected:\n",
      " [1 1 0 0 0 1 1 0 0 1 1 1 1 0 0 1 1 0 0 0]\n",
      "Actual:\n",
      " [1 1 0 0 0 1 1 0 0 1 1 1 1 0 0 1 1 0 0 0]\n"
     ]
    }
   ],
   "source": [
    "pred_vs_truth(model, X_test, y_test, n_show=5, y_truth_is_onehot=True)"
   ]
  },
  {
   "cell_type": "code",
   "execution_count": 311,
   "metadata": {},
   "outputs": [
    {
     "data": {
      "image/png": "[encoded data removed]",
      "text/plain": [
       "<matplotlib.figure.Figure at 0x1951f02b0>"
      ]
     },
     "metadata": {},
     "output_type": "display_data"
    }
   ],
   "source": [
    "plot_acc(\"Training Accuracy of CNN Model (k=20)\",\n",
    "         [0.8160, 0.9547, 0.9670, 0.9721, 0.9741, 0.9769, 0.9779, 0.9791, 0.9800, 0.9807, 0.9814, 0.9814, 0.9822, 0.9824, 0.9831, 0.9825, 0.9828, 0.9833, 0.9832, 0.9832, 0.9832, 0.9831])"
   ]
  },
  {
   "cell_type": "code",
   "execution_count": 277,
   "metadata": {
    "collapsed": true
   },
   "outputs": [],
   "source": [
    "run4_cnn_architecture = [\n",
    "    (\"conv1d\", dict(f=120,k=3,s=1)),\n",
    "    (\"conv1d\", dict(f=120,k=3,s=1)),\n",
    "    (\"conv1d\", dict(f=120,k=3,s=1)),\n",
    "    (\"conv1d\", dict(f=120,k=3,s=1)),\n",
    "    (\"flatten\", None),\n",
    "    (\"dense\", 512),\n",
    "    (\"dropout\", None),\n",
    "    (\"dense\", 256)\n",
    "]"
   ]
  },
  {
   "cell_type": "code",
   "execution_count": 278,
   "metadata": {},
   "outputs": [
    {
     "data": {
      "text/plain": [
       "(25000, 84)"
      ]
     },
     "execution_count": 278,
     "metadata": {},
     "output_type": "execute_result"
    }
   ],
   "source": [
    "load(path.format(40))[0].shape"
   ]
  },
  {
   "cell_type": "code",
   "execution_count": 280,
   "metadata": {},
   "outputs": [
    {
     "name": "stdout",
     "output_type": "stream",
     "text": [
      "Train on 16000 samples, validate on 4000 samples\n",
      "Epoch 1/35\n",
      " - 8s - loss: 0.6801 - acc: 0.5251 - val_loss: 0.6276 - val_acc: 0.5975\n",
      "Epoch 2/35\n",
      " - 6s - loss: 0.5262 - acc: 0.7127 - val_loss: 0.3055 - val_acc: 0.8808\n",
      "Epoch 3/35\n",
      " - 7s - loss: 0.3069 - acc: 0.8700 - val_loss: 0.1441 - val_acc: 0.9528\n",
      "Epoch 4/35\n",
      " - 6s - loss: 0.2385 - acc: 0.9037 - val_loss: 0.1105 - val_acc: 0.9644\n",
      "Epoch 5/35\n",
      " - 6s - loss: 0.2136 - acc: 0.9149 - val_loss: 0.1096 - val_acc: 0.9656\n",
      "Epoch 6/35\n",
      " - 6s - loss: 0.1971 - acc: 0.9227 - val_loss: 0.0908 - val_acc: 0.9722\n",
      "Epoch 7/35\n",
      " - 7s - loss: 0.1842 - acc: 0.9282 - val_loss: 0.0858 - val_acc: 0.9731\n",
      "Epoch 8/35\n",
      " - 6s - loss: 0.1766 - acc: 0.9316 - val_loss: 0.0821 - val_acc: 0.9742\n",
      "Epoch 9/35\n",
      " - 6s - loss: 0.1689 - acc: 0.9345 - val_loss: 0.0771 - val_acc: 0.9757\n",
      "Epoch 10/35\n",
      " - 7s - loss: 0.1621 - acc: 0.9374 - val_loss: 0.0737 - val_acc: 0.9768\n",
      "Epoch 11/35\n",
      " - 10s - loss: 0.1587 - acc: 0.9386 - val_loss: 0.0740 - val_acc: 0.9769\n",
      "Epoch 12/35\n",
      " - 7s - loss: 0.1546 - acc: 0.9403 - val_loss: 0.0698 - val_acc: 0.9783\n",
      "Epoch 13/35\n",
      " - 7s - loss: 0.1501 - acc: 0.9423 - val_loss: 0.0687 - val_acc: 0.9777\n",
      "Epoch 14/35\n",
      " - 7s - loss: 0.1460 - acc: 0.9433 - val_loss: 0.0660 - val_acc: 0.9791\n",
      "Epoch 15/35\n",
      " - 9s - loss: 0.1437 - acc: 0.9444 - val_loss: 0.0685 - val_acc: 0.9784\n",
      "Epoch 16/35\n",
      " - 9s - loss: 0.1409 - acc: 0.9454 - val_loss: 0.0641 - val_acc: 0.9797\n",
      "Epoch 17/35\n",
      " - 7s - loss: 0.1379 - acc: 0.9464 - val_loss: 0.0629 - val_acc: 0.9798\n",
      "Epoch 18/35\n",
      " - 9s - loss: 0.1336 - acc: 0.9481 - val_loss: 0.0616 - val_acc: 0.9803\n",
      "Epoch 19/35\n",
      " - 8s - loss: 0.1311 - acc: 0.9491 - val_loss: 0.0639 - val_acc: 0.9796\n",
      "Epoch 20/35\n",
      " - 7s - loss: 0.1295 - acc: 0.9496 - val_loss: 0.0640 - val_acc: 0.9795\n",
      "Epoch 21/35\n"
     ]
    },
    {
     "ename": "KeyboardInterrupt",
     "evalue": "",
     "output_type": "error",
     "traceback": [
      "\u001b[0;31m---------------------------------------------------------------------------\u001b[0m",
      "\u001b[0;31mKeyboardInterrupt\u001b[0m                         Traceback (most recent call last)",
      "\u001b[0;32m<ipython-input-280-54bcca50de46>\u001b[0m in \u001b[0;36m<module>\u001b[0;34m()\u001b[0m\n\u001b[1;32m     11\u001b[0m                   param=run4_cnn_param)\n\u001b[1;32m     12\u001b[0m model = train_cnn(model, X_train, y_train, \n\u001b[0;32m---> 13\u001b[0;31m                   param=run4_cnn_param, shuffle=True)\n\u001b[0m",
      "\u001b[0;32m<ipython-input-21-72a37b18e080>\u001b[0m in \u001b[0;36mtrain_cnn\u001b[0;34m(model, x, y, param, shuffle)\u001b[0m\n\u001b[1;32m      1\u001b[0m \u001b[0;32mdef\u001b[0m \u001b[0mtrain_cnn\u001b[0m\u001b[0;34m(\u001b[0m\u001b[0mmodel\u001b[0m\u001b[0;34m,\u001b[0m \u001b[0mx\u001b[0m\u001b[0;34m,\u001b[0m \u001b[0my\u001b[0m\u001b[0;34m,\u001b[0m \u001b[0mparam\u001b[0m\u001b[0;34m=\u001b[0m\u001b[0mdefault_fnn_param\u001b[0m\u001b[0;34m,\u001b[0m \u001b[0mshuffle\u001b[0m\u001b[0;34m=\u001b[0m\u001b[0;32mTrue\u001b[0m\u001b[0;34m)\u001b[0m\u001b[0;34m:\u001b[0m\u001b[0;34m\u001b[0m\u001b[0m\n\u001b[1;32m      2\u001b[0m     model.fit(x, y, batch_size=param[\"batch_size\"], epochs=param[\"epoch\"], shuffle=shuffle,\n\u001b[0;32m----> 3\u001b[0;31m               verbose=param[\"verbose\"], validation_split=param[\"validation_ratio\"])\n\u001b[0m\u001b[1;32m      4\u001b[0m     \u001b[0;32mreturn\u001b[0m \u001b[0mmodel\u001b[0m\u001b[0;34m\u001b[0m\u001b[0m\n",
      "\u001b[0;32m/Users/michael-tu/anaconda/lib/python3.6/site-packages/keras/models.py\u001b[0m in \u001b[0;36mfit\u001b[0;34m(self, x, y, batch_size, epochs, verbose, callbacks, validation_split, validation_data, shuffle, class_weight, sample_weight, initial_epoch, steps_per_epoch, validation_steps, **kwargs)\u001b[0m\n\u001b[1;32m    963\u001b[0m                               \u001b[0minitial_epoch\u001b[0m\u001b[0;34m=\u001b[0m\u001b[0minitial_epoch\u001b[0m\u001b[0;34m,\u001b[0m\u001b[0;34m\u001b[0m\u001b[0m\n\u001b[1;32m    964\u001b[0m                               \u001b[0msteps_per_epoch\u001b[0m\u001b[0;34m=\u001b[0m\u001b[0msteps_per_epoch\u001b[0m\u001b[0;34m,\u001b[0m\u001b[0;34m\u001b[0m\u001b[0m\n\u001b[0;32m--> 965\u001b[0;31m                               validation_steps=validation_steps)\n\u001b[0m\u001b[1;32m    966\u001b[0m \u001b[0;34m\u001b[0m\u001b[0m\n\u001b[1;32m    967\u001b[0m     def evaluate(self, x=None, y=None,\n",
      "\u001b[0;32m/Users/michael-tu/anaconda/lib/python3.6/site-packages/keras/engine/training.py\u001b[0m in \u001b[0;36mfit\u001b[0;34m(self, x, y, batch_size, epochs, verbose, callbacks, validation_split, validation_data, shuffle, class_weight, sample_weight, initial_epoch, steps_per_epoch, validation_steps, **kwargs)\u001b[0m\n\u001b[1;32m   1667\u001b[0m                               \u001b[0minitial_epoch\u001b[0m\u001b[0;34m=\u001b[0m\u001b[0minitial_epoch\u001b[0m\u001b[0;34m,\u001b[0m\u001b[0;34m\u001b[0m\u001b[0m\n\u001b[1;32m   1668\u001b[0m                               \u001b[0msteps_per_epoch\u001b[0m\u001b[0;34m=\u001b[0m\u001b[0msteps_per_epoch\u001b[0m\u001b[0;34m,\u001b[0m\u001b[0;34m\u001b[0m\u001b[0m\n\u001b[0;32m-> 1669\u001b[0;31m                               validation_steps=validation_steps)\n\u001b[0m\u001b[1;32m   1670\u001b[0m \u001b[0;34m\u001b[0m\u001b[0m\n\u001b[1;32m   1671\u001b[0m     def evaluate(self, x=None, y=None,\n",
      "\u001b[0;32m/Users/michael-tu/anaconda/lib/python3.6/site-packages/keras/engine/training.py\u001b[0m in \u001b[0;36m_fit_loop\u001b[0;34m(self, f, ins, out_labels, batch_size, epochs, verbose, callbacks, val_f, val_ins, shuffle, callback_metrics, initial_epoch, steps_per_epoch, validation_steps)\u001b[0m\n\u001b[1;32m   1204\u001b[0m                         \u001b[0mins_batch\u001b[0m\u001b[0;34m[\u001b[0m\u001b[0mi\u001b[0m\u001b[0;34m]\u001b[0m \u001b[0;34m=\u001b[0m \u001b[0mins_batch\u001b[0m\u001b[0;34m[\u001b[0m\u001b[0mi\u001b[0m\u001b[0;34m]\u001b[0m\u001b[0;34m.\u001b[0m\u001b[0mtoarray\u001b[0m\u001b[0;34m(\u001b[0m\u001b[0;34m)\u001b[0m\u001b[0;34m\u001b[0m\u001b[0m\n\u001b[1;32m   1205\u001b[0m \u001b[0;34m\u001b[0m\u001b[0m\n\u001b[0;32m-> 1206\u001b[0;31m                     \u001b[0mouts\u001b[0m \u001b[0;34m=\u001b[0m \u001b[0mf\u001b[0m\u001b[0;34m(\u001b[0m\u001b[0mins_batch\u001b[0m\u001b[0;34m)\u001b[0m\u001b[0;34m\u001b[0m\u001b[0m\n\u001b[0m\u001b[1;32m   1207\u001b[0m                     \u001b[0;32mif\u001b[0m \u001b[0;32mnot\u001b[0m \u001b[0misinstance\u001b[0m\u001b[0;34m(\u001b[0m\u001b[0mouts\u001b[0m\u001b[0;34m,\u001b[0m \u001b[0mlist\u001b[0m\u001b[0;34m)\u001b[0m\u001b[0;34m:\u001b[0m\u001b[0;34m\u001b[0m\u001b[0m\n\u001b[1;32m   1208\u001b[0m                         \u001b[0mouts\u001b[0m \u001b[0;34m=\u001b[0m \u001b[0;34m[\u001b[0m\u001b[0mouts\u001b[0m\u001b[0;34m]\u001b[0m\u001b[0;34m\u001b[0m\u001b[0m\n",
      "\u001b[0;32m/Users/michael-tu/anaconda/lib/python3.6/site-packages/keras/backend/tensorflow_backend.py\u001b[0m in \u001b[0;36m__call__\u001b[0;34m(self, inputs)\u001b[0m\n\u001b[1;32m   2473\u001b[0m         \u001b[0msession\u001b[0m \u001b[0;34m=\u001b[0m \u001b[0mget_session\u001b[0m\u001b[0;34m(\u001b[0m\u001b[0;34m)\u001b[0m\u001b[0;34m\u001b[0m\u001b[0m\n\u001b[1;32m   2474\u001b[0m         updated = session.run(fetches=fetches, feed_dict=feed_dict,\n\u001b[0;32m-> 2475\u001b[0;31m                               **self.session_kwargs)\n\u001b[0m\u001b[1;32m   2476\u001b[0m         \u001b[0;32mreturn\u001b[0m \u001b[0mupdated\u001b[0m\u001b[0;34m[\u001b[0m\u001b[0;34m:\u001b[0m\u001b[0mlen\u001b[0m\u001b[0;34m(\u001b[0m\u001b[0mself\u001b[0m\u001b[0;34m.\u001b[0m\u001b[0moutputs\u001b[0m\u001b[0;34m)\u001b[0m\u001b[0;34m]\u001b[0m\u001b[0;34m\u001b[0m\u001b[0m\n\u001b[1;32m   2477\u001b[0m \u001b[0;34m\u001b[0m\u001b[0m\n",
      "\u001b[0;32m/Users/michael-tu/anaconda/lib/python3.6/site-packages/tensorflow/python/client/session.py\u001b[0m in \u001b[0;36mrun\u001b[0;34m(self, fetches, feed_dict, options, run_metadata)\u001b[0m\n\u001b[1;32m    887\u001b[0m     \u001b[0;32mtry\u001b[0m\u001b[0;34m:\u001b[0m\u001b[0;34m\u001b[0m\u001b[0m\n\u001b[1;32m    888\u001b[0m       result = self._run(None, fetches, feed_dict, options_ptr,\n\u001b[0;32m--> 889\u001b[0;31m                          run_metadata_ptr)\n\u001b[0m\u001b[1;32m    890\u001b[0m       \u001b[0;32mif\u001b[0m \u001b[0mrun_metadata\u001b[0m\u001b[0;34m:\u001b[0m\u001b[0;34m\u001b[0m\u001b[0m\n\u001b[1;32m    891\u001b[0m         \u001b[0mproto_data\u001b[0m \u001b[0;34m=\u001b[0m \u001b[0mtf_session\u001b[0m\u001b[0;34m.\u001b[0m\u001b[0mTF_GetBuffer\u001b[0m\u001b[0;34m(\u001b[0m\u001b[0mrun_metadata_ptr\u001b[0m\u001b[0;34m)\u001b[0m\u001b[0;34m\u001b[0m\u001b[0m\n",
      "\u001b[0;32m/Users/michael-tu/anaconda/lib/python3.6/site-packages/tensorflow/python/client/session.py\u001b[0m in \u001b[0;36m_run\u001b[0;34m(self, handle, fetches, feed_dict, options, run_metadata)\u001b[0m\n\u001b[1;32m   1118\u001b[0m     \u001b[0;32mif\u001b[0m \u001b[0mfinal_fetches\u001b[0m \u001b[0;32mor\u001b[0m \u001b[0mfinal_targets\u001b[0m \u001b[0;32mor\u001b[0m \u001b[0;34m(\u001b[0m\u001b[0mhandle\u001b[0m \u001b[0;32mand\u001b[0m \u001b[0mfeed_dict_tensor\u001b[0m\u001b[0;34m)\u001b[0m\u001b[0;34m:\u001b[0m\u001b[0;34m\u001b[0m\u001b[0m\n\u001b[1;32m   1119\u001b[0m       results = self._do_run(handle, final_targets, final_fetches,\n\u001b[0;32m-> 1120\u001b[0;31m                              feed_dict_tensor, options, run_metadata)\n\u001b[0m\u001b[1;32m   1121\u001b[0m     \u001b[0;32melse\u001b[0m\u001b[0;34m:\u001b[0m\u001b[0;34m\u001b[0m\u001b[0m\n\u001b[1;32m   1122\u001b[0m       \u001b[0mresults\u001b[0m \u001b[0;34m=\u001b[0m \u001b[0;34m[\u001b[0m\u001b[0;34m]\u001b[0m\u001b[0;34m\u001b[0m\u001b[0m\n",
      "\u001b[0;32m/Users/michael-tu/anaconda/lib/python3.6/site-packages/tensorflow/python/client/session.py\u001b[0m in \u001b[0;36m_do_run\u001b[0;34m(self, handle, target_list, fetch_list, feed_dict, options, run_metadata)\u001b[0m\n\u001b[1;32m   1315\u001b[0m     \u001b[0;32mif\u001b[0m \u001b[0mhandle\u001b[0m \u001b[0;32mis\u001b[0m \u001b[0;32mNone\u001b[0m\u001b[0;34m:\u001b[0m\u001b[0;34m\u001b[0m\u001b[0m\n\u001b[1;32m   1316\u001b[0m       return self._do_call(_run_fn, self._session, feeds, fetches, targets,\n\u001b[0;32m-> 1317\u001b[0;31m                            options, run_metadata)\n\u001b[0m\u001b[1;32m   1318\u001b[0m     \u001b[0;32melse\u001b[0m\u001b[0;34m:\u001b[0m\u001b[0;34m\u001b[0m\u001b[0m\n\u001b[1;32m   1319\u001b[0m       \u001b[0;32mreturn\u001b[0m \u001b[0mself\u001b[0m\u001b[0;34m.\u001b[0m\u001b[0m_do_call\u001b[0m\u001b[0;34m(\u001b[0m\u001b[0m_prun_fn\u001b[0m\u001b[0;34m,\u001b[0m \u001b[0mself\u001b[0m\u001b[0;34m.\u001b[0m\u001b[0m_session\u001b[0m\u001b[0;34m,\u001b[0m \u001b[0mhandle\u001b[0m\u001b[0;34m,\u001b[0m \u001b[0mfeeds\u001b[0m\u001b[0;34m,\u001b[0m \u001b[0mfetches\u001b[0m\u001b[0;34m)\u001b[0m\u001b[0;34m\u001b[0m\u001b[0m\n",
      "\u001b[0;32m/Users/michael-tu/anaconda/lib/python3.6/site-packages/tensorflow/python/client/session.py\u001b[0m in \u001b[0;36m_do_call\u001b[0;34m(self, fn, *args)\u001b[0m\n\u001b[1;32m   1321\u001b[0m   \u001b[0;32mdef\u001b[0m \u001b[0m_do_call\u001b[0m\u001b[0;34m(\u001b[0m\u001b[0mself\u001b[0m\u001b[0;34m,\u001b[0m \u001b[0mfn\u001b[0m\u001b[0;34m,\u001b[0m \u001b[0;34m*\u001b[0m\u001b[0margs\u001b[0m\u001b[0;34m)\u001b[0m\u001b[0;34m:\u001b[0m\u001b[0;34m\u001b[0m\u001b[0m\n\u001b[1;32m   1322\u001b[0m     \u001b[0;32mtry\u001b[0m\u001b[0;34m:\u001b[0m\u001b[0;34m\u001b[0m\u001b[0m\n\u001b[0;32m-> 1323\u001b[0;31m       \u001b[0;32mreturn\u001b[0m \u001b[0mfn\u001b[0m\u001b[0;34m(\u001b[0m\u001b[0;34m*\u001b[0m\u001b[0margs\u001b[0m\u001b[0;34m)\u001b[0m\u001b[0;34m\u001b[0m\u001b[0m\n\u001b[0m\u001b[1;32m   1324\u001b[0m     \u001b[0;32mexcept\u001b[0m \u001b[0merrors\u001b[0m\u001b[0;34m.\u001b[0m\u001b[0mOpError\u001b[0m \u001b[0;32mas\u001b[0m \u001b[0me\u001b[0m\u001b[0;34m:\u001b[0m\u001b[0;34m\u001b[0m\u001b[0m\n\u001b[1;32m   1325\u001b[0m       \u001b[0mmessage\u001b[0m \u001b[0;34m=\u001b[0m \u001b[0mcompat\u001b[0m\u001b[0;34m.\u001b[0m\u001b[0mas_text\u001b[0m\u001b[0;34m(\u001b[0m\u001b[0me\u001b[0m\u001b[0;34m.\u001b[0m\u001b[0mmessage\u001b[0m\u001b[0;34m)\u001b[0m\u001b[0;34m\u001b[0m\u001b[0m\n",
      "\u001b[0;32m/Users/michael-tu/anaconda/lib/python3.6/site-packages/tensorflow/python/client/session.py\u001b[0m in \u001b[0;36m_run_fn\u001b[0;34m(session, feed_dict, fetch_list, target_list, options, run_metadata)\u001b[0m\n\u001b[1;32m   1300\u001b[0m           return tf_session.TF_Run(session, options,\n\u001b[1;32m   1301\u001b[0m                                    \u001b[0mfeed_dict\u001b[0m\u001b[0;34m,\u001b[0m \u001b[0mfetch_list\u001b[0m\u001b[0;34m,\u001b[0m \u001b[0mtarget_list\u001b[0m\u001b[0;34m,\u001b[0m\u001b[0;34m\u001b[0m\u001b[0m\n\u001b[0;32m-> 1302\u001b[0;31m                                    status, run_metadata)\n\u001b[0m\u001b[1;32m   1303\u001b[0m \u001b[0;34m\u001b[0m\u001b[0m\n\u001b[1;32m   1304\u001b[0m     \u001b[0;32mdef\u001b[0m \u001b[0m_prun_fn\u001b[0m\u001b[0;34m(\u001b[0m\u001b[0msession\u001b[0m\u001b[0;34m,\u001b[0m \u001b[0mhandle\u001b[0m\u001b[0;34m,\u001b[0m \u001b[0mfeed_dict\u001b[0m\u001b[0;34m,\u001b[0m \u001b[0mfetch_list\u001b[0m\u001b[0;34m)\u001b[0m\u001b[0;34m:\u001b[0m\u001b[0;34m\u001b[0m\u001b[0m\n",
      "\u001b[0;31mKeyboardInterrupt\u001b[0m: "
     ]
    }
   ],
   "source": [
    "k = 40\n",
    "path = \"../data/dataset_04/data/dataset_n25000_k{0}_e0.05.pkl\"\n",
    "train, test, original = build_data_from_path(path.format(k), X_reshape=(-1, 28, 3))\n",
    "    \n",
    "X_train, y_train = train\n",
    "X_test, y_test = test\n",
    "X, y, y_oh, y_viterbi_decoded = original\n",
    "model = build_cnn(input_shape=X_train.shape[1:], \n",
    "                  output_shape=y_train.shape[1:], \n",
    "                  architecture=run4_cnn_architecture, \n",
    "                  param=run4_cnn_param)\n",
    "model = train_cnn(model, X_train, y_train, \n",
    "                  param=run4_cnn_param, shuffle=True)"
   ]
  },
  {
   "cell_type": "code",
   "execution_count": 310,
   "metadata": {},
   "outputs": [
    {
     "data": {
      "image/png": "[encoded data removed]",
      "text/plain": [
       "<matplotlib.figure.Figure at 0x197500c50>"
      ]
     },
     "metadata": {},
     "output_type": "display_data"
    }
   ],
   "source": [
    "plot_acc(\"Training Accuracy of CNN Model (k=40)\",\n",
    "       [0.5975,0.8808,0.9528,0.9644,0.9656,0.9722,0.9731,0.9742,0.9757,0.9768,0.9769,0.9783,0.9777,0.9791,0.9784,0.9797,0.9798,0.9803,0.9796,0.9795])"
   ]
  },
  {
   "cell_type": "code",
   "execution_count": 286,
   "metadata": {},
   "outputs": [
    {
     "name": "stdout",
     "output_type": "stream",
     "text": [
      "0.9806124991416931\n",
      "\n",
      "############## Example 0 ##############\n",
      "Expected:\n",
      " [0 1 1 1 0 1 1 0 1 0 0 0 1 0 1 0 1 0 1 0 1 1 1 1 0 0 1 1 1 1 1 1 0 0 1 0 1\n",
      " 0 0 1]\n",
      "Actual:\n",
      " [0 1 1 1 0 1 1 0 1 0 0 0 1 0 1 0 1 0 1 0 1 1 1 1 0 0 1 1 1 1 1 1 0 0 1 0 1\n",
      " 0 0 1]\n",
      "\n",
      "############## Example 1 ##############\n",
      "Expected:\n",
      " [1 1 1 0 1 0 1 1 1 0 1 1 1 0 0 1 1 1 1 1 0 1 1 1 1 1 0 0 0 1 0 1 0 1 1 0 1\n",
      " 0 1 1]\n",
      "Actual:\n",
      " [1 1 1 0 1 0 1 1 1 0 1 1 1 0 0 1 1 1 1 1 0 1 1 1 1 1 0 0 0 1 0 1 0 1 1 0 1\n",
      " 0 1 1]\n",
      "\n",
      "############## Example 2 ##############\n",
      "Expected:\n",
      " [0 0 0 0 0 0 1 0 1 1 1 1 0 0 0 1 0 0 1 0 0 0 0 1 1 0 1 1 0 0 0 1 0 0 1 0 0\n",
      " 0 0 1]\n",
      "Actual:\n",
      " [0 0 0 0 0 0 1 0 1 1 1 1 0 0 0 1 0 0 1 0 0 0 0 1 1 0 1 1 0 0 0 1 0 0 1 0 0\n",
      " 0 0 1]\n",
      "\n",
      "############## Example 3 ##############\n",
      "Expected:\n",
      " [1 1 1 0 1 1 1 0 1 1 1 1 1 0 1 1 0 0 0 0 0 0 1 1 0 1 1 1 1 0 1 0 0 0 0 0 0\n",
      " 0 1 0]\n",
      "Actual:\n",
      " [1 1 1 0 1 1 1 0 1 1 1 1 1 0 1 1 0 0 0 0 0 0 1 1 0 1 1 1 1 0 1 0 0 0 0 0 0\n",
      " 0 1 0]\n",
      "\n",
      "############## Example 4 ##############\n",
      "Expected:\n",
      " [0 0 1 1 1 1 0 1 0 1 0 1 1 0 1 0 1 0 1 1 1 0 0 1 0 0 0 0 0 1 1 0 1 1 1 1 0\n",
      " 1 0 0]\n",
      "Actual:\n",
      " [0 0 1 1 1 1 0 1 0 1 0 1 1 0 1 0 1 0 1 1 1 0 0 1 0 0 0 0 0 1 1 0 1 1 1 1 0\n",
      " 0 0 0]\n"
     ]
    }
   ],
   "source": [
    "print(model_accuracy(model, X_test, y_test))\n",
    "pred_vs_truth(model, X_test, y_test, n_show=5, y_truth_is_onehot=True)"
   ]
  },
  {
   "cell_type": "code",
   "execution_count": 366,
   "metadata": {
    "collapsed": true
   },
   "outputs": [],
   "source": [
    "run4_cnn_param = {\n",
    "    \"batch_size\": 256,\n",
    "    \"epoch\": 20,\n",
    "    \"verbose\": 2,\n",
    "    \"validation_ratio\": 0.2,\n",
    "    \"activation\": \"relu\",\n",
    "    \"dropout_keep_prob\": 0.5,\n",
    "    \"learing_rate\": 0.005,\n",
    "    \"optimizer\": \"adam\",\n",
    "    \"conv_padding\": \"same\",\n",
    "    \"metrics\": [\"accuracy\"],\n",
    "    \"loss_fn\": \"binary_crossentropy\"\n",
    "}"
   ]
  },
  {
   "cell_type": "code",
   "execution_count": 369,
   "metadata": {
    "collapsed": true
   },
   "outputs": [],
   "source": [
    "run4_cnn_architecture = [\n",
    "    (\"conv1d\", dict(f=300,k=3,s=1)),\n",
    "    (\"conv1d\", dict(f=300,k=3,s=1)),\n",
    "    (\"conv1d\", dict(f=300,k=3,s=1)),\n",
    "    (\"conv1d\", dict(f=300,k=3,s=1)),\n",
    "    (\"flatten\", None),\n",
    "    (\"dense\", 512),\n",
    "    (\"dropout\", None),\n",
    "    (\"dense\", 256)\n",
    "]"
   ]
  },
  {
   "cell_type": "code",
   "execution_count": 370,
   "metadata": {},
   "outputs": [
    {
     "name": "stdout",
     "output_type": "stream",
     "text": [
      "Train on 16000 samples, validate on 4000 samples\n",
      "Epoch 1/20\n",
      " - 90s - loss: 0.7149 - acc: 0.5002 - val_loss: 0.6932 - val_acc: 0.5011\n",
      "Epoch 2/20\n",
      " - 83s - loss: 0.6931 - acc: 0.5016 - val_loss: 0.6932 - val_acc: 0.5015\n",
      "Epoch 3/20\n",
      " - 85s - loss: 0.6932 - acc: 0.5013 - val_loss: 0.6932 - val_acc: 0.5012\n",
      "Epoch 4/20\n"
     ]
    },
    {
     "ename": "KeyboardInterrupt",
     "evalue": "",
     "output_type": "error",
     "traceback": [
      "\u001b[0;31m---------------------------------------------------------------------------\u001b[0m",
      "\u001b[0;31mKeyboardInterrupt\u001b[0m                         Traceback (most recent call last)",
      "\u001b[0;32m<ipython-input-370-4fd85f7add0e>\u001b[0m in \u001b[0;36m<module>\u001b[0;34m()\u001b[0m\n\u001b[1;32m     12\u001b[0m                   param=run4_cnn_param)\n\u001b[1;32m     13\u001b[0m model = train_cnn(model, X_train, y_train, \n\u001b[0;32m---> 14\u001b[0;31m                   param=run4_cnn_param, shuffle=True)\n\u001b[0m",
      "\u001b[0;32m<ipython-input-21-72a37b18e080>\u001b[0m in \u001b[0;36mtrain_cnn\u001b[0;34m(model, x, y, param, shuffle)\u001b[0m\n\u001b[1;32m      1\u001b[0m \u001b[0;32mdef\u001b[0m \u001b[0mtrain_cnn\u001b[0m\u001b[0;34m(\u001b[0m\u001b[0mmodel\u001b[0m\u001b[0;34m,\u001b[0m \u001b[0mx\u001b[0m\u001b[0;34m,\u001b[0m \u001b[0my\u001b[0m\u001b[0;34m,\u001b[0m \u001b[0mparam\u001b[0m\u001b[0;34m=\u001b[0m\u001b[0mdefault_fnn_param\u001b[0m\u001b[0;34m,\u001b[0m \u001b[0mshuffle\u001b[0m\u001b[0;34m=\u001b[0m\u001b[0;32mTrue\u001b[0m\u001b[0;34m)\u001b[0m\u001b[0;34m:\u001b[0m\u001b[0;34m\u001b[0m\u001b[0m\n\u001b[1;32m      2\u001b[0m     model.fit(x, y, batch_size=param[\"batch_size\"], epochs=param[\"epoch\"], shuffle=shuffle,\n\u001b[0;32m----> 3\u001b[0;31m               verbose=param[\"verbose\"], validation_split=param[\"validation_ratio\"])\n\u001b[0m\u001b[1;32m      4\u001b[0m     \u001b[0;32mreturn\u001b[0m \u001b[0mmodel\u001b[0m\u001b[0;34m\u001b[0m\u001b[0m\n",
      "\u001b[0;32m/Users/michael-tu/anaconda/lib/python3.6/site-packages/keras/models.py\u001b[0m in \u001b[0;36mfit\u001b[0;34m(self, x, y, batch_size, epochs, verbose, callbacks, validation_split, validation_data, shuffle, class_weight, sample_weight, initial_epoch, steps_per_epoch, validation_steps, **kwargs)\u001b[0m\n\u001b[1;32m    963\u001b[0m                               \u001b[0minitial_epoch\u001b[0m\u001b[0;34m=\u001b[0m\u001b[0minitial_epoch\u001b[0m\u001b[0;34m,\u001b[0m\u001b[0;34m\u001b[0m\u001b[0m\n\u001b[1;32m    964\u001b[0m                               \u001b[0msteps_per_epoch\u001b[0m\u001b[0;34m=\u001b[0m\u001b[0msteps_per_epoch\u001b[0m\u001b[0;34m,\u001b[0m\u001b[0;34m\u001b[0m\u001b[0m\n\u001b[0;32m--> 965\u001b[0;31m                               validation_steps=validation_steps)\n\u001b[0m\u001b[1;32m    966\u001b[0m \u001b[0;34m\u001b[0m\u001b[0m\n\u001b[1;32m    967\u001b[0m     def evaluate(self, x=None, y=None,\n",
      "\u001b[0;32m/Users/michael-tu/anaconda/lib/python3.6/site-packages/keras/engine/training.py\u001b[0m in \u001b[0;36mfit\u001b[0;34m(self, x, y, batch_size, epochs, verbose, callbacks, validation_split, validation_data, shuffle, class_weight, sample_weight, initial_epoch, steps_per_epoch, validation_steps, **kwargs)\u001b[0m\n\u001b[1;32m   1667\u001b[0m                               \u001b[0minitial_epoch\u001b[0m\u001b[0;34m=\u001b[0m\u001b[0minitial_epoch\u001b[0m\u001b[0;34m,\u001b[0m\u001b[0;34m\u001b[0m\u001b[0m\n\u001b[1;32m   1668\u001b[0m                               \u001b[0msteps_per_epoch\u001b[0m\u001b[0;34m=\u001b[0m\u001b[0msteps_per_epoch\u001b[0m\u001b[0;34m,\u001b[0m\u001b[0;34m\u001b[0m\u001b[0m\n\u001b[0;32m-> 1669\u001b[0;31m                               validation_steps=validation_steps)\n\u001b[0m\u001b[1;32m   1670\u001b[0m \u001b[0;34m\u001b[0m\u001b[0m\n\u001b[1;32m   1671\u001b[0m     def evaluate(self, x=None, y=None,\n",
      "\u001b[0;32m/Users/michael-tu/anaconda/lib/python3.6/site-packages/keras/engine/training.py\u001b[0m in \u001b[0;36m_fit_loop\u001b[0;34m(self, f, ins, out_labels, batch_size, epochs, verbose, callbacks, val_f, val_ins, shuffle, callback_metrics, initial_epoch, steps_per_epoch, validation_steps)\u001b[0m\n\u001b[1;32m   1204\u001b[0m                         \u001b[0mins_batch\u001b[0m\u001b[0;34m[\u001b[0m\u001b[0mi\u001b[0m\u001b[0;34m]\u001b[0m \u001b[0;34m=\u001b[0m \u001b[0mins_batch\u001b[0m\u001b[0;34m[\u001b[0m\u001b[0mi\u001b[0m\u001b[0;34m]\u001b[0m\u001b[0;34m.\u001b[0m\u001b[0mtoarray\u001b[0m\u001b[0;34m(\u001b[0m\u001b[0;34m)\u001b[0m\u001b[0;34m\u001b[0m\u001b[0m\n\u001b[1;32m   1205\u001b[0m \u001b[0;34m\u001b[0m\u001b[0m\n\u001b[0;32m-> 1206\u001b[0;31m                     \u001b[0mouts\u001b[0m \u001b[0;34m=\u001b[0m \u001b[0mf\u001b[0m\u001b[0;34m(\u001b[0m\u001b[0mins_batch\u001b[0m\u001b[0;34m)\u001b[0m\u001b[0;34m\u001b[0m\u001b[0m\n\u001b[0m\u001b[1;32m   1207\u001b[0m                     \u001b[0;32mif\u001b[0m \u001b[0;32mnot\u001b[0m \u001b[0misinstance\u001b[0m\u001b[0;34m(\u001b[0m\u001b[0mouts\u001b[0m\u001b[0;34m,\u001b[0m \u001b[0mlist\u001b[0m\u001b[0;34m)\u001b[0m\u001b[0;34m:\u001b[0m\u001b[0;34m\u001b[0m\u001b[0m\n\u001b[1;32m   1208\u001b[0m                         \u001b[0mouts\u001b[0m \u001b[0;34m=\u001b[0m \u001b[0;34m[\u001b[0m\u001b[0mouts\u001b[0m\u001b[0;34m]\u001b[0m\u001b[0;34m\u001b[0m\u001b[0m\n",
      "\u001b[0;32m/Users/michael-tu/anaconda/lib/python3.6/site-packages/keras/backend/tensorflow_backend.py\u001b[0m in \u001b[0;36m__call__\u001b[0;34m(self, inputs)\u001b[0m\n\u001b[1;32m   2473\u001b[0m         \u001b[0msession\u001b[0m \u001b[0;34m=\u001b[0m \u001b[0mget_session\u001b[0m\u001b[0;34m(\u001b[0m\u001b[0;34m)\u001b[0m\u001b[0;34m\u001b[0m\u001b[0m\n\u001b[1;32m   2474\u001b[0m         updated = session.run(fetches=fetches, feed_dict=feed_dict,\n\u001b[0;32m-> 2475\u001b[0;31m                               **self.session_kwargs)\n\u001b[0m\u001b[1;32m   2476\u001b[0m         \u001b[0;32mreturn\u001b[0m \u001b[0mupdated\u001b[0m\u001b[0;34m[\u001b[0m\u001b[0;34m:\u001b[0m\u001b[0mlen\u001b[0m\u001b[0;34m(\u001b[0m\u001b[0mself\u001b[0m\u001b[0;34m.\u001b[0m\u001b[0moutputs\u001b[0m\u001b[0;34m)\u001b[0m\u001b[0;34m]\u001b[0m\u001b[0;34m\u001b[0m\u001b[0m\n\u001b[1;32m   2477\u001b[0m \u001b[0;34m\u001b[0m\u001b[0m\n",
      "\u001b[0;32m/Users/michael-tu/anaconda/lib/python3.6/site-packages/tensorflow/python/client/session.py\u001b[0m in \u001b[0;36mrun\u001b[0;34m(self, fetches, feed_dict, options, run_metadata)\u001b[0m\n\u001b[1;32m    887\u001b[0m     \u001b[0;32mtry\u001b[0m\u001b[0;34m:\u001b[0m\u001b[0;34m\u001b[0m\u001b[0m\n\u001b[1;32m    888\u001b[0m       result = self._run(None, fetches, feed_dict, options_ptr,\n\u001b[0;32m--> 889\u001b[0;31m                          run_metadata_ptr)\n\u001b[0m\u001b[1;32m    890\u001b[0m       \u001b[0;32mif\u001b[0m \u001b[0mrun_metadata\u001b[0m\u001b[0;34m:\u001b[0m\u001b[0;34m\u001b[0m\u001b[0m\n\u001b[1;32m    891\u001b[0m         \u001b[0mproto_data\u001b[0m \u001b[0;34m=\u001b[0m \u001b[0mtf_session\u001b[0m\u001b[0;34m.\u001b[0m\u001b[0mTF_GetBuffer\u001b[0m\u001b[0;34m(\u001b[0m\u001b[0mrun_metadata_ptr\u001b[0m\u001b[0;34m)\u001b[0m\u001b[0;34m\u001b[0m\u001b[0m\n",
      "\u001b[0;32m/Users/michael-tu/anaconda/lib/python3.6/site-packages/tensorflow/python/client/session.py\u001b[0m in \u001b[0;36m_run\u001b[0;34m(self, handle, fetches, feed_dict, options, run_metadata)\u001b[0m\n\u001b[1;32m   1118\u001b[0m     \u001b[0;32mif\u001b[0m \u001b[0mfinal_fetches\u001b[0m \u001b[0;32mor\u001b[0m \u001b[0mfinal_targets\u001b[0m \u001b[0;32mor\u001b[0m \u001b[0;34m(\u001b[0m\u001b[0mhandle\u001b[0m \u001b[0;32mand\u001b[0m \u001b[0mfeed_dict_tensor\u001b[0m\u001b[0;34m)\u001b[0m\u001b[0;34m:\u001b[0m\u001b[0;34m\u001b[0m\u001b[0m\n\u001b[1;32m   1119\u001b[0m       results = self._do_run(handle, final_targets, final_fetches,\n\u001b[0;32m-> 1120\u001b[0;31m                              feed_dict_tensor, options, run_metadata)\n\u001b[0m\u001b[1;32m   1121\u001b[0m     \u001b[0;32melse\u001b[0m\u001b[0;34m:\u001b[0m\u001b[0;34m\u001b[0m\u001b[0m\n\u001b[1;32m   1122\u001b[0m       \u001b[0mresults\u001b[0m \u001b[0;34m=\u001b[0m \u001b[0;34m[\u001b[0m\u001b[0;34m]\u001b[0m\u001b[0;34m\u001b[0m\u001b[0m\n",
      "\u001b[0;32m/Users/michael-tu/anaconda/lib/python3.6/site-packages/tensorflow/python/client/session.py\u001b[0m in \u001b[0;36m_do_run\u001b[0;34m(self, handle, target_list, fetch_list, feed_dict, options, run_metadata)\u001b[0m\n\u001b[1;32m   1315\u001b[0m     \u001b[0;32mif\u001b[0m \u001b[0mhandle\u001b[0m \u001b[0;32mis\u001b[0m \u001b[0;32mNone\u001b[0m\u001b[0;34m:\u001b[0m\u001b[0;34m\u001b[0m\u001b[0m\n\u001b[1;32m   1316\u001b[0m       return self._do_call(_run_fn, self._session, feeds, fetches, targets,\n\u001b[0;32m-> 1317\u001b[0;31m                            options, run_metadata)\n\u001b[0m\u001b[1;32m   1318\u001b[0m     \u001b[0;32melse\u001b[0m\u001b[0;34m:\u001b[0m\u001b[0;34m\u001b[0m\u001b[0m\n\u001b[1;32m   1319\u001b[0m       \u001b[0;32mreturn\u001b[0m \u001b[0mself\u001b[0m\u001b[0;34m.\u001b[0m\u001b[0m_do_call\u001b[0m\u001b[0;34m(\u001b[0m\u001b[0m_prun_fn\u001b[0m\u001b[0;34m,\u001b[0m \u001b[0mself\u001b[0m\u001b[0;34m.\u001b[0m\u001b[0m_session\u001b[0m\u001b[0;34m,\u001b[0m \u001b[0mhandle\u001b[0m\u001b[0;34m,\u001b[0m \u001b[0mfeeds\u001b[0m\u001b[0;34m,\u001b[0m \u001b[0mfetches\u001b[0m\u001b[0;34m)\u001b[0m\u001b[0;34m\u001b[0m\u001b[0m\n",
      "\u001b[0;32m/Users/michael-tu/anaconda/lib/python3.6/site-packages/tensorflow/python/client/session.py\u001b[0m in \u001b[0;36m_do_call\u001b[0;34m(self, fn, *args)\u001b[0m\n\u001b[1;32m   1321\u001b[0m   \u001b[0;32mdef\u001b[0m \u001b[0m_do_call\u001b[0m\u001b[0;34m(\u001b[0m\u001b[0mself\u001b[0m\u001b[0;34m,\u001b[0m \u001b[0mfn\u001b[0m\u001b[0;34m,\u001b[0m \u001b[0;34m*\u001b[0m\u001b[0margs\u001b[0m\u001b[0;34m)\u001b[0m\u001b[0;34m:\u001b[0m\u001b[0;34m\u001b[0m\u001b[0m\n\u001b[1;32m   1322\u001b[0m     \u001b[0;32mtry\u001b[0m\u001b[0;34m:\u001b[0m\u001b[0;34m\u001b[0m\u001b[0m\n\u001b[0;32m-> 1323\u001b[0;31m       \u001b[0;32mreturn\u001b[0m \u001b[0mfn\u001b[0m\u001b[0;34m(\u001b[0m\u001b[0;34m*\u001b[0m\u001b[0margs\u001b[0m\u001b[0;34m)\u001b[0m\u001b[0;34m\u001b[0m\u001b[0m\n\u001b[0m\u001b[1;32m   1324\u001b[0m     \u001b[0;32mexcept\u001b[0m \u001b[0merrors\u001b[0m\u001b[0;34m.\u001b[0m\u001b[0mOpError\u001b[0m \u001b[0;32mas\u001b[0m \u001b[0me\u001b[0m\u001b[0;34m:\u001b[0m\u001b[0;34m\u001b[0m\u001b[0m\n\u001b[1;32m   1325\u001b[0m       \u001b[0mmessage\u001b[0m \u001b[0;34m=\u001b[0m \u001b[0mcompat\u001b[0m\u001b[0;34m.\u001b[0m\u001b[0mas_text\u001b[0m\u001b[0;34m(\u001b[0m\u001b[0me\u001b[0m\u001b[0;34m.\u001b[0m\u001b[0mmessage\u001b[0m\u001b[0;34m)\u001b[0m\u001b[0;34m\u001b[0m\u001b[0m\n",
      "\u001b[0;32m/Users/michael-tu/anaconda/lib/python3.6/site-packages/tensorflow/python/client/session.py\u001b[0m in \u001b[0;36m_run_fn\u001b[0;34m(session, feed_dict, fetch_list, target_list, options, run_metadata)\u001b[0m\n\u001b[1;32m   1300\u001b[0m           return tf_session.TF_Run(session, options,\n\u001b[1;32m   1301\u001b[0m                                    \u001b[0mfeed_dict\u001b[0m\u001b[0;34m,\u001b[0m \u001b[0mfetch_list\u001b[0m\u001b[0;34m,\u001b[0m \u001b[0mtarget_list\u001b[0m\u001b[0;34m,\u001b[0m\u001b[0;34m\u001b[0m\u001b[0m\n\u001b[0;32m-> 1302\u001b[0;31m                                    status, run_metadata)\n\u001b[0m\u001b[1;32m   1303\u001b[0m \u001b[0;34m\u001b[0m\u001b[0m\n\u001b[1;32m   1304\u001b[0m     \u001b[0;32mdef\u001b[0m \u001b[0m_prun_fn\u001b[0m\u001b[0;34m(\u001b[0m\u001b[0msession\u001b[0m\u001b[0;34m,\u001b[0m \u001b[0mhandle\u001b[0m\u001b[0;34m,\u001b[0m \u001b[0mfeed_dict\u001b[0m\u001b[0;34m,\u001b[0m \u001b[0mfetch_list\u001b[0m\u001b[0;34m)\u001b[0m\u001b[0;34m:\u001b[0m\u001b[0;34m\u001b[0m\u001b[0m\n",
      "\u001b[0;31mKeyboardInterrupt\u001b[0m: "
     ]
    }
   ],
   "source": [
    "k = 105\n",
    "path = \"../data/dataset_04/data/dataset_n25000_k{0}_e0.05.pkl\"\n",
    "train, test, original = build_data_from_path(path.format(k), X_reshape=(-1,71,3))\n",
    "    \n",
    "X_train, y_train = train\n",
    "X_test, y_test = test\n",
    "X, y, y_oh, y_viterbi_decoded = original\n",
    "\n",
    "model = build_cnn(input_shape=X_train.shape[1:], \n",
    "                  output_shape=y_train.shape[1:], \n",
    "                  architecture=run4_cnn_architecture, \n",
    "                  param=run4_cnn_param)\n",
    "model = train_cnn(model, X_train, y_train, \n",
    "                  param=run4_cnn_param, shuffle=True)"
   ]
  },
  {
   "cell_type": "code",
   "execution_count": null,
   "metadata": {
    "collapsed": true
   },
   "outputs": [],
   "source": [
    "# print(model_accuracy(model, X_test, y_test))\n",
    "# pred_vs_truth(model, X_test, y_test, n_show=5, y_truth_is_onehot=True)"
   ]
  },
  {
   "cell_type": "code",
   "execution_count": 400,
   "metadata": {
    "collapsed": true
   },
   "outputs": [],
   "source": [
    "run4_cnn_param = {\n",
    "    \"batch_size\": 512,\n",
    "    \"epoch\": 30,\n",
    "    \"verbose\": 2,\n",
    "    \"validation_ratio\": 0.2,\n",
    "    \"activation\": \"relu\",\n",
    "    \"dropout_keep_prob\": 0.5,\n",
    "    \"learing_rate\": 0.0005,\n",
    "    \"optimizer\": \"adam\",\n",
    "    \"conv_padding\": \"same\",\n",
    "    \"metrics\": [\"accuracy\"],\n",
    "    \"loss_fn\": \"binary_crossentropy\"\n",
    "}\n",
    "run4_cnn_architecture = [\n",
    "    (\"conv1d\", dict(f=120,k=3,s=1)),\n",
    "    (\"conv1d\", dict(f=120,k=3,s=1)),\n",
    "    (\"conv1d\", dict(f=120,k=3,s=1)),\n",
    "    (\"conv1d\", dict(f=120,k=3,s=1)),\n",
    "    (\"flatten\", None),\n",
    "    (\"dense\", 512),\n",
    "    (\"dropout\", None),\n",
    "    (\"dense\", 256)\n",
    "]"
   ]
  },
  {
   "cell_type": "code",
   "execution_count": 401,
   "metadata": {
    "collapsed": true
   },
   "outputs": [],
   "source": [
    "k = 20\n",
    "path = \"../data/dataset_04/data/dataset_n25000_k{0}_e0.15.pkl\"\n",
    "train, test, original = build_data_from_path(path.format(k), X_reshape=(-1, 14, 3))\n",
    "    \n",
    "X_train, y_train = train\n",
    "X_test, y_test = test\n",
    "X, y, y_oh, y_viterbi_decoded = original"
   ]
  },
  {
   "cell_type": "code",
   "execution_count": 402,
   "metadata": {},
   "outputs": [
    {
     "name": "stdout",
     "output_type": "stream",
     "text": [
      "Train on 16000 samples, validate on 4000 samples\n",
      "Epoch 1/30\n",
      " - 7s - loss: 0.6864 - acc: 0.5286 - val_loss: 0.6563 - val_acc: 0.5700\n",
      "Epoch 2/30\n",
      " - 4s - loss: 0.6233 - acc: 0.6136 - val_loss: 0.5579 - val_acc: 0.6813\n",
      "Epoch 3/30\n",
      " - 3s - loss: 0.5475 - acc: 0.6890 - val_loss: 0.5040 - val_acc: 0.7132\n",
      "Epoch 4/30\n",
      " - 4s - loss: 0.5079 - acc: 0.7121 - val_loss: 0.4783 - val_acc: 0.7246\n",
      "Epoch 5/30\n",
      " - 4s - loss: 0.4878 - acc: 0.7237 - val_loss: 0.4703 - val_acc: 0.7322\n",
      "Epoch 6/30\n",
      " - 3s - loss: 0.4738 - acc: 0.7327 - val_loss: 0.4560 - val_acc: 0.7397\n",
      "Epoch 7/30\n",
      " - 3s - loss: 0.4618 - acc: 0.7397 - val_loss: 0.4486 - val_acc: 0.7435\n",
      "Epoch 8/30\n",
      " - 4s - loss: 0.4521 - acc: 0.7458 - val_loss: 0.4409 - val_acc: 0.7485\n",
      "Epoch 9/30\n",
      " - 4s - loss: 0.4439 - acc: 0.7509 - val_loss: 0.4362 - val_acc: 0.7505\n",
      "Epoch 10/30\n",
      " - 3s - loss: 0.4363 - acc: 0.7557 - val_loss: 0.4334 - val_acc: 0.7512\n",
      "Epoch 11/30\n",
      " - 3s - loss: 0.4315 - acc: 0.7575 - val_loss: 0.4301 - val_acc: 0.7532\n",
      "Epoch 12/30\n",
      " - 4s - loss: 0.4258 - acc: 0.7621 - val_loss: 0.4290 - val_acc: 0.7525\n",
      "Epoch 13/30\n",
      " - 4s - loss: 0.4209 - acc: 0.7649 - val_loss: 0.4269 - val_acc: 0.7551\n",
      "Epoch 14/30\n",
      " - 3s - loss: 0.4161 - acc: 0.7676 - val_loss: 0.4260 - val_acc: 0.7551\n",
      "Epoch 15/30\n",
      " - 3s - loss: 0.4122 - acc: 0.7704 - val_loss: 0.4245 - val_acc: 0.7548\n",
      "Epoch 16/30\n",
      " - 4s - loss: 0.4081 - acc: 0.7734 - val_loss: 0.4249 - val_acc: 0.7544\n",
      "Epoch 17/30\n",
      " - 3s - loss: 0.4043 - acc: 0.7751 - val_loss: 0.4231 - val_acc: 0.7577\n",
      "Epoch 18/30\n",
      " - 3s - loss: 0.3991 - acc: 0.7788 - val_loss: 0.4229 - val_acc: 0.7568\n",
      "Epoch 19/30\n",
      " - 4s - loss: 0.3962 - acc: 0.7811 - val_loss: 0.4249 - val_acc: 0.7571\n",
      "Epoch 20/30\n",
      " - 3s - loss: 0.3928 - acc: 0.7833 - val_loss: 0.4232 - val_acc: 0.7575\n",
      "Epoch 21/30\n",
      " - 3s - loss: 0.3884 - acc: 0.7858 - val_loss: 0.4240 - val_acc: 0.7577\n",
      "Epoch 22/30\n",
      " - 4s - loss: 0.3845 - acc: 0.7892 - val_loss: 0.4238 - val_acc: 0.7580\n",
      "Epoch 23/30\n",
      " - 3s - loss: 0.3813 - acc: 0.7904 - val_loss: 0.4240 - val_acc: 0.7591\n",
      "Epoch 24/30\n",
      " - 3s - loss: 0.3768 - acc: 0.7936 - val_loss: 0.4253 - val_acc: 0.7587\n",
      "Epoch 25/30\n",
      " - 3s - loss: 0.3750 - acc: 0.7949 - val_loss: 0.4268 - val_acc: 0.7578\n",
      "Epoch 26/30\n",
      " - 3s - loss: 0.3700 - acc: 0.7977 - val_loss: 0.4291 - val_acc: 0.7586\n",
      "Epoch 27/30\n",
      " - 3s - loss: 0.3662 - acc: 0.8001 - val_loss: 0.4286 - val_acc: 0.7591\n",
      "Epoch 28/30\n",
      " - 3s - loss: 0.3623 - acc: 0.8017 - val_loss: 0.4300 - val_acc: 0.7586\n",
      "Epoch 29/30\n",
      " - 3s - loss: 0.3596 - acc: 0.8044 - val_loss: 0.4329 - val_acc: 0.7579\n",
      "Epoch 30/30\n",
      " - 4s - loss: 0.3540 - acc: 0.8083 - val_loss: 0.4348 - val_acc: 0.7574\n"
     ]
    }
   ],
   "source": [
    "model = build_cnn(input_shape=X_train.shape[1:], \n",
    "                  output_shape=y_train.shape[1:], \n",
    "                  architecture=run4_cnn_architecture, \n",
    "                  param=run4_cnn_param)\n",
    "model = train_cnn(model, X_train, y_train, \n",
    "                  param=run4_cnn_param, shuffle=True)"
   ]
  },
  {
   "cell_type": "code",
   "execution_count": 403,
   "metadata": {},
   "outputs": [
    {
     "name": "stdout",
     "output_type": "stream",
     "text": [
      "0.7582049993515014\n",
      "\n",
      "############## Example 0 ##############\n",
      "Expected:\n",
      " [0 0 1 0 1 0 1 1 0 1 1 1 0 0 0 0 1 1 1 0]\n",
      "Actual:\n",
      " [0 0 1 0 0 0 1 1 0 1 1 1 0 0 0 1 1 0 1 1]\n",
      "\n",
      "############## Example 1 ##############\n",
      "Expected:\n",
      " [0 0 0 0 1 1 0 0 0 0 0 1 1 0 0 0 1 0 0 0]\n",
      "Actual:\n",
      " [0 0 0 0 1 1 0 0 1 0 0 1 1 0 1 0 1 0 1 0]\n",
      "\n",
      "############## Example 2 ##############\n",
      "Expected:\n",
      " [0 0 0 1 1 1 0 1 0 1 0 0 1 1 0 1 0 0 1 1]\n",
      "Actual:\n",
      " [0 0 0 1 1 1 0 1 0 1 0 0 1 1 0 0 0 0 0 1]\n",
      "\n",
      "############## Example 3 ##############\n",
      "Expected:\n",
      " [1 1 0 1 0 0 0 0 0 1 1 0 1 1 1 1 0 1 1 1]\n",
      "Actual:\n",
      " [1 1 0 1 0 0 0 0 0 1 1 0 0 1 1 0 0 0 0 0]\n",
      "\n",
      "############## Example 4 ##############\n",
      "Expected:\n",
      " [0 1 1 1 0 1 0 0 0 1 0 0 1 1 0 0 0 1 1 1]\n",
      "Actual:\n",
      " [0 1 1 1 0 1 0 1 1 0 0 0 1 1 0 1 0 0 1 0]\n"
     ]
    }
   ],
   "source": [
    "print(model_accuracy(model, X_test, y_test))\n",
    "pred_vs_truth(model, X_test, y_test, n_show=5, y_truth_is_onehot=True)"
   ]
  },
  {
   "cell_type": "markdown",
   "metadata": {
    "collapsed": true
   },
   "source": [
    "## LSTM"
   ]
  },
  {
   "cell_type": "markdown",
   "metadata": {},
   "source": [
    "### k10, e0.05"
   ]
  },
  {
   "cell_type": "code",
   "execution_count": 34,
   "metadata": {
    "collapsed": true
   },
   "outputs": [],
   "source": [
    "train, test, original = build_data_from_path(\"../data/dataset_04/data/dataset_n25000_k10_e0.05.pkl\")"
   ]
  },
  {
   "cell_type": "code",
   "execution_count": 35,
   "metadata": {
    "collapsed": true
   },
   "outputs": [],
   "source": [
    "X_train, y_train = train\n",
    "X_test, y_test = test\n",
    "X, y, y_oh, y_viterbi_decoded = original"
   ]
  },
  {
   "cell_type": "code",
   "execution_count": 40,
   "metadata": {},
   "outputs": [
    {
     "name": "stdout",
     "output_type": "stream",
     "text": [
      "(20000, 24)\n",
      "(20000, 10, 2)\n"
     ]
    }
   ],
   "source": [
    "print(X_train.shape)\n",
    "print(y_train.shape)"
   ]
  },
  {
   "cell_type": "code",
   "execution_count": 139,
   "metadata": {
    "collapsed": true
   },
   "outputs": [],
   "source": [
    "lr = 0.01"
   ]
  },
  {
   "cell_type": "code",
   "execution_count": 140,
   "metadata": {},
   "outputs": [],
   "source": [
    "model = Sequential()\n",
    "\n",
    "model.add(Embedding(2, 10))\n",
    "model.add(Dropout(0.5))\n",
    "\n",
    "model.add(LSTM(100, activation=\"tanh\", input_shape=X_train.shape[1:]))\n",
    "model.add(Dropout(0.5))\n",
    "\n",
    "model.add(Dense(200, activation=\"relu\"))\n",
    "model.add(Dropout(0.5))\n",
    "\n",
    "model.add(Dense(20, activation=\"sigmoid\"))\n",
    "model.add(Reshape((10,2)))\n",
    "\n",
    "opt = optimizers[\"adam\"](lr=lr)\n",
    "model.compile(optimizer=opt, loss=\"binary_crossentropy\", metrics=[\"accuracy\"])"
   ]
  },
  {
   "cell_type": "code",
   "execution_count": 141,
   "metadata": {},
   "outputs": [
    {
     "name": "stdout",
     "output_type": "stream",
     "text": [
      "Train on 16000 samples, validate on 4000 samples\n",
      "Epoch 1/35\n",
      " - 6s - loss: 0.6410 - acc: 0.5657 - val_loss: 0.5772 - val_acc: 0.6222\n",
      "Epoch 2/35\n",
      " - 4s - loss: 0.5739 - acc: 0.6359 - val_loss: 0.5124 - val_acc: 0.7065\n",
      "Epoch 3/35\n",
      " - 4s - loss: 0.5070 - acc: 0.7123 - val_loss: 0.4341 - val_acc: 0.7679\n",
      "Epoch 4/35\n",
      " - 3s - loss: 0.4388 - acc: 0.7637 - val_loss: 0.3769 - val_acc: 0.7918\n",
      "Epoch 5/35\n",
      " - 3s - loss: 0.3995 - acc: 0.7926 - val_loss: 0.3186 - val_acc: 0.8427\n",
      "Epoch 6/35\n",
      " - 4s - loss: 0.3582 - acc: 0.8190 - val_loss: 0.2799 - val_acc: 0.8657\n",
      "Epoch 7/35\n",
      " - 3s - loss: 0.3256 - acc: 0.8402 - val_loss: 0.2466 - val_acc: 0.8911\n",
      "Epoch 8/35\n",
      " - 4s - loss: 0.2987 - acc: 0.8577 - val_loss: 0.2266 - val_acc: 0.9042\n",
      "Epoch 9/35\n",
      " - 4s - loss: 0.2724 - acc: 0.8756 - val_loss: 0.1881 - val_acc: 0.9252\n",
      "Epoch 10/35\n",
      " - 4s - loss: 0.2440 - acc: 0.8934 - val_loss: 0.1582 - val_acc: 0.9392\n",
      "Epoch 11/35\n",
      " - 3s - loss: 0.2245 - acc: 0.9045 - val_loss: 0.1402 - val_acc: 0.9486\n",
      "Epoch 12/35\n",
      " - 4s - loss: 0.2046 - acc: 0.9164 - val_loss: 0.1160 - val_acc: 0.9597\n",
      "Epoch 13/35\n",
      " - 5s - loss: 0.1839 - acc: 0.9266 - val_loss: 0.1048 - val_acc: 0.9627\n",
      "Epoch 14/35\n",
      " - 4s - loss: 0.1723 - acc: 0.9318 - val_loss: 0.1036 - val_acc: 0.9622\n",
      "Epoch 15/35\n",
      " - 4s - loss: 0.1554 - acc: 0.9400 - val_loss: 0.0833 - val_acc: 0.9695\n",
      "Epoch 16/35\n",
      " - 3s - loss: 0.1415 - acc: 0.9456 - val_loss: 0.0749 - val_acc: 0.9735\n",
      "Epoch 17/35\n",
      " - 4s - loss: 0.1292 - acc: 0.9514 - val_loss: 0.0772 - val_acc: 0.9722\n",
      "Epoch 18/35\n",
      " - 3s - loss: 0.1249 - acc: 0.9537 - val_loss: 0.0647 - val_acc: 0.9777\n",
      "Epoch 19/35\n",
      " - 3s - loss: 0.1135 - acc: 0.9573 - val_loss: 0.0618 - val_acc: 0.9771\n",
      "Epoch 20/35\n",
      " - 3s - loss: 0.1051 - acc: 0.9610 - val_loss: 0.0614 - val_acc: 0.9797\n",
      "Epoch 21/35\n",
      " - 3s - loss: 0.1017 - acc: 0.9627 - val_loss: 0.0560 - val_acc: 0.9790\n",
      "Epoch 22/35\n",
      " - 3s - loss: 0.0941 - acc: 0.9650 - val_loss: 0.0602 - val_acc: 0.9790\n",
      "Epoch 23/35\n",
      " - 3s - loss: 0.0908 - acc: 0.9662 - val_loss: 0.0524 - val_acc: 0.9807\n",
      "Epoch 24/35\n",
      " - 3s - loss: 0.0845 - acc: 0.9690 - val_loss: 0.0537 - val_acc: 0.9794\n",
      "Epoch 25/35\n",
      " - 3s - loss: 0.0858 - acc: 0.9682 - val_loss: 0.0545 - val_acc: 0.9798\n",
      "Epoch 26/35\n",
      " - 3s - loss: 0.0823 - acc: 0.9699 - val_loss: 0.0509 - val_acc: 0.9814\n",
      "Epoch 27/35\n",
      " - 4s - loss: 0.0780 - acc: 0.9710 - val_loss: 0.0539 - val_acc: 0.9809\n",
      "Epoch 28/35\n",
      " - 4s - loss: 0.0774 - acc: 0.9711 - val_loss: 0.0571 - val_acc: 0.9808\n",
      "Epoch 29/35\n",
      " - 4s - loss: 0.0769 - acc: 0.9716 - val_loss: 0.0484 - val_acc: 0.9820\n",
      "Epoch 30/35\n",
      " - 4s - loss: 0.0736 - acc: 0.9728 - val_loss: 0.0501 - val_acc: 0.9826\n",
      "Epoch 31/35\n",
      " - 4s - loss: 0.0697 - acc: 0.9743 - val_loss: 0.0494 - val_acc: 0.9828\n",
      "Epoch 32/35\n",
      " - 3s - loss: 0.0680 - acc: 0.9749 - val_loss: 0.0505 - val_acc: 0.9824\n",
      "Epoch 33/35\n",
      " - 4s - loss: 0.0674 - acc: 0.9748 - val_loss: 0.0508 - val_acc: 0.9828\n",
      "Epoch 34/35\n",
      " - 4s - loss: 0.0636 - acc: 0.9762 - val_loss: 0.0469 - val_acc: 0.9834\n",
      "Epoch 35/35\n",
      " - 3s - loss: 0.0638 - acc: 0.9764 - val_loss: 0.0470 - val_acc: 0.9829\n"
     ]
    }
   ],
   "source": [
    "history = model.fit(X_train, y_train, epochs=35, batch_size=512, verbose=2,\n",
    "          shuffle=True, validation_split=0.2)"
   ]
  },
  {
   "cell_type": "code",
   "execution_count": 142,
   "metadata": {},
   "outputs": [
    {
     "data": {
      "image/png": "[encoded data removed]",
      "text/plain": [
       "<matplotlib.figure.Figure at 0x129dfcd30>"
      ]
     },
     "metadata": {},
     "output_type": "display_data"
    }
   ],
   "source": [
    "plt.plot(history.history['loss'])\n",
    "plt.plot(history.history['val_loss'])\n",
    "plt.title('model loss')\n",
    "plt.ylabel('loss')\n",
    "plt.xlabel('epoch')\n",
    "plt.legend(['train', 'test'], loc='upper left')\n",
    "plt.show()"
   ]
  },
  {
   "cell_type": "code",
   "execution_count": 143,
   "metadata": {},
   "outputs": [
    {
     "name": "stdout",
     "output_type": "stream",
     "text": [
      "0.987132\n",
      "\n",
      "############## Example 0 ##############\n",
      "Expected:\n",
      " [0 1 1 0 1 0 0 0 0 1]\n",
      "Actual:\n",
      " [0 1 1 0 1 0 0 0 0 1]\n",
      "\n",
      "############## Example 1 ##############\n",
      "Expected:\n",
      " [0 1 1 1 1 0 1 1 0 1]\n",
      "Actual:\n",
      " [0 1 1 1 1 0 1 1 0 1]\n",
      "\n",
      "############## Example 2 ##############\n",
      "Expected:\n",
      " [0 0 1 0 0 0 1 1 1 1]\n",
      "Actual:\n",
      " [0 0 1 0 0 0 1 1 1 1]\n",
      "\n",
      "############## Example 3 ##############\n",
      "Expected:\n",
      " [0 1 0 1 1 1 0 1 1 0]\n",
      "Actual:\n",
      " [0 1 0 1 1 1 0 1 1 0]\n",
      "\n",
      "############## Example 4 ##############\n",
      "Expected:\n",
      " [0 0 0 0 1 1 1 0 1 0]\n",
      "Actual:\n",
      " [0 0 0 0 1 1 1 0 1 0]\n"
     ]
    }
   ],
   "source": [
    "print(model_accuracy(model, X, y, argmax=True))\n",
    "pred_vs_truth(model, X_test, y_test, n_show=5, y_truth_is_onehot=True)"
   ]
  },
  {
   "cell_type": "markdown",
   "metadata": {},
   "source": [
    "### k10 e0.15"
   ]
  },
  {
   "cell_type": "code",
   "execution_count": 147,
   "metadata": {},
   "outputs": [
    {
     "name": "stdout",
     "output_type": "stream",
     "text": [
      "Train on 16000 samples, validate on 4000 samples\n",
      "Epoch 1/35\n",
      " - 14s - loss: 0.6652 - acc: 0.5431 - val_loss: 0.6217 - val_acc: 0.5869\n",
      "Epoch 2/35\n",
      " - 11s - loss: 0.6194 - acc: 0.5871 - val_loss: 0.5945 - val_acc: 0.6084\n",
      "Epoch 3/35\n",
      " - 11s - loss: 0.5992 - acc: 0.6060 - val_loss: 0.5742 - val_acc: 0.6238\n",
      "Epoch 4/35\n",
      " - 11s - loss: 0.5827 - acc: 0.6203 - val_loss: 0.5626 - val_acc: 0.6373\n",
      "Epoch 5/35\n",
      " - 10s - loss: 0.5732 - acc: 0.6343 - val_loss: 0.5476 - val_acc: 0.6497\n",
      "Epoch 6/35\n",
      " - 11s - loss: 0.5609 - acc: 0.6493 - val_loss: 0.5333 - val_acc: 0.6718\n",
      "Epoch 7/35\n",
      " - 12s - loss: 0.5484 - acc: 0.6652 - val_loss: 0.5178 - val_acc: 0.6882\n",
      "Epoch 8/35\n",
      " - 10s - loss: 0.5345 - acc: 0.6829 - val_loss: 0.5031 - val_acc: 0.7065\n",
      "Epoch 9/35\n",
      " - 10s - loss: 0.5149 - acc: 0.7060 - val_loss: 0.4835 - val_acc: 0.7352\n",
      "Epoch 10/35\n",
      " - 11s - loss: 0.4936 - acc: 0.7291 - val_loss: 0.4593 - val_acc: 0.7494\n",
      "Epoch 11/35\n",
      " - 10s - loss: 0.4692 - acc: 0.7442 - val_loss: 0.4250 - val_acc: 0.7701\n",
      "Epoch 12/35\n",
      " - 10s - loss: 0.4485 - acc: 0.7601 - val_loss: 0.4193 - val_acc: 0.7774\n",
      "Epoch 13/35\n",
      " - 10s - loss: 0.4337 - acc: 0.7742 - val_loss: 0.4005 - val_acc: 0.7965\n",
      "Epoch 14/35\n",
      " - 10s - loss: 0.4137 - acc: 0.7897 - val_loss: 0.3737 - val_acc: 0.8177\n",
      "Epoch 15/35\n",
      " - 10s - loss: 0.3957 - acc: 0.8048 - val_loss: 0.3695 - val_acc: 0.8290\n",
      "Epoch 16/35\n",
      " - 12s - loss: 0.3837 - acc: 0.8150 - val_loss: 0.3370 - val_acc: 0.8480\n",
      "Epoch 17/35\n",
      " - 11s - loss: 0.3702 - acc: 0.8262 - val_loss: 0.3212 - val_acc: 0.8554\n",
      "Epoch 18/35\n",
      " - 11s - loss: 0.3518 - acc: 0.8375 - val_loss: 0.3092 - val_acc: 0.8657\n",
      "Epoch 19/35\n",
      " - 10s - loss: 0.3359 - acc: 0.8457 - val_loss: 0.3049 - val_acc: 0.8697\n",
      "Epoch 20/35\n",
      " - 10s - loss: 0.3275 - acc: 0.8514 - val_loss: 0.2927 - val_acc: 0.8746\n",
      "Epoch 21/35\n",
      " - 10s - loss: 0.3157 - acc: 0.8589 - val_loss: 0.2765 - val_acc: 0.8836\n",
      "Epoch 22/35\n",
      " - 10s - loss: 0.3031 - acc: 0.8671 - val_loss: 0.2600 - val_acc: 0.8930\n",
      "Epoch 23/35\n",
      " - 10s - loss: 0.2872 - acc: 0.8760 - val_loss: 0.2465 - val_acc: 0.8982\n",
      "Epoch 24/35\n",
      " - 10s - loss: 0.2718 - acc: 0.8848 - val_loss: 0.2398 - val_acc: 0.9021\n",
      "Epoch 25/35\n",
      " - 10s - loss: 0.2607 - acc: 0.8899 - val_loss: 0.2245 - val_acc: 0.9083\n",
      "Epoch 26/35\n",
      " - 10s - loss: 0.2523 - acc: 0.8947 - val_loss: 0.2246 - val_acc: 0.9076\n",
      "Epoch 27/35\n",
      " - 11s - loss: 0.2432 - acc: 0.8987 - val_loss: 0.2195 - val_acc: 0.9093\n",
      "Epoch 28/35\n",
      " - 11s - loss: 0.2341 - acc: 0.9033 - val_loss: 0.2239 - val_acc: 0.9112\n",
      "Epoch 29/35\n",
      " - 10s - loss: 0.2292 - acc: 0.9057 - val_loss: 0.2232 - val_acc: 0.9091\n",
      "Epoch 30/35\n",
      " - 10s - loss: 0.2226 - acc: 0.9087 - val_loss: 0.2213 - val_acc: 0.9105\n",
      "Epoch 31/35\n",
      " - 10s - loss: 0.2179 - acc: 0.9094 - val_loss: 0.2268 - val_acc: 0.9120\n",
      "Epoch 32/35\n",
      " - 10s - loss: 0.2142 - acc: 0.9110 - val_loss: 0.2165 - val_acc: 0.9124\n",
      "Epoch 33/35\n",
      " - 10s - loss: 0.2061 - acc: 0.9149 - val_loss: 0.2174 - val_acc: 0.9127\n",
      "Epoch 34/35\n",
      " - 10s - loss: 0.2023 - acc: 0.9178 - val_loss: 0.2181 - val_acc: 0.9151\n",
      "Epoch 35/35\n",
      " - 10s - loss: 0.1977 - acc: 0.9186 - val_loss: 0.2199 - val_acc: 0.9105\n"
     ]
    },
    {
     "data": {
      "image/png": "[encoded data removed]",
      "text/plain": [
       "<matplotlib.figure.Figure at 0x1335a8fd0>"
      ]
     },
     "metadata": {},
     "output_type": "display_data"
    },
    {
     "name": "stdout",
     "output_type": "stream",
     "text": [
      "0.930448\n",
      "\n",
      "############## Example 0 ##############\n",
      "Expected:\n",
      " [1 0 0 1 1 1 1 1 0 1]\n",
      "Actual:\n",
      " [1 0 0 1 1 1 1 1 0 1]\n",
      "\n",
      "############## Example 1 ##############\n",
      "Expected:\n",
      " [1 1 1 1 0 0 0 0 1 0]\n",
      "Actual:\n",
      " [1 1 1 1 0 0 0 0 1 0]\n",
      "\n",
      "############## Example 2 ##############\n",
      "Expected:\n",
      " [1 1 0 1 1 0 1 1 1 1]\n",
      "Actual:\n",
      " [0 1 0 1 1 0 1 1 1 1]\n",
      "\n",
      "############## Example 3 ##############\n",
      "Expected:\n",
      " [1 0 1 0 1 1 1 0 0 1]\n",
      "Actual:\n",
      " [1 0 1 0 0 1 0 1 0 1]\n",
      "\n",
      "############## Example 4 ##############\n",
      "Expected:\n",
      " [1 0 0 0 1 0 0 0 0 1]\n",
      "Actual:\n",
      " [1 0 0 0 1 0 0 0 0 1]\n"
     ]
    }
   ],
   "source": [
    "train, test, original = build_data_from_path(\"../data/dataset_04/data/dataset_n25000_k10_e0.15.pkl\")\n",
    "X_train, y_train = train\n",
    "X_test, y_test = test\n",
    "X, y, y_oh, y_viterbi_decoded = original\n",
    "\n",
    "lr = 0.005\n",
    "model = Sequential()\n",
    "\n",
    "model.add(Embedding(2, 10))\n",
    "model.add(Dropout(0.5))\n",
    "\n",
    "model.add(LSTM(200, activation=\"tanh\", input_shape=X_train.shape[1:]))\n",
    "model.add(Dropout(0.5))\n",
    "\n",
    "model.add(Dense(200, activation=\"relu\"))\n",
    "model.add(Dropout(0.5))\n",
    "\n",
    "model.add(Dense(20, activation=\"sigmoid\"))\n",
    "model.add(Reshape((10,2)))\n",
    "\n",
    "opt = optimizers[\"adam\"](lr=lr)\n",
    "model.compile(optimizer=opt, loss=\"binary_crossentropy\", metrics=[\"accuracy\"])\n",
    "\n",
    "history = model.fit(X_train, y_train, epochs=35, batch_size=512, verbose=2,\n",
    "          shuffle=True, validation_split=0.2)\n",
    "\n",
    "plt.plot(history.history['loss'])\n",
    "plt.plot(history.history['val_loss'])\n",
    "plt.title('model loss')\n",
    "plt.ylabel('loss')\n",
    "plt.xlabel('epoch')\n",
    "plt.legend(['train', 'test'], loc='upper left')\n",
    "plt.show()\n",
    "\n",
    "print(model_accuracy(model, X, y, argmax=True))\n",
    "pred_vs_truth(model, X_test, y_test, n_show=5, y_truth_is_onehot=True)"
   ]
  },
  {
   "cell_type": "markdown",
   "metadata": {},
   "source": [
    "### k20 e0.05"
   ]
  },
  {
   "cell_type": "code",
   "execution_count": 148,
   "metadata": {},
   "outputs": [
    {
     "name": "stdout",
     "output_type": "stream",
     "text": [
      "Train on 16000 samples, validate on 4000 samples\n",
      "Epoch 1/35\n",
      " - 18s - loss: 0.6638 - acc: 0.5357 - val_loss: 0.6737 - val_acc: 0.5562\n",
      "Epoch 2/35\n",
      " - 14s - loss: 0.6412 - acc: 0.5554 - val_loss: 0.6147 - val_acc: 0.5696\n",
      "Epoch 3/35\n",
      " - 14s - loss: 0.6164 - acc: 0.5747 - val_loss: 0.5942 - val_acc: 0.5922\n",
      "Epoch 4/35\n",
      " - 15s - loss: 0.5946 - acc: 0.5969 - val_loss: 0.5688 - val_acc: 0.6182\n",
      "Epoch 5/35\n",
      " - 13s - loss: 0.5714 - acc: 0.6278 - val_loss: 0.5406 - val_acc: 0.6569\n",
      "Epoch 6/35\n",
      " - 12s - loss: 0.5460 - acc: 0.6619 - val_loss: 0.5081 - val_acc: 0.6917\n",
      "Epoch 7/35\n",
      " - 12s - loss: 0.5249 - acc: 0.6849 - val_loss: 0.4799 - val_acc: 0.7204\n",
      "Epoch 8/35\n",
      " - 12s - loss: 0.4983 - acc: 0.7095 - val_loss: 0.4565 - val_acc: 0.7373\n",
      "Epoch 9/35\n",
      " - 13s - loss: 0.4793 - acc: 0.7265 - val_loss: 0.4374 - val_acc: 0.7574\n",
      "Epoch 10/35\n",
      " - 13s - loss: 0.4555 - acc: 0.7471 - val_loss: 0.4058 - val_acc: 0.7797\n",
      "Epoch 11/35\n",
      " - 12s - loss: 0.4371 - acc: 0.7648 - val_loss: 0.3914 - val_acc: 0.7927\n",
      "Epoch 12/35\n",
      " - 13s - loss: 0.4191 - acc: 0.7808 - val_loss: 0.3555 - val_acc: 0.8193\n",
      "Epoch 13/35\n",
      " - 13s - loss: 0.3964 - acc: 0.7975 - val_loss: 0.3303 - val_acc: 0.8379\n",
      "Epoch 14/35\n",
      " - 12s - loss: 0.3767 - acc: 0.8116 - val_loss: 0.3071 - val_acc: 0.8510\n",
      "Epoch 15/35\n",
      " - 12s - loss: 0.3617 - acc: 0.8221 - val_loss: 0.2948 - val_acc: 0.8606\n",
      "Epoch 16/35\n",
      " - 12s - loss: 0.3431 - acc: 0.8331 - val_loss: 0.2699 - val_acc: 0.8745\n",
      "Epoch 17/35\n",
      " - 13s - loss: 0.3221 - acc: 0.8455 - val_loss: 0.2537 - val_acc: 0.8836\n",
      "Epoch 18/35\n",
      " - 16s - loss: 0.3118 - acc: 0.8523 - val_loss: 0.2376 - val_acc: 0.8903\n",
      "Epoch 19/35\n",
      " - 14s - loss: 0.2958 - acc: 0.8617 - val_loss: 0.2219 - val_acc: 0.9070\n",
      "Epoch 20/35\n",
      " - 15s - loss: 0.2751 - acc: 0.8719 - val_loss: 0.2024 - val_acc: 0.9130\n",
      "Epoch 21/35\n",
      " - 14s - loss: 0.2571 - acc: 0.8828 - val_loss: 0.1861 - val_acc: 0.9227\n",
      "Epoch 22/35\n",
      " - 13s - loss: 0.2426 - acc: 0.8909 - val_loss: 0.1639 - val_acc: 0.9375\n",
      "Epoch 23/35\n",
      " - 13s - loss: 0.2304 - acc: 0.8980 - val_loss: 0.1602 - val_acc: 0.9363\n",
      "Epoch 24/35\n",
      " - 12s - loss: 0.2215 - acc: 0.9028 - val_loss: 0.1447 - val_acc: 0.9467\n",
      "Epoch 25/35\n",
      " - 12s - loss: 0.2036 - acc: 0.9118 - val_loss: 0.1377 - val_acc: 0.9484\n",
      "Epoch 26/35\n",
      " - 14s - loss: 0.1949 - acc: 0.9173 - val_loss: 0.1376 - val_acc: 0.9499\n",
      "Epoch 27/35\n",
      " - 14s - loss: 0.1828 - acc: 0.9234 - val_loss: 0.1053 - val_acc: 0.9628\n",
      "Epoch 28/35\n",
      " - 12s - loss: 0.1762 - acc: 0.9274 - val_loss: 0.1069 - val_acc: 0.9645\n",
      "Epoch 29/35\n",
      " - 13s - loss: 0.1644 - acc: 0.9332 - val_loss: 0.1015 - val_acc: 0.9662\n",
      "Epoch 30/35\n",
      " - 13s - loss: 0.1586 - acc: 0.9359 - val_loss: 0.0908 - val_acc: 0.9690\n",
      "Epoch 31/35\n",
      " - 16s - loss: 0.1524 - acc: 0.9398 - val_loss: 0.1035 - val_acc: 0.9657\n",
      "Epoch 32/35\n",
      " - 15s - loss: 0.1563 - acc: 0.9383 - val_loss: 0.0831 - val_acc: 0.9724\n",
      "Epoch 33/35\n",
      " - 14s - loss: 0.1448 - acc: 0.9438 - val_loss: 0.0828 - val_acc: 0.9734\n",
      "Epoch 34/35\n",
      " - 15s - loss: 0.1366 - acc: 0.9474 - val_loss: 0.0782 - val_acc: 0.9753\n",
      "Epoch 35/35\n",
      " - 16s - loss: 0.1321 - acc: 0.9495 - val_loss: 0.0777 - val_acc: 0.9742\n"
     ]
    },
    {
     "data": {
      "image/png": "[encoded data removed]",
      "text/plain": [
       "<matplotlib.figure.Figure at 0x11395d2e8>"
      ]
     },
     "metadata": {},
     "output_type": "display_data"
    },
    {
     "name": "stdout",
     "output_type": "stream",
     "text": [
      "0.978276\n",
      "\n",
      "############## Example 0 ##############\n",
      "Expected:\n",
      " [1 0 0 0 0 1 1 1 1 1 1 1 0 1 1 1 0 0 1 1]\n",
      "Actual:\n",
      " [1 0 0 0 0 1 1 1 1 1 1 1 0 1 1 1 1 0 1 1]\n",
      "\n",
      "############## Example 1 ##############\n",
      "Expected:\n",
      " [0 1 0 0 0 1 1 1 1 1 1 0 0 1 0 0 1 0 1 1]\n",
      "Actual:\n",
      " [0 1 0 0 0 1 1 1 1 1 1 0 0 1 0 0 1 0 1 1]\n",
      "\n",
      "############## Example 2 ##############\n",
      "Expected:\n",
      " [1 0 0 0 1 1 0 1 1 0 0 0 0 0 0 0 0 1 0 0]\n",
      "Actual:\n",
      " [1 0 0 0 1 1 0 1 1 0 0 0 0 0 0 0 0 1 0 0]\n",
      "\n",
      "############## Example 3 ##############\n",
      "Expected:\n",
      " [1 1 1 0 0 1 0 1 0 0 1 0 0 1 0 1 0 1 0 0]\n",
      "Actual:\n",
      " [1 1 1 0 0 1 0 1 0 0 1 0 0 1 0 1 0 1 0 0]\n",
      "\n",
      "############## Example 4 ##############\n",
      "Expected:\n",
      " [1 1 1 0 1 1 0 1 0 0 1 1 0 1 0 1 0 1 0 0]\n",
      "Actual:\n",
      " [1 1 1 0 1 1 0 1 0 0 1 1 0 1 0 1 0 1 0 0]\n"
     ]
    }
   ],
   "source": [
    "train, test, original = build_data_from_path(\"../data/dataset_04/data/dataset_n25000_k20_e0.05.pkl\")\n",
    "X_train, y_train = train\n",
    "X_test, y_test = test\n",
    "X, y, y_oh, y_viterbi_decoded = original\n",
    "\n",
    "lr = 0.01\n",
    "model = Sequential()\n",
    "\n",
    "model.add(Embedding(2, 20))\n",
    "model.add(Dropout(0.5))\n",
    "\n",
    "model.add(LSTM(200, activation=\"tanh\", input_shape=X_train.shape[1:]))\n",
    "model.add(Dropout(0.5))\n",
    "\n",
    "model.add(Dense(400, activation=\"relu\"))\n",
    "model.add(Dropout(0.5))\n",
    "\n",
    "model.add(Dense(40, activation=\"sigmoid\"))\n",
    "model.add(Reshape((20,2)))\n",
    "\n",
    "opt = optimizers[\"adam\"](lr=lr)\n",
    "model.compile(optimizer=opt, loss=\"binary_crossentropy\", metrics=[\"accuracy\"])\n",
    "\n",
    "history = model.fit(X_train, y_train, epochs=35, batch_size=512, verbose=2,\n",
    "          shuffle=True, validation_split=0.2)\n",
    "\n",
    "plt.plot(history.history['loss'])\n",
    "plt.plot(history.history['val_loss'])\n",
    "plt.title('model loss')\n",
    "plt.ylabel('loss')\n",
    "plt.xlabel('epoch')\n",
    "plt.legend(['train', 'test'], loc='upper left')\n",
    "plt.show()\n",
    "\n",
    "print(model_accuracy(model, X, y, argmax=True))\n",
    "pred_vs_truth(model, X_test, y_test, n_show=5, y_truth_is_onehot=True)"
   ]
  },
  {
   "cell_type": "code",
   "execution_count": 153,
   "metadata": {},
   "outputs": [
    {
     "name": "stdout",
     "output_type": "stream",
     "text": [
      "Train on 16000 samples, validate on 4000 samples\n",
      "Epoch 1/40\n",
      " - 18s - loss: 0.6700 - acc: 0.5307 - val_loss: 0.6435 - val_acc: 0.5507\n",
      "Epoch 2/40\n",
      " - 17s - loss: 0.6382 - acc: 0.5616 - val_loss: 0.6154 - val_acc: 0.5890\n",
      "Epoch 3/40\n",
      " - 19s - loss: 0.6071 - acc: 0.6101 - val_loss: 0.5682 - val_acc: 0.6543\n",
      "Epoch 4/40\n",
      " - 16s - loss: 0.5713 - acc: 0.6551 - val_loss: 0.5262 - val_acc: 0.6989\n",
      "Epoch 5/40\n",
      " - 14s - loss: 0.5399 - acc: 0.6898 - val_loss: 0.4919 - val_acc: 0.7273\n",
      "Epoch 6/40\n",
      " - 13s - loss: 0.5136 - acc: 0.7151 - val_loss: 0.4767 - val_acc: 0.7458\n",
      "Epoch 7/40\n",
      " - 12s - loss: 0.4942 - acc: 0.7311 - val_loss: 0.4498 - val_acc: 0.7594\n",
      "Epoch 8/40\n",
      " - 12s - loss: 0.4742 - acc: 0.7469 - val_loss: 0.4238 - val_acc: 0.7829\n",
      "Epoch 9/40\n",
      " - 13s - loss: 0.4525 - acc: 0.7635 - val_loss: 0.4054 - val_acc: 0.7897\n",
      "Epoch 10/40\n",
      " - 12s - loss: 0.4385 - acc: 0.7725 - val_loss: 0.3856 - val_acc: 0.8019\n",
      "Epoch 11/40\n",
      " - 12s - loss: 0.4184 - acc: 0.7862 - val_loss: 0.3633 - val_acc: 0.8177\n",
      "Epoch 12/40\n",
      " - 12s - loss: 0.4035 - acc: 0.7957 - val_loss: 0.3419 - val_acc: 0.8327\n",
      "Epoch 13/40\n",
      " - 13s - loss: 0.3857 - acc: 0.8057 - val_loss: 0.3368 - val_acc: 0.8393\n",
      "Epoch 14/40\n",
      " - 13s - loss: 0.3708 - acc: 0.8150 - val_loss: 0.3113 - val_acc: 0.8516\n",
      "Epoch 15/40\n",
      " - 15s - loss: 0.3559 - acc: 0.8232 - val_loss: 0.3009 - val_acc: 0.8601\n",
      "Epoch 16/40\n",
      " - 14s - loss: 0.3427 - acc: 0.8319 - val_loss: 0.2826 - val_acc: 0.8660\n",
      "Epoch 17/40\n",
      " - 14s - loss: 0.3332 - acc: 0.8374 - val_loss: 0.2685 - val_acc: 0.8776\n",
      "Epoch 18/40\n",
      " - 13s - loss: 0.3163 - acc: 0.8474 - val_loss: 0.2659 - val_acc: 0.8828\n",
      "Epoch 19/40\n",
      " - 17s - loss: 0.3051 - acc: 0.8539 - val_loss: 0.2418 - val_acc: 0.8936\n",
      "Epoch 20/40\n",
      " - 17s - loss: 0.2939 - acc: 0.8604 - val_loss: 0.2298 - val_acc: 0.9000\n",
      "Epoch 21/40\n",
      " - 17s - loss: 0.2822 - acc: 0.8676 - val_loss: 0.2159 - val_acc: 0.9073\n",
      "Epoch 22/40\n",
      " - 15s - loss: 0.2762 - acc: 0.8714 - val_loss: 0.2129 - val_acc: 0.9107\n",
      "Epoch 23/40\n",
      " - 18s - loss: 0.2674 - acc: 0.8758 - val_loss: 0.1971 - val_acc: 0.9182\n",
      "Epoch 24/40\n",
      " - 15s - loss: 0.2536 - acc: 0.8832 - val_loss: 0.1956 - val_acc: 0.9198\n",
      "Epoch 25/40\n",
      " - 17s - loss: 0.2412 - acc: 0.8898 - val_loss: 0.1750 - val_acc: 0.9284\n",
      "Epoch 26/40\n",
      " - 16s - loss: 0.2339 - acc: 0.8943 - val_loss: 0.1825 - val_acc: 0.9292\n",
      "Epoch 27/40\n",
      " - 16s - loss: 0.2295 - acc: 0.8972 - val_loss: 0.1641 - val_acc: 0.9367\n",
      "Epoch 28/40\n",
      " - 15s - loss: 0.2168 - acc: 0.9049 - val_loss: 0.1580 - val_acc: 0.9421\n",
      "Epoch 29/40\n",
      " - 15s - loss: 0.2096 - acc: 0.9085 - val_loss: 0.1521 - val_acc: 0.9455\n",
      "Epoch 30/40\n",
      " - 16s - loss: 0.2008 - acc: 0.9131 - val_loss: 0.1358 - val_acc: 0.9512\n",
      "Epoch 31/40\n",
      " - 16s - loss: 0.1913 - acc: 0.9186 - val_loss: 0.1357 - val_acc: 0.9501\n",
      "Epoch 32/40\n",
      " - 15s - loss: 0.1844 - acc: 0.9216 - val_loss: 0.1293 - val_acc: 0.9534\n",
      "Epoch 33/40\n",
      " - 13s - loss: 0.1787 - acc: 0.9251 - val_loss: 0.1183 - val_acc: 0.9589\n",
      "Epoch 34/40\n",
      " - 15s - loss: 0.1692 - acc: 0.9297 - val_loss: 0.1143 - val_acc: 0.9617\n",
      "Epoch 35/40\n",
      " - 16s - loss: 0.1612 - acc: 0.9335 - val_loss: 0.1114 - val_acc: 0.9625\n",
      "Epoch 36/40\n",
      " - 15s - loss: 0.1533 - acc: 0.9370 - val_loss: 0.1039 - val_acc: 0.9655\n",
      "Epoch 37/40\n",
      " - 16s - loss: 0.1521 - acc: 0.9389 - val_loss: 0.1000 - val_acc: 0.9684\n",
      "Epoch 38/40\n",
      " - 15s - loss: 0.1442 - acc: 0.9420 - val_loss: 0.0976 - val_acc: 0.9678\n",
      "Epoch 39/40\n",
      " - 15s - loss: 0.1414 - acc: 0.9438 - val_loss: 0.0888 - val_acc: 0.9718\n",
      "Epoch 40/40\n",
      " - 15s - loss: 0.1337 - acc: 0.9473 - val_loss: 0.0880 - val_acc: 0.9713\n"
     ]
    },
    {
     "data": {
      "image/png": "[encoded data removed]",
      "text/plain": [
       "<matplotlib.figure.Figure at 0x138667400>"
      ]
     },
     "metadata": {},
     "output_type": "display_data"
    },
    {
     "name": "stdout",
     "output_type": "stream",
     "text": [
      "0.975926\n",
      "\n",
      "############## Example 0 ##############\n",
      "Expected:\n",
      " [1 0 0 0 0 0 1 0 0 1 0 0 1 1 1 1 0 0 0 1]\n",
      "Actual:\n",
      " [1 0 0 0 0 0 1 0 0 1 0 0 1 1 1 1 0 0 0 1]\n",
      "\n",
      "############## Example 1 ##############\n",
      "Expected:\n",
      " [0 0 1 1 1 1 0 1 1 0 1 0 1 1 1 0 1 1 1 0]\n",
      "Actual:\n",
      " [0 0 1 1 1 1 0 1 1 0 1 0 1 1 1 0 1 1 1 0]\n",
      "\n",
      "############## Example 2 ##############\n",
      "Expected:\n",
      " [1 1 1 0 1 0 1 0 1 1 1 1 0 1 0 1 1 1 1 0]\n",
      "Actual:\n",
      " [1 1 1 0 1 0 1 0 1 1 1 1 0 1 0 1 1 1 1 0]\n",
      "\n",
      "############## Example 3 ##############\n",
      "Expected:\n",
      " [0 1 0 1 0 1 1 1 1 0 0 1 0 0 0 0 0 1 0 0]\n",
      "Actual:\n",
      " [1 1 0 1 0 1 1 1 1 0 0 1 0 0 0 0 0 1 0 0]\n",
      "\n",
      "############## Example 4 ##############\n",
      "Expected:\n",
      " [1 1 1 0 1 1 0 0 0 0 1 1 1 1 0 1 1 0 1 1]\n",
      "Actual:\n",
      " [1 1 1 0 1 1 0 0 0 0 1 1 1 0 0 1 1 0 1 1]\n"
     ]
    }
   ],
   "source": [
    "train, test, original = build_data_from_path(\"../data/dataset_04/data/dataset_n25000_k20_e0.05.pkl\")\n",
    "X_train, y_train = train\n",
    "X_test, y_test = test\n",
    "X, y, y_oh, y_viterbi_decoded = original\n",
    "\n",
    "lr = 0.005\n",
    "model = Sequential()\n",
    "\n",
    "model.add(Embedding(2, 20))\n",
    "model.add(Dropout(0.5))\n",
    "\n",
    "model.add(LSTM(200, activation=\"tanh\", input_shape=X_train.shape[1:]))\n",
    "model.add(Dropout(0.5))\n",
    "\n",
    "model.add(Dense(400, activation=\"relu\"))\n",
    "model.add(Dropout(0.5))\n",
    "\n",
    "model.add(Dense(40, activation=\"sigmoid\"))\n",
    "model.add(Reshape((20,2)))\n",
    "\n",
    "opt = optimizers[\"adam\"](lr=lr)\n",
    "model.compile(optimizer=opt, loss=\"binary_crossentropy\", metrics=[\"accuracy\"])\n",
    "\n",
    "history = model.fit(X_train, y_train, epochs=40, batch_size=512, verbose=2,\n",
    "          shuffle=True, validation_split=0.2)\n",
    "\n",
    "plt.plot(history.history['loss'])\n",
    "plt.plot(history.history['val_loss'])\n",
    "plt.title('model loss')\n",
    "plt.ylabel('loss')\n",
    "plt.xlabel('epoch')\n",
    "plt.legend(['train', 'test'], loc='upper left')\n",
    "plt.show()\n",
    "\n",
    "print(model_accuracy(model, X, y, argmax=True))\n",
    "pred_vs_truth(model, X_test, y_test, n_show=5, y_truth_is_onehot=True)"
   ]
  },
  {
   "cell_type": "code",
   "execution_count": 154,
   "metadata": {},
   "outputs": [
    {
     "name": "stdout",
     "output_type": "stream",
     "text": [
      "Train on 16000 samples, validate on 4000 samples\n",
      "Epoch 1/40\n",
      " - 13s - loss: 0.1288 - acc: 0.9497 - val_loss: 0.0831 - val_acc: 0.9736\n",
      "Epoch 2/40\n",
      " - 13s - loss: 0.1218 - acc: 0.9528 - val_loss: 0.0789 - val_acc: 0.9747\n",
      "Epoch 3/40\n",
      " - 13s - loss: 0.1174 - acc: 0.9548 - val_loss: 0.0766 - val_acc: 0.9751\n",
      "Epoch 4/40\n",
      " - 15s - loss: 0.1167 - acc: 0.9553 - val_loss: 0.0757 - val_acc: 0.9759\n",
      "Epoch 5/40\n",
      " - 17s - loss: 0.1124 - acc: 0.9574 - val_loss: 0.0746 - val_acc: 0.9761\n",
      "Epoch 6/40\n",
      " - 16s - loss: 0.1108 - acc: 0.9583 - val_loss: 0.0723 - val_acc: 0.9772\n",
      "Epoch 7/40\n",
      " - 16s - loss: 0.1060 - acc: 0.9605 - val_loss: 0.0768 - val_acc: 0.9746\n",
      "Epoch 8/40\n",
      " - 16s - loss: 0.1045 - acc: 0.9611 - val_loss: 0.0727 - val_acc: 0.9783\n",
      "Epoch 9/40\n",
      " - 15s - loss: 0.0986 - acc: 0.9633 - val_loss: 0.0716 - val_acc: 0.9797\n",
      "Epoch 10/40\n",
      " - 16s - loss: 0.0950 - acc: 0.9649 - val_loss: 0.0713 - val_acc: 0.9779\n",
      "Epoch 11/40\n",
      " - 16s - loss: 0.0951 - acc: 0.9651 - val_loss: 0.0713 - val_acc: 0.9788\n",
      "Epoch 12/40\n",
      " - 14s - loss: 0.0941 - acc: 0.9658 - val_loss: 0.0653 - val_acc: 0.9789\n",
      "Epoch 13/40\n"
     ]
    },
    {
     "ename": "KeyboardInterrupt",
     "evalue": "",
     "output_type": "error",
     "traceback": [
      "\u001b[0;31m---------------------------------------------------------------------------\u001b[0m",
      "\u001b[0;31mKeyboardInterrupt\u001b[0m                         Traceback (most recent call last)",
      "\u001b[0;32m<ipython-input-154-9cb1e81aa226>\u001b[0m in \u001b[0;36m<module>\u001b[0;34m()\u001b[0m\n\u001b[1;32m      1\u001b[0m history = model.fit(X_train, y_train, epochs=40, batch_size=512, verbose=2,\n\u001b[0;32m----> 2\u001b[0;31m           shuffle=True, validation_split=0.2)\n\u001b[0m\u001b[1;32m      3\u001b[0m \u001b[0;34m\u001b[0m\u001b[0m\n\u001b[1;32m      4\u001b[0m \u001b[0mplt\u001b[0m\u001b[0;34m.\u001b[0m\u001b[0mplot\u001b[0m\u001b[0;34m(\u001b[0m\u001b[0mhistory\u001b[0m\u001b[0;34m.\u001b[0m\u001b[0mhistory\u001b[0m\u001b[0;34m[\u001b[0m\u001b[0;34m'loss'\u001b[0m\u001b[0;34m]\u001b[0m\u001b[0;34m)\u001b[0m\u001b[0;34m\u001b[0m\u001b[0m\n\u001b[1;32m      5\u001b[0m \u001b[0mplt\u001b[0m\u001b[0;34m.\u001b[0m\u001b[0mplot\u001b[0m\u001b[0;34m(\u001b[0m\u001b[0mhistory\u001b[0m\u001b[0;34m.\u001b[0m\u001b[0mhistory\u001b[0m\u001b[0;34m[\u001b[0m\u001b[0;34m'val_loss'\u001b[0m\u001b[0;34m]\u001b[0m\u001b[0;34m)\u001b[0m\u001b[0;34m\u001b[0m\u001b[0m\n",
      "\u001b[0;32m/Users/michael-tu/anaconda/lib/python3.6/site-packages/keras/models.py\u001b[0m in \u001b[0;36mfit\u001b[0;34m(self, x, y, batch_size, epochs, verbose, callbacks, validation_split, validation_data, shuffle, class_weight, sample_weight, initial_epoch, steps_per_epoch, validation_steps, **kwargs)\u001b[0m\n\u001b[1;32m    963\u001b[0m                               \u001b[0minitial_epoch\u001b[0m\u001b[0;34m=\u001b[0m\u001b[0minitial_epoch\u001b[0m\u001b[0;34m,\u001b[0m\u001b[0;34m\u001b[0m\u001b[0m\n\u001b[1;32m    964\u001b[0m                               \u001b[0msteps_per_epoch\u001b[0m\u001b[0;34m=\u001b[0m\u001b[0msteps_per_epoch\u001b[0m\u001b[0;34m,\u001b[0m\u001b[0;34m\u001b[0m\u001b[0m\n\u001b[0;32m--> 965\u001b[0;31m                               validation_steps=validation_steps)\n\u001b[0m\u001b[1;32m    966\u001b[0m \u001b[0;34m\u001b[0m\u001b[0m\n\u001b[1;32m    967\u001b[0m     def evaluate(self, x=None, y=None,\n",
      "\u001b[0;32m/Users/michael-tu/anaconda/lib/python3.6/site-packages/keras/engine/training.py\u001b[0m in \u001b[0;36mfit\u001b[0;34m(self, x, y, batch_size, epochs, verbose, callbacks, validation_split, validation_data, shuffle, class_weight, sample_weight, initial_epoch, steps_per_epoch, validation_steps, **kwargs)\u001b[0m\n\u001b[1;32m   1667\u001b[0m                               \u001b[0minitial_epoch\u001b[0m\u001b[0;34m=\u001b[0m\u001b[0minitial_epoch\u001b[0m\u001b[0;34m,\u001b[0m\u001b[0;34m\u001b[0m\u001b[0m\n\u001b[1;32m   1668\u001b[0m                               \u001b[0msteps_per_epoch\u001b[0m\u001b[0;34m=\u001b[0m\u001b[0msteps_per_epoch\u001b[0m\u001b[0;34m,\u001b[0m\u001b[0;34m\u001b[0m\u001b[0m\n\u001b[0;32m-> 1669\u001b[0;31m                               validation_steps=validation_steps)\n\u001b[0m\u001b[1;32m   1670\u001b[0m \u001b[0;34m\u001b[0m\u001b[0m\n\u001b[1;32m   1671\u001b[0m     def evaluate(self, x=None, y=None,\n",
      "\u001b[0;32m/Users/michael-tu/anaconda/lib/python3.6/site-packages/keras/engine/training.py\u001b[0m in \u001b[0;36m_fit_loop\u001b[0;34m(self, f, ins, out_labels, batch_size, epochs, verbose, callbacks, val_f, val_ins, shuffle, callback_metrics, initial_epoch, steps_per_epoch, validation_steps)\u001b[0m\n\u001b[1;32m   1204\u001b[0m                         \u001b[0mins_batch\u001b[0m\u001b[0;34m[\u001b[0m\u001b[0mi\u001b[0m\u001b[0;34m]\u001b[0m \u001b[0;34m=\u001b[0m \u001b[0mins_batch\u001b[0m\u001b[0;34m[\u001b[0m\u001b[0mi\u001b[0m\u001b[0;34m]\u001b[0m\u001b[0;34m.\u001b[0m\u001b[0mtoarray\u001b[0m\u001b[0;34m(\u001b[0m\u001b[0;34m)\u001b[0m\u001b[0;34m\u001b[0m\u001b[0m\n\u001b[1;32m   1205\u001b[0m \u001b[0;34m\u001b[0m\u001b[0m\n\u001b[0;32m-> 1206\u001b[0;31m                     \u001b[0mouts\u001b[0m \u001b[0;34m=\u001b[0m \u001b[0mf\u001b[0m\u001b[0;34m(\u001b[0m\u001b[0mins_batch\u001b[0m\u001b[0;34m)\u001b[0m\u001b[0;34m\u001b[0m\u001b[0m\n\u001b[0m\u001b[1;32m   1207\u001b[0m                     \u001b[0;32mif\u001b[0m \u001b[0;32mnot\u001b[0m \u001b[0misinstance\u001b[0m\u001b[0;34m(\u001b[0m\u001b[0mouts\u001b[0m\u001b[0;34m,\u001b[0m \u001b[0mlist\u001b[0m\u001b[0;34m)\u001b[0m\u001b[0;34m:\u001b[0m\u001b[0;34m\u001b[0m\u001b[0m\n\u001b[1;32m   1208\u001b[0m                         \u001b[0mouts\u001b[0m \u001b[0;34m=\u001b[0m \u001b[0;34m[\u001b[0m\u001b[0mouts\u001b[0m\u001b[0;34m]\u001b[0m\u001b[0;34m\u001b[0m\u001b[0m\n",
      "\u001b[0;32m/Users/michael-tu/anaconda/lib/python3.6/site-packages/keras/backend/tensorflow_backend.py\u001b[0m in \u001b[0;36m__call__\u001b[0;34m(self, inputs)\u001b[0m\n\u001b[1;32m   2473\u001b[0m         \u001b[0msession\u001b[0m \u001b[0;34m=\u001b[0m \u001b[0mget_session\u001b[0m\u001b[0;34m(\u001b[0m\u001b[0;34m)\u001b[0m\u001b[0;34m\u001b[0m\u001b[0m\n\u001b[1;32m   2474\u001b[0m         updated = session.run(fetches=fetches, feed_dict=feed_dict,\n\u001b[0;32m-> 2475\u001b[0;31m                               **self.session_kwargs)\n\u001b[0m\u001b[1;32m   2476\u001b[0m         \u001b[0;32mreturn\u001b[0m \u001b[0mupdated\u001b[0m\u001b[0;34m[\u001b[0m\u001b[0;34m:\u001b[0m\u001b[0mlen\u001b[0m\u001b[0;34m(\u001b[0m\u001b[0mself\u001b[0m\u001b[0;34m.\u001b[0m\u001b[0moutputs\u001b[0m\u001b[0;34m)\u001b[0m\u001b[0;34m]\u001b[0m\u001b[0;34m\u001b[0m\u001b[0m\n\u001b[1;32m   2477\u001b[0m \u001b[0;34m\u001b[0m\u001b[0m\n",
      "\u001b[0;32m/Users/michael-tu/anaconda/lib/python3.6/site-packages/tensorflow/python/client/session.py\u001b[0m in \u001b[0;36mrun\u001b[0;34m(self, fetches, feed_dict, options, run_metadata)\u001b[0m\n\u001b[1;32m    887\u001b[0m     \u001b[0;32mtry\u001b[0m\u001b[0;34m:\u001b[0m\u001b[0;34m\u001b[0m\u001b[0m\n\u001b[1;32m    888\u001b[0m       result = self._run(None, fetches, feed_dict, options_ptr,\n\u001b[0;32m--> 889\u001b[0;31m                          run_metadata_ptr)\n\u001b[0m\u001b[1;32m    890\u001b[0m       \u001b[0;32mif\u001b[0m \u001b[0mrun_metadata\u001b[0m\u001b[0;34m:\u001b[0m\u001b[0;34m\u001b[0m\u001b[0m\n\u001b[1;32m    891\u001b[0m         \u001b[0mproto_data\u001b[0m \u001b[0;34m=\u001b[0m \u001b[0mtf_session\u001b[0m\u001b[0;34m.\u001b[0m\u001b[0mTF_GetBuffer\u001b[0m\u001b[0;34m(\u001b[0m\u001b[0mrun_metadata_ptr\u001b[0m\u001b[0;34m)\u001b[0m\u001b[0;34m\u001b[0m\u001b[0m\n",
      "\u001b[0;32m/Users/michael-tu/anaconda/lib/python3.6/site-packages/tensorflow/python/client/session.py\u001b[0m in \u001b[0;36m_run\u001b[0;34m(self, handle, fetches, feed_dict, options, run_metadata)\u001b[0m\n\u001b[1;32m   1118\u001b[0m     \u001b[0;32mif\u001b[0m \u001b[0mfinal_fetches\u001b[0m \u001b[0;32mor\u001b[0m \u001b[0mfinal_targets\u001b[0m \u001b[0;32mor\u001b[0m \u001b[0;34m(\u001b[0m\u001b[0mhandle\u001b[0m \u001b[0;32mand\u001b[0m \u001b[0mfeed_dict_tensor\u001b[0m\u001b[0;34m)\u001b[0m\u001b[0;34m:\u001b[0m\u001b[0;34m\u001b[0m\u001b[0m\n\u001b[1;32m   1119\u001b[0m       results = self._do_run(handle, final_targets, final_fetches,\n\u001b[0;32m-> 1120\u001b[0;31m                              feed_dict_tensor, options, run_metadata)\n\u001b[0m\u001b[1;32m   1121\u001b[0m     \u001b[0;32melse\u001b[0m\u001b[0;34m:\u001b[0m\u001b[0;34m\u001b[0m\u001b[0m\n\u001b[1;32m   1122\u001b[0m       \u001b[0mresults\u001b[0m \u001b[0;34m=\u001b[0m \u001b[0;34m[\u001b[0m\u001b[0;34m]\u001b[0m\u001b[0;34m\u001b[0m\u001b[0m\n",
      "\u001b[0;32m/Users/michael-tu/anaconda/lib/python3.6/site-packages/tensorflow/python/client/session.py\u001b[0m in \u001b[0;36m_do_run\u001b[0;34m(self, handle, target_list, fetch_list, feed_dict, options, run_metadata)\u001b[0m\n\u001b[1;32m   1315\u001b[0m     \u001b[0;32mif\u001b[0m \u001b[0mhandle\u001b[0m \u001b[0;32mis\u001b[0m \u001b[0;32mNone\u001b[0m\u001b[0;34m:\u001b[0m\u001b[0;34m\u001b[0m\u001b[0m\n\u001b[1;32m   1316\u001b[0m       return self._do_call(_run_fn, self._session, feeds, fetches, targets,\n\u001b[0;32m-> 1317\u001b[0;31m                            options, run_metadata)\n\u001b[0m\u001b[1;32m   1318\u001b[0m     \u001b[0;32melse\u001b[0m\u001b[0;34m:\u001b[0m\u001b[0;34m\u001b[0m\u001b[0m\n\u001b[1;32m   1319\u001b[0m       \u001b[0;32mreturn\u001b[0m \u001b[0mself\u001b[0m\u001b[0;34m.\u001b[0m\u001b[0m_do_call\u001b[0m\u001b[0;34m(\u001b[0m\u001b[0m_prun_fn\u001b[0m\u001b[0;34m,\u001b[0m \u001b[0mself\u001b[0m\u001b[0;34m.\u001b[0m\u001b[0m_session\u001b[0m\u001b[0;34m,\u001b[0m \u001b[0mhandle\u001b[0m\u001b[0;34m,\u001b[0m \u001b[0mfeeds\u001b[0m\u001b[0;34m,\u001b[0m \u001b[0mfetches\u001b[0m\u001b[0;34m)\u001b[0m\u001b[0;34m\u001b[0m\u001b[0m\n",
      "\u001b[0;32m/Users/michael-tu/anaconda/lib/python3.6/site-packages/tensorflow/python/client/session.py\u001b[0m in \u001b[0;36m_do_call\u001b[0;34m(self, fn, *args)\u001b[0m\n\u001b[1;32m   1321\u001b[0m   \u001b[0;32mdef\u001b[0m \u001b[0m_do_call\u001b[0m\u001b[0;34m(\u001b[0m\u001b[0mself\u001b[0m\u001b[0;34m,\u001b[0m \u001b[0mfn\u001b[0m\u001b[0;34m,\u001b[0m \u001b[0;34m*\u001b[0m\u001b[0margs\u001b[0m\u001b[0;34m)\u001b[0m\u001b[0;34m:\u001b[0m\u001b[0;34m\u001b[0m\u001b[0m\n\u001b[1;32m   1322\u001b[0m     \u001b[0;32mtry\u001b[0m\u001b[0;34m:\u001b[0m\u001b[0;34m\u001b[0m\u001b[0m\n\u001b[0;32m-> 1323\u001b[0;31m       \u001b[0;32mreturn\u001b[0m \u001b[0mfn\u001b[0m\u001b[0;34m(\u001b[0m\u001b[0;34m*\u001b[0m\u001b[0margs\u001b[0m\u001b[0;34m)\u001b[0m\u001b[0;34m\u001b[0m\u001b[0m\n\u001b[0m\u001b[1;32m   1324\u001b[0m     \u001b[0;32mexcept\u001b[0m \u001b[0merrors\u001b[0m\u001b[0;34m.\u001b[0m\u001b[0mOpError\u001b[0m \u001b[0;32mas\u001b[0m \u001b[0me\u001b[0m\u001b[0;34m:\u001b[0m\u001b[0;34m\u001b[0m\u001b[0m\n\u001b[1;32m   1325\u001b[0m       \u001b[0mmessage\u001b[0m \u001b[0;34m=\u001b[0m \u001b[0mcompat\u001b[0m\u001b[0;34m.\u001b[0m\u001b[0mas_text\u001b[0m\u001b[0;34m(\u001b[0m\u001b[0me\u001b[0m\u001b[0;34m.\u001b[0m\u001b[0mmessage\u001b[0m\u001b[0;34m)\u001b[0m\u001b[0;34m\u001b[0m\u001b[0m\n",
      "\u001b[0;32m/Users/michael-tu/anaconda/lib/python3.6/site-packages/tensorflow/python/client/session.py\u001b[0m in \u001b[0;36m_run_fn\u001b[0;34m(session, feed_dict, fetch_list, target_list, options, run_metadata)\u001b[0m\n\u001b[1;32m   1300\u001b[0m           return tf_session.TF_Run(session, options,\n\u001b[1;32m   1301\u001b[0m                                    \u001b[0mfeed_dict\u001b[0m\u001b[0;34m,\u001b[0m \u001b[0mfetch_list\u001b[0m\u001b[0;34m,\u001b[0m \u001b[0mtarget_list\u001b[0m\u001b[0;34m,\u001b[0m\u001b[0;34m\u001b[0m\u001b[0m\n\u001b[0;32m-> 1302\u001b[0;31m                                    status, run_metadata)\n\u001b[0m\u001b[1;32m   1303\u001b[0m \u001b[0;34m\u001b[0m\u001b[0m\n\u001b[1;32m   1304\u001b[0m     \u001b[0;32mdef\u001b[0m \u001b[0m_prun_fn\u001b[0m\u001b[0;34m(\u001b[0m\u001b[0msession\u001b[0m\u001b[0;34m,\u001b[0m \u001b[0mhandle\u001b[0m\u001b[0;34m,\u001b[0m \u001b[0mfeed_dict\u001b[0m\u001b[0;34m,\u001b[0m \u001b[0mfetch_list\u001b[0m\u001b[0;34m)\u001b[0m\u001b[0;34m:\u001b[0m\u001b[0;34m\u001b[0m\u001b[0m\n",
      "\u001b[0;31mKeyboardInterrupt\u001b[0m: "
     ]
    }
   ],
   "source": [
    "history = model.fit(X_train, y_train, epochs=40, batch_size=512, verbose=2,\n",
    "          shuffle=True, validation_split=0.2)"
   ]
  },
  {
   "cell_type": "code",
   "execution_count": 155,
   "metadata": {},
   "outputs": [
    {
     "data": {
      "image/png": "[encoded data removed]",
      "text/plain": [
       "<matplotlib.figure.Figure at 0x144c23da0>"
      ]
     },
     "metadata": {},
     "output_type": "display_data"
    },
    {
     "name": "stdout",
     "output_type": "stream",
     "text": [
      "0.985642\n",
      "\n",
      "############## Example 0 ##############\n",
      "Expected:\n",
      " [0 0 1 1 1 1 0 0 1 0 0 1 1 0 1 0 1 0 0 1]\n",
      "Actual:\n",
      " [0 0 1 1 1 1 0 0 1 0 0 1 1 0 1 0 1 0 0 1]\n",
      "\n",
      "############## Example 1 ##############\n",
      "Expected:\n",
      " [1 0 1 1 0 0 0 1 1 1 0 1 0 0 0 0 1 1 0 1]\n",
      "Actual:\n",
      " [1 0 1 1 0 0 0 1 1 1 0 1 0 0 0 0 1 1 0 1]\n",
      "\n",
      "############## Example 2 ##############\n",
      "Expected:\n",
      " [0 1 1 1 1 0 0 0 0 0 1 0 0 1 0 1 1 0 1 0]\n",
      "Actual:\n",
      " [0 1 1 1 1 0 0 0 0 0 1 0 0 1 0 1 1 0 1 0]\n",
      "\n",
      "############## Example 3 ##############\n",
      "Expected:\n",
      " [1 1 0 0 0 0 0 1 1 0 0 0 0 1 1 1 1 1 0 1]\n",
      "Actual:\n",
      " [1 1 0 0 0 0 0 1 1 0 0 0 0 1 1 1 1 1 0 1]\n",
      "\n",
      "############## Example 4 ##############\n",
      "Expected:\n",
      " [0 1 1 0 0 1 0 0 1 1 0 0 1 0 0 1 1 1 1 1]\n",
      "Actual:\n",
      " [0 1 1 0 0 1 0 0 1 1 0 0 1 0 0 1 1 1 1 1]\n"
     ]
    }
   ],
   "source": [
    "plt.plot(history.history['loss'])\n",
    "plt.plot(history.history['val_loss'])\n",
    "plt.title('model loss')\n",
    "plt.ylabel('loss')\n",
    "plt.xlabel('epoch')\n",
    "plt.legend(['train', 'test'], loc='upper left')\n",
    "plt.show()\n",
    "\n",
    "print(model_accuracy(model, X, y, argmax=True))\n",
    "pred_vs_truth(model, X_test, y_test, n_show=5, y_truth_is_onehot=True)"
   ]
  },
  {
   "cell_type": "markdown",
   "metadata": {},
   "source": [
    "### k20 e0.15"
   ]
  },
  {
   "cell_type": "code",
   "execution_count": 162,
   "metadata": {},
   "outputs": [
    {
     "name": "stdout",
     "output_type": "stream",
     "text": [
      "Train on 16000 samples, validate on 4000 samples\n",
      "Epoch 1/40\n",
      " - 24s - loss: 0.6703 - acc: 0.5312 - val_loss: 0.6494 - val_acc: 0.5467\n",
      "Epoch 2/40\n",
      " - 22s - loss: 0.6477 - acc: 0.5517 - val_loss: 0.6419 - val_acc: 0.5540\n",
      "Epoch 3/40\n",
      " - 23s - loss: 0.6393 - acc: 0.5583 - val_loss: 0.6295 - val_acc: 0.5638\n",
      "Epoch 4/40\n",
      " - 21s - loss: 0.6322 - acc: 0.5665 - val_loss: 0.6239 - val_acc: 0.5696\n",
      "Epoch 5/40\n",
      " - 22s - loss: 0.6272 - acc: 0.5713 - val_loss: 0.6174 - val_acc: 0.5765\n",
      "Epoch 6/40\n",
      " - 23s - loss: 0.6222 - acc: 0.5763 - val_loss: 0.6097 - val_acc: 0.5829\n",
      "Epoch 7/40\n",
      " - 24s - loss: 0.6171 - acc: 0.5823 - val_loss: 0.6082 - val_acc: 0.5854\n",
      "Epoch 8/40\n",
      " - 26s - loss: 0.6133 - acc: 0.5888 - val_loss: 0.6047 - val_acc: 0.5910\n",
      "Epoch 9/40\n",
      " - 25s - loss: 0.6080 - acc: 0.5937 - val_loss: 0.5980 - val_acc: 0.5968\n",
      "Epoch 10/40\n",
      " - 24s - loss: 0.6039 - acc: 0.5980 - val_loss: 0.5968 - val_acc: 0.5999\n",
      "Epoch 11/40\n",
      " - 22s - loss: 0.6021 - acc: 0.6017 - val_loss: 0.5937 - val_acc: 0.6046\n",
      "Epoch 12/40\n",
      " - 20s - loss: 0.5983 - acc: 0.6046 - val_loss: 0.5826 - val_acc: 0.6168\n",
      "Epoch 13/40\n",
      " - 22s - loss: 0.5910 - acc: 0.6119 - val_loss: 0.5794 - val_acc: 0.6194\n",
      "Epoch 14/40\n",
      " - 27s - loss: 0.5855 - acc: 0.6162 - val_loss: 0.5757 - val_acc: 0.6237\n",
      "Epoch 15/40\n",
      " - 30s - loss: 0.5808 - acc: 0.6217 - val_loss: 0.5701 - val_acc: 0.6297\n",
      "Epoch 16/40\n",
      " - 24s - loss: 0.5776 - acc: 0.6278 - val_loss: 0.5716 - val_acc: 0.6314\n",
      "Epoch 17/40\n",
      " - 22s - loss: 0.5725 - acc: 0.6316 - val_loss: 0.5623 - val_acc: 0.6380\n",
      "Epoch 18/40\n",
      " - 21s - loss: 0.5673 - acc: 0.6371 - val_loss: 0.5571 - val_acc: 0.6424\n",
      "Epoch 19/40\n",
      " - 21s - loss: 0.5624 - acc: 0.6402 - val_loss: 0.5600 - val_acc: 0.6419\n",
      "Epoch 20/40\n",
      " - 21s - loss: 0.5625 - acc: 0.6418 - val_loss: 0.5496 - val_acc: 0.6483\n",
      "Epoch 21/40\n",
      " - 21s - loss: 0.5542 - acc: 0.6482 - val_loss: 0.5477 - val_acc: 0.6535\n",
      "Epoch 22/40\n",
      " - 22s - loss: 0.5509 - acc: 0.6526 - val_loss: 0.5422 - val_acc: 0.6599\n",
      "Epoch 23/40\n",
      " - 23s - loss: 0.5475 - acc: 0.6568 - val_loss: 0.5407 - val_acc: 0.6606\n",
      "Epoch 24/40\n",
      " - 22s - loss: 0.5421 - acc: 0.6596 - val_loss: 0.5326 - val_acc: 0.6657\n",
      "Epoch 25/40\n",
      " - 20s - loss: 0.5384 - acc: 0.6637 - val_loss: 0.5325 - val_acc: 0.6678\n",
      "Epoch 26/40\n",
      " - 20s - loss: 0.5351 - acc: 0.6675 - val_loss: 0.5351 - val_acc: 0.6672\n",
      "Epoch 27/40\n",
      " - 21s - loss: 0.5309 - acc: 0.6701 - val_loss: 0.5361 - val_acc: 0.6690\n",
      "Epoch 28/40\n",
      " - 22s - loss: 0.5286 - acc: 0.6729 - val_loss: 0.5201 - val_acc: 0.6791\n",
      "Epoch 29/40\n",
      " - 23s - loss: 0.5220 - acc: 0.6788 - val_loss: 0.5201 - val_acc: 0.6805\n",
      "Epoch 30/40\n",
      " - 21s - loss: 0.5194 - acc: 0.6819 - val_loss: 0.5170 - val_acc: 0.6820\n",
      "Epoch 31/40\n",
      " - 20s - loss: 0.5140 - acc: 0.6847 - val_loss: 0.5102 - val_acc: 0.6874\n",
      "Epoch 32/40\n",
      " - 21s - loss: 0.5127 - acc: 0.6866 - val_loss: 0.5129 - val_acc: 0.6862\n",
      "Epoch 33/40\n",
      " - 20s - loss: 0.5116 - acc: 0.6874 - val_loss: 0.5084 - val_acc: 0.6908\n",
      "Epoch 34/40\n",
      " - 21s - loss: 0.5075 - acc: 0.6918 - val_loss: 0.5046 - val_acc: 0.6959\n",
      "Epoch 35/40\n",
      " - 24s - loss: 0.5006 - acc: 0.6970 - val_loss: 0.5058 - val_acc: 0.6950\n",
      "Epoch 36/40\n",
      " - 21s - loss: 0.5017 - acc: 0.6975 - val_loss: 0.4991 - val_acc: 0.7015\n",
      "Epoch 37/40\n",
      " - 28s - loss: 0.4942 - acc: 0.7015 - val_loss: 0.4999 - val_acc: 0.6987\n",
      "Epoch 38/40\n",
      " - 22s - loss: 0.4894 - acc: 0.7044 - val_loss: 0.4912 - val_acc: 0.7046\n",
      "Epoch 39/40\n",
      " - 20s - loss: 0.4845 - acc: 0.7089 - val_loss: 0.4921 - val_acc: 0.7062\n",
      "Epoch 40/40\n",
      " - 20s - loss: 0.4826 - acc: 0.7114 - val_loss: 0.4928 - val_acc: 0.7062\n"
     ]
    },
    {
     "data": {
      "image/png": "[encoded data removed]",
      "text/plain": [
       "<matplotlib.figure.Figure at 0x146cd6c50>"
      ]
     },
     "metadata": {},
     "output_type": "display_data"
    },
    {
     "name": "stdout",
     "output_type": "stream",
     "text": [
      "0.7302\n",
      "\n",
      "############## Example 0 ##############\n",
      "Expected:\n",
      " [0 1 0 0 0 1 1 1 0 0 0 1 1 1 1 1 0 1 1 0]\n",
      "Actual:\n",
      " [1 1 0 1 0 0 1 0 0 0 1 0 1 1 1 1 0 1 1 0]\n",
      "\n",
      "############## Example 1 ##############\n",
      "Expected:\n",
      " [0 1 1 1 1 1 0 1 1 1 0 0 0 1 0 1 1 1 1 1]\n",
      "Actual:\n",
      " [1 1 1 0 0 0 1 1 1 1 0 0 0 1 0 1 1 1 1 1]\n",
      "\n",
      "############## Example 2 ##############\n",
      "Expected:\n",
      " [0 0 1 0 1 0 0 1 1 1 0 0 1 1 0 1 1 0 1 0]\n",
      "Actual:\n",
      " [1 1 1 0 0 0 0 0 0 0 0 0 1 1 1 1 1 1 0 0]\n",
      "\n",
      "############## Example 3 ##############\n",
      "Expected:\n",
      " [0 0 0 1 1 0 0 1 1 0 1 1 1 0 1 1 1 1 0 0]\n",
      "Actual:\n",
      " [1 0 0 1 0 0 0 0 0 1 0 1 1 0 1 1 1 1 0 0]\n",
      "\n",
      "############## Example 4 ##############\n",
      "Expected:\n",
      " [1 1 0 1 0 1 1 1 1 1 1 1 0 0 1 1 0 1 1 1]\n",
      "Actual:\n",
      " [1 1 0 0 0 0 1 1 1 1 1 1 0 0 1 0 0 0 1 0]\n"
     ]
    }
   ],
   "source": [
    "train, test, original = build_data_from_path(\"../data/dataset_04/data/dataset_n25000_k20_e0.15.pkl\")\n",
    "X_train, y_train = train\n",
    "X_test, y_test = test\n",
    "X, y, y_oh, y_viterbi_decoded = original\n",
    "\n",
    "lr = 0.01\n",
    "model = Sequential()\n",
    "\n",
    "model.add(Embedding(2, 40))\n",
    "model.add(Dropout(0.5))\n",
    "\n",
    "model.add(LSTM(200, activation=\"tanh\", input_shape=X_train.shape[1:]))\n",
    "model.add(Dropout(0.5))\n",
    "\n",
    "model.add(Dense(400, activation=\"relu\"))\n",
    "model.add(Dropout(0.5))\n",
    "\n",
    "model.add(Dense(40, activation=\"sigmoid\"))\n",
    "model.add(Reshape((20,2)))\n",
    "\n",
    "opt = optimizers[\"adam\"](lr=lr)\n",
    "model.compile(optimizer=opt, loss=\"binary_crossentropy\", metrics=[\"accuracy\"])\n",
    "\n",
    "history = model.fit(X_train, y_train, epochs=40, batch_size=512, verbose=2,\n",
    "          shuffle=True, validation_split=0.2)\n",
    "\n",
    "plt.plot(history.history['loss'])\n",
    "plt.plot(history.history['val_loss'])\n",
    "plt.title('model loss')\n",
    "plt.ylabel('loss')\n",
    "plt.xlabel('epoch')\n",
    "plt.legend(['train', 'test'], loc='upper left')\n",
    "plt.show()\n",
    "\n",
    "print(model_accuracy(model, X, y, argmax=True))\n",
    "pred_vs_truth(model, X_test, y_test, n_show=5, y_truth_is_onehot=True)"
   ]
  },
  {
   "cell_type": "markdown",
   "metadata": {},
   "source": [
    "### k40 e0.05"
   ]
  },
  {
   "cell_type": "code",
   "execution_count": 151,
   "metadata": {},
   "outputs": [
    {
     "name": "stdout",
     "output_type": "stream",
     "text": [
      "Train on 16000 samples, validate on 4000 samples\n",
      "Epoch 1/35\n",
      " - 61s - loss: 0.6790 - acc: 0.5189 - val_loss: 0.6630 - val_acc: 0.5297\n",
      "Epoch 2/35\n",
      " - 61s - loss: 0.6594 - acc: 0.5353 - val_loss: 0.6475 - val_acc: 0.5413\n",
      "Epoch 3/35\n",
      " - 51s - loss: 0.6467 - acc: 0.5481 - val_loss: 0.6360 - val_acc: 0.5550\n",
      "Epoch 4/35\n",
      " - 50s - loss: 0.6370 - acc: 0.5595 - val_loss: 0.6220 - val_acc: 0.5697\n",
      "Epoch 5/35\n"
     ]
    },
    {
     "ename": "KeyboardInterrupt",
     "evalue": "",
     "output_type": "error",
     "traceback": [
      "\u001b[0;31m---------------------------------------------------------------------------\u001b[0m",
      "\u001b[0;31mKeyboardInterrupt\u001b[0m                         Traceback (most recent call last)",
      "\u001b[0;32m<ipython-input-151-6420c23dc8de>\u001b[0m in \u001b[0;36m<module>\u001b[0;34m()\u001b[0m\n\u001b[1;32m     23\u001b[0m \u001b[0;34m\u001b[0m\u001b[0m\n\u001b[1;32m     24\u001b[0m history = model.fit(X_train, y_train, epochs=35, batch_size=512, verbose=2,\n\u001b[0;32m---> 25\u001b[0;31m           shuffle=True, validation_split=0.2)\n\u001b[0m\u001b[1;32m     26\u001b[0m \u001b[0;34m\u001b[0m\u001b[0m\n\u001b[1;32m     27\u001b[0m \u001b[0mplt\u001b[0m\u001b[0;34m.\u001b[0m\u001b[0mplot\u001b[0m\u001b[0;34m(\u001b[0m\u001b[0mhistory\u001b[0m\u001b[0;34m.\u001b[0m\u001b[0mhistory\u001b[0m\u001b[0;34m[\u001b[0m\u001b[0;34m'loss'\u001b[0m\u001b[0;34m]\u001b[0m\u001b[0;34m)\u001b[0m\u001b[0;34m\u001b[0m\u001b[0m\n",
      "\u001b[0;32m/Users/michael-tu/anaconda/lib/python3.6/site-packages/keras/models.py\u001b[0m in \u001b[0;36mfit\u001b[0;34m(self, x, y, batch_size, epochs, verbose, callbacks, validation_split, validation_data, shuffle, class_weight, sample_weight, initial_epoch, steps_per_epoch, validation_steps, **kwargs)\u001b[0m\n\u001b[1;32m    963\u001b[0m                               \u001b[0minitial_epoch\u001b[0m\u001b[0;34m=\u001b[0m\u001b[0minitial_epoch\u001b[0m\u001b[0;34m,\u001b[0m\u001b[0;34m\u001b[0m\u001b[0m\n\u001b[1;32m    964\u001b[0m                               \u001b[0msteps_per_epoch\u001b[0m\u001b[0;34m=\u001b[0m\u001b[0msteps_per_epoch\u001b[0m\u001b[0;34m,\u001b[0m\u001b[0;34m\u001b[0m\u001b[0m\n\u001b[0;32m--> 965\u001b[0;31m                               validation_steps=validation_steps)\n\u001b[0m\u001b[1;32m    966\u001b[0m \u001b[0;34m\u001b[0m\u001b[0m\n\u001b[1;32m    967\u001b[0m     def evaluate(self, x=None, y=None,\n",
      "\u001b[0;32m/Users/michael-tu/anaconda/lib/python3.6/site-packages/keras/engine/training.py\u001b[0m in \u001b[0;36mfit\u001b[0;34m(self, x, y, batch_size, epochs, verbose, callbacks, validation_split, validation_data, shuffle, class_weight, sample_weight, initial_epoch, steps_per_epoch, validation_steps, **kwargs)\u001b[0m\n\u001b[1;32m   1667\u001b[0m                               \u001b[0minitial_epoch\u001b[0m\u001b[0;34m=\u001b[0m\u001b[0minitial_epoch\u001b[0m\u001b[0;34m,\u001b[0m\u001b[0;34m\u001b[0m\u001b[0m\n\u001b[1;32m   1668\u001b[0m                               \u001b[0msteps_per_epoch\u001b[0m\u001b[0;34m=\u001b[0m\u001b[0msteps_per_epoch\u001b[0m\u001b[0;34m,\u001b[0m\u001b[0;34m\u001b[0m\u001b[0m\n\u001b[0;32m-> 1669\u001b[0;31m                               validation_steps=validation_steps)\n\u001b[0m\u001b[1;32m   1670\u001b[0m \u001b[0;34m\u001b[0m\u001b[0m\n\u001b[1;32m   1671\u001b[0m     def evaluate(self, x=None, y=None,\n",
      "\u001b[0;32m/Users/michael-tu/anaconda/lib/python3.6/site-packages/keras/engine/training.py\u001b[0m in \u001b[0;36m_fit_loop\u001b[0;34m(self, f, ins, out_labels, batch_size, epochs, verbose, callbacks, val_f, val_ins, shuffle, callback_metrics, initial_epoch, steps_per_epoch, validation_steps)\u001b[0m\n\u001b[1;32m   1204\u001b[0m                         \u001b[0mins_batch\u001b[0m\u001b[0;34m[\u001b[0m\u001b[0mi\u001b[0m\u001b[0;34m]\u001b[0m \u001b[0;34m=\u001b[0m \u001b[0mins_batch\u001b[0m\u001b[0;34m[\u001b[0m\u001b[0mi\u001b[0m\u001b[0;34m]\u001b[0m\u001b[0;34m.\u001b[0m\u001b[0mtoarray\u001b[0m\u001b[0;34m(\u001b[0m\u001b[0;34m)\u001b[0m\u001b[0;34m\u001b[0m\u001b[0m\n\u001b[1;32m   1205\u001b[0m \u001b[0;34m\u001b[0m\u001b[0m\n\u001b[0;32m-> 1206\u001b[0;31m                     \u001b[0mouts\u001b[0m \u001b[0;34m=\u001b[0m \u001b[0mf\u001b[0m\u001b[0;34m(\u001b[0m\u001b[0mins_batch\u001b[0m\u001b[0;34m)\u001b[0m\u001b[0;34m\u001b[0m\u001b[0m\n\u001b[0m\u001b[1;32m   1207\u001b[0m                     \u001b[0;32mif\u001b[0m \u001b[0;32mnot\u001b[0m \u001b[0misinstance\u001b[0m\u001b[0;34m(\u001b[0m\u001b[0mouts\u001b[0m\u001b[0;34m,\u001b[0m \u001b[0mlist\u001b[0m\u001b[0;34m)\u001b[0m\u001b[0;34m:\u001b[0m\u001b[0;34m\u001b[0m\u001b[0m\n\u001b[1;32m   1208\u001b[0m                         \u001b[0mouts\u001b[0m \u001b[0;34m=\u001b[0m \u001b[0;34m[\u001b[0m\u001b[0mouts\u001b[0m\u001b[0;34m]\u001b[0m\u001b[0;34m\u001b[0m\u001b[0m\n",
      "\u001b[0;32m/Users/michael-tu/anaconda/lib/python3.6/site-packages/keras/backend/tensorflow_backend.py\u001b[0m in \u001b[0;36m__call__\u001b[0;34m(self, inputs)\u001b[0m\n\u001b[1;32m   2473\u001b[0m         \u001b[0msession\u001b[0m \u001b[0;34m=\u001b[0m \u001b[0mget_session\u001b[0m\u001b[0;34m(\u001b[0m\u001b[0;34m)\u001b[0m\u001b[0;34m\u001b[0m\u001b[0m\n\u001b[1;32m   2474\u001b[0m         updated = session.run(fetches=fetches, feed_dict=feed_dict,\n\u001b[0;32m-> 2475\u001b[0;31m                               **self.session_kwargs)\n\u001b[0m\u001b[1;32m   2476\u001b[0m         \u001b[0;32mreturn\u001b[0m \u001b[0mupdated\u001b[0m\u001b[0;34m[\u001b[0m\u001b[0;34m:\u001b[0m\u001b[0mlen\u001b[0m\u001b[0;34m(\u001b[0m\u001b[0mself\u001b[0m\u001b[0;34m.\u001b[0m\u001b[0moutputs\u001b[0m\u001b[0;34m)\u001b[0m\u001b[0;34m]\u001b[0m\u001b[0;34m\u001b[0m\u001b[0m\n\u001b[1;32m   2477\u001b[0m \u001b[0;34m\u001b[0m\u001b[0m\n",
      "\u001b[0;32m/Users/michael-tu/anaconda/lib/python3.6/site-packages/tensorflow/python/client/session.py\u001b[0m in \u001b[0;36mrun\u001b[0;34m(self, fetches, feed_dict, options, run_metadata)\u001b[0m\n\u001b[1;32m    887\u001b[0m     \u001b[0;32mtry\u001b[0m\u001b[0;34m:\u001b[0m\u001b[0;34m\u001b[0m\u001b[0m\n\u001b[1;32m    888\u001b[0m       result = self._run(None, fetches, feed_dict, options_ptr,\n\u001b[0;32m--> 889\u001b[0;31m                          run_metadata_ptr)\n\u001b[0m\u001b[1;32m    890\u001b[0m       \u001b[0;32mif\u001b[0m \u001b[0mrun_metadata\u001b[0m\u001b[0;34m:\u001b[0m\u001b[0;34m\u001b[0m\u001b[0m\n\u001b[1;32m    891\u001b[0m         \u001b[0mproto_data\u001b[0m \u001b[0;34m=\u001b[0m \u001b[0mtf_session\u001b[0m\u001b[0;34m.\u001b[0m\u001b[0mTF_GetBuffer\u001b[0m\u001b[0;34m(\u001b[0m\u001b[0mrun_metadata_ptr\u001b[0m\u001b[0;34m)\u001b[0m\u001b[0;34m\u001b[0m\u001b[0m\n",
      "\u001b[0;32m/Users/michael-tu/anaconda/lib/python3.6/site-packages/tensorflow/python/client/session.py\u001b[0m in \u001b[0;36m_run\u001b[0;34m(self, handle, fetches, feed_dict, options, run_metadata)\u001b[0m\n\u001b[1;32m   1118\u001b[0m     \u001b[0;32mif\u001b[0m \u001b[0mfinal_fetches\u001b[0m \u001b[0;32mor\u001b[0m \u001b[0mfinal_targets\u001b[0m \u001b[0;32mor\u001b[0m \u001b[0;34m(\u001b[0m\u001b[0mhandle\u001b[0m \u001b[0;32mand\u001b[0m \u001b[0mfeed_dict_tensor\u001b[0m\u001b[0;34m)\u001b[0m\u001b[0;34m:\u001b[0m\u001b[0;34m\u001b[0m\u001b[0m\n\u001b[1;32m   1119\u001b[0m       results = self._do_run(handle, final_targets, final_fetches,\n\u001b[0;32m-> 1120\u001b[0;31m                              feed_dict_tensor, options, run_metadata)\n\u001b[0m\u001b[1;32m   1121\u001b[0m     \u001b[0;32melse\u001b[0m\u001b[0;34m:\u001b[0m\u001b[0;34m\u001b[0m\u001b[0m\n\u001b[1;32m   1122\u001b[0m       \u001b[0mresults\u001b[0m \u001b[0;34m=\u001b[0m \u001b[0;34m[\u001b[0m\u001b[0;34m]\u001b[0m\u001b[0;34m\u001b[0m\u001b[0m\n",
      "\u001b[0;32m/Users/michael-tu/anaconda/lib/python3.6/site-packages/tensorflow/python/client/session.py\u001b[0m in \u001b[0;36m_do_run\u001b[0;34m(self, handle, target_list, fetch_list, feed_dict, options, run_metadata)\u001b[0m\n\u001b[1;32m   1315\u001b[0m     \u001b[0;32mif\u001b[0m \u001b[0mhandle\u001b[0m \u001b[0;32mis\u001b[0m \u001b[0;32mNone\u001b[0m\u001b[0;34m:\u001b[0m\u001b[0;34m\u001b[0m\u001b[0m\n\u001b[1;32m   1316\u001b[0m       return self._do_call(_run_fn, self._session, feeds, fetches, targets,\n\u001b[0;32m-> 1317\u001b[0;31m                            options, run_metadata)\n\u001b[0m\u001b[1;32m   1318\u001b[0m     \u001b[0;32melse\u001b[0m\u001b[0;34m:\u001b[0m\u001b[0;34m\u001b[0m\u001b[0m\n\u001b[1;32m   1319\u001b[0m       \u001b[0;32mreturn\u001b[0m \u001b[0mself\u001b[0m\u001b[0;34m.\u001b[0m\u001b[0m_do_call\u001b[0m\u001b[0;34m(\u001b[0m\u001b[0m_prun_fn\u001b[0m\u001b[0;34m,\u001b[0m \u001b[0mself\u001b[0m\u001b[0;34m.\u001b[0m\u001b[0m_session\u001b[0m\u001b[0;34m,\u001b[0m \u001b[0mhandle\u001b[0m\u001b[0;34m,\u001b[0m \u001b[0mfeeds\u001b[0m\u001b[0;34m,\u001b[0m \u001b[0mfetches\u001b[0m\u001b[0;34m)\u001b[0m\u001b[0;34m\u001b[0m\u001b[0m\n",
      "\u001b[0;32m/Users/michael-tu/anaconda/lib/python3.6/site-packages/tensorflow/python/client/session.py\u001b[0m in \u001b[0;36m_do_call\u001b[0;34m(self, fn, *args)\u001b[0m\n\u001b[1;32m   1321\u001b[0m   \u001b[0;32mdef\u001b[0m \u001b[0m_do_call\u001b[0m\u001b[0;34m(\u001b[0m\u001b[0mself\u001b[0m\u001b[0;34m,\u001b[0m \u001b[0mfn\u001b[0m\u001b[0;34m,\u001b[0m \u001b[0;34m*\u001b[0m\u001b[0margs\u001b[0m\u001b[0;34m)\u001b[0m\u001b[0;34m:\u001b[0m\u001b[0;34m\u001b[0m\u001b[0m\n\u001b[1;32m   1322\u001b[0m     \u001b[0;32mtry\u001b[0m\u001b[0;34m:\u001b[0m\u001b[0;34m\u001b[0m\u001b[0m\n\u001b[0;32m-> 1323\u001b[0;31m       \u001b[0;32mreturn\u001b[0m \u001b[0mfn\u001b[0m\u001b[0;34m(\u001b[0m\u001b[0;34m*\u001b[0m\u001b[0margs\u001b[0m\u001b[0;34m)\u001b[0m\u001b[0;34m\u001b[0m\u001b[0m\n\u001b[0m\u001b[1;32m   1324\u001b[0m     \u001b[0;32mexcept\u001b[0m \u001b[0merrors\u001b[0m\u001b[0;34m.\u001b[0m\u001b[0mOpError\u001b[0m \u001b[0;32mas\u001b[0m \u001b[0me\u001b[0m\u001b[0;34m:\u001b[0m\u001b[0;34m\u001b[0m\u001b[0m\n\u001b[1;32m   1325\u001b[0m       \u001b[0mmessage\u001b[0m \u001b[0;34m=\u001b[0m \u001b[0mcompat\u001b[0m\u001b[0;34m.\u001b[0m\u001b[0mas_text\u001b[0m\u001b[0;34m(\u001b[0m\u001b[0me\u001b[0m\u001b[0;34m.\u001b[0m\u001b[0mmessage\u001b[0m\u001b[0;34m)\u001b[0m\u001b[0;34m\u001b[0m\u001b[0m\n",
      "\u001b[0;32m/Users/michael-tu/anaconda/lib/python3.6/site-packages/tensorflow/python/client/session.py\u001b[0m in \u001b[0;36m_run_fn\u001b[0;34m(session, feed_dict, fetch_list, target_list, options, run_metadata)\u001b[0m\n\u001b[1;32m   1300\u001b[0m           return tf_session.TF_Run(session, options,\n\u001b[1;32m   1301\u001b[0m                                    \u001b[0mfeed_dict\u001b[0m\u001b[0;34m,\u001b[0m \u001b[0mfetch_list\u001b[0m\u001b[0;34m,\u001b[0m \u001b[0mtarget_list\u001b[0m\u001b[0;34m,\u001b[0m\u001b[0;34m\u001b[0m\u001b[0m\n\u001b[0;32m-> 1302\u001b[0;31m                                    status, run_metadata)\n\u001b[0m\u001b[1;32m   1303\u001b[0m \u001b[0;34m\u001b[0m\u001b[0m\n\u001b[1;32m   1304\u001b[0m     \u001b[0;32mdef\u001b[0m \u001b[0m_prun_fn\u001b[0m\u001b[0;34m(\u001b[0m\u001b[0msession\u001b[0m\u001b[0;34m,\u001b[0m \u001b[0mhandle\u001b[0m\u001b[0;34m,\u001b[0m \u001b[0mfeed_dict\u001b[0m\u001b[0;34m,\u001b[0m \u001b[0mfetch_list\u001b[0m\u001b[0;34m)\u001b[0m\u001b[0;34m:\u001b[0m\u001b[0;34m\u001b[0m\u001b[0m\n",
      "\u001b[0;31mKeyboardInterrupt\u001b[0m: "
     ]
    }
   ],
   "source": [
    "train, test, original = build_data_from_path(\"../data/dataset_04/data/dataset_n25000_k40_e0.05.pkl\")\n",
    "X_train, y_train = train\n",
    "X_test, y_test = test\n",
    "X, y, y_oh, y_viterbi_decoded = original\n",
    "\n",
    "lr = 0.01\n",
    "model = Sequential()\n",
    "\n",
    "model.add(Embedding(2, 30))\n",
    "model.add(Dropout(0.5))\n",
    "\n",
    "model.add(LSTM(300, activation=\"tanh\", input_shape=X_train.shape[1:]))\n",
    "model.add(Dropout(0.5))\n",
    "\n",
    "model.add(Dense(600, activation=\"relu\"))\n",
    "model.add(Dropout(0.5))\n",
    "\n",
    "model.add(Dense(80, activation=\"sigmoid\"))\n",
    "model.add(Reshape((40,2)))\n",
    "\n",
    "opt = optimizers[\"adam\"](lr=lr)\n",
    "model.compile(optimizer=opt, loss=\"binary_crossentropy\", metrics=[\"accuracy\"])\n",
    "\n",
    "history = model.fit(X_train, y_train, epochs=35, batch_size=512, verbose=2,\n",
    "          shuffle=True, validation_split=0.2)\n",
    "\n",
    "plt.plot(history.history['loss'])\n",
    "plt.plot(history.history['val_loss'])\n",
    "plt.title('model loss')\n",
    "plt.ylabel('loss')\n",
    "plt.xlabel('epoch')\n",
    "plt.legend(['train', 'test'], loc='upper left')\n",
    "plt.show()\n",
    "\n",
    "print(model_accuracy(model, X, y, argmax=True))\n",
    "pred_vs_truth(model, X_test, y_test, n_show=5, y_truth_is_onehot=True)"
   ]
  },
  {
   "cell_type": "code",
   "execution_count": null,
   "metadata": {
    "collapsed": true
   },
   "outputs": [],
   "source": []
  }
 ],
 "metadata": {
  "kernelspec": {
   "display_name": "Python 3",
   "language": "python",
   "name": "python3"
  },
  "language_info": {
   "codemirror_mode": {
    "name": "ipython",
    "version": 3
   },
   "file_extension": ".py",
   "mimetype": "text/x-python",
   "name": "python",
   "nbconvert_exporter": "python",
   "pygments_lexer": "ipython3",
   "version": "3.6.4"
  }
 },
 "nbformat": 4,
 "nbformat_minor": 2
}
